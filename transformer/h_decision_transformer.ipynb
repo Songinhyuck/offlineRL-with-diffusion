{
 "cells": [
  {
   "cell_type": "code",
   "execution_count": 1,
   "metadata": {},
   "outputs": [
    {
     "name": "stderr",
     "output_type": "stream",
     "text": [
      "Warning: Flow failed to import. Set the environment variable D4RL_SUPPRESS_IMPORT_ERROR=1 to suppress this message.\n",
      "No module named 'flow'\n",
      "Warning: CARLA failed to import. Set the environment variable D4RL_SUPPRESS_IMPORT_ERROR=1 to suppress this message.\n",
      "No module named 'carla'\n"
     ]
    }
   ],
   "source": [
    "# import library\n",
    "\n",
    "import sys\n",
    "import os\n",
    "import d4rl\n",
    "import gym\n",
    "import numpy as np\n",
    "import wandb\n",
    "import collections\n",
    "import pickle\n",
    "import csv\n",
    "\n",
    "import torch\n",
    "import torch.nn as nn\n",
    "import torch.nn.functional as F\n",
    "\n",
    "from datetime import datetime\n",
    "from torch.utils.data import Dataset, DataLoader\n",
    "from tqdm import tqdm\n",
    "\n",
    "from utils import discount_cumsum, D4RLTrajectoryDataset, evaluate_on_env, get_d4rl_normalized_score\n",
    "from model import MaskedCausalAttention, Block, DecisionTransformer\n"
   ]
  },
  {
   "cell_type": "code",
   "execution_count": 2,
   "metadata": {},
   "outputs": [],
   "source": [
    "# set environment\n",
    "# sys.path.append(r'C:\\Develop\\offlineRL-with-diffusion') "
   ]
  },
  {
   "cell_type": "code",
   "execution_count": 3,
   "metadata": {},
   "outputs": [
    {
     "name": "stdout",
     "output_type": "stream",
     "text": [
      "mujoco-py check passed\n",
      "d4rl check passed\n"
     ]
    },
    {
     "name": "stderr",
     "output_type": "stream",
     "text": [
      "Warning: Flow failed to import. Set the environment variable D4RL_SUPPRESS_IMPORT_ERROR=1 to suppress this message.\n",
      "No module named 'flow'\n",
      "Warning: CARLA failed to import. Set the environment variable D4RL_SUPPRESS_IMPORT_ERROR=1 to suppress this message.\n",
      "No module named 'carla'\n",
      "pybullet build time: Apr 30 2024 12:01:25\n",
      "c:\\Users\\zkdlx\\miniconda3\\envs\\rl_diffusion\\lib\\site-packages\\gym\\spaces\\box.py:84: UserWarning: \u001b[33mWARN: Box bound precision lowered by casting to float32\u001b[0m\n",
      "  logger.warn(f\"Box bound precision lowered by casting to {self.dtype}\")\n"
     ]
    }
   ],
   "source": [
    "# test mujoco, d4rl\n",
    "\n",
    "!python ./test/mujoco_test.py"
   ]
  },
  {
   "cell_type": "code",
   "execution_count": 4,
   "metadata": {},
   "outputs": [],
   "source": [
    "# data download\n",
    "# if you downloaded, don't re-start.\n",
    "\n",
    "# !python ./data/download_d4rl_datasets.py\n"
   ]
  },
  {
   "cell_type": "code",
   "execution_count": 5,
   "metadata": {},
   "outputs": [],
   "source": [
    "# parameter setting\n",
    "\n",
    "env_name = 'halfcheetah'\n",
    "dataset = 'medium'\n",
    "\n",
    "if env_name == 'hopper':\n",
    "    env = gym.make('Hopper-v3')\n",
    "    max_ep_len = 1000\n",
    "    # env_targets = [3600, 1800]  # evaluation conditioning targets\n",
    "    # scale = 1000.  # normalization for rewards/returns\n",
    "elif env_name == 'halfcheetah':\n",
    "    env = gym.make('HalfCheetah-v3')\n",
    "    max_ep_len = 1000\n",
    "    # env_targets = [12000, 6000]\n",
    "    # scale = 1000.\n",
    "elif env_name == 'walker2d':\n",
    "    env = gym.make('Walker2d-v3')\n",
    "    max_ep_len = 1000\n",
    "    # env_targets = [5000, 2500]\n",
    "    # scale = 1000.\n",
    "\n",
    "DATA_PATH = f'data/train/{env_name}-{dataset}-v2.pkl'\n",
    "VAL_DATA_PATH = f'data/val/val_{env_name}-{dataset}-v2.pkl'\n",
    "TEMP_DATA_PATH = f'data/temp/{env_name}-{dataset}-v2.pkl'\n",
    "LOG_PATH = \"./log/\"\n",
    "DEVICE = 'cpu'"
   ]
  },
  {
   "cell_type": "code",
   "execution_count": 6,
   "metadata": {},
   "outputs": [
    {
     "name": "stderr",
     "output_type": "stream",
     "text": [
      "c:\\Users\\zkdlx\\miniconda3\\envs\\rl_diffusion\\lib\\site-packages\\gym\\spaces\\box.py:84: UserWarning: \u001b[33mWARN: Box bound precision lowered by casting to float32\u001b[0m\n",
      "  logger.warn(f\"Box bound precision lowered by casting to {self.dtype}\")\n",
      "load datafile: 100%|██████████| 21/21 [00:02<00:00,  7.50it/s]\n"
     ]
    }
   ],
   "source": [
    "# env dataset check\n",
    "env = gym.make('halfcheetah-medium-v2')\n",
    "dataset = env.get_dataset()\n",
    "\n",
    "# print(dataset['observations'][1]) # trajectory 단위로 뽑힘.\n"
   ]
  },
  {
   "cell_type": "code",
   "execution_count": 7,
   "metadata": {},
   "outputs": [
    {
     "name": "stdout",
     "output_type": "stream",
     "text": [
      "state shape:  (1000000, 17)\n",
      "action shape:  (1000000, 6)\n",
      "reward shape:  (1000000,)\n",
      "N:  1000000\n",
      "train_size:  800000\n"
     ]
    }
   ],
   "source": [
    "print(\"state shape: \", dataset['observations'].shape)\n",
    "print(\"action shape: \", dataset['actions'].shape)\n",
    "print(\"reward shape: \", dataset['rewards'].shape)\n",
    "print(\"N: \", dataset['rewards'].shape[0])\n",
    "print(\"train_size: \", int(0.8 * dataset['rewards'].shape[0]))\n"
   ]
  },
  {
   "cell_type": "code",
   "execution_count": 8,
   "metadata": {},
   "outputs": [
    {
     "name": "stdout",
     "output_type": "stream",
     "text": [
      "state:  [[ 1.9831914e-02 -8.9501314e-02 -3.1969063e-03 ...  1.1365079e-01\n",
      "   6.8424918e-02 -1.3811582e-01]\n",
      " [-3.8486063e-03 -5.2394319e-02  8.3050327e-03 ...  4.5068407e+00\n",
      "  -9.2885571e+00  4.7328596e+00]\n",
      " [-5.5298433e-02 -7.7850236e-05 -2.3952831e-01 ... -7.0811687e+00\n",
      "  -1.4037068e+00  7.5524049e+00]\n",
      " ...\n",
      " [-3.1975684e-01  5.3305399e-01 -4.8704177e-01 ...  1.5455554e+00\n",
      "   2.6812897e+00  8.7905388e+00]\n",
      " [-3.2200974e-01  3.5745117e-01  1.0463273e-02 ... -6.3428599e-01\n",
      "   1.6292539e+00  9.7356015e-01]\n",
      " [-3.0673215e-01  1.9843711e-01  6.9996923e-01 ...  5.0098950e-01\n",
      "   1.5680059e+00  9.4733723e-02]] \n",
      "\n",
      "state:  [[ 4.7026437e-02 -2.1588113e-02  4.9151547e-02 ...  5.5219561e-02\n",
      "  -1.5351681e-01 -4.6239123e-02]\n",
      " [ 4.1392505e-02  5.3802542e-02 -1.5022255e-01 ...  6.1133021e-01\n",
      "  -7.4645710e+00  7.9509692e+00]\n",
      " [ 9.8547200e-04  8.8533267e-02 -4.3876743e-01 ...  8.5824745e-04\n",
      "   5.9796906e+00  4.9521341e+00]\n",
      " ...\n",
      " [-1.4081973e-01 -7.7957302e-02 -2.6429656e-01 ...  1.0316861e+00\n",
      "  -7.5645506e-01 -6.3285580e+00]\n",
      " [-6.0340445e-02 -4.2597357e-02  1.1770165e-01 ... -1.8022682e+01\n",
      "  -2.8895503e-01 -8.5740490e+00]\n",
      " [-3.9826483e-02  8.9701705e-02  4.8491257e-01 ... -1.5949978e+01\n",
      "  -4.2975497e+00  3.4759271e-01]] \n",
      "\n",
      "state:  [[ 5.0221119e-02 -2.4338657e-02 -5.4945849e-02 ... -1.4283662e-01\n",
      "  -1.2819463e-01 -1.4791407e-01]\n",
      " [ 3.4841169e-02  2.6000816e-02 -2.3993976e-01 ... -2.5026150e+00\n",
      "  -9.1679888e+00  6.2272105e+00]\n",
      " [-2.2413606e-02  5.1811527e-02 -5.4271245e-01 ... -5.9999785e+00\n",
      "  -6.6550332e-01 -2.4636595e-01]\n",
      " ...\n",
      " [-4.4023961e-02 -2.5939721e-01 -7.0705950e-02 ... -1.8107307e+01\n",
      "  -4.7313199e+00 -4.8486176e+00]\n",
      " [-1.7510138e-02 -2.1372417e-01  2.7898479e-02 ...  2.9009397e+00\n",
      "  -2.2113817e+00 -5.9028540e+00]\n",
      " [ 4.7847845e-02 -1.5627538e-01 -1.8005599e-01 ...  9.9821644e+00\n",
      "  -5.1808944e+00  1.1870988e+01]] \n",
      "\n"
     ]
    }
   ],
   "source": [
    "# data check\n",
    "# check three trajectories\n",
    "\n",
    "with open(DATA_PATH, 'rb') as f:\n",
    "    trajectories = pickle.load(f)\n",
    "n=0\n",
    "max_rewards_list = []\n",
    "for traj in trajectories:\n",
    "    # print(f\"{n+1}번째 trajectory\")\n",
    "    # print(\"traj: \", traj)\n",
    "    print(\"state: \", traj['observations'], \"\\n\")\n",
    "    # print(\"action: \", traj['actions'], \"\\n\")\n",
    "    # print(\"next_state: \", traj['next_observations'], \"\\n\")\n",
    "    # print(\"reward: \", traj['rewards'], \"\\n\")\n",
    "    # print(\"max_rewards: \", max(traj['rewards']))\n",
    "    # max_rewards_list.append(max(traj['rewards']))\n",
    "    # print(\"\")\n",
    "    n+=1\n",
    "    \n",
    "# print(max(max_rewards_list))\n",
    "\n",
    "    if n==3:\n",
    "        break"
   ]
  },
  {
   "cell_type": "code",
   "execution_count": 9,
   "metadata": {},
   "outputs": [
    {
     "name": "stdout",
     "output_type": "stream",
     "text": [
      "length:  1000000\n",
      "n of epi:  1000\n",
      "n of traj in one epi:  1000\n"
     ]
    }
   ],
   "source": [
    "# check original data shape\n",
    "with open(TEMP_DATA_PATH, 'rb') as f:\n",
    "    temp_trajectories = pickle.load(f)\n",
    "    \n",
    "print(\"length: \", len(temp_trajectories)*len(temp_trajectories[0]['observations']))\n",
    "print(\"n of epi: \", len(temp_trajectories))\n",
    "print(\"n of traj in one epi: \", len(temp_trajectories[0]['observations']))"
   ]
  },
  {
   "cell_type": "code",
   "execution_count": 10,
   "metadata": {},
   "outputs": [
    {
     "name": "stdout",
     "output_type": "stream",
     "text": [
      "length:  950000\n",
      "n of epi:  950\n",
      "n of traj in one epi:  1000\n"
     ]
    }
   ],
   "source": [
    "# check train data shape\n",
    "with open(DATA_PATH, 'rb') as f:\n",
    "    train_trajectories = pickle.load(f)\n",
    "\n",
    "print(\"length: \", len(train_trajectories)*len(train_trajectories[0]['observations']))\n",
    "print(\"n of epi: \", len(train_trajectories))\n",
    "print(\"n of traj in one epi: \", len(train_trajectories[0]['observations']))\n",
    "# print(\"train state shape: \", train_trajectories['observations'].shape)\n",
    "# print(\"train action shape: \", train_trajectories['actions'].shape)\n",
    "# print(\"train reward shape: \", train_trajectories['rewards'].shape)\n"
   ]
  },
  {
   "cell_type": "code",
   "execution_count": 11,
   "metadata": {},
   "outputs": [
    {
     "name": "stdout",
     "output_type": "stream",
     "text": [
      "length:  50000\n",
      "n of epi:  50\n",
      "n of traj in one epi:  1000\n"
     ]
    }
   ],
   "source": [
    "# check valid data shape\n",
    "with open(VAL_DATA_PATH, 'rb') as f:\n",
    "    val_trajectories = pickle.load(f)\n",
    "\n",
    "print(\"length: \", len(val_trajectories)*len(val_trajectories[0]['observations']))\n",
    "print(\"n of epi: \", len(val_trajectories))\n",
    "print(\"n of traj in one epi: \", len(val_trajectories[0]['observations']))\n",
    "# print(\"val state shape: \", val_trajectories['observations'].shape)\n",
    "# print(\"val action shape: \", val_trajectories['actions'].shape)\n",
    "# print(\"val reward shape: \", val_trajectories['rewards'].shape)"
   ]
  },
  {
   "cell_type": "code",
   "execution_count": 20,
   "metadata": {},
   "outputs": [],
   "source": [
    "# train parameter\n",
    "batch_size = 32\n",
    "embed_dim = 128\n",
    "activation = 'relu'\n",
    "drop_out = 0.1\n",
    "k = 20\n",
    "n_blocks = 3    \n",
    "n_heads = 1 # transformer head\n",
    "\n",
    "# total updates = max_train_iters x num_updates_per_iter\n",
    "max_train_iters = 200\n",
    "num_updates_per_iter = 100\n",
    "num_val_iter = 100\n",
    "total_updates = 0\n",
    "min_total_loss = 1e10\n",
    "\n",
    "wt_decay = 1e-4             # weight decay\n",
    "lr = 1e-4                   # learning rate\n",
    "warmup_steps = 10000        # warmup steps for lr scheduler\n",
    "\n",
    "# weight of mse loss\n",
    "state_weight = 1\n",
    "reward_weight = 1\n",
    "\n",
    "# evaluation parameter\n",
    "# max_eval_ep_len = 1000      # max len of one evaluation episode\n",
    "# num_eval_ep = 10            # num of evaluation episodes per iteration"
   ]
  },
  {
   "cell_type": "code",
   "execution_count": 21,
   "metadata": {},
   "outputs": [
    {
     "name": "stdout",
     "output_type": "stream",
     "text": [
      "state dim:  17\n",
      "action dim:  6\n"
     ]
    }
   ],
   "source": [
    "# check dim\n",
    "\n",
    "state_dim = env.observation_space.shape[0]\n",
    "act_dim = env.action_space.shape[0]\n",
    "\n",
    "print(\"state dim: \", state_dim)\n",
    "print(\"action dim: \", act_dim)"
   ]
  },
  {
   "cell_type": "code",
   "execution_count": 22,
   "metadata": {},
   "outputs": [
    {
     "name": "stdout",
     "output_type": "stream",
     "text": [
      "timesteps shape:  torch.Size([32, 2])\n",
      "rewards shape:  torch.Size([32, 2, 1])\n",
      "states shape:  torch.Size([32, 2, 17])\n",
      "actions shape:  torch.Size([32, 2, 6])\n"
     ]
    }
   ],
   "source": [
    "# test data\n",
    "temp_dataset = D4RLTrajectoryDataset(DATA_PATH, 2)\n",
    "temp_data_loader = DataLoader(temp_dataset,\n",
    "\t\t\t\t\t\tbatch_size=32,\n",
    "\t\t\t\t\t\tshuffle=True,\n",
    "\t\t\t\t\t\tpin_memory=True,\n",
    "\t\t\t\t\t\tdrop_last=True)\n",
    "                        \n",
    "temp_data_iter = iter(temp_data_loader)\n",
    "\n",
    "timesteps, states, next_states, actions, rewards, traj_mask = next(temp_data_iter)\n",
    "\n",
    "timesteps = timesteps.to(DEVICE)\t# B x T\n",
    "states = states.to(DEVICE)\t\t\t# B x T x state_dim\n",
    "next_states = next_states.to(DEVICE) # B X T X state_dim\n",
    "actions = actions.to(DEVICE)\t\t# B x T x act_dim\n",
    "rewards = rewards.to(DEVICE).unsqueeze(dim=-1) # B x T x 1\n",
    "\n",
    "print(\"timesteps shape: \", timesteps.shape)\n",
    "print(\"rewards shape: \", rewards.shape)\n",
    "print(\"states shape: \", states.shape)\n",
    "print(\"actions shape: \", actions.shape)\n",
    "\n",
    "# print(\"state: \", states)\n",
    "# print(\"action: \", actions)\n",
    "# print(\"rewards: \", rewards)\n",
    "\n"
   ]
  },
  {
   "cell_type": "code",
   "execution_count": 23,
   "metadata": {},
   "outputs": [],
   "source": [
    "# test model\n",
    "\n",
    "temp_model = DecisionTransformer(\n",
    "\t\t\tstate_dim=state_dim,\n",
    "\t\t\tact_dim=act_dim,\n",
    "\t\t\t# reward 포함 + r0 제외\n",
    "\t\t\tn_blocks=n_blocks,\n",
    "\t\t\th_dim=16,\n",
    "\t\t\tcontext_len=2,\n",
    "\t\t\tn_heads=n_heads,\n",
    "\t\t\tdrop_p=drop_out,\n",
    "\t\t).to(DEVICE)\n",
    "\t\t\n",
    "next_state_preds, rewards_preds = temp_model.forward(\n",
    "\t\t\t\t\t\t\t\t\t\t\t\trewards=rewards,\n",
    "\t\t\t\t\t\t\t\t\t\t\t\ttimesteps=timesteps,\n",
    "\t\t\t\t\t\t\t\t\t\t\t\tstates=states,\n",
    "\t\t\t\t\t\t\t\t\t\t\t\tactions=actions,\n",
    "\t\t\t\t\t\t\t\t\t\t\t)"
   ]
  },
  {
   "cell_type": "code",
   "execution_count": 24,
   "metadata": {},
   "outputs": [],
   "source": [
    "# load train preprocessing(normalization, fit padding) data\n",
    "\n",
    "traj_dataset = D4RLTrajectoryDataset(DATA_PATH, k)\n",
    "traj_data_loader = DataLoader(traj_dataset,\n",
    "\t\t\t\t\t\tbatch_size=batch_size,\n",
    "\t\t\t\t\t\tshuffle=True,\n",
    "\t\t\t\t\t\tpin_memory=True,\n",
    "\t\t\t\t\t\tdrop_last=True)\n",
    "                        \n",
    "data_iter = iter(traj_data_loader)\n",
    "\n",
    "## get state stats from dataset\n",
    "state_mean, state_std = traj_dataset.get_state_stats()"
   ]
  },
  {
   "cell_type": "code",
   "execution_count": 25,
   "metadata": {},
   "outputs": [],
   "source": [
    "# load validate preprocessing(normalization, fit padding) data\n",
    "\n",
    "val_traj_dataset = D4RLTrajectoryDataset(DATA_PATH, k, val=True, val_dataset_path=VAL_DATA_PATH)\n",
    "val_traj_data_loader = DataLoader(val_traj_dataset,\n",
    "\t\t\t\t\t\tbatch_size=batch_size,\n",
    "\t\t\t\t\t\tshuffle=True,\n",
    "\t\t\t\t\t\tpin_memory=True,\n",
    "\t\t\t\t\t\tdrop_last=True)\n",
    "                        \n",
    "val_data_iter = iter(val_traj_data_loader)\n"
   ]
  },
  {
   "cell_type": "code",
   "execution_count": 26,
   "metadata": {},
   "outputs": [],
   "source": [
    "# define model\n",
    "\n",
    "model = DecisionTransformer(\n",
    "\t\t\tstate_dim=state_dim,\n",
    "\t\t\tact_dim=act_dim,\n",
    "\t\t\tn_blocks=n_blocks,\n",
    "\t\t\th_dim=embed_dim,\n",
    "\t\t\tcontext_len=k,\n",
    "\t\t\tn_heads=n_heads,\n",
    "\t\t\tdrop_p=drop_out,\n",
    "\t\t).to(DEVICE)\n",
    "  \n",
    "optimizer = torch.optim.AdamW(\n",
    "\t\t\t\t\tmodel.parameters(), \n",
    "\t\t\t\t\tlr=lr, \n",
    "\t\t\t\t\tweight_decay=wt_decay\n",
    "\t\t\t\t)\n",
    "\n",
    "scheduler = torch.optim.lr_scheduler.LambdaLR(\n",
    "\t\toptimizer,\n",
    "\t\tlambda steps: min((steps+1)/warmup_steps, 1)\n",
    "\t)\n",
    "\t\n"
   ]
  },
  {
   "cell_type": "code",
   "execution_count": 27,
   "metadata": {},
   "outputs": [
    {
     "name": "stdout",
     "output_type": "stream",
     "text": [
      "============================================================\n",
      "start time: 24-05-08-16-16-00\n",
      "============================================================\n",
      "device set to: cpu\n",
      "dataset path: data/train/halfcheetah-medium-v2.pkl\n",
      "model save path: ./log/dt_halfcheetah_model_24-05-08-16-16-00.pt\n",
      "log csv save path: ./log/dt_halfcheetah_log_24-05-08-16-16-00.csv\n"
     ]
    },
    {
     "name": "stderr",
     "output_type": "stream",
     "text": [
      "  0%|          | 1/200 [00:17<57:39, 17.38s/it]"
     ]
    },
    {
     "name": "stdout",
     "output_type": "stream",
     "text": [
      "============================================================\n",
      "time elapsed: 0:00:18\n",
      "num of updates: 100\n",
      "train total loss: 2.37590\n",
      "train state loss: 1.31804\n",
      "train reward loss: 1.05786\n",
      "val total loss: 2.50211\n",
      "val state loss: 1.34479\n",
      "val reward loss: 1.15732\n",
      "saving min loss model at: ./log/dt_halfcheetah_model_24-05-08-16-16-00_best.pt\n",
      "saving current model at: ./log/dt_halfcheetah_model_24-05-08-16-16-00.pt\n"
     ]
    },
    {
     "name": "stderr",
     "output_type": "stream",
     "text": [
      "  1%|          | 2/200 [00:32<52:01, 15.76s/it]"
     ]
    },
    {
     "name": "stdout",
     "output_type": "stream",
     "text": [
      "============================================================\n",
      "time elapsed: 0:00:32\n",
      "num of updates: 200\n",
      "train total loss: 2.42065\n",
      "train state loss: 1.31751\n",
      "train reward loss: 1.10314\n",
      "val total loss: 2.43323\n",
      "val state loss: 1.31195\n",
      "val reward loss: 1.12128\n",
      "saving min loss model at: ./log/dt_halfcheetah_model_24-05-08-16-16-00_best.pt\n",
      "saving current model at: ./log/dt_halfcheetah_model_24-05-08-16-16-00.pt\n"
     ]
    },
    {
     "name": "stderr",
     "output_type": "stream",
     "text": [
      "  2%|▏         | 3/200 [00:46<50:03, 15.25s/it]"
     ]
    },
    {
     "name": "stdout",
     "output_type": "stream",
     "text": [
      "============================================================\n",
      "time elapsed: 0:00:47\n",
      "num of updates: 300\n",
      "train total loss: 2.24365\n",
      "train state loss: 1.26805\n",
      "train reward loss: 0.97560\n",
      "val total loss: 2.16872\n",
      "val state loss: 1.23280\n",
      "val reward loss: 0.93592\n",
      "saving min loss model at: ./log/dt_halfcheetah_model_24-05-08-16-16-00_best.pt\n",
      "saving current model at: ./log/dt_halfcheetah_model_24-05-08-16-16-00.pt\n"
     ]
    },
    {
     "name": "stderr",
     "output_type": "stream",
     "text": [
      "  2%|▏         | 4/200 [01:02<50:28, 15.45s/it]"
     ]
    },
    {
     "name": "stdout",
     "output_type": "stream",
     "text": [
      "============================================================\n",
      "time elapsed: 0:01:03\n",
      "num of updates: 400\n",
      "train total loss: 2.10258\n",
      "train state loss: 1.22623\n",
      "train reward loss: 0.87635\n",
      "val total loss: 2.10883\n",
      "val state loss: 1.21988\n",
      "val reward loss: 0.88895\n",
      "saving min loss model at: ./log/dt_halfcheetah_model_24-05-08-16-16-00_best.pt\n",
      "saving current model at: ./log/dt_halfcheetah_model_24-05-08-16-16-00.pt\n"
     ]
    },
    {
     "name": "stderr",
     "output_type": "stream",
     "text": [
      "  2%|▎         | 5/200 [01:17<49:35, 15.26s/it]"
     ]
    },
    {
     "name": "stdout",
     "output_type": "stream",
     "text": [
      "============================================================\n",
      "time elapsed: 0:01:18\n",
      "num of updates: 500\n",
      "train total loss: 2.00585\n",
      "train state loss: 1.20634\n",
      "train reward loss: 0.79951\n",
      "val total loss: 1.89001\n",
      "val state loss: 1.18378\n",
      "val reward loss: 0.70623\n",
      "saving min loss model at: ./log/dt_halfcheetah_model_24-05-08-16-16-00_best.pt\n",
      "saving current model at: ./log/dt_halfcheetah_model_24-05-08-16-16-00.pt\n"
     ]
    },
    {
     "name": "stderr",
     "output_type": "stream",
     "text": [
      "  3%|▎         | 6/200 [01:32<49:45, 15.39s/it]"
     ]
    },
    {
     "name": "stdout",
     "output_type": "stream",
     "text": [
      "============================================================\n",
      "time elapsed: 0:01:33\n",
      "num of updates: 600\n",
      "train total loss: 1.76777\n",
      "train state loss: 1.13463\n",
      "train reward loss: 0.63313\n",
      "val total loss: 1.65825\n",
      "val state loss: 1.12216\n",
      "val reward loss: 0.53609\n",
      "saving min loss model at: ./log/dt_halfcheetah_model_24-05-08-16-16-00_best.pt\n",
      "saving current model at: ./log/dt_halfcheetah_model_24-05-08-16-16-00.pt\n"
     ]
    },
    {
     "name": "stderr",
     "output_type": "stream",
     "text": [
      "  4%|▎         | 7/200 [01:47<48:18, 15.02s/it]"
     ]
    },
    {
     "name": "stdout",
     "output_type": "stream",
     "text": [
      "============================================================\n",
      "time elapsed: 0:01:48\n",
      "num of updates: 700\n",
      "train total loss: 1.60868\n",
      "train state loss: 1.11479\n",
      "train reward loss: 0.49389\n",
      "val total loss: 1.55150\n",
      "val state loss: 1.10777\n",
      "val reward loss: 0.44373\n",
      "saving min loss model at: ./log/dt_halfcheetah_model_24-05-08-16-16-00_best.pt\n",
      "saving current model at: ./log/dt_halfcheetah_model_24-05-08-16-16-00.pt\n"
     ]
    },
    {
     "name": "stderr",
     "output_type": "stream",
     "text": [
      "  4%|▍         | 8/200 [02:04<50:41, 15.84s/it]"
     ]
    },
    {
     "name": "stdout",
     "output_type": "stream",
     "text": [
      "============================================================\n",
      "time elapsed: 0:02:05\n",
      "num of updates: 800\n",
      "train total loss: 1.45833\n",
      "train state loss: 1.04708\n",
      "train reward loss: 0.41126\n",
      "val total loss: 1.43258\n",
      "val state loss: 1.05632\n",
      "val reward loss: 0.37625\n",
      "saving min loss model at: ./log/dt_halfcheetah_model_24-05-08-16-16-00_best.pt\n",
      "saving current model at: ./log/dt_halfcheetah_model_24-05-08-16-16-00.pt\n"
     ]
    },
    {
     "name": "stderr",
     "output_type": "stream",
     "text": [
      "  4%|▍         | 9/200 [02:19<49:30, 15.55s/it]"
     ]
    },
    {
     "name": "stdout",
     "output_type": "stream",
     "text": [
      "============================================================\n",
      "time elapsed: 0:02:20\n",
      "num of updates: 900\n",
      "train total loss: 1.43920\n",
      "train state loss: 1.04658\n",
      "train reward loss: 0.39262\n",
      "val total loss: 1.33043\n",
      "val state loss: 1.00733\n",
      "val reward loss: 0.32310\n",
      "saving min loss model at: ./log/dt_halfcheetah_model_24-05-08-16-16-00_best.pt\n",
      "saving current model at: ./log/dt_halfcheetah_model_24-05-08-16-16-00.pt\n"
     ]
    },
    {
     "name": "stderr",
     "output_type": "stream",
     "text": [
      "  5%|▌         | 10/200 [02:35<49:04, 15.50s/it]"
     ]
    },
    {
     "name": "stdout",
     "output_type": "stream",
     "text": [
      "============================================================\n",
      "time elapsed: 0:02:35\n",
      "num of updates: 1000\n",
      "train total loss: 1.37597\n",
      "train state loss: 1.01877\n",
      "train reward loss: 0.35720\n",
      "val total loss: 1.29461\n",
      "val state loss: 0.99421\n",
      "val reward loss: 0.30040\n",
      "saving min loss model at: ./log/dt_halfcheetah_model_24-05-08-16-16-00_best.pt\n",
      "saving current model at: ./log/dt_halfcheetah_model_24-05-08-16-16-00.pt\n"
     ]
    },
    {
     "name": "stderr",
     "output_type": "stream",
     "text": [
      "  6%|▌         | 11/200 [02:50<48:25, 15.38s/it]"
     ]
    },
    {
     "name": "stdout",
     "output_type": "stream",
     "text": [
      "============================================================\n",
      "time elapsed: 0:02:51\n",
      "num of updates: 1100\n",
      "train total loss: 1.32067\n",
      "train state loss: 0.99246\n",
      "train reward loss: 0.32821\n",
      "val total loss: 1.23268\n",
      "val state loss: 0.96469\n",
      "val reward loss: 0.26799\n",
      "saving min loss model at: ./log/dt_halfcheetah_model_24-05-08-16-16-00_best.pt\n",
      "saving current model at: ./log/dt_halfcheetah_model_24-05-08-16-16-00.pt\n"
     ]
    },
    {
     "name": "stderr",
     "output_type": "stream",
     "text": [
      "  6%|▌         | 12/200 [03:05<48:14, 15.40s/it]"
     ]
    },
    {
     "name": "stdout",
     "output_type": "stream",
     "text": [
      "============================================================\n",
      "time elapsed: 0:03:06\n",
      "num of updates: 1200\n",
      "train total loss: 1.31199\n",
      "train state loss: 0.99349\n",
      "train reward loss: 0.31851\n",
      "val total loss: 1.20510\n",
      "val state loss: 0.95332\n",
      "val reward loss: 0.25178\n",
      "saving min loss model at: ./log/dt_halfcheetah_model_24-05-08-16-16-00_best.pt\n",
      "saving current model at: ./log/dt_halfcheetah_model_24-05-08-16-16-00.pt\n"
     ]
    },
    {
     "name": "stderr",
     "output_type": "stream",
     "text": [
      "  6%|▋         | 13/200 [03:19<46:55, 15.06s/it]"
     ]
    },
    {
     "name": "stdout",
     "output_type": "stream",
     "text": [
      "============================================================\n",
      "time elapsed: 0:03:20\n",
      "num of updates: 1300\n",
      "train total loss: 1.24791\n",
      "train state loss: 0.95451\n",
      "train reward loss: 0.29340\n",
      "val total loss: 1.18397\n",
      "val state loss: 0.94087\n",
      "val reward loss: 0.24309\n",
      "saving min loss model at: ./log/dt_halfcheetah_model_24-05-08-16-16-00_best.pt\n",
      "saving current model at: ./log/dt_halfcheetah_model_24-05-08-16-16-00.pt\n"
     ]
    },
    {
     "name": "stderr",
     "output_type": "stream",
     "text": [
      "  7%|▋         | 14/200 [03:34<45:46, 14.77s/it]"
     ]
    },
    {
     "name": "stdout",
     "output_type": "stream",
     "text": [
      "============================================================\n",
      "time elapsed: 0:03:34\n",
      "num of updates: 1400\n",
      "train total loss: 1.24942\n",
      "train state loss: 0.96284\n",
      "train reward loss: 0.28657\n",
      "val total loss: 1.14061\n",
      "val state loss: 0.92338\n",
      "val reward loss: 0.21723\n",
      "saving min loss model at: ./log/dt_halfcheetah_model_24-05-08-16-16-00_best.pt\n",
      "saving current model at: ./log/dt_halfcheetah_model_24-05-08-16-16-00.pt\n"
     ]
    },
    {
     "name": "stderr",
     "output_type": "stream",
     "text": [
      "  8%|▊         | 15/200 [03:48<45:06, 14.63s/it]"
     ]
    },
    {
     "name": "stdout",
     "output_type": "stream",
     "text": [
      "============================================================\n",
      "time elapsed: 0:03:49\n",
      "num of updates: 1500\n",
      "train total loss: 1.22657\n",
      "train state loss: 0.95535\n",
      "train reward loss: 0.27123\n",
      "val total loss: 1.13946\n",
      "val state loss: 0.91936\n",
      "val reward loss: 0.22010\n",
      "saving min loss model at: ./log/dt_halfcheetah_model_24-05-08-16-16-00_best.pt\n",
      "saving current model at: ./log/dt_halfcheetah_model_24-05-08-16-16-00.pt\n"
     ]
    },
    {
     "name": "stderr",
     "output_type": "stream",
     "text": [
      "  8%|▊         | 16/200 [04:03<45:27, 14.82s/it]"
     ]
    },
    {
     "name": "stdout",
     "output_type": "stream",
     "text": [
      "============================================================\n",
      "time elapsed: 0:04:04\n",
      "num of updates: 1600\n",
      "train total loss: 1.20720\n",
      "train state loss: 0.94636\n",
      "train reward loss: 0.26084\n",
      "val total loss: 1.11925\n",
      "val state loss: 0.91632\n",
      "val reward loss: 0.20293\n",
      "saving min loss model at: ./log/dt_halfcheetah_model_24-05-08-16-16-00_best.pt\n",
      "saving current model at: ./log/dt_halfcheetah_model_24-05-08-16-16-00.pt\n"
     ]
    },
    {
     "name": "stderr",
     "output_type": "stream",
     "text": [
      "  8%|▊         | 17/200 [04:17<44:35, 14.62s/it]"
     ]
    },
    {
     "name": "stdout",
     "output_type": "stream",
     "text": [
      "============================================================\n",
      "time elapsed: 0:04:18\n",
      "num of updates: 1700\n",
      "train total loss: 1.19150\n",
      "train state loss: 0.94076\n",
      "train reward loss: 0.25074\n",
      "val total loss: 1.10733\n",
      "val state loss: 0.91142\n",
      "val reward loss: 0.19590\n",
      "saving min loss model at: ./log/dt_halfcheetah_model_24-05-08-16-16-00_best.pt\n",
      "saving current model at: ./log/dt_halfcheetah_model_24-05-08-16-16-00.pt\n"
     ]
    },
    {
     "name": "stderr",
     "output_type": "stream",
     "text": [
      "  9%|▉         | 18/200 [04:32<44:24, 14.64s/it]"
     ]
    },
    {
     "name": "stdout",
     "output_type": "stream",
     "text": [
      "============================================================\n",
      "time elapsed: 0:04:33\n",
      "num of updates: 1800\n",
      "train total loss: 1.17209\n",
      "train state loss: 0.93316\n",
      "train reward loss: 0.23893\n",
      "val total loss: 1.08347\n",
      "val state loss: 0.90015\n",
      "val reward loss: 0.18332\n",
      "saving min loss model at: ./log/dt_halfcheetah_model_24-05-08-16-16-00_best.pt\n",
      "saving current model at: ./log/dt_halfcheetah_model_24-05-08-16-16-00.pt\n"
     ]
    },
    {
     "name": "stderr",
     "output_type": "stream",
     "text": [
      " 10%|▉         | 19/200 [04:55<51:20, 17.02s/it]"
     ]
    },
    {
     "name": "stdout",
     "output_type": "stream",
     "text": [
      "============================================================\n",
      "time elapsed: 0:04:55\n",
      "num of updates: 1900\n",
      "train total loss: 1.14555\n",
      "train state loss: 0.91943\n",
      "train reward loss: 0.22612\n",
      "val total loss: 1.07413\n",
      "val state loss: 0.89329\n",
      "val reward loss: 0.18084\n",
      "saving min loss model at: ./log/dt_halfcheetah_model_24-05-08-16-16-00_best.pt\n",
      "saving current model at: ./log/dt_halfcheetah_model_24-05-08-16-16-00.pt\n"
     ]
    },
    {
     "name": "stderr",
     "output_type": "stream",
     "text": [
      " 10%|█         | 20/200 [05:10<49:54, 16.64s/it]"
     ]
    },
    {
     "name": "stdout",
     "output_type": "stream",
     "text": [
      "============================================================\n",
      "time elapsed: 0:05:11\n",
      "num of updates: 2000\n",
      "train total loss: 1.14481\n",
      "train state loss: 0.92275\n",
      "train reward loss: 0.22207\n",
      "val total loss: 1.05430\n",
      "val state loss: 0.88772\n",
      "val reward loss: 0.16658\n",
      "saving min loss model at: ./log/dt_halfcheetah_model_24-05-08-16-16-00_best.pt\n",
      "saving current model at: ./log/dt_halfcheetah_model_24-05-08-16-16-00.pt\n"
     ]
    },
    {
     "name": "stderr",
     "output_type": "stream",
     "text": [
      " 10%|█         | 21/200 [05:25<47:32, 15.93s/it]"
     ]
    },
    {
     "name": "stdout",
     "output_type": "stream",
     "text": [
      "============================================================\n",
      "time elapsed: 0:05:25\n",
      "num of updates: 2100\n",
      "train total loss: 1.12256\n",
      "train state loss: 0.91180\n",
      "train reward loss: 0.21076\n",
      "val total loss: 1.04273\n",
      "val state loss: 0.88076\n",
      "val reward loss: 0.16197\n",
      "saving min loss model at: ./log/dt_halfcheetah_model_24-05-08-16-16-00_best.pt\n",
      "saving current model at: ./log/dt_halfcheetah_model_24-05-08-16-16-00.pt\n"
     ]
    },
    {
     "name": "stderr",
     "output_type": "stream",
     "text": [
      " 11%|█         | 22/200 [05:38<45:19, 15.28s/it]"
     ]
    },
    {
     "name": "stdout",
     "output_type": "stream",
     "text": [
      "============================================================\n",
      "time elapsed: 0:05:39\n",
      "num of updates: 2200\n",
      "train total loss: 1.11023\n",
      "train state loss: 0.90619\n",
      "train reward loss: 0.20404\n",
      "val total loss: 1.02684\n",
      "val state loss: 0.86985\n",
      "val reward loss: 0.15699\n",
      "saving min loss model at: ./log/dt_halfcheetah_model_24-05-08-16-16-00_best.pt\n",
      "saving current model at: ./log/dt_halfcheetah_model_24-05-08-16-16-00.pt\n"
     ]
    },
    {
     "name": "stderr",
     "output_type": "stream",
     "text": [
      " 12%|█▏        | 23/200 [05:52<43:51, 14.87s/it]"
     ]
    },
    {
     "name": "stdout",
     "output_type": "stream",
     "text": [
      "============================================================\n",
      "time elapsed: 0:05:53\n",
      "num of updates: 2300\n",
      "train total loss: 1.08360\n",
      "train state loss: 0.89436\n",
      "train reward loss: 0.18924\n",
      "val total loss: 1.00559\n",
      "val state loss: 0.85603\n",
      "val reward loss: 0.14955\n",
      "saving min loss model at: ./log/dt_halfcheetah_model_24-05-08-16-16-00_best.pt\n",
      "saving current model at: ./log/dt_halfcheetah_model_24-05-08-16-16-00.pt\n"
     ]
    },
    {
     "name": "stderr",
     "output_type": "stream",
     "text": [
      " 12%|█▏        | 24/200 [06:06<42:37, 14.53s/it]"
     ]
    },
    {
     "name": "stdout",
     "output_type": "stream",
     "text": [
      "============================================================\n",
      "time elapsed: 0:06:07\n",
      "num of updates: 2400\n",
      "train total loss: 1.09062\n",
      "train state loss: 0.90306\n",
      "train reward loss: 0.18755\n",
      "val total loss: 0.99051\n",
      "val state loss: 0.85023\n",
      "val reward loss: 0.14028\n",
      "saving min loss model at: ./log/dt_halfcheetah_model_24-05-08-16-16-00_best.pt\n",
      "saving current model at: ./log/dt_halfcheetah_model_24-05-08-16-16-00.pt\n"
     ]
    },
    {
     "name": "stderr",
     "output_type": "stream",
     "text": [
      " 12%|█▎        | 25/200 [06:20<41:47, 14.33s/it]"
     ]
    },
    {
     "name": "stdout",
     "output_type": "stream",
     "text": [
      "============================================================\n",
      "time elapsed: 0:06:21\n",
      "num of updates: 2500\n",
      "train total loss: 1.05443\n",
      "train state loss: 0.87963\n",
      "train reward loss: 0.17481\n",
      "val total loss: 0.96965\n",
      "val state loss: 0.83658\n",
      "val reward loss: 0.13307\n",
      "saving min loss model at: ./log/dt_halfcheetah_model_24-05-08-16-16-00_best.pt\n",
      "saving current model at: ./log/dt_halfcheetah_model_24-05-08-16-16-00.pt\n"
     ]
    },
    {
     "name": "stderr",
     "output_type": "stream",
     "text": [
      " 13%|█▎        | 26/200 [06:34<41:27, 14.30s/it]"
     ]
    },
    {
     "name": "stdout",
     "output_type": "stream",
     "text": [
      "============================================================\n",
      "time elapsed: 0:06:35\n",
      "num of updates: 2600\n",
      "train total loss: 1.02619\n",
      "train state loss: 0.86046\n",
      "train reward loss: 0.16573\n",
      "val total loss: 0.94521\n",
      "val state loss: 0.81624\n",
      "val reward loss: 0.12896\n",
      "saving min loss model at: ./log/dt_halfcheetah_model_24-05-08-16-16-00_best.pt\n",
      "saving current model at: ./log/dt_halfcheetah_model_24-05-08-16-16-00.pt\n"
     ]
    },
    {
     "name": "stderr",
     "output_type": "stream",
     "text": [
      " 14%|█▎        | 27/200 [06:48<41:16, 14.32s/it]"
     ]
    },
    {
     "name": "stdout",
     "output_type": "stream",
     "text": [
      "============================================================\n",
      "time elapsed: 0:06:49\n",
      "num of updates: 2700\n",
      "train total loss: 0.99460\n",
      "train state loss: 0.83929\n",
      "train reward loss: 0.15530\n",
      "val total loss: 0.91626\n",
      "val state loss: 0.79481\n",
      "val reward loss: 0.12145\n",
      "saving min loss model at: ./log/dt_halfcheetah_model_24-05-08-16-16-00_best.pt\n",
      "saving current model at: ./log/dt_halfcheetah_model_24-05-08-16-16-00.pt\n"
     ]
    },
    {
     "name": "stderr",
     "output_type": "stream",
     "text": [
      " 14%|█▍        | 28/200 [07:03<41:27, 14.46s/it]"
     ]
    },
    {
     "name": "stdout",
     "output_type": "stream",
     "text": [
      "============================================================\n",
      "time elapsed: 0:07:04\n",
      "num of updates: 2800\n",
      "train total loss: 0.96787\n",
      "train state loss: 0.81765\n",
      "train reward loss: 0.15022\n",
      "val total loss: 0.87825\n",
      "val state loss: 0.76617\n",
      "val reward loss: 0.11208\n",
      "saving min loss model at: ./log/dt_halfcheetah_model_24-05-08-16-16-00_best.pt\n",
      "saving current model at: ./log/dt_halfcheetah_model_24-05-08-16-16-00.pt\n"
     ]
    },
    {
     "name": "stderr",
     "output_type": "stream",
     "text": [
      " 14%|█▍        | 29/200 [07:18<41:15, 14.48s/it]"
     ]
    },
    {
     "name": "stdout",
     "output_type": "stream",
     "text": [
      "============================================================\n",
      "time elapsed: 0:07:19\n",
      "num of updates: 2900\n",
      "train total loss: 0.93510\n",
      "train state loss: 0.79270\n",
      "train reward loss: 0.14240\n",
      "val total loss: 0.85130\n",
      "val state loss: 0.73560\n",
      "val reward loss: 0.11570\n",
      "saving min loss model at: ./log/dt_halfcheetah_model_24-05-08-16-16-00_best.pt\n",
      "saving current model at: ./log/dt_halfcheetah_model_24-05-08-16-16-00.pt\n"
     ]
    },
    {
     "name": "stderr",
     "output_type": "stream",
     "text": [
      " 15%|█▌        | 30/200 [07:32<40:51, 14.42s/it]"
     ]
    },
    {
     "name": "stdout",
     "output_type": "stream",
     "text": [
      "============================================================\n",
      "time elapsed: 0:07:33\n",
      "num of updates: 3000\n",
      "train total loss: 0.90431\n",
      "train state loss: 0.76569\n",
      "train reward loss: 0.13862\n",
      "val total loss: 0.80853\n",
      "val state loss: 0.70253\n",
      "val reward loss: 0.10600\n",
      "saving min loss model at: ./log/dt_halfcheetah_model_24-05-08-16-16-00_best.pt\n",
      "saving current model at: ./log/dt_halfcheetah_model_24-05-08-16-16-00.pt\n"
     ]
    },
    {
     "name": "stderr",
     "output_type": "stream",
     "text": [
      " 16%|█▌        | 31/200 [07:46<40:25, 14.35s/it]"
     ]
    },
    {
     "name": "stdout",
     "output_type": "stream",
     "text": [
      "============================================================\n",
      "time elapsed: 0:07:47\n",
      "num of updates: 3100\n",
      "train total loss: 0.84656\n",
      "train state loss: 0.71902\n",
      "train reward loss: 0.12753\n",
      "val total loss: 0.76364\n",
      "val state loss: 0.66406\n",
      "val reward loss: 0.09958\n",
      "saving min loss model at: ./log/dt_halfcheetah_model_24-05-08-16-16-00_best.pt\n",
      "saving current model at: ./log/dt_halfcheetah_model_24-05-08-16-16-00.pt\n"
     ]
    },
    {
     "name": "stderr",
     "output_type": "stream",
     "text": [
      " 16%|█▌        | 32/200 [08:01<40:11, 14.35s/it]"
     ]
    },
    {
     "name": "stdout",
     "output_type": "stream",
     "text": [
      "============================================================\n",
      "time elapsed: 0:08:01\n",
      "num of updates: 3200\n",
      "train total loss: 0.81057\n",
      "train state loss: 0.68855\n",
      "train reward loss: 0.12202\n",
      "val total loss: 0.72454\n",
      "val state loss: 0.63026\n",
      "val reward loss: 0.09429\n",
      "saving min loss model at: ./log/dt_halfcheetah_model_24-05-08-16-16-00_best.pt\n",
      "saving current model at: ./log/dt_halfcheetah_model_24-05-08-16-16-00.pt\n"
     ]
    },
    {
     "name": "stderr",
     "output_type": "stream",
     "text": [
      " 16%|█▋        | 33/200 [08:15<39:38, 14.24s/it]"
     ]
    },
    {
     "name": "stdout",
     "output_type": "stream",
     "text": [
      "============================================================\n",
      "time elapsed: 0:08:15\n",
      "num of updates: 3300\n",
      "train total loss: 0.77317\n",
      "train state loss: 0.65679\n",
      "train reward loss: 0.11638\n",
      "val total loss: 0.68801\n",
      "val state loss: 0.59538\n",
      "val reward loss: 0.09263\n",
      "saving min loss model at: ./log/dt_halfcheetah_model_24-05-08-16-16-00_best.pt\n",
      "saving current model at: ./log/dt_halfcheetah_model_24-05-08-16-16-00.pt\n"
     ]
    },
    {
     "name": "stderr",
     "output_type": "stream",
     "text": [
      " 17%|█▋        | 34/200 [08:29<39:33, 14.30s/it]"
     ]
    },
    {
     "name": "stdout",
     "output_type": "stream",
     "text": [
      "============================================================\n",
      "time elapsed: 0:08:30\n",
      "num of updates: 3400\n",
      "train total loss: 0.73359\n",
      "train state loss: 0.62306\n",
      "train reward loss: 0.11053\n",
      "val total loss: 0.64547\n",
      "val state loss: 0.55950\n",
      "val reward loss: 0.08597\n",
      "saving min loss model at: ./log/dt_halfcheetah_model_24-05-08-16-16-00_best.pt\n",
      "saving current model at: ./log/dt_halfcheetah_model_24-05-08-16-16-00.pt\n"
     ]
    },
    {
     "name": "stderr",
     "output_type": "stream",
     "text": [
      " 18%|█▊        | 35/200 [08:44<39:34, 14.39s/it]"
     ]
    },
    {
     "name": "stdout",
     "output_type": "stream",
     "text": [
      "============================================================\n",
      "time elapsed: 0:08:44\n",
      "num of updates: 3500\n",
      "train total loss: 0.69175\n",
      "train state loss: 0.58877\n",
      "train reward loss: 0.10298\n",
      "val total loss: 0.60976\n",
      "val state loss: 0.52906\n",
      "val reward loss: 0.08070\n",
      "saving min loss model at: ./log/dt_halfcheetah_model_24-05-08-16-16-00_best.pt\n",
      "saving current model at: ./log/dt_halfcheetah_model_24-05-08-16-16-00.pt\n"
     ]
    },
    {
     "name": "stderr",
     "output_type": "stream",
     "text": [
      " 18%|█▊        | 36/200 [08:58<39:45, 14.54s/it]"
     ]
    },
    {
     "name": "stdout",
     "output_type": "stream",
     "text": [
      "============================================================\n",
      "time elapsed: 0:08:59\n",
      "num of updates: 3600\n",
      "train total loss: 0.66206\n",
      "train state loss: 0.56243\n",
      "train reward loss: 0.09963\n",
      "val total loss: 0.57419\n",
      "val state loss: 0.49700\n",
      "val reward loss: 0.07719\n",
      "saving min loss model at: ./log/dt_halfcheetah_model_24-05-08-16-16-00_best.pt\n",
      "saving current model at: ./log/dt_halfcheetah_model_24-05-08-16-16-00.pt\n"
     ]
    },
    {
     "name": "stderr",
     "output_type": "stream",
     "text": [
      " 18%|█▊        | 37/200 [09:13<39:08, 14.41s/it]"
     ]
    },
    {
     "name": "stdout",
     "output_type": "stream",
     "text": [
      "============================================================\n",
      "time elapsed: 0:09:13\n",
      "num of updates: 3700\n",
      "train total loss: 0.62625\n",
      "train state loss: 0.53300\n",
      "train reward loss: 0.09325\n",
      "val total loss: 0.54456\n",
      "val state loss: 0.47183\n",
      "val reward loss: 0.07273\n",
      "saving min loss model at: ./log/dt_halfcheetah_model_24-05-08-16-16-00_best.pt\n",
      "saving current model at: ./log/dt_halfcheetah_model_24-05-08-16-16-00.pt\n"
     ]
    },
    {
     "name": "stderr",
     "output_type": "stream",
     "text": [
      " 19%|█▉        | 38/200 [09:26<38:24, 14.23s/it]"
     ]
    },
    {
     "name": "stdout",
     "output_type": "stream",
     "text": [
      "============================================================\n",
      "time elapsed: 0:09:27\n",
      "num of updates: 3800\n",
      "train total loss: 0.59479\n",
      "train state loss: 0.50536\n",
      "train reward loss: 0.08944\n",
      "val total loss: 0.51753\n",
      "val state loss: 0.44950\n",
      "val reward loss: 0.06803\n",
      "saving min loss model at: ./log/dt_halfcheetah_model_24-05-08-16-16-00_best.pt\n",
      "saving current model at: ./log/dt_halfcheetah_model_24-05-08-16-16-00.pt\n"
     ]
    },
    {
     "name": "stderr",
     "output_type": "stream",
     "text": [
      " 20%|█▉        | 39/200 [09:40<37:52, 14.12s/it]"
     ]
    },
    {
     "name": "stdout",
     "output_type": "stream",
     "text": [
      "============================================================\n",
      "time elapsed: 0:09:41\n",
      "num of updates: 3900\n",
      "train total loss: 0.55860\n",
      "train state loss: 0.47454\n",
      "train reward loss: 0.08407\n",
      "val total loss: 0.47990\n",
      "val state loss: 0.41707\n",
      "val reward loss: 0.06283\n",
      "saving min loss model at: ./log/dt_halfcheetah_model_24-05-08-16-16-00_best.pt\n",
      "saving current model at: ./log/dt_halfcheetah_model_24-05-08-16-16-00.pt\n"
     ]
    },
    {
     "name": "stderr",
     "output_type": "stream",
     "text": [
      " 20%|██        | 40/200 [09:54<37:45, 14.16s/it]"
     ]
    },
    {
     "name": "stdout",
     "output_type": "stream",
     "text": [
      "============================================================\n",
      "time elapsed: 0:09:55\n",
      "num of updates: 4000\n",
      "train total loss: 0.53205\n",
      "train state loss: 0.45277\n",
      "train reward loss: 0.07928\n",
      "val total loss: 0.45515\n",
      "val state loss: 0.39366\n",
      "val reward loss: 0.06149\n",
      "saving min loss model at: ./log/dt_halfcheetah_model_24-05-08-16-16-00_best.pt\n",
      "saving current model at: ./log/dt_halfcheetah_model_24-05-08-16-16-00.pt\n"
     ]
    },
    {
     "name": "stderr",
     "output_type": "stream",
     "text": [
      " 20%|██        | 41/200 [10:09<37:34, 14.18s/it]"
     ]
    },
    {
     "name": "stdout",
     "output_type": "stream",
     "text": [
      "============================================================\n",
      "time elapsed: 0:10:10\n",
      "num of updates: 4100\n",
      "train total loss: 0.49236\n",
      "train state loss: 0.41872\n",
      "train reward loss: 0.07364\n",
      "val total loss: 0.42257\n",
      "val state loss: 0.36388\n",
      "val reward loss: 0.05869\n",
      "saving min loss model at: ./log/dt_halfcheetah_model_24-05-08-16-16-00_best.pt\n",
      "saving current model at: ./log/dt_halfcheetah_model_24-05-08-16-16-00.pt\n"
     ]
    },
    {
     "name": "stderr",
     "output_type": "stream",
     "text": [
      " 21%|██        | 42/200 [10:23<37:32, 14.26s/it]"
     ]
    },
    {
     "name": "stdout",
     "output_type": "stream",
     "text": [
      "============================================================\n",
      "time elapsed: 0:10:24\n",
      "num of updates: 4200\n",
      "train total loss: 0.46259\n",
      "train state loss: 0.39112\n",
      "train reward loss: 0.07146\n",
      "val total loss: 0.39740\n",
      "val state loss: 0.34335\n",
      "val reward loss: 0.05405\n",
      "saving min loss model at: ./log/dt_halfcheetah_model_24-05-08-16-16-00_best.pt\n",
      "saving current model at: ./log/dt_halfcheetah_model_24-05-08-16-16-00.pt\n"
     ]
    },
    {
     "name": "stderr",
     "output_type": "stream",
     "text": [
      " 22%|██▏       | 43/200 [10:38<37:45, 14.43s/it]"
     ]
    },
    {
     "name": "stdout",
     "output_type": "stream",
     "text": [
      "============================================================\n",
      "time elapsed: 0:10:39\n",
      "num of updates: 4300\n",
      "train total loss: 0.44004\n",
      "train state loss: 0.37179\n",
      "train reward loss: 0.06825\n",
      "val total loss: 0.36977\n",
      "val state loss: 0.31915\n",
      "val reward loss: 0.05061\n",
      "saving min loss model at: ./log/dt_halfcheetah_model_24-05-08-16-16-00_best.pt\n",
      "saving current model at: ./log/dt_halfcheetah_model_24-05-08-16-16-00.pt\n"
     ]
    },
    {
     "name": "stderr",
     "output_type": "stream",
     "text": [
      " 22%|██▏       | 44/200 [10:53<38:06, 14.65s/it]"
     ]
    },
    {
     "name": "stdout",
     "output_type": "stream",
     "text": [
      "============================================================\n",
      "time elapsed: 0:10:54\n",
      "num of updates: 4400\n",
      "train total loss: 0.41248\n",
      "train state loss: 0.34893\n",
      "train reward loss: 0.06356\n",
      "val total loss: 0.34744\n",
      "val state loss: 0.29887\n",
      "val reward loss: 0.04857\n",
      "saving min loss model at: ./log/dt_halfcheetah_model_24-05-08-16-16-00_best.pt\n",
      "saving current model at: ./log/dt_halfcheetah_model_24-05-08-16-16-00.pt\n"
     ]
    },
    {
     "name": "stderr",
     "output_type": "stream",
     "text": [
      " 22%|██▎       | 45/200 [11:08<37:41, 14.59s/it]"
     ]
    },
    {
     "name": "stdout",
     "output_type": "stream",
     "text": [
      "============================================================\n",
      "time elapsed: 0:11:08\n",
      "num of updates: 4500\n",
      "train total loss: 0.39871\n",
      "train state loss: 0.33640\n",
      "train reward loss: 0.06231\n",
      "val total loss: 0.33413\n",
      "val state loss: 0.28771\n",
      "val reward loss: 0.04641\n",
      "saving min loss model at: ./log/dt_halfcheetah_model_24-05-08-16-16-00_best.pt\n",
      "saving current model at: ./log/dt_halfcheetah_model_24-05-08-16-16-00.pt\n"
     ]
    },
    {
     "name": "stderr",
     "output_type": "stream",
     "text": [
      " 23%|██▎       | 46/200 [11:22<37:06, 14.46s/it]"
     ]
    },
    {
     "name": "stdout",
     "output_type": "stream",
     "text": [
      "============================================================\n",
      "time elapsed: 0:11:23\n",
      "num of updates: 4600\n",
      "train total loss: 0.37158\n",
      "train state loss: 0.31421\n",
      "train reward loss: 0.05738\n",
      "val total loss: 0.31897\n",
      "val state loss: 0.27215\n",
      "val reward loss: 0.04683\n",
      "saving min loss model at: ./log/dt_halfcheetah_model_24-05-08-16-16-00_best.pt\n",
      "saving current model at: ./log/dt_halfcheetah_model_24-05-08-16-16-00.pt\n"
     ]
    },
    {
     "name": "stderr",
     "output_type": "stream",
     "text": [
      " 24%|██▎       | 47/200 [11:36<36:29, 14.31s/it]"
     ]
    },
    {
     "name": "stdout",
     "output_type": "stream",
     "text": [
      "============================================================\n",
      "time elapsed: 0:11:37\n",
      "num of updates: 4700\n",
      "train total loss: 0.36176\n",
      "train state loss: 0.30437\n",
      "train reward loss: 0.05739\n",
      "val total loss: 0.30361\n",
      "val state loss: 0.25855\n",
      "val reward loss: 0.04506\n",
      "saving min loss model at: ./log/dt_halfcheetah_model_24-05-08-16-16-00_best.pt\n",
      "saving current model at: ./log/dt_halfcheetah_model_24-05-08-16-16-00.pt\n"
     ]
    },
    {
     "name": "stderr",
     "output_type": "stream",
     "text": [
      " 24%|██▍       | 48/200 [11:50<36:33, 14.43s/it]"
     ]
    },
    {
     "name": "stdout",
     "output_type": "stream",
     "text": [
      "============================================================\n",
      "time elapsed: 0:11:51\n",
      "num of updates: 4800\n",
      "train total loss: 0.34259\n",
      "train state loss: 0.28818\n",
      "train reward loss: 0.05442\n",
      "val total loss: 0.28382\n",
      "val state loss: 0.24059\n",
      "val reward loss: 0.04323\n",
      "saving min loss model at: ./log/dt_halfcheetah_model_24-05-08-16-16-00_best.pt\n",
      "saving current model at: ./log/dt_halfcheetah_model_24-05-08-16-16-00.pt\n"
     ]
    },
    {
     "name": "stderr",
     "output_type": "stream",
     "text": [
      " 24%|██▍       | 49/200 [12:05<36:32, 14.52s/it]"
     ]
    },
    {
     "name": "stdout",
     "output_type": "stream",
     "text": [
      "============================================================\n",
      "time elapsed: 0:12:06\n",
      "num of updates: 4900\n",
      "train total loss: 0.32402\n",
      "train state loss: 0.27185\n",
      "train reward loss: 0.05216\n",
      "val total loss: 0.26851\n",
      "val state loss: 0.22591\n",
      "val reward loss: 0.04261\n",
      "saving min loss model at: ./log/dt_halfcheetah_model_24-05-08-16-16-00_best.pt\n",
      "saving current model at: ./log/dt_halfcheetah_model_24-05-08-16-16-00.pt\n"
     ]
    },
    {
     "name": "stderr",
     "output_type": "stream",
     "text": [
      " 25%|██▌       | 50/200 [12:20<36:21, 14.54s/it]"
     ]
    },
    {
     "name": "stdout",
     "output_type": "stream",
     "text": [
      "============================================================\n",
      "time elapsed: 0:12:21\n",
      "num of updates: 5000\n",
      "train total loss: 0.31108\n",
      "train state loss: 0.26080\n",
      "train reward loss: 0.05028\n",
      "val total loss: 0.25552\n",
      "val state loss: 0.21276\n",
      "val reward loss: 0.04276\n",
      "saving min loss model at: ./log/dt_halfcheetah_model_24-05-08-16-16-00_best.pt\n",
      "saving current model at: ./log/dt_halfcheetah_model_24-05-08-16-16-00.pt\n"
     ]
    },
    {
     "name": "stderr",
     "output_type": "stream",
     "text": [
      " 26%|██▌       | 51/200 [12:34<36:15, 14.60s/it]"
     ]
    },
    {
     "name": "stdout",
     "output_type": "stream",
     "text": [
      "============================================================\n",
      "time elapsed: 0:12:35\n",
      "num of updates: 5100\n",
      "train total loss: 0.29580\n",
      "train state loss: 0.24753\n",
      "train reward loss: 0.04826\n",
      "val total loss: 0.23675\n",
      "val state loss: 0.19823\n",
      "val reward loss: 0.03852\n",
      "saving min loss model at: ./log/dt_halfcheetah_model_24-05-08-16-16-00_best.pt\n",
      "saving current model at: ./log/dt_halfcheetah_model_24-05-08-16-16-00.pt\n"
     ]
    },
    {
     "name": "stderr",
     "output_type": "stream",
     "text": [
      " 26%|██▌       | 52/200 [12:49<36:00, 14.60s/it]"
     ]
    },
    {
     "name": "stdout",
     "output_type": "stream",
     "text": [
      "============================================================\n",
      "time elapsed: 0:12:50\n",
      "num of updates: 5200\n",
      "train total loss: 0.28495\n",
      "train state loss: 0.23667\n",
      "train reward loss: 0.04828\n",
      "val total loss: 0.22788\n",
      "val state loss: 0.19148\n",
      "val reward loss: 0.03640\n",
      "saving min loss model at: ./log/dt_halfcheetah_model_24-05-08-16-16-00_best.pt\n",
      "saving current model at: ./log/dt_halfcheetah_model_24-05-08-16-16-00.pt\n"
     ]
    },
    {
     "name": "stderr",
     "output_type": "stream",
     "text": [
      " 26%|██▋       | 53/200 [13:03<35:23, 14.44s/it]"
     ]
    },
    {
     "name": "stdout",
     "output_type": "stream",
     "text": [
      "============================================================\n",
      "time elapsed: 0:13:04\n",
      "num of updates: 5300\n",
      "train total loss: 0.27389\n",
      "train state loss: 0.22688\n",
      "train reward loss: 0.04701\n",
      "val total loss: 0.22081\n",
      "val state loss: 0.17981\n",
      "val reward loss: 0.04100\n",
      "saving min loss model at: ./log/dt_halfcheetah_model_24-05-08-16-16-00_best.pt\n",
      "saving current model at: ./log/dt_halfcheetah_model_24-05-08-16-16-00.pt\n"
     ]
    },
    {
     "name": "stderr",
     "output_type": "stream",
     "text": [
      " 27%|██▋       | 54/200 [13:17<34:38, 14.24s/it]"
     ]
    },
    {
     "name": "stdout",
     "output_type": "stream",
     "text": [
      "============================================================\n",
      "time elapsed: 0:13:18\n",
      "num of updates: 5400\n",
      "train total loss: 0.25783\n",
      "train state loss: 0.21357\n",
      "train reward loss: 0.04426\n",
      "val total loss: 0.21293\n",
      "val state loss: 0.17379\n",
      "val reward loss: 0.03914\n",
      "saving min loss model at: ./log/dt_halfcheetah_model_24-05-08-16-16-00_best.pt\n",
      "saving current model at: ./log/dt_halfcheetah_model_24-05-08-16-16-00.pt\n"
     ]
    },
    {
     "name": "stderr",
     "output_type": "stream",
     "text": [
      " 28%|██▊       | 55/200 [13:31<34:10, 14.14s/it]"
     ]
    },
    {
     "name": "stdout",
     "output_type": "stream",
     "text": [
      "============================================================\n",
      "time elapsed: 0:13:32\n",
      "num of updates: 5500\n",
      "train total loss: 0.24605\n",
      "train state loss: 0.20358\n",
      "train reward loss: 0.04247\n",
      "val total loss: 0.19537\n",
      "val state loss: 0.16039\n",
      "val reward loss: 0.03498\n",
      "saving min loss model at: ./log/dt_halfcheetah_model_24-05-08-16-16-00_best.pt\n",
      "saving current model at: ./log/dt_halfcheetah_model_24-05-08-16-16-00.pt\n"
     ]
    },
    {
     "name": "stderr",
     "output_type": "stream",
     "text": [
      " 28%|██▊       | 56/200 [13:45<33:51, 14.11s/it]"
     ]
    },
    {
     "name": "stdout",
     "output_type": "stream",
     "text": [
      "============================================================\n",
      "time elapsed: 0:13:46\n",
      "num of updates: 5600\n",
      "train total loss: 0.24517\n",
      "train state loss: 0.20222\n",
      "train reward loss: 0.04294\n",
      "val total loss: 0.19029\n",
      "val state loss: 0.15747\n",
      "val reward loss: 0.03281\n",
      "saving min loss model at: ./log/dt_halfcheetah_model_24-05-08-16-16-00_best.pt\n",
      "saving current model at: ./log/dt_halfcheetah_model_24-05-08-16-16-00.pt\n"
     ]
    },
    {
     "name": "stderr",
     "output_type": "stream",
     "text": [
      " 28%|██▊       | 57/200 [13:59<33:58, 14.26s/it]"
     ]
    },
    {
     "name": "stdout",
     "output_type": "stream",
     "text": [
      "============================================================\n",
      "time elapsed: 0:14:00\n",
      "num of updates: 5700\n",
      "train total loss: 0.23444\n",
      "train state loss: 0.19311\n",
      "train reward loss: 0.04133\n",
      "val total loss: 0.18315\n",
      "val state loss: 0.14998\n",
      "val reward loss: 0.03318\n",
      "saving min loss model at: ./log/dt_halfcheetah_model_24-05-08-16-16-00_best.pt\n",
      "saving current model at: ./log/dt_halfcheetah_model_24-05-08-16-16-00.pt\n"
     ]
    },
    {
     "name": "stderr",
     "output_type": "stream",
     "text": [
      " 29%|██▉       | 58/200 [14:14<33:45, 14.27s/it]"
     ]
    },
    {
     "name": "stdout",
     "output_type": "stream",
     "text": [
      "============================================================\n",
      "time elapsed: 0:14:15\n",
      "num of updates: 5800\n",
      "train total loss: 0.22867\n",
      "train state loss: 0.18714\n",
      "train reward loss: 0.04153\n",
      "val total loss: 0.17957\n",
      "val state loss: 0.14444\n",
      "val reward loss: 0.03512\n",
      "saving min loss model at: ./log/dt_halfcheetah_model_24-05-08-16-16-00_best.pt\n",
      "saving current model at: ./log/dt_halfcheetah_model_24-05-08-16-16-00.pt\n"
     ]
    },
    {
     "name": "stderr",
     "output_type": "stream",
     "text": [
      " 30%|██▉       | 59/200 [14:29<33:55, 14.44s/it]"
     ]
    },
    {
     "name": "stdout",
     "output_type": "stream",
     "text": [
      "============================================================\n",
      "time elapsed: 0:14:29\n",
      "num of updates: 5900\n",
      "train total loss: 0.22299\n",
      "train state loss: 0.18345\n",
      "train reward loss: 0.03954\n",
      "val total loss: 0.17436\n",
      "val state loss: 0.14069\n",
      "val reward loss: 0.03367\n",
      "saving min loss model at: ./log/dt_halfcheetah_model_24-05-08-16-16-00_best.pt\n",
      "saving current model at: ./log/dt_halfcheetah_model_24-05-08-16-16-00.pt\n"
     ]
    },
    {
     "name": "stderr",
     "output_type": "stream",
     "text": [
      " 30%|███       | 60/200 [14:44<34:21, 14.72s/it]"
     ]
    },
    {
     "name": "stdout",
     "output_type": "stream",
     "text": [
      "============================================================\n",
      "time elapsed: 0:14:45\n",
      "num of updates: 6000\n",
      "train total loss: 0.21253\n",
      "train state loss: 0.17406\n",
      "train reward loss: 0.03846\n",
      "val total loss: 0.16759\n",
      "val state loss: 0.13584\n",
      "val reward loss: 0.03175\n",
      "saving min loss model at: ./log/dt_halfcheetah_model_24-05-08-16-16-00_best.pt\n",
      "saving current model at: ./log/dt_halfcheetah_model_24-05-08-16-16-00.pt\n"
     ]
    },
    {
     "name": "stderr",
     "output_type": "stream",
     "text": [
      " 30%|███       | 61/200 [14:59<34:04, 14.71s/it]"
     ]
    },
    {
     "name": "stdout",
     "output_type": "stream",
     "text": [
      "============================================================\n",
      "time elapsed: 0:15:00\n",
      "num of updates: 6100\n",
      "train total loss: 0.20735\n",
      "train state loss: 0.16956\n",
      "train reward loss: 0.03780\n",
      "val total loss: 0.17333\n",
      "val state loss: 0.13521\n",
      "val reward loss: 0.03812\n",
      "saving min loss model at: ./log/dt_halfcheetah_model_24-05-08-16-16-00_best.pt\n",
      "saving current model at: ./log/dt_halfcheetah_model_24-05-08-16-16-00.pt\n"
     ]
    },
    {
     "name": "stderr",
     "output_type": "stream",
     "text": [
      " 31%|███       | 62/200 [15:13<33:24, 14.53s/it]"
     ]
    },
    {
     "name": "stdout",
     "output_type": "stream",
     "text": [
      "============================================================\n",
      "time elapsed: 0:15:14\n",
      "num of updates: 6200\n",
      "train total loss: 0.19819\n",
      "train state loss: 0.16220\n",
      "train reward loss: 0.03598\n",
      "val total loss: 0.15762\n",
      "val state loss: 0.12774\n",
      "val reward loss: 0.02988\n",
      "saving min loss model at: ./log/dt_halfcheetah_model_24-05-08-16-16-00_best.pt\n",
      "saving current model at: ./log/dt_halfcheetah_model_24-05-08-16-16-00.pt\n"
     ]
    },
    {
     "name": "stderr",
     "output_type": "stream",
     "text": [
      " 32%|███▏      | 63/200 [15:27<32:38, 14.30s/it]"
     ]
    },
    {
     "name": "stdout",
     "output_type": "stream",
     "text": [
      "============================================================\n",
      "time elapsed: 0:15:27\n",
      "num of updates: 6300\n",
      "train total loss: 0.19541\n",
      "train state loss: 0.16024\n",
      "train reward loss: 0.03517\n",
      "val total loss: 0.15941\n",
      "val state loss: 0.12675\n",
      "val reward loss: 0.03266\n",
      "saving min loss model at: ./log/dt_halfcheetah_model_24-05-08-16-16-00_best.pt\n",
      "saving current model at: ./log/dt_halfcheetah_model_24-05-08-16-16-00.pt\n"
     ]
    },
    {
     "name": "stderr",
     "output_type": "stream",
     "text": [
      " 32%|███▏      | 64/200 [15:40<32:04, 14.15s/it]"
     ]
    },
    {
     "name": "stdout",
     "output_type": "stream",
     "text": [
      "============================================================\n",
      "time elapsed: 0:15:41\n",
      "num of updates: 6400\n",
      "train total loss: 0.19159\n",
      "train state loss: 0.15686\n",
      "train reward loss: 0.03473\n",
      "val total loss: 0.15565\n",
      "val state loss: 0.12457\n",
      "val reward loss: 0.03108\n",
      "saving min loss model at: ./log/dt_halfcheetah_model_24-05-08-16-16-00_best.pt\n",
      "saving current model at: ./log/dt_halfcheetah_model_24-05-08-16-16-00.pt\n"
     ]
    },
    {
     "name": "stderr",
     "output_type": "stream",
     "text": [
      " 32%|███▎      | 65/200 [15:55<31:53, 14.18s/it]"
     ]
    },
    {
     "name": "stdout",
     "output_type": "stream",
     "text": [
      "============================================================\n",
      "time elapsed: 0:15:55\n",
      "num of updates: 6500\n",
      "train total loss: 0.18479\n",
      "train state loss: 0.15134\n",
      "train reward loss: 0.03345\n",
      "val total loss: 0.15644\n",
      "val state loss: 0.12243\n",
      "val reward loss: 0.03401\n",
      "saving min loss model at: ./log/dt_halfcheetah_model_24-05-08-16-16-00_best.pt\n",
      "saving current model at: ./log/dt_halfcheetah_model_24-05-08-16-16-00.pt\n"
     ]
    },
    {
     "name": "stderr",
     "output_type": "stream",
     "text": [
      " 33%|███▎      | 66/200 [16:09<31:41, 14.19s/it]"
     ]
    },
    {
     "name": "stdout",
     "output_type": "stream",
     "text": [
      "============================================================\n",
      "time elapsed: 0:16:10\n",
      "num of updates: 6600\n",
      "train total loss: 0.17712\n",
      "train state loss: 0.14507\n",
      "train reward loss: 0.03205\n",
      "val total loss: 0.14501\n",
      "val state loss: 0.11857\n",
      "val reward loss: 0.02644\n",
      "saving min loss model at: ./log/dt_halfcheetah_model_24-05-08-16-16-00_best.pt\n",
      "saving current model at: ./log/dt_halfcheetah_model_24-05-08-16-16-00.pt\n"
     ]
    },
    {
     "name": "stderr",
     "output_type": "stream",
     "text": [
      " 34%|███▎      | 67/200 [16:24<32:08, 14.50s/it]"
     ]
    },
    {
     "name": "stdout",
     "output_type": "stream",
     "text": [
      "============================================================\n",
      "time elapsed: 0:16:25\n",
      "num of updates: 6700\n",
      "train total loss: 0.18116\n",
      "train state loss: 0.14846\n",
      "train reward loss: 0.03270\n",
      "val total loss: 0.14821\n",
      "val state loss: 0.11746\n",
      "val reward loss: 0.03075\n",
      "saving min loss model at: ./log/dt_halfcheetah_model_24-05-08-16-16-00_best.pt\n",
      "saving current model at: ./log/dt_halfcheetah_model_24-05-08-16-16-00.pt\n"
     ]
    },
    {
     "name": "stderr",
     "output_type": "stream",
     "text": [
      " 34%|███▍      | 68/200 [16:40<32:44, 14.88s/it]"
     ]
    },
    {
     "name": "stdout",
     "output_type": "stream",
     "text": [
      "============================================================\n",
      "time elapsed: 0:16:41\n",
      "num of updates: 6800\n",
      "train total loss: 0.17492\n",
      "train state loss: 0.14274\n",
      "train reward loss: 0.03218\n",
      "val total loss: 0.14989\n",
      "val state loss: 0.11576\n",
      "val reward loss: 0.03413\n",
      "saving min loss model at: ./log/dt_halfcheetah_model_24-05-08-16-16-00_best.pt\n",
      "saving current model at: ./log/dt_halfcheetah_model_24-05-08-16-16-00.pt\n"
     ]
    },
    {
     "name": "stderr",
     "output_type": "stream",
     "text": [
      " 34%|███▍      | 69/200 [16:55<32:47, 15.02s/it]"
     ]
    },
    {
     "name": "stdout",
     "output_type": "stream",
     "text": [
      "============================================================\n",
      "time elapsed: 0:16:56\n",
      "num of updates: 6900\n",
      "train total loss: 0.16509\n",
      "train state loss: 0.13473\n",
      "train reward loss: 0.03036\n",
      "val total loss: 0.14293\n",
      "val state loss: 0.11358\n",
      "val reward loss: 0.02935\n",
      "saving min loss model at: ./log/dt_halfcheetah_model_24-05-08-16-16-00_best.pt\n",
      "saving current model at: ./log/dt_halfcheetah_model_24-05-08-16-16-00.pt\n"
     ]
    },
    {
     "name": "stderr",
     "output_type": "stream",
     "text": [
      " 35%|███▌      | 70/200 [17:10<32:29, 14.99s/it]"
     ]
    },
    {
     "name": "stdout",
     "output_type": "stream",
     "text": [
      "============================================================\n",
      "time elapsed: 0:17:11\n",
      "num of updates: 7000\n",
      "train total loss: 0.16623\n",
      "train state loss: 0.13579\n",
      "train reward loss: 0.03045\n",
      "val total loss: 0.13720\n",
      "val state loss: 0.11138\n",
      "val reward loss: 0.02582\n",
      "saving min loss model at: ./log/dt_halfcheetah_model_24-05-08-16-16-00_best.pt\n",
      "saving current model at: ./log/dt_halfcheetah_model_24-05-08-16-16-00.pt\n"
     ]
    },
    {
     "name": "stderr",
     "output_type": "stream",
     "text": [
      " 36%|███▌      | 71/200 [17:25<31:53, 14.83s/it]"
     ]
    },
    {
     "name": "stdout",
     "output_type": "stream",
     "text": [
      "============================================================\n",
      "time elapsed: 0:17:25\n",
      "num of updates: 7100\n",
      "train total loss: 0.16318\n",
      "train state loss: 0.13305\n",
      "train reward loss: 0.03013\n",
      "val total loss: 0.13182\n",
      "val state loss: 0.10512\n",
      "val reward loss: 0.02670\n",
      "saving min loss model at: ./log/dt_halfcheetah_model_24-05-08-16-16-00_best.pt\n",
      "saving current model at: ./log/dt_halfcheetah_model_24-05-08-16-16-00.pt\n"
     ]
    },
    {
     "name": "stderr",
     "output_type": "stream",
     "text": [
      " 36%|███▌      | 72/200 [17:39<31:08, 14.60s/it]"
     ]
    },
    {
     "name": "stdout",
     "output_type": "stream",
     "text": [
      "============================================================\n",
      "time elapsed: 0:17:39\n",
      "num of updates: 7200\n",
      "train total loss: 0.15978\n",
      "train state loss: 0.12986\n",
      "train reward loss: 0.02991\n",
      "val total loss: 0.14000\n",
      "val state loss: 0.10957\n",
      "val reward loss: 0.03043\n",
      "saving min loss model at: ./log/dt_halfcheetah_model_24-05-08-16-16-00_best.pt\n",
      "saving current model at: ./log/dt_halfcheetah_model_24-05-08-16-16-00.pt\n"
     ]
    },
    {
     "name": "stderr",
     "output_type": "stream",
     "text": [
      " 36%|███▋      | 73/200 [17:53<30:42, 14.50s/it]"
     ]
    },
    {
     "name": "stdout",
     "output_type": "stream",
     "text": [
      "============================================================\n",
      "time elapsed: 0:17:54\n",
      "num of updates: 7300\n",
      "train total loss: 0.15410\n",
      "train state loss: 0.12587\n",
      "train reward loss: 0.02823\n",
      "val total loss: 0.13689\n",
      "val state loss: 0.10546\n",
      "val reward loss: 0.03142\n",
      "saving min loss model at: ./log/dt_halfcheetah_model_24-05-08-16-16-00_best.pt\n",
      "saving current model at: ./log/dt_halfcheetah_model_24-05-08-16-16-00.pt\n"
     ]
    },
    {
     "name": "stderr",
     "output_type": "stream",
     "text": [
      " 37%|███▋      | 74/200 [18:07<30:00, 14.29s/it]"
     ]
    },
    {
     "name": "stdout",
     "output_type": "stream",
     "text": [
      "============================================================\n",
      "time elapsed: 0:18:08\n",
      "num of updates: 7400\n",
      "train total loss: 0.15340\n",
      "train state loss: 0.12505\n",
      "train reward loss: 0.02835\n",
      "val total loss: 0.13429\n",
      "val state loss: 0.10512\n",
      "val reward loss: 0.02917\n",
      "saving min loss model at: ./log/dt_halfcheetah_model_24-05-08-16-16-00_best.pt\n",
      "saving current model at: ./log/dt_halfcheetah_model_24-05-08-16-16-00.pt\n"
     ]
    },
    {
     "name": "stderr",
     "output_type": "stream",
     "text": [
      " 38%|███▊      | 75/200 [18:21<29:37, 14.22s/it]"
     ]
    },
    {
     "name": "stdout",
     "output_type": "stream",
     "text": [
      "============================================================\n",
      "time elapsed: 0:18:22\n",
      "num of updates: 7500\n",
      "train total loss: 0.15363\n",
      "train state loss: 0.12539\n",
      "train reward loss: 0.02825\n",
      "val total loss: 0.13556\n",
      "val state loss: 0.10299\n",
      "val reward loss: 0.03256\n",
      "saving min loss model at: ./log/dt_halfcheetah_model_24-05-08-16-16-00_best.pt\n",
      "saving current model at: ./log/dt_halfcheetah_model_24-05-08-16-16-00.pt\n"
     ]
    },
    {
     "name": "stderr",
     "output_type": "stream",
     "text": [
      " 38%|███▊      | 76/200 [18:35<29:27, 14.25s/it]"
     ]
    },
    {
     "name": "stdout",
     "output_type": "stream",
     "text": [
      "============================================================\n",
      "time elapsed: 0:18:36\n",
      "num of updates: 7600\n",
      "train total loss: 0.14585\n",
      "train state loss: 0.11951\n",
      "train reward loss: 0.02634\n",
      "val total loss: 0.12909\n",
      "val state loss: 0.10015\n",
      "val reward loss: 0.02894\n",
      "saving min loss model at: ./log/dt_halfcheetah_model_24-05-08-16-16-00_best.pt\n",
      "saving current model at: ./log/dt_halfcheetah_model_24-05-08-16-16-00.pt\n"
     ]
    },
    {
     "name": "stderr",
     "output_type": "stream",
     "text": [
      " 38%|███▊      | 77/200 [18:50<29:22, 14.33s/it]"
     ]
    },
    {
     "name": "stdout",
     "output_type": "stream",
     "text": [
      "============================================================\n",
      "time elapsed: 0:18:50\n",
      "num of updates: 7700\n",
      "train total loss: 0.14734\n",
      "train state loss: 0.12028\n",
      "train reward loss: 0.02706\n",
      "val total loss: 0.11934\n",
      "val state loss: 0.09524\n",
      "val reward loss: 0.02410\n",
      "saving min loss model at: ./log/dt_halfcheetah_model_24-05-08-16-16-00_best.pt\n",
      "saving current model at: ./log/dt_halfcheetah_model_24-05-08-16-16-00.pt\n"
     ]
    },
    {
     "name": "stderr",
     "output_type": "stream",
     "text": [
      " 39%|███▉      | 78/200 [19:05<29:34, 14.54s/it]"
     ]
    },
    {
     "name": "stdout",
     "output_type": "stream",
     "text": [
      "============================================================\n",
      "time elapsed: 0:19:05\n",
      "num of updates: 7800\n",
      "train total loss: 0.13969\n",
      "train state loss: 0.11424\n",
      "train reward loss: 0.02545\n",
      "val total loss: 0.12949\n",
      "val state loss: 0.10017\n",
      "val reward loss: 0.02932\n",
      "saving min loss model at: ./log/dt_halfcheetah_model_24-05-08-16-16-00_best.pt\n",
      "saving current model at: ./log/dt_halfcheetah_model_24-05-08-16-16-00.pt\n"
     ]
    },
    {
     "name": "stderr",
     "output_type": "stream",
     "text": [
      " 40%|███▉      | 79/200 [19:20<29:34, 14.67s/it]"
     ]
    },
    {
     "name": "stdout",
     "output_type": "stream",
     "text": [
      "============================================================\n",
      "time elapsed: 0:19:20\n",
      "num of updates: 7900\n",
      "train total loss: 0.14196\n",
      "train state loss: 0.11598\n",
      "train reward loss: 0.02597\n",
      "val total loss: 0.12907\n",
      "val state loss: 0.10005\n",
      "val reward loss: 0.02902\n",
      "saving min loss model at: ./log/dt_halfcheetah_model_24-05-08-16-16-00_best.pt\n",
      "saving current model at: ./log/dt_halfcheetah_model_24-05-08-16-16-00.pt\n"
     ]
    },
    {
     "name": "stderr",
     "output_type": "stream",
     "text": [
      " 40%|████      | 80/200 [19:34<29:19, 14.66s/it]"
     ]
    },
    {
     "name": "stdout",
     "output_type": "stream",
     "text": [
      "============================================================\n",
      "time elapsed: 0:19:35\n",
      "num of updates: 8000\n",
      "train total loss: 0.13728\n",
      "train state loss: 0.11191\n",
      "train reward loss: 0.02537\n",
      "val total loss: 0.12317\n",
      "val state loss: 0.09440\n",
      "val reward loss: 0.02878\n",
      "saving min loss model at: ./log/dt_halfcheetah_model_24-05-08-16-16-00_best.pt\n",
      "saving current model at: ./log/dt_halfcheetah_model_24-05-08-16-16-00.pt\n"
     ]
    },
    {
     "name": "stderr",
     "output_type": "stream",
     "text": [
      " 40%|████      | 81/200 [19:49<29:23, 14.82s/it]"
     ]
    },
    {
     "name": "stdout",
     "output_type": "stream",
     "text": [
      "============================================================\n",
      "time elapsed: 0:19:50\n",
      "num of updates: 8100\n",
      "train total loss: 0.13505\n",
      "train state loss: 0.11006\n",
      "train reward loss: 0.02498\n",
      "val total loss: 0.11848\n",
      "val state loss: 0.09152\n",
      "val reward loss: 0.02697\n",
      "saving min loss model at: ./log/dt_halfcheetah_model_24-05-08-16-16-00_best.pt\n",
      "saving current model at: ./log/dt_halfcheetah_model_24-05-08-16-16-00.pt\n"
     ]
    },
    {
     "name": "stderr",
     "output_type": "stream",
     "text": [
      " 41%|████      | 82/200 [20:04<28:46, 14.63s/it]"
     ]
    },
    {
     "name": "stdout",
     "output_type": "stream",
     "text": [
      "============================================================\n",
      "time elapsed: 0:20:04\n",
      "num of updates: 8200\n",
      "train total loss: 0.13084\n",
      "train state loss: 0.10656\n",
      "train reward loss: 0.02428\n",
      "val total loss: 0.11339\n",
      "val state loss: 0.09136\n",
      "val reward loss: 0.02202\n",
      "saving min loss model at: ./log/dt_halfcheetah_model_24-05-08-16-16-00_best.pt\n",
      "saving current model at: ./log/dt_halfcheetah_model_24-05-08-16-16-00.pt\n"
     ]
    },
    {
     "name": "stderr",
     "output_type": "stream",
     "text": [
      " 42%|████▏     | 83/200 [20:25<32:37, 16.73s/it]"
     ]
    },
    {
     "name": "stdout",
     "output_type": "stream",
     "text": [
      "============================================================\n",
      "time elapsed: 0:20:26\n",
      "num of updates: 8300\n",
      "train total loss: 0.12882\n",
      "train state loss: 0.10529\n",
      "train reward loss: 0.02353\n",
      "val total loss: 0.11099\n",
      "val state loss: 0.08926\n",
      "val reward loss: 0.02173\n",
      "saving min loss model at: ./log/dt_halfcheetah_model_24-05-08-16-16-00_best.pt\n",
      "saving current model at: ./log/dt_halfcheetah_model_24-05-08-16-16-00.pt\n"
     ]
    },
    {
     "name": "stderr",
     "output_type": "stream",
     "text": [
      " 42%|████▏     | 84/200 [20:42<32:18, 16.71s/it]"
     ]
    },
    {
     "name": "stdout",
     "output_type": "stream",
     "text": [
      "============================================================\n",
      "time elapsed: 0:20:43\n",
      "num of updates: 8400\n",
      "train total loss: 0.12939\n",
      "train state loss: 0.10524\n",
      "train reward loss: 0.02415\n",
      "val total loss: 0.11821\n",
      "val state loss: 0.09269\n",
      "val reward loss: 0.02552\n",
      "saving min loss model at: ./log/dt_halfcheetah_model_24-05-08-16-16-00_best.pt\n",
      "saving current model at: ./log/dt_halfcheetah_model_24-05-08-16-16-00.pt\n"
     ]
    },
    {
     "name": "stderr",
     "output_type": "stream",
     "text": [
      " 42%|████▎     | 85/200 [20:57<31:03, 16.21s/it]"
     ]
    },
    {
     "name": "stdout",
     "output_type": "stream",
     "text": [
      "============================================================\n",
      "time elapsed: 0:20:58\n",
      "num of updates: 8500\n",
      "train total loss: 0.12681\n",
      "train state loss: 0.10282\n",
      "train reward loss: 0.02399\n",
      "val total loss: 0.11713\n",
      "val state loss: 0.09020\n",
      "val reward loss: 0.02693\n",
      "saving min loss model at: ./log/dt_halfcheetah_model_24-05-08-16-16-00_best.pt\n",
      "saving current model at: ./log/dt_halfcheetah_model_24-05-08-16-16-00.pt\n"
     ]
    },
    {
     "name": "stderr",
     "output_type": "stream",
     "text": [
      " 43%|████▎     | 86/200 [21:12<30:06, 15.84s/it]"
     ]
    },
    {
     "name": "stdout",
     "output_type": "stream",
     "text": [
      "============================================================\n",
      "time elapsed: 0:21:13\n",
      "num of updates: 8600\n",
      "train total loss: 0.12163\n",
      "train state loss: 0.09915\n",
      "train reward loss: 0.02248\n",
      "val total loss: 0.11440\n",
      "val state loss: 0.08841\n",
      "val reward loss: 0.02599\n",
      "saving min loss model at: ./log/dt_halfcheetah_model_24-05-08-16-16-00_best.pt\n",
      "saving current model at: ./log/dt_halfcheetah_model_24-05-08-16-16-00.pt\n"
     ]
    },
    {
     "name": "stderr",
     "output_type": "stream",
     "text": [
      " 44%|████▎     | 87/200 [21:26<29:01, 15.41s/it]"
     ]
    },
    {
     "name": "stdout",
     "output_type": "stream",
     "text": [
      "============================================================\n",
      "time elapsed: 0:21:27\n",
      "num of updates: 8700\n",
      "train total loss: 0.12394\n",
      "train state loss: 0.10105\n",
      "train reward loss: 0.02289\n",
      "val total loss: 0.11893\n",
      "val state loss: 0.09210\n",
      "val reward loss: 0.02683\n",
      "saving min loss model at: ./log/dt_halfcheetah_model_24-05-08-16-16-00_best.pt\n",
      "saving current model at: ./log/dt_halfcheetah_model_24-05-08-16-16-00.pt\n"
     ]
    },
    {
     "name": "stderr",
     "output_type": "stream",
     "text": [
      " 44%|████▍     | 88/200 [21:40<28:01, 15.01s/it]"
     ]
    },
    {
     "name": "stdout",
     "output_type": "stream",
     "text": [
      "============================================================\n",
      "time elapsed: 0:21:41\n",
      "num of updates: 8800\n",
      "train total loss: 0.12173\n",
      "train state loss: 0.09924\n",
      "train reward loss: 0.02249\n",
      "val total loss: 0.11569\n",
      "val state loss: 0.08764\n",
      "val reward loss: 0.02806\n",
      "saving min loss model at: ./log/dt_halfcheetah_model_24-05-08-16-16-00_best.pt\n",
      "saving current model at: ./log/dt_halfcheetah_model_24-05-08-16-16-00.pt\n"
     ]
    },
    {
     "name": "stderr",
     "output_type": "stream",
     "text": [
      " 44%|████▍     | 89/200 [21:55<27:45, 15.00s/it]"
     ]
    },
    {
     "name": "stdout",
     "output_type": "stream",
     "text": [
      "============================================================\n",
      "time elapsed: 0:21:56\n",
      "num of updates: 8900\n",
      "train total loss: 0.11707\n",
      "train state loss: 0.09535\n",
      "train reward loss: 0.02172\n",
      "val total loss: 0.11303\n",
      "val state loss: 0.08813\n",
      "val reward loss: 0.02491\n",
      "saving min loss model at: ./log/dt_halfcheetah_model_24-05-08-16-16-00_best.pt\n",
      "saving current model at: ./log/dt_halfcheetah_model_24-05-08-16-16-00.pt\n"
     ]
    },
    {
     "name": "stderr",
     "output_type": "stream",
     "text": [
      " 45%|████▌     | 90/200 [22:10<27:20, 14.91s/it]"
     ]
    },
    {
     "name": "stdout",
     "output_type": "stream",
     "text": [
      "============================================================\n",
      "time elapsed: 0:22:11\n",
      "num of updates: 9000\n",
      "train total loss: 0.12029\n",
      "train state loss: 0.09784\n",
      "train reward loss: 0.02244\n",
      "val total loss: 0.11711\n",
      "val state loss: 0.08416\n",
      "val reward loss: 0.03296\n",
      "saving min loss model at: ./log/dt_halfcheetah_model_24-05-08-16-16-00_best.pt\n",
      "saving current model at: ./log/dt_halfcheetah_model_24-05-08-16-16-00.pt\n"
     ]
    },
    {
     "name": "stderr",
     "output_type": "stream",
     "text": [
      " 46%|████▌     | 91/200 [22:27<28:12, 15.53s/it]"
     ]
    },
    {
     "name": "stdout",
     "output_type": "stream",
     "text": [
      "============================================================\n",
      "time elapsed: 0:22:28\n",
      "num of updates: 9100\n",
      "train total loss: 0.11512\n",
      "train state loss: 0.09363\n",
      "train reward loss: 0.02149\n",
      "val total loss: 0.11243\n",
      "val state loss: 0.08491\n",
      "val reward loss: 0.02752\n",
      "saving min loss model at: ./log/dt_halfcheetah_model_24-05-08-16-16-00_best.pt\n",
      "saving current model at: ./log/dt_halfcheetah_model_24-05-08-16-16-00.pt\n"
     ]
    },
    {
     "name": "stderr",
     "output_type": "stream",
     "text": [
      " 46%|████▌     | 92/200 [22:47<30:35, 17.00s/it]"
     ]
    },
    {
     "name": "stdout",
     "output_type": "stream",
     "text": [
      "============================================================\n",
      "time elapsed: 0:22:48\n",
      "num of updates: 9200\n",
      "train total loss: 0.11262\n",
      "train state loss: 0.09204\n",
      "train reward loss: 0.02058\n",
      "val total loss: 0.10751\n",
      "val state loss: 0.08410\n",
      "val reward loss: 0.02342\n",
      "saving min loss model at: ./log/dt_halfcheetah_model_24-05-08-16-16-00_best.pt\n",
      "saving current model at: ./log/dt_halfcheetah_model_24-05-08-16-16-00.pt\n"
     ]
    },
    {
     "name": "stderr",
     "output_type": "stream",
     "text": [
      " 46%|████▋     | 93/200 [23:07<31:36, 17.72s/it]"
     ]
    },
    {
     "name": "stdout",
     "output_type": "stream",
     "text": [
      "============================================================\n",
      "time elapsed: 0:23:08\n",
      "num of updates: 9300\n",
      "train total loss: 0.11343\n",
      "train state loss: 0.09204\n",
      "train reward loss: 0.02139\n",
      "val total loss: 0.11289\n",
      "val state loss: 0.08875\n",
      "val reward loss: 0.02414\n",
      "saving min loss model at: ./log/dt_halfcheetah_model_24-05-08-16-16-00_best.pt\n",
      "saving current model at: ./log/dt_halfcheetah_model_24-05-08-16-16-00.pt\n"
     ]
    },
    {
     "name": "stderr",
     "output_type": "stream",
     "text": [
      " 47%|████▋     | 94/200 [23:24<30:58, 17.54s/it]"
     ]
    },
    {
     "name": "stdout",
     "output_type": "stream",
     "text": [
      "============================================================\n",
      "time elapsed: 0:23:25\n",
      "num of updates: 9400\n",
      "train total loss: 0.11034\n",
      "train state loss: 0.08990\n",
      "train reward loss: 0.02044\n",
      "val total loss: 0.10760\n",
      "val state loss: 0.08001\n",
      "val reward loss: 0.02759\n",
      "saving min loss model at: ./log/dt_halfcheetah_model_24-05-08-16-16-00_best.pt\n",
      "saving current model at: ./log/dt_halfcheetah_model_24-05-08-16-16-00.pt\n"
     ]
    },
    {
     "name": "stderr",
     "output_type": "stream",
     "text": [
      " 48%|████▊     | 95/200 [23:40<30:06, 17.20s/it]"
     ]
    },
    {
     "name": "stdout",
     "output_type": "stream",
     "text": [
      "============================================================\n",
      "time elapsed: 0:23:41\n",
      "num of updates: 9500\n",
      "train total loss: 0.10975\n",
      "train state loss: 0.08925\n",
      "train reward loss: 0.02050\n",
      "val total loss: 0.10760\n",
      "val state loss: 0.07979\n",
      "val reward loss: 0.02781\n",
      "saving min loss model at: ./log/dt_halfcheetah_model_24-05-08-16-16-00_best.pt\n",
      "saving current model at: ./log/dt_halfcheetah_model_24-05-08-16-16-00.pt\n"
     ]
    },
    {
     "name": "stderr",
     "output_type": "stream",
     "text": [
      " 48%|████▊     | 96/200 [23:57<29:17, 16.89s/it]"
     ]
    },
    {
     "name": "stdout",
     "output_type": "stream",
     "text": [
      "============================================================\n",
      "time elapsed: 0:23:57\n",
      "num of updates: 9600\n",
      "train total loss: 0.10973\n",
      "train state loss: 0.08922\n",
      "train reward loss: 0.02051\n",
      "val total loss: 0.10964\n",
      "val state loss: 0.08162\n",
      "val reward loss: 0.02801\n",
      "saving min loss model at: ./log/dt_halfcheetah_model_24-05-08-16-16-00_best.pt\n",
      "saving current model at: ./log/dt_halfcheetah_model_24-05-08-16-16-00.pt\n"
     ]
    },
    {
     "name": "stderr",
     "output_type": "stream",
     "text": [
      " 48%|████▊     | 97/200 [24:12<28:16, 16.47s/it]"
     ]
    },
    {
     "name": "stdout",
     "output_type": "stream",
     "text": [
      "============================================================\n",
      "time elapsed: 0:24:13\n",
      "num of updates: 9700\n",
      "train total loss: 0.10555\n",
      "train state loss: 0.08627\n",
      "train reward loss: 0.01929\n",
      "val total loss: 0.09371\n",
      "val state loss: 0.07174\n",
      "val reward loss: 0.02197\n",
      "saving min loss model at: ./log/dt_halfcheetah_model_24-05-08-16-16-00_best.pt\n",
      "saving current model at: ./log/dt_halfcheetah_model_24-05-08-16-16-00.pt\n"
     ]
    },
    {
     "name": "stderr",
     "output_type": "stream",
     "text": [
      " 49%|████▉     | 98/200 [24:27<27:26, 16.14s/it]"
     ]
    },
    {
     "name": "stdout",
     "output_type": "stream",
     "text": [
      "============================================================\n",
      "time elapsed: 0:24:28\n",
      "num of updates: 9800\n",
      "train total loss: 0.10552\n",
      "train state loss: 0.08593\n",
      "train reward loss: 0.01959\n",
      "val total loss: 0.10338\n",
      "val state loss: 0.07603\n",
      "val reward loss: 0.02735\n",
      "saving min loss model at: ./log/dt_halfcheetah_model_24-05-08-16-16-00_best.pt\n",
      "saving current model at: ./log/dt_halfcheetah_model_24-05-08-16-16-00.pt\n"
     ]
    },
    {
     "name": "stderr",
     "output_type": "stream",
     "text": [
      " 50%|████▉     | 99/200 [24:44<27:11, 16.15s/it]"
     ]
    },
    {
     "name": "stdout",
     "output_type": "stream",
     "text": [
      "============================================================\n",
      "time elapsed: 0:24:44\n",
      "num of updates: 9900\n",
      "train total loss: 0.10584\n",
      "train state loss: 0.08608\n",
      "train reward loss: 0.01976\n",
      "val total loss: 0.10257\n",
      "val state loss: 0.07943\n",
      "val reward loss: 0.02314\n",
      "saving min loss model at: ./log/dt_halfcheetah_model_24-05-08-16-16-00_best.pt\n",
      "saving current model at: ./log/dt_halfcheetah_model_24-05-08-16-16-00.pt\n"
     ]
    },
    {
     "name": "stderr",
     "output_type": "stream",
     "text": [
      " 50%|█████     | 100/200 [25:01<27:22, 16.42s/it]"
     ]
    },
    {
     "name": "stdout",
     "output_type": "stream",
     "text": [
      "============================================================\n",
      "time elapsed: 0:25:02\n",
      "num of updates: 10000\n",
      "train total loss: 0.10477\n",
      "train state loss: 0.08558\n",
      "train reward loss: 0.01919\n",
      "val total loss: 0.09831\n",
      "val state loss: 0.07592\n",
      "val reward loss: 0.02239\n",
      "saving min loss model at: ./log/dt_halfcheetah_model_24-05-08-16-16-00_best.pt\n",
      "saving current model at: ./log/dt_halfcheetah_model_24-05-08-16-16-00.pt\n"
     ]
    },
    {
     "name": "stderr",
     "output_type": "stream",
     "text": [
      " 50%|█████     | 101/200 [25:18<27:31, 16.68s/it]"
     ]
    },
    {
     "name": "stdout",
     "output_type": "stream",
     "text": [
      "============================================================\n",
      "time elapsed: 0:25:19\n",
      "num of updates: 10100\n",
      "train total loss: 0.10108\n",
      "train state loss: 0.08244\n",
      "train reward loss: 0.01864\n",
      "val total loss: 0.10040\n",
      "val state loss: 0.07778\n",
      "val reward loss: 0.02262\n",
      "saving min loss model at: ./log/dt_halfcheetah_model_24-05-08-16-16-00_best.pt\n",
      "saving current model at: ./log/dt_halfcheetah_model_24-05-08-16-16-00.pt\n"
     ]
    },
    {
     "name": "stderr",
     "output_type": "stream",
     "text": [
      " 51%|█████     | 102/200 [25:34<27:02, 16.55s/it]"
     ]
    },
    {
     "name": "stdout",
     "output_type": "stream",
     "text": [
      "============================================================\n",
      "time elapsed: 0:25:35\n",
      "num of updates: 10200\n",
      "train total loss: 0.10167\n",
      "train state loss: 0.08304\n",
      "train reward loss: 0.01863\n",
      "val total loss: 0.09592\n",
      "val state loss: 0.07370\n",
      "val reward loss: 0.02221\n",
      "saving min loss model at: ./log/dt_halfcheetah_model_24-05-08-16-16-00_best.pt\n",
      "saving current model at: ./log/dt_halfcheetah_model_24-05-08-16-16-00.pt\n"
     ]
    },
    {
     "name": "stderr",
     "output_type": "stream",
     "text": [
      " 52%|█████▏    | 103/200 [25:49<26:06, 16.15s/it]"
     ]
    },
    {
     "name": "stdout",
     "output_type": "stream",
     "text": [
      "============================================================\n",
      "time elapsed: 0:25:50\n",
      "num of updates: 10300\n",
      "train total loss: 0.10143\n",
      "train state loss: 0.08285\n",
      "train reward loss: 0.01858\n",
      "val total loss: 0.09874\n",
      "val state loss: 0.07413\n",
      "val reward loss: 0.02461\n",
      "saving min loss model at: ./log/dt_halfcheetah_model_24-05-08-16-16-00_best.pt\n",
      "saving current model at: ./log/dt_halfcheetah_model_24-05-08-16-16-00.pt\n"
     ]
    },
    {
     "name": "stderr",
     "output_type": "stream",
     "text": [
      " 52%|█████▏    | 104/200 [26:05<25:37, 16.02s/it]"
     ]
    },
    {
     "name": "stdout",
     "output_type": "stream",
     "text": [
      "============================================================\n",
      "time elapsed: 0:26:06\n",
      "num of updates: 10400\n",
      "train total loss: 0.09892\n",
      "train state loss: 0.08073\n",
      "train reward loss: 0.01819\n",
      "val total loss: 0.09601\n",
      "val state loss: 0.07239\n",
      "val reward loss: 0.02363\n",
      "saving min loss model at: ./log/dt_halfcheetah_model_24-05-08-16-16-00_best.pt\n",
      "saving current model at: ./log/dt_halfcheetah_model_24-05-08-16-16-00.pt\n"
     ]
    },
    {
     "name": "stderr",
     "output_type": "stream",
     "text": [
      " 52%|█████▎    | 105/200 [26:19<24:34, 15.52s/it]"
     ]
    },
    {
     "name": "stdout",
     "output_type": "stream",
     "text": [
      "============================================================\n",
      "time elapsed: 0:26:20\n",
      "num of updates: 10500\n",
      "train total loss: 0.09676\n",
      "train state loss: 0.07949\n",
      "train reward loss: 0.01728\n",
      "val total loss: 0.09924\n",
      "val state loss: 0.07773\n",
      "val reward loss: 0.02151\n",
      "saving min loss model at: ./log/dt_halfcheetah_model_24-05-08-16-16-00_best.pt\n",
      "saving current model at: ./log/dt_halfcheetah_model_24-05-08-16-16-00.pt\n"
     ]
    },
    {
     "name": "stderr",
     "output_type": "stream",
     "text": [
      " 53%|█████▎    | 106/200 [26:34<23:51, 15.23s/it]"
     ]
    },
    {
     "name": "stdout",
     "output_type": "stream",
     "text": [
      "============================================================\n",
      "time elapsed: 0:26:35\n",
      "num of updates: 10600\n",
      "train total loss: 0.09588\n",
      "train state loss: 0.07849\n",
      "train reward loss: 0.01739\n",
      "val total loss: 0.09409\n",
      "val state loss: 0.07052\n",
      "val reward loss: 0.02357\n",
      "saving min loss model at: ./log/dt_halfcheetah_model_24-05-08-16-16-00_best.pt\n",
      "saving current model at: ./log/dt_halfcheetah_model_24-05-08-16-16-00.pt\n"
     ]
    },
    {
     "name": "stderr",
     "output_type": "stream",
     "text": [
      " 54%|█████▎    | 107/200 [26:49<23:30, 15.17s/it]"
     ]
    },
    {
     "name": "stdout",
     "output_type": "stream",
     "text": [
      "============================================================\n",
      "time elapsed: 0:26:50\n",
      "num of updates: 10700\n",
      "train total loss: 0.09573\n",
      "train state loss: 0.07845\n",
      "train reward loss: 0.01728\n",
      "val total loss: 0.10028\n",
      "val state loss: 0.07546\n",
      "val reward loss: 0.02482\n",
      "saving min loss model at: ./log/dt_halfcheetah_model_24-05-08-16-16-00_best.pt\n",
      "saving current model at: ./log/dt_halfcheetah_model_24-05-08-16-16-00.pt\n"
     ]
    },
    {
     "name": "stderr",
     "output_type": "stream",
     "text": [
      " 54%|█████▍    | 108/200 [27:04<23:16, 15.18s/it]"
     ]
    },
    {
     "name": "stdout",
     "output_type": "stream",
     "text": [
      "============================================================\n",
      "time elapsed: 0:27:05\n",
      "num of updates: 10800\n",
      "train total loss: 0.09486\n",
      "train state loss: 0.07776\n",
      "train reward loss: 0.01710\n",
      "val total loss: 0.09869\n",
      "val state loss: 0.07586\n",
      "val reward loss: 0.02283\n",
      "saving min loss model at: ./log/dt_halfcheetah_model_24-05-08-16-16-00_best.pt\n",
      "saving current model at: ./log/dt_halfcheetah_model_24-05-08-16-16-00.pt\n"
     ]
    },
    {
     "name": "stderr",
     "output_type": "stream",
     "text": [
      " 55%|█████▍    | 109/200 [27:19<22:50, 15.06s/it]"
     ]
    },
    {
     "name": "stdout",
     "output_type": "stream",
     "text": [
      "============================================================\n",
      "time elapsed: 0:27:20\n",
      "num of updates: 10900\n",
      "train total loss: 0.09286\n",
      "train state loss: 0.07615\n",
      "train reward loss: 0.01672\n",
      "val total loss: 0.09203\n",
      "val state loss: 0.07008\n",
      "val reward loss: 0.02195\n",
      "saving min loss model at: ./log/dt_halfcheetah_model_24-05-08-16-16-00_best.pt\n",
      "saving current model at: ./log/dt_halfcheetah_model_24-05-08-16-16-00.pt\n"
     ]
    },
    {
     "name": "stderr",
     "output_type": "stream",
     "text": [
      " 55%|█████▌    | 110/200 [27:33<22:14, 14.83s/it]"
     ]
    },
    {
     "name": "stdout",
     "output_type": "stream",
     "text": [
      "============================================================\n",
      "time elapsed: 0:27:34\n",
      "num of updates: 11000\n",
      "train total loss: 0.09278\n",
      "train state loss: 0.07594\n",
      "train reward loss: 0.01684\n",
      "val total loss: 0.09166\n",
      "val state loss: 0.07116\n",
      "val reward loss: 0.02050\n",
      "saving min loss model at: ./log/dt_halfcheetah_model_24-05-08-16-16-00_best.pt\n",
      "saving current model at: ./log/dt_halfcheetah_model_24-05-08-16-16-00.pt\n"
     ]
    },
    {
     "name": "stderr",
     "output_type": "stream",
     "text": [
      " 56%|█████▌    | 111/200 [27:48<21:48, 14.70s/it]"
     ]
    },
    {
     "name": "stdout",
     "output_type": "stream",
     "text": [
      "============================================================\n",
      "time elapsed: 0:27:49\n",
      "num of updates: 11100\n",
      "train total loss: 0.09088\n",
      "train state loss: 0.07447\n",
      "train reward loss: 0.01642\n",
      "val total loss: 0.10085\n",
      "val state loss: 0.07630\n",
      "val reward loss: 0.02455\n",
      "saving min loss model at: ./log/dt_halfcheetah_model_24-05-08-16-16-00_best.pt\n",
      "saving current model at: ./log/dt_halfcheetah_model_24-05-08-16-16-00.pt\n"
     ]
    },
    {
     "name": "stderr",
     "output_type": "stream",
     "text": [
      " 56%|█████▌    | 112/200 [28:03<21:44, 14.82s/it]"
     ]
    },
    {
     "name": "stdout",
     "output_type": "stream",
     "text": [
      "============================================================\n",
      "time elapsed: 0:28:04\n",
      "num of updates: 11200\n",
      "train total loss: 0.09215\n",
      "train state loss: 0.07521\n",
      "train reward loss: 0.01694\n",
      "val total loss: 0.09344\n",
      "val state loss: 0.07217\n",
      "val reward loss: 0.02128\n",
      "saving min loss model at: ./log/dt_halfcheetah_model_24-05-08-16-16-00_best.pt\n",
      "saving current model at: ./log/dt_halfcheetah_model_24-05-08-16-16-00.pt\n"
     ]
    },
    {
     "name": "stderr",
     "output_type": "stream",
     "text": [
      " 56%|█████▋    | 113/200 [28:17<21:24, 14.76s/it]"
     ]
    },
    {
     "name": "stdout",
     "output_type": "stream",
     "text": [
      "============================================================\n",
      "time elapsed: 0:28:18\n",
      "num of updates: 11300\n",
      "train total loss: 0.09095\n",
      "train state loss: 0.07409\n",
      "train reward loss: 0.01687\n",
      "val total loss: 0.09155\n",
      "val state loss: 0.06858\n",
      "val reward loss: 0.02297\n",
      "saving min loss model at: ./log/dt_halfcheetah_model_24-05-08-16-16-00_best.pt\n",
      "saving current model at: ./log/dt_halfcheetah_model_24-05-08-16-16-00.pt\n"
     ]
    },
    {
     "name": "stderr",
     "output_type": "stream",
     "text": [
      " 57%|█████▋    | 114/200 [28:32<21:00, 14.65s/it]"
     ]
    },
    {
     "name": "stdout",
     "output_type": "stream",
     "text": [
      "============================================================\n",
      "time elapsed: 0:28:33\n",
      "num of updates: 11400\n",
      "train total loss: 0.09039\n",
      "train state loss: 0.07425\n",
      "train reward loss: 0.01614\n",
      "val total loss: 0.08720\n",
      "val state loss: 0.06731\n",
      "val reward loss: 0.01990\n",
      "saving min loss model at: ./log/dt_halfcheetah_model_24-05-08-16-16-00_best.pt\n",
      "saving current model at: ./log/dt_halfcheetah_model_24-05-08-16-16-00.pt\n"
     ]
    },
    {
     "name": "stderr",
     "output_type": "stream",
     "text": [
      " 57%|█████▊    | 115/200 [28:47<20:48, 14.69s/it]"
     ]
    },
    {
     "name": "stdout",
     "output_type": "stream",
     "text": [
      "============================================================\n",
      "time elapsed: 0:28:47\n",
      "num of updates: 11500\n",
      "train total loss: 0.08926\n",
      "train state loss: 0.07329\n",
      "train reward loss: 0.01597\n",
      "val total loss: 0.09040\n",
      "val state loss: 0.06847\n",
      "val reward loss: 0.02193\n",
      "saving min loss model at: ./log/dt_halfcheetah_model_24-05-08-16-16-00_best.pt\n",
      "saving current model at: ./log/dt_halfcheetah_model_24-05-08-16-16-00.pt\n"
     ]
    },
    {
     "name": "stderr",
     "output_type": "stream",
     "text": [
      " 58%|█████▊    | 116/200 [29:02<20:43, 14.80s/it]"
     ]
    },
    {
     "name": "stdout",
     "output_type": "stream",
     "text": [
      "============================================================\n",
      "time elapsed: 0:29:03\n",
      "num of updates: 11600\n",
      "train total loss: 0.08800\n",
      "train state loss: 0.07215\n",
      "train reward loss: 0.01584\n",
      "val total loss: 0.09151\n",
      "val state loss: 0.06881\n",
      "val reward loss: 0.02270\n",
      "saving min loss model at: ./log/dt_halfcheetah_model_24-05-08-16-16-00_best.pt\n",
      "saving current model at: ./log/dt_halfcheetah_model_24-05-08-16-16-00.pt\n"
     ]
    },
    {
     "name": "stderr",
     "output_type": "stream",
     "text": [
      " 58%|█████▊    | 117/200 [29:16<20:22, 14.72s/it]"
     ]
    },
    {
     "name": "stdout",
     "output_type": "stream",
     "text": [
      "============================================================\n",
      "time elapsed: 0:29:17\n",
      "num of updates: 11700\n",
      "train total loss: 0.08663\n",
      "train state loss: 0.07121\n",
      "train reward loss: 0.01541\n",
      "val total loss: 0.09572\n",
      "val state loss: 0.07124\n",
      "val reward loss: 0.02448\n",
      "saving min loss model at: ./log/dt_halfcheetah_model_24-05-08-16-16-00_best.pt\n",
      "saving current model at: ./log/dt_halfcheetah_model_24-05-08-16-16-00.pt\n"
     ]
    },
    {
     "name": "stderr",
     "output_type": "stream",
     "text": [
      " 59%|█████▉    | 118/200 [29:31<20:12, 14.79s/it]"
     ]
    },
    {
     "name": "stdout",
     "output_type": "stream",
     "text": [
      "============================================================\n",
      "time elapsed: 0:29:32\n",
      "num of updates: 11800\n",
      "train total loss: 0.08854\n",
      "train state loss: 0.07228\n",
      "train reward loss: 0.01626\n",
      "val total loss: 0.09163\n",
      "val state loss: 0.06607\n",
      "val reward loss: 0.02555\n",
      "saving min loss model at: ./log/dt_halfcheetah_model_24-05-08-16-16-00_best.pt\n",
      "saving current model at: ./log/dt_halfcheetah_model_24-05-08-16-16-00.pt\n"
     ]
    },
    {
     "name": "stderr",
     "output_type": "stream",
     "text": [
      " 60%|█████▉    | 119/200 [29:46<19:52, 14.73s/it]"
     ]
    },
    {
     "name": "stdout",
     "output_type": "stream",
     "text": [
      "============================================================\n",
      "time elapsed: 0:29:47\n",
      "num of updates: 11900\n",
      "train total loss: 0.08635\n",
      "train state loss: 0.07054\n",
      "train reward loss: 0.01581\n",
      "val total loss: 0.08844\n",
      "val state loss: 0.06811\n",
      "val reward loss: 0.02033\n",
      "saving min loss model at: ./log/dt_halfcheetah_model_24-05-08-16-16-00_best.pt\n",
      "saving current model at: ./log/dt_halfcheetah_model_24-05-08-16-16-00.pt\n"
     ]
    },
    {
     "name": "stderr",
     "output_type": "stream",
     "text": [
      " 60%|██████    | 120/200 [30:01<19:48, 14.85s/it]"
     ]
    },
    {
     "name": "stdout",
     "output_type": "stream",
     "text": [
      "============================================================\n",
      "time elapsed: 0:30:02\n",
      "num of updates: 12000\n",
      "train total loss: 0.08718\n",
      "train state loss: 0.07125\n",
      "train reward loss: 0.01593\n",
      "val total loss: 0.08765\n",
      "val state loss: 0.06627\n",
      "val reward loss: 0.02138\n",
      "saving min loss model at: ./log/dt_halfcheetah_model_24-05-08-16-16-00_best.pt\n",
      "saving current model at: ./log/dt_halfcheetah_model_24-05-08-16-16-00.pt\n"
     ]
    },
    {
     "name": "stderr",
     "output_type": "stream",
     "text": [
      " 60%|██████    | 121/200 [30:16<19:29, 14.81s/it]"
     ]
    },
    {
     "name": "stdout",
     "output_type": "stream",
     "text": [
      "============================================================\n",
      "time elapsed: 0:30:16\n",
      "num of updates: 12100\n",
      "train total loss: 0.08310\n",
      "train state loss: 0.06856\n",
      "train reward loss: 0.01454\n",
      "val total loss: 0.08525\n",
      "val state loss: 0.06461\n",
      "val reward loss: 0.02064\n",
      "saving min loss model at: ./log/dt_halfcheetah_model_24-05-08-16-16-00_best.pt\n",
      "saving current model at: ./log/dt_halfcheetah_model_24-05-08-16-16-00.pt\n"
     ]
    },
    {
     "name": "stderr",
     "output_type": "stream",
     "text": [
      " 61%|██████    | 122/200 [30:30<18:58, 14.60s/it]"
     ]
    },
    {
     "name": "stdout",
     "output_type": "stream",
     "text": [
      "============================================================\n",
      "time elapsed: 0:30:31\n",
      "num of updates: 12200\n",
      "train total loss: 0.08293\n",
      "train state loss: 0.06829\n",
      "train reward loss: 0.01464\n",
      "val total loss: 0.09026\n",
      "val state loss: 0.06894\n",
      "val reward loss: 0.02132\n",
      "saving min loss model at: ./log/dt_halfcheetah_model_24-05-08-16-16-00_best.pt\n",
      "saving current model at: ./log/dt_halfcheetah_model_24-05-08-16-16-00.pt\n"
     ]
    },
    {
     "name": "stderr",
     "output_type": "stream",
     "text": [
      " 62%|██████▏   | 123/200 [30:44<18:43, 14.59s/it]"
     ]
    },
    {
     "name": "stdout",
     "output_type": "stream",
     "text": [
      "============================================================\n",
      "time elapsed: 0:30:45\n",
      "num of updates: 12300\n",
      "train total loss: 0.08531\n",
      "train state loss: 0.06997\n",
      "train reward loss: 0.01534\n",
      "val total loss: 0.09393\n",
      "val state loss: 0.06957\n",
      "val reward loss: 0.02436\n",
      "saving min loss model at: ./log/dt_halfcheetah_model_24-05-08-16-16-00_best.pt\n",
      "saving current model at: ./log/dt_halfcheetah_model_24-05-08-16-16-00.pt\n"
     ]
    },
    {
     "name": "stderr",
     "output_type": "stream",
     "text": [
      " 62%|██████▏   | 124/200 [30:59<18:41, 14.76s/it]"
     ]
    },
    {
     "name": "stdout",
     "output_type": "stream",
     "text": [
      "============================================================\n",
      "time elapsed: 0:31:00\n",
      "num of updates: 12400\n",
      "train total loss: 0.08367\n",
      "train state loss: 0.06843\n",
      "train reward loss: 0.01524\n",
      "val total loss: 0.08703\n",
      "val state loss: 0.06499\n",
      "val reward loss: 0.02204\n",
      "saving min loss model at: ./log/dt_halfcheetah_model_24-05-08-16-16-00_best.pt\n",
      "saving current model at: ./log/dt_halfcheetah_model_24-05-08-16-16-00.pt\n"
     ]
    },
    {
     "name": "stderr",
     "output_type": "stream",
     "text": [
      " 62%|██████▎   | 125/200 [31:14<18:31, 14.83s/it]"
     ]
    },
    {
     "name": "stdout",
     "output_type": "stream",
     "text": [
      "============================================================\n",
      "time elapsed: 0:31:15\n",
      "num of updates: 12500\n",
      "train total loss: 0.08262\n",
      "train state loss: 0.06797\n",
      "train reward loss: 0.01466\n",
      "val total loss: 0.08391\n",
      "val state loss: 0.06445\n",
      "val reward loss: 0.01946\n",
      "saving min loss model at: ./log/dt_halfcheetah_model_24-05-08-16-16-00_best.pt\n",
      "saving current model at: ./log/dt_halfcheetah_model_24-05-08-16-16-00.pt\n"
     ]
    },
    {
     "name": "stderr",
     "output_type": "stream",
     "text": [
      " 63%|██████▎   | 126/200 [31:29<18:04, 14.66s/it]"
     ]
    },
    {
     "name": "stdout",
     "output_type": "stream",
     "text": [
      "============================================================\n",
      "time elapsed: 0:31:30\n",
      "num of updates: 12600\n",
      "train total loss: 0.08193\n",
      "train state loss: 0.06758\n",
      "train reward loss: 0.01435\n",
      "val total loss: 0.08532\n",
      "val state loss: 0.06639\n",
      "val reward loss: 0.01893\n",
      "saving min loss model at: ./log/dt_halfcheetah_model_24-05-08-16-16-00_best.pt\n",
      "saving current model at: ./log/dt_halfcheetah_model_24-05-08-16-16-00.pt\n"
     ]
    },
    {
     "name": "stderr",
     "output_type": "stream",
     "text": [
      " 64%|██████▎   | 127/200 [31:43<17:34, 14.45s/it]"
     ]
    },
    {
     "name": "stdout",
     "output_type": "stream",
     "text": [
      "============================================================\n",
      "time elapsed: 0:31:44\n",
      "num of updates: 12700\n",
      "train total loss: 0.08176\n",
      "train state loss: 0.06725\n",
      "train reward loss: 0.01451\n",
      "val total loss: 0.08230\n",
      "val state loss: 0.06494\n",
      "val reward loss: 0.01737\n",
      "saving min loss model at: ./log/dt_halfcheetah_model_24-05-08-16-16-00_best.pt\n",
      "saving current model at: ./log/dt_halfcheetah_model_24-05-08-16-16-00.pt\n"
     ]
    },
    {
     "name": "stderr",
     "output_type": "stream",
     "text": [
      " 64%|██████▍   | 128/200 [31:57<17:16, 14.40s/it]"
     ]
    },
    {
     "name": "stdout",
     "output_type": "stream",
     "text": [
      "============================================================\n",
      "time elapsed: 0:31:58\n",
      "num of updates: 12800\n",
      "train total loss: 0.08165\n",
      "train state loss: 0.06736\n",
      "train reward loss: 0.01428\n",
      "val total loss: 0.08415\n",
      "val state loss: 0.06475\n",
      "val reward loss: 0.01941\n",
      "saving min loss model at: ./log/dt_halfcheetah_model_24-05-08-16-16-00_best.pt\n",
      "saving current model at: ./log/dt_halfcheetah_model_24-05-08-16-16-00.pt\n"
     ]
    },
    {
     "name": "stderr",
     "output_type": "stream",
     "text": [
      " 64%|██████▍   | 129/200 [32:11<16:59, 14.36s/it]"
     ]
    },
    {
     "name": "stdout",
     "output_type": "stream",
     "text": [
      "============================================================\n",
      "time elapsed: 0:32:12\n",
      "num of updates: 12900\n",
      "train total loss: 0.08155\n",
      "train state loss: 0.06713\n",
      "train reward loss: 0.01442\n",
      "val total loss: 0.08705\n",
      "val state loss: 0.06319\n",
      "val reward loss: 0.02386\n",
      "saving min loss model at: ./log/dt_halfcheetah_model_24-05-08-16-16-00_best.pt\n",
      "saving current model at: ./log/dt_halfcheetah_model_24-05-08-16-16-00.pt\n"
     ]
    },
    {
     "name": "stderr",
     "output_type": "stream",
     "text": [
      " 65%|██████▌   | 130/200 [32:26<16:47, 14.40s/it]"
     ]
    },
    {
     "name": "stdout",
     "output_type": "stream",
     "text": [
      "============================================================\n",
      "time elapsed: 0:32:27\n",
      "num of updates: 13000\n",
      "train total loss: 0.08006\n",
      "train state loss: 0.06602\n",
      "train reward loss: 0.01405\n",
      "val total loss: 0.08444\n",
      "val state loss: 0.06721\n",
      "val reward loss: 0.01723\n",
      "saving min loss model at: ./log/dt_halfcheetah_model_24-05-08-16-16-00_best.pt\n",
      "saving current model at: ./log/dt_halfcheetah_model_24-05-08-16-16-00.pt\n"
     ]
    },
    {
     "name": "stderr",
     "output_type": "stream",
     "text": [
      " 66%|██████▌   | 131/200 [32:40<16:40, 14.51s/it]"
     ]
    },
    {
     "name": "stdout",
     "output_type": "stream",
     "text": [
      "============================================================\n",
      "time elapsed: 0:32:41\n",
      "num of updates: 13100\n",
      "train total loss: 0.07987\n",
      "train state loss: 0.06568\n",
      "train reward loss: 0.01419\n",
      "val total loss: 0.08445\n",
      "val state loss: 0.06289\n",
      "val reward loss: 0.02156\n",
      "saving min loss model at: ./log/dt_halfcheetah_model_24-05-08-16-16-00_best.pt\n",
      "saving current model at: ./log/dt_halfcheetah_model_24-05-08-16-16-00.pt\n"
     ]
    },
    {
     "name": "stderr",
     "output_type": "stream",
     "text": [
      " 66%|██████▌   | 132/200 [32:56<16:45, 14.79s/it]"
     ]
    },
    {
     "name": "stdout",
     "output_type": "stream",
     "text": [
      "============================================================\n",
      "time elapsed: 0:32:57\n",
      "num of updates: 13200\n",
      "train total loss: 0.07878\n",
      "train state loss: 0.06499\n",
      "train reward loss: 0.01380\n",
      "val total loss: 0.08772\n",
      "val state loss: 0.06565\n",
      "val reward loss: 0.02207\n",
      "saving min loss model at: ./log/dt_halfcheetah_model_24-05-08-16-16-00_best.pt\n",
      "saving current model at: ./log/dt_halfcheetah_model_24-05-08-16-16-00.pt\n"
     ]
    },
    {
     "name": "stderr",
     "output_type": "stream",
     "text": [
      " 66%|██████▋   | 133/200 [33:11<16:37, 14.89s/it]"
     ]
    },
    {
     "name": "stdout",
     "output_type": "stream",
     "text": [
      "============================================================\n",
      "time elapsed: 0:33:12\n",
      "num of updates: 13300\n",
      "train total loss: 0.07820\n",
      "train state loss: 0.06479\n",
      "train reward loss: 0.01340\n",
      "val total loss: 0.08402\n",
      "val state loss: 0.06298\n",
      "val reward loss: 0.02104\n",
      "saving min loss model at: ./log/dt_halfcheetah_model_24-05-08-16-16-00_best.pt\n",
      "saving current model at: ./log/dt_halfcheetah_model_24-05-08-16-16-00.pt\n"
     ]
    },
    {
     "name": "stderr",
     "output_type": "stream",
     "text": [
      " 67%|██████▋   | 134/200 [33:26<16:22, 14.89s/it]"
     ]
    },
    {
     "name": "stdout",
     "output_type": "stream",
     "text": [
      "============================================================\n",
      "time elapsed: 0:33:27\n",
      "num of updates: 13400\n",
      "train total loss: 0.07826\n",
      "train state loss: 0.06456\n",
      "train reward loss: 0.01370\n",
      "val total loss: 0.08734\n",
      "val state loss: 0.06327\n",
      "val reward loss: 0.02407\n",
      "saving min loss model at: ./log/dt_halfcheetah_model_24-05-08-16-16-00_best.pt\n",
      "saving current model at: ./log/dt_halfcheetah_model_24-05-08-16-16-00.pt\n"
     ]
    },
    {
     "name": "stderr",
     "output_type": "stream",
     "text": [
      " 68%|██████▊   | 135/200 [33:40<15:56, 14.71s/it]"
     ]
    },
    {
     "name": "stdout",
     "output_type": "stream",
     "text": [
      "============================================================\n",
      "time elapsed: 0:33:41\n",
      "num of updates: 13500\n",
      "train total loss: 0.07680\n",
      "train state loss: 0.06371\n",
      "train reward loss: 0.01309\n",
      "val total loss: 0.08378\n",
      "val state loss: 0.06184\n",
      "val reward loss: 0.02193\n",
      "saving min loss model at: ./log/dt_halfcheetah_model_24-05-08-16-16-00_best.pt\n",
      "saving current model at: ./log/dt_halfcheetah_model_24-05-08-16-16-00.pt\n"
     ]
    },
    {
     "name": "stderr",
     "output_type": "stream",
     "text": [
      " 68%|██████▊   | 136/200 [33:55<15:37, 14.65s/it]"
     ]
    },
    {
     "name": "stdout",
     "output_type": "stream",
     "text": [
      "============================================================\n",
      "time elapsed: 0:33:56\n",
      "num of updates: 13600\n",
      "train total loss: 0.07792\n",
      "train state loss: 0.06404\n",
      "train reward loss: 0.01388\n",
      "val total loss: 0.08419\n",
      "val state loss: 0.06268\n",
      "val reward loss: 0.02151\n",
      "saving min loss model at: ./log/dt_halfcheetah_model_24-05-08-16-16-00_best.pt\n",
      "saving current model at: ./log/dt_halfcheetah_model_24-05-08-16-16-00.pt\n"
     ]
    },
    {
     "name": "stderr",
     "output_type": "stream",
     "text": [
      " 68%|██████▊   | 137/200 [34:09<15:25, 14.69s/it]"
     ]
    },
    {
     "name": "stdout",
     "output_type": "stream",
     "text": [
      "============================================================\n",
      "time elapsed: 0:34:10\n",
      "num of updates: 13700\n",
      "train total loss: 0.07519\n",
      "train state loss: 0.06231\n",
      "train reward loss: 0.01289\n",
      "val total loss: 0.08527\n",
      "val state loss: 0.06608\n",
      "val reward loss: 0.01919\n",
      "saving min loss model at: ./log/dt_halfcheetah_model_24-05-08-16-16-00_best.pt\n",
      "saving current model at: ./log/dt_halfcheetah_model_24-05-08-16-16-00.pt\n"
     ]
    },
    {
     "name": "stderr",
     "output_type": "stream",
     "text": [
      " 69%|██████▉   | 138/200 [34:24<15:12, 14.72s/it]"
     ]
    },
    {
     "name": "stdout",
     "output_type": "stream",
     "text": [
      "============================================================\n",
      "time elapsed: 0:34:25\n",
      "num of updates: 13800\n",
      "train total loss: 0.07698\n",
      "train state loss: 0.06376\n",
      "train reward loss: 0.01322\n",
      "val total loss: 0.08686\n",
      "val state loss: 0.06379\n",
      "val reward loss: 0.02307\n",
      "saving min loss model at: ./log/dt_halfcheetah_model_24-05-08-16-16-00_best.pt\n",
      "saving current model at: ./log/dt_halfcheetah_model_24-05-08-16-16-00.pt\n"
     ]
    },
    {
     "name": "stderr",
     "output_type": "stream",
     "text": [
      " 70%|██████▉   | 139/200 [34:40<15:18, 15.05s/it]"
     ]
    },
    {
     "name": "stdout",
     "output_type": "stream",
     "text": [
      "============================================================\n",
      "time elapsed: 0:34:41\n",
      "num of updates: 13900\n",
      "train total loss: 0.07597\n",
      "train state loss: 0.06275\n",
      "train reward loss: 0.01322\n",
      "val total loss: 0.08317\n",
      "val state loss: 0.06182\n",
      "val reward loss: 0.02135\n",
      "saving min loss model at: ./log/dt_halfcheetah_model_24-05-08-16-16-00_best.pt\n",
      "saving current model at: ./log/dt_halfcheetah_model_24-05-08-16-16-00.pt\n"
     ]
    },
    {
     "name": "stderr",
     "output_type": "stream",
     "text": [
      " 70%|███████   | 140/200 [34:56<15:10, 15.17s/it]"
     ]
    },
    {
     "name": "stdout",
     "output_type": "stream",
     "text": [
      "============================================================\n",
      "time elapsed: 0:34:56\n",
      "num of updates: 14000\n",
      "train total loss: 0.07588\n",
      "train state loss: 0.06202\n",
      "train reward loss: 0.01386\n",
      "val total loss: 0.08547\n",
      "val state loss: 0.06540\n",
      "val reward loss: 0.02007\n",
      "saving min loss model at: ./log/dt_halfcheetah_model_24-05-08-16-16-00_best.pt\n",
      "saving current model at: ./log/dt_halfcheetah_model_24-05-08-16-16-00.pt\n"
     ]
    },
    {
     "name": "stderr",
     "output_type": "stream",
     "text": [
      " 70%|███████   | 141/200 [35:10<14:50, 15.10s/it]"
     ]
    },
    {
     "name": "stdout",
     "output_type": "stream",
     "text": [
      "============================================================\n",
      "time elapsed: 0:35:11\n",
      "num of updates: 14100\n",
      "train total loss: 0.07512\n",
      "train state loss: 0.06207\n",
      "train reward loss: 0.01305\n",
      "val total loss: 0.08448\n",
      "val state loss: 0.06491\n",
      "val reward loss: 0.01958\n",
      "saving min loss model at: ./log/dt_halfcheetah_model_24-05-08-16-16-00_best.pt\n",
      "saving current model at: ./log/dt_halfcheetah_model_24-05-08-16-16-00.pt\n"
     ]
    },
    {
     "name": "stderr",
     "output_type": "stream",
     "text": [
      " 71%|███████   | 142/200 [35:25<14:22, 14.87s/it]"
     ]
    },
    {
     "name": "stdout",
     "output_type": "stream",
     "text": [
      "============================================================\n",
      "time elapsed: 0:35:26\n",
      "num of updates: 14200\n",
      "train total loss: 0.07521\n",
      "train state loss: 0.06211\n",
      "train reward loss: 0.01310\n",
      "val total loss: 0.08433\n",
      "val state loss: 0.06217\n",
      "val reward loss: 0.02216\n",
      "saving min loss model at: ./log/dt_halfcheetah_model_24-05-08-16-16-00_best.pt\n",
      "saving current model at: ./log/dt_halfcheetah_model_24-05-08-16-16-00.pt\n"
     ]
    },
    {
     "name": "stderr",
     "output_type": "stream",
     "text": [
      " 72%|███████▏  | 143/200 [35:41<14:24, 15.16s/it]"
     ]
    },
    {
     "name": "stdout",
     "output_type": "stream",
     "text": [
      "============================================================\n",
      "time elapsed: 0:35:42\n",
      "num of updates: 14300\n",
      "train total loss: 0.07426\n",
      "train state loss: 0.06134\n",
      "train reward loss: 0.01291\n",
      "val total loss: 0.08292\n",
      "val state loss: 0.06145\n",
      "val reward loss: 0.02147\n",
      "saving min loss model at: ./log/dt_halfcheetah_model_24-05-08-16-16-00_best.pt\n",
      "saving current model at: ./log/dt_halfcheetah_model_24-05-08-16-16-00.pt\n"
     ]
    },
    {
     "name": "stderr",
     "output_type": "stream",
     "text": [
      " 72%|███████▏  | 144/200 [36:01<15:40, 16.80s/it]"
     ]
    },
    {
     "name": "stdout",
     "output_type": "stream",
     "text": [
      "============================================================\n",
      "time elapsed: 0:36:02\n",
      "num of updates: 14400\n",
      "train total loss: 0.07481\n",
      "train state loss: 0.06154\n",
      "train reward loss: 0.01327\n",
      "val total loss: 0.08774\n",
      "val state loss: 0.05987\n",
      "val reward loss: 0.02787\n",
      "saving min loss model at: ./log/dt_halfcheetah_model_24-05-08-16-16-00_best.pt\n",
      "saving current model at: ./log/dt_halfcheetah_model_24-05-08-16-16-00.pt\n"
     ]
    },
    {
     "name": "stderr",
     "output_type": "stream",
     "text": [
      " 72%|███████▎  | 145/200 [36:16<14:51, 16.21s/it]"
     ]
    },
    {
     "name": "stdout",
     "output_type": "stream",
     "text": [
      "============================================================\n",
      "time elapsed: 0:36:17\n",
      "num of updates: 14500\n",
      "train total loss: 0.07452\n",
      "train state loss: 0.06137\n",
      "train reward loss: 0.01315\n",
      "val total loss: 0.08161\n",
      "val state loss: 0.06066\n",
      "val reward loss: 0.02095\n",
      "saving min loss model at: ./log/dt_halfcheetah_model_24-05-08-16-16-00_best.pt\n",
      "saving current model at: ./log/dt_halfcheetah_model_24-05-08-16-16-00.pt\n"
     ]
    },
    {
     "name": "stderr",
     "output_type": "stream",
     "text": [
      " 73%|███████▎  | 146/200 [36:31<14:09, 15.73s/it]"
     ]
    },
    {
     "name": "stdout",
     "output_type": "stream",
     "text": [
      "============================================================\n",
      "time elapsed: 0:36:32\n",
      "num of updates: 14600\n",
      "train total loss: 0.07320\n",
      "train state loss: 0.06042\n",
      "train reward loss: 0.01278\n",
      "val total loss: 0.08554\n",
      "val state loss: 0.06209\n",
      "val reward loss: 0.02346\n",
      "saving min loss model at: ./log/dt_halfcheetah_model_24-05-08-16-16-00_best.pt\n",
      "saving current model at: ./log/dt_halfcheetah_model_24-05-08-16-16-00.pt\n"
     ]
    },
    {
     "name": "stderr",
     "output_type": "stream",
     "text": [
      " 74%|███████▎  | 147/200 [36:46<13:39, 15.47s/it]"
     ]
    },
    {
     "name": "stdout",
     "output_type": "stream",
     "text": [
      "============================================================\n",
      "time elapsed: 0:36:46\n",
      "num of updates: 14700\n",
      "train total loss: 0.07324\n",
      "train state loss: 0.06063\n",
      "train reward loss: 0.01261\n",
      "val total loss: 0.07900\n",
      "val state loss: 0.06049\n",
      "val reward loss: 0.01851\n",
      "saving min loss model at: ./log/dt_halfcheetah_model_24-05-08-16-16-00_best.pt\n",
      "saving current model at: ./log/dt_halfcheetah_model_24-05-08-16-16-00.pt\n"
     ]
    },
    {
     "name": "stderr",
     "output_type": "stream",
     "text": [
      " 74%|███████▍  | 148/200 [37:01<13:25, 15.49s/it]"
     ]
    },
    {
     "name": "stdout",
     "output_type": "stream",
     "text": [
      "============================================================\n",
      "time elapsed: 0:37:02\n",
      "num of updates: 14800\n",
      "train total loss: 0.07298\n",
      "train state loss: 0.06002\n",
      "train reward loss: 0.01296\n",
      "val total loss: 0.07924\n",
      "val state loss: 0.06073\n",
      "val reward loss: 0.01851\n",
      "saving min loss model at: ./log/dt_halfcheetah_model_24-05-08-16-16-00_best.pt\n",
      "saving current model at: ./log/dt_halfcheetah_model_24-05-08-16-16-00.pt\n"
     ]
    },
    {
     "name": "stderr",
     "output_type": "stream",
     "text": [
      " 74%|███████▍  | 149/200 [37:16<12:56, 15.23s/it]"
     ]
    },
    {
     "name": "stdout",
     "output_type": "stream",
     "text": [
      "============================================================\n",
      "time elapsed: 0:37:17\n",
      "num of updates: 14900\n",
      "train total loss: 0.07223\n",
      "train state loss: 0.05977\n",
      "train reward loss: 0.01247\n",
      "val total loss: 0.08211\n",
      "val state loss: 0.06198\n",
      "val reward loss: 0.02012\n",
      "saving min loss model at: ./log/dt_halfcheetah_model_24-05-08-16-16-00_best.pt\n",
      "saving current model at: ./log/dt_halfcheetah_model_24-05-08-16-16-00.pt\n"
     ]
    },
    {
     "name": "stderr",
     "output_type": "stream",
     "text": [
      " 75%|███████▌  | 150/200 [37:30<12:29, 14.99s/it]"
     ]
    },
    {
     "name": "stdout",
     "output_type": "stream",
     "text": [
      "============================================================\n",
      "time elapsed: 0:37:31\n",
      "num of updates: 15000\n",
      "train total loss: 0.07260\n",
      "train state loss: 0.05993\n",
      "train reward loss: 0.01267\n",
      "val total loss: 0.08237\n",
      "val state loss: 0.06205\n",
      "val reward loss: 0.02032\n",
      "saving min loss model at: ./log/dt_halfcheetah_model_24-05-08-16-16-00_best.pt\n",
      "saving current model at: ./log/dt_halfcheetah_model_24-05-08-16-16-00.pt\n"
     ]
    },
    {
     "name": "stderr",
     "output_type": "stream",
     "text": [
      " 76%|███████▌  | 151/200 [37:44<11:58, 14.66s/it]"
     ]
    },
    {
     "name": "stdout",
     "output_type": "stream",
     "text": [
      "============================================================\n",
      "time elapsed: 0:37:45\n",
      "num of updates: 15100\n",
      "train total loss: 0.07135\n",
      "train state loss: 0.05921\n",
      "train reward loss: 0.01214\n",
      "val total loss: 0.07884\n",
      "val state loss: 0.05802\n",
      "val reward loss: 0.02082\n",
      "saving min loss model at: ./log/dt_halfcheetah_model_24-05-08-16-16-00_best.pt\n",
      "saving current model at: ./log/dt_halfcheetah_model_24-05-08-16-16-00.pt\n"
     ]
    },
    {
     "name": "stderr",
     "output_type": "stream",
     "text": [
      " 76%|███████▌  | 152/200 [37:59<11:44, 14.67s/it]"
     ]
    },
    {
     "name": "stdout",
     "output_type": "stream",
     "text": [
      "============================================================\n",
      "time elapsed: 0:38:00\n",
      "num of updates: 15200\n",
      "train total loss: 0.07181\n",
      "train state loss: 0.05928\n",
      "train reward loss: 0.01252\n",
      "val total loss: 0.08389\n",
      "val state loss: 0.06316\n",
      "val reward loss: 0.02073\n",
      "saving min loss model at: ./log/dt_halfcheetah_model_24-05-08-16-16-00_best.pt\n",
      "saving current model at: ./log/dt_halfcheetah_model_24-05-08-16-16-00.pt\n"
     ]
    },
    {
     "name": "stderr",
     "output_type": "stream",
     "text": [
      " 76%|███████▋  | 153/200 [38:13<11:25, 14.59s/it]"
     ]
    },
    {
     "name": "stdout",
     "output_type": "stream",
     "text": [
      "============================================================\n",
      "time elapsed: 0:38:14\n",
      "num of updates: 15300\n",
      "train total loss: 0.07038\n",
      "train state loss: 0.05815\n",
      "train reward loss: 0.01222\n",
      "val total loss: 0.08102\n",
      "val state loss: 0.05916\n",
      "val reward loss: 0.02186\n",
      "saving min loss model at: ./log/dt_halfcheetah_model_24-05-08-16-16-00_best.pt\n",
      "saving current model at: ./log/dt_halfcheetah_model_24-05-08-16-16-00.pt\n"
     ]
    },
    {
     "name": "stderr",
     "output_type": "stream",
     "text": [
      " 77%|███████▋  | 154/200 [38:28<11:12, 14.63s/it]"
     ]
    },
    {
     "name": "stdout",
     "output_type": "stream",
     "text": [
      "============================================================\n",
      "time elapsed: 0:38:29\n",
      "num of updates: 15400\n",
      "train total loss: 0.07111\n",
      "train state loss: 0.05889\n",
      "train reward loss: 0.01222\n",
      "val total loss: 0.08101\n",
      "val state loss: 0.06310\n",
      "val reward loss: 0.01791\n",
      "saving min loss model at: ./log/dt_halfcheetah_model_24-05-08-16-16-00_best.pt\n",
      "saving current model at: ./log/dt_halfcheetah_model_24-05-08-16-16-00.pt\n"
     ]
    },
    {
     "name": "stderr",
     "output_type": "stream",
     "text": [
      " 78%|███████▊  | 155/200 [38:43<10:59, 14.65s/it]"
     ]
    },
    {
     "name": "stdout",
     "output_type": "stream",
     "text": [
      "============================================================\n",
      "time elapsed: 0:38:43\n",
      "num of updates: 15500\n",
      "train total loss: 0.07135\n",
      "train state loss: 0.05900\n",
      "train reward loss: 0.01235\n",
      "val total loss: 0.07797\n",
      "val state loss: 0.05838\n",
      "val reward loss: 0.01959\n",
      "saving min loss model at: ./log/dt_halfcheetah_model_24-05-08-16-16-00_best.pt\n",
      "saving current model at: ./log/dt_halfcheetah_model_24-05-08-16-16-00.pt\n"
     ]
    },
    {
     "name": "stderr",
     "output_type": "stream",
     "text": [
      " 78%|███████▊  | 156/200 [38:58<10:55, 14.90s/it]"
     ]
    },
    {
     "name": "stdout",
     "output_type": "stream",
     "text": [
      "============================================================\n",
      "time elapsed: 0:38:59\n",
      "num of updates: 15600\n",
      "train total loss: 0.06906\n",
      "train state loss: 0.05708\n",
      "train reward loss: 0.01197\n",
      "val total loss: 0.08152\n",
      "val state loss: 0.06160\n",
      "val reward loss: 0.01991\n",
      "saving min loss model at: ./log/dt_halfcheetah_model_24-05-08-16-16-00_best.pt\n",
      "saving current model at: ./log/dt_halfcheetah_model_24-05-08-16-16-00.pt\n"
     ]
    },
    {
     "name": "stderr",
     "output_type": "stream",
     "text": [
      " 78%|███████▊  | 157/200 [39:13<10:44, 14.98s/it]"
     ]
    },
    {
     "name": "stdout",
     "output_type": "stream",
     "text": [
      "============================================================\n",
      "time elapsed: 0:39:14\n",
      "num of updates: 15700\n",
      "train total loss: 0.07067\n",
      "train state loss: 0.05818\n",
      "train reward loss: 0.01249\n",
      "val total loss: 0.08670\n",
      "val state loss: 0.06323\n",
      "val reward loss: 0.02348\n",
      "saving min loss model at: ./log/dt_halfcheetah_model_24-05-08-16-16-00_best.pt\n",
      "saving current model at: ./log/dt_halfcheetah_model_24-05-08-16-16-00.pt\n"
     ]
    },
    {
     "name": "stderr",
     "output_type": "stream",
     "text": [
      " 79%|███████▉  | 158/200 [39:28<10:30, 15.01s/it]"
     ]
    },
    {
     "name": "stdout",
     "output_type": "stream",
     "text": [
      "============================================================\n",
      "time elapsed: 0:39:29\n",
      "num of updates: 15800\n",
      "train total loss: 0.06942\n",
      "train state loss: 0.05752\n",
      "train reward loss: 0.01190\n",
      "val total loss: 0.08343\n",
      "val state loss: 0.06282\n",
      "val reward loss: 0.02060\n",
      "saving min loss model at: ./log/dt_halfcheetah_model_24-05-08-16-16-00_best.pt\n",
      "saving current model at: ./log/dt_halfcheetah_model_24-05-08-16-16-00.pt\n"
     ]
    },
    {
     "name": "stderr",
     "output_type": "stream",
     "text": [
      " 80%|███████▉  | 159/200 [39:43<10:05, 14.76s/it]"
     ]
    },
    {
     "name": "stdout",
     "output_type": "stream",
     "text": [
      "============================================================\n",
      "time elapsed: 0:39:43\n",
      "num of updates: 15900\n",
      "train total loss: 0.06937\n",
      "train state loss: 0.05721\n",
      "train reward loss: 0.01216\n",
      "val total loss: 0.07915\n",
      "val state loss: 0.05834\n",
      "val reward loss: 0.02081\n",
      "saving min loss model at: ./log/dt_halfcheetah_model_24-05-08-16-16-00_best.pt\n",
      "saving current model at: ./log/dt_halfcheetah_model_24-05-08-16-16-00.pt\n"
     ]
    },
    {
     "name": "stderr",
     "output_type": "stream",
     "text": [
      " 80%|████████  | 160/200 [39:57<09:51, 14.78s/it]"
     ]
    },
    {
     "name": "stdout",
     "output_type": "stream",
     "text": [
      "============================================================\n",
      "time elapsed: 0:39:58\n",
      "num of updates: 16000\n",
      "train total loss: 0.06874\n",
      "train state loss: 0.05687\n",
      "train reward loss: 0.01187\n",
      "val total loss: 0.07954\n",
      "val state loss: 0.05998\n",
      "val reward loss: 0.01956\n",
      "saving min loss model at: ./log/dt_halfcheetah_model_24-05-08-16-16-00_best.pt\n",
      "saving current model at: ./log/dt_halfcheetah_model_24-05-08-16-16-00.pt\n"
     ]
    },
    {
     "name": "stderr",
     "output_type": "stream",
     "text": [
      " 80%|████████  | 161/200 [40:12<09:30, 14.62s/it]"
     ]
    },
    {
     "name": "stdout",
     "output_type": "stream",
     "text": [
      "============================================================\n",
      "time elapsed: 0:40:12\n",
      "num of updates: 16100\n",
      "train total loss: 0.06691\n",
      "train state loss: 0.05547\n",
      "train reward loss: 0.01144\n",
      "val total loss: 0.07464\n",
      "val state loss: 0.05922\n",
      "val reward loss: 0.01542\n",
      "saving min loss model at: ./log/dt_halfcheetah_model_24-05-08-16-16-00_best.pt\n",
      "saving current model at: ./log/dt_halfcheetah_model_24-05-08-16-16-00.pt\n"
     ]
    },
    {
     "name": "stderr",
     "output_type": "stream",
     "text": [
      " 81%|████████  | 162/200 [40:26<09:14, 14.59s/it]"
     ]
    },
    {
     "name": "stdout",
     "output_type": "stream",
     "text": [
      "============================================================\n",
      "time elapsed: 0:40:27\n",
      "num of updates: 16200\n",
      "train total loss: 0.06746\n",
      "train state loss: 0.05568\n",
      "train reward loss: 0.01177\n",
      "val total loss: 0.08131\n",
      "val state loss: 0.06015\n",
      "val reward loss: 0.02116\n",
      "saving min loss model at: ./log/dt_halfcheetah_model_24-05-08-16-16-00_best.pt\n",
      "saving current model at: ./log/dt_halfcheetah_model_24-05-08-16-16-00.pt\n"
     ]
    },
    {
     "name": "stderr",
     "output_type": "stream",
     "text": [
      " 82%|████████▏ | 163/200 [40:41<08:59, 14.58s/it]"
     ]
    },
    {
     "name": "stdout",
     "output_type": "stream",
     "text": [
      "============================================================\n",
      "time elapsed: 0:40:42\n",
      "num of updates: 16300\n",
      "train total loss: 0.06750\n",
      "train state loss: 0.05578\n",
      "train reward loss: 0.01172\n",
      "val total loss: 0.07867\n",
      "val state loss: 0.05804\n",
      "val reward loss: 0.02063\n",
      "saving min loss model at: ./log/dt_halfcheetah_model_24-05-08-16-16-00_best.pt\n",
      "saving current model at: ./log/dt_halfcheetah_model_24-05-08-16-16-00.pt\n"
     ]
    },
    {
     "name": "stderr",
     "output_type": "stream",
     "text": [
      " 82%|████████▏ | 164/200 [40:56<08:57, 14.93s/it]"
     ]
    },
    {
     "name": "stdout",
     "output_type": "stream",
     "text": [
      "============================================================\n",
      "time elapsed: 0:40:57\n",
      "num of updates: 16400\n",
      "train total loss: 0.06797\n",
      "train state loss: 0.05588\n",
      "train reward loss: 0.01208\n",
      "val total loss: 0.07960\n",
      "val state loss: 0.05801\n",
      "val reward loss: 0.02159\n",
      "saving min loss model at: ./log/dt_halfcheetah_model_24-05-08-16-16-00_best.pt\n",
      "saving current model at: ./log/dt_halfcheetah_model_24-05-08-16-16-00.pt\n"
     ]
    },
    {
     "name": "stderr",
     "output_type": "stream",
     "text": [
      " 82%|████████▎ | 165/200 [41:11<08:43, 14.96s/it]"
     ]
    },
    {
     "name": "stdout",
     "output_type": "stream",
     "text": [
      "============================================================\n",
      "time elapsed: 0:41:12\n",
      "num of updates: 16500\n",
      "train total loss: 0.06779\n",
      "train state loss: 0.05572\n",
      "train reward loss: 0.01207\n",
      "val total loss: 0.07830\n",
      "val state loss: 0.05883\n",
      "val reward loss: 0.01947\n",
      "saving min loss model at: ./log/dt_halfcheetah_model_24-05-08-16-16-00_best.pt\n",
      "saving current model at: ./log/dt_halfcheetah_model_24-05-08-16-16-00.pt\n"
     ]
    },
    {
     "name": "stderr",
     "output_type": "stream",
     "text": [
      " 83%|████████▎ | 166/200 [41:26<08:24, 14.84s/it]"
     ]
    },
    {
     "name": "stdout",
     "output_type": "stream",
     "text": [
      "============================================================\n",
      "time elapsed: 0:41:27\n",
      "num of updates: 16600\n",
      "train total loss: 0.06524\n",
      "train state loss: 0.05405\n",
      "train reward loss: 0.01118\n",
      "val total loss: 0.08303\n",
      "val state loss: 0.06131\n",
      "val reward loss: 0.02172\n",
      "saving min loss model at: ./log/dt_halfcheetah_model_24-05-08-16-16-00_best.pt\n",
      "saving current model at: ./log/dt_halfcheetah_model_24-05-08-16-16-00.pt\n"
     ]
    },
    {
     "name": "stderr",
     "output_type": "stream",
     "text": [
      " 84%|████████▎ | 167/200 [41:40<08:02, 14.62s/it]"
     ]
    },
    {
     "name": "stdout",
     "output_type": "stream",
     "text": [
      "============================================================\n",
      "time elapsed: 0:41:41\n",
      "num of updates: 16700\n",
      "train total loss: 0.06471\n",
      "train state loss: 0.05378\n",
      "train reward loss: 0.01093\n",
      "val total loss: 0.08106\n",
      "val state loss: 0.06199\n",
      "val reward loss: 0.01907\n",
      "saving min loss model at: ./log/dt_halfcheetah_model_24-05-08-16-16-00_best.pt\n",
      "saving current model at: ./log/dt_halfcheetah_model_24-05-08-16-16-00.pt\n"
     ]
    },
    {
     "name": "stderr",
     "output_type": "stream",
     "text": [
      " 84%|████████▍ | 168/200 [41:54<07:45, 14.56s/it]"
     ]
    },
    {
     "name": "stdout",
     "output_type": "stream",
     "text": [
      "============================================================\n",
      "time elapsed: 0:41:55\n",
      "num of updates: 16800\n",
      "train total loss: 0.06585\n",
      "train state loss: 0.05426\n",
      "train reward loss: 0.01160\n",
      "val total loss: 0.07928\n",
      "val state loss: 0.05869\n",
      "val reward loss: 0.02059\n",
      "saving min loss model at: ./log/dt_halfcheetah_model_24-05-08-16-16-00_best.pt\n",
      "saving current model at: ./log/dt_halfcheetah_model_24-05-08-16-16-00.pt\n"
     ]
    },
    {
     "name": "stderr",
     "output_type": "stream",
     "text": [
      " 84%|████████▍ | 169/200 [42:09<07:31, 14.55s/it]"
     ]
    },
    {
     "name": "stdout",
     "output_type": "stream",
     "text": [
      "============================================================\n",
      "time elapsed: 0:42:10\n",
      "num of updates: 16900\n",
      "train total loss: 0.06621\n",
      "train state loss: 0.05475\n",
      "train reward loss: 0.01146\n",
      "val total loss: 0.07673\n",
      "val state loss: 0.05877\n",
      "val reward loss: 0.01796\n",
      "saving min loss model at: ./log/dt_halfcheetah_model_24-05-08-16-16-00_best.pt\n",
      "saving current model at: ./log/dt_halfcheetah_model_24-05-08-16-16-00.pt\n"
     ]
    },
    {
     "name": "stderr",
     "output_type": "stream",
     "text": [
      " 85%|████████▌ | 170/200 [42:24<07:16, 14.56s/it]"
     ]
    },
    {
     "name": "stdout",
     "output_type": "stream",
     "text": [
      "============================================================\n",
      "time elapsed: 0:42:24\n",
      "num of updates: 17000\n",
      "train total loss: 0.06514\n",
      "train state loss: 0.05388\n",
      "train reward loss: 0.01126\n",
      "val total loss: 0.07662\n",
      "val state loss: 0.05671\n",
      "val reward loss: 0.01991\n",
      "saving min loss model at: ./log/dt_halfcheetah_model_24-05-08-16-16-00_best.pt\n",
      "saving current model at: ./log/dt_halfcheetah_model_24-05-08-16-16-00.pt\n"
     ]
    },
    {
     "name": "stderr",
     "output_type": "stream",
     "text": [
      " 86%|████████▌ | 171/200 [42:38<07:04, 14.65s/it]"
     ]
    },
    {
     "name": "stdout",
     "output_type": "stream",
     "text": [
      "============================================================\n",
      "time elapsed: 0:42:39\n",
      "num of updates: 17100\n",
      "train total loss: 0.06571\n",
      "train state loss: 0.05436\n",
      "train reward loss: 0.01135\n",
      "val total loss: 0.08016\n",
      "val state loss: 0.06128\n",
      "val reward loss: 0.01888\n",
      "saving min loss model at: ./log/dt_halfcheetah_model_24-05-08-16-16-00_best.pt\n",
      "saving current model at: ./log/dt_halfcheetah_model_24-05-08-16-16-00.pt\n"
     ]
    },
    {
     "name": "stderr",
     "output_type": "stream",
     "text": [
      " 86%|████████▌ | 172/200 [42:54<06:57, 14.90s/it]"
     ]
    },
    {
     "name": "stdout",
     "output_type": "stream",
     "text": [
      "============================================================\n",
      "time elapsed: 0:42:55\n",
      "num of updates: 17200\n",
      "train total loss: 0.06408\n",
      "train state loss: 0.05312\n",
      "train reward loss: 0.01096\n",
      "val total loss: 0.07300\n",
      "val state loss: 0.05268\n",
      "val reward loss: 0.02031\n",
      "saving min loss model at: ./log/dt_halfcheetah_model_24-05-08-16-16-00_best.pt\n",
      "saving current model at: ./log/dt_halfcheetah_model_24-05-08-16-16-00.pt\n"
     ]
    },
    {
     "name": "stderr",
     "output_type": "stream",
     "text": [
      " 86%|████████▋ | 173/200 [43:09<06:39, 14.81s/it]"
     ]
    },
    {
     "name": "stdout",
     "output_type": "stream",
     "text": [
      "============================================================\n",
      "time elapsed: 0:43:09\n",
      "num of updates: 17300\n",
      "train total loss: 0.06549\n",
      "train state loss: 0.05406\n",
      "train reward loss: 0.01143\n",
      "val total loss: 0.07776\n",
      "val state loss: 0.05870\n",
      "val reward loss: 0.01906\n",
      "saving min loss model at: ./log/dt_halfcheetah_model_24-05-08-16-16-00_best.pt\n",
      "saving current model at: ./log/dt_halfcheetah_model_24-05-08-16-16-00.pt\n"
     ]
    },
    {
     "name": "stderr",
     "output_type": "stream",
     "text": [
      " 87%|████████▋ | 174/200 [43:23<06:21, 14.66s/it]"
     ]
    },
    {
     "name": "stdout",
     "output_type": "stream",
     "text": [
      "============================================================\n",
      "time elapsed: 0:43:24\n",
      "num of updates: 17400\n",
      "train total loss: 0.06489\n",
      "train state loss: 0.05362\n",
      "train reward loss: 0.01127\n",
      "val total loss: 0.07430\n",
      "val state loss: 0.05668\n",
      "val reward loss: 0.01762\n",
      "saving min loss model at: ./log/dt_halfcheetah_model_24-05-08-16-16-00_best.pt\n",
      "saving current model at: ./log/dt_halfcheetah_model_24-05-08-16-16-00.pt\n"
     ]
    },
    {
     "name": "stderr",
     "output_type": "stream",
     "text": [
      " 88%|████████▊ | 175/200 [43:37<06:03, 14.53s/it]"
     ]
    },
    {
     "name": "stdout",
     "output_type": "stream",
     "text": [
      "============================================================\n",
      "time elapsed: 0:43:38\n",
      "num of updates: 17500\n",
      "train total loss: 0.06482\n",
      "train state loss: 0.05352\n",
      "train reward loss: 0.01130\n",
      "val total loss: 0.08416\n",
      "val state loss: 0.05980\n",
      "val reward loss: 0.02436\n",
      "saving min loss model at: ./log/dt_halfcheetah_model_24-05-08-16-16-00_best.pt\n",
      "saving current model at: ./log/dt_halfcheetah_model_24-05-08-16-16-00.pt\n"
     ]
    },
    {
     "name": "stderr",
     "output_type": "stream",
     "text": [
      " 88%|████████▊ | 176/200 [43:52<05:53, 14.75s/it]"
     ]
    },
    {
     "name": "stdout",
     "output_type": "stream",
     "text": [
      "============================================================\n",
      "time elapsed: 0:43:53\n",
      "num of updates: 17600\n",
      "train total loss: 0.06391\n",
      "train state loss: 0.05288\n",
      "train reward loss: 0.01103\n",
      "val total loss: 0.07598\n",
      "val state loss: 0.05805\n",
      "val reward loss: 0.01793\n",
      "saving min loss model at: ./log/dt_halfcheetah_model_24-05-08-16-16-00_best.pt\n",
      "saving current model at: ./log/dt_halfcheetah_model_24-05-08-16-16-00.pt\n"
     ]
    },
    {
     "name": "stderr",
     "output_type": "stream",
     "text": [
      " 88%|████████▊ | 177/200 [44:07<05:37, 14.70s/it]"
     ]
    },
    {
     "name": "stdout",
     "output_type": "stream",
     "text": [
      "============================================================\n",
      "time elapsed: 0:44:08\n",
      "num of updates: 17700\n",
      "train total loss: 0.06425\n",
      "train state loss: 0.05319\n",
      "train reward loss: 0.01106\n",
      "val total loss: 0.07619\n",
      "val state loss: 0.05739\n",
      "val reward loss: 0.01881\n",
      "saving min loss model at: ./log/dt_halfcheetah_model_24-05-08-16-16-00_best.pt\n",
      "saving current model at: ./log/dt_halfcheetah_model_24-05-08-16-16-00.pt\n"
     ]
    },
    {
     "name": "stderr",
     "output_type": "stream",
     "text": [
      " 89%|████████▉ | 178/200 [44:22<05:25, 14.78s/it]"
     ]
    },
    {
     "name": "stdout",
     "output_type": "stream",
     "text": [
      "============================================================\n",
      "time elapsed: 0:44:23\n",
      "num of updates: 17800\n",
      "train total loss: 0.06345\n",
      "train state loss: 0.05244\n",
      "train reward loss: 0.01101\n",
      "val total loss: 0.07576\n",
      "val state loss: 0.05686\n",
      "val reward loss: 0.01890\n",
      "saving min loss model at: ./log/dt_halfcheetah_model_24-05-08-16-16-00_best.pt\n",
      "saving current model at: ./log/dt_halfcheetah_model_24-05-08-16-16-00.pt\n"
     ]
    },
    {
     "name": "stderr",
     "output_type": "stream",
     "text": [
      " 90%|████████▉ | 179/200 [44:38<05:17, 15.12s/it]"
     ]
    },
    {
     "name": "stdout",
     "output_type": "stream",
     "text": [
      "============================================================\n",
      "time elapsed: 0:44:39\n",
      "num of updates: 17900\n",
      "train total loss: 0.06427\n",
      "train state loss: 0.05297\n",
      "train reward loss: 0.01129\n",
      "val total loss: 0.08244\n",
      "val state loss: 0.05946\n",
      "val reward loss: 0.02298\n",
      "saving min loss model at: ./log/dt_halfcheetah_model_24-05-08-16-16-00_best.pt\n",
      "saving current model at: ./log/dt_halfcheetah_model_24-05-08-16-16-00.pt\n"
     ]
    },
    {
     "name": "stderr",
     "output_type": "stream",
     "text": [
      " 90%|█████████ | 180/200 [44:53<05:04, 15.24s/it]"
     ]
    },
    {
     "name": "stdout",
     "output_type": "stream",
     "text": [
      "============================================================\n",
      "time elapsed: 0:44:54\n",
      "num of updates: 18000\n",
      "train total loss: 0.06376\n",
      "train state loss: 0.05270\n",
      "train reward loss: 0.01106\n",
      "val total loss: 0.07628\n",
      "val state loss: 0.05801\n",
      "val reward loss: 0.01827\n",
      "saving min loss model at: ./log/dt_halfcheetah_model_24-05-08-16-16-00_best.pt\n",
      "saving current model at: ./log/dt_halfcheetah_model_24-05-08-16-16-00.pt\n"
     ]
    },
    {
     "name": "stderr",
     "output_type": "stream",
     "text": [
      " 90%|█████████ | 181/200 [45:08<04:45, 15.04s/it]"
     ]
    },
    {
     "name": "stdout",
     "output_type": "stream",
     "text": [
      "============================================================\n",
      "time elapsed: 0:45:09\n",
      "num of updates: 18100\n",
      "train total loss: 0.06222\n",
      "train state loss: 0.05159\n",
      "train reward loss: 0.01063\n",
      "val total loss: 0.07610\n",
      "val state loss: 0.05769\n",
      "val reward loss: 0.01841\n",
      "saving min loss model at: ./log/dt_halfcheetah_model_24-05-08-16-16-00_best.pt\n",
      "saving current model at: ./log/dt_halfcheetah_model_24-05-08-16-16-00.pt\n"
     ]
    },
    {
     "name": "stderr",
     "output_type": "stream",
     "text": [
      " 91%|█████████ | 182/200 [45:22<04:25, 14.77s/it]"
     ]
    },
    {
     "name": "stdout",
     "output_type": "stream",
     "text": [
      "============================================================\n",
      "time elapsed: 0:45:23\n",
      "num of updates: 18200\n",
      "train total loss: 0.06335\n",
      "train state loss: 0.05244\n",
      "train reward loss: 0.01092\n",
      "val total loss: 0.08142\n",
      "val state loss: 0.05850\n",
      "val reward loss: 0.02292\n",
      "saving min loss model at: ./log/dt_halfcheetah_model_24-05-08-16-16-00_best.pt\n",
      "saving current model at: ./log/dt_halfcheetah_model_24-05-08-16-16-00.pt\n"
     ]
    },
    {
     "name": "stderr",
     "output_type": "stream",
     "text": [
      " 92%|█████████▏| 183/200 [45:36<04:07, 14.55s/it]"
     ]
    },
    {
     "name": "stdout",
     "output_type": "stream",
     "text": [
      "============================================================\n",
      "time elapsed: 0:45:37\n",
      "num of updates: 18300\n",
      "train total loss: 0.06079\n",
      "train state loss: 0.05053\n",
      "train reward loss: 0.01026\n",
      "val total loss: 0.08153\n",
      "val state loss: 0.05849\n",
      "val reward loss: 0.02303\n",
      "saving min loss model at: ./log/dt_halfcheetah_model_24-05-08-16-16-00_best.pt\n",
      "saving current model at: ./log/dt_halfcheetah_model_24-05-08-16-16-00.pt\n"
     ]
    },
    {
     "name": "stderr",
     "output_type": "stream",
     "text": [
      " 92%|█████████▏| 184/200 [45:50<03:52, 14.50s/it]"
     ]
    },
    {
     "name": "stdout",
     "output_type": "stream",
     "text": [
      "============================================================\n",
      "time elapsed: 0:45:51\n",
      "num of updates: 18400\n",
      "train total loss: 0.06303\n",
      "train state loss: 0.05170\n",
      "train reward loss: 0.01133\n",
      "val total loss: 0.07880\n",
      "val state loss: 0.05915\n",
      "val reward loss: 0.01966\n",
      "saving min loss model at: ./log/dt_halfcheetah_model_24-05-08-16-16-00_best.pt\n",
      "saving current model at: ./log/dt_halfcheetah_model_24-05-08-16-16-00.pt\n"
     ]
    },
    {
     "name": "stderr",
     "output_type": "stream",
     "text": [
      " 92%|█████████▎| 185/200 [46:05<03:37, 14.50s/it]"
     ]
    },
    {
     "name": "stdout",
     "output_type": "stream",
     "text": [
      "============================================================\n",
      "time elapsed: 0:46:06\n",
      "num of updates: 18500\n",
      "train total loss: 0.06152\n",
      "train state loss: 0.05078\n",
      "train reward loss: 0.01074\n",
      "val total loss: 0.07605\n",
      "val state loss: 0.05653\n",
      "val reward loss: 0.01952\n",
      "saving min loss model at: ./log/dt_halfcheetah_model_24-05-08-16-16-00_best.pt\n",
      "saving current model at: ./log/dt_halfcheetah_model_24-05-08-16-16-00.pt\n"
     ]
    },
    {
     "name": "stderr",
     "output_type": "stream",
     "text": [
      " 93%|█████████▎| 186/200 [46:20<03:23, 14.54s/it]"
     ]
    },
    {
     "name": "stdout",
     "output_type": "stream",
     "text": [
      "============================================================\n",
      "time elapsed: 0:46:20\n",
      "num of updates: 18600\n",
      "train total loss: 0.06140\n",
      "train state loss: 0.05091\n",
      "train reward loss: 0.01049\n",
      "val total loss: 0.06865\n",
      "val state loss: 0.05363\n",
      "val reward loss: 0.01502\n",
      "saving min loss model at: ./log/dt_halfcheetah_model_24-05-08-16-16-00_best.pt\n",
      "saving current model at: ./log/dt_halfcheetah_model_24-05-08-16-16-00.pt\n"
     ]
    },
    {
     "name": "stderr",
     "output_type": "stream",
     "text": [
      " 94%|█████████▎| 187/200 [46:34<03:10, 14.62s/it]"
     ]
    },
    {
     "name": "stdout",
     "output_type": "stream",
     "text": [
      "============================================================\n",
      "time elapsed: 0:46:35\n",
      "num of updates: 18700\n",
      "train total loss: 0.06200\n",
      "train state loss: 0.05111\n",
      "train reward loss: 0.01089\n",
      "val total loss: 0.06931\n",
      "val state loss: 0.05287\n",
      "val reward loss: 0.01644\n",
      "saving min loss model at: ./log/dt_halfcheetah_model_24-05-08-16-16-00_best.pt\n",
      "saving current model at: ./log/dt_halfcheetah_model_24-05-08-16-16-00.pt\n"
     ]
    },
    {
     "name": "stderr",
     "output_type": "stream",
     "text": [
      " 94%|█████████▍| 188/200 [46:50<02:58, 14.89s/it]"
     ]
    },
    {
     "name": "stdout",
     "output_type": "stream",
     "text": [
      "============================================================\n",
      "time elapsed: 0:46:51\n",
      "num of updates: 18800\n",
      "train total loss: 0.06018\n",
      "train state loss: 0.04976\n",
      "train reward loss: 0.01042\n",
      "val total loss: 0.07034\n",
      "val state loss: 0.05581\n",
      "val reward loss: 0.01453\n",
      "saving min loss model at: ./log/dt_halfcheetah_model_24-05-08-16-16-00_best.pt\n",
      "saving current model at: ./log/dt_halfcheetah_model_24-05-08-16-16-00.pt\n"
     ]
    },
    {
     "name": "stderr",
     "output_type": "stream",
     "text": [
      " 94%|█████████▍| 189/200 [47:05<02:43, 14.88s/it]"
     ]
    },
    {
     "name": "stdout",
     "output_type": "stream",
     "text": [
      "============================================================\n",
      "time elapsed: 0:47:06\n",
      "num of updates: 18900\n",
      "train total loss: 0.06083\n",
      "train state loss: 0.05055\n",
      "train reward loss: 0.01028\n",
      "val total loss: 0.07200\n",
      "val state loss: 0.05553\n",
      "val reward loss: 0.01648\n",
      "saving min loss model at: ./log/dt_halfcheetah_model_24-05-08-16-16-00_best.pt\n",
      "saving current model at: ./log/dt_halfcheetah_model_24-05-08-16-16-00.pt\n"
     ]
    },
    {
     "name": "stderr",
     "output_type": "stream",
     "text": [
      " 95%|█████████▌| 190/200 [47:19<02:27, 14.74s/it]"
     ]
    },
    {
     "name": "stdout",
     "output_type": "stream",
     "text": [
      "============================================================\n",
      "time elapsed: 0:47:20\n",
      "num of updates: 19000\n",
      "train total loss: 0.06095\n",
      "train state loss: 0.05023\n",
      "train reward loss: 0.01073\n",
      "val total loss: 0.07241\n",
      "val state loss: 0.05324\n",
      "val reward loss: 0.01917\n",
      "saving min loss model at: ./log/dt_halfcheetah_model_24-05-08-16-16-00_best.pt\n",
      "saving current model at: ./log/dt_halfcheetah_model_24-05-08-16-16-00.pt\n"
     ]
    },
    {
     "name": "stderr",
     "output_type": "stream",
     "text": [
      " 96%|█████████▌| 191/200 [47:33<02:10, 14.48s/it]"
     ]
    },
    {
     "name": "stdout",
     "output_type": "stream",
     "text": [
      "============================================================\n",
      "time elapsed: 0:47:34\n",
      "num of updates: 19100\n",
      "train total loss: 0.06134\n",
      "train state loss: 0.05054\n",
      "train reward loss: 0.01081\n",
      "val total loss: 0.07957\n",
      "val state loss: 0.05833\n",
      "val reward loss: 0.02124\n",
      "saving min loss model at: ./log/dt_halfcheetah_model_24-05-08-16-16-00_best.pt\n",
      "saving current model at: ./log/dt_halfcheetah_model_24-05-08-16-16-00.pt\n"
     ]
    },
    {
     "name": "stderr",
     "output_type": "stream",
     "text": [
      " 96%|█████████▌| 192/200 [47:47<01:54, 14.37s/it]"
     ]
    },
    {
     "name": "stdout",
     "output_type": "stream",
     "text": [
      "============================================================\n",
      "time elapsed: 0:47:48\n",
      "num of updates: 19200\n",
      "train total loss: 0.05983\n",
      "train state loss: 0.04950\n",
      "train reward loss: 0.01034\n",
      "val total loss: 0.07181\n",
      "val state loss: 0.05393\n",
      "val reward loss: 0.01788\n",
      "saving min loss model at: ./log/dt_halfcheetah_model_24-05-08-16-16-00_best.pt\n",
      "saving current model at: ./log/dt_halfcheetah_model_24-05-08-16-16-00.pt\n"
     ]
    },
    {
     "name": "stderr",
     "output_type": "stream",
     "text": [
      " 96%|█████████▋| 193/200 [48:02<01:41, 14.46s/it]"
     ]
    },
    {
     "name": "stdout",
     "output_type": "stream",
     "text": [
      "============================================================\n",
      "time elapsed: 0:48:03\n",
      "num of updates: 19300\n",
      "train total loss: 0.06041\n",
      "train state loss: 0.04986\n",
      "train reward loss: 0.01056\n",
      "val total loss: 0.07631\n",
      "val state loss: 0.05804\n",
      "val reward loss: 0.01827\n",
      "saving min loss model at: ./log/dt_halfcheetah_model_24-05-08-16-16-00_best.pt\n",
      "saving current model at: ./log/dt_halfcheetah_model_24-05-08-16-16-00.pt\n"
     ]
    },
    {
     "name": "stderr",
     "output_type": "stream",
     "text": [
      " 97%|█████████▋| 194/200 [48:17<01:27, 14.61s/it]"
     ]
    },
    {
     "name": "stdout",
     "output_type": "stream",
     "text": [
      "============================================================\n",
      "time elapsed: 0:48:18\n",
      "num of updates: 19400\n",
      "train total loss: 0.05980\n",
      "train state loss: 0.04942\n",
      "train reward loss: 0.01037\n",
      "val total loss: 0.07019\n",
      "val state loss: 0.05470\n",
      "val reward loss: 0.01548\n",
      "saving min loss model at: ./log/dt_halfcheetah_model_24-05-08-16-16-00_best.pt\n",
      "saving current model at: ./log/dt_halfcheetah_model_24-05-08-16-16-00.pt\n"
     ]
    },
    {
     "name": "stderr",
     "output_type": "stream",
     "text": [
      " 98%|█████████▊| 195/200 [48:32<01:13, 14.68s/it]"
     ]
    },
    {
     "name": "stdout",
     "output_type": "stream",
     "text": [
      "============================================================\n",
      "time elapsed: 0:48:33\n",
      "num of updates: 19500\n",
      "train total loss: 0.05908\n",
      "train state loss: 0.04898\n",
      "train reward loss: 0.01010\n",
      "val total loss: 0.07731\n",
      "val state loss: 0.05715\n",
      "val reward loss: 0.02016\n",
      "saving min loss model at: ./log/dt_halfcheetah_model_24-05-08-16-16-00_best.pt\n",
      "saving current model at: ./log/dt_halfcheetah_model_24-05-08-16-16-00.pt\n"
     ]
    },
    {
     "name": "stderr",
     "output_type": "stream",
     "text": [
      " 98%|█████████▊| 196/200 [48:47<00:59, 14.88s/it]"
     ]
    },
    {
     "name": "stdout",
     "output_type": "stream",
     "text": [
      "============================================================\n",
      "time elapsed: 0:48:48\n",
      "num of updates: 19600\n",
      "train total loss: 0.05855\n",
      "train state loss: 0.04861\n",
      "train reward loss: 0.00994\n",
      "val total loss: 0.07537\n",
      "val state loss: 0.05679\n",
      "val reward loss: 0.01857\n",
      "saving min loss model at: ./log/dt_halfcheetah_model_24-05-08-16-16-00_best.pt\n",
      "saving current model at: ./log/dt_halfcheetah_model_24-05-08-16-16-00.pt\n"
     ]
    },
    {
     "name": "stderr",
     "output_type": "stream",
     "text": [
      " 98%|█████████▊| 197/200 [49:02<00:45, 15.05s/it]"
     ]
    },
    {
     "name": "stdout",
     "output_type": "stream",
     "text": [
      "============================================================\n",
      "time elapsed: 0:49:03\n",
      "num of updates: 19700\n",
      "train total loss: 0.05785\n",
      "train state loss: 0.04799\n",
      "train reward loss: 0.00987\n",
      "val total loss: 0.07570\n",
      "val state loss: 0.05457\n",
      "val reward loss: 0.02113\n",
      "saving min loss model at: ./log/dt_halfcheetah_model_24-05-08-16-16-00_best.pt\n",
      "saving current model at: ./log/dt_halfcheetah_model_24-05-08-16-16-00.pt\n"
     ]
    },
    {
     "name": "stderr",
     "output_type": "stream",
     "text": [
      " 99%|█████████▉| 198/200 [49:17<00:30, 15.03s/it]"
     ]
    },
    {
     "name": "stdout",
     "output_type": "stream",
     "text": [
      "============================================================\n",
      "time elapsed: 0:49:18\n",
      "num of updates: 19800\n",
      "train total loss: 0.05900\n",
      "train state loss: 0.04889\n",
      "train reward loss: 0.01012\n",
      "val total loss: 0.07684\n",
      "val state loss: 0.05480\n",
      "val reward loss: 0.02204\n",
      "saving min loss model at: ./log/dt_halfcheetah_model_24-05-08-16-16-00_best.pt\n",
      "saving current model at: ./log/dt_halfcheetah_model_24-05-08-16-16-00.pt\n"
     ]
    },
    {
     "name": "stderr",
     "output_type": "stream",
     "text": [
      "100%|█████████▉| 199/200 [49:32<00:14, 14.76s/it]"
     ]
    },
    {
     "name": "stdout",
     "output_type": "stream",
     "text": [
      "============================================================\n",
      "time elapsed: 0:49:32\n",
      "num of updates: 19900\n",
      "train total loss: 0.05970\n",
      "train state loss: 0.04938\n",
      "train reward loss: 0.01032\n",
      "val total loss: 0.07327\n",
      "val state loss: 0.05498\n",
      "val reward loss: 0.01829\n",
      "saving min loss model at: ./log/dt_halfcheetah_model_24-05-08-16-16-00_best.pt\n",
      "saving current model at: ./log/dt_halfcheetah_model_24-05-08-16-16-00.pt\n"
     ]
    },
    {
     "name": "stderr",
     "output_type": "stream",
     "text": [
      "100%|██████████| 200/200 [49:46<00:00, 14.93s/it]"
     ]
    },
    {
     "name": "stdout",
     "output_type": "stream",
     "text": [
      "============================================================\n",
      "time elapsed: 0:49:46\n",
      "num of updates: 20000\n",
      "train total loss: 0.05931\n",
      "train state loss: 0.04904\n",
      "train reward loss: 0.01026\n",
      "val total loss: 0.07241\n",
      "val state loss: 0.05611\n",
      "val reward loss: 0.01630\n",
      "saving min loss model at: ./log/dt_halfcheetah_model_24-05-08-16-16-00_best.pt\n",
      "saving current model at: ./log/dt_halfcheetah_model_24-05-08-16-16-00.pt\n",
      "============================================================\n",
      "finished training!\n",
      "============================================================\n",
      "started training at: 24-05-08-16-16-00\n",
      "finished training at: 24-05-08-17-05-46\n",
      "total training time: 0:49:46\n",
      "saved min loss model at: ./log/dt_halfcheetah_model_24-05-08-16-16-00_best.pt\n",
      "saved last updated model at: ./log/dt_halfcheetah_model_24-05-08-16-16-00.pt\n",
      "============================================================\n"
     ]
    },
    {
     "name": "stderr",
     "output_type": "stream",
     "text": [
      "\n"
     ]
    },
    {
     "ename": "AttributeError",
     "evalue": "'_csv.writer' object has no attribute 'close'",
     "output_type": "error",
     "traceback": [
      "\u001b[1;31m---------------------------------------------------------------------------\u001b[0m",
      "\u001b[1;31mAttributeError\u001b[0m                            Traceback (most recent call last)",
      "Cell \u001b[1;32mIn[27], line 186\u001b[0m\n\u001b[0;32m    183\u001b[0m \u001b[38;5;28mprint\u001b[39m(\u001b[38;5;124m\"\u001b[39m\u001b[38;5;124msaved last updated model at: \u001b[39m\u001b[38;5;124m\"\u001b[39m \u001b[38;5;241m+\u001b[39m save_model_path)\n\u001b[0;32m    184\u001b[0m \u001b[38;5;28mprint\u001b[39m(\u001b[38;5;124m\"\u001b[39m\u001b[38;5;124m=\u001b[39m\u001b[38;5;124m\"\u001b[39m \u001b[38;5;241m*\u001b[39m \u001b[38;5;241m60\u001b[39m)\n\u001b[1;32m--> 186\u001b[0m \u001b[43mcsv_writer\u001b[49m\u001b[38;5;241;43m.\u001b[39;49m\u001b[43mclose\u001b[49m()\n",
      "\u001b[1;31mAttributeError\u001b[0m: '_csv.writer' object has no attribute 'close'"
     ]
    }
   ],
   "source": [
    "start_time = datetime.now().replace(microsecond=0)\n",
    "\n",
    "start_time_str = start_time.strftime(\"%y-%m-%d-%H-%M-%S\")\n",
    "\n",
    "prefix = \"dt_\" + env_name\n",
    "\n",
    "save_model_name =  prefix + \"_model_\" + start_time_str + \".pt\"\n",
    "save_model_path = os.path.join(LOG_PATH, save_model_name)\n",
    "save_best_model_path = save_model_path[:-3] + \"_best.pt\"\n",
    "\n",
    "log_csv_name = prefix + \"_log_\" + start_time_str + \".csv\"\n",
    "log_csv_path = os.path.join(LOG_PATH, log_csv_name)\n",
    "\n",
    "\n",
    "csv_writer = csv.writer(open(log_csv_path, 'a', 1))\n",
    "csv_header = ([\"duration\", \"num_updates\", \"total_loss\", \"state_loss\", \"reward_loss\", \"val_total_loss\", \"val_state_loss\", \"val_reward_loss\"])\n",
    "\n",
    "csv_writer.writerow(csv_header)\n",
    "\n",
    "\n",
    "print(\"=\" * 60)\n",
    "print(\"start time: \" + start_time_str)\n",
    "print(\"=\" * 60)\n",
    "\n",
    "print(\"device set to: \" + str(DEVICE))\n",
    "print(\"dataset path: \" + DATA_PATH)\n",
    "print(\"model save path: \" + save_model_path)\n",
    "print(\"log csv save path: \" + log_csv_path)\n",
    "\n",
    "# train\n",
    "for i_train_iter in tqdm(range(max_train_iters)):\n",
    "\n",
    "\n",
    "\tlog_state_losses, log_reward_losses, log_total_losses = [], [], []\n",
    "\tval_log_state_losses, val_log_reward_losses, val_log_total_losses = [], [], []\n",
    "\tmodel.train()\n",
    " \n",
    "\tfor _ in range(num_updates_per_iter):\n",
    "\t\ttry:\n",
    "\t\t\ttimesteps, states, next_states, actions, rewards, traj_mask = next(data_iter)\n",
    "\t\texcept StopIteration:\n",
    "\t\t\tdata_iter = iter(traj_data_loader)\n",
    "\t\t\ttimesteps, states, next_states, actions, rewards, traj_mask = next(data_iter)\n",
    "\n",
    "\t\ttimesteps = timesteps.to(DEVICE)\t# B x T\n",
    "\t\tstates = states.to(DEVICE)\t\t\t# B x T x state_dim\n",
    "\t\tnext_states = next_states.to(DEVICE) # B X T X state_dim\n",
    "\t\tactions = actions.to(DEVICE)\t\t# B x T x act_dim\n",
    "\t\trewards = rewards.to(DEVICE).unsqueeze(dim=-1) # B x T x 1\n",
    "\t\ttraj_mask = traj_mask.to(DEVICE)\t# B x T\n",
    "\n",
    "\t\tnext_states_target = torch.clone(next_states).detach().to(DEVICE)\n",
    "\t\trewards_target = torch.clone(rewards).detach().to(DEVICE)\n",
    "\t\n",
    "\t\tnext_state_preds, rewards_preds = model.forward(\n",
    "\t\t\t\t\t\t\t\t\t\t\t\t\t\ttimesteps=timesteps,\n",
    "\t\t\t\t\t\t\t\t\t\t\t\t\t\tstates=states,\n",
    "\t\t\t\t\t\t\t\t\t\t\t\t\t\tactions=actions,\n",
    "\t\t\t\t\t\t\t\t\t\t\t\t\t\trewards=rewards,\n",
    "\t\t\t\t\t\t\t\t\t\t\t\t\t)\n",
    "\n",
    "\t\t# only consider non padded elements\n",
    "\t\tnext_state_preds = next_state_preds.view(-1, state_dim)[traj_mask.view(-1,) > 0]\n",
    "\t\tnext_states_target = next_states_target.view(-1, state_dim)[traj_mask.view(-1,) > 0]\n",
    "\t\t\n",
    "\t\trewards_preds = rewards_preds.view(-1, 1)[traj_mask.view(-1,) > 0]\n",
    "\t\trewards_target = rewards_target.view(-1, 1)[traj_mask.view(-1,) > 0]\n",
    "\n",
    "\t\tstate_loss = F.mse_loss(next_state_preds, next_states_target, reduction='mean') * state_weight\n",
    "\t\treward_loss = F.mse_loss(rewards_preds, rewards_target, reduction='mean') * reward_weight\n",
    "\t\t\n",
    "\t\ttotal_loss = state_loss.add(reward_loss)\n",
    "\t\ttotal_loss = torch.mean(total_loss)\n",
    "\n",
    "\t\toptimizer.zero_grad()\n",
    "\t\ttotal_loss.backward()\n",
    "\t\ttorch.nn.utils.clip_grad_norm_(model.parameters(), 0.25)\n",
    "\t\toptimizer.step()\n",
    "\t\tscheduler.step()\n",
    "\t\t\n",
    "\t\t\n",
    "\t\t#save loss\n",
    "\t\tlog_state_losses.append(state_loss.detach().cpu().item())\n",
    "\t\tlog_reward_losses.append(reward_loss.detach().cpu().item())\n",
    "\t\t\n",
    "\t\tlog_total_losses.append(total_loss.detach().cpu().item())\n",
    "\t\t\n",
    "\t# validation\n",
    "\tmodel.eval()\n",
    "\tfor _ in range(num_val_iter):\n",
    "\t\ttry:\n",
    "\t\t\tval_timesteps, val_states, val_next_states, val_actions, val_rewards, val_traj_mask = next(val_data_iter)\n",
    "\t\texcept StopIteration:\n",
    "\t\t\tval_data_iter = iter(val_traj_data_loader)\n",
    "\t\t\tval_timesteps, val_states, val_next_states, val_actions, val_rewards, val_traj_mask = next(val_data_iter)\n",
    "\t\t\t\n",
    "\t\tval_timesteps = val_timesteps.to(DEVICE)\t# B x T\n",
    "\t\tval_states = val_states.to(DEVICE)\t\t\t# B x T x state_dim\n",
    "\t\tval_next_states = val_next_states.to(DEVICE) # B X T X state_dim\n",
    "\t\tval_actions = val_actions.to(DEVICE)\t\t# B x T x act_dim\n",
    "\t\tval_rewards = val_rewards.to(DEVICE).unsqueeze(dim=-1) # B x T x 1\n",
    "\t\tval_traj_mask = val_traj_mask.to(DEVICE)\t# B x T\n",
    "\t\t\t\t\n",
    "\t\tval_next_states_target = torch.clone(val_next_states).detach().to(DEVICE)\n",
    "\t\tval_rewards_target = torch.clone(val_rewards).detach().to(DEVICE)\n",
    "\t\t\n",
    "\t\tval_next_state_preds, val_rewards_preds = model.forward(\n",
    "\t\t\t\t\t\t\t\t\t\t\t\t\t\ttimesteps=val_timesteps,\n",
    "\t\t\t\t\t\t\t\t\t\t\t\t\t\tstates=val_states,\n",
    "\t\t\t\t\t\t\t\t\t\t\t\t\t\tactions=val_actions,\n",
    "\t\t\t\t\t\t\t\t\t\t\t\t\t\trewards=val_rewards,\n",
    "\t\t\t\t\t\t\t\t\t\t\t\t\t)\n",
    "\t\t\t\t\t\t\t\t\t\t\t\t\t\n",
    "\t\t# only consider non padded elements\n",
    "\t\tval_next_state_preds = val_next_state_preds.view(-1, state_dim)[traj_mask.view(-1,) > 0]\n",
    "\t\tval_next_states_target = val_next_states_target.view(-1, state_dim)[traj_mask.view(-1,) > 0]\n",
    "\t\t\n",
    "\t\tval_rewards_preds = val_rewards_preds.view(-1, 1)[traj_mask.view(-1,) > 0]\n",
    "\t\tval_rewards_target = val_rewards_target.view(-1, 1)[traj_mask.view(-1,) > 0]\n",
    "\n",
    "\t\tval_state_loss = F.mse_loss(val_next_state_preds, val_next_states_target, reduction='mean') * state_weight\n",
    "\t\tval_reward_loss = F.mse_loss(val_rewards_preds, val_rewards_target, reduction='mean') * reward_weight\n",
    "\t\t\n",
    "\t\tval_total_loss = val_state_loss.add(val_reward_loss)\n",
    "\t\tval_total_loss = torch.mean(val_total_loss)\n",
    "\t\t\n",
    "\t\t# save val loss\n",
    "\t\tval_log_state_losses.append(val_state_loss.detach().cpu().item())\n",
    "\t\tval_log_reward_losses.append(val_reward_loss.detach().cpu().item())\n",
    "\t\t\n",
    "\t\tval_log_total_losses.append(val_total_loss.detach().cpu().item())\n",
    "\t\n",
    "\tmean_total_log_loss = np.mean(log_total_losses)\n",
    "\tmean_state_log_loss = np.mean(log_state_losses)\n",
    "\tmean_reward_log_loss = np.mean(log_reward_losses)\n",
    "\t\n",
    "\tmean_val_total_log_loss = np.mean(val_log_total_losses)\n",
    "\tmean_val_state_log_loss = np.mean(val_log_state_losses)\n",
    "\tmean_val_reward_log_loss = np.mean(val_log_reward_losses)\n",
    "\n",
    "\ttime_elapsed = str(datetime.now().replace(microsecond=0) - start_time)\n",
    "\n",
    "\ttotal_updates += num_updates_per_iter\n",
    "\n",
    "\tlog_str = (\"=\" * 60 + '\\n' +\n",
    "\t\t\t\"time elapsed: \" + time_elapsed  + '\\n' +\n",
    "\t\t\t\"num of updates: \" + str(total_updates) + '\\n' +\n",
    "\t\t\t\"train total loss: \" + format(mean_total_log_loss, \".5f\") + '\\n' +\n",
    "\t\t\t\"train state loss: \" + format(mean_state_log_loss, \".5f\") + '\\n' +\n",
    "\t\t\t\"train reward loss: \" +  format(mean_reward_log_loss, \".5f\") + '\\n' +\n",
    "\t\t\t\"val total loss: \" + format(mean_val_total_log_loss, \".5f\") + '\\n' +\n",
    "\t\t\t\"val state loss: \" + format(mean_val_state_log_loss, \".5f\") + '\\n' +\n",
    "\t\t\t\"val reward loss: \" +  format(mean_val_reward_log_loss, \".5f\")\n",
    "\t\t\t)\n",
    "\n",
    "\tprint(log_str)\n",
    "\n",
    "\tlog_data = [time_elapsed, total_updates, mean_total_log_loss, mean_state_log_loss, mean_reward_log_loss, \\\n",
    "\t\t mean_val_total_log_loss, mean_val_state_log_loss, mean_val_reward_log_loss]\n",
    "\n",
    "\tcsv_writer.writerow(log_data)\n",
    "\t\n",
    "\t# save model\n",
    "\tif mean_val_total_log_loss <= min_total_loss:\n",
    "\t\tprint(\"saving min loss model at: \" + save_best_model_path)\n",
    "\t\ttorch.save(model.state_dict(), save_best_model_path)\n",
    "\t\tmin_total_log_loss = mean_val_total_log_loss\n",
    "\n",
    "\tprint(\"saving current model at: \" + save_model_path)\n",
    "\ttorch.save(model.state_dict(), save_model_path)\n",
    "\n",
    "\n",
    "print(\"=\" * 60)\n",
    "print(\"finished training!\")\n",
    "print(\"=\" * 60)\n",
    "end_time = datetime.now().replace(microsecond=0)\n",
    "time_elapsed = str(end_time - start_time)\n",
    "end_time_str = end_time.strftime(\"%y-%m-%d-%H-%M-%S\")\n",
    "print(\"started training at: \" + start_time_str)\n",
    "print(\"finished training at: \" + end_time_str)\n",
    "print(\"total training time: \" + time_elapsed)\n",
    "print(\"saved min loss model at: \" + save_best_model_path)\n",
    "print(\"saved last updated model at: \" + save_model_path)\n",
    "print(\"=\" * 60)\n",
    "\n",
    "csv_writer.close()"
   ]
  },
  {
   "cell_type": "code",
   "execution_count": null,
   "metadata": {},
   "outputs": [],
   "source": []
  },
  {
   "cell_type": "code",
   "execution_count": null,
   "metadata": {},
   "outputs": [],
   "source": []
  }
 ],
 "metadata": {
  "kernelspec": {
   "display_name": "Python 3.10.14 ('rl_diffusion')",
   "language": "python",
   "name": "python3"
  },
  "language_info": {
   "codemirror_mode": {
    "name": "ipython",
    "version": 3
   },
   "file_extension": ".py",
   "mimetype": "text/x-python",
   "name": "python",
   "nbconvert_exporter": "python",
   "pygments_lexer": "ipython3",
   "version": "3.10.14"
  },
  "orig_nbformat": 4,
  "vscode": {
   "interpreter": {
    "hash": "aaa54a55e816925fdb1964dae2307e16b21383867fc9aac098dfe4376e4c067b"
   }
  }
 },
 "nbformat": 4,
 "nbformat_minor": 2
}
