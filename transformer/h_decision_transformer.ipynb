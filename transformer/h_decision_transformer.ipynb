{
 "cells": [
  {
   "cell_type": "code",
   "execution_count": 1,
   "metadata": {},
   "outputs": [
    {
     "name": "stderr",
     "output_type": "stream",
     "text": [
      "Warning: Flow failed to import. Set the environment variable D4RL_SUPPRESS_IMPORT_ERROR=1 to suppress this message.\n",
      "No module named 'flow'\n",
      "Warning: CARLA failed to import. Set the environment variable D4RL_SUPPRESS_IMPORT_ERROR=1 to suppress this message.\n",
      "No module named 'carla'\n"
     ]
    }
   ],
   "source": [
    "# import library\n",
    "\n",
    "import sys\n",
    "import os\n",
    "import d4rl\n",
    "import gym\n",
    "import numpy as np\n",
    "import wandb\n",
    "import collections\n",
    "import pickle\n",
    "import csv\n",
    "\n",
    "import torch\n",
    "import torch.nn as nn\n",
    "import torch.nn.functional as F\n",
    "\n",
    "from datetime import datetime\n",
    "from torch.utils.data import Dataset, DataLoader\n",
    "from tqdm import tqdm\n",
    "\n",
    "from utils import discount_cumsum, D4RLTrajectoryDataset, evaluate_on_env, get_d4rl_normalized_score\n",
    "from model import MaskedCausalAttention, Block, DecisionTransformer\n"
   ]
  },
  {
   "cell_type": "code",
   "execution_count": 2,
   "metadata": {},
   "outputs": [],
   "source": [
    "# set environment\n",
    "# sys.path.append(r'C:\\Develop\\offlineRL-with-diffusion') "
   ]
  },
  {
   "cell_type": "code",
   "execution_count": 3,
   "metadata": {},
   "outputs": [
    {
     "name": "stdout",
     "output_type": "stream",
     "text": [
      "mujoco-py check passed\n",
      "d4rl check passed\n"
     ]
    },
    {
     "name": "stderr",
     "output_type": "stream",
     "text": [
      "Warning: Flow failed to import. Set the environment variable D4RL_SUPPRESS_IMPORT_ERROR=1 to suppress this message.\n",
      "No module named 'flow'\n",
      "Warning: CARLA failed to import. Set the environment variable D4RL_SUPPRESS_IMPORT_ERROR=1 to suppress this message.\n",
      "No module named 'carla'\n",
      "pybullet build time: Apr 30 2024 12:01:25\n",
      "c:\\Users\\zkdlx\\miniconda3\\envs\\rl_diffusion\\lib\\site-packages\\gym\\spaces\\box.py:84: UserWarning: \u001b[33mWARN: Box bound precision lowered by casting to float32\u001b[0m\n",
      "  logger.warn(f\"Box bound precision lowered by casting to {self.dtype}\")\n"
     ]
    }
   ],
   "source": [
    "# test mujoco, d4rl\n",
    "\n",
    "!python ./test/mujoco_test.py"
   ]
  },
  {
   "cell_type": "code",
   "execution_count": 4,
   "metadata": {},
   "outputs": [],
   "source": [
    "# data download\n",
    "# if you downloaded, don't re-start.\n",
    "\n",
    "# !python ./data/download_d4rl_datasets.py\n"
   ]
  },
  {
   "cell_type": "code",
   "execution_count": 5,
   "metadata": {},
   "outputs": [],
   "source": [
    "# parameter setting\n",
    "\n",
    "env_name = 'halfcheetah'\n",
    "dataset = 'medium'\n",
    "\n",
    "if env_name == 'hopper':\n",
    "    env = gym.make('Hopper-v3')\n",
    "    max_ep_len = 1000\n",
    "    # env_targets = [3600, 1800]  # evaluation conditioning targets\n",
    "    scale = 1000.  # normalization for rewards/returns\n",
    "elif env_name == 'halfcheetah':\n",
    "    env = gym.make('HalfCheetah-v3')\n",
    "    max_ep_len = 1000\n",
    "    # env_targets = [12000, 6000]\n",
    "    scale = 1000.\n",
    "elif env_name == 'walker2d':\n",
    "    env = gym.make('Walker2d-v3')\n",
    "    max_ep_len = 1000\n",
    "    # env_targets = [5000, 2500]\n",
    "    scale = 1000.\n",
    "    \n",
    "DATA_PATH = f'data/{env_name}-{dataset}-v2.pkl'\n",
    "LOG_PATH = \"./log/\"\n",
    "DEVICE = 'cpu'"
   ]
  },
  {
   "cell_type": "code",
   "execution_count": 6,
   "metadata": {},
   "outputs": [
    {
     "name": "stdout",
     "output_type": "stream",
     "text": [
      "state:  [[ 1.9831914e-02 -8.9501314e-02 -3.1969063e-03 ...  1.1365079e-01\n",
      "   6.8424918e-02 -1.3811582e-01]\n",
      " [-3.8486063e-03 -5.2394319e-02  8.3050327e-03 ...  4.5068407e+00\n",
      "  -9.2885571e+00  4.7328596e+00]\n",
      " [-5.5298433e-02 -7.7850236e-05 -2.3952831e-01 ... -7.0811687e+00\n",
      "  -1.4037068e+00  7.5524049e+00]\n",
      " ...\n",
      " [-3.1975684e-01  5.3305399e-01 -4.8704177e-01 ...  1.5455554e+00\n",
      "   2.6812897e+00  8.7905388e+00]\n",
      " [-3.2200974e-01  3.5745117e-01  1.0463273e-02 ... -6.3428599e-01\n",
      "   1.6292539e+00  9.7356015e-01]\n",
      " [-3.0673215e-01  1.9843711e-01  6.9996923e-01 ...  5.0098950e-01\n",
      "   1.5680059e+00  9.4733723e-02]] \n",
      "\n",
      "next_state:  [[-3.8486063e-03 -5.2394319e-02  8.3050327e-03 ...  4.5068407e+00\n",
      "  -9.2885571e+00  4.7328596e+00]\n",
      " [-5.5298433e-02 -7.7850236e-05 -2.3952831e-01 ... -7.0811687e+00\n",
      "  -1.4037068e+00  7.5524049e+00]\n",
      " [-1.2996776e-01  2.2959358e-03 -2.2985412e-01 ... -7.0144100e+00\n",
      "   2.6917322e+00 -1.6729002e+00]\n",
      " ...\n",
      " [-3.2200974e-01  3.5745117e-01  1.0463273e-02 ... -6.3428599e-01\n",
      "   1.6292539e+00  9.7356015e-01]\n",
      " [-3.0673215e-01  1.9843711e-01  6.9996923e-01 ...  5.0098950e-01\n",
      "   1.5680059e+00  9.4733723e-02]\n",
      " [-2.4109586e-01  1.8103543e-01  6.5954477e-01 ... -6.4027554e-01\n",
      "  -4.5139942e+00 -5.8575149e+00]] \n",
      "\n",
      "state:  [[ 4.7026437e-02 -2.1588113e-02  4.9151547e-02 ...  5.5219561e-02\n",
      "  -1.5351681e-01 -4.6239123e-02]\n",
      " [ 4.1392505e-02  5.3802542e-02 -1.5022255e-01 ...  6.1133021e-01\n",
      "  -7.4645710e+00  7.9509692e+00]\n",
      " [ 9.8547200e-04  8.8533267e-02 -4.3876743e-01 ...  8.5824745e-04\n",
      "   5.9796906e+00  4.9521341e+00]\n",
      " ...\n",
      " [-1.4081973e-01 -7.7957302e-02 -2.6429656e-01 ...  1.0316861e+00\n",
      "  -7.5645506e-01 -6.3285580e+00]\n",
      " [-6.0340445e-02 -4.2597357e-02  1.1770165e-01 ... -1.8022682e+01\n",
      "  -2.8895503e-01 -8.5740490e+00]\n",
      " [-3.9826483e-02  8.9701705e-02  4.8491257e-01 ... -1.5949978e+01\n",
      "  -4.2975497e+00  3.4759271e-01]] \n",
      "\n",
      "next_state:  [[ 4.1392505e-02  5.3802542e-02 -1.5022255e-01 ...  6.1133021e-01\n",
      "  -7.4645710e+00  7.9509692e+00]\n",
      " [ 9.8547200e-04  8.8533267e-02 -4.3876743e-01 ...  8.5824745e-04\n",
      "   5.9796906e+00  4.9521341e+00]\n",
      " [-6.7215808e-02  9.6443370e-02 -5.4310286e-01 ...  3.3308443e-01\n",
      "  -9.9926096e-01 -1.0109675e+00]\n",
      " ...\n",
      " [-6.0340445e-02 -4.2597357e-02  1.1770165e-01 ... -1.8022682e+01\n",
      "  -2.8895503e-01 -8.5740490e+00]\n",
      " [-3.9826483e-02  8.9701705e-02  4.8491257e-01 ... -1.5949978e+01\n",
      "  -4.2975497e+00  3.4759271e-01]\n",
      " [ 3.2575438e-03  1.4370975e-01  2.0129907e-01 ...  1.7884182e+01\n",
      "   3.8814716e+00  1.0334390e+01]] \n",
      "\n",
      "state:  [[ 5.0221119e-02 -2.4338657e-02 -5.4945849e-02 ... -1.4283662e-01\n",
      "  -1.2819463e-01 -1.4791407e-01]\n",
      " [ 3.4841169e-02  2.6000816e-02 -2.3993976e-01 ... -2.5026150e+00\n",
      "  -9.1679888e+00  6.2272105e+00]\n",
      " [-2.2413606e-02  5.1811527e-02 -5.4271245e-01 ... -5.9999785e+00\n",
      "  -6.6550332e-01 -2.4636595e-01]\n",
      " ...\n",
      " [-4.4023961e-02 -2.5939721e-01 -7.0705950e-02 ... -1.8107307e+01\n",
      "  -4.7313199e+00 -4.8486176e+00]\n",
      " [-1.7510138e-02 -2.1372417e-01  2.7898479e-02 ...  2.9009397e+00\n",
      "  -2.2113817e+00 -5.9028540e+00]\n",
      " [ 4.7847845e-02 -1.5627538e-01 -1.8005599e-01 ...  9.9821644e+00\n",
      "  -5.1808944e+00  1.1870988e+01]] \n",
      "\n",
      "next_state:  [[ 0.03484117  0.02600082 -0.23993976 ... -2.502615   -9.167989\n",
      "   6.2272105 ]\n",
      " [-0.02241361  0.05181153 -0.54271245 ... -5.9999785  -0.6655033\n",
      "  -0.24636595]\n",
      " [-0.07972456  0.05383781 -0.20385133 ... -3.1521757   0.49475375\n",
      "  -1.1187115 ]\n",
      " ...\n",
      " [-0.01751014 -0.21372417  0.02789848 ...  2.9009397  -2.2113817\n",
      "  -5.902854  ]\n",
      " [ 0.04784784 -0.15627538 -0.18005599 ...  9.982164   -5.1808944\n",
      "  11.870988  ]\n",
      " [ 0.05458786 -0.11922822 -0.45288673 ...  3.2934191   2.8909256\n",
      "  12.051488  ]] \n",
      "\n"
     ]
    }
   ],
   "source": [
    "# data check\n",
    "# check three trajectories\n",
    "\n",
    "with open(DATA_PATH, 'rb') as f:\n",
    "    trajectories = pickle.load(f)\n",
    "n=0\n",
    "max_rewards_list = []\n",
    "for traj in trajectories:\n",
    "    # print(f\"{n+1}번째 trajectory\")\n",
    "    print(\"state: \", traj['observations'], \"\\n\")\n",
    "    # print(\"action: \", traj['actions'], \"\\n\")\n",
    "    print(\"next_state: \", traj['next_observations'], \"\\n\")\n",
    "    # print(\"reward: \", traj['rewards'], \"\\n\")\n",
    "    # print(\"max_rewards: \", max(traj['rewards']))\n",
    "    # max_rewards_list.append(max(traj['rewards']))\n",
    "    # print(\"\")\n",
    "    n+=1\n",
    "    \n",
    "# print(max(max_rewards_list))\n",
    "\n",
    "    if n==3:\n",
    "        break"
   ]
  },
  {
   "cell_type": "code",
   "execution_count": 7,
   "metadata": {},
   "outputs": [],
   "source": [
    "# train parameter\n",
    "batch_size = 64\n",
    "embed_dim = 128\n",
    "activation = 'relu'\n",
    "drop_out = 0.1\n",
    "k = 20\n",
    "n_blocks = 3    \n",
    "n_heads = 1 # transformer head\n",
    "\n",
    "# total updates = max_train_iters x num_updates_per_iter\n",
    "max_train_iters = 200\n",
    "num_updates_per_iter = 100\n",
    "total_updates = 0\n",
    "min_total_log_loss = 1e10\n",
    "\n",
    "wt_decay = 1e-4             # weight decay\n",
    "lr = 1e-4                   # learning rate\n",
    "warmup_steps = 10000        # warmup steps for lr scheduler\n",
    "\n",
    "# weight of mse loss\n",
    "state_weight = 1\n",
    "reward_weight = 1\n",
    "\n",
    "# evaluation parameter\n",
    "# max_eval_ep_len = 1000      # max len of one evaluation episode\n",
    "# num_eval_ep = 10            # num of evaluation episodes per iteration"
   ]
  },
  {
   "cell_type": "code",
   "execution_count": 8,
   "metadata": {},
   "outputs": [],
   "source": [
    "# load preprocessing(normalization, fit padding) data\n",
    "\n",
    "traj_dataset = D4RLTrajectoryDataset(DATA_PATH, k)\n",
    "traj_data_loader = DataLoader(traj_dataset,\n",
    "\t\t\t\t\t\tbatch_size=batch_size,\n",
    "\t\t\t\t\t\tshuffle=True,\n",
    "\t\t\t\t\t\tpin_memory=True,\n",
    "\t\t\t\t\t\tdrop_last=True)\n",
    "                        \n",
    "data_iter = iter(traj_data_loader)\n",
    "\n",
    "## get state stats from dataset\n",
    "state_mean, state_std = traj_dataset.get_state_stats()"
   ]
  },
  {
   "cell_type": "code",
   "execution_count": 9,
   "metadata": {},
   "outputs": [
    {
     "name": "stdout",
     "output_type": "stream",
     "text": [
      "state dim:  17\n",
      "action dim:  6\n"
     ]
    }
   ],
   "source": [
    "# make environment\n",
    "\n",
    "state_dim = env.observation_space.shape[0]\n",
    "act_dim = env.action_space.shape[0]\n",
    "\n",
    "print(\"state dim: \", state_dim)\n",
    "print(\"action dim: \", act_dim)"
   ]
  },
  {
   "cell_type": "code",
   "execution_count": 10,
   "metadata": {},
   "outputs": [
    {
     "name": "stdout",
     "output_type": "stream",
     "text": [
      "timesteps shape:  torch.Size([4, 2])\n",
      "rewards shape:  torch.Size([4, 2, 1])\n",
      "states shape:  torch.Size([4, 2, 17])\n",
      "actions shape:  torch.Size([4, 2, 6])\n"
     ]
    }
   ],
   "source": [
    "# test data\n",
    "temp_dataset = D4RLTrajectoryDataset(DATA_PATH, 2)\n",
    "temp_data_loader = DataLoader(temp_dataset,\n",
    "\t\t\t\t\t\tbatch_size=4,\n",
    "\t\t\t\t\t\tshuffle=True,\n",
    "\t\t\t\t\t\tpin_memory=True,\n",
    "\t\t\t\t\t\tdrop_last=True)\n",
    "                        \n",
    "temp_data_iter = iter(temp_data_loader)\n",
    "\n",
    "timesteps, states, next_states, actions, rewards, traj_mask = next(temp_data_iter)\n",
    "\n",
    "timesteps = timesteps.to(DEVICE)\t# B x T\n",
    "states = states.to(DEVICE)\t\t\t# B x T x state_dim\n",
    "next_states = next_states.to(DEVICE) # B X T X state_dim\n",
    "actions = actions.to(DEVICE)\t\t# B x T x act_dim\n",
    "rewards = rewards.to(DEVICE).unsqueeze(dim=-1) # B x T x 1\n",
    "\n",
    "print(\"timesteps shape: \", timesteps.shape)\n",
    "print(\"rewards shape: \", rewards.shape)\n",
    "print(\"states shape: \", states.shape)\n",
    "print(\"actions shape: \", actions.shape)\n",
    "\n",
    "# print(\"state: \", states)\n",
    "# print(\"action: \", actions)\n",
    "# print(\"rewards: \", rewards)\n",
    "\n"
   ]
  },
  {
   "cell_type": "code",
   "execution_count": 11,
   "metadata": {},
   "outputs": [],
   "source": [
    "# test model\n",
    "\n",
    "temp_model = DecisionTransformer(\n",
    "\t\t\tstate_dim=state_dim,\n",
    "\t\t\tact_dim=act_dim,\n",
    "\t\t\t# reward 포함 + r0 제외\n",
    "\t\t\tn_blocks=n_blocks,\n",
    "\t\t\th_dim=16,\n",
    "\t\t\tcontext_len=2,\n",
    "\t\t\tn_heads=n_heads,\n",
    "\t\t\tdrop_p=drop_out,\n",
    "\t\t).to(DEVICE)\n",
    "\t\t\n",
    "next_state_preds, rewards_preds = temp_model.forward(\n",
    "\t\t\t\t\t\t\t\t\t\t\t\trewards=rewards,\n",
    "\t\t\t\t\t\t\t\t\t\t\t\ttimesteps=timesteps,\n",
    "\t\t\t\t\t\t\t\t\t\t\t\tstates=states,\n",
    "\t\t\t\t\t\t\t\t\t\t\t\tactions=actions,\n",
    "\t\t\t\t\t\t\t\t\t\t\t)"
   ]
  },
  {
   "cell_type": "code",
   "execution_count": 12,
   "metadata": {},
   "outputs": [],
   "source": [
    "# define model\n",
    "\n",
    "model = DecisionTransformer(\n",
    "\t\t\tstate_dim=state_dim,\n",
    "\t\t\tact_dim=act_dim,\n",
    "\t\t\tn_blocks=n_blocks,\n",
    "\t\t\th_dim=embed_dim,\n",
    "\t\t\tcontext_len=k,\n",
    "\t\t\tn_heads=n_heads,\n",
    "\t\t\tdrop_p=drop_out,\n",
    "\t\t).to(DEVICE)\n",
    "  \n",
    "optimizer = torch.optim.AdamW(\n",
    "\t\t\t\t\tmodel.parameters(), \n",
    "\t\t\t\t\tlr=lr, \n",
    "\t\t\t\t\tweight_decay=wt_decay\n",
    "\t\t\t\t)\n",
    "\n",
    "scheduler = torch.optim.lr_scheduler.LambdaLR(\n",
    "\t\toptimizer,\n",
    "\t\tlambda steps: min((steps+1)/warmup_steps, 1)\n",
    "\t)\n",
    "\t\n"
   ]
  },
  {
   "cell_type": "code",
   "execution_count": 13,
   "metadata": {},
   "outputs": [
    {
     "name": "stdout",
     "output_type": "stream",
     "text": [
      "============================================================\n",
      "start time: 24-05-07-21-53-44\n",
      "============================================================\n",
      "device set to: cpu\n",
      "dataset path: data/halfcheetah-medium-v2.pkl\n",
      "model save path: ./log/dt_halfcheetah_model_24-05-07-21-53-44.pt\n",
      "log csv save path: ./log/dt_halfcheetah_log_24-05-07-21-53-44.csv\n"
     ]
    },
    {
     "name": "stderr",
     "output_type": "stream",
     "text": [
      "  0%|          | 1/200 [00:17<57:47, 17.42s/it]"
     ]
    },
    {
     "name": "stdout",
     "output_type": "stream",
     "text": [
      "============================================================\n",
      "time elapsed: 0:00:18\n",
      "num of updates: 100\n",
      "total loss: 22.93949\n",
      "state loss: 1.30623\n",
      "reward loss: 21.63327\n",
      "saving min loss model at: ./log/dt_halfcheetah_model_24-05-07-21-53-44_best.pt\n",
      "saving current model at: ./log/dt_halfcheetah_model_24-05-07-21-53-44.pt\n"
     ]
    },
    {
     "name": "stderr",
     "output_type": "stream",
     "text": [
      "  1%|          | 2/200 [00:34<56:52, 17.24s/it]"
     ]
    },
    {
     "name": "stdout",
     "output_type": "stream",
     "text": [
      "============================================================\n",
      "time elapsed: 0:00:35\n",
      "num of updates: 200\n",
      "total loss: 21.08028\n",
      "state loss: 1.29244\n",
      "reward loss: 19.78784\n",
      "saving min loss model at: ./log/dt_halfcheetah_model_24-05-07-21-53-44_best.pt\n",
      "saving current model at: ./log/dt_halfcheetah_model_24-05-07-21-53-44.pt\n"
     ]
    },
    {
     "name": "stderr",
     "output_type": "stream",
     "text": [
      "  2%|▏         | 3/200 [00:51<56:05, 17.08s/it]"
     ]
    },
    {
     "name": "stdout",
     "output_type": "stream",
     "text": [
      "============================================================\n",
      "time elapsed: 0:00:52\n",
      "num of updates: 300\n",
      "total loss: 17.56215\n",
      "state loss: 1.25965\n",
      "reward loss: 16.30250\n",
      "saving min loss model at: ./log/dt_halfcheetah_model_24-05-07-21-53-44_best.pt\n",
      "saving current model at: ./log/dt_halfcheetah_model_24-05-07-21-53-44.pt\n"
     ]
    },
    {
     "name": "stderr",
     "output_type": "stream",
     "text": [
      "  2%|▏         | 4/200 [01:08<55:50, 17.10s/it]"
     ]
    },
    {
     "name": "stdout",
     "output_type": "stream",
     "text": [
      "============================================================\n",
      "time elapsed: 0:01:09\n",
      "num of updates: 400\n",
      "total loss: 12.84632\n",
      "state loss: 1.20227\n",
      "reward loss: 11.64405\n",
      "saving min loss model at: ./log/dt_halfcheetah_model_24-05-07-21-53-44_best.pt\n",
      "saving current model at: ./log/dt_halfcheetah_model_24-05-07-21-53-44.pt\n"
     ]
    },
    {
     "name": "stderr",
     "output_type": "stream",
     "text": [
      "  2%|▎         | 5/200 [01:25<55:24, 17.05s/it]"
     ]
    },
    {
     "name": "stdout",
     "output_type": "stream",
     "text": [
      "============================================================\n",
      "time elapsed: 0:01:26\n",
      "num of updates: 500\n",
      "total loss: 7.18645\n",
      "state loss: 1.14890\n",
      "reward loss: 6.03756\n",
      "saving min loss model at: ./log/dt_halfcheetah_model_24-05-07-21-53-44_best.pt\n",
      "saving current model at: ./log/dt_halfcheetah_model_24-05-07-21-53-44.pt\n"
     ]
    },
    {
     "name": "stderr",
     "output_type": "stream",
     "text": [
      "  3%|▎         | 6/200 [01:42<55:03, 17.03s/it]"
     ]
    },
    {
     "name": "stdout",
     "output_type": "stream",
     "text": [
      "============================================================\n",
      "time elapsed: 0:01:43\n",
      "num of updates: 600\n",
      "total loss: 3.20127\n",
      "state loss: 1.07021\n",
      "reward loss: 2.13106\n",
      "saving min loss model at: ./log/dt_halfcheetah_model_24-05-07-21-53-44_best.pt\n",
      "saving current model at: ./log/dt_halfcheetah_model_24-05-07-21-53-44.pt\n"
     ]
    },
    {
     "name": "stderr",
     "output_type": "stream",
     "text": [
      "  4%|▎         | 7/200 [01:59<54:49, 17.04s/it]"
     ]
    },
    {
     "name": "stdout",
     "output_type": "stream",
     "text": [
      "============================================================\n",
      "time elapsed: 0:02:00\n",
      "num of updates: 700\n",
      "total loss: 2.17117\n",
      "state loss: 1.01839\n",
      "reward loss: 1.15278\n",
      "saving min loss model at: ./log/dt_halfcheetah_model_24-05-07-21-53-44_best.pt\n",
      "saving current model at: ./log/dt_halfcheetah_model_24-05-07-21-53-44.pt\n"
     ]
    },
    {
     "name": "stderr",
     "output_type": "stream",
     "text": [
      "  4%|▍         | 8/200 [02:17<55:01, 17.20s/it]"
     ]
    },
    {
     "name": "stdout",
     "output_type": "stream",
     "text": [
      "============================================================\n",
      "time elapsed: 0:02:17\n",
      "num of updates: 800\n",
      "total loss: 1.99310\n",
      "state loss: 1.00130\n",
      "reward loss: 0.99179\n",
      "saving min loss model at: ./log/dt_halfcheetah_model_24-05-07-21-53-44_best.pt\n",
      "saving current model at: ./log/dt_halfcheetah_model_24-05-07-21-53-44.pt\n"
     ]
    },
    {
     "name": "stderr",
     "output_type": "stream",
     "text": [
      "  4%|▍         | 9/200 [02:35<55:49, 17.53s/it]"
     ]
    },
    {
     "name": "stdout",
     "output_type": "stream",
     "text": [
      "============================================================\n",
      "time elapsed: 0:02:35\n",
      "num of updates: 900\n",
      "total loss: 1.89339\n",
      "state loss: 1.01690\n",
      "reward loss: 0.87650\n",
      "saving min loss model at: ./log/dt_halfcheetah_model_24-05-07-21-53-44_best.pt\n",
      "saving current model at: ./log/dt_halfcheetah_model_24-05-07-21-53-44.pt\n"
     ]
    },
    {
     "name": "stderr",
     "output_type": "stream",
     "text": [
      "  5%|▌         | 10/200 [02:53<56:29, 17.84s/it]"
     ]
    },
    {
     "name": "stdout",
     "output_type": "stream",
     "text": [
      "============================================================\n",
      "time elapsed: 0:02:54\n",
      "num of updates: 1000\n",
      "total loss: 1.71432\n",
      "state loss: 0.99211\n",
      "reward loss: 0.72221\n",
      "saving min loss model at: ./log/dt_halfcheetah_model_24-05-07-21-53-44_best.pt\n",
      "saving current model at: ./log/dt_halfcheetah_model_24-05-07-21-53-44.pt\n"
     ]
    },
    {
     "name": "stderr",
     "output_type": "stream",
     "text": [
      "  6%|▌         | 11/200 [03:12<57:05, 18.12s/it]"
     ]
    },
    {
     "name": "stdout",
     "output_type": "stream",
     "text": [
      "============================================================\n",
      "time elapsed: 0:03:13\n",
      "num of updates: 1100\n",
      "total loss: 1.64277\n",
      "state loss: 0.99392\n",
      "reward loss: 0.64885\n",
      "saving min loss model at: ./log/dt_halfcheetah_model_24-05-07-21-53-44_best.pt\n",
      "saving current model at: ./log/dt_halfcheetah_model_24-05-07-21-53-44.pt\n"
     ]
    },
    {
     "name": "stderr",
     "output_type": "stream",
     "text": [
      "  6%|▌         | 12/200 [03:31<57:44, 18.43s/it]"
     ]
    },
    {
     "name": "stdout",
     "output_type": "stream",
     "text": [
      "============================================================\n",
      "time elapsed: 0:03:32\n",
      "num of updates: 1200\n",
      "total loss: 1.54464\n",
      "state loss: 0.97948\n",
      "reward loss: 0.56516\n",
      "saving min loss model at: ./log/dt_halfcheetah_model_24-05-07-21-53-44_best.pt\n",
      "saving current model at: ./log/dt_halfcheetah_model_24-05-07-21-53-44.pt\n"
     ]
    },
    {
     "name": "stderr",
     "output_type": "stream",
     "text": [
      "  6%|▋         | 13/200 [03:51<58:35, 18.80s/it]"
     ]
    },
    {
     "name": "stdout",
     "output_type": "stream",
     "text": [
      "============================================================\n",
      "time elapsed: 0:03:52\n",
      "num of updates: 1300\n",
      "total loss: 1.47436\n",
      "state loss: 0.96627\n",
      "reward loss: 0.50809\n",
      "saving min loss model at: ./log/dt_halfcheetah_model_24-05-07-21-53-44_best.pt\n",
      "saving current model at: ./log/dt_halfcheetah_model_24-05-07-21-53-44.pt\n"
     ]
    },
    {
     "name": "stderr",
     "output_type": "stream",
     "text": [
      "  7%|▋         | 14/200 [04:11<59:31, 19.20s/it]"
     ]
    },
    {
     "name": "stdout",
     "output_type": "stream",
     "text": [
      "============================================================\n",
      "time elapsed: 0:04:12\n",
      "num of updates: 1400\n",
      "total loss: 1.42622\n",
      "state loss: 0.96350\n",
      "reward loss: 0.46271\n",
      "saving min loss model at: ./log/dt_halfcheetah_model_24-05-07-21-53-44_best.pt\n",
      "saving current model at: ./log/dt_halfcheetah_model_24-05-07-21-53-44.pt\n"
     ]
    },
    {
     "name": "stderr",
     "output_type": "stream",
     "text": [
      "  8%|▊         | 15/200 [04:33<1:01:30, 19.95s/it]"
     ]
    },
    {
     "name": "stdout",
     "output_type": "stream",
     "text": [
      "============================================================\n",
      "time elapsed: 0:04:33\n",
      "num of updates: 1500\n",
      "total loss: 1.37049\n",
      "state loss: 0.95286\n",
      "reward loss: 0.41763\n",
      "saving min loss model at: ./log/dt_halfcheetah_model_24-05-07-21-53-44_best.pt\n",
      "saving current model at: ./log/dt_halfcheetah_model_24-05-07-21-53-44.pt\n"
     ]
    },
    {
     "name": "stderr",
     "output_type": "stream",
     "text": [
      "  8%|▊         | 16/200 [04:54<1:02:44, 20.46s/it]"
     ]
    },
    {
     "name": "stdout",
     "output_type": "stream",
     "text": [
      "============================================================\n",
      "time elapsed: 0:04:55\n",
      "num of updates: 1600\n",
      "total loss: 1.32364\n",
      "state loss: 0.94567\n",
      "reward loss: 0.37798\n",
      "saving min loss model at: ./log/dt_halfcheetah_model_24-05-07-21-53-44_best.pt\n",
      "saving current model at: ./log/dt_halfcheetah_model_24-05-07-21-53-44.pt\n"
     ]
    },
    {
     "name": "stderr",
     "output_type": "stream",
     "text": [
      "  8%|▊         | 17/200 [05:14<1:01:26, 20.15s/it]"
     ]
    },
    {
     "name": "stdout",
     "output_type": "stream",
     "text": [
      "============================================================\n",
      "time elapsed: 0:05:14\n",
      "num of updates: 1700\n",
      "total loss: 1.29396\n",
      "state loss: 0.94639\n",
      "reward loss: 0.34757\n",
      "saving min loss model at: ./log/dt_halfcheetah_model_24-05-07-21-53-44_best.pt\n",
      "saving current model at: ./log/dt_halfcheetah_model_24-05-07-21-53-44.pt\n"
     ]
    },
    {
     "name": "stderr",
     "output_type": "stream",
     "text": [
      "  9%|▉         | 18/200 [05:33<1:00:22, 19.91s/it]"
     ]
    },
    {
     "name": "stdout",
     "output_type": "stream",
     "text": [
      "============================================================\n",
      "time elapsed: 0:05:34\n",
      "num of updates: 1800\n",
      "total loss: 1.26757\n",
      "state loss: 0.94108\n",
      "reward loss: 0.32649\n",
      "saving min loss model at: ./log/dt_halfcheetah_model_24-05-07-21-53-44_best.pt\n",
      "saving current model at: ./log/dt_halfcheetah_model_24-05-07-21-53-44.pt\n"
     ]
    },
    {
     "name": "stderr",
     "output_type": "stream",
     "text": [
      " 10%|▉         | 19/200 [05:53<59:51, 19.84s/it]  "
     ]
    },
    {
     "name": "stdout",
     "output_type": "stream",
     "text": [
      "============================================================\n",
      "time elapsed: 0:05:53\n",
      "num of updates: 1900\n",
      "total loss: 1.23139\n",
      "state loss: 0.92773\n",
      "reward loss: 0.30366\n",
      "saving min loss model at: ./log/dt_halfcheetah_model_24-05-07-21-53-44_best.pt\n",
      "saving current model at: ./log/dt_halfcheetah_model_24-05-07-21-53-44.pt\n"
     ]
    },
    {
     "name": "stderr",
     "output_type": "stream",
     "text": [
      " 10%|█         | 20/200 [06:13<59:48, 19.94s/it]"
     ]
    },
    {
     "name": "stdout",
     "output_type": "stream",
     "text": [
      "============================================================\n",
      "time elapsed: 0:06:14\n",
      "num of updates: 2000\n",
      "total loss: 1.20260\n",
      "state loss: 0.91819\n",
      "reward loss: 0.28441\n",
      "saving min loss model at: ./log/dt_halfcheetah_model_24-05-07-21-53-44_best.pt\n",
      "saving current model at: ./log/dt_halfcheetah_model_24-05-07-21-53-44.pt\n"
     ]
    },
    {
     "name": "stderr",
     "output_type": "stream",
     "text": [
      " 10%|█         | 21/200 [06:33<59:44, 20.03s/it]"
     ]
    },
    {
     "name": "stdout",
     "output_type": "stream",
     "text": [
      "============================================================\n",
      "time elapsed: 0:06:34\n",
      "num of updates: 2100\n",
      "total loss: 1.17554\n",
      "state loss: 0.90798\n",
      "reward loss: 0.26756\n",
      "saving min loss model at: ./log/dt_halfcheetah_model_24-05-07-21-53-44_best.pt\n",
      "saving current model at: ./log/dt_halfcheetah_model_24-05-07-21-53-44.pt\n"
     ]
    },
    {
     "name": "stderr",
     "output_type": "stream",
     "text": [
      " 11%|█         | 22/200 [06:53<59:12, 19.96s/it]"
     ]
    },
    {
     "name": "stdout",
     "output_type": "stream",
     "text": [
      "============================================================\n",
      "time elapsed: 0:06:54\n",
      "num of updates: 2200\n",
      "total loss: 1.14629\n",
      "state loss: 0.89707\n",
      "reward loss: 0.24922\n",
      "saving min loss model at: ./log/dt_halfcheetah_model_24-05-07-21-53-44_best.pt\n",
      "saving current model at: ./log/dt_halfcheetah_model_24-05-07-21-53-44.pt\n"
     ]
    },
    {
     "name": "stderr",
     "output_type": "stream",
     "text": [
      " 12%|█▏        | 23/200 [07:14<59:21, 20.12s/it]"
     ]
    },
    {
     "name": "stdout",
     "output_type": "stream",
     "text": [
      "============================================================\n",
      "time elapsed: 0:07:14\n",
      "num of updates: 2300\n",
      "total loss: 1.11634\n",
      "state loss: 0.88001\n",
      "reward loss: 0.23633\n",
      "saving min loss model at: ./log/dt_halfcheetah_model_24-05-07-21-53-44_best.pt\n",
      "saving current model at: ./log/dt_halfcheetah_model_24-05-07-21-53-44.pt\n"
     ]
    },
    {
     "name": "stderr",
     "output_type": "stream",
     "text": [
      " 12%|█▏        | 24/200 [07:42<1:06:32, 22.69s/it]"
     ]
    },
    {
     "name": "stdout",
     "output_type": "stream",
     "text": [
      "============================================================\n",
      "time elapsed: 0:07:43\n",
      "num of updates: 2400\n",
      "total loss: 1.07553\n",
      "state loss: 0.85566\n",
      "reward loss: 0.21987\n",
      "saving min loss model at: ./log/dt_halfcheetah_model_24-05-07-21-53-44_best.pt\n",
      "saving current model at: ./log/dt_halfcheetah_model_24-05-07-21-53-44.pt\n"
     ]
    },
    {
     "name": "stderr",
     "output_type": "stream",
     "text": [
      " 12%|█▎        | 25/200 [08:02<1:03:43, 21.85s/it]"
     ]
    },
    {
     "name": "stdout",
     "output_type": "stream",
     "text": [
      "============================================================\n",
      "time elapsed: 0:08:03\n",
      "num of updates: 2500\n",
      "total loss: 1.04702\n",
      "state loss: 0.83786\n",
      "reward loss: 0.20916\n",
      "saving min loss model at: ./log/dt_halfcheetah_model_24-05-07-21-53-44_best.pt\n",
      "saving current model at: ./log/dt_halfcheetah_model_24-05-07-21-53-44.pt\n"
     ]
    },
    {
     "name": "stderr",
     "output_type": "stream",
     "text": [
      " 13%|█▎        | 26/200 [08:22<1:01:32, 21.22s/it]"
     ]
    },
    {
     "name": "stdout",
     "output_type": "stream",
     "text": [
      "============================================================\n",
      "time elapsed: 0:08:22\n",
      "num of updates: 2600\n",
      "total loss: 1.00625\n",
      "state loss: 0.80969\n",
      "reward loss: 0.19655\n",
      "saving min loss model at: ./log/dt_halfcheetah_model_24-05-07-21-53-44_best.pt\n",
      "saving current model at: ./log/dt_halfcheetah_model_24-05-07-21-53-44.pt\n"
     ]
    },
    {
     "name": "stderr",
     "output_type": "stream",
     "text": [
      " 14%|█▎        | 27/200 [08:42<1:00:22, 20.94s/it]"
     ]
    },
    {
     "name": "stdout",
     "output_type": "stream",
     "text": [
      "============================================================\n",
      "time elapsed: 0:08:43\n",
      "num of updates: 2700\n",
      "total loss: 0.96680\n",
      "state loss: 0.78229\n",
      "reward loss: 0.18451\n",
      "saving min loss model at: ./log/dt_halfcheetah_model_24-05-07-21-53-44_best.pt\n",
      "saving current model at: ./log/dt_halfcheetah_model_24-05-07-21-53-44.pt\n"
     ]
    },
    {
     "name": "stderr",
     "output_type": "stream",
     "text": [
      " 14%|█▍        | 28/200 [09:02<58:56, 20.56s/it]  "
     ]
    },
    {
     "name": "stdout",
     "output_type": "stream",
     "text": [
      "============================================================\n",
      "time elapsed: 0:09:02\n",
      "num of updates: 2800\n",
      "total loss: 0.93051\n",
      "state loss: 0.75398\n",
      "reward loss: 0.17653\n",
      "saving min loss model at: ./log/dt_halfcheetah_model_24-05-07-21-53-44_best.pt\n",
      "saving current model at: ./log/dt_halfcheetah_model_24-05-07-21-53-44.pt\n"
     ]
    },
    {
     "name": "stderr",
     "output_type": "stream",
     "text": [
      " 14%|█▍        | 29/200 [09:21<57:08, 20.05s/it]"
     ]
    },
    {
     "name": "stdout",
     "output_type": "stream",
     "text": [
      "============================================================\n",
      "time elapsed: 0:09:21\n",
      "num of updates: 2900\n",
      "total loss: 0.89919\n",
      "state loss: 0.72990\n",
      "reward loss: 0.16929\n",
      "saving min loss model at: ./log/dt_halfcheetah_model_24-05-07-21-53-44_best.pt\n",
      "saving current model at: ./log/dt_halfcheetah_model_24-05-07-21-53-44.pt\n"
     ]
    },
    {
     "name": "stderr",
     "output_type": "stream",
     "text": [
      " 15%|█▌        | 30/200 [09:40<56:23, 19.90s/it]"
     ]
    },
    {
     "name": "stdout",
     "output_type": "stream",
     "text": [
      "============================================================\n",
      "time elapsed: 0:09:41\n",
      "num of updates: 3000\n",
      "total loss: 0.85545\n",
      "state loss: 0.69252\n",
      "reward loss: 0.16294\n",
      "saving min loss model at: ./log/dt_halfcheetah_model_24-05-07-21-53-44_best.pt\n",
      "saving current model at: ./log/dt_halfcheetah_model_24-05-07-21-53-44.pt\n"
     ]
    },
    {
     "name": "stderr",
     "output_type": "stream",
     "text": [
      " 16%|█▌        | 31/200 [10:00<56:10, 19.95s/it]"
     ]
    },
    {
     "name": "stdout",
     "output_type": "stream",
     "text": [
      "============================================================\n",
      "time elapsed: 0:10:01\n",
      "num of updates: 3100\n",
      "total loss: 0.81152\n",
      "state loss: 0.65896\n",
      "reward loss: 0.15255\n",
      "saving min loss model at: ./log/dt_halfcheetah_model_24-05-07-21-53-44_best.pt\n",
      "saving current model at: ./log/dt_halfcheetah_model_24-05-07-21-53-44.pt\n"
     ]
    },
    {
     "name": "stderr",
     "output_type": "stream",
     "text": [
      " 16%|█▌        | 32/200 [10:20<55:57, 19.99s/it]"
     ]
    },
    {
     "name": "stdout",
     "output_type": "stream",
     "text": [
      "============================================================\n",
      "time elapsed: 0:10:21\n",
      "num of updates: 3200\n",
      "total loss: 0.76762\n",
      "state loss: 0.62306\n",
      "reward loss: 0.14456\n",
      "saving min loss model at: ./log/dt_halfcheetah_model_24-05-07-21-53-44_best.pt\n",
      "saving current model at: ./log/dt_halfcheetah_model_24-05-07-21-53-44.pt\n"
     ]
    },
    {
     "name": "stderr",
     "output_type": "stream",
     "text": [
      " 16%|█▋        | 33/200 [10:41<55:44, 20.03s/it]"
     ]
    },
    {
     "name": "stdout",
     "output_type": "stream",
     "text": [
      "============================================================\n",
      "time elapsed: 0:10:41\n",
      "num of updates: 3300\n",
      "total loss: 0.73797\n",
      "state loss: 0.59946\n",
      "reward loss: 0.13851\n",
      "saving min loss model at: ./log/dt_halfcheetah_model_24-05-07-21-53-44_best.pt\n",
      "saving current model at: ./log/dt_halfcheetah_model_24-05-07-21-53-44.pt\n"
     ]
    },
    {
     "name": "stderr",
     "output_type": "stream",
     "text": [
      " 17%|█▋        | 34/200 [10:59<54:28, 19.69s/it]"
     ]
    },
    {
     "name": "stdout",
     "output_type": "stream",
     "text": [
      "============================================================\n",
      "time elapsed: 0:11:00\n",
      "num of updates: 3400\n",
      "total loss: 0.70175\n",
      "state loss: 0.57075\n",
      "reward loss: 0.13099\n",
      "saving min loss model at: ./log/dt_halfcheetah_model_24-05-07-21-53-44_best.pt\n",
      "saving current model at: ./log/dt_halfcheetah_model_24-05-07-21-53-44.pt\n"
     ]
    },
    {
     "name": "stderr",
     "output_type": "stream",
     "text": [
      " 18%|█▊        | 35/200 [11:18<53:00, 19.28s/it]"
     ]
    },
    {
     "name": "stdout",
     "output_type": "stream",
     "text": [
      "============================================================\n",
      "time elapsed: 0:11:18\n",
      "num of updates: 3500\n",
      "total loss: 0.67986\n",
      "state loss: 0.55326\n",
      "reward loss: 0.12660\n",
      "saving min loss model at: ./log/dt_halfcheetah_model_24-05-07-21-53-44_best.pt\n",
      "saving current model at: ./log/dt_halfcheetah_model_24-05-07-21-53-44.pt\n"
     ]
    },
    {
     "name": "stderr",
     "output_type": "stream",
     "text": [
      " 18%|█▊        | 36/200 [11:37<52:22, 19.16s/it]"
     ]
    },
    {
     "name": "stdout",
     "output_type": "stream",
     "text": [
      "============================================================\n",
      "time elapsed: 0:11:37\n",
      "num of updates: 3600\n",
      "total loss: 0.64345\n",
      "state loss: 0.52375\n",
      "reward loss: 0.11970\n",
      "saving min loss model at: ./log/dt_halfcheetah_model_24-05-07-21-53-44_best.pt\n",
      "saving current model at: ./log/dt_halfcheetah_model_24-05-07-21-53-44.pt\n"
     ]
    },
    {
     "name": "stderr",
     "output_type": "stream",
     "text": [
      " 18%|█▊        | 37/200 [11:56<52:05, 19.17s/it]"
     ]
    },
    {
     "name": "stdout",
     "output_type": "stream",
     "text": [
      "============================================================\n",
      "time elapsed: 0:11:56\n",
      "num of updates: 3700\n",
      "total loss: 0.62008\n",
      "state loss: 0.50529\n",
      "reward loss: 0.11479\n",
      "saving min loss model at: ./log/dt_halfcheetah_model_24-05-07-21-53-44_best.pt\n",
      "saving current model at: ./log/dt_halfcheetah_model_24-05-07-21-53-44.pt\n"
     ]
    },
    {
     "name": "stderr",
     "output_type": "stream",
     "text": [
      " 19%|█▉        | 38/200 [12:16<52:30, 19.45s/it]"
     ]
    },
    {
     "name": "stdout",
     "output_type": "stream",
     "text": [
      "============================================================\n",
      "time elapsed: 0:12:16\n",
      "num of updates: 3800\n",
      "total loss: 0.59307\n",
      "state loss: 0.48436\n",
      "reward loss: 0.10871\n",
      "saving min loss model at: ./log/dt_halfcheetah_model_24-05-07-21-53-44_best.pt\n",
      "saving current model at: ./log/dt_halfcheetah_model_24-05-07-21-53-44.pt\n"
     ]
    },
    {
     "name": "stderr",
     "output_type": "stream",
     "text": [
      " 20%|█▉        | 39/200 [12:36<52:50, 19.69s/it]"
     ]
    },
    {
     "name": "stdout",
     "output_type": "stream",
     "text": [
      "============================================================\n",
      "time elapsed: 0:12:37\n",
      "num of updates: 3900\n",
      "total loss: 0.57168\n",
      "state loss: 0.46796\n",
      "reward loss: 0.10372\n",
      "saving min loss model at: ./log/dt_halfcheetah_model_24-05-07-21-53-44_best.pt\n",
      "saving current model at: ./log/dt_halfcheetah_model_24-05-07-21-53-44.pt\n"
     ]
    },
    {
     "name": "stderr",
     "output_type": "stream",
     "text": [
      " 20%|██        | 40/200 [12:57<53:04, 19.90s/it]"
     ]
    },
    {
     "name": "stdout",
     "output_type": "stream",
     "text": [
      "============================================================\n",
      "time elapsed: 0:12:57\n",
      "num of updates: 4000\n",
      "total loss: 0.54942\n",
      "state loss: 0.44920\n",
      "reward loss: 0.10022\n",
      "saving min loss model at: ./log/dt_halfcheetah_model_24-05-07-21-53-44_best.pt\n",
      "saving current model at: ./log/dt_halfcheetah_model_24-05-07-21-53-44.pt\n"
     ]
    },
    {
     "name": "stderr",
     "output_type": "stream",
     "text": [
      " 20%|██        | 41/200 [13:16<52:39, 19.87s/it]"
     ]
    },
    {
     "name": "stdout",
     "output_type": "stream",
     "text": [
      "============================================================\n",
      "time elapsed: 0:13:17\n",
      "num of updates: 4100\n",
      "total loss: 0.52550\n",
      "state loss: 0.42942\n",
      "reward loss: 0.09608\n",
      "saving min loss model at: ./log/dt_halfcheetah_model_24-05-07-21-53-44_best.pt\n",
      "saving current model at: ./log/dt_halfcheetah_model_24-05-07-21-53-44.pt\n"
     ]
    },
    {
     "name": "stderr",
     "output_type": "stream",
     "text": [
      " 21%|██        | 42/200 [13:36<52:14, 19.84s/it]"
     ]
    },
    {
     "name": "stdout",
     "output_type": "stream",
     "text": [
      "============================================================\n",
      "time elapsed: 0:13:37\n",
      "num of updates: 4200\n",
      "total loss: 0.49975\n",
      "state loss: 0.40772\n",
      "reward loss: 0.09204\n",
      "saving min loss model at: ./log/dt_halfcheetah_model_24-05-07-21-53-44_best.pt\n",
      "saving current model at: ./log/dt_halfcheetah_model_24-05-07-21-53-44.pt\n"
     ]
    },
    {
     "name": "stderr",
     "output_type": "stream",
     "text": [
      " 22%|██▏       | 43/200 [13:56<52:11, 19.94s/it]"
     ]
    },
    {
     "name": "stdout",
     "output_type": "stream",
     "text": [
      "============================================================\n",
      "time elapsed: 0:13:57\n",
      "num of updates: 4300\n",
      "total loss: 0.48200\n",
      "state loss: 0.39379\n",
      "reward loss: 0.08822\n",
      "saving min loss model at: ./log/dt_halfcheetah_model_24-05-07-21-53-44_best.pt\n",
      "saving current model at: ./log/dt_halfcheetah_model_24-05-07-21-53-44.pt\n"
     ]
    },
    {
     "name": "stderr",
     "output_type": "stream",
     "text": [
      " 22%|██▏       | 44/200 [14:15<51:09, 19.68s/it]"
     ]
    },
    {
     "name": "stdout",
     "output_type": "stream",
     "text": [
      "============================================================\n",
      "time elapsed: 0:14:16\n",
      "num of updates: 4400\n",
      "total loss: 0.46273\n",
      "state loss: 0.37773\n",
      "reward loss: 0.08500\n",
      "saving min loss model at: ./log/dt_halfcheetah_model_24-05-07-21-53-44_best.pt\n",
      "saving current model at: ./log/dt_halfcheetah_model_24-05-07-21-53-44.pt\n"
     ]
    },
    {
     "name": "stderr",
     "output_type": "stream",
     "text": [
      " 22%|██▎       | 45/200 [14:34<50:23, 19.51s/it]"
     ]
    },
    {
     "name": "stdout",
     "output_type": "stream",
     "text": [
      "============================================================\n",
      "time elapsed: 0:14:35\n",
      "num of updates: 4500\n",
      "total loss: 0.44555\n",
      "state loss: 0.36285\n",
      "reward loss: 0.08271\n",
      "saving min loss model at: ./log/dt_halfcheetah_model_24-05-07-21-53-44_best.pt\n",
      "saving current model at: ./log/dt_halfcheetah_model_24-05-07-21-53-44.pt\n"
     ]
    },
    {
     "name": "stderr",
     "output_type": "stream",
     "text": [
      " 23%|██▎       | 46/200 [14:54<50:19, 19.61s/it]"
     ]
    },
    {
     "name": "stdout",
     "output_type": "stream",
     "text": [
      "============================================================\n",
      "time elapsed: 0:14:55\n",
      "num of updates: 4600\n",
      "total loss: 0.42641\n",
      "state loss: 0.34740\n",
      "reward loss: 0.07901\n",
      "saving min loss model at: ./log/dt_halfcheetah_model_24-05-07-21-53-44_best.pt\n",
      "saving current model at: ./log/dt_halfcheetah_model_24-05-07-21-53-44.pt\n"
     ]
    },
    {
     "name": "stderr",
     "output_type": "stream",
     "text": [
      " 24%|██▎       | 47/200 [15:16<51:16, 20.11s/it]"
     ]
    },
    {
     "name": "stdout",
     "output_type": "stream",
     "text": [
      "============================================================\n",
      "time elapsed: 0:15:16\n",
      "num of updates: 4700\n",
      "total loss: 0.41468\n",
      "state loss: 0.33694\n",
      "reward loss: 0.07774\n",
      "saving min loss model at: ./log/dt_halfcheetah_model_24-05-07-21-53-44_best.pt\n",
      "saving current model at: ./log/dt_halfcheetah_model_24-05-07-21-53-44.pt\n"
     ]
    },
    {
     "name": "stderr",
     "output_type": "stream",
     "text": [
      " 24%|██▍       | 48/200 [15:37<52:04, 20.56s/it]"
     ]
    },
    {
     "name": "stdout",
     "output_type": "stream",
     "text": [
      "============================================================\n",
      "time elapsed: 0:15:38\n",
      "num of updates: 4800\n",
      "total loss: 0.39408\n",
      "state loss: 0.32118\n",
      "reward loss: 0.07290\n",
      "saving min loss model at: ./log/dt_halfcheetah_model_24-05-07-21-53-44_best.pt\n",
      "saving current model at: ./log/dt_halfcheetah_model_24-05-07-21-53-44.pt\n"
     ]
    },
    {
     "name": "stderr",
     "output_type": "stream",
     "text": [
      " 24%|██▍       | 49/200 [15:57<50:57, 20.25s/it]"
     ]
    },
    {
     "name": "stdout",
     "output_type": "stream",
     "text": [
      "============================================================\n",
      "time elapsed: 0:15:57\n",
      "num of updates: 4900\n",
      "total loss: 0.37933\n",
      "state loss: 0.30825\n",
      "reward loss: 0.07108\n",
      "saving min loss model at: ./log/dt_halfcheetah_model_24-05-07-21-53-44_best.pt\n",
      "saving current model at: ./log/dt_halfcheetah_model_24-05-07-21-53-44.pt\n"
     ]
    },
    {
     "name": "stderr",
     "output_type": "stream",
     "text": [
      " 25%|██▌       | 50/200 [16:15<49:29, 19.80s/it]"
     ]
    },
    {
     "name": "stdout",
     "output_type": "stream",
     "text": [
      "============================================================\n",
      "time elapsed: 0:16:16\n",
      "num of updates: 5000\n",
      "total loss: 0.36361\n",
      "state loss: 0.29584\n",
      "reward loss: 0.06777\n",
      "saving min loss model at: ./log/dt_halfcheetah_model_24-05-07-21-53-44_best.pt\n",
      "saving current model at: ./log/dt_halfcheetah_model_24-05-07-21-53-44.pt\n"
     ]
    },
    {
     "name": "stderr",
     "output_type": "stream",
     "text": [
      " 26%|██▌       | 51/200 [16:35<48:35, 19.57s/it]"
     ]
    },
    {
     "name": "stdout",
     "output_type": "stream",
     "text": [
      "============================================================\n",
      "time elapsed: 0:16:35\n",
      "num of updates: 5100\n",
      "total loss: 0.34618\n",
      "state loss: 0.28125\n",
      "reward loss: 0.06493\n",
      "saving min loss model at: ./log/dt_halfcheetah_model_24-05-07-21-53-44_best.pt\n",
      "saving current model at: ./log/dt_halfcheetah_model_24-05-07-21-53-44.pt\n"
     ]
    },
    {
     "name": "stderr",
     "output_type": "stream",
     "text": [
      " 26%|██▌       | 52/200 [16:54<48:05, 19.50s/it]"
     ]
    },
    {
     "name": "stdout",
     "output_type": "stream",
     "text": [
      "============================================================\n",
      "time elapsed: 0:16:54\n",
      "num of updates: 5200\n",
      "total loss: 0.34006\n",
      "state loss: 0.27615\n",
      "reward loss: 0.06391\n",
      "saving min loss model at: ./log/dt_halfcheetah_model_24-05-07-21-53-44_best.pt\n",
      "saving current model at: ./log/dt_halfcheetah_model_24-05-07-21-53-44.pt\n"
     ]
    },
    {
     "name": "stderr",
     "output_type": "stream",
     "text": [
      " 26%|██▋       | 53/200 [17:14<48:23, 19.75s/it]"
     ]
    },
    {
     "name": "stdout",
     "output_type": "stream",
     "text": [
      "============================================================\n",
      "time elapsed: 0:17:15\n",
      "num of updates: 5300\n",
      "total loss: 0.32813\n",
      "state loss: 0.26699\n",
      "reward loss: 0.06115\n",
      "saving min loss model at: ./log/dt_halfcheetah_model_24-05-07-21-53-44_best.pt\n",
      "saving current model at: ./log/dt_halfcheetah_model_24-05-07-21-53-44.pt\n"
     ]
    },
    {
     "name": "stderr",
     "output_type": "stream",
     "text": [
      " 27%|██▋       | 54/200 [17:35<48:34, 19.96s/it]"
     ]
    },
    {
     "name": "stdout",
     "output_type": "stream",
     "text": [
      "============================================================\n",
      "time elapsed: 0:17:35\n",
      "num of updates: 5400\n",
      "total loss: 0.31834\n",
      "state loss: 0.25819\n",
      "reward loss: 0.06015\n",
      "saving min loss model at: ./log/dt_halfcheetah_model_24-05-07-21-53-44_best.pt\n",
      "saving current model at: ./log/dt_halfcheetah_model_24-05-07-21-53-44.pt\n"
     ]
    },
    {
     "name": "stderr",
     "output_type": "stream",
     "text": [
      " 28%|██▊       | 55/200 [17:54<47:35, 19.70s/it]"
     ]
    },
    {
     "name": "stdout",
     "output_type": "stream",
     "text": [
      "============================================================\n",
      "time elapsed: 0:17:54\n",
      "num of updates: 5500\n",
      "total loss: 0.31045\n",
      "state loss: 0.25106\n",
      "reward loss: 0.05939\n",
      "saving min loss model at: ./log/dt_halfcheetah_model_24-05-07-21-53-44_best.pt\n",
      "saving current model at: ./log/dt_halfcheetah_model_24-05-07-21-53-44.pt\n"
     ]
    },
    {
     "name": "stderr",
     "output_type": "stream",
     "text": [
      " 28%|██▊       | 56/200 [18:13<46:57, 19.57s/it]"
     ]
    },
    {
     "name": "stdout",
     "output_type": "stream",
     "text": [
      "============================================================\n",
      "time elapsed: 0:18:14\n",
      "num of updates: 5600\n",
      "total loss: 0.29641\n",
      "state loss: 0.24019\n",
      "reward loss: 0.05622\n",
      "saving min loss model at: ./log/dt_halfcheetah_model_24-05-07-21-53-44_best.pt\n",
      "saving current model at: ./log/dt_halfcheetah_model_24-05-07-21-53-44.pt\n"
     ]
    },
    {
     "name": "stderr",
     "output_type": "stream",
     "text": [
      " 28%|██▊       | 57/200 [18:33<46:51, 19.66s/it]"
     ]
    },
    {
     "name": "stdout",
     "output_type": "stream",
     "text": [
      "============================================================\n",
      "time elapsed: 0:18:33\n",
      "num of updates: 5700\n",
      "total loss: 0.28976\n",
      "state loss: 0.23405\n",
      "reward loss: 0.05572\n",
      "saving min loss model at: ./log/dt_halfcheetah_model_24-05-07-21-53-44_best.pt\n",
      "saving current model at: ./log/dt_halfcheetah_model_24-05-07-21-53-44.pt\n"
     ]
    },
    {
     "name": "stderr",
     "output_type": "stream",
     "text": [
      " 29%|██▉       | 58/200 [18:53<46:36, 19.69s/it]"
     ]
    },
    {
     "name": "stdout",
     "output_type": "stream",
     "text": [
      "============================================================\n",
      "time elapsed: 0:18:53\n",
      "num of updates: 5800\n",
      "total loss: 0.28023\n",
      "state loss: 0.22640\n",
      "reward loss: 0.05383\n",
      "saving min loss model at: ./log/dt_halfcheetah_model_24-05-07-21-53-44_best.pt\n",
      "saving current model at: ./log/dt_halfcheetah_model_24-05-07-21-53-44.pt\n"
     ]
    },
    {
     "name": "stderr",
     "output_type": "stream",
     "text": [
      " 30%|██▉       | 59/200 [19:12<46:14, 19.68s/it]"
     ]
    },
    {
     "name": "stdout",
     "output_type": "stream",
     "text": [
      "============================================================\n",
      "time elapsed: 0:19:13\n",
      "num of updates: 5900\n",
      "total loss: 0.27509\n",
      "state loss: 0.22198\n",
      "reward loss: 0.05311\n",
      "saving min loss model at: ./log/dt_halfcheetah_model_24-05-07-21-53-44_best.pt\n",
      "saving current model at: ./log/dt_halfcheetah_model_24-05-07-21-53-44.pt\n"
     ]
    },
    {
     "name": "stderr",
     "output_type": "stream",
     "text": [
      " 30%|███       | 60/200 [19:32<45:54, 19.68s/it]"
     ]
    },
    {
     "name": "stdout",
     "output_type": "stream",
     "text": [
      "============================================================\n",
      "time elapsed: 0:19:33\n",
      "num of updates: 6000\n",
      "total loss: 0.26418\n",
      "state loss: 0.21306\n",
      "reward loss: 0.05112\n",
      "saving min loss model at: ./log/dt_halfcheetah_model_24-05-07-21-53-44_best.pt\n",
      "saving current model at: ./log/dt_halfcheetah_model_24-05-07-21-53-44.pt\n"
     ]
    },
    {
     "name": "stderr",
     "output_type": "stream",
     "text": [
      " 30%|███       | 61/200 [19:52<45:55, 19.82s/it]"
     ]
    },
    {
     "name": "stdout",
     "output_type": "stream",
     "text": [
      "============================================================\n",
      "time elapsed: 0:19:53\n",
      "num of updates: 6100\n",
      "total loss: 0.26004\n",
      "state loss: 0.20992\n",
      "reward loss: 0.05013\n",
      "saving min loss model at: ./log/dt_halfcheetah_model_24-05-07-21-53-44_best.pt\n",
      "saving current model at: ./log/dt_halfcheetah_model_24-05-07-21-53-44.pt\n"
     ]
    },
    {
     "name": "stderr",
     "output_type": "stream",
     "text": [
      " 31%|███       | 62/200 [20:12<45:21, 19.72s/it]"
     ]
    },
    {
     "name": "stdout",
     "output_type": "stream",
     "text": [
      "============================================================\n",
      "time elapsed: 0:20:12\n",
      "num of updates: 6200\n",
      "total loss: 0.25486\n",
      "state loss: 0.20454\n",
      "reward loss: 0.05032\n",
      "saving min loss model at: ./log/dt_halfcheetah_model_24-05-07-21-53-44_best.pt\n",
      "saving current model at: ./log/dt_halfcheetah_model_24-05-07-21-53-44.pt\n"
     ]
    },
    {
     "name": "stderr",
     "output_type": "stream",
     "text": [
      " 32%|███▏      | 63/200 [20:30<44:17, 19.40s/it]"
     ]
    },
    {
     "name": "stdout",
     "output_type": "stream",
     "text": [
      "============================================================\n",
      "time elapsed: 0:20:31\n",
      "num of updates: 6300\n",
      "total loss: 0.24502\n",
      "state loss: 0.19674\n",
      "reward loss: 0.04828\n",
      "saving min loss model at: ./log/dt_halfcheetah_model_24-05-07-21-53-44_best.pt\n",
      "saving current model at: ./log/dt_halfcheetah_model_24-05-07-21-53-44.pt\n"
     ]
    },
    {
     "name": "stderr",
     "output_type": "stream",
     "text": [
      " 32%|███▏      | 64/200 [20:49<43:44, 19.30s/it]"
     ]
    },
    {
     "name": "stdout",
     "output_type": "stream",
     "text": [
      "============================================================\n",
      "time elapsed: 0:20:50\n",
      "num of updates: 6400\n",
      "total loss: 0.24362\n",
      "state loss: 0.19585\n",
      "reward loss: 0.04777\n",
      "saving min loss model at: ./log/dt_halfcheetah_model_24-05-07-21-53-44_best.pt\n",
      "saving current model at: ./log/dt_halfcheetah_model_24-05-07-21-53-44.pt\n"
     ]
    },
    {
     "name": "stderr",
     "output_type": "stream",
     "text": [
      " 32%|███▎      | 65/200 [21:09<43:29, 19.33s/it]"
     ]
    },
    {
     "name": "stdout",
     "output_type": "stream",
     "text": [
      "============================================================\n",
      "time elapsed: 0:21:09\n",
      "num of updates: 6500\n",
      "total loss: 0.23685\n",
      "state loss: 0.18978\n",
      "reward loss: 0.04707\n",
      "saving min loss model at: ./log/dt_halfcheetah_model_24-05-07-21-53-44_best.pt\n",
      "saving current model at: ./log/dt_halfcheetah_model_24-05-07-21-53-44.pt\n"
     ]
    },
    {
     "name": "stderr",
     "output_type": "stream",
     "text": [
      " 33%|███▎      | 66/200 [21:29<43:57, 19.69s/it]"
     ]
    },
    {
     "name": "stdout",
     "output_type": "stream",
     "text": [
      "============================================================\n",
      "time elapsed: 0:21:30\n",
      "num of updates: 6600\n",
      "total loss: 0.23099\n",
      "state loss: 0.18584\n",
      "reward loss: 0.04515\n",
      "saving min loss model at: ./log/dt_halfcheetah_model_24-05-07-21-53-44_best.pt\n",
      "saving current model at: ./log/dt_halfcheetah_model_24-05-07-21-53-44.pt\n"
     ]
    },
    {
     "name": "stderr",
     "output_type": "stream",
     "text": [
      " 34%|███▎      | 67/200 [21:49<43:58, 19.84s/it]"
     ]
    },
    {
     "name": "stdout",
     "output_type": "stream",
     "text": [
      "============================================================\n",
      "time elapsed: 0:21:50\n",
      "num of updates: 6700\n",
      "total loss: 0.22327\n",
      "state loss: 0.17957\n",
      "reward loss: 0.04371\n",
      "saving min loss model at: ./log/dt_halfcheetah_model_24-05-07-21-53-44_best.pt\n",
      "saving current model at: ./log/dt_halfcheetah_model_24-05-07-21-53-44.pt\n"
     ]
    },
    {
     "name": "stderr",
     "output_type": "stream",
     "text": [
      " 34%|███▍      | 68/200 [22:09<43:46, 19.90s/it]"
     ]
    },
    {
     "name": "stdout",
     "output_type": "stream",
     "text": [
      "============================================================\n",
      "time elapsed: 0:22:10\n",
      "num of updates: 6800\n",
      "total loss: 0.22088\n",
      "state loss: 0.17731\n",
      "reward loss: 0.04358\n",
      "saving min loss model at: ./log/dt_halfcheetah_model_24-05-07-21-53-44_best.pt\n",
      "saving current model at: ./log/dt_halfcheetah_model_24-05-07-21-53-44.pt\n"
     ]
    },
    {
     "name": "stderr",
     "output_type": "stream",
     "text": [
      " 34%|███▍      | 69/200 [22:29<42:52, 19.64s/it]"
     ]
    },
    {
     "name": "stdout",
     "output_type": "stream",
     "text": [
      "============================================================\n",
      "time elapsed: 0:22:29\n",
      "num of updates: 6900\n",
      "total loss: 0.21610\n",
      "state loss: 0.17351\n",
      "reward loss: 0.04259\n",
      "saving min loss model at: ./log/dt_halfcheetah_model_24-05-07-21-53-44_best.pt\n",
      "saving current model at: ./log/dt_halfcheetah_model_24-05-07-21-53-44.pt\n"
     ]
    },
    {
     "name": "stderr",
     "output_type": "stream",
     "text": [
      " 35%|███▌      | 70/200 [22:48<42:19, 19.53s/it]"
     ]
    },
    {
     "name": "stdout",
     "output_type": "stream",
     "text": [
      "============================================================\n",
      "time elapsed: 0:22:48\n",
      "num of updates: 7000\n",
      "total loss: 0.21501\n",
      "state loss: 0.17228\n",
      "reward loss: 0.04273\n",
      "saving min loss model at: ./log/dt_halfcheetah_model_24-05-07-21-53-44_best.pt\n",
      "saving current model at: ./log/dt_halfcheetah_model_24-05-07-21-53-44.pt\n"
     ]
    },
    {
     "name": "stderr",
     "output_type": "stream",
     "text": [
      " 36%|███▌      | 71/200 [23:17<48:25, 22.52s/it]"
     ]
    },
    {
     "name": "stdout",
     "output_type": "stream",
     "text": [
      "============================================================\n",
      "time elapsed: 0:23:18\n",
      "num of updates: 7100\n",
      "total loss: 0.20940\n",
      "state loss: 0.16813\n",
      "reward loss: 0.04126\n",
      "saving min loss model at: ./log/dt_halfcheetah_model_24-05-07-21-53-44_best.pt\n",
      "saving current model at: ./log/dt_halfcheetah_model_24-05-07-21-53-44.pt\n"
     ]
    },
    {
     "name": "stderr",
     "output_type": "stream",
     "text": [
      " 36%|███▌      | 72/200 [23:39<47:37, 22.32s/it]"
     ]
    },
    {
     "name": "stdout",
     "output_type": "stream",
     "text": [
      "============================================================\n",
      "time elapsed: 0:23:40\n",
      "num of updates: 7200\n",
      "total loss: 0.20226\n",
      "state loss: 0.16225\n",
      "reward loss: 0.04001\n",
      "saving min loss model at: ./log/dt_halfcheetah_model_24-05-07-21-53-44_best.pt\n",
      "saving current model at: ./log/dt_halfcheetah_model_24-05-07-21-53-44.pt\n"
     ]
    },
    {
     "name": "stderr",
     "output_type": "stream",
     "text": [
      " 36%|███▋      | 73/200 [23:59<45:31, 21.51s/it]"
     ]
    },
    {
     "name": "stdout",
     "output_type": "stream",
     "text": [
      "============================================================\n",
      "time elapsed: 0:23:59\n",
      "num of updates: 7300\n",
      "total loss: 0.19900\n",
      "state loss: 0.15922\n",
      "reward loss: 0.03978\n",
      "saving min loss model at: ./log/dt_halfcheetah_model_24-05-07-21-53-44_best.pt\n",
      "saving current model at: ./log/dt_halfcheetah_model_24-05-07-21-53-44.pt\n"
     ]
    },
    {
     "name": "stderr",
     "output_type": "stream",
     "text": [
      " 37%|███▋      | 74/200 [24:18<43:39, 20.79s/it]"
     ]
    },
    {
     "name": "stdout",
     "output_type": "stream",
     "text": [
      "============================================================\n",
      "time elapsed: 0:24:18\n",
      "num of updates: 7400\n",
      "total loss: 0.19820\n",
      "state loss: 0.15842\n",
      "reward loss: 0.03978\n",
      "saving min loss model at: ./log/dt_halfcheetah_model_24-05-07-21-53-44_best.pt\n",
      "saving current model at: ./log/dt_halfcheetah_model_24-05-07-21-53-44.pt\n"
     ]
    },
    {
     "name": "stderr",
     "output_type": "stream",
     "text": [
      " 38%|███▊      | 75/200 [24:38<42:35, 20.45s/it]"
     ]
    },
    {
     "name": "stdout",
     "output_type": "stream",
     "text": [
      "============================================================\n",
      "time elapsed: 0:24:38\n",
      "num of updates: 7500\n",
      "total loss: 0.19470\n",
      "state loss: 0.15555\n",
      "reward loss: 0.03915\n",
      "saving min loss model at: ./log/dt_halfcheetah_model_24-05-07-21-53-44_best.pt\n",
      "saving current model at: ./log/dt_halfcheetah_model_24-05-07-21-53-44.pt\n"
     ]
    },
    {
     "name": "stderr",
     "output_type": "stream",
     "text": [
      " 38%|███▊      | 76/200 [24:58<42:06, 20.37s/it]"
     ]
    },
    {
     "name": "stdout",
     "output_type": "stream",
     "text": [
      "============================================================\n",
      "time elapsed: 0:24:58\n",
      "num of updates: 7600\n",
      "total loss: 0.18871\n",
      "state loss: 0.15063\n",
      "reward loss: 0.03808\n",
      "saving min loss model at: ./log/dt_halfcheetah_model_24-05-07-21-53-44_best.pt\n",
      "saving current model at: ./log/dt_halfcheetah_model_24-05-07-21-53-44.pt\n"
     ]
    },
    {
     "name": "stderr",
     "output_type": "stream",
     "text": [
      " 38%|███▊      | 77/200 [25:18<41:45, 20.37s/it]"
     ]
    },
    {
     "name": "stdout",
     "output_type": "stream",
     "text": [
      "============================================================\n",
      "time elapsed: 0:25:19\n",
      "num of updates: 7700\n",
      "total loss: 0.18492\n",
      "state loss: 0.14744\n",
      "reward loss: 0.03748\n",
      "saving min loss model at: ./log/dt_halfcheetah_model_24-05-07-21-53-44_best.pt\n",
      "saving current model at: ./log/dt_halfcheetah_model_24-05-07-21-53-44.pt\n"
     ]
    },
    {
     "name": "stderr",
     "output_type": "stream",
     "text": [
      " 39%|███▉      | 78/200 [25:37<40:50, 20.09s/it]"
     ]
    },
    {
     "name": "stdout",
     "output_type": "stream",
     "text": [
      "============================================================\n",
      "time elapsed: 0:25:38\n",
      "num of updates: 7800\n",
      "total loss: 0.18100\n",
      "state loss: 0.14528\n",
      "reward loss: 0.03572\n",
      "saving min loss model at: ./log/dt_halfcheetah_model_24-05-07-21-53-44_best.pt\n",
      "saving current model at: ./log/dt_halfcheetah_model_24-05-07-21-53-44.pt\n"
     ]
    },
    {
     "name": "stderr",
     "output_type": "stream",
     "text": [
      " 40%|███▉      | 79/200 [25:56<39:46, 19.72s/it]"
     ]
    },
    {
     "name": "stdout",
     "output_type": "stream",
     "text": [
      "============================================================\n",
      "time elapsed: 0:25:57\n",
      "num of updates: 7900\n",
      "total loss: 0.17892\n",
      "state loss: 0.14290\n",
      "reward loss: 0.03602\n",
      "saving min loss model at: ./log/dt_halfcheetah_model_24-05-07-21-53-44_best.pt\n",
      "saving current model at: ./log/dt_halfcheetah_model_24-05-07-21-53-44.pt\n"
     ]
    },
    {
     "name": "stderr",
     "output_type": "stream",
     "text": [
      " 40%|████      | 80/200 [26:16<39:11, 19.60s/it]"
     ]
    },
    {
     "name": "stdout",
     "output_type": "stream",
     "text": [
      "============================================================\n",
      "time elapsed: 0:26:16\n",
      "num of updates: 8000\n",
      "total loss: 0.17605\n",
      "state loss: 0.14031\n",
      "reward loss: 0.03575\n",
      "saving min loss model at: ./log/dt_halfcheetah_model_24-05-07-21-53-44_best.pt\n",
      "saving current model at: ./log/dt_halfcheetah_model_24-05-07-21-53-44.pt\n"
     ]
    },
    {
     "name": "stderr",
     "output_type": "stream",
     "text": [
      " 40%|████      | 81/200 [26:35<38:55, 19.63s/it]"
     ]
    },
    {
     "name": "stdout",
     "output_type": "stream",
     "text": [
      "============================================================\n",
      "time elapsed: 0:26:36\n",
      "num of updates: 8100\n",
      "total loss: 0.17659\n",
      "state loss: 0.14064\n",
      "reward loss: 0.03596\n",
      "saving current model at: ./log/dt_halfcheetah_model_24-05-07-21-53-44.pt\n"
     ]
    },
    {
     "name": "stderr",
     "output_type": "stream",
     "text": [
      " 41%|████      | 82/200 [26:56<39:00, 19.84s/it]"
     ]
    },
    {
     "name": "stdout",
     "output_type": "stream",
     "text": [
      "============================================================\n",
      "time elapsed: 0:26:56\n",
      "num of updates: 8200\n",
      "total loss: 0.17065\n",
      "state loss: 0.13558\n",
      "reward loss: 0.03507\n",
      "saving min loss model at: ./log/dt_halfcheetah_model_24-05-07-21-53-44_best.pt\n",
      "saving current model at: ./log/dt_halfcheetah_model_24-05-07-21-53-44.pt\n"
     ]
    },
    {
     "name": "stderr",
     "output_type": "stream",
     "text": [
      " 42%|████▏     | 83/200 [27:17<39:23, 20.20s/it]"
     ]
    },
    {
     "name": "stdout",
     "output_type": "stream",
     "text": [
      "============================================================\n",
      "time elapsed: 0:27:17\n",
      "num of updates: 8300\n",
      "total loss: 0.16604\n",
      "state loss: 0.13212\n",
      "reward loss: 0.03392\n",
      "saving min loss model at: ./log/dt_halfcheetah_model_24-05-07-21-53-44_best.pt\n",
      "saving current model at: ./log/dt_halfcheetah_model_24-05-07-21-53-44.pt\n"
     ]
    },
    {
     "name": "stderr",
     "output_type": "stream",
     "text": [
      " 42%|████▏     | 84/200 [27:36<38:41, 20.01s/it]"
     ]
    },
    {
     "name": "stdout",
     "output_type": "stream",
     "text": [
      "============================================================\n",
      "time elapsed: 0:27:37\n",
      "num of updates: 8400\n",
      "total loss: 0.16356\n",
      "state loss: 0.13023\n",
      "reward loss: 0.03332\n",
      "saving min loss model at: ./log/dt_halfcheetah_model_24-05-07-21-53-44_best.pt\n",
      "saving current model at: ./log/dt_halfcheetah_model_24-05-07-21-53-44.pt\n"
     ]
    },
    {
     "name": "stderr",
     "output_type": "stream",
     "text": [
      " 42%|████▎     | 85/200 [27:55<37:47, 19.71s/it]"
     ]
    },
    {
     "name": "stdout",
     "output_type": "stream",
     "text": [
      "============================================================\n",
      "time elapsed: 0:27:56\n",
      "num of updates: 8500\n",
      "total loss: 0.16114\n",
      "state loss: 0.12835\n",
      "reward loss: 0.03279\n",
      "saving min loss model at: ./log/dt_halfcheetah_model_24-05-07-21-53-44_best.pt\n",
      "saving current model at: ./log/dt_halfcheetah_model_24-05-07-21-53-44.pt\n"
     ]
    },
    {
     "name": "stderr",
     "output_type": "stream",
     "text": [
      " 43%|████▎     | 86/200 [28:15<37:30, 19.74s/it]"
     ]
    },
    {
     "name": "stdout",
     "output_type": "stream",
     "text": [
      "============================================================\n",
      "time elapsed: 0:28:16\n",
      "num of updates: 8600\n",
      "total loss: 0.15909\n",
      "state loss: 0.12665\n",
      "reward loss: 0.03244\n",
      "saving min loss model at: ./log/dt_halfcheetah_model_24-05-07-21-53-44_best.pt\n",
      "saving current model at: ./log/dt_halfcheetah_model_24-05-07-21-53-44.pt\n"
     ]
    },
    {
     "name": "stderr",
     "output_type": "stream",
     "text": [
      " 44%|████▎     | 87/200 [28:35<37:26, 19.88s/it]"
     ]
    },
    {
     "name": "stdout",
     "output_type": "stream",
     "text": [
      "============================================================\n",
      "time elapsed: 0:28:36\n",
      "num of updates: 8700\n",
      "total loss: 0.15416\n",
      "state loss: 0.12243\n",
      "reward loss: 0.03172\n",
      "saving min loss model at: ./log/dt_halfcheetah_model_24-05-07-21-53-44_best.pt\n",
      "saving current model at: ./log/dt_halfcheetah_model_24-05-07-21-53-44.pt\n"
     ]
    },
    {
     "name": "stderr",
     "output_type": "stream",
     "text": [
      " 44%|████▍     | 88/200 [28:55<37:14, 19.95s/it]"
     ]
    },
    {
     "name": "stdout",
     "output_type": "stream",
     "text": [
      "============================================================\n",
      "time elapsed: 0:28:56\n",
      "num of updates: 8800\n",
      "total loss: 0.15266\n",
      "state loss: 0.12125\n",
      "reward loss: 0.03141\n",
      "saving min loss model at: ./log/dt_halfcheetah_model_24-05-07-21-53-44_best.pt\n",
      "saving current model at: ./log/dt_halfcheetah_model_24-05-07-21-53-44.pt\n"
     ]
    },
    {
     "name": "stderr",
     "output_type": "stream",
     "text": [
      " 44%|████▍     | 89/200 [29:15<36:24, 19.68s/it]"
     ]
    },
    {
     "name": "stdout",
     "output_type": "stream",
     "text": [
      "============================================================\n",
      "time elapsed: 0:29:15\n",
      "num of updates: 8900\n",
      "total loss: 0.14988\n",
      "state loss: 0.11911\n",
      "reward loss: 0.03077\n",
      "saving min loss model at: ./log/dt_halfcheetah_model_24-05-07-21-53-44_best.pt\n",
      "saving current model at: ./log/dt_halfcheetah_model_24-05-07-21-53-44.pt\n"
     ]
    },
    {
     "name": "stderr",
     "output_type": "stream",
     "text": [
      " 45%|████▌     | 90/200 [29:34<35:48, 19.54s/it]"
     ]
    },
    {
     "name": "stdout",
     "output_type": "stream",
     "text": [
      "============================================================\n",
      "time elapsed: 0:29:34\n",
      "num of updates: 9000\n",
      "total loss: 0.14994\n",
      "state loss: 0.11843\n",
      "reward loss: 0.03151\n",
      "saving current model at: ./log/dt_halfcheetah_model_24-05-07-21-53-44.pt\n"
     ]
    },
    {
     "name": "stderr",
     "output_type": "stream",
     "text": [
      " 46%|████▌     | 91/200 [29:53<35:34, 19.58s/it]"
     ]
    },
    {
     "name": "stdout",
     "output_type": "stream",
     "text": [
      "============================================================\n",
      "time elapsed: 0:29:54\n",
      "num of updates: 9100\n",
      "total loss: 0.14734\n",
      "state loss: 0.11618\n",
      "reward loss: 0.03116\n",
      "saving min loss model at: ./log/dt_halfcheetah_model_24-05-07-21-53-44_best.pt\n",
      "saving current model at: ./log/dt_halfcheetah_model_24-05-07-21-53-44.pt\n"
     ]
    },
    {
     "name": "stderr",
     "output_type": "stream",
     "text": [
      " 46%|████▌     | 92/200 [30:14<35:38, 19.80s/it]"
     ]
    },
    {
     "name": "stdout",
     "output_type": "stream",
     "text": [
      "============================================================\n",
      "time elapsed: 0:30:14\n",
      "num of updates: 9200\n",
      "total loss: 0.14338\n",
      "state loss: 0.11356\n",
      "reward loss: 0.02982\n",
      "saving min loss model at: ./log/dt_halfcheetah_model_24-05-07-21-53-44_best.pt\n",
      "saving current model at: ./log/dt_halfcheetah_model_24-05-07-21-53-44.pt\n"
     ]
    },
    {
     "name": "stderr",
     "output_type": "stream",
     "text": [
      " 46%|████▋     | 93/200 [30:34<35:47, 20.07s/it]"
     ]
    },
    {
     "name": "stdout",
     "output_type": "stream",
     "text": [
      "============================================================\n",
      "time elapsed: 0:30:35\n",
      "num of updates: 9300\n",
      "total loss: 0.14187\n",
      "state loss: 0.11182\n",
      "reward loss: 0.03004\n",
      "saving min loss model at: ./log/dt_halfcheetah_model_24-05-07-21-53-44_best.pt\n",
      "saving current model at: ./log/dt_halfcheetah_model_24-05-07-21-53-44.pt\n"
     ]
    },
    {
     "name": "stderr",
     "output_type": "stream",
     "text": [
      " 47%|████▋     | 94/200 [30:55<35:51, 20.29s/it]"
     ]
    },
    {
     "name": "stdout",
     "output_type": "stream",
     "text": [
      "============================================================\n",
      "time elapsed: 0:30:56\n",
      "num of updates: 9400\n",
      "total loss: 0.13862\n",
      "state loss: 0.10934\n",
      "reward loss: 0.02928\n",
      "saving min loss model at: ./log/dt_halfcheetah_model_24-05-07-21-53-44_best.pt\n",
      "saving current model at: ./log/dt_halfcheetah_model_24-05-07-21-53-44.pt\n"
     ]
    },
    {
     "name": "stderr",
     "output_type": "stream",
     "text": [
      " 48%|████▊     | 95/200 [31:16<35:36, 20.35s/it]"
     ]
    },
    {
     "name": "stdout",
     "output_type": "stream",
     "text": [
      "============================================================\n",
      "time elapsed: 0:31:16\n",
      "num of updates: 9500\n",
      "total loss: 0.13616\n",
      "state loss: 0.10740\n",
      "reward loss: 0.02875\n",
      "saving min loss model at: ./log/dt_halfcheetah_model_24-05-07-21-53-44_best.pt\n",
      "saving current model at: ./log/dt_halfcheetah_model_24-05-07-21-53-44.pt\n"
     ]
    },
    {
     "name": "stderr",
     "output_type": "stream",
     "text": [
      " 48%|████▊     | 96/200 [31:35<34:40, 20.00s/it]"
     ]
    },
    {
     "name": "stdout",
     "output_type": "stream",
     "text": [
      "============================================================\n",
      "time elapsed: 0:31:35\n",
      "num of updates: 9600\n",
      "total loss: 0.13506\n",
      "state loss: 0.10655\n",
      "reward loss: 0.02852\n",
      "saving min loss model at: ./log/dt_halfcheetah_model_24-05-07-21-53-44_best.pt\n",
      "saving current model at: ./log/dt_halfcheetah_model_24-05-07-21-53-44.pt\n"
     ]
    },
    {
     "name": "stderr",
     "output_type": "stream",
     "text": [
      " 48%|████▊     | 97/200 [31:55<34:26, 20.07s/it]"
     ]
    },
    {
     "name": "stdout",
     "output_type": "stream",
     "text": [
      "============================================================\n",
      "time elapsed: 0:31:56\n",
      "num of updates: 9700\n",
      "total loss: 0.13266\n",
      "state loss: 0.10436\n",
      "reward loss: 0.02829\n",
      "saving min loss model at: ./log/dt_halfcheetah_model_24-05-07-21-53-44_best.pt\n",
      "saving current model at: ./log/dt_halfcheetah_model_24-05-07-21-53-44.pt\n"
     ]
    },
    {
     "name": "stderr",
     "output_type": "stream",
     "text": [
      " 49%|████▉     | 98/200 [32:17<34:58, 20.57s/it]"
     ]
    },
    {
     "name": "stdout",
     "output_type": "stream",
     "text": [
      "============================================================\n",
      "time elapsed: 0:32:17\n",
      "num of updates: 9800\n",
      "total loss: 0.13217\n",
      "state loss: 0.10383\n",
      "reward loss: 0.02834\n",
      "saving min loss model at: ./log/dt_halfcheetah_model_24-05-07-21-53-44_best.pt\n",
      "saving current model at: ./log/dt_halfcheetah_model_24-05-07-21-53-44.pt\n"
     ]
    },
    {
     "name": "stderr",
     "output_type": "stream",
     "text": [
      " 50%|████▉     | 99/200 [32:38<34:49, 20.69s/it]"
     ]
    },
    {
     "name": "stdout",
     "output_type": "stream",
     "text": [
      "============================================================\n",
      "time elapsed: 0:32:38\n",
      "num of updates: 9900\n",
      "total loss: 0.12957\n",
      "state loss: 0.10202\n",
      "reward loss: 0.02755\n",
      "saving min loss model at: ./log/dt_halfcheetah_model_24-05-07-21-53-44_best.pt\n",
      "saving current model at: ./log/dt_halfcheetah_model_24-05-07-21-53-44.pt\n"
     ]
    },
    {
     "name": "stderr",
     "output_type": "stream",
     "text": [
      " 50%|█████     | 100/200 [32:59<34:44, 20.84s/it]"
     ]
    },
    {
     "name": "stdout",
     "output_type": "stream",
     "text": [
      "============================================================\n",
      "time elapsed: 0:33:00\n",
      "num of updates: 10000\n",
      "total loss: 0.12816\n",
      "state loss: 0.10076\n",
      "reward loss: 0.02740\n",
      "saving min loss model at: ./log/dt_halfcheetah_model_24-05-07-21-53-44_best.pt\n",
      "saving current model at: ./log/dt_halfcheetah_model_24-05-07-21-53-44.pt\n"
     ]
    },
    {
     "name": "stderr",
     "output_type": "stream",
     "text": [
      " 50%|█████     | 101/200 [33:19<34:02, 20.63s/it]"
     ]
    },
    {
     "name": "stdout",
     "output_type": "stream",
     "text": [
      "============================================================\n",
      "time elapsed: 0:33:20\n",
      "num of updates: 10100\n",
      "total loss: 0.12514\n",
      "state loss: 0.09813\n",
      "reward loss: 0.02701\n",
      "saving min loss model at: ./log/dt_halfcheetah_model_24-05-07-21-53-44_best.pt\n",
      "saving current model at: ./log/dt_halfcheetah_model_24-05-07-21-53-44.pt\n"
     ]
    },
    {
     "name": "stderr",
     "output_type": "stream",
     "text": [
      " 51%|█████     | 102/200 [33:40<33:35, 20.56s/it]"
     ]
    },
    {
     "name": "stdout",
     "output_type": "stream",
     "text": [
      "============================================================\n",
      "time elapsed: 0:33:40\n",
      "num of updates: 10200\n",
      "total loss: 0.12426\n",
      "state loss: 0.09764\n",
      "reward loss: 0.02662\n",
      "saving min loss model at: ./log/dt_halfcheetah_model_24-05-07-21-53-44_best.pt\n",
      "saving current model at: ./log/dt_halfcheetah_model_24-05-07-21-53-44.pt\n"
     ]
    },
    {
     "name": "stderr",
     "output_type": "stream",
     "text": [
      " 52%|█████▏    | 103/200 [34:00<33:23, 20.66s/it]"
     ]
    },
    {
     "name": "stdout",
     "output_type": "stream",
     "text": [
      "============================================================\n",
      "time elapsed: 0:34:01\n",
      "num of updates: 10300\n",
      "total loss: 0.12177\n",
      "state loss: 0.09542\n",
      "reward loss: 0.02635\n",
      "saving min loss model at: ./log/dt_halfcheetah_model_24-05-07-21-53-44_best.pt\n",
      "saving current model at: ./log/dt_halfcheetah_model_24-05-07-21-53-44.pt\n"
     ]
    },
    {
     "name": "stderr",
     "output_type": "stream",
     "text": [
      " 52%|█████▏    | 104/200 [34:22<33:27, 20.92s/it]"
     ]
    },
    {
     "name": "stdout",
     "output_type": "stream",
     "text": [
      "============================================================\n",
      "time elapsed: 0:34:23\n",
      "num of updates: 10400\n",
      "total loss: 0.11953\n",
      "state loss: 0.09366\n",
      "reward loss: 0.02587\n",
      "saving min loss model at: ./log/dt_halfcheetah_model_24-05-07-21-53-44_best.pt\n",
      "saving current model at: ./log/dt_halfcheetah_model_24-05-07-21-53-44.pt\n"
     ]
    },
    {
     "name": "stderr",
     "output_type": "stream",
     "text": [
      " 52%|█████▎    | 105/200 [34:43<33:05, 20.90s/it]"
     ]
    },
    {
     "name": "stdout",
     "output_type": "stream",
     "text": [
      "============================================================\n",
      "time elapsed: 0:34:43\n",
      "num of updates: 10500\n",
      "total loss: 0.11837\n",
      "state loss: 0.09262\n",
      "reward loss: 0.02575\n",
      "saving min loss model at: ./log/dt_halfcheetah_model_24-05-07-21-53-44_best.pt\n",
      "saving current model at: ./log/dt_halfcheetah_model_24-05-07-21-53-44.pt\n"
     ]
    },
    {
     "name": "stderr",
     "output_type": "stream",
     "text": [
      " 53%|█████▎    | 106/200 [35:03<32:11, 20.55s/it]"
     ]
    },
    {
     "name": "stdout",
     "output_type": "stream",
     "text": [
      "============================================================\n",
      "time elapsed: 0:35:03\n",
      "num of updates: 10600\n",
      "total loss: 0.11751\n",
      "state loss: 0.09192\n",
      "reward loss: 0.02559\n",
      "saving min loss model at: ./log/dt_halfcheetah_model_24-05-07-21-53-44_best.pt\n",
      "saving current model at: ./log/dt_halfcheetah_model_24-05-07-21-53-44.pt\n"
     ]
    },
    {
     "name": "stderr",
     "output_type": "stream",
     "text": [
      " 54%|█████▎    | 107/200 [35:21<31:04, 20.04s/it]"
     ]
    },
    {
     "name": "stdout",
     "output_type": "stream",
     "text": [
      "============================================================\n",
      "time elapsed: 0:35:22\n",
      "num of updates: 10700\n",
      "total loss: 0.11536\n",
      "state loss: 0.09007\n",
      "reward loss: 0.02529\n",
      "saving min loss model at: ./log/dt_halfcheetah_model_24-05-07-21-53-44_best.pt\n",
      "saving current model at: ./log/dt_halfcheetah_model_24-05-07-21-53-44.pt\n"
     ]
    },
    {
     "name": "stderr",
     "output_type": "stream",
     "text": [
      " 54%|█████▍    | 108/200 [35:41<30:25, 19.84s/it]"
     ]
    },
    {
     "name": "stdout",
     "output_type": "stream",
     "text": [
      "============================================================\n",
      "time elapsed: 0:35:41\n",
      "num of updates: 10800\n",
      "total loss: 0.11422\n",
      "state loss: 0.08936\n",
      "reward loss: 0.02486\n",
      "saving min loss model at: ./log/dt_halfcheetah_model_24-05-07-21-53-44_best.pt\n",
      "saving current model at: ./log/dt_halfcheetah_model_24-05-07-21-53-44.pt\n"
     ]
    },
    {
     "name": "stderr",
     "output_type": "stream",
     "text": [
      " 55%|█████▍    | 109/200 [36:01<30:08, 19.87s/it]"
     ]
    },
    {
     "name": "stdout",
     "output_type": "stream",
     "text": [
      "============================================================\n",
      "time elapsed: 0:36:01\n",
      "num of updates: 10900\n",
      "total loss: 0.11312\n",
      "state loss: 0.08855\n",
      "reward loss: 0.02457\n",
      "saving min loss model at: ./log/dt_halfcheetah_model_24-05-07-21-53-44_best.pt\n",
      "saving current model at: ./log/dt_halfcheetah_model_24-05-07-21-53-44.pt\n"
     ]
    },
    {
     "name": "stderr",
     "output_type": "stream",
     "text": [
      " 55%|█████▌    | 110/200 [36:22<30:34, 20.38s/it]"
     ]
    },
    {
     "name": "stdout",
     "output_type": "stream",
     "text": [
      "============================================================\n",
      "time elapsed: 0:36:23\n",
      "num of updates: 11000\n",
      "total loss: 0.11007\n",
      "state loss: 0.08579\n",
      "reward loss: 0.02427\n",
      "saving min loss model at: ./log/dt_halfcheetah_model_24-05-07-21-53-44_best.pt\n",
      "saving current model at: ./log/dt_halfcheetah_model_24-05-07-21-53-44.pt\n"
     ]
    },
    {
     "name": "stderr",
     "output_type": "stream",
     "text": [
      " 56%|█████▌    | 111/200 [36:44<30:48, 20.77s/it]"
     ]
    },
    {
     "name": "stdout",
     "output_type": "stream",
     "text": [
      "============================================================\n",
      "time elapsed: 0:36:45\n",
      "num of updates: 11100\n",
      "total loss: 0.11087\n",
      "state loss: 0.08637\n",
      "reward loss: 0.02450\n",
      "saving current model at: ./log/dt_halfcheetah_model_24-05-07-21-53-44.pt\n"
     ]
    },
    {
     "name": "stderr",
     "output_type": "stream",
     "text": [
      " 56%|█████▌    | 112/200 [37:05<30:29, 20.79s/it]"
     ]
    },
    {
     "name": "stdout",
     "output_type": "stream",
     "text": [
      "============================================================\n",
      "time elapsed: 0:37:05\n",
      "num of updates: 11200\n",
      "total loss: 0.10723\n",
      "state loss: 0.08407\n",
      "reward loss: 0.02317\n",
      "saving min loss model at: ./log/dt_halfcheetah_model_24-05-07-21-53-44_best.pt\n",
      "saving current model at: ./log/dt_halfcheetah_model_24-05-07-21-53-44.pt\n"
     ]
    },
    {
     "name": "stderr",
     "output_type": "stream",
     "text": [
      " 56%|█████▋    | 113/200 [37:28<31:12, 21.52s/it]"
     ]
    },
    {
     "name": "stdout",
     "output_type": "stream",
     "text": [
      "============================================================\n",
      "time elapsed: 0:37:29\n",
      "num of updates: 11300\n",
      "total loss: 0.10765\n",
      "state loss: 0.08415\n",
      "reward loss: 0.02350\n",
      "saving current model at: ./log/dt_halfcheetah_model_24-05-07-21-53-44.pt\n"
     ]
    },
    {
     "name": "stderr",
     "output_type": "stream",
     "text": [
      " 57%|█████▋    | 114/200 [37:53<32:07, 22.41s/it]"
     ]
    },
    {
     "name": "stdout",
     "output_type": "stream",
     "text": [
      "============================================================\n",
      "time elapsed: 0:37:53\n",
      "num of updates: 11400\n",
      "total loss: 0.10665\n",
      "state loss: 0.08289\n",
      "reward loss: 0.02376\n",
      "saving min loss model at: ./log/dt_halfcheetah_model_24-05-07-21-53-44_best.pt\n",
      "saving current model at: ./log/dt_halfcheetah_model_24-05-07-21-53-44.pt\n"
     ]
    },
    {
     "name": "stderr",
     "output_type": "stream",
     "text": [
      " 57%|█████▊    | 115/200 [38:13<31:02, 21.91s/it]"
     ]
    },
    {
     "name": "stdout",
     "output_type": "stream",
     "text": [
      "============================================================\n",
      "time elapsed: 0:38:14\n",
      "num of updates: 11500\n",
      "total loss: 0.10472\n",
      "state loss: 0.08149\n",
      "reward loss: 0.02324\n",
      "saving min loss model at: ./log/dt_halfcheetah_model_24-05-07-21-53-44_best.pt\n",
      "saving current model at: ./log/dt_halfcheetah_model_24-05-07-21-53-44.pt\n"
     ]
    },
    {
     "name": "stderr",
     "output_type": "stream",
     "text": [
      " 58%|█████▊    | 116/200 [38:47<35:40, 25.48s/it]"
     ]
    },
    {
     "name": "stdout",
     "output_type": "stream",
     "text": [
      "============================================================\n",
      "time elapsed: 0:38:48\n",
      "num of updates: 11600\n",
      "total loss: 0.10386\n",
      "state loss: 0.08118\n",
      "reward loss: 0.02267\n",
      "saving min loss model at: ./log/dt_halfcheetah_model_24-05-07-21-53-44_best.pt\n",
      "saving current model at: ./log/dt_halfcheetah_model_24-05-07-21-53-44.pt\n"
     ]
    },
    {
     "name": "stderr",
     "output_type": "stream",
     "text": [
      " 58%|█████▊    | 117/200 [39:09<33:36, 24.29s/it]"
     ]
    },
    {
     "name": "stdout",
     "output_type": "stream",
     "text": [
      "============================================================\n",
      "time elapsed: 0:39:09\n",
      "num of updates: 11700\n",
      "total loss: 0.10111\n",
      "state loss: 0.07907\n",
      "reward loss: 0.02204\n",
      "saving min loss model at: ./log/dt_halfcheetah_model_24-05-07-21-53-44_best.pt\n",
      "saving current model at: ./log/dt_halfcheetah_model_24-05-07-21-53-44.pt\n"
     ]
    },
    {
     "name": "stderr",
     "output_type": "stream",
     "text": [
      " 59%|█████▉    | 118/200 [39:30<31:57, 23.38s/it]"
     ]
    },
    {
     "name": "stdout",
     "output_type": "stream",
     "text": [
      "============================================================\n",
      "time elapsed: 0:39:30\n",
      "num of updates: 11800\n",
      "total loss: 0.10179\n",
      "state loss: 0.07938\n",
      "reward loss: 0.02240\n",
      "saving current model at: ./log/dt_halfcheetah_model_24-05-07-21-53-44.pt\n"
     ]
    },
    {
     "name": "stderr",
     "output_type": "stream",
     "text": [
      " 60%|█████▉    | 119/200 [39:51<30:40, 22.72s/it]"
     ]
    },
    {
     "name": "stdout",
     "output_type": "stream",
     "text": [
      "============================================================\n",
      "time elapsed: 0:39:52\n",
      "num of updates: 11900\n",
      "total loss: 0.10065\n",
      "state loss: 0.07835\n",
      "reward loss: 0.02230\n",
      "saving min loss model at: ./log/dt_halfcheetah_model_24-05-07-21-53-44_best.pt\n",
      "saving current model at: ./log/dt_halfcheetah_model_24-05-07-21-53-44.pt\n"
     ]
    },
    {
     "name": "stderr",
     "output_type": "stream",
     "text": [
      " 60%|██████    | 120/200 [40:13<30:01, 22.52s/it]"
     ]
    },
    {
     "name": "stdout",
     "output_type": "stream",
     "text": [
      "============================================================\n",
      "time elapsed: 0:40:14\n",
      "num of updates: 12000\n",
      "total loss: 0.09750\n",
      "state loss: 0.07648\n",
      "reward loss: 0.02102\n",
      "saving min loss model at: ./log/dt_halfcheetah_model_24-05-07-21-53-44_best.pt\n",
      "saving current model at: ./log/dt_halfcheetah_model_24-05-07-21-53-44.pt\n"
     ]
    },
    {
     "name": "stderr",
     "output_type": "stream",
     "text": [
      " 60%|██████    | 121/200 [40:33<28:43, 21.81s/it]"
     ]
    },
    {
     "name": "stdout",
     "output_type": "stream",
     "text": [
      "============================================================\n",
      "time elapsed: 0:40:34\n",
      "num of updates: 12100\n",
      "total loss: 0.09867\n",
      "state loss: 0.07708\n",
      "reward loss: 0.02160\n",
      "saving current model at: ./log/dt_halfcheetah_model_24-05-07-21-53-44.pt\n"
     ]
    },
    {
     "name": "stderr",
     "output_type": "stream",
     "text": [
      " 61%|██████    | 122/200 [40:53<27:40, 21.29s/it]"
     ]
    },
    {
     "name": "stdout",
     "output_type": "stream",
     "text": [
      "============================================================\n",
      "time elapsed: 0:40:54\n",
      "num of updates: 12200\n",
      "total loss: 0.09692\n",
      "state loss: 0.07575\n",
      "reward loss: 0.02117\n",
      "saving min loss model at: ./log/dt_halfcheetah_model_24-05-07-21-53-44_best.pt\n",
      "saving current model at: ./log/dt_halfcheetah_model_24-05-07-21-53-44.pt\n"
     ]
    },
    {
     "name": "stderr",
     "output_type": "stream",
     "text": [
      " 62%|██████▏   | 123/200 [41:12<26:17, 20.48s/it]"
     ]
    },
    {
     "name": "stdout",
     "output_type": "stream",
     "text": [
      "============================================================\n",
      "time elapsed: 0:41:13\n",
      "num of updates: 12300\n",
      "total loss: 0.09665\n",
      "state loss: 0.07554\n",
      "reward loss: 0.02110\n",
      "saving min loss model at: ./log/dt_halfcheetah_model_24-05-07-21-53-44_best.pt\n",
      "saving current model at: ./log/dt_halfcheetah_model_24-05-07-21-53-44.pt\n"
     ]
    },
    {
     "name": "stderr",
     "output_type": "stream",
     "text": [
      " 62%|██████▏   | 124/200 [41:33<26:06, 20.61s/it]"
     ]
    },
    {
     "name": "stdout",
     "output_type": "stream",
     "text": [
      "============================================================\n",
      "time elapsed: 0:41:33\n",
      "num of updates: 12400\n",
      "total loss: 0.09668\n",
      "state loss: 0.07531\n",
      "reward loss: 0.02138\n",
      "saving current model at: ./log/dt_halfcheetah_model_24-05-07-21-53-44.pt\n"
     ]
    },
    {
     "name": "stderr",
     "output_type": "stream",
     "text": [
      " 62%|██████▎   | 125/200 [41:55<26:20, 21.07s/it]"
     ]
    },
    {
     "name": "stdout",
     "output_type": "stream",
     "text": [
      "============================================================\n",
      "time elapsed: 0:41:56\n",
      "num of updates: 12500\n",
      "total loss: 0.09545\n",
      "state loss: 0.07449\n",
      "reward loss: 0.02096\n",
      "saving min loss model at: ./log/dt_halfcheetah_model_24-05-07-21-53-44_best.pt\n",
      "saving current model at: ./log/dt_halfcheetah_model_24-05-07-21-53-44.pt\n"
     ]
    },
    {
     "name": "stderr",
     "output_type": "stream",
     "text": [
      " 63%|██████▎   | 126/200 [42:17<26:10, 21.23s/it]"
     ]
    },
    {
     "name": "stdout",
     "output_type": "stream",
     "text": [
      "============================================================\n",
      "time elapsed: 0:42:17\n",
      "num of updates: 12600\n",
      "total loss: 0.09303\n",
      "state loss: 0.07290\n",
      "reward loss: 0.02013\n",
      "saving min loss model at: ./log/dt_halfcheetah_model_24-05-07-21-53-44_best.pt\n",
      "saving current model at: ./log/dt_halfcheetah_model_24-05-07-21-53-44.pt\n"
     ]
    },
    {
     "name": "stderr",
     "output_type": "stream",
     "text": [
      " 64%|██████▎   | 127/200 [42:38<25:50, 21.24s/it]"
     ]
    },
    {
     "name": "stdout",
     "output_type": "stream",
     "text": [
      "============================================================\n",
      "time elapsed: 0:42:38\n",
      "num of updates: 12700\n",
      "total loss: 0.09320\n",
      "state loss: 0.07283\n",
      "reward loss: 0.02037\n",
      "saving current model at: ./log/dt_halfcheetah_model_24-05-07-21-53-44.pt\n"
     ]
    },
    {
     "name": "stderr",
     "output_type": "stream",
     "text": [
      " 64%|██████▍   | 128/200 [42:58<25:00, 20.84s/it]"
     ]
    },
    {
     "name": "stdout",
     "output_type": "stream",
     "text": [
      "============================================================\n",
      "time elapsed: 0:42:58\n",
      "num of updates: 12800\n",
      "total loss: 0.09197\n",
      "state loss: 0.07203\n",
      "reward loss: 0.01994\n",
      "saving min loss model at: ./log/dt_halfcheetah_model_24-05-07-21-53-44_best.pt\n",
      "saving current model at: ./log/dt_halfcheetah_model_24-05-07-21-53-44.pt\n"
     ]
    },
    {
     "name": "stderr",
     "output_type": "stream",
     "text": [
      " 64%|██████▍   | 129/200 [43:17<24:00, 20.29s/it]"
     ]
    },
    {
     "name": "stdout",
     "output_type": "stream",
     "text": [
      "============================================================\n",
      "time elapsed: 0:43:17\n",
      "num of updates: 12900\n",
      "total loss: 0.09193\n",
      "state loss: 0.07164\n",
      "reward loss: 0.02029\n",
      "saving min loss model at: ./log/dt_halfcheetah_model_24-05-07-21-53-44_best.pt\n",
      "saving current model at: ./log/dt_halfcheetah_model_24-05-07-21-53-44.pt\n"
     ]
    },
    {
     "name": "stderr",
     "output_type": "stream",
     "text": [
      " 65%|██████▌   | 130/200 [43:36<23:13, 19.90s/it]"
     ]
    },
    {
     "name": "stdout",
     "output_type": "stream",
     "text": [
      "============================================================\n",
      "time elapsed: 0:43:36\n",
      "num of updates: 13000\n",
      "total loss: 0.09018\n",
      "state loss: 0.07069\n",
      "reward loss: 0.01949\n",
      "saving min loss model at: ./log/dt_halfcheetah_model_24-05-07-21-53-44_best.pt\n",
      "saving current model at: ./log/dt_halfcheetah_model_24-05-07-21-53-44.pt\n"
     ]
    },
    {
     "name": "stderr",
     "output_type": "stream",
     "text": [
      " 66%|██████▌   | 131/200 [43:55<22:45, 19.79s/it]"
     ]
    },
    {
     "name": "stdout",
     "output_type": "stream",
     "text": [
      "============================================================\n",
      "time elapsed: 0:43:56\n",
      "num of updates: 13100\n",
      "total loss: 0.08979\n",
      "state loss: 0.06974\n",
      "reward loss: 0.02004\n",
      "saving min loss model at: ./log/dt_halfcheetah_model_24-05-07-21-53-44_best.pt\n",
      "saving current model at: ./log/dt_halfcheetah_model_24-05-07-21-53-44.pt\n"
     ]
    },
    {
     "name": "stderr",
     "output_type": "stream",
     "text": [
      " 66%|██████▌   | 132/200 [44:15<22:30, 19.86s/it]"
     ]
    },
    {
     "name": "stdout",
     "output_type": "stream",
     "text": [
      "============================================================\n",
      "time elapsed: 0:44:16\n",
      "num of updates: 13200\n",
      "total loss: 0.09033\n",
      "state loss: 0.07040\n",
      "reward loss: 0.01993\n",
      "saving current model at: ./log/dt_halfcheetah_model_24-05-07-21-53-44.pt\n"
     ]
    },
    {
     "name": "stderr",
     "output_type": "stream",
     "text": [
      " 66%|██████▋   | 133/200 [44:36<22:26, 20.10s/it]"
     ]
    },
    {
     "name": "stdout",
     "output_type": "stream",
     "text": [
      "============================================================\n",
      "time elapsed: 0:44:37\n",
      "num of updates: 13300\n",
      "total loss: 0.08730\n",
      "state loss: 0.06834\n",
      "reward loss: 0.01896\n",
      "saving min loss model at: ./log/dt_halfcheetah_model_24-05-07-21-53-44_best.pt\n",
      "saving current model at: ./log/dt_halfcheetah_model_24-05-07-21-53-44.pt\n"
     ]
    },
    {
     "name": "stderr",
     "output_type": "stream",
     "text": [
      " 67%|██████▋   | 134/200 [44:57<22:29, 20.45s/it]"
     ]
    },
    {
     "name": "stdout",
     "output_type": "stream",
     "text": [
      "============================================================\n",
      "time elapsed: 0:44:58\n",
      "num of updates: 13400\n",
      "total loss: 0.08819\n",
      "state loss: 0.06889\n",
      "reward loss: 0.01930\n",
      "saving current model at: ./log/dt_halfcheetah_model_24-05-07-21-53-44.pt\n"
     ]
    },
    {
     "name": "stderr",
     "output_type": "stream",
     "text": [
      " 68%|██████▊   | 135/200 [45:17<22:01, 20.34s/it]"
     ]
    },
    {
     "name": "stdout",
     "output_type": "stream",
     "text": [
      "============================================================\n",
      "time elapsed: 0:45:18\n",
      "num of updates: 13500\n",
      "total loss: 0.08773\n",
      "state loss: 0.06853\n",
      "reward loss: 0.01919\n",
      "saving current model at: ./log/dt_halfcheetah_model_24-05-07-21-53-44.pt\n"
     ]
    },
    {
     "name": "stderr",
     "output_type": "stream",
     "text": [
      " 68%|██████▊   | 136/200 [45:37<21:33, 20.21s/it]"
     ]
    },
    {
     "name": "stdout",
     "output_type": "stream",
     "text": [
      "============================================================\n",
      "time elapsed: 0:45:38\n",
      "num of updates: 13600\n",
      "total loss: 0.08715\n",
      "state loss: 0.06822\n",
      "reward loss: 0.01893\n",
      "saving min loss model at: ./log/dt_halfcheetah_model_24-05-07-21-53-44_best.pt\n",
      "saving current model at: ./log/dt_halfcheetah_model_24-05-07-21-53-44.pt\n"
     ]
    },
    {
     "name": "stderr",
     "output_type": "stream",
     "text": [
      " 68%|██████▊   | 137/200 [45:58<21:18, 20.29s/it]"
     ]
    },
    {
     "name": "stdout",
     "output_type": "stream",
     "text": [
      "============================================================\n",
      "time elapsed: 0:45:58\n",
      "num of updates: 13700\n",
      "total loss: 0.08558\n",
      "state loss: 0.06679\n",
      "reward loss: 0.01878\n",
      "saving min loss model at: ./log/dt_halfcheetah_model_24-05-07-21-53-44_best.pt\n",
      "saving current model at: ./log/dt_halfcheetah_model_24-05-07-21-53-44.pt\n"
     ]
    },
    {
     "name": "stderr",
     "output_type": "stream",
     "text": [
      " 69%|██████▉   | 138/200 [46:19<21:14, 20.56s/it]"
     ]
    },
    {
     "name": "stdout",
     "output_type": "stream",
     "text": [
      "============================================================\n",
      "time elapsed: 0:46:19\n",
      "num of updates: 13800\n",
      "total loss: 0.08443\n",
      "state loss: 0.06602\n",
      "reward loss: 0.01841\n",
      "saving min loss model at: ./log/dt_halfcheetah_model_24-05-07-21-53-44_best.pt\n",
      "saving current model at: ./log/dt_halfcheetah_model_24-05-07-21-53-44.pt\n"
     ]
    },
    {
     "name": "stderr",
     "output_type": "stream",
     "text": [
      " 70%|██████▉   | 139/200 [46:40<20:55, 20.59s/it]"
     ]
    },
    {
     "name": "stdout",
     "output_type": "stream",
     "text": [
      "============================================================\n",
      "time elapsed: 0:46:40\n",
      "num of updates: 13900\n",
      "total loss: 0.08352\n",
      "state loss: 0.06558\n",
      "reward loss: 0.01795\n",
      "saving min loss model at: ./log/dt_halfcheetah_model_24-05-07-21-53-44_best.pt\n",
      "saving current model at: ./log/dt_halfcheetah_model_24-05-07-21-53-44.pt\n"
     ]
    },
    {
     "name": "stderr",
     "output_type": "stream",
     "text": [
      " 70%|███████   | 140/200 [46:59<20:12, 20.21s/it]"
     ]
    },
    {
     "name": "stdout",
     "output_type": "stream",
     "text": [
      "============================================================\n",
      "time elapsed: 0:46:59\n",
      "num of updates: 14000\n",
      "total loss: 0.08219\n",
      "state loss: 0.06467\n",
      "reward loss: 0.01751\n",
      "saving min loss model at: ./log/dt_halfcheetah_model_24-05-07-21-53-44_best.pt\n",
      "saving current model at: ./log/dt_halfcheetah_model_24-05-07-21-53-44.pt\n"
     ]
    },
    {
     "name": "stderr",
     "output_type": "stream",
     "text": [
      " 70%|███████   | 141/200 [47:19<19:56, 20.29s/it]"
     ]
    },
    {
     "name": "stdout",
     "output_type": "stream",
     "text": [
      "============================================================\n",
      "time elapsed: 0:47:20\n",
      "num of updates: 14100\n",
      "total loss: 0.08323\n",
      "state loss: 0.06500\n",
      "reward loss: 0.01823\n",
      "saving current model at: ./log/dt_halfcheetah_model_24-05-07-21-53-44.pt\n"
     ]
    },
    {
     "name": "stderr",
     "output_type": "stream",
     "text": [
      " 71%|███████   | 142/200 [47:39<19:27, 20.13s/it]"
     ]
    },
    {
     "name": "stdout",
     "output_type": "stream",
     "text": [
      "============================================================\n",
      "time elapsed: 0:47:40\n",
      "num of updates: 14200\n",
      "total loss: 0.08175\n",
      "state loss: 0.06401\n",
      "reward loss: 0.01774\n",
      "saving min loss model at: ./log/dt_halfcheetah_model_24-05-07-21-53-44_best.pt\n",
      "saving current model at: ./log/dt_halfcheetah_model_24-05-07-21-53-44.pt\n"
     ]
    },
    {
     "name": "stderr",
     "output_type": "stream",
     "text": [
      " 72%|███████▏  | 143/200 [47:59<19:09, 20.16s/it]"
     ]
    },
    {
     "name": "stdout",
     "output_type": "stream",
     "text": [
      "============================================================\n",
      "time elapsed: 0:48:00\n",
      "num of updates: 14300\n",
      "total loss: 0.08122\n",
      "state loss: 0.06331\n",
      "reward loss: 0.01791\n",
      "saving min loss model at: ./log/dt_halfcheetah_model_24-05-07-21-53-44_best.pt\n",
      "saving current model at: ./log/dt_halfcheetah_model_24-05-07-21-53-44.pt\n"
     ]
    },
    {
     "name": "stderr",
     "output_type": "stream",
     "text": [
      " 72%|███████▏  | 144/200 [48:20<19:04, 20.44s/it]"
     ]
    },
    {
     "name": "stdout",
     "output_type": "stream",
     "text": [
      "============================================================\n",
      "time elapsed: 0:48:21\n",
      "num of updates: 14400\n",
      "total loss: 0.08078\n",
      "state loss: 0.06304\n",
      "reward loss: 0.01774\n",
      "saving min loss model at: ./log/dt_halfcheetah_model_24-05-07-21-53-44_best.pt\n",
      "saving current model at: ./log/dt_halfcheetah_model_24-05-07-21-53-44.pt\n"
     ]
    },
    {
     "name": "stderr",
     "output_type": "stream",
     "text": [
      " 72%|███████▎  | 145/200 [48:41<18:41, 20.40s/it]"
     ]
    },
    {
     "name": "stdout",
     "output_type": "stream",
     "text": [
      "============================================================\n",
      "time elapsed: 0:48:41\n",
      "num of updates: 14500\n",
      "total loss: 0.07983\n",
      "state loss: 0.06263\n",
      "reward loss: 0.01720\n",
      "saving min loss model at: ./log/dt_halfcheetah_model_24-05-07-21-53-44_best.pt\n",
      "saving current model at: ./log/dt_halfcheetah_model_24-05-07-21-53-44.pt\n"
     ]
    },
    {
     "name": "stderr",
     "output_type": "stream",
     "text": [
      " 73%|███████▎  | 146/200 [49:00<18:04, 20.08s/it]"
     ]
    },
    {
     "name": "stdout",
     "output_type": "stream",
     "text": [
      "============================================================\n",
      "time elapsed: 0:49:01\n",
      "num of updates: 14600\n",
      "total loss: 0.07854\n",
      "state loss: 0.06170\n",
      "reward loss: 0.01684\n",
      "saving min loss model at: ./log/dt_halfcheetah_model_24-05-07-21-53-44_best.pt\n",
      "saving current model at: ./log/dt_halfcheetah_model_24-05-07-21-53-44.pt\n"
     ]
    },
    {
     "name": "stderr",
     "output_type": "stream",
     "text": [
      " 74%|███████▎  | 147/200 [49:20<17:35, 19.92s/it]"
     ]
    },
    {
     "name": "stdout",
     "output_type": "stream",
     "text": [
      "============================================================\n",
      "time elapsed: 0:49:20\n",
      "num of updates: 14700\n",
      "total loss: 0.07918\n",
      "state loss: 0.06207\n",
      "reward loss: 0.01711\n",
      "saving current model at: ./log/dt_halfcheetah_model_24-05-07-21-53-44.pt\n"
     ]
    },
    {
     "name": "stderr",
     "output_type": "stream",
     "text": [
      " 74%|███████▍  | 148/200 [49:40<17:18, 19.98s/it]"
     ]
    },
    {
     "name": "stdout",
     "output_type": "stream",
     "text": [
      "============================================================\n",
      "time elapsed: 0:49:40\n",
      "num of updates: 14800\n",
      "total loss: 0.07921\n",
      "state loss: 0.06225\n",
      "reward loss: 0.01695\n",
      "saving current model at: ./log/dt_halfcheetah_model_24-05-07-21-53-44.pt\n"
     ]
    },
    {
     "name": "stderr",
     "output_type": "stream",
     "text": [
      " 74%|███████▍  | 149/200 [50:00<17:10, 20.21s/it]"
     ]
    },
    {
     "name": "stdout",
     "output_type": "stream",
     "text": [
      "============================================================\n",
      "time elapsed: 0:50:01\n",
      "num of updates: 14900\n",
      "total loss: 0.07852\n",
      "state loss: 0.06160\n",
      "reward loss: 0.01692\n",
      "saving min loss model at: ./log/dt_halfcheetah_model_24-05-07-21-53-44_best.pt\n",
      "saving current model at: ./log/dt_halfcheetah_model_24-05-07-21-53-44.pt\n"
     ]
    },
    {
     "name": "stderr",
     "output_type": "stream",
     "text": [
      " 75%|███████▌  | 150/200 [50:21<16:47, 20.16s/it]"
     ]
    },
    {
     "name": "stdout",
     "output_type": "stream",
     "text": [
      "============================================================\n",
      "time elapsed: 0:50:21\n",
      "num of updates: 15000\n",
      "total loss: 0.07659\n",
      "state loss: 0.06044\n",
      "reward loss: 0.01614\n",
      "saving min loss model at: ./log/dt_halfcheetah_model_24-05-07-21-53-44_best.pt\n",
      "saving current model at: ./log/dt_halfcheetah_model_24-05-07-21-53-44.pt\n"
     ]
    },
    {
     "name": "stderr",
     "output_type": "stream",
     "text": [
      " 76%|███████▌  | 151/200 [50:41<16:31, 20.23s/it]"
     ]
    },
    {
     "name": "stdout",
     "output_type": "stream",
     "text": [
      "============================================================\n",
      "time elapsed: 0:50:42\n",
      "num of updates: 15100\n",
      "total loss: 0.07720\n",
      "state loss: 0.06056\n",
      "reward loss: 0.01664\n",
      "saving current model at: ./log/dt_halfcheetah_model_24-05-07-21-53-44.pt\n"
     ]
    },
    {
     "name": "stderr",
     "output_type": "stream",
     "text": [
      " 76%|███████▌  | 152/200 [51:01<16:10, 20.21s/it]"
     ]
    },
    {
     "name": "stdout",
     "output_type": "stream",
     "text": [
      "============================================================\n",
      "time elapsed: 0:51:02\n",
      "num of updates: 15200\n",
      "total loss: 0.07726\n",
      "state loss: 0.06039\n",
      "reward loss: 0.01687\n",
      "saving current model at: ./log/dt_halfcheetah_model_24-05-07-21-53-44.pt\n"
     ]
    },
    {
     "name": "stderr",
     "output_type": "stream",
     "text": [
      " 76%|███████▋  | 153/200 [51:22<15:54, 20.31s/it]"
     ]
    },
    {
     "name": "stdout",
     "output_type": "stream",
     "text": [
      "============================================================\n",
      "time elapsed: 0:51:22\n",
      "num of updates: 15300\n",
      "total loss: 0.07553\n",
      "state loss: 0.05920\n",
      "reward loss: 0.01633\n",
      "saving min loss model at: ./log/dt_halfcheetah_model_24-05-07-21-53-44_best.pt\n",
      "saving current model at: ./log/dt_halfcheetah_model_24-05-07-21-53-44.pt\n"
     ]
    },
    {
     "name": "stderr",
     "output_type": "stream",
     "text": [
      " 77%|███████▋  | 154/200 [51:42<15:31, 20.25s/it]"
     ]
    },
    {
     "name": "stdout",
     "output_type": "stream",
     "text": [
      "============================================================\n",
      "time elapsed: 0:51:42\n",
      "num of updates: 15400\n",
      "total loss: 0.07524\n",
      "state loss: 0.05901\n",
      "reward loss: 0.01623\n",
      "saving min loss model at: ./log/dt_halfcheetah_model_24-05-07-21-53-44_best.pt\n",
      "saving current model at: ./log/dt_halfcheetah_model_24-05-07-21-53-44.pt\n"
     ]
    },
    {
     "name": "stderr",
     "output_type": "stream",
     "text": [
      " 78%|███████▊  | 155/200 [52:01<14:59, 19.99s/it]"
     ]
    },
    {
     "name": "stdout",
     "output_type": "stream",
     "text": [
      "============================================================\n",
      "time elapsed: 0:52:02\n",
      "num of updates: 15500\n",
      "total loss: 0.07525\n",
      "state loss: 0.05904\n",
      "reward loss: 0.01621\n",
      "saving current model at: ./log/dt_halfcheetah_model_24-05-07-21-53-44.pt\n"
     ]
    },
    {
     "name": "stderr",
     "output_type": "stream",
     "text": [
      " 78%|███████▊  | 156/200 [52:21<14:44, 20.10s/it]"
     ]
    },
    {
     "name": "stdout",
     "output_type": "stream",
     "text": [
      "============================================================\n",
      "time elapsed: 0:52:22\n",
      "num of updates: 15600\n",
      "total loss: 0.07655\n",
      "state loss: 0.05994\n",
      "reward loss: 0.01661\n",
      "saving current model at: ./log/dt_halfcheetah_model_24-05-07-21-53-44.pt\n"
     ]
    },
    {
     "name": "stderr",
     "output_type": "stream",
     "text": [
      " 78%|███████▊  | 157/200 [52:42<14:31, 20.26s/it]"
     ]
    },
    {
     "name": "stdout",
     "output_type": "stream",
     "text": [
      "============================================================\n",
      "time elapsed: 0:52:43\n",
      "num of updates: 15700\n",
      "total loss: 0.07324\n",
      "state loss: 0.05776\n",
      "reward loss: 0.01549\n",
      "saving min loss model at: ./log/dt_halfcheetah_model_24-05-07-21-53-44_best.pt\n",
      "saving current model at: ./log/dt_halfcheetah_model_24-05-07-21-53-44.pt\n"
     ]
    },
    {
     "name": "stderr",
     "output_type": "stream",
     "text": [
      " 79%|███████▉  | 158/200 [53:02<14:11, 20.28s/it]"
     ]
    },
    {
     "name": "stdout",
     "output_type": "stream",
     "text": [
      "============================================================\n",
      "time elapsed: 0:53:03\n",
      "num of updates: 15800\n",
      "total loss: 0.07412\n",
      "state loss: 0.05818\n",
      "reward loss: 0.01594\n",
      "saving current model at: ./log/dt_halfcheetah_model_24-05-07-21-53-44.pt\n"
     ]
    },
    {
     "name": "stderr",
     "output_type": "stream",
     "text": [
      " 80%|███████▉  | 159/200 [53:22<13:39, 19.99s/it]"
     ]
    },
    {
     "name": "stdout",
     "output_type": "stream",
     "text": [
      "============================================================\n",
      "time elapsed: 0:53:22\n",
      "num of updates: 15900\n",
      "total loss: 0.07346\n",
      "state loss: 0.05751\n",
      "reward loss: 0.01595\n",
      "saving current model at: ./log/dt_halfcheetah_model_24-05-07-21-53-44.pt\n"
     ]
    },
    {
     "name": "stderr",
     "output_type": "stream",
     "text": [
      " 80%|████████  | 160/200 [53:41<13:12, 19.80s/it]"
     ]
    },
    {
     "name": "stdout",
     "output_type": "stream",
     "text": [
      "============================================================\n",
      "time elapsed: 0:53:42\n",
      "num of updates: 16000\n",
      "total loss: 0.07373\n",
      "state loss: 0.05809\n",
      "reward loss: 0.01564\n",
      "saving current model at: ./log/dt_halfcheetah_model_24-05-07-21-53-44.pt\n"
     ]
    },
    {
     "name": "stderr",
     "output_type": "stream",
     "text": [
      " 80%|████████  | 161/200 [54:01<12:52, 19.81s/it]"
     ]
    },
    {
     "name": "stdout",
     "output_type": "stream",
     "text": [
      "============================================================\n",
      "time elapsed: 0:54:02\n",
      "num of updates: 16100\n",
      "total loss: 0.07388\n",
      "state loss: 0.05801\n",
      "reward loss: 0.01587\n",
      "saving current model at: ./log/dt_halfcheetah_model_24-05-07-21-53-44.pt\n"
     ]
    },
    {
     "name": "stderr",
     "output_type": "stream",
     "text": [
      " 81%|████████  | 162/200 [54:32<14:37, 23.10s/it]"
     ]
    },
    {
     "name": "stdout",
     "output_type": "stream",
     "text": [
      "============================================================\n",
      "time elapsed: 0:54:32\n",
      "num of updates: 16200\n",
      "total loss: 0.07244\n",
      "state loss: 0.05706\n",
      "reward loss: 0.01538\n",
      "saving min loss model at: ./log/dt_halfcheetah_model_24-05-07-21-53-44_best.pt\n",
      "saving current model at: ./log/dt_halfcheetah_model_24-05-07-21-53-44.pt\n"
     ]
    },
    {
     "name": "stderr",
     "output_type": "stream",
     "text": [
      " 82%|████████▏ | 163/200 [54:54<14:09, 22.96s/it]"
     ]
    },
    {
     "name": "stdout",
     "output_type": "stream",
     "text": [
      "============================================================\n",
      "time elapsed: 0:54:55\n",
      "num of updates: 16300\n",
      "total loss: 0.07145\n",
      "state loss: 0.05607\n",
      "reward loss: 0.01538\n",
      "saving min loss model at: ./log/dt_halfcheetah_model_24-05-07-21-53-44_best.pt\n",
      "saving current model at: ./log/dt_halfcheetah_model_24-05-07-21-53-44.pt\n"
     ]
    },
    {
     "name": "stderr",
     "output_type": "stream",
     "text": [
      " 82%|████████▏ | 164/200 [55:16<13:28, 22.46s/it]"
     ]
    },
    {
     "name": "stdout",
     "output_type": "stream",
     "text": [
      "============================================================\n",
      "time elapsed: 0:55:16\n",
      "num of updates: 16400\n",
      "total loss: 0.07187\n",
      "state loss: 0.05654\n",
      "reward loss: 0.01533\n",
      "saving current model at: ./log/dt_halfcheetah_model_24-05-07-21-53-44.pt\n"
     ]
    },
    {
     "name": "stderr",
     "output_type": "stream",
     "text": [
      " 82%|████████▎ | 165/200 [55:36<12:46, 21.90s/it]"
     ]
    },
    {
     "name": "stdout",
     "output_type": "stream",
     "text": [
      "============================================================\n",
      "time elapsed: 0:55:37\n",
      "num of updates: 16500\n",
      "total loss: 0.07081\n",
      "state loss: 0.05589\n",
      "reward loss: 0.01492\n",
      "saving min loss model at: ./log/dt_halfcheetah_model_24-05-07-21-53-44_best.pt\n",
      "saving current model at: ./log/dt_halfcheetah_model_24-05-07-21-53-44.pt\n"
     ]
    },
    {
     "name": "stderr",
     "output_type": "stream",
     "text": [
      " 83%|████████▎ | 166/200 [55:56<11:59, 21.17s/it]"
     ]
    },
    {
     "name": "stdout",
     "output_type": "stream",
     "text": [
      "============================================================\n",
      "time elapsed: 0:55:56\n",
      "num of updates: 16600\n",
      "total loss: 0.06989\n",
      "state loss: 0.05488\n",
      "reward loss: 0.01501\n",
      "saving min loss model at: ./log/dt_halfcheetah_model_24-05-07-21-53-44_best.pt\n",
      "saving current model at: ./log/dt_halfcheetah_model_24-05-07-21-53-44.pt\n"
     ]
    },
    {
     "name": "stderr",
     "output_type": "stream",
     "text": [
      " 84%|████████▎ | 167/200 [56:15<11:19, 20.59s/it]"
     ]
    },
    {
     "name": "stdout",
     "output_type": "stream",
     "text": [
      "============================================================\n",
      "time elapsed: 0:56:16\n",
      "num of updates: 16700\n",
      "total loss: 0.06879\n",
      "state loss: 0.05428\n",
      "reward loss: 0.01451\n",
      "saving min loss model at: ./log/dt_halfcheetah_model_24-05-07-21-53-44_best.pt\n",
      "saving current model at: ./log/dt_halfcheetah_model_24-05-07-21-53-44.pt\n"
     ]
    },
    {
     "name": "stderr",
     "output_type": "stream",
     "text": [
      " 84%|████████▍ | 168/200 [56:34<10:48, 20.27s/it]"
     ]
    },
    {
     "name": "stdout",
     "output_type": "stream",
     "text": [
      "============================================================\n",
      "time elapsed: 0:56:35\n",
      "num of updates: 16800\n",
      "total loss: 0.07012\n",
      "state loss: 0.05518\n",
      "reward loss: 0.01494\n",
      "saving current model at: ./log/dt_halfcheetah_model_24-05-07-21-53-44.pt\n"
     ]
    },
    {
     "name": "stderr",
     "output_type": "stream",
     "text": [
      " 84%|████████▍ | 169/200 [56:55<10:26, 20.20s/it]"
     ]
    },
    {
     "name": "stdout",
     "output_type": "stream",
     "text": [
      "============================================================\n",
      "time elapsed: 0:56:55\n",
      "num of updates: 16900\n",
      "total loss: 0.06888\n",
      "state loss: 0.05423\n",
      "reward loss: 0.01466\n",
      "saving current model at: ./log/dt_halfcheetah_model_24-05-07-21-53-44.pt\n"
     ]
    },
    {
     "name": "stderr",
     "output_type": "stream",
     "text": [
      " 85%|████████▌ | 170/200 [57:16<10:14, 20.50s/it]"
     ]
    },
    {
     "name": "stdout",
     "output_type": "stream",
     "text": [
      "============================================================\n",
      "time elapsed: 0:57:16\n",
      "num of updates: 17000\n",
      "total loss: 0.06839\n",
      "state loss: 0.05383\n",
      "reward loss: 0.01456\n",
      "saving min loss model at: ./log/dt_halfcheetah_model_24-05-07-21-53-44_best.pt\n",
      "saving current model at: ./log/dt_halfcheetah_model_24-05-07-21-53-44.pt\n"
     ]
    },
    {
     "name": "stderr",
     "output_type": "stream",
     "text": [
      " 86%|████████▌ | 171/200 [57:38<10:05, 20.89s/it]"
     ]
    },
    {
     "name": "stdout",
     "output_type": "stream",
     "text": [
      "============================================================\n",
      "time elapsed: 0:57:38\n",
      "num of updates: 17100\n",
      "total loss: 0.06920\n",
      "state loss: 0.05452\n",
      "reward loss: 0.01468\n",
      "saving current model at: ./log/dt_halfcheetah_model_24-05-07-21-53-44.pt\n"
     ]
    },
    {
     "name": "stderr",
     "output_type": "stream",
     "text": [
      " 86%|████████▌ | 172/200 [57:57<09:37, 20.62s/it]"
     ]
    },
    {
     "name": "stdout",
     "output_type": "stream",
     "text": [
      "============================================================\n",
      "time elapsed: 0:57:58\n",
      "num of updates: 17200\n",
      "total loss: 0.06870\n",
      "state loss: 0.05393\n",
      "reward loss: 0.01477\n",
      "saving current model at: ./log/dt_halfcheetah_model_24-05-07-21-53-44.pt\n"
     ]
    },
    {
     "name": "stderr",
     "output_type": "stream",
     "text": [
      " 86%|████████▋ | 173/200 [58:17<09:03, 20.15s/it]"
     ]
    },
    {
     "name": "stdout",
     "output_type": "stream",
     "text": [
      "============================================================\n",
      "time elapsed: 0:58:17\n",
      "num of updates: 17300\n",
      "total loss: 0.06777\n",
      "state loss: 0.05339\n",
      "reward loss: 0.01437\n",
      "saving min loss model at: ./log/dt_halfcheetah_model_24-05-07-21-53-44_best.pt\n",
      "saving current model at: ./log/dt_halfcheetah_model_24-05-07-21-53-44.pt\n"
     ]
    },
    {
     "name": "stderr",
     "output_type": "stream",
     "text": [
      " 87%|████████▋ | 174/200 [58:36<08:38, 19.95s/it]"
     ]
    },
    {
     "name": "stdout",
     "output_type": "stream",
     "text": [
      "============================================================\n",
      "time elapsed: 0:58:37\n",
      "num of updates: 17400\n",
      "total loss: 0.06709\n",
      "state loss: 0.05299\n",
      "reward loss: 0.01409\n",
      "saving min loss model at: ./log/dt_halfcheetah_model_24-05-07-21-53-44_best.pt\n",
      "saving current model at: ./log/dt_halfcheetah_model_24-05-07-21-53-44.pt\n"
     ]
    },
    {
     "name": "stderr",
     "output_type": "stream",
     "text": [
      " 88%|████████▊ | 175/200 [58:56<08:19, 19.99s/it]"
     ]
    },
    {
     "name": "stdout",
     "output_type": "stream",
     "text": [
      "============================================================\n",
      "time elapsed: 0:58:57\n",
      "num of updates: 17500\n",
      "total loss: 0.06660\n",
      "state loss: 0.05272\n",
      "reward loss: 0.01387\n",
      "saving min loss model at: ./log/dt_halfcheetah_model_24-05-07-21-53-44_best.pt\n",
      "saving current model at: ./log/dt_halfcheetah_model_24-05-07-21-53-44.pt\n"
     ]
    },
    {
     "name": "stderr",
     "output_type": "stream",
     "text": [
      " 88%|████████▊ | 176/200 [59:17<08:03, 20.15s/it]"
     ]
    },
    {
     "name": "stdout",
     "output_type": "stream",
     "text": [
      "============================================================\n",
      "time elapsed: 0:59:17\n",
      "num of updates: 17600\n",
      "total loss: 0.06729\n",
      "state loss: 0.05283\n",
      "reward loss: 0.01445\n",
      "saving current model at: ./log/dt_halfcheetah_model_24-05-07-21-53-44.pt\n"
     ]
    },
    {
     "name": "stderr",
     "output_type": "stream",
     "text": [
      " 88%|████████▊ | 177/200 [59:38<07:48, 20.37s/it]"
     ]
    },
    {
     "name": "stdout",
     "output_type": "stream",
     "text": [
      "============================================================\n",
      "time elapsed: 0:59:38\n",
      "num of updates: 17700\n",
      "total loss: 0.06551\n",
      "state loss: 0.05182\n",
      "reward loss: 0.01368\n",
      "saving min loss model at: ./log/dt_halfcheetah_model_24-05-07-21-53-44_best.pt\n",
      "saving current model at: ./log/dt_halfcheetah_model_24-05-07-21-53-44.pt\n"
     ]
    },
    {
     "name": "stderr",
     "output_type": "stream",
     "text": [
      " 89%|████████▉ | 178/200 [59:57<07:23, 20.16s/it]"
     ]
    },
    {
     "name": "stdout",
     "output_type": "stream",
     "text": [
      "============================================================\n",
      "time elapsed: 0:59:58\n",
      "num of updates: 17800\n",
      "total loss: 0.06551\n",
      "state loss: 0.05172\n",
      "reward loss: 0.01379\n",
      "saving current model at: ./log/dt_halfcheetah_model_24-05-07-21-53-44.pt\n"
     ]
    },
    {
     "name": "stderr",
     "output_type": "stream",
     "text": [
      " 90%|████████▉ | 179/200 [1:00:17<06:59, 19.95s/it]"
     ]
    },
    {
     "name": "stdout",
     "output_type": "stream",
     "text": [
      "============================================================\n",
      "time elapsed: 1:00:17\n",
      "num of updates: 17900\n",
      "total loss: 0.06613\n",
      "state loss: 0.05227\n",
      "reward loss: 0.01386\n",
      "saving current model at: ./log/dt_halfcheetah_model_24-05-07-21-53-44.pt\n"
     ]
    },
    {
     "name": "stderr",
     "output_type": "stream",
     "text": [
      " 90%|█████████ | 180/200 [1:00:37<06:39, 20.00s/it]"
     ]
    },
    {
     "name": "stdout",
     "output_type": "stream",
     "text": [
      "============================================================\n",
      "time elapsed: 1:00:37\n",
      "num of updates: 18000\n",
      "total loss: 0.06606\n",
      "state loss: 0.05189\n",
      "reward loss: 0.01417\n",
      "saving current model at: ./log/dt_halfcheetah_model_24-05-07-21-53-44.pt\n"
     ]
    },
    {
     "name": "stderr",
     "output_type": "stream",
     "text": [
      " 90%|█████████ | 181/200 [1:00:57<06:23, 20.17s/it]"
     ]
    },
    {
     "name": "stdout",
     "output_type": "stream",
     "text": [
      "============================================================\n",
      "time elapsed: 1:00:58\n",
      "num of updates: 18100\n",
      "total loss: 0.06446\n",
      "state loss: 0.05083\n",
      "reward loss: 0.01363\n",
      "saving min loss model at: ./log/dt_halfcheetah_model_24-05-07-21-53-44_best.pt\n",
      "saving current model at: ./log/dt_halfcheetah_model_24-05-07-21-53-44.pt\n"
     ]
    },
    {
     "name": "stderr",
     "output_type": "stream",
     "text": [
      " 91%|█████████ | 182/200 [1:01:17<06:01, 20.09s/it]"
     ]
    },
    {
     "name": "stdout",
     "output_type": "stream",
     "text": [
      "============================================================\n",
      "time elapsed: 1:01:18\n",
      "num of updates: 18200\n",
      "total loss: 0.06520\n",
      "state loss: 0.05119\n",
      "reward loss: 0.01401\n",
      "saving current model at: ./log/dt_halfcheetah_model_24-05-07-21-53-44.pt\n"
     ]
    },
    {
     "name": "stderr",
     "output_type": "stream",
     "text": [
      " 92%|█████████▏| 183/200 [1:01:37<05:38, 19.89s/it]"
     ]
    },
    {
     "name": "stdout",
     "output_type": "stream",
     "text": [
      "============================================================\n",
      "time elapsed: 1:01:37\n",
      "num of updates: 18300\n",
      "total loss: 0.06474\n",
      "state loss: 0.05107\n",
      "reward loss: 0.01366\n",
      "saving current model at: ./log/dt_halfcheetah_model_24-05-07-21-53-44.pt\n"
     ]
    },
    {
     "name": "stderr",
     "output_type": "stream",
     "text": [
      " 92%|█████████▏| 184/200 [1:01:57<05:20, 20.00s/it]"
     ]
    },
    {
     "name": "stdout",
     "output_type": "stream",
     "text": [
      "============================================================\n",
      "time elapsed: 1:01:58\n",
      "num of updates: 18400\n",
      "total loss: 0.06383\n",
      "state loss: 0.05058\n",
      "reward loss: 0.01325\n",
      "saving min loss model at: ./log/dt_halfcheetah_model_24-05-07-21-53-44_best.pt\n",
      "saving current model at: ./log/dt_halfcheetah_model_24-05-07-21-53-44.pt\n"
     ]
    },
    {
     "name": "stderr",
     "output_type": "stream",
     "text": [
      " 92%|█████████▎| 185/200 [1:02:18<05:03, 20.20s/it]"
     ]
    },
    {
     "name": "stdout",
     "output_type": "stream",
     "text": [
      "============================================================\n",
      "time elapsed: 1:02:18\n",
      "num of updates: 18500\n",
      "total loss: 0.06487\n",
      "state loss: 0.05122\n",
      "reward loss: 0.01366\n",
      "saving current model at: ./log/dt_halfcheetah_model_24-05-07-21-53-44.pt\n"
     ]
    },
    {
     "name": "stderr",
     "output_type": "stream",
     "text": [
      " 93%|█████████▎| 186/200 [1:02:39<04:45, 20.42s/it]"
     ]
    },
    {
     "name": "stdout",
     "output_type": "stream",
     "text": [
      "============================================================\n",
      "time elapsed: 1:02:39\n",
      "num of updates: 18600\n",
      "total loss: 0.06285\n",
      "state loss: 0.04967\n",
      "reward loss: 0.01318\n",
      "saving min loss model at: ./log/dt_halfcheetah_model_24-05-07-21-53-44_best.pt\n",
      "saving current model at: ./log/dt_halfcheetah_model_24-05-07-21-53-44.pt\n"
     ]
    },
    {
     "name": "stderr",
     "output_type": "stream",
     "text": [
      " 94%|█████████▎| 187/200 [1:02:58<04:21, 20.08s/it]"
     ]
    },
    {
     "name": "stdout",
     "output_type": "stream",
     "text": [
      "============================================================\n",
      "time elapsed: 1:02:58\n",
      "num of updates: 18700\n",
      "total loss: 0.06415\n",
      "state loss: 0.05035\n",
      "reward loss: 0.01380\n",
      "saving current model at: ./log/dt_halfcheetah_model_24-05-07-21-53-44.pt\n"
     ]
    },
    {
     "name": "stderr",
     "output_type": "stream",
     "text": [
      " 94%|█████████▍| 188/200 [1:03:17<03:57, 19.76s/it]"
     ]
    },
    {
     "name": "stdout",
     "output_type": "stream",
     "text": [
      "============================================================\n",
      "time elapsed: 1:03:17\n",
      "num of updates: 18800\n",
      "total loss: 0.06305\n",
      "state loss: 0.04984\n",
      "reward loss: 0.01321\n",
      "saving current model at: ./log/dt_halfcheetah_model_24-05-07-21-53-44.pt\n"
     ]
    },
    {
     "name": "stderr",
     "output_type": "stream",
     "text": [
      " 94%|█████████▍| 189/200 [1:03:36<03:36, 19.68s/it]"
     ]
    },
    {
     "name": "stdout",
     "output_type": "stream",
     "text": [
      "============================================================\n",
      "time elapsed: 1:03:37\n",
      "num of updates: 18900\n",
      "total loss: 0.06250\n",
      "state loss: 0.04924\n",
      "reward loss: 0.01326\n",
      "saving min loss model at: ./log/dt_halfcheetah_model_24-05-07-21-53-44_best.pt\n",
      "saving current model at: ./log/dt_halfcheetah_model_24-05-07-21-53-44.pt\n"
     ]
    },
    {
     "name": "stderr",
     "output_type": "stream",
     "text": [
      " 95%|█████████▌| 190/200 [1:03:57<03:18, 19.85s/it]"
     ]
    },
    {
     "name": "stdout",
     "output_type": "stream",
     "text": [
      "============================================================\n",
      "time elapsed: 1:03:57\n",
      "num of updates: 19000\n",
      "total loss: 0.06349\n",
      "state loss: 0.05012\n",
      "reward loss: 0.01338\n",
      "saving current model at: ./log/dt_halfcheetah_model_24-05-07-21-53-44.pt\n"
     ]
    },
    {
     "name": "stderr",
     "output_type": "stream",
     "text": [
      " 96%|█████████▌| 191/200 [1:04:16<02:58, 19.82s/it]"
     ]
    },
    {
     "name": "stdout",
     "output_type": "stream",
     "text": [
      "============================================================\n",
      "time elapsed: 1:04:17\n",
      "num of updates: 19100\n",
      "total loss: 0.06262\n",
      "state loss: 0.04943\n",
      "reward loss: 0.01319\n",
      "saving current model at: ./log/dt_halfcheetah_model_24-05-07-21-53-44.pt\n"
     ]
    },
    {
     "name": "stderr",
     "output_type": "stream",
     "text": [
      " 96%|█████████▌| 192/200 [1:04:36<02:37, 19.66s/it]"
     ]
    },
    {
     "name": "stdout",
     "output_type": "stream",
     "text": [
      "============================================================\n",
      "time elapsed: 1:04:36\n",
      "num of updates: 19200\n",
      "total loss: 0.06225\n",
      "state loss: 0.04911\n",
      "reward loss: 0.01313\n",
      "saving min loss model at: ./log/dt_halfcheetah_model_24-05-07-21-53-44_best.pt\n",
      "saving current model at: ./log/dt_halfcheetah_model_24-05-07-21-53-44.pt\n"
     ]
    },
    {
     "name": "stderr",
     "output_type": "stream",
     "text": [
      " 96%|█████████▋| 193/200 [1:04:55<02:17, 19.65s/it]"
     ]
    },
    {
     "name": "stdout",
     "output_type": "stream",
     "text": [
      "============================================================\n",
      "time elapsed: 1:04:56\n",
      "num of updates: 19300\n",
      "total loss: 0.06257\n",
      "state loss: 0.04935\n",
      "reward loss: 0.01322\n",
      "saving current model at: ./log/dt_halfcheetah_model_24-05-07-21-53-44.pt\n"
     ]
    },
    {
     "name": "stderr",
     "output_type": "stream",
     "text": [
      " 97%|█████████▋| 194/200 [1:05:15<01:58, 19.75s/it]"
     ]
    },
    {
     "name": "stdout",
     "output_type": "stream",
     "text": [
      "============================================================\n",
      "time elapsed: 1:05:16\n",
      "num of updates: 19400\n",
      "total loss: 0.06212\n",
      "state loss: 0.04896\n",
      "reward loss: 0.01316\n",
      "saving min loss model at: ./log/dt_halfcheetah_model_24-05-07-21-53-44_best.pt\n",
      "saving current model at: ./log/dt_halfcheetah_model_24-05-07-21-53-44.pt\n"
     ]
    },
    {
     "name": "stderr",
     "output_type": "stream",
     "text": [
      " 98%|█████████▊| 195/200 [1:05:35<01:39, 19.85s/it]"
     ]
    },
    {
     "name": "stdout",
     "output_type": "stream",
     "text": [
      "============================================================\n",
      "time elapsed: 1:05:36\n",
      "num of updates: 19500\n",
      "total loss: 0.06178\n",
      "state loss: 0.04887\n",
      "reward loss: 0.01291\n",
      "saving min loss model at: ./log/dt_halfcheetah_model_24-05-07-21-53-44_best.pt\n",
      "saving current model at: ./log/dt_halfcheetah_model_24-05-07-21-53-44.pt\n"
     ]
    },
    {
     "name": "stderr",
     "output_type": "stream",
     "text": [
      " 98%|█████████▊| 196/200 [1:05:55<01:18, 19.66s/it]"
     ]
    },
    {
     "name": "stdout",
     "output_type": "stream",
     "text": [
      "============================================================\n",
      "time elapsed: 1:05:55\n",
      "num of updates: 19600\n",
      "total loss: 0.06188\n",
      "state loss: 0.04855\n",
      "reward loss: 0.01332\n",
      "saving current model at: ./log/dt_halfcheetah_model_24-05-07-21-53-44.pt\n"
     ]
    },
    {
     "name": "stderr",
     "output_type": "stream",
     "text": [
      " 98%|█████████▊| 197/200 [1:06:13<00:58, 19.42s/it]"
     ]
    },
    {
     "name": "stdout",
     "output_type": "stream",
     "text": [
      "============================================================\n",
      "time elapsed: 1:06:14\n",
      "num of updates: 19700\n",
      "total loss: 0.06008\n",
      "state loss: 0.04756\n",
      "reward loss: 0.01252\n",
      "saving min loss model at: ./log/dt_halfcheetah_model_24-05-07-21-53-44_best.pt\n",
      "saving current model at: ./log/dt_halfcheetah_model_24-05-07-21-53-44.pt\n"
     ]
    },
    {
     "name": "stderr",
     "output_type": "stream",
     "text": [
      " 99%|█████████▉| 198/200 [1:06:33<00:38, 19.46s/it]"
     ]
    },
    {
     "name": "stdout",
     "output_type": "stream",
     "text": [
      "============================================================\n",
      "time elapsed: 1:06:34\n",
      "num of updates: 19800\n",
      "total loss: 0.06007\n",
      "state loss: 0.04755\n",
      "reward loss: 0.01252\n",
      "saving min loss model at: ./log/dt_halfcheetah_model_24-05-07-21-53-44_best.pt\n",
      "saving current model at: ./log/dt_halfcheetah_model_24-05-07-21-53-44.pt\n"
     ]
    },
    {
     "name": "stderr",
     "output_type": "stream",
     "text": [
      "100%|█████████▉| 199/200 [1:06:53<00:19, 19.72s/it]"
     ]
    },
    {
     "name": "stdout",
     "output_type": "stream",
     "text": [
      "============================================================\n",
      "time elapsed: 1:06:54\n",
      "num of updates: 19900\n",
      "total loss: 0.06066\n",
      "state loss: 0.04800\n",
      "reward loss: 0.01266\n",
      "saving current model at: ./log/dt_halfcheetah_model_24-05-07-21-53-44.pt\n"
     ]
    },
    {
     "name": "stderr",
     "output_type": "stream",
     "text": [
      "100%|██████████| 200/200 [1:07:15<00:00, 20.18s/it]"
     ]
    },
    {
     "name": "stdout",
     "output_type": "stream",
     "text": [
      "============================================================\n",
      "time elapsed: 1:07:15\n",
      "num of updates: 20000\n",
      "total loss: 0.06093\n",
      "state loss: 0.04796\n",
      "reward loss: 0.01297\n",
      "saving current model at: ./log/dt_halfcheetah_model_24-05-07-21-53-44.pt\n",
      "============================================================\n",
      "finished training!\n",
      "============================================================\n",
      "started training at: 24-05-07-21-53-44\n",
      "finished training at: 24-05-07-23-00-59\n",
      "total training time: 1:07:15\n",
      "saved min loss model at: ./log/dt_halfcheetah_model_24-05-07-21-53-44_best.pt\n",
      "saved last updated model at: ./log/dt_halfcheetah_model_24-05-07-21-53-44.pt\n",
      "============================================================\n"
     ]
    },
    {
     "name": "stderr",
     "output_type": "stream",
     "text": [
      "\n"
     ]
    },
    {
     "ename": "AttributeError",
     "evalue": "'_csv.writer' object has no attribute 'close'",
     "output_type": "error",
     "traceback": [
      "\u001b[1;31m---------------------------------------------------------------------------\u001b[0m",
      "\u001b[1;31mAttributeError\u001b[0m                            Traceback (most recent call last)",
      "Cell \u001b[1;32mIn[13], line 132\u001b[0m\n\u001b[0;32m    129\u001b[0m \u001b[38;5;28mprint\u001b[39m(\u001b[38;5;124m\"\u001b[39m\u001b[38;5;124msaved last updated model at: \u001b[39m\u001b[38;5;124m\"\u001b[39m \u001b[38;5;241m+\u001b[39m save_model_path)\n\u001b[0;32m    130\u001b[0m \u001b[38;5;28mprint\u001b[39m(\u001b[38;5;124m\"\u001b[39m\u001b[38;5;124m=\u001b[39m\u001b[38;5;124m\"\u001b[39m \u001b[38;5;241m*\u001b[39m \u001b[38;5;241m60\u001b[39m)\n\u001b[1;32m--> 132\u001b[0m \u001b[43mcsv_writer\u001b[49m\u001b[38;5;241;43m.\u001b[39;49m\u001b[43mclose\u001b[49m()\n",
      "\u001b[1;31mAttributeError\u001b[0m: '_csv.writer' object has no attribute 'close'"
     ]
    }
   ],
   "source": [
    "start_time = datetime.now().replace(microsecond=0)\n",
    "\n",
    "start_time_str = start_time.strftime(\"%y-%m-%d-%H-%M-%S\")\n",
    "\n",
    "prefix = \"dt_\" + env_name\n",
    "\n",
    "save_model_name =  prefix + \"_model_\" + start_time_str + \".pt\"\n",
    "save_model_path = os.path.join(LOG_PATH, save_model_name)\n",
    "save_best_model_path = save_model_path[:-3] + \"_best.pt\"\n",
    "\n",
    "log_csv_name = prefix + \"_log_\" + start_time_str + \".csv\"\n",
    "log_csv_path = os.path.join(LOG_PATH, log_csv_name)\n",
    "\n",
    "\n",
    "csv_writer = csv.writer(open(log_csv_path, 'a', 1))\n",
    "csv_header = ([\"duration\", \"num_updates\", \"total_loss\", \"state_loss\", \"reward_loss\"])\n",
    "\n",
    "csv_writer.writerow(csv_header)\n",
    "\n",
    "\n",
    "print(\"=\" * 60)\n",
    "print(\"start time: \" + start_time_str)\n",
    "print(\"=\" * 60)\n",
    "\n",
    "print(\"device set to: \" + str(DEVICE))\n",
    "print(\"dataset path: \" + DATA_PATH)\n",
    "print(\"model save path: \" + save_model_path)\n",
    "print(\"log csv save path: \" + log_csv_path)\n",
    "\n",
    "# train\n",
    "for i_train_iter in tqdm(range(max_train_iters)):\n",
    "\n",
    "\n",
    "\tlog_state_losses, log_reward_losses, log_total_losses = [], [], []\n",
    "\tmodel.train()\n",
    " \n",
    "\tfor _ in range(num_updates_per_iter):\n",
    "\t\ttry:\n",
    "\t\t\ttimesteps, states, next_states, actions, rewards, traj_mask = next(data_iter)\n",
    "\t\texcept StopIteration:\n",
    "\t\t\tdata_iter = iter(traj_data_loader)\n",
    "\t\t\ttimesteps, states, next_states, actions, rewards, traj_mask = next(data_iter)\n",
    "\n",
    "\t\ttimesteps = timesteps.to(DEVICE)\t# B x T\n",
    "\t\tstates = states.to(DEVICE)\t\t\t# B x T x state_dim\n",
    "\t\tnext_states = next_states.to(DEVICE) # B X T X state_dim\n",
    "\t\tactions = actions.to(DEVICE)\t\t# B x T x act_dim\n",
    "\t\trewards = rewards.to(DEVICE).unsqueeze(dim=-1) # B x T x 1\n",
    "\t\ttraj_mask = traj_mask.to(DEVICE)\t# B x T\n",
    "\n",
    "\t\tnext_states_target = torch.clone(next_states).detach().to(DEVICE)\n",
    "\t\trewards_target = torch.clone(rewards).detach().to(DEVICE)\n",
    "\t\n",
    "\t\tnext_state_preds, rewards_preds = model.forward(\n",
    "\t\t\t\t\t\t\t\t\t\t\t\t\t\ttimesteps=timesteps,\n",
    "\t\t\t\t\t\t\t\t\t\t\t\t\t\tstates=states,\n",
    "\t\t\t\t\t\t\t\t\t\t\t\t\t\tactions=actions,\n",
    "\t\t\t\t\t\t\t\t\t\t\t\t\t\trewards=rewards,\n",
    "\t\t\t\t\t\t\t\t\t\t\t\t\t)\n",
    "\n",
    "\t\t# only consider non padded elements\n",
    "\t\tnext_state_preds = next_state_preds.view(-1, state_dim)[traj_mask.view(-1,) > 0]\n",
    "\t\tnext_states_target = next_states_target.view(-1, state_dim)[traj_mask.view(-1,) > 0]\n",
    "\t\t\n",
    "\t\trewards_preds = rewards_preds.view(-1, 1)[traj_mask.view(-1,) > 0]\n",
    "\t\trewards_target = rewards_target.view(-1, 1)[traj_mask.view(-1,) > 0]\n",
    "\n",
    "\t\tstate_loss = F.mse_loss(next_state_preds, next_states_target, reduction='mean') * state_weight\n",
    "\t\treward_loss = F.mse_loss(rewards_preds, rewards_target, reduction='mean') * reward_weight\n",
    "\t\t\n",
    "\t\ttotal_loss = state_loss.add(reward_loss)\n",
    "\t\ttotal_loss = torch.mean(total_loss)\n",
    "\n",
    "\t\toptimizer.zero_grad()\n",
    "\t\ttotal_loss.backward()\n",
    "\t\ttorch.nn.utils.clip_grad_norm_(model.parameters(), 0.25)\n",
    "\t\toptimizer.step()\n",
    "\t\tscheduler.step()\n",
    "\t\t\n",
    "\t\t\n",
    "\t\t#save loss\n",
    "\t\tlog_state_losses.append(state_loss.detach().cpu().item())\n",
    "\t\tlog_reward_losses.append(reward_loss.detach().cpu().item())\n",
    "\t\t\n",
    "\t\tlog_total_losses.append(total_loss.detach().cpu().item())\n",
    "\t\t\n",
    "\tmean_total_log_loss = np.mean(log_total_losses)\n",
    "\tmean_state_log_loss = np.mean(log_state_losses)\n",
    "\tmean_reward_log_loss = np.mean(log_reward_losses)\n",
    "\t\n",
    "\ttime_elapsed = str(datetime.now().replace(microsecond=0) - start_time)\n",
    "\n",
    "\ttotal_updates += num_updates_per_iter\n",
    "\n",
    "\tlog_str = (\"=\" * 60 + '\\n' +\n",
    "\t\t\t\"time elapsed: \" + time_elapsed  + '\\n' +\n",
    "\t\t\t\"num of updates: \" + str(total_updates) + '\\n' +\n",
    "\t\t\t\"total loss: \" + format(mean_total_log_loss, \".5f\") + '\\n' +\n",
    "\t\t\t\"state loss: \" + format(mean_state_log_loss, \".5f\") + '\\n' +\n",
    "\t\t\t\"reward loss: \" +  format(mean_reward_log_loss, \".5f\")\n",
    "\t\t\t)\n",
    "\n",
    "\tprint(log_str)\n",
    "\n",
    "\tlog_data = [time_elapsed, total_updates, mean_total_log_loss, mean_state_log_loss, mean_reward_log_loss]\n",
    "\n",
    "\tcsv_writer.writerow(log_data)\n",
    "\t\n",
    "\t# save model\n",
    "\tif mean_total_log_loss <= min_total_log_loss:\n",
    "\t\tprint(\"saving min loss model at: \" + save_best_model_path)\n",
    "\t\ttorch.save(model.state_dict(), save_best_model_path)\n",
    "\t\tmin_total_log_loss = mean_total_log_loss\n",
    "\n",
    "\tprint(\"saving current model at: \" + save_model_path)\n",
    "\ttorch.save(model.state_dict(), save_model_path)\n",
    "\n",
    "\n",
    "print(\"=\" * 60)\n",
    "print(\"finished training!\")\n",
    "print(\"=\" * 60)\n",
    "end_time = datetime.now().replace(microsecond=0)\n",
    "time_elapsed = str(end_time - start_time)\n",
    "end_time_str = end_time.strftime(\"%y-%m-%d-%H-%M-%S\")\n",
    "print(\"started training at: \" + start_time_str)\n",
    "print(\"finished training at: \" + end_time_str)\n",
    "print(\"total training time: \" + time_elapsed)\n",
    "print(\"saved min loss model at: \" + save_best_model_path)\n",
    "print(\"saved last updated model at: \" + save_model_path)\n",
    "print(\"=\" * 60)\n",
    "\n",
    "csv_writer.close()"
   ]
  },
  {
   "cell_type": "code",
   "execution_count": null,
   "metadata": {},
   "outputs": [],
   "source": []
  }
 ],
 "metadata": {
  "kernelspec": {
   "display_name": "Python 3.10.14 ('rl_diffusion')",
   "language": "python",
   "name": "python3"
  },
  "language_info": {
   "codemirror_mode": {
    "name": "ipython",
    "version": 3
   },
   "file_extension": ".py",
   "mimetype": "text/x-python",
   "name": "python",
   "nbconvert_exporter": "python",
   "pygments_lexer": "ipython3",
   "version": "3.10.14"
  },
  "orig_nbformat": 4,
  "vscode": {
   "interpreter": {
    "hash": "aaa54a55e816925fdb1964dae2307e16b21383867fc9aac098dfe4376e4c067b"
   }
  }
 },
 "nbformat": 4,
 "nbformat_minor": 2
}
