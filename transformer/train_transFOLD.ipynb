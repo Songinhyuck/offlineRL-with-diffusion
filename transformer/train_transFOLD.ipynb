{
 "cells": [
  {
   "cell_type": "code",
   "execution_count": 1,
   "metadata": {},
   "outputs": [
    {
     "name": "stderr",
     "output_type": "stream",
     "text": [
      "Warning: Flow failed to import. Set the environment variable D4RL_SUPPRESS_IMPORT_ERROR=1 to suppress this message.\n",
      "No module named 'flow'\n",
      "Warning: CARLA failed to import. Set the environment variable D4RL_SUPPRESS_IMPORT_ERROR=1 to suppress this message.\n",
      "No module named 'carla'\n"
     ]
    }
   ],
   "source": [
    "# import library\n",
    "\n",
    "import sys\n",
    "import os\n",
    "import d4rl\n",
    "import gym\n",
    "import numpy as np\n",
    "import collections\n",
    "import pickle\n",
    "import csv\n",
    "\n",
    "import torch\n",
    "import torch.nn as nn\n",
    "import torch.nn.functional as F\n",
    "\n",
    "from datetime import datetime\n",
    "from torch.utils.data import Dataset, DataLoader\n",
    "from tqdm import tqdm\n",
    "\n",
    "from utils import D4RLTrajectoryDataset\n",
    "from model import DecisionTransformer\n"
   ]
  },
  {
   "cell_type": "code",
   "execution_count": null,
   "metadata": {},
   "outputs": [],
   "source": [
    "# set environment\n",
    "# sys.path.append(r'C:\\Develop\\offlineRL-with-diffusion') "
   ]
  },
  {
   "cell_type": "code",
   "execution_count": 2,
   "metadata": {},
   "outputs": [
    {
     "name": "stdout",
     "output_type": "stream",
     "text": [
      "mujoco-py check passed\n",
      "d4rl check passed\n"
     ]
    },
    {
     "name": "stderr",
     "output_type": "stream",
     "text": [
      "Warning: Flow failed to import. Set the environment variable D4RL_SUPPRESS_IMPORT_ERROR=1 to suppress this message.\n",
      "No module named 'flow'\n",
      "Warning: CARLA failed to import. Set the environment variable D4RL_SUPPRESS_IMPORT_ERROR=1 to suppress this message.\n",
      "No module named 'carla'\n",
      "pybullet build time: Apr 30 2024 12:01:25\n",
      "c:\\Users\\zkdlx\\miniconda3\\envs\\rl_diffusion\\lib\\site-packages\\gym\\spaces\\box.py:84: UserWarning: \u001b[33mWARN: Box bound precision lowered by casting to float32\u001b[0m\n",
      "  logger.warn(f\"Box bound precision lowered by casting to {self.dtype}\")\n"
     ]
    }
   ],
   "source": [
    "# test mujoco, d4rl\n",
    "\n",
    "!python ./test/mujoco_test.py"
   ]
  },
  {
   "cell_type": "code",
   "execution_count": 3,
   "metadata": {},
   "outputs": [],
   "source": [
    "# data download\n",
    "# if you downloaded, don't re-start.\n",
    "\n",
    "# !python ./data/download_d4rl_datasets.py\n"
   ]
  },
  {
   "cell_type": "code",
   "execution_count": 4,
   "metadata": {},
   "outputs": [
    {
     "name": "stderr",
     "output_type": "stream",
     "text": [
      "c:\\Users\\zkdlx\\miniconda3\\envs\\rl_diffusion\\lib\\site-packages\\gym\\envs\\registration.py:505: UserWarning: \u001b[33mWARN: The environment HalfCheetah-v2 is out of date. You should consider upgrading to version `v3` with the environment ID `HalfCheetah-v3`.\u001b[0m\n",
      "  logger.warn(\n"
     ]
    }
   ],
   "source": [
    "# parameter setting\n",
    "\n",
    "env_name = 'halfcheetah'\n",
    "dataset = 'medium'\n",
    "\n",
    "if env_name == 'hopper':\n",
    "    env = gym.make('Hopper-v2')\n",
    "    max_ep_len = 1000\n",
    "    # env_targets = [3600, 1800]  # evaluation conditioning targets\n",
    "    # scale = 1000.  # normalization for rewards/returns\n",
    "elif env_name == 'halfcheetah':\n",
    "    env = gym.make('HalfCheetah-v2')\n",
    "    max_ep_len = 1000\n",
    "    # env_targets = [12000, 6000]\n",
    "    # scale = 1000.\n",
    "elif env_name == 'walker2d':\n",
    "    env = gym.make('Walker2d-v2')\n",
    "    max_ep_len = 1000\n",
    "    # env_targets = [5000, 2500]\n",
    "    # scale = 1000.\n",
    "\n",
    "DATA_PATH = f'data/train/{env_name}-{dataset}-v2.pkl'\n",
    "VAL_DATA_PATH = f'data/val/val_{env_name}-{dataset}-v2.pkl'\n",
    "TEMP_DATA_PATH = f'data/temp/{env_name}-{dataset}-v2.pkl'\n",
    "LOG_PATH = \"./log/\"\n",
    "if torch.cuda.is_available():\n",
    "    DEVICE = torch.device('cuda:0')\n",
    "else:\n",
    "    DEVICE = torch.device('cpu')"
   ]
  },
  {
   "cell_type": "code",
   "execution_count": 5,
   "metadata": {},
   "outputs": [
    {
     "name": "stderr",
     "output_type": "stream",
     "text": [
      "c:\\Users\\zkdlx\\miniconda3\\envs\\rl_diffusion\\lib\\site-packages\\gym\\spaces\\box.py:84: UserWarning: \u001b[33mWARN: Box bound precision lowered by casting to float32\u001b[0m\n",
      "  logger.warn(f\"Box bound precision lowered by casting to {self.dtype}\")\n",
      "load datafile: 100%|██████████| 21/21 [00:03<00:00,  5.73it/s]\n"
     ]
    }
   ],
   "source": [
    "# env dataset check\n",
    "check_env = gym.make('halfcheetah-medium-v2')\n",
    "dataset = check_env.get_dataset()\n",
    "\n",
    "# print(dataset['observations'][1]) # trajectory 단위로 뽑힘.\n"
   ]
  },
  {
   "cell_type": "code",
   "execution_count": 6,
   "metadata": {},
   "outputs": [
    {
     "name": "stdout",
     "output_type": "stream",
     "text": [
      "state shape:  (1000000, 17)\n",
      "action shape:  (1000000, 6)\n",
      "reward shape:  (1000000,)\n",
      "N:  1000000\n",
      "train_size:  800000\n"
     ]
    }
   ],
   "source": [
    "print(\"state shape: \", dataset['observations'].shape)\n",
    "print(\"action shape: \", dataset['actions'].shape)\n",
    "print(\"reward shape: \", dataset['rewards'].shape)\n",
    "print(\"N: \", dataset['rewards'].shape[0])\n",
    "print(\"train_size: \", int(0.8 * dataset['rewards'].shape[0]))\n"
   ]
  },
  {
   "cell_type": "code",
   "execution_count": 7,
   "metadata": {},
   "outputs": [
    {
     "name": "stdout",
     "output_type": "stream",
     "text": [
      "state:  [[ 1.9831914e-02 -8.9501314e-02 -3.1969063e-03 ...  1.1365079e-01\n",
      "   6.8424918e-02 -1.3811582e-01]\n",
      " [-3.8486063e-03 -5.2394319e-02  8.3050327e-03 ...  4.5068407e+00\n",
      "  -9.2885571e+00  4.7328596e+00]\n",
      " [-5.5298433e-02 -7.7850236e-05 -2.3952831e-01 ... -7.0811687e+00\n",
      "  -1.4037068e+00  7.5524049e+00]\n",
      " ...\n",
      " [-3.1975684e-01  5.3305399e-01 -4.8704177e-01 ...  1.5455554e+00\n",
      "   2.6812897e+00  8.7905388e+00]\n",
      " [-3.2200974e-01  3.5745117e-01  1.0463273e-02 ... -6.3428599e-01\n",
      "   1.6292539e+00  9.7356015e-01]\n",
      " [-3.0673215e-01  1.9843711e-01  6.9996923e-01 ...  5.0098950e-01\n",
      "   1.5680059e+00  9.4733723e-02]] \n",
      "\n",
      "state:  [[ 4.7026437e-02 -2.1588113e-02  4.9151547e-02 ...  5.5219561e-02\n",
      "  -1.5351681e-01 -4.6239123e-02]\n",
      " [ 4.1392505e-02  5.3802542e-02 -1.5022255e-01 ...  6.1133021e-01\n",
      "  -7.4645710e+00  7.9509692e+00]\n",
      " [ 9.8547200e-04  8.8533267e-02 -4.3876743e-01 ...  8.5824745e-04\n",
      "   5.9796906e+00  4.9521341e+00]\n",
      " ...\n",
      " [-1.4081973e-01 -7.7957302e-02 -2.6429656e-01 ...  1.0316861e+00\n",
      "  -7.5645506e-01 -6.3285580e+00]\n",
      " [-6.0340445e-02 -4.2597357e-02  1.1770165e-01 ... -1.8022682e+01\n",
      "  -2.8895503e-01 -8.5740490e+00]\n",
      " [-3.9826483e-02  8.9701705e-02  4.8491257e-01 ... -1.5949978e+01\n",
      "  -4.2975497e+00  3.4759271e-01]] \n",
      "\n",
      "state:  [[ 5.0221119e-02 -2.4338657e-02 -5.4945849e-02 ... -1.4283662e-01\n",
      "  -1.2819463e-01 -1.4791407e-01]\n",
      " [ 3.4841169e-02  2.6000816e-02 -2.3993976e-01 ... -2.5026150e+00\n",
      "  -9.1679888e+00  6.2272105e+00]\n",
      " [-2.2413606e-02  5.1811527e-02 -5.4271245e-01 ... -5.9999785e+00\n",
      "  -6.6550332e-01 -2.4636595e-01]\n",
      " ...\n",
      " [-4.4023961e-02 -2.5939721e-01 -7.0705950e-02 ... -1.8107307e+01\n",
      "  -4.7313199e+00 -4.8486176e+00]\n",
      " [-1.7510138e-02 -2.1372417e-01  2.7898479e-02 ...  2.9009397e+00\n",
      "  -2.2113817e+00 -5.9028540e+00]\n",
      " [ 4.7847845e-02 -1.5627538e-01 -1.8005599e-01 ...  9.9821644e+00\n",
      "  -5.1808944e+00  1.1870988e+01]] \n",
      "\n"
     ]
    }
   ],
   "source": [
    "# data check\n",
    "# check three trajectories\n",
    "\n",
    "with open(DATA_PATH, 'rb') as f:\n",
    "    trajectories = pickle.load(f)\n",
    "n=0\n",
    "max_rewards_list = []\n",
    "for traj in trajectories:\n",
    "    # print(f\"{n+1}번째 trajectory\")\n",
    "    # print(\"traj: \", traj)\n",
    "    print(\"state: \", traj['observations'], \"\\n\")\n",
    "    # print(\"action: \", traj['actions'], \"\\n\")\n",
    "    # print(\"next_state: \", traj['next_observations'], \"\\n\")\n",
    "    # print(\"reward: \", traj['rewards'], \"\\n\")\n",
    "    # print(\"max_rewards: \", max(traj['rewards']))\n",
    "    # max_rewards_list.append(max(traj['rewards']))\n",
    "    # print(\"\")\n",
    "    n+=1\n",
    "    \n",
    "# print(max(max_rewards_list))\n",
    "\n",
    "    if n==3:\n",
    "        break"
   ]
  },
  {
   "cell_type": "code",
   "execution_count": 8,
   "metadata": {},
   "outputs": [
    {
     "name": "stdout",
     "output_type": "stream",
     "text": [
      "length:  1000000\n",
      "n of epi:  1000\n",
      "n of traj in one epi:  1000\n"
     ]
    }
   ],
   "source": [
    "# check original data shape\n",
    "with open(TEMP_DATA_PATH, 'rb') as f:\n",
    "    temp_trajectories = pickle.load(f)\n",
    "    \n",
    "print(\"length: \", len(temp_trajectories)*len(temp_trajectories[0]['observations']))\n",
    "print(\"n of epi: \", len(temp_trajectories))\n",
    "print(\"n of traj in one epi: \", len(temp_trajectories[0]['observations']))"
   ]
  },
  {
   "cell_type": "code",
   "execution_count": 9,
   "metadata": {},
   "outputs": [
    {
     "name": "stdout",
     "output_type": "stream",
     "text": [
      "length:  950000\n",
      "n of epi:  950\n",
      "n of traj in one epi:  1000\n"
     ]
    }
   ],
   "source": [
    "# check train data shape\n",
    "with open(DATA_PATH, 'rb') as f:\n",
    "    train_trajectories = pickle.load(f)\n",
    "\n",
    "print(\"length: \", len(train_trajectories)*len(train_trajectories[0]['observations']))\n",
    "print(\"n of epi: \", len(train_trajectories))\n",
    "print(\"n of traj in one epi: \", len(train_trajectories[0]['observations']))\n",
    "# print(\"train state shape: \", train_trajectories['observations'].shape)\n",
    "# print(\"train action shape: \", train_trajectories['actions'].shape)\n",
    "# print(\"train reward shape: \", train_trajectories['rewards'].shape)\n"
   ]
  },
  {
   "cell_type": "code",
   "execution_count": 10,
   "metadata": {},
   "outputs": [
    {
     "name": "stdout",
     "output_type": "stream",
     "text": [
      "length:  50000\n",
      "n of epi:  50\n",
      "n of traj in one epi:  1000\n"
     ]
    }
   ],
   "source": [
    "# check valid data shape\n",
    "with open(VAL_DATA_PATH, 'rb') as f:\n",
    "    val_trajectories = pickle.load(f)\n",
    "\n",
    "print(\"length: \", len(val_trajectories)*len(val_trajectories[0]['observations']))\n",
    "print(\"n of epi: \", len(val_trajectories))\n",
    "print(\"n of traj in one epi: \", len(val_trajectories[0]['observations']))\n",
    "# print(\"val state shape: \", val_trajectories['observations'].shape)\n",
    "# print(\"val action shape: \", val_trajectories['actions'].shape)\n",
    "# print(\"val reward shape: \", val_trajectories['rewards'].shape)"
   ]
  },
  {
   "cell_type": "code",
   "execution_count": 11,
   "metadata": {},
   "outputs": [],
   "source": [
    "# train parameter\n",
    "batch_size = 32\n",
    "embed_dim = 128\n",
    "activation = 'relu'\n",
    "drop_out = 0.1\n",
    "k = 31 # content len\n",
    "n_blocks = 3\n",
    "n_heads = 1 # transformer head\n",
    "\n",
    "# total updates = max_train_iters x num_updates_per_iter\n",
    "max_train_iters = 200\n",
    "num_updates_per_iter = 100\n",
    "num_val_iter = 100\n",
    "total_updates = 0\n",
    "min_total_loss = 1e10\n",
    "\n",
    "wt_decay = 1e-4             # weight decay\n",
    "lr = 1e-4                   # learning rate\n",
    "warmup_steps = 10000        # warmup steps for lr scheduler\n",
    "\n",
    "# weight of mse loss\n",
    "state_weight = 1\n",
    "reward_weight = 1\n",
    "\n",
    "# evaluation parameter\n",
    "# max_eval_ep_len = 1000      # max len of one evaluation episode\n",
    "# num_eval_ep = 10            # num of evaluation episodes per iteration"
   ]
  },
  {
   "cell_type": "code",
   "execution_count": 12,
   "metadata": {},
   "outputs": [
    {
     "name": "stdout",
     "output_type": "stream",
     "text": [
      "state dim:  17\n",
      "action dim:  6\n"
     ]
    }
   ],
   "source": [
    "# check dim\n",
    "\n",
    "state_dim = env.observation_space.shape[0]\n",
    "act_dim = env.action_space.shape[0]\n",
    "\n",
    "print(\"state dim: \", state_dim)\n",
    "print(\"action dim: \", act_dim)"
   ]
  },
  {
   "cell_type": "code",
   "execution_count": 13,
   "metadata": {},
   "outputs": [
    {
     "name": "stdout",
     "output_type": "stream",
     "text": [
      "timesteps shape:  torch.Size([32, 2])\n",
      "rewards shape:  torch.Size([32, 2, 1])\n",
      "states shape:  torch.Size([32, 2, 17])\n",
      "actions shape:  torch.Size([32, 2, 6])\n"
     ]
    }
   ],
   "source": [
    "# test data\n",
    "temp_dataset = D4RLTrajectoryDataset(DATA_PATH, 2)\n",
    "temp_data_loader = DataLoader(temp_dataset,\n",
    "\t\t\t\t\t\tbatch_size=32,\n",
    "\t\t\t\t\t\tshuffle=True,\n",
    "\t\t\t\t\t\tpin_memory=True,\n",
    "\t\t\t\t\t\tdrop_last=True)\n",
    "                        \n",
    "temp_data_iter = iter(temp_data_loader)\n",
    "\n",
    "timesteps, states, next_states, actions, rewards, traj_mask = next(temp_data_iter)\n",
    "\n",
    "timesteps = timesteps.to(DEVICE)\t# B x T\n",
    "states = states.to(DEVICE)\t\t\t# B x T x state_dim\n",
    "next_states = next_states.to(DEVICE) # B X T X state_dim\n",
    "actions = actions.to(DEVICE)\t\t# B x T x act_dim\n",
    "rewards = rewards.to(DEVICE).unsqueeze(dim=-1) # B x T x 1\n",
    "\n",
    "print(\"timesteps shape: \", timesteps.shape)\n",
    "print(\"rewards shape: \", rewards.shape)\n",
    "print(\"states shape: \", states.shape)\n",
    "print(\"actions shape: \", actions.shape)\n",
    "\n",
    "# print(\"state: \", states)\n",
    "# print(\"action: \", actions)\n",
    "# print(\"rewards: \", rewards)\n",
    "\n"
   ]
  },
  {
   "cell_type": "code",
   "execution_count": 14,
   "metadata": {},
   "outputs": [],
   "source": [
    "# test model\n",
    "\n",
    "temp_model = DecisionTransformer(\n",
    "\t\t\tstate_dim=state_dim,\n",
    "\t\t\tact_dim=act_dim,\n",
    "\t\t\t# reward 포함 + r0 제외\n",
    "\t\t\tn_blocks=n_blocks,\n",
    "\t\t\th_dim=16,\n",
    "\t\t\tcontext_len=2,\n",
    "\t\t\tn_heads=n_heads,\n",
    "\t\t\tdrop_p=drop_out,\n",
    "\t\t).to(DEVICE)\n",
    "\t\t\n",
    "next_state_preds, rewards_preds = temp_model.forward(\n",
    "\t\t\t\t\t\t\t\t\t\t\t\trewards=rewards,\n",
    "\t\t\t\t\t\t\t\t\t\t\t\ttimesteps=timesteps,\n",
    "\t\t\t\t\t\t\t\t\t\t\t\tstates=states,\n",
    "\t\t\t\t\t\t\t\t\t\t\t\tactions=actions,\n",
    "\t\t\t\t\t\t\t\t\t\t\t)"
   ]
  },
  {
   "cell_type": "code",
   "execution_count": 15,
   "metadata": {},
   "outputs": [],
   "source": [
    "# load train preprocessing(normalization, fit padding) data\n",
    "\n",
    "traj_dataset = D4RLTrajectoryDataset(DATA_PATH, k)\n",
    "traj_data_loader = DataLoader(traj_dataset,\n",
    "\t\t\t\t\t\tbatch_size=batch_size,\n",
    "\t\t\t\t\t\tshuffle=True,\n",
    "\t\t\t\t\t\tpin_memory=True,\n",
    "\t\t\t\t\t\tdrop_last=True)\n",
    "                        \n",
    "data_iter = iter(traj_data_loader)\n",
    "\n",
    "## get state stats from dataset\n",
    "state_mean, state_std = traj_dataset.get_state_stats()"
   ]
  },
  {
   "cell_type": "code",
   "execution_count": 16,
   "metadata": {},
   "outputs": [],
   "source": [
    "# load validate preprocessing(normalization, fit padding) data\n",
    "\n",
    "val_traj_dataset = D4RLTrajectoryDataset(DATA_PATH, k, val=True, val_dataset_path=VAL_DATA_PATH)\n",
    "val_traj_data_loader = DataLoader(val_traj_dataset,\n",
    "\t\t\t\t\t\tbatch_size=batch_size,\n",
    "\t\t\t\t\t\tshuffle=True,\n",
    "\t\t\t\t\t\tpin_memory=True,\n",
    "\t\t\t\t\t\tdrop_last=True)\n",
    "                        \n",
    "val_data_iter = iter(val_traj_data_loader)\n"
   ]
  },
  {
   "cell_type": "code",
   "execution_count": 17,
   "metadata": {},
   "outputs": [],
   "source": [
    "# define model\n",
    "\n",
    "model = DecisionTransformer(\n",
    "\t\t\tstate_dim=state_dim,\n",
    "\t\t\tact_dim=act_dim,\n",
    "\t\t\tn_blocks=n_blocks,\n",
    "\t\t\th_dim=embed_dim,\n",
    "\t\t\tcontext_len=k,\n",
    "\t\t\tn_heads=n_heads,\n",
    "\t\t\tdrop_p=drop_out,\n",
    "\t\t).to(DEVICE)\n",
    "  \n",
    "optimizer = torch.optim.AdamW(\n",
    "\t\t\t\t\tmodel.parameters(), \n",
    "\t\t\t\t\tlr=lr, \n",
    "\t\t\t\t\tweight_decay=wt_decay\n",
    "\t\t\t\t)\n",
    "\n",
    "scheduler = torch.optim.lr_scheduler.LambdaLR(\n",
    "\t\toptimizer,\n",
    "\t\tlambda steps: min((steps+1)/warmup_steps, 1)\n",
    "\t)\n",
    "\t\n"
   ]
  },
  {
   "cell_type": "code",
   "execution_count": 18,
   "metadata": {},
   "outputs": [
    {
     "name": "stdout",
     "output_type": "stream",
     "text": [
      "============================================================\n",
      "start time: 24-05-16-00-24-38\n",
      "============================================================\n",
      "device set to: cpu\n",
      "dataset path: data/train/halfcheetah-medium-v2.pkl\n",
      "model save path: ./log/dt_halfcheetah_model_24-05-16-00-24-38.pt\n",
      "log csv save path: ./log/dt_halfcheetah_log_24-05-16-00-24-38.csv\n"
     ]
    },
    {
     "name": "stderr",
     "output_type": "stream",
     "text": [
      "  0%|          | 1/200 [00:26<1:27:32, 26.40s/it]"
     ]
    },
    {
     "name": "stdout",
     "output_type": "stream",
     "text": [
      "============================================================\n",
      "time elapsed: 0:00:26\n",
      "num of updates: 100\n",
      "train total loss: 2.52818\n",
      "train state loss: 1.28812\n",
      "train reward loss: 1.24006\n",
      "val total loss: 2.63961\n",
      "val state loss: 1.29855\n",
      "val reward loss: 1.34106\n",
      "saving min loss model at: ./log/dt_halfcheetah_model_24-05-16-00-24-38_best.pt\n",
      "saving current model at: ./log/dt_halfcheetah_model_24-05-16-00-24-38.pt\n"
     ]
    },
    {
     "name": "stderr",
     "output_type": "stream",
     "text": [
      "  1%|          | 2/200 [00:48<1:17:52, 23.60s/it]"
     ]
    },
    {
     "name": "stdout",
     "output_type": "stream",
     "text": [
      "============================================================\n",
      "time elapsed: 0:00:48\n",
      "num of updates: 200\n",
      "train total loss: 2.50513\n",
      "train state loss: 1.29680\n",
      "train reward loss: 1.20833\n",
      "val total loss: 2.46044\n",
      "val state loss: 1.28077\n",
      "val reward loss: 1.17967\n",
      "saving min loss model at: ./log/dt_halfcheetah_model_24-05-16-00-24-38_best.pt\n",
      "saving current model at: ./log/dt_halfcheetah_model_24-05-16-00-24-38.pt\n"
     ]
    },
    {
     "name": "stderr",
     "output_type": "stream",
     "text": [
      "  2%|▏         | 3/200 [01:09<1:15:01, 22.85s/it]"
     ]
    },
    {
     "name": "stdout",
     "output_type": "stream",
     "text": [
      "============================================================\n",
      "time elapsed: 0:01:10\n",
      "num of updates: 300\n",
      "train total loss: 2.31673\n",
      "train state loss: 1.25913\n",
      "train reward loss: 1.05760\n",
      "val total loss: 2.15640\n",
      "val state loss: 1.21448\n",
      "val reward loss: 0.94192\n",
      "saving min loss model at: ./log/dt_halfcheetah_model_24-05-16-00-24-38_best.pt\n",
      "saving current model at: ./log/dt_halfcheetah_model_24-05-16-00-24-38.pt\n"
     ]
    },
    {
     "name": "stderr",
     "output_type": "stream",
     "text": [
      "  2%|▏         | 4/200 [01:33<1:14:55, 22.94s/it]"
     ]
    },
    {
     "name": "stdout",
     "output_type": "stream",
     "text": [
      "============================================================\n",
      "time elapsed: 0:01:33\n",
      "num of updates: 400\n",
      "train total loss: 2.10965\n",
      "train state loss: 1.22420\n",
      "train reward loss: 0.88545\n",
      "val total loss: 2.04511\n",
      "val state loss: 1.20192\n",
      "val reward loss: 0.84320\n",
      "saving min loss model at: ./log/dt_halfcheetah_model_24-05-16-00-24-38_best.pt\n",
      "saving current model at: ./log/dt_halfcheetah_model_24-05-16-00-24-38.pt\n"
     ]
    },
    {
     "name": "stderr",
     "output_type": "stream",
     "text": [
      "  2%|▎         | 5/200 [02:03<1:23:27, 25.68s/it]"
     ]
    },
    {
     "name": "stdout",
     "output_type": "stream",
     "text": [
      "============================================================\n",
      "time elapsed: 0:02:03\n",
      "num of updates: 500\n",
      "train total loss: 1.97273\n",
      "train state loss: 1.19633\n",
      "train reward loss: 0.77641\n",
      "val total loss: 1.78737\n",
      "val state loss: 1.14169\n",
      "val reward loss: 0.64567\n",
      "saving min loss model at: ./log/dt_halfcheetah_model_24-05-16-00-24-38_best.pt\n",
      "saving current model at: ./log/dt_halfcheetah_model_24-05-16-00-24-38.pt\n"
     ]
    },
    {
     "name": "stderr",
     "output_type": "stream",
     "text": [
      "  3%|▎         | 6/200 [02:28<1:22:29, 25.51s/it]"
     ]
    },
    {
     "name": "stdout",
     "output_type": "stream",
     "text": [
      "============================================================\n",
      "time elapsed: 0:02:29\n",
      "num of updates: 600\n",
      "train total loss: 1.71840\n",
      "train state loss: 1.12518\n",
      "train reward loss: 0.59322\n",
      "val total loss: 1.61365\n",
      "val state loss: 1.09713\n",
      "val reward loss: 0.51653\n",
      "saving min loss model at: ./log/dt_halfcheetah_model_24-05-16-00-24-38_best.pt\n",
      "saving current model at: ./log/dt_halfcheetah_model_24-05-16-00-24-38.pt\n"
     ]
    },
    {
     "name": "stderr",
     "output_type": "stream",
     "text": [
      "  4%|▎         | 7/200 [02:53<1:21:38, 25.38s/it]"
     ]
    },
    {
     "name": "stdout",
     "output_type": "stream",
     "text": [
      "============================================================\n",
      "time elapsed: 0:02:54\n",
      "num of updates: 700\n",
      "train total loss: 1.59867\n",
      "train state loss: 1.09577\n",
      "train reward loss: 0.50290\n",
      "val total loss: 1.48676\n",
      "val state loss: 1.06350\n",
      "val reward loss: 0.42327\n",
      "saving min loss model at: ./log/dt_halfcheetah_model_24-05-16-00-24-38_best.pt\n",
      "saving current model at: ./log/dt_halfcheetah_model_24-05-16-00-24-38.pt\n"
     ]
    },
    {
     "name": "stderr",
     "output_type": "stream",
     "text": [
      "  4%|▍         | 8/200 [03:15<1:17:15, 24.14s/it]"
     ]
    },
    {
     "name": "stdout",
     "output_type": "stream",
     "text": [
      "============================================================\n",
      "time elapsed: 0:03:15\n",
      "num of updates: 800\n",
      "train total loss: 1.48672\n",
      "train state loss: 1.05711\n",
      "train reward loss: 0.42961\n",
      "val total loss: 1.38668\n",
      "val state loss: 1.01900\n",
      "val reward loss: 0.36768\n",
      "saving min loss model at: ./log/dt_halfcheetah_model_24-05-16-00-24-38_best.pt\n",
      "saving current model at: ./log/dt_halfcheetah_model_24-05-16-00-24-38.pt\n"
     ]
    },
    {
     "name": "stderr",
     "output_type": "stream",
     "text": [
      "  4%|▍         | 9/200 [03:40<1:17:30, 24.35s/it]"
     ]
    },
    {
     "name": "stdout",
     "output_type": "stream",
     "text": [
      "============================================================\n",
      "time elapsed: 0:03:40\n",
      "num of updates: 900\n",
      "train total loss: 1.38493\n",
      "train state loss: 1.00371\n",
      "train reward loss: 0.38122\n",
      "val total loss: 1.27298\n",
      "val state loss: 0.96513\n",
      "val reward loss: 0.30785\n",
      "saving min loss model at: ./log/dt_halfcheetah_model_24-05-16-00-24-38_best.pt\n",
      "saving current model at: ./log/dt_halfcheetah_model_24-05-16-00-24-38.pt\n"
     ]
    },
    {
     "name": "stderr",
     "output_type": "stream",
     "text": [
      "  5%|▌         | 10/200 [04:03<1:16:13, 24.07s/it]"
     ]
    },
    {
     "name": "stdout",
     "output_type": "stream",
     "text": [
      "============================================================\n",
      "time elapsed: 0:04:03\n",
      "num of updates: 1000\n",
      "train total loss: 1.33725\n",
      "train state loss: 0.98628\n",
      "train reward loss: 0.35097\n",
      "val total loss: 1.25090\n",
      "val state loss: 0.96682\n",
      "val reward loss: 0.28409\n",
      "saving min loss model at: ./log/dt_halfcheetah_model_24-05-16-00-24-38_best.pt\n",
      "saving current model at: ./log/dt_halfcheetah_model_24-05-16-00-24-38.pt\n"
     ]
    },
    {
     "name": "stderr",
     "output_type": "stream",
     "text": [
      "  6%|▌         | 11/200 [04:26<1:14:15, 23.57s/it]"
     ]
    },
    {
     "name": "stdout",
     "output_type": "stream",
     "text": [
      "============================================================\n",
      "time elapsed: 0:04:26\n",
      "num of updates: 1100\n",
      "train total loss: 1.28361\n",
      "train state loss: 0.96492\n",
      "train reward loss: 0.31869\n",
      "val total loss: 1.21389\n",
      "val state loss: 0.95320\n",
      "val reward loss: 0.26069\n",
      "saving min loss model at: ./log/dt_halfcheetah_model_24-05-16-00-24-38_best.pt\n",
      "saving current model at: ./log/dt_halfcheetah_model_24-05-16-00-24-38.pt\n"
     ]
    },
    {
     "name": "stderr",
     "output_type": "stream",
     "text": [
      "  6%|▌         | 12/200 [04:49<1:14:08, 23.66s/it]"
     ]
    },
    {
     "name": "stdout",
     "output_type": "stream",
     "text": [
      "============================================================\n",
      "time elapsed: 0:04:50\n",
      "num of updates: 1200\n",
      "train total loss: 1.26074\n",
      "train state loss: 0.95509\n",
      "train reward loss: 0.30566\n",
      "val total loss: 1.17316\n",
      "val state loss: 0.93828\n",
      "val reward loss: 0.23488\n",
      "saving min loss model at: ./log/dt_halfcheetah_model_24-05-16-00-24-38_best.pt\n",
      "saving current model at: ./log/dt_halfcheetah_model_24-05-16-00-24-38.pt\n"
     ]
    },
    {
     "name": "stderr",
     "output_type": "stream",
     "text": [
      "  6%|▋         | 13/200 [05:11<1:11:44, 23.02s/it]"
     ]
    },
    {
     "name": "stdout",
     "output_type": "stream",
     "text": [
      "============================================================\n",
      "time elapsed: 0:05:11\n",
      "num of updates: 1300\n",
      "train total loss: 1.23093\n",
      "train state loss: 0.94643\n",
      "train reward loss: 0.28450\n",
      "val total loss: 1.14751\n",
      "val state loss: 0.92699\n",
      "val reward loss: 0.22052\n",
      "saving min loss model at: ./log/dt_halfcheetah_model_24-05-16-00-24-38_best.pt\n",
      "saving current model at: ./log/dt_halfcheetah_model_24-05-16-00-24-38.pt\n"
     ]
    },
    {
     "name": "stderr",
     "output_type": "stream",
     "text": [
      "  7%|▋         | 14/200 [05:32<1:09:21, 22.38s/it]"
     ]
    },
    {
     "name": "stdout",
     "output_type": "stream",
     "text": [
      "============================================================\n",
      "time elapsed: 0:05:32\n",
      "num of updates: 1400\n",
      "train total loss: 1.21764\n",
      "train state loss: 0.94460\n",
      "train reward loss: 0.27303\n",
      "val total loss: 1.12728\n",
      "val state loss: 0.91760\n",
      "val reward loss: 0.20969\n",
      "saving min loss model at: ./log/dt_halfcheetah_model_24-05-16-00-24-38_best.pt\n",
      "saving current model at: ./log/dt_halfcheetah_model_24-05-16-00-24-38.pt\n"
     ]
    },
    {
     "name": "stderr",
     "output_type": "stream",
     "text": [
      "  8%|▊         | 15/200 [05:54<1:08:38, 22.26s/it]"
     ]
    },
    {
     "name": "stdout",
     "output_type": "stream",
     "text": [
      "============================================================\n",
      "time elapsed: 0:05:54\n",
      "num of updates: 1500\n",
      "train total loss: 1.19114\n",
      "train state loss: 0.92876\n",
      "train reward loss: 0.26238\n",
      "val total loss: 1.09573\n",
      "val state loss: 0.90031\n",
      "val reward loss: 0.19542\n",
      "saving min loss model at: ./log/dt_halfcheetah_model_24-05-16-00-24-38_best.pt\n",
      "saving current model at: ./log/dt_halfcheetah_model_24-05-16-00-24-38.pt\n"
     ]
    },
    {
     "name": "stderr",
     "output_type": "stream",
     "text": [
      "  8%|▊         | 16/200 [06:15<1:07:16, 21.94s/it]"
     ]
    },
    {
     "name": "stdout",
     "output_type": "stream",
     "text": [
      "============================================================\n",
      "time elapsed: 0:06:15\n",
      "num of updates: 1600\n",
      "train total loss: 1.18205\n",
      "train state loss: 0.93521\n",
      "train reward loss: 0.24684\n",
      "val total loss: 1.08624\n",
      "val state loss: 0.89916\n",
      "val reward loss: 0.18708\n",
      "saving min loss model at: ./log/dt_halfcheetah_model_24-05-16-00-24-38_best.pt\n",
      "saving current model at: ./log/dt_halfcheetah_model_24-05-16-00-24-38.pt\n"
     ]
    },
    {
     "name": "stderr",
     "output_type": "stream",
     "text": [
      "  8%|▊         | 17/200 [06:38<1:07:40, 22.19s/it]"
     ]
    },
    {
     "name": "stdout",
     "output_type": "stream",
     "text": [
      "============================================================\n",
      "time elapsed: 0:06:38\n",
      "num of updates: 1700\n",
      "train total loss: 1.15234\n",
      "train state loss: 0.91333\n",
      "train reward loss: 0.23901\n",
      "val total loss: 1.07862\n",
      "val state loss: 0.89756\n",
      "val reward loss: 0.18105\n",
      "saving min loss model at: ./log/dt_halfcheetah_model_24-05-16-00-24-38_best.pt\n",
      "saving current model at: ./log/dt_halfcheetah_model_24-05-16-00-24-38.pt\n"
     ]
    },
    {
     "name": "stderr",
     "output_type": "stream",
     "text": [
      "  9%|▉         | 18/200 [07:00<1:07:07, 22.13s/it]"
     ]
    },
    {
     "name": "stdout",
     "output_type": "stream",
     "text": [
      "============================================================\n",
      "time elapsed: 0:07:00\n",
      "num of updates: 1800\n",
      "train total loss: 1.16475\n",
      "train state loss: 0.93759\n",
      "train reward loss: 0.22716\n",
      "val total loss: 1.05179\n",
      "val state loss: 0.88075\n",
      "val reward loss: 0.17104\n",
      "saving min loss model at: ./log/dt_halfcheetah_model_24-05-16-00-24-38_best.pt\n",
      "saving current model at: ./log/dt_halfcheetah_model_24-05-16-00-24-38.pt\n"
     ]
    },
    {
     "name": "stderr",
     "output_type": "stream",
     "text": [
      " 10%|▉         | 19/200 [07:21<1:05:39, 21.76s/it]"
     ]
    },
    {
     "name": "stdout",
     "output_type": "stream",
     "text": [
      "============================================================\n",
      "time elapsed: 0:07:21\n",
      "num of updates: 1900\n",
      "train total loss: 1.14294\n",
      "train state loss: 0.92329\n",
      "train reward loss: 0.21965\n",
      "val total loss: 1.04270\n",
      "val state loss: 0.87628\n",
      "val reward loss: 0.16643\n",
      "saving min loss model at: ./log/dt_halfcheetah_model_24-05-16-00-24-38_best.pt\n",
      "saving current model at: ./log/dt_halfcheetah_model_24-05-16-00-24-38.pt\n"
     ]
    },
    {
     "name": "stderr",
     "output_type": "stream",
     "text": [
      " 10%|█         | 20/200 [07:43<1:05:22, 21.79s/it]"
     ]
    },
    {
     "name": "stdout",
     "output_type": "stream",
     "text": [
      "============================================================\n",
      "time elapsed: 0:07:43\n",
      "num of updates: 2000\n",
      "train total loss: 1.12059\n",
      "train state loss: 0.91003\n",
      "train reward loss: 0.21056\n",
      "val total loss: 1.04214\n",
      "val state loss: 0.87782\n",
      "val reward loss: 0.16432\n",
      "saving min loss model at: ./log/dt_halfcheetah_model_24-05-16-00-24-38_best.pt\n",
      "saving current model at: ./log/dt_halfcheetah_model_24-05-16-00-24-38.pt\n"
     ]
    },
    {
     "name": "stderr",
     "output_type": "stream",
     "text": [
      " 10%|█         | 21/200 [08:04<1:04:24, 21.59s/it]"
     ]
    },
    {
     "name": "stdout",
     "output_type": "stream",
     "text": [
      "============================================================\n",
      "time elapsed: 0:08:04\n",
      "num of updates: 2100\n",
      "train total loss: 1.10661\n",
      "train state loss: 0.90882\n",
      "train reward loss: 0.19779\n",
      "val total loss: 1.02981\n",
      "val state loss: 0.86861\n",
      "val reward loss: 0.16121\n",
      "saving min loss model at: ./log/dt_halfcheetah_model_24-05-16-00-24-38_best.pt\n",
      "saving current model at: ./log/dt_halfcheetah_model_24-05-16-00-24-38.pt\n"
     ]
    },
    {
     "name": "stderr",
     "output_type": "stream",
     "text": [
      " 11%|█         | 22/200 [08:26<1:04:22, 21.70s/it]"
     ]
    },
    {
     "name": "stdout",
     "output_type": "stream",
     "text": [
      "============================================================\n",
      "time elapsed: 0:08:26\n",
      "num of updates: 2200\n",
      "train total loss: 1.11100\n",
      "train state loss: 0.90905\n",
      "train reward loss: 0.20195\n",
      "val total loss: 1.01607\n",
      "val state loss: 0.85895\n",
      "val reward loss: 0.15712\n",
      "saving min loss model at: ./log/dt_halfcheetah_model_24-05-16-00-24-38_best.pt\n",
      "saving current model at: ./log/dt_halfcheetah_model_24-05-16-00-24-38.pt\n"
     ]
    },
    {
     "name": "stderr",
     "output_type": "stream",
     "text": [
      " 12%|█▏        | 23/200 [08:48<1:04:36, 21.90s/it]"
     ]
    },
    {
     "name": "stdout",
     "output_type": "stream",
     "text": [
      "============================================================\n",
      "time elapsed: 0:08:48\n",
      "num of updates: 2300\n",
      "train total loss: 1.09293\n",
      "train state loss: 0.90202\n",
      "train reward loss: 0.19090\n",
      "val total loss: 1.00875\n",
      "val state loss: 0.85899\n",
      "val reward loss: 0.14976\n",
      "saving min loss model at: ./log/dt_halfcheetah_model_24-05-16-00-24-38_best.pt\n",
      "saving current model at: ./log/dt_halfcheetah_model_24-05-16-00-24-38.pt\n"
     ]
    },
    {
     "name": "stderr",
     "output_type": "stream",
     "text": [
      " 12%|█▏        | 24/200 [09:09<1:03:44, 21.73s/it]"
     ]
    },
    {
     "name": "stdout",
     "output_type": "stream",
     "text": [
      "============================================================\n",
      "time elapsed: 0:09:10\n",
      "num of updates: 2400\n",
      "train total loss: 1.09297\n",
      "train state loss: 0.90516\n",
      "train reward loss: 0.18781\n",
      "val total loss: 0.99980\n",
      "val state loss: 0.85089\n",
      "val reward loss: 0.14891\n",
      "saving min loss model at: ./log/dt_halfcheetah_model_24-05-16-00-24-38_best.pt\n",
      "saving current model at: ./log/dt_halfcheetah_model_24-05-16-00-24-38.pt\n"
     ]
    },
    {
     "name": "stderr",
     "output_type": "stream",
     "text": [
      " 12%|█▎        | 25/200 [09:32<1:04:16, 22.04s/it]"
     ]
    },
    {
     "name": "stdout",
     "output_type": "stream",
     "text": [
      "============================================================\n",
      "time elapsed: 0:09:32\n",
      "num of updates: 2500\n",
      "train total loss: 1.06774\n",
      "train state loss: 0.88793\n",
      "train reward loss: 0.17981\n",
      "val total loss: 0.99034\n",
      "val state loss: 0.84545\n",
      "val reward loss: 0.14490\n",
      "saving min loss model at: ./log/dt_halfcheetah_model_24-05-16-00-24-38_best.pt\n",
      "saving current model at: ./log/dt_halfcheetah_model_24-05-16-00-24-38.pt\n"
     ]
    },
    {
     "name": "stderr",
     "output_type": "stream",
     "text": [
      " 13%|█▎        | 26/200 [10:07<1:15:10, 25.92s/it]"
     ]
    },
    {
     "name": "stdout",
     "output_type": "stream",
     "text": [
      "============================================================\n",
      "time elapsed: 0:10:07\n",
      "num of updates: 2600\n",
      "train total loss: 1.06753\n",
      "train state loss: 0.89207\n",
      "train reward loss: 0.17545\n",
      "val total loss: 0.98784\n",
      "val state loss: 0.84074\n",
      "val reward loss: 0.14710\n",
      "saving min loss model at: ./log/dt_halfcheetah_model_24-05-16-00-24-38_best.pt\n",
      "saving current model at: ./log/dt_halfcheetah_model_24-05-16-00-24-38.pt\n"
     ]
    },
    {
     "name": "stderr",
     "output_type": "stream",
     "text": [
      " 14%|█▎        | 27/200 [10:30<1:12:14, 25.05s/it]"
     ]
    },
    {
     "name": "stdout",
     "output_type": "stream",
     "text": [
      "============================================================\n",
      "time elapsed: 0:10:30\n",
      "num of updates: 2700\n",
      "train total loss: 1.05555\n",
      "train state loss: 0.88629\n",
      "train reward loss: 0.16925\n",
      "val total loss: 0.97482\n",
      "val state loss: 0.83315\n",
      "val reward loss: 0.14168\n",
      "saving min loss model at: ./log/dt_halfcheetah_model_24-05-16-00-24-38_best.pt\n",
      "saving current model at: ./log/dt_halfcheetah_model_24-05-16-00-24-38.pt\n"
     ]
    },
    {
     "name": "stderr",
     "output_type": "stream",
     "text": [
      " 14%|█▍        | 28/200 [10:52<1:08:42, 23.97s/it]"
     ]
    },
    {
     "name": "stdout",
     "output_type": "stream",
     "text": [
      "============================================================\n",
      "time elapsed: 0:10:52\n",
      "num of updates: 2800\n",
      "train total loss: 1.04709\n",
      "train state loss: 0.88257\n",
      "train reward loss: 0.16452\n",
      "val total loss: 0.95781\n",
      "val state loss: 0.82361\n",
      "val reward loss: 0.13420\n",
      "saving min loss model at: ./log/dt_halfcheetah_model_24-05-16-00-24-38_best.pt\n",
      "saving current model at: ./log/dt_halfcheetah_model_24-05-16-00-24-38.pt\n"
     ]
    },
    {
     "name": "stderr",
     "output_type": "stream",
     "text": [
      " 14%|█▍        | 29/200 [11:15<1:07:28, 23.67s/it]"
     ]
    },
    {
     "name": "stdout",
     "output_type": "stream",
     "text": [
      "============================================================\n",
      "time elapsed: 0:11:15\n",
      "num of updates: 2900\n",
      "train total loss: 1.02041\n",
      "train state loss: 0.85913\n",
      "train reward loss: 0.16128\n",
      "val total loss: 0.93775\n",
      "val state loss: 0.81026\n",
      "val reward loss: 0.12749\n",
      "saving min loss model at: ./log/dt_halfcheetah_model_24-05-16-00-24-38_best.pt\n",
      "saving current model at: ./log/dt_halfcheetah_model_24-05-16-00-24-38.pt\n"
     ]
    },
    {
     "name": "stderr",
     "output_type": "stream",
     "text": [
      " 15%|█▌        | 30/200 [11:37<1:05:54, 23.26s/it]"
     ]
    },
    {
     "name": "stdout",
     "output_type": "stream",
     "text": [
      "============================================================\n",
      "time elapsed: 0:11:37\n",
      "num of updates: 3000\n",
      "train total loss: 1.00881\n",
      "train state loss: 0.85647\n",
      "train reward loss: 0.15234\n",
      "val total loss: 0.92423\n",
      "val state loss: 0.80198\n",
      "val reward loss: 0.12224\n",
      "saving min loss model at: ./log/dt_halfcheetah_model_24-05-16-00-24-38_best.pt\n",
      "saving current model at: ./log/dt_halfcheetah_model_24-05-16-00-24-38.pt\n"
     ]
    },
    {
     "name": "stderr",
     "output_type": "stream",
     "text": [
      " 16%|█▌        | 31/200 [12:01<1:05:53, 23.40s/it]"
     ]
    },
    {
     "name": "stdout",
     "output_type": "stream",
     "text": [
      "============================================================\n",
      "time elapsed: 0:12:01\n",
      "num of updates: 3100\n",
      "train total loss: 0.99826\n",
      "train state loss: 0.84789\n",
      "train reward loss: 0.15037\n",
      "val total loss: 0.90732\n",
      "val state loss: 0.78733\n",
      "val reward loss: 0.11999\n",
      "saving min loss model at: ./log/dt_halfcheetah_model_24-05-16-00-24-38_best.pt\n",
      "saving current model at: ./log/dt_halfcheetah_model_24-05-16-00-24-38.pt\n"
     ]
    },
    {
     "name": "stderr",
     "output_type": "stream",
     "text": [
      " 16%|█▌        | 32/200 [12:26<1:07:03, 23.95s/it]"
     ]
    },
    {
     "name": "stdout",
     "output_type": "stream",
     "text": [
      "============================================================\n",
      "time elapsed: 0:12:26\n",
      "num of updates: 3200\n",
      "train total loss: 0.96868\n",
      "train state loss: 0.82471\n",
      "train reward loss: 0.14397\n",
      "val total loss: 0.88966\n",
      "val state loss: 0.77193\n",
      "val reward loss: 0.11773\n",
      "saving min loss model at: ./log/dt_halfcheetah_model_24-05-16-00-24-38_best.pt\n",
      "saving current model at: ./log/dt_halfcheetah_model_24-05-16-00-24-38.pt\n"
     ]
    },
    {
     "name": "stderr",
     "output_type": "stream",
     "text": [
      " 16%|█▋        | 33/200 [12:49<1:06:16, 23.81s/it]"
     ]
    },
    {
     "name": "stdout",
     "output_type": "stream",
     "text": [
      "============================================================\n",
      "time elapsed: 0:12:50\n",
      "num of updates: 3300\n",
      "train total loss: 0.96043\n",
      "train state loss: 0.81632\n",
      "train reward loss: 0.14412\n",
      "val total loss: 0.86699\n",
      "val state loss: 0.75343\n",
      "val reward loss: 0.11356\n",
      "saving min loss model at: ./log/dt_halfcheetah_model_24-05-16-00-24-38_best.pt\n",
      "saving current model at: ./log/dt_halfcheetah_model_24-05-16-00-24-38.pt\n"
     ]
    },
    {
     "name": "stderr",
     "output_type": "stream",
     "text": [
      " 17%|█▋        | 34/200 [13:12<1:04:35, 23.34s/it]"
     ]
    },
    {
     "name": "stdout",
     "output_type": "stream",
     "text": [
      "============================================================\n",
      "time elapsed: 0:13:12\n",
      "num of updates: 3400\n",
      "train total loss: 0.92498\n",
      "train state loss: 0.78934\n",
      "train reward loss: 0.13564\n",
      "val total loss: 0.83457\n",
      "val state loss: 0.72445\n",
      "val reward loss: 0.11013\n",
      "saving min loss model at: ./log/dt_halfcheetah_model_24-05-16-00-24-38_best.pt\n",
      "saving current model at: ./log/dt_halfcheetah_model_24-05-16-00-24-38.pt\n"
     ]
    },
    {
     "name": "stderr",
     "output_type": "stream",
     "text": [
      " 18%|█▊        | 35/200 [13:34<1:03:22, 23.05s/it]"
     ]
    },
    {
     "name": "stdout",
     "output_type": "stream",
     "text": [
      "============================================================\n",
      "time elapsed: 0:13:34\n",
      "num of updates: 3500\n",
      "train total loss: 0.88921\n",
      "train state loss: 0.75845\n",
      "train reward loss: 0.13076\n",
      "val total loss: 0.80639\n",
      "val state loss: 0.69813\n",
      "val reward loss: 0.10826\n",
      "saving min loss model at: ./log/dt_halfcheetah_model_24-05-16-00-24-38_best.pt\n",
      "saving current model at: ./log/dt_halfcheetah_model_24-05-16-00-24-38.pt\n"
     ]
    },
    {
     "name": "stderr",
     "output_type": "stream",
     "text": [
      " 18%|█▊        | 36/200 [13:57<1:03:04, 23.08s/it]"
     ]
    },
    {
     "name": "stdout",
     "output_type": "stream",
     "text": [
      "============================================================\n",
      "time elapsed: 0:13:57\n",
      "num of updates: 3600\n",
      "train total loss: 0.86029\n",
      "train state loss: 0.73295\n",
      "train reward loss: 0.12734\n",
      "val total loss: 0.77173\n",
      "val state loss: 0.67122\n",
      "val reward loss: 0.10051\n",
      "saving min loss model at: ./log/dt_halfcheetah_model_24-05-16-00-24-38_best.pt\n",
      "saving current model at: ./log/dt_halfcheetah_model_24-05-16-00-24-38.pt\n"
     ]
    },
    {
     "name": "stderr",
     "output_type": "stream",
     "text": [
      " 18%|█▊        | 37/200 [14:19<1:02:00, 22.82s/it]"
     ]
    },
    {
     "name": "stdout",
     "output_type": "stream",
     "text": [
      "============================================================\n",
      "time elapsed: 0:14:20\n",
      "num of updates: 3700\n",
      "train total loss: 0.83072\n",
      "train state loss: 0.70825\n",
      "train reward loss: 0.12247\n",
      "val total loss: 0.74091\n",
      "val state loss: 0.64095\n",
      "val reward loss: 0.09997\n",
      "saving min loss model at: ./log/dt_halfcheetah_model_24-05-16-00-24-38_best.pt\n",
      "saving current model at: ./log/dt_halfcheetah_model_24-05-16-00-24-38.pt\n"
     ]
    },
    {
     "name": "stderr",
     "output_type": "stream",
     "text": [
      " 19%|█▉        | 38/200 [14:42<1:01:42, 22.85s/it]"
     ]
    },
    {
     "name": "stdout",
     "output_type": "stream",
     "text": [
      "============================================================\n",
      "time elapsed: 0:14:42\n",
      "num of updates: 3800\n",
      "train total loss: 0.78295\n",
      "train state loss: 0.66974\n",
      "train reward loss: 0.11321\n",
      "val total loss: 0.70219\n",
      "val state loss: 0.61169\n",
      "val reward loss: 0.09050\n",
      "saving min loss model at: ./log/dt_halfcheetah_model_24-05-16-00-24-38_best.pt\n",
      "saving current model at: ./log/dt_halfcheetah_model_24-05-16-00-24-38.pt\n"
     ]
    },
    {
     "name": "stderr",
     "output_type": "stream",
     "text": [
      " 20%|█▉        | 39/200 [15:05<1:01:00, 22.74s/it]"
     ]
    },
    {
     "name": "stdout",
     "output_type": "stream",
     "text": [
      "============================================================\n",
      "time elapsed: 0:15:05\n",
      "num of updates: 3900\n",
      "train total loss: 0.75457\n",
      "train state loss: 0.64548\n",
      "train reward loss: 0.10909\n",
      "val total loss: 0.66390\n",
      "val state loss: 0.57823\n",
      "val reward loss: 0.08566\n",
      "saving min loss model at: ./log/dt_halfcheetah_model_24-05-16-00-24-38_best.pt\n",
      "saving current model at: ./log/dt_halfcheetah_model_24-05-16-00-24-38.pt\n"
     ]
    },
    {
     "name": "stderr",
     "output_type": "stream",
     "text": [
      " 20%|██        | 40/200 [15:28<1:00:50, 22.82s/it]"
     ]
    },
    {
     "name": "stdout",
     "output_type": "stream",
     "text": [
      "============================================================\n",
      "time elapsed: 0:15:28\n",
      "num of updates: 4000\n",
      "train total loss: 0.72013\n",
      "train state loss: 0.61403\n",
      "train reward loss: 0.10610\n",
      "val total loss: 0.63064\n",
      "val state loss: 0.54878\n",
      "val reward loss: 0.08186\n",
      "saving min loss model at: ./log/dt_halfcheetah_model_24-05-16-00-24-38_best.pt\n",
      "saving current model at: ./log/dt_halfcheetah_model_24-05-16-00-24-38.pt\n"
     ]
    },
    {
     "name": "stderr",
     "output_type": "stream",
     "text": [
      " 20%|██        | 41/200 [15:50<59:51, 22.59s/it]  "
     ]
    },
    {
     "name": "stdout",
     "output_type": "stream",
     "text": [
      "============================================================\n",
      "time elapsed: 0:15:50\n",
      "num of updates: 4100\n",
      "train total loss: 0.67626\n",
      "train state loss: 0.57682\n",
      "train reward loss: 0.09944\n",
      "val total loss: 0.59138\n",
      "val state loss: 0.51468\n",
      "val reward loss: 0.07670\n",
      "saving min loss model at: ./log/dt_halfcheetah_model_24-05-16-00-24-38_best.pt\n",
      "saving current model at: ./log/dt_halfcheetah_model_24-05-16-00-24-38.pt\n"
     ]
    },
    {
     "name": "stderr",
     "output_type": "stream",
     "text": [
      " 21%|██        | 42/200 [16:12<58:51, 22.35s/it]"
     ]
    },
    {
     "name": "stdout",
     "output_type": "stream",
     "text": [
      "============================================================\n",
      "time elapsed: 0:16:12\n",
      "num of updates: 4200\n",
      "train total loss: 0.63718\n",
      "train state loss: 0.54414\n",
      "train reward loss: 0.09304\n",
      "val total loss: 0.55805\n",
      "val state loss: 0.48408\n",
      "val reward loss: 0.07397\n",
      "saving min loss model at: ./log/dt_halfcheetah_model_24-05-16-00-24-38_best.pt\n",
      "saving current model at: ./log/dt_halfcheetah_model_24-05-16-00-24-38.pt\n"
     ]
    },
    {
     "name": "stderr",
     "output_type": "stream",
     "text": [
      " 22%|██▏       | 43/200 [16:34<58:31, 22.37s/it]"
     ]
    },
    {
     "name": "stdout",
     "output_type": "stream",
     "text": [
      "============================================================\n",
      "time elapsed: 0:16:34\n",
      "num of updates: 4300\n",
      "train total loss: 0.59593\n",
      "train state loss: 0.50775\n",
      "train reward loss: 0.08819\n",
      "val total loss: 0.51174\n",
      "val state loss: 0.44391\n",
      "val reward loss: 0.06783\n",
      "saving min loss model at: ./log/dt_halfcheetah_model_24-05-16-00-24-38_best.pt\n",
      "saving current model at: ./log/dt_halfcheetah_model_24-05-16-00-24-38.pt\n"
     ]
    },
    {
     "name": "stderr",
     "output_type": "stream",
     "text": [
      " 22%|██▏       | 44/200 [16:59<1:00:25, 23.24s/it]"
     ]
    },
    {
     "name": "stdout",
     "output_type": "stream",
     "text": [
      "============================================================\n",
      "time elapsed: 0:16:59\n",
      "num of updates: 4400\n",
      "train total loss: 0.55729\n",
      "train state loss: 0.47495\n",
      "train reward loss: 0.08233\n",
      "val total loss: 0.48220\n",
      "val state loss: 0.41720\n",
      "val reward loss: 0.06500\n",
      "saving min loss model at: ./log/dt_halfcheetah_model_24-05-16-00-24-38_best.pt\n",
      "saving current model at: ./log/dt_halfcheetah_model_24-05-16-00-24-38.pt\n"
     ]
    },
    {
     "name": "stderr",
     "output_type": "stream",
     "text": [
      " 22%|██▎       | 45/200 [17:22<59:58, 23.22s/it]  "
     ]
    },
    {
     "name": "stdout",
     "output_type": "stream",
     "text": [
      "============================================================\n",
      "time elapsed: 0:17:23\n",
      "num of updates: 4500\n",
      "train total loss: 0.52015\n",
      "train state loss: 0.44430\n",
      "train reward loss: 0.07584\n",
      "val total loss: 0.44851\n",
      "val state loss: 0.39036\n",
      "val reward loss: 0.05815\n",
      "saving min loss model at: ./log/dt_halfcheetah_model_24-05-16-00-24-38_best.pt\n",
      "saving current model at: ./log/dt_halfcheetah_model_24-05-16-00-24-38.pt\n"
     ]
    },
    {
     "name": "stderr",
     "output_type": "stream",
     "text": [
      " 23%|██▎       | 46/200 [17:45<58:47, 22.91s/it]"
     ]
    },
    {
     "name": "stdout",
     "output_type": "stream",
     "text": [
      "============================================================\n",
      "time elapsed: 0:17:45\n",
      "num of updates: 4600\n",
      "train total loss: 0.48637\n",
      "train state loss: 0.41434\n",
      "train reward loss: 0.07203\n",
      "val total loss: 0.41194\n",
      "val state loss: 0.35642\n",
      "val reward loss: 0.05552\n",
      "saving min loss model at: ./log/dt_halfcheetah_model_24-05-16-00-24-38_best.pt\n",
      "saving current model at: ./log/dt_halfcheetah_model_24-05-16-00-24-38.pt\n"
     ]
    },
    {
     "name": "stderr",
     "output_type": "stream",
     "text": [
      " 24%|██▎       | 47/200 [18:07<58:03, 22.77s/it]"
     ]
    },
    {
     "name": "stdout",
     "output_type": "stream",
     "text": [
      "============================================================\n",
      "time elapsed: 0:18:07\n",
      "num of updates: 4700\n",
      "train total loss: 0.45727\n",
      "train state loss: 0.38847\n",
      "train reward loss: 0.06880\n",
      "val total loss: 0.37972\n",
      "val state loss: 0.32932\n",
      "val reward loss: 0.05040\n",
      "saving min loss model at: ./log/dt_halfcheetah_model_24-05-16-00-24-38_best.pt\n",
      "saving current model at: ./log/dt_halfcheetah_model_24-05-16-00-24-38.pt\n"
     ]
    },
    {
     "name": "stderr",
     "output_type": "stream",
     "text": [
      " 24%|██▍       | 48/200 [18:30<58:05, 22.93s/it]"
     ]
    },
    {
     "name": "stdout",
     "output_type": "stream",
     "text": [
      "============================================================\n",
      "time elapsed: 0:18:31\n",
      "num of updates: 4800\n",
      "train total loss: 0.42067\n",
      "train state loss: 0.35712\n",
      "train reward loss: 0.06354\n",
      "val total loss: 0.35610\n",
      "val state loss: 0.30865\n",
      "val reward loss: 0.04745\n",
      "saving min loss model at: ./log/dt_halfcheetah_model_24-05-16-00-24-38_best.pt\n",
      "saving current model at: ./log/dt_halfcheetah_model_24-05-16-00-24-38.pt\n"
     ]
    },
    {
     "name": "stderr",
     "output_type": "stream",
     "text": [
      " 24%|██▍       | 49/200 [18:54<58:05, 23.08s/it]"
     ]
    },
    {
     "name": "stdout",
     "output_type": "stream",
     "text": [
      "============================================================\n",
      "time elapsed: 0:18:54\n",
      "num of updates: 4900\n",
      "train total loss: 0.39479\n",
      "train state loss: 0.33454\n",
      "train reward loss: 0.06025\n",
      "val total loss: 0.32311\n",
      "val state loss: 0.28110\n",
      "val reward loss: 0.04201\n",
      "saving min loss model at: ./log/dt_halfcheetah_model_24-05-16-00-24-38_best.pt\n",
      "saving current model at: ./log/dt_halfcheetah_model_24-05-16-00-24-38.pt\n"
     ]
    },
    {
     "name": "stderr",
     "output_type": "stream",
     "text": [
      " 25%|██▌       | 50/200 [19:19<58:59, 23.60s/it]"
     ]
    },
    {
     "name": "stdout",
     "output_type": "stream",
     "text": [
      "============================================================\n",
      "time elapsed: 0:19:19\n",
      "num of updates: 5000\n",
      "train total loss: 0.37012\n",
      "train state loss: 0.31439\n",
      "train reward loss: 0.05574\n",
      "val total loss: 0.31132\n",
      "val state loss: 0.26855\n",
      "val reward loss: 0.04277\n",
      "saving min loss model at: ./log/dt_halfcheetah_model_24-05-16-00-24-38_best.pt\n",
      "saving current model at: ./log/dt_halfcheetah_model_24-05-16-00-24-38.pt\n"
     ]
    },
    {
     "name": "stderr",
     "output_type": "stream",
     "text": [
      " 26%|██▌       | 51/200 [19:40<57:02, 22.97s/it]"
     ]
    },
    {
     "name": "stdout",
     "output_type": "stream",
     "text": [
      "============================================================\n",
      "time elapsed: 0:19:40\n",
      "num of updates: 5100\n",
      "train total loss: 0.35637\n",
      "train state loss: 0.30118\n",
      "train reward loss: 0.05518\n",
      "val total loss: 0.29347\n",
      "val state loss: 0.25316\n",
      "val reward loss: 0.04030\n",
      "saving min loss model at: ./log/dt_halfcheetah_model_24-05-16-00-24-38_best.pt\n",
      "saving current model at: ./log/dt_halfcheetah_model_24-05-16-00-24-38.pt\n"
     ]
    },
    {
     "name": "stderr",
     "output_type": "stream",
     "text": [
      " 26%|██▌       | 52/200 [20:02<56:07, 22.75s/it]"
     ]
    },
    {
     "name": "stdout",
     "output_type": "stream",
     "text": [
      "============================================================\n",
      "time elapsed: 0:20:03\n",
      "num of updates: 5200\n",
      "train total loss: 0.33880\n",
      "train state loss: 0.28684\n",
      "train reward loss: 0.05197\n",
      "val total loss: 0.27874\n",
      "val state loss: 0.23930\n",
      "val reward loss: 0.03944\n",
      "saving min loss model at: ./log/dt_halfcheetah_model_24-05-16-00-24-38_best.pt\n",
      "saving current model at: ./log/dt_halfcheetah_model_24-05-16-00-24-38.pt\n"
     ]
    },
    {
     "name": "stderr",
     "output_type": "stream",
     "text": [
      " 26%|██▋       | 53/200 [20:25<55:45, 22.76s/it]"
     ]
    },
    {
     "name": "stdout",
     "output_type": "stream",
     "text": [
      "============================================================\n",
      "time elapsed: 0:20:25\n",
      "num of updates: 5300\n",
      "train total loss: 0.31964\n",
      "train state loss: 0.27032\n",
      "train reward loss: 0.04932\n",
      "val total loss: 0.26326\n",
      "val state loss: 0.22601\n",
      "val reward loss: 0.03725\n",
      "saving min loss model at: ./log/dt_halfcheetah_model_24-05-16-00-24-38_best.pt\n",
      "saving current model at: ./log/dt_halfcheetah_model_24-05-16-00-24-38.pt\n"
     ]
    },
    {
     "name": "stderr",
     "output_type": "stream",
     "text": [
      " 27%|██▋       | 54/200 [20:47<54:32, 22.42s/it]"
     ]
    },
    {
     "name": "stdout",
     "output_type": "stream",
     "text": [
      "============================================================\n",
      "time elapsed: 0:20:47\n",
      "num of updates: 5400\n",
      "train total loss: 0.30825\n",
      "train state loss: 0.26095\n",
      "train reward loss: 0.04730\n",
      "val total loss: 0.25602\n",
      "val state loss: 0.21732\n",
      "val reward loss: 0.03870\n",
      "saving min loss model at: ./log/dt_halfcheetah_model_24-05-16-00-24-38_best.pt\n",
      "saving current model at: ./log/dt_halfcheetah_model_24-05-16-00-24-38.pt\n"
     ]
    },
    {
     "name": "stderr",
     "output_type": "stream",
     "text": [
      " 28%|██▊       | 55/200 [21:09<54:04, 22.38s/it]"
     ]
    },
    {
     "name": "stdout",
     "output_type": "stream",
     "text": [
      "============================================================\n",
      "time elapsed: 0:21:09\n",
      "num of updates: 5500\n",
      "train total loss: 0.29032\n",
      "train state loss: 0.24540\n",
      "train reward loss: 0.04491\n",
      "val total loss: 0.25317\n",
      "val state loss: 0.21234\n",
      "val reward loss: 0.04082\n",
      "saving min loss model at: ./log/dt_halfcheetah_model_24-05-16-00-24-38_best.pt\n",
      "saving current model at: ./log/dt_halfcheetah_model_24-05-16-00-24-38.pt\n"
     ]
    },
    {
     "name": "stderr",
     "output_type": "stream",
     "text": [
      " 28%|██▊       | 56/200 [21:32<54:16, 22.61s/it]"
     ]
    },
    {
     "name": "stdout",
     "output_type": "stream",
     "text": [
      "============================================================\n",
      "time elapsed: 0:21:32\n",
      "num of updates: 5600\n",
      "train total loss: 0.28055\n",
      "train state loss: 0.23793\n",
      "train reward loss: 0.04261\n",
      "val total loss: 0.23864\n",
      "val state loss: 0.20080\n",
      "val reward loss: 0.03785\n",
      "saving min loss model at: ./log/dt_halfcheetah_model_24-05-16-00-24-38_best.pt\n",
      "saving current model at: ./log/dt_halfcheetah_model_24-05-16-00-24-38.pt\n"
     ]
    },
    {
     "name": "stderr",
     "output_type": "stream",
     "text": [
      " 28%|██▊       | 57/200 [21:54<53:39, 22.52s/it]"
     ]
    },
    {
     "name": "stdout",
     "output_type": "stream",
     "text": [
      "============================================================\n",
      "time elapsed: 0:21:55\n",
      "num of updates: 5700\n",
      "train total loss: 0.26897\n",
      "train state loss: 0.22743\n",
      "train reward loss: 0.04154\n",
      "val total loss: 0.23443\n",
      "val state loss: 0.19639\n",
      "val reward loss: 0.03804\n",
      "saving min loss model at: ./log/dt_halfcheetah_model_24-05-16-00-24-38_best.pt\n",
      "saving current model at: ./log/dt_halfcheetah_model_24-05-16-00-24-38.pt\n"
     ]
    },
    {
     "name": "stderr",
     "output_type": "stream",
     "text": [
      " 29%|██▉       | 58/200 [22:16<52:32, 22.20s/it]"
     ]
    },
    {
     "name": "stdout",
     "output_type": "stream",
     "text": [
      "============================================================\n",
      "time elapsed: 0:22:16\n",
      "num of updates: 5800\n",
      "train total loss: 0.26324\n",
      "train state loss: 0.22206\n",
      "train reward loss: 0.04118\n",
      "val total loss: 0.22070\n",
      "val state loss: 0.18687\n",
      "val reward loss: 0.03383\n",
      "saving min loss model at: ./log/dt_halfcheetah_model_24-05-16-00-24-38_best.pt\n",
      "saving current model at: ./log/dt_halfcheetah_model_24-05-16-00-24-38.pt\n"
     ]
    },
    {
     "name": "stderr",
     "output_type": "stream",
     "text": [
      " 30%|██▉       | 59/200 [22:38<52:15, 22.24s/it]"
     ]
    },
    {
     "name": "stdout",
     "output_type": "stream",
     "text": [
      "============================================================\n",
      "time elapsed: 0:22:39\n",
      "num of updates: 5900\n",
      "train total loss: 0.25867\n",
      "train state loss: 0.21765\n",
      "train reward loss: 0.04103\n",
      "val total loss: 0.21379\n",
      "val state loss: 0.17780\n",
      "val reward loss: 0.03598\n",
      "saving min loss model at: ./log/dt_halfcheetah_model_24-05-16-00-24-38_best.pt\n",
      "saving current model at: ./log/dt_halfcheetah_model_24-05-16-00-24-38.pt\n"
     ]
    },
    {
     "name": "stderr",
     "output_type": "stream",
     "text": [
      " 30%|███       | 60/200 [23:02<52:52, 22.66s/it]"
     ]
    },
    {
     "name": "stdout",
     "output_type": "stream",
     "text": [
      "============================================================\n",
      "time elapsed: 0:23:02\n",
      "num of updates: 6000\n",
      "train total loss: 0.24475\n",
      "train state loss: 0.20562\n",
      "train reward loss: 0.03912\n",
      "val total loss: 0.20786\n",
      "val state loss: 0.17273\n",
      "val reward loss: 0.03513\n",
      "saving min loss model at: ./log/dt_halfcheetah_model_24-05-16-00-24-38_best.pt\n",
      "saving current model at: ./log/dt_halfcheetah_model_24-05-16-00-24-38.pt\n"
     ]
    },
    {
     "name": "stderr",
     "output_type": "stream",
     "text": [
      " 30%|███       | 61/200 [23:26<53:45, 23.20s/it]"
     ]
    },
    {
     "name": "stdout",
     "output_type": "stream",
     "text": [
      "============================================================\n",
      "time elapsed: 0:23:27\n",
      "num of updates: 6100\n",
      "train total loss: 0.23675\n",
      "train state loss: 0.19873\n",
      "train reward loss: 0.03802\n",
      "val total loss: 0.19640\n",
      "val state loss: 0.16534\n",
      "val reward loss: 0.03106\n",
      "saving min loss model at: ./log/dt_halfcheetah_model_24-05-16-00-24-38_best.pt\n",
      "saving current model at: ./log/dt_halfcheetah_model_24-05-16-00-24-38.pt\n"
     ]
    },
    {
     "name": "stderr",
     "output_type": "stream",
     "text": [
      " 31%|███       | 62/200 [23:49<52:57, 23.03s/it]"
     ]
    },
    {
     "name": "stdout",
     "output_type": "stream",
     "text": [
      "============================================================\n",
      "time elapsed: 0:23:49\n",
      "num of updates: 6200\n",
      "train total loss: 0.23211\n",
      "train state loss: 0.19424\n",
      "train reward loss: 0.03787\n",
      "val total loss: 0.19370\n",
      "val state loss: 0.15951\n",
      "val reward loss: 0.03418\n",
      "saving min loss model at: ./log/dt_halfcheetah_model_24-05-16-00-24-38_best.pt\n",
      "saving current model at: ./log/dt_halfcheetah_model_24-05-16-00-24-38.pt\n"
     ]
    },
    {
     "name": "stderr",
     "output_type": "stream",
     "text": [
      " 32%|███▏      | 63/200 [24:14<53:43, 23.53s/it]"
     ]
    },
    {
     "name": "stdout",
     "output_type": "stream",
     "text": [
      "============================================================\n",
      "time elapsed: 0:24:14\n",
      "num of updates: 6300\n",
      "train total loss: 0.22189\n",
      "train state loss: 0.18542\n",
      "train reward loss: 0.03647\n",
      "val total loss: 0.18891\n",
      "val state loss: 0.15610\n",
      "val reward loss: 0.03282\n",
      "saving min loss model at: ./log/dt_halfcheetah_model_24-05-16-00-24-38_best.pt\n",
      "saving current model at: ./log/dt_halfcheetah_model_24-05-16-00-24-38.pt\n"
     ]
    },
    {
     "name": "stderr",
     "output_type": "stream",
     "text": [
      " 32%|███▏      | 64/200 [24:38<53:52, 23.77s/it]"
     ]
    },
    {
     "name": "stdout",
     "output_type": "stream",
     "text": [
      "============================================================\n",
      "time elapsed: 0:24:38\n",
      "num of updates: 6400\n",
      "train total loss: 0.21832\n",
      "train state loss: 0.18255\n",
      "train reward loss: 0.03577\n",
      "val total loss: 0.18300\n",
      "val state loss: 0.15182\n",
      "val reward loss: 0.03118\n",
      "saving min loss model at: ./log/dt_halfcheetah_model_24-05-16-00-24-38_best.pt\n",
      "saving current model at: ./log/dt_halfcheetah_model_24-05-16-00-24-38.pt\n"
     ]
    },
    {
     "name": "stderr",
     "output_type": "stream",
     "text": [
      " 32%|███▎      | 65/200 [25:04<54:49, 24.37s/it]"
     ]
    },
    {
     "name": "stdout",
     "output_type": "stream",
     "text": [
      "============================================================\n",
      "time elapsed: 0:25:04\n",
      "num of updates: 6500\n",
      "train total loss: 0.20412\n",
      "train state loss: 0.17032\n",
      "train reward loss: 0.03380\n",
      "val total loss: 0.18160\n",
      "val state loss: 0.14973\n",
      "val reward loss: 0.03187\n",
      "saving min loss model at: ./log/dt_halfcheetah_model_24-05-16-00-24-38_best.pt\n",
      "saving current model at: ./log/dt_halfcheetah_model_24-05-16-00-24-38.pt\n"
     ]
    },
    {
     "name": "stderr",
     "output_type": "stream",
     "text": [
      " 33%|███▎      | 66/200 [25:36<59:43, 26.75s/it]"
     ]
    },
    {
     "name": "stdout",
     "output_type": "stream",
     "text": [
      "============================================================\n",
      "time elapsed: 0:25:36\n",
      "num of updates: 6600\n",
      "train total loss: 0.20703\n",
      "train state loss: 0.17239\n",
      "train reward loss: 0.03464\n",
      "val total loss: 0.17565\n",
      "val state loss: 0.14460\n",
      "val reward loss: 0.03105\n",
      "saving min loss model at: ./log/dt_halfcheetah_model_24-05-16-00-24-38_best.pt\n",
      "saving current model at: ./log/dt_halfcheetah_model_24-05-16-00-24-38.pt\n"
     ]
    },
    {
     "name": "stderr",
     "output_type": "stream",
     "text": [
      " 34%|███▎      | 67/200 [26:00<57:06, 25.76s/it]"
     ]
    },
    {
     "name": "stdout",
     "output_type": "stream",
     "text": [
      "============================================================\n",
      "time elapsed: 0:26:00\n",
      "num of updates: 6700\n",
      "train total loss: 0.19799\n",
      "train state loss: 0.16424\n",
      "train reward loss: 0.03375\n",
      "val total loss: 0.16924\n",
      "val state loss: 0.13833\n",
      "val reward loss: 0.03092\n",
      "saving min loss model at: ./log/dt_halfcheetah_model_24-05-16-00-24-38_best.pt\n",
      "saving current model at: ./log/dt_halfcheetah_model_24-05-16-00-24-38.pt\n"
     ]
    },
    {
     "name": "stderr",
     "output_type": "stream",
     "text": [
      " 34%|███▍      | 68/200 [26:22<54:45, 24.89s/it]"
     ]
    },
    {
     "name": "stdout",
     "output_type": "stream",
     "text": [
      "============================================================\n",
      "time elapsed: 0:26:23\n",
      "num of updates: 6800\n",
      "train total loss: 0.18893\n",
      "train state loss: 0.15667\n",
      "train reward loss: 0.03226\n",
      "val total loss: 0.16458\n",
      "val state loss: 0.13669\n",
      "val reward loss: 0.02789\n",
      "saving min loss model at: ./log/dt_halfcheetah_model_24-05-16-00-24-38_best.pt\n",
      "saving current model at: ./log/dt_halfcheetah_model_24-05-16-00-24-38.pt\n"
     ]
    },
    {
     "name": "stderr",
     "output_type": "stream",
     "text": [
      " 34%|███▍      | 69/200 [26:45<52:48, 24.18s/it]"
     ]
    },
    {
     "name": "stdout",
     "output_type": "stream",
     "text": [
      "============================================================\n",
      "time elapsed: 0:26:45\n",
      "num of updates: 6900\n",
      "train total loss: 0.18883\n",
      "train state loss: 0.15648\n",
      "train reward loss: 0.03236\n",
      "val total loss: 0.15731\n",
      "val state loss: 0.13148\n",
      "val reward loss: 0.02582\n",
      "saving min loss model at: ./log/dt_halfcheetah_model_24-05-16-00-24-38_best.pt\n",
      "saving current model at: ./log/dt_halfcheetah_model_24-05-16-00-24-38.pt\n"
     ]
    },
    {
     "name": "stderr",
     "output_type": "stream",
     "text": [
      " 35%|███▌      | 70/200 [27:07<50:57, 23.52s/it]"
     ]
    },
    {
     "name": "stdout",
     "output_type": "stream",
     "text": [
      "============================================================\n",
      "time elapsed: 0:27:07\n",
      "num of updates: 7000\n",
      "train total loss: 0.17885\n",
      "train state loss: 0.14801\n",
      "train reward loss: 0.03085\n",
      "val total loss: 0.16363\n",
      "val state loss: 0.13020\n",
      "val reward loss: 0.03343\n",
      "saving min loss model at: ./log/dt_halfcheetah_model_24-05-16-00-24-38_best.pt\n",
      "saving current model at: ./log/dt_halfcheetah_model_24-05-16-00-24-38.pt\n"
     ]
    },
    {
     "name": "stderr",
     "output_type": "stream",
     "text": [
      " 36%|███▌      | 71/200 [27:28<48:51, 22.73s/it]"
     ]
    },
    {
     "name": "stdout",
     "output_type": "stream",
     "text": [
      "============================================================\n",
      "time elapsed: 0:27:28\n",
      "num of updates: 7100\n",
      "train total loss: 0.17704\n",
      "train state loss: 0.14616\n",
      "train reward loss: 0.03089\n",
      "val total loss: 0.15283\n",
      "val state loss: 0.12500\n",
      "val reward loss: 0.02783\n",
      "saving min loss model at: ./log/dt_halfcheetah_model_24-05-16-00-24-38_best.pt\n",
      "saving current model at: ./log/dt_halfcheetah_model_24-05-16-00-24-38.pt\n"
     ]
    },
    {
     "name": "stderr",
     "output_type": "stream",
     "text": [
      " 36%|███▌      | 72/200 [27:48<47:09, 22.11s/it]"
     ]
    },
    {
     "name": "stdout",
     "output_type": "stream",
     "text": [
      "============================================================\n",
      "time elapsed: 0:27:49\n",
      "num of updates: 7200\n",
      "train total loss: 0.16936\n",
      "train state loss: 0.13948\n",
      "train reward loss: 0.02988\n",
      "val total loss: 0.15056\n",
      "val state loss: 0.12038\n",
      "val reward loss: 0.03018\n",
      "saving min loss model at: ./log/dt_halfcheetah_model_24-05-16-00-24-38_best.pt\n",
      "saving current model at: ./log/dt_halfcheetah_model_24-05-16-00-24-38.pt\n"
     ]
    },
    {
     "name": "stderr",
     "output_type": "stream",
     "text": [
      " 36%|███▋      | 73/200 [28:09<45:52, 21.67s/it]"
     ]
    },
    {
     "name": "stdout",
     "output_type": "stream",
     "text": [
      "============================================================\n",
      "time elapsed: 0:28:09\n",
      "num of updates: 7300\n",
      "train total loss: 0.16665\n",
      "train state loss: 0.13679\n",
      "train reward loss: 0.02986\n",
      "val total loss: 0.15027\n",
      "val state loss: 0.12044\n",
      "val reward loss: 0.02983\n",
      "saving min loss model at: ./log/dt_halfcheetah_model_24-05-16-00-24-38_best.pt\n",
      "saving current model at: ./log/dt_halfcheetah_model_24-05-16-00-24-38.pt\n"
     ]
    },
    {
     "name": "stderr",
     "output_type": "stream",
     "text": [
      " 37%|███▋      | 74/200 [28:31<45:29, 21.66s/it]"
     ]
    },
    {
     "name": "stdout",
     "output_type": "stream",
     "text": [
      "============================================================\n",
      "time elapsed: 0:28:31\n",
      "num of updates: 7400\n",
      "train total loss: 0.16412\n",
      "train state loss: 0.13453\n",
      "train reward loss: 0.02959\n",
      "val total loss: 0.14751\n",
      "val state loss: 0.11849\n",
      "val reward loss: 0.02902\n",
      "saving min loss model at: ./log/dt_halfcheetah_model_24-05-16-00-24-38_best.pt\n",
      "saving current model at: ./log/dt_halfcheetah_model_24-05-16-00-24-38.pt\n"
     ]
    },
    {
     "name": "stderr",
     "output_type": "stream",
     "text": [
      " 38%|███▊      | 75/200 [28:53<45:32, 21.86s/it]"
     ]
    },
    {
     "name": "stdout",
     "output_type": "stream",
     "text": [
      "============================================================\n",
      "time elapsed: 0:28:53\n",
      "num of updates: 7500\n",
      "train total loss: 0.15879\n",
      "train state loss: 0.13045\n",
      "train reward loss: 0.02834\n",
      "val total loss: 0.14196\n",
      "val state loss: 0.11353\n",
      "val reward loss: 0.02843\n",
      "saving min loss model at: ./log/dt_halfcheetah_model_24-05-16-00-24-38_best.pt\n",
      "saving current model at: ./log/dt_halfcheetah_model_24-05-16-00-24-38.pt\n"
     ]
    },
    {
     "name": "stderr",
     "output_type": "stream",
     "text": [
      " 38%|███▊      | 76/200 [29:16<46:04, 22.29s/it]"
     ]
    },
    {
     "name": "stdout",
     "output_type": "stream",
     "text": [
      "============================================================\n",
      "time elapsed: 0:29:17\n",
      "num of updates: 7600\n",
      "train total loss: 0.15424\n",
      "train state loss: 0.12663\n",
      "train reward loss: 0.02761\n",
      "val total loss: 0.13521\n",
      "val state loss: 0.10806\n",
      "val reward loss: 0.02715\n",
      "saving min loss model at: ./log/dt_halfcheetah_model_24-05-16-00-24-38_best.pt\n",
      "saving current model at: ./log/dt_halfcheetah_model_24-05-16-00-24-38.pt\n"
     ]
    },
    {
     "name": "stderr",
     "output_type": "stream",
     "text": [
      " 38%|███▊      | 77/200 [29:39<45:52, 22.38s/it]"
     ]
    },
    {
     "name": "stdout",
     "output_type": "stream",
     "text": [
      "============================================================\n",
      "time elapsed: 0:29:39\n",
      "num of updates: 7700\n",
      "train total loss: 0.15089\n",
      "train state loss: 0.12355\n",
      "train reward loss: 0.02734\n",
      "val total loss: 0.13091\n",
      "val state loss: 0.10645\n",
      "val reward loss: 0.02446\n",
      "saving min loss model at: ./log/dt_halfcheetah_model_24-05-16-00-24-38_best.pt\n",
      "saving current model at: ./log/dt_halfcheetah_model_24-05-16-00-24-38.pt\n"
     ]
    },
    {
     "name": "stderr",
     "output_type": "stream",
     "text": [
      " 39%|███▉      | 78/200 [30:11<51:21, 25.26s/it]"
     ]
    },
    {
     "name": "stdout",
     "output_type": "stream",
     "text": [
      "============================================================\n",
      "time elapsed: 0:30:11\n",
      "num of updates: 7800\n",
      "train total loss: 0.14496\n",
      "train state loss: 0.11861\n",
      "train reward loss: 0.02635\n",
      "val total loss: 0.12946\n",
      "val state loss: 0.10514\n",
      "val reward loss: 0.02432\n",
      "saving min loss model at: ./log/dt_halfcheetah_model_24-05-16-00-24-38_best.pt\n",
      "saving current model at: ./log/dt_halfcheetah_model_24-05-16-00-24-38.pt\n"
     ]
    },
    {
     "name": "stderr",
     "output_type": "stream",
     "text": [
      " 40%|███▉      | 79/200 [30:34<49:54, 24.75s/it]"
     ]
    },
    {
     "name": "stdout",
     "output_type": "stream",
     "text": [
      "============================================================\n",
      "time elapsed: 0:30:35\n",
      "num of updates: 7900\n",
      "train total loss: 0.14723\n",
      "train state loss: 0.12007\n",
      "train reward loss: 0.02716\n",
      "val total loss: 0.13480\n",
      "val state loss: 0.10523\n",
      "val reward loss: 0.02956\n",
      "saving min loss model at: ./log/dt_halfcheetah_model_24-05-16-00-24-38_best.pt\n",
      "saving current model at: ./log/dt_halfcheetah_model_24-05-16-00-24-38.pt\n"
     ]
    },
    {
     "name": "stderr",
     "output_type": "stream",
     "text": [
      " 40%|████      | 80/200 [30:58<49:02, 24.52s/it]"
     ]
    },
    {
     "name": "stdout",
     "output_type": "stream",
     "text": [
      "============================================================\n",
      "time elapsed: 0:30:59\n",
      "num of updates: 8000\n",
      "train total loss: 0.14024\n",
      "train state loss: 0.11427\n",
      "train reward loss: 0.02597\n",
      "val total loss: 0.12241\n",
      "val state loss: 0.10250\n",
      "val reward loss: 0.01991\n",
      "saving min loss model at: ./log/dt_halfcheetah_model_24-05-16-00-24-38_best.pt\n",
      "saving current model at: ./log/dt_halfcheetah_model_24-05-16-00-24-38.pt\n"
     ]
    },
    {
     "name": "stderr",
     "output_type": "stream",
     "text": [
      " 40%|████      | 81/200 [31:20<47:09, 23.78s/it]"
     ]
    },
    {
     "name": "stdout",
     "output_type": "stream",
     "text": [
      "============================================================\n",
      "time elapsed: 0:31:21\n",
      "num of updates: 8100\n",
      "train total loss: 0.14065\n",
      "train state loss: 0.11489\n",
      "train reward loss: 0.02575\n",
      "val total loss: 0.12394\n",
      "val state loss: 0.09918\n",
      "val reward loss: 0.02475\n",
      "saving min loss model at: ./log/dt_halfcheetah_model_24-05-16-00-24-38_best.pt\n",
      "saving current model at: ./log/dt_halfcheetah_model_24-05-16-00-24-38.pt\n"
     ]
    },
    {
     "name": "stderr",
     "output_type": "stream",
     "text": [
      " 41%|████      | 82/200 [31:43<45:51, 23.32s/it]"
     ]
    },
    {
     "name": "stdout",
     "output_type": "stream",
     "text": [
      "============================================================\n",
      "time elapsed: 0:31:43\n",
      "num of updates: 8200\n",
      "train total loss: 0.13449\n",
      "train state loss: 0.10962\n",
      "train reward loss: 0.02486\n",
      "val total loss: 0.12368\n",
      "val state loss: 0.09742\n",
      "val reward loss: 0.02626\n",
      "saving min loss model at: ./log/dt_halfcheetah_model_24-05-16-00-24-38_best.pt\n",
      "saving current model at: ./log/dt_halfcheetah_model_24-05-16-00-24-38.pt\n"
     ]
    },
    {
     "name": "stderr",
     "output_type": "stream",
     "text": [
      " 42%|████▏     | 83/200 [32:07<46:12, 23.70s/it]"
     ]
    },
    {
     "name": "stdout",
     "output_type": "stream",
     "text": [
      "============================================================\n",
      "time elapsed: 0:32:08\n",
      "num of updates: 8300\n",
      "train total loss: 0.13316\n",
      "train state loss: 0.10838\n",
      "train reward loss: 0.02478\n",
      "val total loss: 0.12203\n",
      "val state loss: 0.09606\n",
      "val reward loss: 0.02597\n",
      "saving min loss model at: ./log/dt_halfcheetah_model_24-05-16-00-24-38_best.pt\n",
      "saving current model at: ./log/dt_halfcheetah_model_24-05-16-00-24-38.pt\n"
     ]
    },
    {
     "name": "stderr",
     "output_type": "stream",
     "text": [
      " 42%|████▏     | 84/200 [32:30<45:25, 23.49s/it]"
     ]
    },
    {
     "name": "stdout",
     "output_type": "stream",
     "text": [
      "============================================================\n",
      "time elapsed: 0:32:31\n",
      "num of updates: 8400\n",
      "train total loss: 0.12542\n",
      "train state loss: 0.10255\n",
      "train reward loss: 0.02287\n",
      "val total loss: 0.11812\n",
      "val state loss: 0.09622\n",
      "val reward loss: 0.02190\n",
      "saving min loss model at: ./log/dt_halfcheetah_model_24-05-16-00-24-38_best.pt\n",
      "saving current model at: ./log/dt_halfcheetah_model_24-05-16-00-24-38.pt\n"
     ]
    },
    {
     "name": "stderr",
     "output_type": "stream",
     "text": [
      " 42%|████▎     | 85/200 [32:54<45:20, 23.66s/it]"
     ]
    },
    {
     "name": "stdout",
     "output_type": "stream",
     "text": [
      "============================================================\n",
      "time elapsed: 0:32:55\n",
      "num of updates: 8500\n",
      "train total loss: 0.12863\n",
      "train state loss: 0.10462\n",
      "train reward loss: 0.02401\n",
      "val total loss: 0.11305\n",
      "val state loss: 0.09077\n",
      "val reward loss: 0.02229\n",
      "saving min loss model at: ./log/dt_halfcheetah_model_24-05-16-00-24-38_best.pt\n",
      "saving current model at: ./log/dt_halfcheetah_model_24-05-16-00-24-38.pt\n"
     ]
    },
    {
     "name": "stderr",
     "output_type": "stream",
     "text": [
      " 43%|████▎     | 86/200 [33:17<44:21, 23.35s/it]"
     ]
    },
    {
     "name": "stdout",
     "output_type": "stream",
     "text": [
      "============================================================\n",
      "time elapsed: 0:33:17\n",
      "num of updates: 8600\n",
      "train total loss: 0.12743\n",
      "train state loss: 0.10336\n",
      "train reward loss: 0.02406\n",
      "val total loss: 0.11410\n",
      "val state loss: 0.08977\n",
      "val reward loss: 0.02433\n",
      "saving min loss model at: ./log/dt_halfcheetah_model_24-05-16-00-24-38_best.pt\n",
      "saving current model at: ./log/dt_halfcheetah_model_24-05-16-00-24-38.pt\n"
     ]
    },
    {
     "name": "stderr",
     "output_type": "stream",
     "text": [
      " 44%|████▎     | 87/200 [33:39<42:57, 22.81s/it]"
     ]
    },
    {
     "name": "stdout",
     "output_type": "stream",
     "text": [
      "============================================================\n",
      "time elapsed: 0:33:39\n",
      "num of updates: 8700\n",
      "train total loss: 0.12338\n",
      "train state loss: 0.10031\n",
      "train reward loss: 0.02307\n",
      "val total loss: 0.11406\n",
      "val state loss: 0.08966\n",
      "val reward loss: 0.02440\n",
      "saving min loss model at: ./log/dt_halfcheetah_model_24-05-16-00-24-38_best.pt\n",
      "saving current model at: ./log/dt_halfcheetah_model_24-05-16-00-24-38.pt\n"
     ]
    },
    {
     "name": "stderr",
     "output_type": "stream",
     "text": [
      " 44%|████▍     | 88/200 [34:00<41:54, 22.45s/it]"
     ]
    },
    {
     "name": "stdout",
     "output_type": "stream",
     "text": [
      "============================================================\n",
      "time elapsed: 0:34:00\n",
      "num of updates: 8800\n",
      "train total loss: 0.11992\n",
      "train state loss: 0.09784\n",
      "train reward loss: 0.02208\n",
      "val total loss: 0.11076\n",
      "val state loss: 0.08605\n",
      "val reward loss: 0.02471\n",
      "saving min loss model at: ./log/dt_halfcheetah_model_24-05-16-00-24-38_best.pt\n",
      "saving current model at: ./log/dt_halfcheetah_model_24-05-16-00-24-38.pt\n"
     ]
    },
    {
     "name": "stderr",
     "output_type": "stream",
     "text": [
      " 44%|████▍     | 89/200 [34:22<41:12, 22.28s/it]"
     ]
    },
    {
     "name": "stdout",
     "output_type": "stream",
     "text": [
      "============================================================\n",
      "time elapsed: 0:34:22\n",
      "num of updates: 8900\n",
      "train total loss: 0.11883\n",
      "train state loss: 0.09620\n",
      "train reward loss: 0.02263\n",
      "val total loss: 0.11280\n",
      "val state loss: 0.08858\n",
      "val reward loss: 0.02422\n",
      "saving min loss model at: ./log/dt_halfcheetah_model_24-05-16-00-24-38_best.pt\n",
      "saving current model at: ./log/dt_halfcheetah_model_24-05-16-00-24-38.pt\n"
     ]
    },
    {
     "name": "stderr",
     "output_type": "stream",
     "text": [
      " 45%|████▌     | 90/200 [34:44<40:32, 22.12s/it]"
     ]
    },
    {
     "name": "stdout",
     "output_type": "stream",
     "text": [
      "============================================================\n",
      "time elapsed: 0:34:44\n",
      "num of updates: 9000\n",
      "train total loss: 0.11679\n",
      "train state loss: 0.09493\n",
      "train reward loss: 0.02186\n",
      "val total loss: 0.10926\n",
      "val state loss: 0.08592\n",
      "val reward loss: 0.02334\n",
      "saving min loss model at: ./log/dt_halfcheetah_model_24-05-16-00-24-38_best.pt\n",
      "saving current model at: ./log/dt_halfcheetah_model_24-05-16-00-24-38.pt\n"
     ]
    },
    {
     "name": "stderr",
     "output_type": "stream",
     "text": [
      " 46%|████▌     | 91/200 [35:07<40:39, 22.38s/it]"
     ]
    },
    {
     "name": "stdout",
     "output_type": "stream",
     "text": [
      "============================================================\n",
      "time elapsed: 0:35:07\n",
      "num of updates: 9100\n",
      "train total loss: 0.11494\n",
      "train state loss: 0.09359\n",
      "train reward loss: 0.02135\n",
      "val total loss: 0.11529\n",
      "val state loss: 0.08979\n",
      "val reward loss: 0.02550\n",
      "saving min loss model at: ./log/dt_halfcheetah_model_24-05-16-00-24-38_best.pt\n",
      "saving current model at: ./log/dt_halfcheetah_model_24-05-16-00-24-38.pt\n"
     ]
    },
    {
     "name": "stderr",
     "output_type": "stream",
     "text": [
      " 46%|████▌     | 92/200 [35:29<40:27, 22.48s/it]"
     ]
    },
    {
     "name": "stdout",
     "output_type": "stream",
     "text": [
      "============================================================\n",
      "time elapsed: 0:35:30\n",
      "num of updates: 9200\n",
      "train total loss: 0.11264\n",
      "train state loss: 0.09155\n",
      "train reward loss: 0.02110\n",
      "val total loss: 0.10628\n",
      "val state loss: 0.08435\n",
      "val reward loss: 0.02193\n",
      "saving min loss model at: ./log/dt_halfcheetah_model_24-05-16-00-24-38_best.pt\n",
      "saving current model at: ./log/dt_halfcheetah_model_24-05-16-00-24-38.pt\n"
     ]
    },
    {
     "name": "stderr",
     "output_type": "stream",
     "text": [
      " 46%|████▋     | 93/200 [35:53<40:38, 22.79s/it]"
     ]
    },
    {
     "name": "stdout",
     "output_type": "stream",
     "text": [
      "============================================================\n",
      "time elapsed: 0:35:53\n",
      "num of updates: 9300\n",
      "train total loss: 0.11095\n",
      "train state loss: 0.09011\n",
      "train reward loss: 0.02083\n",
      "val total loss: 0.10632\n",
      "val state loss: 0.08086\n",
      "val reward loss: 0.02547\n",
      "saving min loss model at: ./log/dt_halfcheetah_model_24-05-16-00-24-38_best.pt\n",
      "saving current model at: ./log/dt_halfcheetah_model_24-05-16-00-24-38.pt\n"
     ]
    },
    {
     "name": "stderr",
     "output_type": "stream",
     "text": [
      " 47%|████▋     | 94/200 [36:16<40:38, 23.00s/it]"
     ]
    },
    {
     "name": "stdout",
     "output_type": "stream",
     "text": [
      "============================================================\n",
      "time elapsed: 0:36:17\n",
      "num of updates: 9400\n",
      "train total loss: 0.11034\n",
      "train state loss: 0.08970\n",
      "train reward loss: 0.02064\n",
      "val total loss: 0.10635\n",
      "val state loss: 0.08169\n",
      "val reward loss: 0.02467\n",
      "saving min loss model at: ./log/dt_halfcheetah_model_24-05-16-00-24-38_best.pt\n",
      "saving current model at: ./log/dt_halfcheetah_model_24-05-16-00-24-38.pt\n"
     ]
    },
    {
     "name": "stderr",
     "output_type": "stream",
     "text": [
      " 48%|████▊     | 95/200 [36:39<40:04, 22.90s/it]"
     ]
    },
    {
     "name": "stdout",
     "output_type": "stream",
     "text": [
      "============================================================\n",
      "time elapsed: 0:36:39\n",
      "num of updates: 9500\n",
      "train total loss: 0.10591\n",
      "train state loss: 0.08610\n",
      "train reward loss: 0.01981\n",
      "val total loss: 0.10375\n",
      "val state loss: 0.08214\n",
      "val reward loss: 0.02161\n",
      "saving min loss model at: ./log/dt_halfcheetah_model_24-05-16-00-24-38_best.pt\n",
      "saving current model at: ./log/dt_halfcheetah_model_24-05-16-00-24-38.pt\n"
     ]
    },
    {
     "name": "stderr",
     "output_type": "stream",
     "text": [
      " 48%|████▊     | 96/200 [37:02<39:25, 22.74s/it]"
     ]
    },
    {
     "name": "stdout",
     "output_type": "stream",
     "text": [
      "============================================================\n",
      "time elapsed: 0:37:02\n",
      "num of updates: 9600\n",
      "train total loss: 0.10553\n",
      "train state loss: 0.08613\n",
      "train reward loss: 0.01940\n",
      "val total loss: 0.09704\n",
      "val state loss: 0.07772\n",
      "val reward loss: 0.01932\n",
      "saving min loss model at: ./log/dt_halfcheetah_model_24-05-16-00-24-38_best.pt\n",
      "saving current model at: ./log/dt_halfcheetah_model_24-05-16-00-24-38.pt\n"
     ]
    },
    {
     "name": "stderr",
     "output_type": "stream",
     "text": [
      " 48%|████▊     | 97/200 [37:24<38:50, 22.62s/it]"
     ]
    },
    {
     "name": "stdout",
     "output_type": "stream",
     "text": [
      "============================================================\n",
      "time elapsed: 0:37:24\n",
      "num of updates: 9700\n",
      "train total loss: 0.10504\n",
      "train state loss: 0.08554\n",
      "train reward loss: 0.01950\n",
      "val total loss: 0.09422\n",
      "val state loss: 0.07705\n",
      "val reward loss: 0.01717\n",
      "saving min loss model at: ./log/dt_halfcheetah_model_24-05-16-00-24-38_best.pt\n",
      "saving current model at: ./log/dt_halfcheetah_model_24-05-16-00-24-38.pt\n"
     ]
    },
    {
     "name": "stderr",
     "output_type": "stream",
     "text": [
      " 49%|████▉     | 98/200 [37:45<37:36, 22.13s/it]"
     ]
    },
    {
     "name": "stdout",
     "output_type": "stream",
     "text": [
      "============================================================\n",
      "time elapsed: 0:37:45\n",
      "num of updates: 9800\n",
      "train total loss: 0.10577\n",
      "train state loss: 0.08591\n",
      "train reward loss: 0.01986\n",
      "val total loss: 0.09785\n",
      "val state loss: 0.07795\n",
      "val reward loss: 0.01989\n",
      "saving min loss model at: ./log/dt_halfcheetah_model_24-05-16-00-24-38_best.pt\n",
      "saving current model at: ./log/dt_halfcheetah_model_24-05-16-00-24-38.pt\n"
     ]
    },
    {
     "name": "stderr",
     "output_type": "stream",
     "text": [
      " 50%|████▉     | 99/200 [38:07<37:01, 22.00s/it]"
     ]
    },
    {
     "name": "stdout",
     "output_type": "stream",
     "text": [
      "============================================================\n",
      "time elapsed: 0:38:07\n",
      "num of updates: 9900\n",
      "train total loss: 0.10313\n",
      "train state loss: 0.08379\n",
      "train reward loss: 0.01934\n",
      "val total loss: 0.10010\n",
      "val state loss: 0.07752\n",
      "val reward loss: 0.02258\n",
      "saving min loss model at: ./log/dt_halfcheetah_model_24-05-16-00-24-38_best.pt\n",
      "saving current model at: ./log/dt_halfcheetah_model_24-05-16-00-24-38.pt\n"
     ]
    },
    {
     "name": "stderr",
     "output_type": "stream",
     "text": [
      " 50%|█████     | 100/200 [38:28<36:31, 21.91s/it]"
     ]
    },
    {
     "name": "stdout",
     "output_type": "stream",
     "text": [
      "============================================================\n",
      "time elapsed: 0:38:29\n",
      "num of updates: 10000\n",
      "train total loss: 0.10138\n",
      "train state loss: 0.08260\n",
      "train reward loss: 0.01878\n",
      "val total loss: 0.10032\n",
      "val state loss: 0.07823\n",
      "val reward loss: 0.02209\n",
      "saving min loss model at: ./log/dt_halfcheetah_model_24-05-16-00-24-38_best.pt\n",
      "saving current model at: ./log/dt_halfcheetah_model_24-05-16-00-24-38.pt\n"
     ]
    },
    {
     "name": "stderr",
     "output_type": "stream",
     "text": [
      " 50%|█████     | 101/200 [38:51<36:25, 22.08s/it]"
     ]
    },
    {
     "name": "stdout",
     "output_type": "stream",
     "text": [
      "============================================================\n",
      "time elapsed: 0:38:51\n",
      "num of updates: 10100\n",
      "train total loss: 0.10052\n",
      "train state loss: 0.08167\n",
      "train reward loss: 0.01885\n",
      "val total loss: 0.09557\n",
      "val state loss: 0.07578\n",
      "val reward loss: 0.01979\n",
      "saving min loss model at: ./log/dt_halfcheetah_model_24-05-16-00-24-38_best.pt\n",
      "saving current model at: ./log/dt_halfcheetah_model_24-05-16-00-24-38.pt\n"
     ]
    },
    {
     "name": "stderr",
     "output_type": "stream",
     "text": [
      " 51%|█████     | 102/200 [39:12<35:26, 21.70s/it]"
     ]
    },
    {
     "name": "stdout",
     "output_type": "stream",
     "text": [
      "============================================================\n",
      "time elapsed: 0:39:12\n",
      "num of updates: 10200\n",
      "train total loss: 0.09968\n",
      "train state loss: 0.08106\n",
      "train reward loss: 0.01862\n",
      "val total loss: 0.09400\n",
      "val state loss: 0.07384\n",
      "val reward loss: 0.02016\n",
      "saving min loss model at: ./log/dt_halfcheetah_model_24-05-16-00-24-38_best.pt\n",
      "saving current model at: ./log/dt_halfcheetah_model_24-05-16-00-24-38.pt\n"
     ]
    },
    {
     "name": "stderr",
     "output_type": "stream",
     "text": [
      " 52%|█████▏    | 103/200 [39:33<34:58, 21.63s/it]"
     ]
    },
    {
     "name": "stdout",
     "output_type": "stream",
     "text": [
      "============================================================\n",
      "time elapsed: 0:39:33\n",
      "num of updates: 10300\n",
      "train total loss: 0.09731\n",
      "train state loss: 0.07924\n",
      "train reward loss: 0.01807\n",
      "val total loss: 0.09391\n",
      "val state loss: 0.07453\n",
      "val reward loss: 0.01937\n",
      "saving min loss model at: ./log/dt_halfcheetah_model_24-05-16-00-24-38_best.pt\n",
      "saving current model at: ./log/dt_halfcheetah_model_24-05-16-00-24-38.pt\n"
     ]
    },
    {
     "name": "stderr",
     "output_type": "stream",
     "text": [
      " 52%|█████▏    | 104/200 [39:56<35:13, 22.02s/it]"
     ]
    },
    {
     "name": "stdout",
     "output_type": "stream",
     "text": [
      "============================================================\n",
      "time elapsed: 0:39:56\n",
      "num of updates: 10400\n",
      "train total loss: 0.09508\n",
      "train state loss: 0.07740\n",
      "train reward loss: 0.01769\n",
      "val total loss: 0.09232\n",
      "val state loss: 0.07151\n",
      "val reward loss: 0.02082\n",
      "saving min loss model at: ./log/dt_halfcheetah_model_24-05-16-00-24-38_best.pt\n",
      "saving current model at: ./log/dt_halfcheetah_model_24-05-16-00-24-38.pt\n"
     ]
    },
    {
     "name": "stderr",
     "output_type": "stream",
     "text": [
      " 52%|█████▎    | 105/200 [40:17<34:38, 21.88s/it]"
     ]
    },
    {
     "name": "stdout",
     "output_type": "stream",
     "text": [
      "============================================================\n",
      "time elapsed: 0:40:18\n",
      "num of updates: 10500\n",
      "train total loss: 0.09546\n",
      "train state loss: 0.07754\n",
      "train reward loss: 0.01791\n",
      "val total loss: 0.09634\n",
      "val state loss: 0.07557\n",
      "val reward loss: 0.02077\n",
      "saving min loss model at: ./log/dt_halfcheetah_model_24-05-16-00-24-38_best.pt\n",
      "saving current model at: ./log/dt_halfcheetah_model_24-05-16-00-24-38.pt\n"
     ]
    },
    {
     "name": "stderr",
     "output_type": "stream",
     "text": [
      " 53%|█████▎    | 106/200 [40:38<33:34, 21.43s/it]"
     ]
    },
    {
     "name": "stdout",
     "output_type": "stream",
     "text": [
      "============================================================\n",
      "time elapsed: 0:40:38\n",
      "num of updates: 10600\n",
      "train total loss: 0.09412\n",
      "train state loss: 0.07644\n",
      "train reward loss: 0.01768\n",
      "val total loss: 0.09199\n",
      "val state loss: 0.06975\n",
      "val reward loss: 0.02225\n",
      "saving min loss model at: ./log/dt_halfcheetah_model_24-05-16-00-24-38_best.pt\n",
      "saving current model at: ./log/dt_halfcheetah_model_24-05-16-00-24-38.pt\n"
     ]
    },
    {
     "name": "stderr",
     "output_type": "stream",
     "text": [
      " 54%|█████▎    | 107/200 [41:04<35:35, 22.96s/it]"
     ]
    },
    {
     "name": "stdout",
     "output_type": "stream",
     "text": [
      "============================================================\n",
      "time elapsed: 0:41:05\n",
      "num of updates: 10700\n",
      "train total loss: 0.09401\n",
      "train state loss: 0.07668\n",
      "train reward loss: 0.01733\n",
      "val total loss: 0.09144\n",
      "val state loss: 0.07070\n",
      "val reward loss: 0.02074\n",
      "saving min loss model at: ./log/dt_halfcheetah_model_24-05-16-00-24-38_best.pt\n",
      "saving current model at: ./log/dt_halfcheetah_model_24-05-16-00-24-38.pt\n"
     ]
    },
    {
     "name": "stderr",
     "output_type": "stream",
     "text": [
      " 54%|█████▍    | 108/200 [41:25<34:10, 22.29s/it]"
     ]
    },
    {
     "name": "stdout",
     "output_type": "stream",
     "text": [
      "============================================================\n",
      "time elapsed: 0:41:25\n",
      "num of updates: 10800\n",
      "train total loss: 0.09169\n",
      "train state loss: 0.07486\n",
      "train reward loss: 0.01682\n",
      "val total loss: 0.09359\n",
      "val state loss: 0.07057\n",
      "val reward loss: 0.02302\n",
      "saving min loss model at: ./log/dt_halfcheetah_model_24-05-16-00-24-38_best.pt\n",
      "saving current model at: ./log/dt_halfcheetah_model_24-05-16-00-24-38.pt\n"
     ]
    },
    {
     "name": "stderr",
     "output_type": "stream",
     "text": [
      " 55%|█████▍    | 109/200 [41:46<33:10, 21.87s/it]"
     ]
    },
    {
     "name": "stdout",
     "output_type": "stream",
     "text": [
      "============================================================\n",
      "time elapsed: 0:41:46\n",
      "num of updates: 10900\n",
      "train total loss: 0.09091\n",
      "train state loss: 0.07412\n",
      "train reward loss: 0.01679\n",
      "val total loss: 0.08902\n",
      "val state loss: 0.06916\n",
      "val reward loss: 0.01986\n",
      "saving min loss model at: ./log/dt_halfcheetah_model_24-05-16-00-24-38_best.pt\n",
      "saving current model at: ./log/dt_halfcheetah_model_24-05-16-00-24-38.pt\n"
     ]
    },
    {
     "name": "stderr",
     "output_type": "stream",
     "text": [
      " 55%|█████▌    | 110/200 [42:07<32:32, 21.69s/it]"
     ]
    },
    {
     "name": "stdout",
     "output_type": "stream",
     "text": [
      "============================================================\n",
      "time elapsed: 0:42:08\n",
      "num of updates: 11000\n",
      "train total loss: 0.09149\n",
      "train state loss: 0.07469\n",
      "train reward loss: 0.01680\n",
      "val total loss: 0.08883\n",
      "val state loss: 0.07020\n",
      "val reward loss: 0.01863\n",
      "saving min loss model at: ./log/dt_halfcheetah_model_24-05-16-00-24-38_best.pt\n",
      "saving current model at: ./log/dt_halfcheetah_model_24-05-16-00-24-38.pt\n"
     ]
    },
    {
     "name": "stderr",
     "output_type": "stream",
     "text": [
      " 56%|█████▌    | 111/200 [42:29<32:11, 21.71s/it]"
     ]
    },
    {
     "name": "stdout",
     "output_type": "stream",
     "text": [
      "============================================================\n",
      "time elapsed: 0:42:29\n",
      "num of updates: 11100\n",
      "train total loss: 0.09067\n",
      "train state loss: 0.07381\n",
      "train reward loss: 0.01686\n",
      "val total loss: 0.09193\n",
      "val state loss: 0.06839\n",
      "val reward loss: 0.02354\n",
      "saving min loss model at: ./log/dt_halfcheetah_model_24-05-16-00-24-38_best.pt\n",
      "saving current model at: ./log/dt_halfcheetah_model_24-05-16-00-24-38.pt\n"
     ]
    },
    {
     "name": "stderr",
     "output_type": "stream",
     "text": [
      " 56%|█████▌    | 112/200 [42:50<31:28, 21.46s/it]"
     ]
    },
    {
     "name": "stdout",
     "output_type": "stream",
     "text": [
      "============================================================\n",
      "time elapsed: 0:42:50\n",
      "num of updates: 11200\n",
      "train total loss: 0.08955\n",
      "train state loss: 0.07289\n",
      "train reward loss: 0.01666\n",
      "val total loss: 0.08560\n",
      "val state loss: 0.06901\n",
      "val reward loss: 0.01659\n",
      "saving min loss model at: ./log/dt_halfcheetah_model_24-05-16-00-24-38_best.pt\n",
      "saving current model at: ./log/dt_halfcheetah_model_24-05-16-00-24-38.pt\n"
     ]
    },
    {
     "name": "stderr",
     "output_type": "stream",
     "text": [
      " 56%|█████▋    | 113/200 [43:10<30:38, 21.13s/it]"
     ]
    },
    {
     "name": "stdout",
     "output_type": "stream",
     "text": [
      "============================================================\n",
      "time elapsed: 0:43:11\n",
      "num of updates: 11300\n",
      "train total loss: 0.08648\n",
      "train state loss: 0.07052\n",
      "train reward loss: 0.01595\n",
      "val total loss: 0.08556\n",
      "val state loss: 0.06769\n",
      "val reward loss: 0.01787\n",
      "saving min loss model at: ./log/dt_halfcheetah_model_24-05-16-00-24-38_best.pt\n",
      "saving current model at: ./log/dt_halfcheetah_model_24-05-16-00-24-38.pt\n"
     ]
    },
    {
     "name": "stderr",
     "output_type": "stream",
     "text": [
      " 57%|█████▋    | 114/200 [43:31<30:04, 20.98s/it]"
     ]
    },
    {
     "name": "stdout",
     "output_type": "stream",
     "text": [
      "============================================================\n",
      "time elapsed: 0:43:31\n",
      "num of updates: 11400\n",
      "train total loss: 0.08664\n",
      "train state loss: 0.07096\n",
      "train reward loss: 0.01568\n",
      "val total loss: 0.08392\n",
      "val state loss: 0.06714\n",
      "val reward loss: 0.01677\n",
      "saving min loss model at: ./log/dt_halfcheetah_model_24-05-16-00-24-38_best.pt\n",
      "saving current model at: ./log/dt_halfcheetah_model_24-05-16-00-24-38.pt\n"
     ]
    },
    {
     "name": "stderr",
     "output_type": "stream",
     "text": [
      " 57%|█████▊    | 115/200 [43:52<29:49, 21.05s/it]"
     ]
    },
    {
     "name": "stdout",
     "output_type": "stream",
     "text": [
      "============================================================\n",
      "time elapsed: 0:43:52\n",
      "num of updates: 11500\n",
      "train total loss: 0.08516\n",
      "train state loss: 0.06967\n",
      "train reward loss: 0.01549\n",
      "val total loss: 0.09073\n",
      "val state loss: 0.06702\n",
      "val reward loss: 0.02370\n",
      "saving min loss model at: ./log/dt_halfcheetah_model_24-05-16-00-24-38_best.pt\n",
      "saving current model at: ./log/dt_halfcheetah_model_24-05-16-00-24-38.pt\n"
     ]
    },
    {
     "name": "stderr",
     "output_type": "stream",
     "text": [
      " 58%|█████▊    | 116/200 [44:14<29:48, 21.29s/it]"
     ]
    },
    {
     "name": "stdout",
     "output_type": "stream",
     "text": [
      "============================================================\n",
      "time elapsed: 0:44:14\n",
      "num of updates: 11600\n",
      "train total loss: 0.08435\n",
      "train state loss: 0.06875\n",
      "train reward loss: 0.01560\n",
      "val total loss: 0.08225\n",
      "val state loss: 0.06472\n",
      "val reward loss: 0.01753\n",
      "saving min loss model at: ./log/dt_halfcheetah_model_24-05-16-00-24-38_best.pt\n",
      "saving current model at: ./log/dt_halfcheetah_model_24-05-16-00-24-38.pt\n"
     ]
    },
    {
     "name": "stderr",
     "output_type": "stream",
     "text": [
      " 58%|█████▊    | 117/200 [44:34<28:58, 20.94s/it]"
     ]
    },
    {
     "name": "stdout",
     "output_type": "stream",
     "text": [
      "============================================================\n",
      "time elapsed: 0:44:34\n",
      "num of updates: 11700\n",
      "train total loss: 0.08467\n",
      "train state loss: 0.06919\n",
      "train reward loss: 0.01548\n",
      "val total loss: 0.08157\n",
      "val state loss: 0.06414\n",
      "val reward loss: 0.01743\n",
      "saving min loss model at: ./log/dt_halfcheetah_model_24-05-16-00-24-38_best.pt\n",
      "saving current model at: ./log/dt_halfcheetah_model_24-05-16-00-24-38.pt\n"
     ]
    },
    {
     "name": "stderr",
     "output_type": "stream",
     "text": [
      " 59%|█████▉    | 118/200 [44:55<28:25, 20.80s/it]"
     ]
    },
    {
     "name": "stdout",
     "output_type": "stream",
     "text": [
      "============================================================\n",
      "time elapsed: 0:44:55\n",
      "num of updates: 11800\n",
      "train total loss: 0.08367\n",
      "train state loss: 0.06836\n",
      "train reward loss: 0.01531\n",
      "val total loss: 0.08404\n",
      "val state loss: 0.06576\n",
      "val reward loss: 0.01828\n",
      "saving min loss model at: ./log/dt_halfcheetah_model_24-05-16-00-24-38_best.pt\n",
      "saving current model at: ./log/dt_halfcheetah_model_24-05-16-00-24-38.pt\n"
     ]
    },
    {
     "name": "stderr",
     "output_type": "stream",
     "text": [
      " 60%|█████▉    | 119/200 [45:16<28:08, 20.84s/it]"
     ]
    },
    {
     "name": "stdout",
     "output_type": "stream",
     "text": [
      "============================================================\n",
      "time elapsed: 0:45:16\n",
      "num of updates: 11900\n",
      "train total loss: 0.08221\n",
      "train state loss: 0.06745\n",
      "train reward loss: 0.01477\n",
      "val total loss: 0.08527\n",
      "val state loss: 0.06647\n",
      "val reward loss: 0.01880\n",
      "saving min loss model at: ./log/dt_halfcheetah_model_24-05-16-00-24-38_best.pt\n",
      "saving current model at: ./log/dt_halfcheetah_model_24-05-16-00-24-38.pt\n"
     ]
    },
    {
     "name": "stderr",
     "output_type": "stream",
     "text": [
      " 60%|██████    | 120/200 [45:37<27:59, 21.00s/it]"
     ]
    },
    {
     "name": "stdout",
     "output_type": "stream",
     "text": [
      "============================================================\n",
      "time elapsed: 0:45:37\n",
      "num of updates: 12000\n",
      "train total loss: 0.08300\n",
      "train state loss: 0.06783\n",
      "train reward loss: 0.01518\n",
      "val total loss: 0.08044\n",
      "val state loss: 0.06305\n",
      "val reward loss: 0.01739\n",
      "saving min loss model at: ./log/dt_halfcheetah_model_24-05-16-00-24-38_best.pt\n",
      "saving current model at: ./log/dt_halfcheetah_model_24-05-16-00-24-38.pt\n"
     ]
    },
    {
     "name": "stderr",
     "output_type": "stream",
     "text": [
      " 60%|██████    | 121/200 [45:59<28:03, 21.31s/it]"
     ]
    },
    {
     "name": "stdout",
     "output_type": "stream",
     "text": [
      "============================================================\n",
      "time elapsed: 0:45:59\n",
      "num of updates: 12100\n",
      "train total loss: 0.08272\n",
      "train state loss: 0.06769\n",
      "train reward loss: 0.01503\n",
      "val total loss: 0.08306\n",
      "val state loss: 0.06608\n",
      "val reward loss: 0.01699\n",
      "saving min loss model at: ./log/dt_halfcheetah_model_24-05-16-00-24-38_best.pt\n",
      "saving current model at: ./log/dt_halfcheetah_model_24-05-16-00-24-38.pt\n"
     ]
    },
    {
     "name": "stderr",
     "output_type": "stream",
     "text": [
      " 61%|██████    | 122/200 [46:19<27:24, 21.08s/it]"
     ]
    },
    {
     "name": "stdout",
     "output_type": "stream",
     "text": [
      "============================================================\n",
      "time elapsed: 0:46:20\n",
      "num of updates: 12200\n",
      "train total loss: 0.07927\n",
      "train state loss: 0.06512\n",
      "train reward loss: 0.01415\n",
      "val total loss: 0.08409\n",
      "val state loss: 0.06370\n",
      "val reward loss: 0.02039\n",
      "saving min loss model at: ./log/dt_halfcheetah_model_24-05-16-00-24-38_best.pt\n",
      "saving current model at: ./log/dt_halfcheetah_model_24-05-16-00-24-38.pt\n"
     ]
    },
    {
     "name": "stderr",
     "output_type": "stream",
     "text": [
      " 62%|██████▏   | 123/200 [46:39<26:35, 20.72s/it]"
     ]
    },
    {
     "name": "stdout",
     "output_type": "stream",
     "text": [
      "============================================================\n",
      "time elapsed: 0:46:40\n",
      "num of updates: 12300\n",
      "train total loss: 0.08017\n",
      "train state loss: 0.06554\n",
      "train reward loss: 0.01463\n",
      "val total loss: 0.08230\n",
      "val state loss: 0.06543\n",
      "val reward loss: 0.01687\n",
      "saving min loss model at: ./log/dt_halfcheetah_model_24-05-16-00-24-38_best.pt\n",
      "saving current model at: ./log/dt_halfcheetah_model_24-05-16-00-24-38.pt\n"
     ]
    },
    {
     "name": "stderr",
     "output_type": "stream",
     "text": [
      " 62%|██████▏   | 124/200 [47:00<26:10, 20.67s/it]"
     ]
    },
    {
     "name": "stdout",
     "output_type": "stream",
     "text": [
      "============================================================\n",
      "time elapsed: 0:47:00\n",
      "num of updates: 12400\n",
      "train total loss: 0.07991\n",
      "train state loss: 0.06513\n",
      "train reward loss: 0.01478\n",
      "val total loss: 0.08184\n",
      "val state loss: 0.06262\n",
      "val reward loss: 0.01922\n",
      "saving min loss model at: ./log/dt_halfcheetah_model_24-05-16-00-24-38_best.pt\n",
      "saving current model at: ./log/dt_halfcheetah_model_24-05-16-00-24-38.pt\n"
     ]
    },
    {
     "name": "stderr",
     "output_type": "stream",
     "text": [
      " 62%|██████▎   | 125/200 [47:21<25:51, 20.69s/it]"
     ]
    },
    {
     "name": "stdout",
     "output_type": "stream",
     "text": [
      "============================================================\n",
      "time elapsed: 0:47:21\n",
      "num of updates: 12500\n",
      "train total loss: 0.07941\n",
      "train state loss: 0.06511\n",
      "train reward loss: 0.01430\n",
      "val total loss: 0.07981\n",
      "val state loss: 0.06271\n",
      "val reward loss: 0.01709\n",
      "saving min loss model at: ./log/dt_halfcheetah_model_24-05-16-00-24-38_best.pt\n",
      "saving current model at: ./log/dt_halfcheetah_model_24-05-16-00-24-38.pt\n"
     ]
    },
    {
     "name": "stderr",
     "output_type": "stream",
     "text": [
      " 63%|██████▎   | 126/200 [47:42<25:43, 20.86s/it]"
     ]
    },
    {
     "name": "stdout",
     "output_type": "stream",
     "text": [
      "============================================================\n",
      "time elapsed: 0:47:42\n",
      "num of updates: 12600\n",
      "train total loss: 0.07814\n",
      "train state loss: 0.06403\n",
      "train reward loss: 0.01411\n",
      "val total loss: 0.08621\n",
      "val state loss: 0.06409\n",
      "val reward loss: 0.02212\n",
      "saving min loss model at: ./log/dt_halfcheetah_model_24-05-16-00-24-38_best.pt\n",
      "saving current model at: ./log/dt_halfcheetah_model_24-05-16-00-24-38.pt\n"
     ]
    },
    {
     "name": "stderr",
     "output_type": "stream",
     "text": [
      " 64%|██████▎   | 127/200 [48:04<25:39, 21.09s/it]"
     ]
    },
    {
     "name": "stdout",
     "output_type": "stream",
     "text": [
      "============================================================\n",
      "time elapsed: 0:48:04\n",
      "num of updates: 12700\n",
      "train total loss: 0.07658\n",
      "train state loss: 0.06286\n",
      "train reward loss: 0.01372\n",
      "val total loss: 0.08649\n",
      "val state loss: 0.06544\n",
      "val reward loss: 0.02105\n",
      "saving min loss model at: ./log/dt_halfcheetah_model_24-05-16-00-24-38_best.pt\n",
      "saving current model at: ./log/dt_halfcheetah_model_24-05-16-00-24-38.pt\n"
     ]
    },
    {
     "name": "stderr",
     "output_type": "stream",
     "text": [
      " 64%|██████▍   | 128/200 [48:24<25:08, 20.96s/it]"
     ]
    },
    {
     "name": "stdout",
     "output_type": "stream",
     "text": [
      "============================================================\n",
      "time elapsed: 0:48:24\n",
      "num of updates: 12800\n",
      "train total loss: 0.07643\n",
      "train state loss: 0.06287\n",
      "train reward loss: 0.01356\n",
      "val total loss: 0.07740\n",
      "val state loss: 0.06210\n",
      "val reward loss: 0.01530\n",
      "saving min loss model at: ./log/dt_halfcheetah_model_24-05-16-00-24-38_best.pt\n",
      "saving current model at: ./log/dt_halfcheetah_model_24-05-16-00-24-38.pt\n"
     ]
    },
    {
     "name": "stderr",
     "output_type": "stream",
     "text": [
      " 64%|██████▍   | 129/200 [48:44<24:27, 20.67s/it]"
     ]
    },
    {
     "name": "stdout",
     "output_type": "stream",
     "text": [
      "============================================================\n",
      "time elapsed: 0:48:44\n",
      "num of updates: 12900\n",
      "train total loss: 0.07558\n",
      "train state loss: 0.06205\n",
      "train reward loss: 0.01353\n",
      "val total loss: 0.08190\n",
      "val state loss: 0.06273\n",
      "val reward loss: 0.01917\n",
      "saving min loss model at: ./log/dt_halfcheetah_model_24-05-16-00-24-38_best.pt\n",
      "saving current model at: ./log/dt_halfcheetah_model_24-05-16-00-24-38.pt\n"
     ]
    },
    {
     "name": "stderr",
     "output_type": "stream",
     "text": [
      " 65%|██████▌   | 130/200 [49:05<24:00, 20.58s/it]"
     ]
    },
    {
     "name": "stdout",
     "output_type": "stream",
     "text": [
      "============================================================\n",
      "time elapsed: 0:49:05\n",
      "num of updates: 13000\n",
      "train total loss: 0.07682\n",
      "train state loss: 0.06300\n",
      "train reward loss: 0.01382\n",
      "val total loss: 0.08636\n",
      "val state loss: 0.06608\n",
      "val reward loss: 0.02028\n",
      "saving min loss model at: ./log/dt_halfcheetah_model_24-05-16-00-24-38_best.pt\n",
      "saving current model at: ./log/dt_halfcheetah_model_24-05-16-00-24-38.pt\n"
     ]
    },
    {
     "name": "stderr",
     "output_type": "stream",
     "text": [
      " 66%|██████▌   | 131/200 [49:25<23:41, 20.60s/it]"
     ]
    },
    {
     "name": "stdout",
     "output_type": "stream",
     "text": [
      "============================================================\n",
      "time elapsed: 0:49:25\n",
      "num of updates: 13100\n",
      "train total loss: 0.07583\n",
      "train state loss: 0.06203\n",
      "train reward loss: 0.01380\n",
      "val total loss: 0.07500\n",
      "val state loss: 0.05859\n",
      "val reward loss: 0.01641\n",
      "saving min loss model at: ./log/dt_halfcheetah_model_24-05-16-00-24-38_best.pt\n",
      "saving current model at: ./log/dt_halfcheetah_model_24-05-16-00-24-38.pt\n"
     ]
    },
    {
     "name": "stderr",
     "output_type": "stream",
     "text": [
      " 66%|██████▌   | 132/200 [49:47<23:49, 21.02s/it]"
     ]
    },
    {
     "name": "stdout",
     "output_type": "stream",
     "text": [
      "============================================================\n",
      "time elapsed: 0:49:47\n",
      "num of updates: 13200\n",
      "train total loss: 0.07471\n",
      "train state loss: 0.06136\n",
      "train reward loss: 0.01335\n",
      "val total loss: 0.07713\n",
      "val state loss: 0.05940\n",
      "val reward loss: 0.01773\n",
      "saving min loss model at: ./log/dt_halfcheetah_model_24-05-16-00-24-38_best.pt\n",
      "saving current model at: ./log/dt_halfcheetah_model_24-05-16-00-24-38.pt\n"
     ]
    },
    {
     "name": "stderr",
     "output_type": "stream",
     "text": [
      " 66%|██████▋   | 133/200 [50:09<23:48, 21.32s/it]"
     ]
    },
    {
     "name": "stdout",
     "output_type": "stream",
     "text": [
      "============================================================\n",
      "time elapsed: 0:50:09\n",
      "num of updates: 13300\n",
      "train total loss: 0.07466\n",
      "train state loss: 0.06125\n",
      "train reward loss: 0.01341\n",
      "val total loss: 0.07161\n",
      "val state loss: 0.05780\n",
      "val reward loss: 0.01381\n",
      "saving min loss model at: ./log/dt_halfcheetah_model_24-05-16-00-24-38_best.pt\n",
      "saving current model at: ./log/dt_halfcheetah_model_24-05-16-00-24-38.pt\n"
     ]
    },
    {
     "name": "stderr",
     "output_type": "stream",
     "text": [
      " 67%|██████▋   | 134/200 [50:33<24:06, 21.92s/it]"
     ]
    },
    {
     "name": "stdout",
     "output_type": "stream",
     "text": [
      "============================================================\n",
      "time elapsed: 0:50:33\n",
      "num of updates: 13400\n",
      "train total loss: 0.07426\n",
      "train state loss: 0.06086\n",
      "train reward loss: 0.01340\n",
      "val total loss: 0.07922\n",
      "val state loss: 0.06282\n",
      "val reward loss: 0.01641\n",
      "saving min loss model at: ./log/dt_halfcheetah_model_24-05-16-00-24-38_best.pt\n",
      "saving current model at: ./log/dt_halfcheetah_model_24-05-16-00-24-38.pt\n"
     ]
    },
    {
     "name": "stderr",
     "output_type": "stream",
     "text": [
      " 68%|██████▊   | 135/200 [50:54<23:37, 21.80s/it]"
     ]
    },
    {
     "name": "stdout",
     "output_type": "stream",
     "text": [
      "============================================================\n",
      "time elapsed: 0:50:54\n",
      "num of updates: 13500\n",
      "train total loss: 0.07428\n",
      "train state loss: 0.06093\n",
      "train reward loss: 0.01334\n",
      "val total loss: 0.07940\n",
      "val state loss: 0.06131\n",
      "val reward loss: 0.01808\n",
      "saving min loss model at: ./log/dt_halfcheetah_model_24-05-16-00-24-38_best.pt\n",
      "saving current model at: ./log/dt_halfcheetah_model_24-05-16-00-24-38.pt\n"
     ]
    },
    {
     "name": "stderr",
     "output_type": "stream",
     "text": [
      " 68%|██████▊   | 136/200 [51:18<23:52, 22.38s/it]"
     ]
    },
    {
     "name": "stdout",
     "output_type": "stream",
     "text": [
      "============================================================\n",
      "time elapsed: 0:51:18\n",
      "num of updates: 13600\n",
      "train total loss: 0.07233\n",
      "train state loss: 0.05942\n",
      "train reward loss: 0.01292\n",
      "val total loss: 0.07639\n",
      "val state loss: 0.05962\n",
      "val reward loss: 0.01677\n",
      "saving min loss model at: ./log/dt_halfcheetah_model_24-05-16-00-24-38_best.pt\n",
      "saving current model at: ./log/dt_halfcheetah_model_24-05-16-00-24-38.pt\n"
     ]
    },
    {
     "name": "stderr",
     "output_type": "stream",
     "text": [
      " 68%|██████▊   | 137/200 [51:39<23:07, 22.02s/it]"
     ]
    },
    {
     "name": "stdout",
     "output_type": "stream",
     "text": [
      "============================================================\n",
      "time elapsed: 0:51:39\n",
      "num of updates: 13700\n",
      "train total loss: 0.07242\n",
      "train state loss: 0.05936\n",
      "train reward loss: 0.01306\n",
      "val total loss: 0.07711\n",
      "val state loss: 0.05958\n",
      "val reward loss: 0.01753\n",
      "saving min loss model at: ./log/dt_halfcheetah_model_24-05-16-00-24-38_best.pt\n",
      "saving current model at: ./log/dt_halfcheetah_model_24-05-16-00-24-38.pt\n"
     ]
    },
    {
     "name": "stderr",
     "output_type": "stream",
     "text": [
      " 69%|██████▉   | 138/200 [52:01<22:50, 22.11s/it]"
     ]
    },
    {
     "name": "stdout",
     "output_type": "stream",
     "text": [
      "============================================================\n",
      "time elapsed: 0:52:02\n",
      "num of updates: 13800\n",
      "train total loss: 0.07202\n",
      "train state loss: 0.05907\n",
      "train reward loss: 0.01295\n",
      "val total loss: 0.07950\n",
      "val state loss: 0.06446\n",
      "val reward loss: 0.01504\n",
      "saving min loss model at: ./log/dt_halfcheetah_model_24-05-16-00-24-38_best.pt\n",
      "saving current model at: ./log/dt_halfcheetah_model_24-05-16-00-24-38.pt\n"
     ]
    },
    {
     "name": "stderr",
     "output_type": "stream",
     "text": [
      " 70%|██████▉   | 139/200 [52:29<24:17, 23.89s/it]"
     ]
    },
    {
     "name": "stdout",
     "output_type": "stream",
     "text": [
      "============================================================\n",
      "time elapsed: 0:52:30\n",
      "num of updates: 13900\n",
      "train total loss: 0.07127\n",
      "train state loss: 0.05851\n",
      "train reward loss: 0.01276\n",
      "val total loss: 0.08117\n",
      "val state loss: 0.06301\n",
      "val reward loss: 0.01817\n",
      "saving min loss model at: ./log/dt_halfcheetah_model_24-05-16-00-24-38_best.pt\n",
      "saving current model at: ./log/dt_halfcheetah_model_24-05-16-00-24-38.pt\n"
     ]
    },
    {
     "name": "stderr",
     "output_type": "stream",
     "text": [
      " 70%|███████   | 140/200 [52:55<24:21, 24.36s/it]"
     ]
    },
    {
     "name": "stdout",
     "output_type": "stream",
     "text": [
      "============================================================\n",
      "time elapsed: 0:52:55\n",
      "num of updates: 14000\n",
      "train total loss: 0.07072\n",
      "train state loss: 0.05832\n",
      "train reward loss: 0.01240\n",
      "val total loss: 0.07818\n",
      "val state loss: 0.06132\n",
      "val reward loss: 0.01685\n",
      "saving min loss model at: ./log/dt_halfcheetah_model_24-05-16-00-24-38_best.pt\n",
      "saving current model at: ./log/dt_halfcheetah_model_24-05-16-00-24-38.pt\n"
     ]
    },
    {
     "name": "stderr",
     "output_type": "stream",
     "text": [
      " 70%|███████   | 141/200 [53:19<23:52, 24.28s/it]"
     ]
    },
    {
     "name": "stdout",
     "output_type": "stream",
     "text": [
      "============================================================\n",
      "time elapsed: 0:53:19\n",
      "num of updates: 14100\n",
      "train total loss: 0.06948\n",
      "train state loss: 0.05722\n",
      "train reward loss: 0.01226\n",
      "val total loss: 0.08093\n",
      "val state loss: 0.06327\n",
      "val reward loss: 0.01766\n",
      "saving min loss model at: ./log/dt_halfcheetah_model_24-05-16-00-24-38_best.pt\n",
      "saving current model at: ./log/dt_halfcheetah_model_24-05-16-00-24-38.pt\n"
     ]
    },
    {
     "name": "stderr",
     "output_type": "stream",
     "text": [
      " 71%|███████   | 142/200 [53:41<22:50, 23.62s/it]"
     ]
    },
    {
     "name": "stdout",
     "output_type": "stream",
     "text": [
      "============================================================\n",
      "time elapsed: 0:53:41\n",
      "num of updates: 14200\n",
      "train total loss: 0.06948\n",
      "train state loss: 0.05730\n",
      "train reward loss: 0.01218\n",
      "val total loss: 0.07801\n",
      "val state loss: 0.06307\n",
      "val reward loss: 0.01493\n",
      "saving min loss model at: ./log/dt_halfcheetah_model_24-05-16-00-24-38_best.pt\n",
      "saving current model at: ./log/dt_halfcheetah_model_24-05-16-00-24-38.pt\n"
     ]
    },
    {
     "name": "stderr",
     "output_type": "stream",
     "text": [
      " 72%|███████▏  | 143/200 [54:02<21:48, 22.96s/it]"
     ]
    },
    {
     "name": "stdout",
     "output_type": "stream",
     "text": [
      "============================================================\n",
      "time elapsed: 0:54:03\n",
      "num of updates: 14300\n",
      "train total loss: 0.06944\n",
      "train state loss: 0.05719\n",
      "train reward loss: 0.01225\n",
      "val total loss: 0.07584\n",
      "val state loss: 0.05783\n",
      "val reward loss: 0.01801\n",
      "saving min loss model at: ./log/dt_halfcheetah_model_24-05-16-00-24-38_best.pt\n",
      "saving current model at: ./log/dt_halfcheetah_model_24-05-16-00-24-38.pt\n"
     ]
    },
    {
     "name": "stderr",
     "output_type": "stream",
     "text": [
      " 72%|███████▏  | 144/200 [54:24<21:09, 22.67s/it]"
     ]
    },
    {
     "name": "stdout",
     "output_type": "stream",
     "text": [
      "============================================================\n",
      "time elapsed: 0:54:25\n",
      "num of updates: 14400\n",
      "train total loss: 0.06906\n",
      "train state loss: 0.05698\n",
      "train reward loss: 0.01208\n",
      "val total loss: 0.07275\n",
      "val state loss: 0.05722\n",
      "val reward loss: 0.01553\n",
      "saving min loss model at: ./log/dt_halfcheetah_model_24-05-16-00-24-38_best.pt\n",
      "saving current model at: ./log/dt_halfcheetah_model_24-05-16-00-24-38.pt\n"
     ]
    },
    {
     "name": "stderr",
     "output_type": "stream",
     "text": [
      " 72%|███████▎  | 145/200 [54:47<20:51, 22.75s/it]"
     ]
    },
    {
     "name": "stdout",
     "output_type": "stream",
     "text": [
      "============================================================\n",
      "time elapsed: 0:54:48\n",
      "num of updates: 14500\n",
      "train total loss: 0.06950\n",
      "train state loss: 0.05713\n",
      "train reward loss: 0.01237\n",
      "val total loss: 0.07400\n",
      "val state loss: 0.05704\n",
      "val reward loss: 0.01696\n",
      "saving min loss model at: ./log/dt_halfcheetah_model_24-05-16-00-24-38_best.pt\n",
      "saving current model at: ./log/dt_halfcheetah_model_24-05-16-00-24-38.pt\n"
     ]
    },
    {
     "name": "stderr",
     "output_type": "stream",
     "text": [
      " 73%|███████▎  | 146/200 [55:09<20:17, 22.55s/it]"
     ]
    },
    {
     "name": "stdout",
     "output_type": "stream",
     "text": [
      "============================================================\n",
      "time elapsed: 0:55:10\n",
      "num of updates: 14600\n",
      "train total loss: 0.06968\n",
      "train state loss: 0.05722\n",
      "train reward loss: 0.01246\n",
      "val total loss: 0.08295\n",
      "val state loss: 0.06400\n",
      "val reward loss: 0.01896\n",
      "saving min loss model at: ./log/dt_halfcheetah_model_24-05-16-00-24-38_best.pt\n",
      "saving current model at: ./log/dt_halfcheetah_model_24-05-16-00-24-38.pt\n"
     ]
    },
    {
     "name": "stderr",
     "output_type": "stream",
     "text": [
      " 74%|███████▎  | 147/200 [55:32<19:49, 22.45s/it]"
     ]
    },
    {
     "name": "stdout",
     "output_type": "stream",
     "text": [
      "============================================================\n",
      "time elapsed: 0:55:32\n",
      "num of updates: 14700\n",
      "train total loss: 0.06832\n",
      "train state loss: 0.05641\n",
      "train reward loss: 0.01190\n",
      "val total loss: 0.07273\n",
      "val state loss: 0.05816\n",
      "val reward loss: 0.01457\n",
      "saving min loss model at: ./log/dt_halfcheetah_model_24-05-16-00-24-38_best.pt\n",
      "saving current model at: ./log/dt_halfcheetah_model_24-05-16-00-24-38.pt\n"
     ]
    },
    {
     "name": "stderr",
     "output_type": "stream",
     "text": [
      " 74%|███████▍  | 148/200 [55:55<19:47, 22.83s/it]"
     ]
    },
    {
     "name": "stdout",
     "output_type": "stream",
     "text": [
      "============================================================\n",
      "time elapsed: 0:55:56\n",
      "num of updates: 14800\n",
      "train total loss: 0.06639\n",
      "train state loss: 0.05477\n",
      "train reward loss: 0.01162\n",
      "val total loss: 0.07737\n",
      "val state loss: 0.05923\n",
      "val reward loss: 0.01814\n",
      "saving min loss model at: ./log/dt_halfcheetah_model_24-05-16-00-24-38_best.pt\n",
      "saving current model at: ./log/dt_halfcheetah_model_24-05-16-00-24-38.pt\n"
     ]
    },
    {
     "name": "stderr",
     "output_type": "stream",
     "text": [
      " 74%|███████▍  | 149/200 [56:29<22:09, 26.06s/it]"
     ]
    },
    {
     "name": "stdout",
     "output_type": "stream",
     "text": [
      "============================================================\n",
      "time elapsed: 0:56:29\n",
      "num of updates: 14900\n",
      "train total loss: 0.06664\n",
      "train state loss: 0.05501\n",
      "train reward loss: 0.01164\n",
      "val total loss: 0.07767\n",
      "val state loss: 0.06247\n",
      "val reward loss: 0.01519\n",
      "saving min loss model at: ./log/dt_halfcheetah_model_24-05-16-00-24-38_best.pt\n",
      "saving current model at: ./log/dt_halfcheetah_model_24-05-16-00-24-38.pt\n"
     ]
    },
    {
     "name": "stderr",
     "output_type": "stream",
     "text": [
      " 75%|███████▌  | 150/200 [56:51<20:50, 25.00s/it]"
     ]
    },
    {
     "name": "stdout",
     "output_type": "stream",
     "text": [
      "============================================================\n",
      "time elapsed: 0:56:52\n",
      "num of updates: 15000\n",
      "train total loss: 0.06751\n",
      "train state loss: 0.05571\n",
      "train reward loss: 0.01180\n",
      "val total loss: 0.07652\n",
      "val state loss: 0.05784\n",
      "val reward loss: 0.01867\n",
      "saving min loss model at: ./log/dt_halfcheetah_model_24-05-16-00-24-38_best.pt\n",
      "saving current model at: ./log/dt_halfcheetah_model_24-05-16-00-24-38.pt\n"
     ]
    },
    {
     "name": "stderr",
     "output_type": "stream",
     "text": [
      " 76%|███████▌  | 151/200 [57:13<19:35, 23.99s/it]"
     ]
    },
    {
     "name": "stdout",
     "output_type": "stream",
     "text": [
      "============================================================\n",
      "time elapsed: 0:57:13\n",
      "num of updates: 15100\n",
      "train total loss: 0.06573\n",
      "train state loss: 0.05430\n",
      "train reward loss: 0.01143\n",
      "val total loss: 0.07592\n",
      "val state loss: 0.05662\n",
      "val reward loss: 0.01930\n",
      "saving min loss model at: ./log/dt_halfcheetah_model_24-05-16-00-24-38_best.pt\n",
      "saving current model at: ./log/dt_halfcheetah_model_24-05-16-00-24-38.pt\n"
     ]
    },
    {
     "name": "stderr",
     "output_type": "stream",
     "text": [
      " 76%|███████▌  | 152/200 [57:36<18:51, 23.58s/it]"
     ]
    },
    {
     "name": "stdout",
     "output_type": "stream",
     "text": [
      "============================================================\n",
      "time elapsed: 0:57:36\n",
      "num of updates: 15200\n",
      "train total loss: 0.06620\n",
      "train state loss: 0.05421\n",
      "train reward loss: 0.01198\n",
      "val total loss: 0.08409\n",
      "val state loss: 0.06134\n",
      "val reward loss: 0.02275\n",
      "saving min loss model at: ./log/dt_halfcheetah_model_24-05-16-00-24-38_best.pt\n",
      "saving current model at: ./log/dt_halfcheetah_model_24-05-16-00-24-38.pt\n"
     ]
    },
    {
     "name": "stderr",
     "output_type": "stream",
     "text": [
      " 76%|███████▋  | 153/200 [57:59<18:23, 23.48s/it]"
     ]
    },
    {
     "name": "stdout",
     "output_type": "stream",
     "text": [
      "============================================================\n",
      "time elapsed: 0:57:59\n",
      "num of updates: 15300\n",
      "train total loss: 0.06662\n",
      "train state loss: 0.05493\n",
      "train reward loss: 0.01169\n",
      "val total loss: 0.07292\n",
      "val state loss: 0.05559\n",
      "val reward loss: 0.01732\n",
      "saving min loss model at: ./log/dt_halfcheetah_model_24-05-16-00-24-38_best.pt\n",
      "saving current model at: ./log/dt_halfcheetah_model_24-05-16-00-24-38.pt\n"
     ]
    },
    {
     "name": "stderr",
     "output_type": "stream",
     "text": [
      " 77%|███████▋  | 154/200 [58:21<17:47, 23.21s/it]"
     ]
    },
    {
     "name": "stdout",
     "output_type": "stream",
     "text": [
      "============================================================\n",
      "time elapsed: 0:58:22\n",
      "num of updates: 15400\n",
      "train total loss: 0.06543\n",
      "train state loss: 0.05393\n",
      "train reward loss: 0.01150\n",
      "val total loss: 0.07388\n",
      "val state loss: 0.05489\n",
      "val reward loss: 0.01899\n",
      "saving min loss model at: ./log/dt_halfcheetah_model_24-05-16-00-24-38_best.pt\n",
      "saving current model at: ./log/dt_halfcheetah_model_24-05-16-00-24-38.pt\n"
     ]
    },
    {
     "name": "stderr",
     "output_type": "stream",
     "text": [
      " 78%|███████▊  | 155/200 [58:44<17:16, 23.03s/it]"
     ]
    },
    {
     "name": "stdout",
     "output_type": "stream",
     "text": [
      "============================================================\n",
      "time elapsed: 0:58:44\n",
      "num of updates: 15500\n",
      "train total loss: 0.06503\n",
      "train state loss: 0.05360\n",
      "train reward loss: 0.01143\n",
      "val total loss: 0.07229\n",
      "val state loss: 0.05658\n",
      "val reward loss: 0.01571\n",
      "saving min loss model at: ./log/dt_halfcheetah_model_24-05-16-00-24-38_best.pt\n",
      "saving current model at: ./log/dt_halfcheetah_model_24-05-16-00-24-38.pt\n"
     ]
    },
    {
     "name": "stderr",
     "output_type": "stream",
     "text": [
      " 78%|███████▊  | 156/200 [59:06<16:40, 22.74s/it]"
     ]
    },
    {
     "name": "stdout",
     "output_type": "stream",
     "text": [
      "============================================================\n",
      "time elapsed: 0:59:06\n",
      "num of updates: 15600\n",
      "train total loss: 0.06492\n",
      "train state loss: 0.05352\n",
      "train reward loss: 0.01139\n",
      "val total loss: 0.07493\n",
      "val state loss: 0.05981\n",
      "val reward loss: 0.01513\n",
      "saving min loss model at: ./log/dt_halfcheetah_model_24-05-16-00-24-38_best.pt\n",
      "saving current model at: ./log/dt_halfcheetah_model_24-05-16-00-24-38.pt\n"
     ]
    },
    {
     "name": "stderr",
     "output_type": "stream",
     "text": [
      " 78%|███████▊  | 157/200 [59:30<16:25, 22.92s/it]"
     ]
    },
    {
     "name": "stdout",
     "output_type": "stream",
     "text": [
      "============================================================\n",
      "time elapsed: 0:59:30\n",
      "num of updates: 15700\n",
      "train total loss: 0.06352\n",
      "train state loss: 0.05269\n",
      "train reward loss: 0.01083\n",
      "val total loss: 0.07485\n",
      "val state loss: 0.05715\n",
      "val reward loss: 0.01770\n",
      "saving min loss model at: ./log/dt_halfcheetah_model_24-05-16-00-24-38_best.pt\n",
      "saving current model at: ./log/dt_halfcheetah_model_24-05-16-00-24-38.pt\n"
     ]
    },
    {
     "name": "stderr",
     "output_type": "stream",
     "text": [
      " 79%|███████▉  | 158/200 [59:53<16:11, 23.13s/it]"
     ]
    },
    {
     "name": "stdout",
     "output_type": "stream",
     "text": [
      "============================================================\n",
      "time elapsed: 0:59:53\n",
      "num of updates: 15800\n",
      "train total loss: 0.06392\n",
      "train state loss: 0.05268\n",
      "train reward loss: 0.01124\n",
      "val total loss: 0.07592\n",
      "val state loss: 0.05621\n",
      "val reward loss: 0.01971\n",
      "saving min loss model at: ./log/dt_halfcheetah_model_24-05-16-00-24-38_best.pt\n",
      "saving current model at: ./log/dt_halfcheetah_model_24-05-16-00-24-38.pt\n"
     ]
    },
    {
     "name": "stderr",
     "output_type": "stream",
     "text": [
      " 80%|███████▉  | 159/200 [1:00:15<15:27, 22.62s/it]"
     ]
    },
    {
     "name": "stdout",
     "output_type": "stream",
     "text": [
      "============================================================\n",
      "time elapsed: 1:00:15\n",
      "num of updates: 15900\n",
      "train total loss: 0.06375\n",
      "train state loss: 0.05268\n",
      "train reward loss: 0.01108\n",
      "val total loss: 0.06838\n",
      "val state loss: 0.05563\n",
      "val reward loss: 0.01276\n",
      "saving min loss model at: ./log/dt_halfcheetah_model_24-05-16-00-24-38_best.pt\n",
      "saving current model at: ./log/dt_halfcheetah_model_24-05-16-00-24-38.pt\n"
     ]
    },
    {
     "name": "stderr",
     "output_type": "stream",
     "text": [
      " 80%|████████  | 160/200 [1:00:37<15:00, 22.52s/it]"
     ]
    },
    {
     "name": "stdout",
     "output_type": "stream",
     "text": [
      "============================================================\n",
      "time elapsed: 1:00:37\n",
      "num of updates: 16000\n",
      "train total loss: 0.06405\n",
      "train state loss: 0.05281\n",
      "train reward loss: 0.01124\n",
      "val total loss: 0.08044\n",
      "val state loss: 0.05996\n",
      "val reward loss: 0.02049\n",
      "saving min loss model at: ./log/dt_halfcheetah_model_24-05-16-00-24-38_best.pt\n",
      "saving current model at: ./log/dt_halfcheetah_model_24-05-16-00-24-38.pt\n"
     ]
    },
    {
     "name": "stderr",
     "output_type": "stream",
     "text": [
      " 80%|████████  | 161/200 [1:00:59<14:38, 22.53s/it]"
     ]
    },
    {
     "name": "stdout",
     "output_type": "stream",
     "text": [
      "============================================================\n",
      "time elapsed: 1:01:00\n",
      "num of updates: 16100\n",
      "train total loss: 0.06266\n",
      "train state loss: 0.05183\n",
      "train reward loss: 0.01083\n",
      "val total loss: 0.07925\n",
      "val state loss: 0.05917\n",
      "val reward loss: 0.02008\n",
      "saving min loss model at: ./log/dt_halfcheetah_model_24-05-16-00-24-38_best.pt\n",
      "saving current model at: ./log/dt_halfcheetah_model_24-05-16-00-24-38.pt\n"
     ]
    },
    {
     "name": "stderr",
     "output_type": "stream",
     "text": [
      " 81%|████████  | 162/200 [1:01:23<14:24, 22.76s/it]"
     ]
    },
    {
     "name": "stdout",
     "output_type": "stream",
     "text": [
      "============================================================\n",
      "time elapsed: 1:01:23\n",
      "num of updates: 16200\n",
      "train total loss: 0.06228\n",
      "train state loss: 0.05141\n",
      "train reward loss: 0.01086\n",
      "val total loss: 0.07641\n",
      "val state loss: 0.05614\n",
      "val reward loss: 0.02027\n",
      "saving min loss model at: ./log/dt_halfcheetah_model_24-05-16-00-24-38_best.pt\n",
      "saving current model at: ./log/dt_halfcheetah_model_24-05-16-00-24-38.pt\n"
     ]
    },
    {
     "name": "stderr",
     "output_type": "stream",
     "text": [
      " 82%|████████▏ | 163/200 [1:01:45<13:54, 22.56s/it]"
     ]
    },
    {
     "name": "stdout",
     "output_type": "stream",
     "text": [
      "============================================================\n",
      "time elapsed: 1:01:45\n",
      "num of updates: 16300\n",
      "train total loss: 0.06219\n",
      "train state loss: 0.05152\n",
      "train reward loss: 0.01067\n",
      "val total loss: 0.07014\n",
      "val state loss: 0.05407\n",
      "val reward loss: 0.01607\n",
      "saving min loss model at: ./log/dt_halfcheetah_model_24-05-16-00-24-38_best.pt\n",
      "saving current model at: ./log/dt_halfcheetah_model_24-05-16-00-24-38.pt\n"
     ]
    },
    {
     "name": "stderr",
     "output_type": "stream",
     "text": [
      " 82%|████████▏ | 164/200 [1:02:06<13:22, 22.29s/it]"
     ]
    },
    {
     "name": "stdout",
     "output_type": "stream",
     "text": [
      "============================================================\n",
      "time elapsed: 1:02:07\n",
      "num of updates: 16400\n",
      "train total loss: 0.06275\n",
      "train state loss: 0.05164\n",
      "train reward loss: 0.01110\n",
      "val total loss: 0.07389\n",
      "val state loss: 0.05533\n",
      "val reward loss: 0.01856\n",
      "saving min loss model at: ./log/dt_halfcheetah_model_24-05-16-00-24-38_best.pt\n",
      "saving current model at: ./log/dt_halfcheetah_model_24-05-16-00-24-38.pt\n"
     ]
    },
    {
     "name": "stderr",
     "output_type": "stream",
     "text": [
      " 82%|████████▎ | 165/200 [1:02:29<12:59, 22.26s/it]"
     ]
    },
    {
     "name": "stdout",
     "output_type": "stream",
     "text": [
      "============================================================\n",
      "time elapsed: 1:02:29\n",
      "num of updates: 16500\n",
      "train total loss: 0.06176\n",
      "train state loss: 0.05111\n",
      "train reward loss: 0.01065\n",
      "val total loss: 0.07162\n",
      "val state loss: 0.05480\n",
      "val reward loss: 0.01681\n",
      "saving min loss model at: ./log/dt_halfcheetah_model_24-05-16-00-24-38_best.pt\n",
      "saving current model at: ./log/dt_halfcheetah_model_24-05-16-00-24-38.pt\n"
     ]
    },
    {
     "name": "stderr",
     "output_type": "stream",
     "text": [
      " 83%|████████▎ | 166/200 [1:02:51<12:40, 22.37s/it]"
     ]
    },
    {
     "name": "stdout",
     "output_type": "stream",
     "text": [
      "============================================================\n",
      "time elapsed: 1:02:52\n",
      "num of updates: 16600\n",
      "train total loss: 0.06216\n",
      "train state loss: 0.05140\n",
      "train reward loss: 0.01076\n",
      "val total loss: 0.07551\n",
      "val state loss: 0.05485\n",
      "val reward loss: 0.02066\n",
      "saving min loss model at: ./log/dt_halfcheetah_model_24-05-16-00-24-38_best.pt\n",
      "saving current model at: ./log/dt_halfcheetah_model_24-05-16-00-24-38.pt\n"
     ]
    },
    {
     "name": "stderr",
     "output_type": "stream",
     "text": [
      " 84%|████████▎ | 167/200 [1:03:14<12:26, 22.62s/it]"
     ]
    },
    {
     "name": "stdout",
     "output_type": "stream",
     "text": [
      "============================================================\n",
      "time elapsed: 1:03:15\n",
      "num of updates: 16700\n",
      "train total loss: 0.06125\n",
      "train state loss: 0.05057\n",
      "train reward loss: 0.01068\n",
      "val total loss: 0.07257\n",
      "val state loss: 0.05543\n",
      "val reward loss: 0.01714\n",
      "saving min loss model at: ./log/dt_halfcheetah_model_24-05-16-00-24-38_best.pt\n",
      "saving current model at: ./log/dt_halfcheetah_model_24-05-16-00-24-38.pt\n"
     ]
    },
    {
     "name": "stderr",
     "output_type": "stream",
     "text": [
      " 84%|████████▍ | 168/200 [1:03:37<12:03, 22.62s/it]"
     ]
    },
    {
     "name": "stdout",
     "output_type": "stream",
     "text": [
      "============================================================\n",
      "time elapsed: 1:03:37\n",
      "num of updates: 16800\n",
      "train total loss: 0.05972\n",
      "train state loss: 0.04947\n",
      "train reward loss: 0.01026\n",
      "val total loss: 0.07448\n",
      "val state loss: 0.05492\n",
      "val reward loss: 0.01956\n",
      "saving min loss model at: ./log/dt_halfcheetah_model_24-05-16-00-24-38_best.pt\n",
      "saving current model at: ./log/dt_halfcheetah_model_24-05-16-00-24-38.pt\n"
     ]
    },
    {
     "name": "stderr",
     "output_type": "stream",
     "text": [
      " 84%|████████▍ | 169/200 [1:03:59<11:33, 22.37s/it]"
     ]
    },
    {
     "name": "stdout",
     "output_type": "stream",
     "text": [
      "============================================================\n",
      "time elapsed: 1:03:59\n",
      "num of updates: 16900\n",
      "train total loss: 0.06203\n",
      "train state loss: 0.05116\n",
      "train reward loss: 0.01086\n",
      "val total loss: 0.07685\n",
      "val state loss: 0.05731\n",
      "val reward loss: 0.01954\n",
      "saving min loss model at: ./log/dt_halfcheetah_model_24-05-16-00-24-38_best.pt\n",
      "saving current model at: ./log/dt_halfcheetah_model_24-05-16-00-24-38.pt\n"
     ]
    },
    {
     "name": "stderr",
     "output_type": "stream",
     "text": [
      " 85%|████████▌ | 170/200 [1:04:20<11:02, 22.10s/it]"
     ]
    },
    {
     "name": "stdout",
     "output_type": "stream",
     "text": [
      "============================================================\n",
      "time elapsed: 1:04:21\n",
      "num of updates: 17000\n",
      "train total loss: 0.06004\n",
      "train state loss: 0.04965\n",
      "train reward loss: 0.01038\n",
      "val total loss: 0.07735\n",
      "val state loss: 0.05640\n",
      "val reward loss: 0.02095\n",
      "saving min loss model at: ./log/dt_halfcheetah_model_24-05-16-00-24-38_best.pt\n",
      "saving current model at: ./log/dt_halfcheetah_model_24-05-16-00-24-38.pt\n"
     ]
    },
    {
     "name": "stderr",
     "output_type": "stream",
     "text": [
      " 86%|████████▌ | 171/200 [1:04:43<10:41, 22.12s/it]"
     ]
    },
    {
     "name": "stdout",
     "output_type": "stream",
     "text": [
      "============================================================\n",
      "time elapsed: 1:04:43\n",
      "num of updates: 17100\n",
      "train total loss: 0.06008\n",
      "train state loss: 0.04976\n",
      "train reward loss: 0.01032\n",
      "val total loss: 0.07594\n",
      "val state loss: 0.05599\n",
      "val reward loss: 0.01995\n",
      "saving min loss model at: ./log/dt_halfcheetah_model_24-05-16-00-24-38_best.pt\n",
      "saving current model at: ./log/dt_halfcheetah_model_24-05-16-00-24-38.pt\n"
     ]
    },
    {
     "name": "stderr",
     "output_type": "stream",
     "text": [
      " 86%|████████▌ | 172/200 [1:05:06<10:29, 22.50s/it]"
     ]
    },
    {
     "name": "stdout",
     "output_type": "stream",
     "text": [
      "============================================================\n",
      "time elapsed: 1:05:06\n",
      "num of updates: 17200\n",
      "train total loss: 0.06006\n",
      "train state loss: 0.04967\n",
      "train reward loss: 0.01040\n",
      "val total loss: 0.07361\n",
      "val state loss: 0.05532\n",
      "val reward loss: 0.01830\n",
      "saving min loss model at: ./log/dt_halfcheetah_model_24-05-16-00-24-38_best.pt\n",
      "saving current model at: ./log/dt_halfcheetah_model_24-05-16-00-24-38.pt\n"
     ]
    },
    {
     "name": "stderr",
     "output_type": "stream",
     "text": [
      " 86%|████████▋ | 173/200 [1:05:30<10:17, 22.89s/it]"
     ]
    },
    {
     "name": "stdout",
     "output_type": "stream",
     "text": [
      "============================================================\n",
      "time elapsed: 1:05:30\n",
      "num of updates: 17300\n",
      "train total loss: 0.06074\n",
      "train state loss: 0.04999\n",
      "train reward loss: 0.01075\n",
      "val total loss: 0.07656\n",
      "val state loss: 0.05746\n",
      "val reward loss: 0.01910\n",
      "saving min loss model at: ./log/dt_halfcheetah_model_24-05-16-00-24-38_best.pt\n",
      "saving current model at: ./log/dt_halfcheetah_model_24-05-16-00-24-38.pt\n"
     ]
    },
    {
     "name": "stderr",
     "output_type": "stream",
     "text": [
      " 87%|████████▋ | 174/200 [1:05:52<09:54, 22.85s/it]"
     ]
    },
    {
     "name": "stdout",
     "output_type": "stream",
     "text": [
      "============================================================\n",
      "time elapsed: 1:05:53\n",
      "num of updates: 17400\n",
      "train total loss: 0.05948\n",
      "train state loss: 0.04911\n",
      "train reward loss: 0.01036\n",
      "val total loss: 0.07532\n",
      "val state loss: 0.05759\n",
      "val reward loss: 0.01773\n",
      "saving min loss model at: ./log/dt_halfcheetah_model_24-05-16-00-24-38_best.pt\n",
      "saving current model at: ./log/dt_halfcheetah_model_24-05-16-00-24-38.pt\n"
     ]
    },
    {
     "name": "stderr",
     "output_type": "stream",
     "text": [
      " 88%|████████▊ | 175/200 [1:06:13<09:16, 22.28s/it]"
     ]
    },
    {
     "name": "stdout",
     "output_type": "stream",
     "text": [
      "============================================================\n",
      "time elapsed: 1:06:14\n",
      "num of updates: 17500\n",
      "train total loss: 0.05976\n",
      "train state loss: 0.04942\n",
      "train reward loss: 0.01034\n",
      "val total loss: 0.07851\n",
      "val state loss: 0.05509\n",
      "val reward loss: 0.02342\n",
      "saving min loss model at: ./log/dt_halfcheetah_model_24-05-16-00-24-38_best.pt\n",
      "saving current model at: ./log/dt_halfcheetah_model_24-05-16-00-24-38.pt\n"
     ]
    },
    {
     "name": "stderr",
     "output_type": "stream",
     "text": [
      " 88%|████████▊ | 176/200 [1:06:35<08:48, 22.03s/it]"
     ]
    },
    {
     "name": "stdout",
     "output_type": "stream",
     "text": [
      "============================================================\n",
      "time elapsed: 1:06:35\n",
      "num of updates: 17600\n",
      "train total loss: 0.05908\n",
      "train state loss: 0.04877\n",
      "train reward loss: 0.01031\n",
      "val total loss: 0.07260\n",
      "val state loss: 0.05594\n",
      "val reward loss: 0.01666\n",
      "saving min loss model at: ./log/dt_halfcheetah_model_24-05-16-00-24-38_best.pt\n",
      "saving current model at: ./log/dt_halfcheetah_model_24-05-16-00-24-38.pt\n"
     ]
    },
    {
     "name": "stderr",
     "output_type": "stream",
     "text": [
      " 88%|████████▊ | 177/200 [1:06:58<08:31, 22.24s/it]"
     ]
    },
    {
     "name": "stdout",
     "output_type": "stream",
     "text": [
      "============================================================\n",
      "time elapsed: 1:06:58\n",
      "num of updates: 17700\n",
      "train total loss: 0.05866\n",
      "train state loss: 0.04839\n",
      "train reward loss: 0.01027\n",
      "val total loss: 0.07348\n",
      "val state loss: 0.05480\n",
      "val reward loss: 0.01868\n",
      "saving min loss model at: ./log/dt_halfcheetah_model_24-05-16-00-24-38_best.pt\n",
      "saving current model at: ./log/dt_halfcheetah_model_24-05-16-00-24-38.pt\n"
     ]
    },
    {
     "name": "stderr",
     "output_type": "stream",
     "text": [
      " 89%|████████▉ | 178/200 [1:07:20<08:11, 22.35s/it]"
     ]
    },
    {
     "name": "stdout",
     "output_type": "stream",
     "text": [
      "============================================================\n",
      "time elapsed: 1:07:20\n",
      "num of updates: 17800\n",
      "train total loss: 0.05860\n",
      "train state loss: 0.04819\n",
      "train reward loss: 0.01041\n",
      "val total loss: 0.07954\n",
      "val state loss: 0.05703\n",
      "val reward loss: 0.02251\n",
      "saving min loss model at: ./log/dt_halfcheetah_model_24-05-16-00-24-38_best.pt\n",
      "saving current model at: ./log/dt_halfcheetah_model_24-05-16-00-24-38.pt\n"
     ]
    },
    {
     "name": "stderr",
     "output_type": "stream",
     "text": [
      " 90%|████████▉ | 179/200 [1:07:45<08:06, 23.17s/it]"
     ]
    },
    {
     "name": "stdout",
     "output_type": "stream",
     "text": [
      "============================================================\n",
      "time elapsed: 1:07:46\n",
      "num of updates: 17900\n",
      "train total loss: 0.05858\n",
      "train state loss: 0.04838\n",
      "train reward loss: 0.01021\n",
      "val total loss: 0.07584\n",
      "val state loss: 0.05479\n",
      "val reward loss: 0.02106\n",
      "saving min loss model at: ./log/dt_halfcheetah_model_24-05-16-00-24-38_best.pt\n",
      "saving current model at: ./log/dt_halfcheetah_model_24-05-16-00-24-38.pt\n"
     ]
    },
    {
     "name": "stderr",
     "output_type": "stream",
     "text": [
      " 90%|█████████ | 180/200 [1:08:11<07:58, 23.93s/it]"
     ]
    },
    {
     "name": "stdout",
     "output_type": "stream",
     "text": [
      "============================================================\n",
      "time elapsed: 1:08:11\n",
      "num of updates: 18000\n",
      "train total loss: 0.05835\n",
      "train state loss: 0.04842\n",
      "train reward loss: 0.00993\n",
      "val total loss: 0.07325\n",
      "val state loss: 0.05506\n",
      "val reward loss: 0.01819\n",
      "saving min loss model at: ./log/dt_halfcheetah_model_24-05-16-00-24-38_best.pt\n",
      "saving current model at: ./log/dt_halfcheetah_model_24-05-16-00-24-38.pt\n"
     ]
    },
    {
     "name": "stderr",
     "output_type": "stream",
     "text": [
      " 90%|█████████ | 181/200 [1:08:34<07:30, 23.69s/it]"
     ]
    },
    {
     "name": "stdout",
     "output_type": "stream",
     "text": [
      "============================================================\n",
      "time elapsed: 1:08:34\n",
      "num of updates: 18100\n",
      "train total loss: 0.05725\n",
      "train state loss: 0.04740\n",
      "train reward loss: 0.00985\n",
      "val total loss: 0.07405\n",
      "val state loss: 0.05412\n",
      "val reward loss: 0.01993\n",
      "saving min loss model at: ./log/dt_halfcheetah_model_24-05-16-00-24-38_best.pt\n",
      "saving current model at: ./log/dt_halfcheetah_model_24-05-16-00-24-38.pt\n"
     ]
    },
    {
     "name": "stderr",
     "output_type": "stream",
     "text": [
      " 91%|█████████ | 182/200 [1:08:57<06:59, 23.32s/it]"
     ]
    },
    {
     "name": "stdout",
     "output_type": "stream",
     "text": [
      "============================================================\n",
      "time elapsed: 1:08:57\n",
      "num of updates: 18200\n",
      "train total loss: 0.05803\n",
      "train state loss: 0.04788\n",
      "train reward loss: 0.01015\n",
      "val total loss: 0.07071\n",
      "val state loss: 0.05430\n",
      "val reward loss: 0.01641\n",
      "saving min loss model at: ./log/dt_halfcheetah_model_24-05-16-00-24-38_best.pt\n",
      "saving current model at: ./log/dt_halfcheetah_model_24-05-16-00-24-38.pt\n"
     ]
    },
    {
     "name": "stderr",
     "output_type": "stream",
     "text": [
      " 92%|█████████▏| 183/200 [1:09:19<06:33, 23.13s/it]"
     ]
    },
    {
     "name": "stdout",
     "output_type": "stream",
     "text": [
      "============================================================\n",
      "time elapsed: 1:09:20\n",
      "num of updates: 18300\n",
      "train total loss: 0.05729\n",
      "train state loss: 0.04729\n",
      "train reward loss: 0.01000\n",
      "val total loss: 0.07291\n",
      "val state loss: 0.05488\n",
      "val reward loss: 0.01804\n",
      "saving min loss model at: ./log/dt_halfcheetah_model_24-05-16-00-24-38_best.pt\n",
      "saving current model at: ./log/dt_halfcheetah_model_24-05-16-00-24-38.pt\n"
     ]
    },
    {
     "name": "stderr",
     "output_type": "stream",
     "text": [
      " 92%|█████████▏| 184/200 [1:09:40<05:58, 22.43s/it]"
     ]
    },
    {
     "name": "stdout",
     "output_type": "stream",
     "text": [
      "============================================================\n",
      "time elapsed: 1:09:40\n",
      "num of updates: 18400\n",
      "train total loss: 0.05674\n",
      "train state loss: 0.04712\n",
      "train reward loss: 0.00962\n",
      "val total loss: 0.07365\n",
      "val state loss: 0.05349\n",
      "val reward loss: 0.02016\n",
      "saving min loss model at: ./log/dt_halfcheetah_model_24-05-16-00-24-38_best.pt\n",
      "saving current model at: ./log/dt_halfcheetah_model_24-05-16-00-24-38.pt\n"
     ]
    },
    {
     "name": "stderr",
     "output_type": "stream",
     "text": [
      " 92%|█████████▎| 185/200 [1:10:03<05:38, 22.59s/it]"
     ]
    },
    {
     "name": "stdout",
     "output_type": "stream",
     "text": [
      "============================================================\n",
      "time elapsed: 1:10:03\n",
      "num of updates: 18500\n",
      "train total loss: 0.05746\n",
      "train state loss: 0.04753\n",
      "train reward loss: 0.00993\n",
      "val total loss: 0.06863\n",
      "val state loss: 0.05248\n",
      "val reward loss: 0.01615\n",
      "saving min loss model at: ./log/dt_halfcheetah_model_24-05-16-00-24-38_best.pt\n",
      "saving current model at: ./log/dt_halfcheetah_model_24-05-16-00-24-38.pt\n"
     ]
    },
    {
     "name": "stderr",
     "output_type": "stream",
     "text": [
      " 93%|█████████▎| 186/200 [1:10:25<05:14, 22.44s/it]"
     ]
    },
    {
     "name": "stdout",
     "output_type": "stream",
     "text": [
      "============================================================\n",
      "time elapsed: 1:10:25\n",
      "num of updates: 18600\n",
      "train total loss: 0.05631\n",
      "train state loss: 0.04672\n",
      "train reward loss: 0.00959\n",
      "val total loss: 0.07421\n",
      "val state loss: 0.05487\n",
      "val reward loss: 0.01934\n",
      "saving min loss model at: ./log/dt_halfcheetah_model_24-05-16-00-24-38_best.pt\n",
      "saving current model at: ./log/dt_halfcheetah_model_24-05-16-00-24-38.pt\n"
     ]
    },
    {
     "name": "stderr",
     "output_type": "stream",
     "text": [
      " 94%|█████████▎| 187/200 [1:10:51<05:04, 23.42s/it]"
     ]
    },
    {
     "name": "stdout",
     "output_type": "stream",
     "text": [
      "============================================================\n",
      "time elapsed: 1:10:51\n",
      "num of updates: 18700\n",
      "train total loss: 0.05659\n",
      "train state loss: 0.04684\n",
      "train reward loss: 0.00974\n",
      "val total loss: 0.06439\n",
      "val state loss: 0.05025\n",
      "val reward loss: 0.01414\n",
      "saving min loss model at: ./log/dt_halfcheetah_model_24-05-16-00-24-38_best.pt\n",
      "saving current model at: ./log/dt_halfcheetah_model_24-05-16-00-24-38.pt\n"
     ]
    },
    {
     "name": "stderr",
     "output_type": "stream",
     "text": [
      " 94%|█████████▍| 188/200 [1:11:13<04:37, 23.11s/it]"
     ]
    },
    {
     "name": "stdout",
     "output_type": "stream",
     "text": [
      "============================================================\n",
      "time elapsed: 1:11:13\n",
      "num of updates: 18800\n",
      "train total loss: 0.05688\n",
      "train state loss: 0.04691\n",
      "train reward loss: 0.00997\n",
      "val total loss: 0.06586\n",
      "val state loss: 0.05326\n",
      "val reward loss: 0.01259\n",
      "saving min loss model at: ./log/dt_halfcheetah_model_24-05-16-00-24-38_best.pt\n",
      "saving current model at: ./log/dt_halfcheetah_model_24-05-16-00-24-38.pt\n"
     ]
    },
    {
     "name": "stderr",
     "output_type": "stream",
     "text": [
      " 94%|█████████▍| 189/200 [1:11:35<04:08, 22.57s/it]"
     ]
    },
    {
     "name": "stdout",
     "output_type": "stream",
     "text": [
      "============================================================\n",
      "time elapsed: 1:11:35\n",
      "num of updates: 18900\n",
      "train total loss: 0.05600\n",
      "train state loss: 0.04629\n",
      "train reward loss: 0.00971\n",
      "val total loss: 0.07283\n",
      "val state loss: 0.05416\n",
      "val reward loss: 0.01868\n",
      "saving min loss model at: ./log/dt_halfcheetah_model_24-05-16-00-24-38_best.pt\n",
      "saving current model at: ./log/dt_halfcheetah_model_24-05-16-00-24-38.pt\n"
     ]
    },
    {
     "name": "stderr",
     "output_type": "stream",
     "text": [
      " 95%|█████████▌| 190/200 [1:12:03<04:02, 24.30s/it]"
     ]
    },
    {
     "name": "stdout",
     "output_type": "stream",
     "text": [
      "============================================================\n",
      "time elapsed: 1:12:03\n",
      "num of updates: 19000\n",
      "train total loss: 0.05562\n",
      "train state loss: 0.04603\n",
      "train reward loss: 0.00959\n",
      "val total loss: 0.06495\n",
      "val state loss: 0.05057\n",
      "val reward loss: 0.01438\n",
      "saving min loss model at: ./log/dt_halfcheetah_model_24-05-16-00-24-38_best.pt\n",
      "saving current model at: ./log/dt_halfcheetah_model_24-05-16-00-24-38.pt\n"
     ]
    },
    {
     "name": "stderr",
     "output_type": "stream",
     "text": [
      " 96%|█████████▌| 191/200 [1:12:27<03:38, 24.25s/it]"
     ]
    },
    {
     "name": "stdout",
     "output_type": "stream",
     "text": [
      "============================================================\n",
      "time elapsed: 1:12:27\n",
      "num of updates: 19100\n",
      "train total loss: 0.05536\n",
      "train state loss: 0.04575\n",
      "train reward loss: 0.00961\n",
      "val total loss: 0.07102\n",
      "val state loss: 0.05379\n",
      "val reward loss: 0.01722\n",
      "saving min loss model at: ./log/dt_halfcheetah_model_24-05-16-00-24-38_best.pt\n",
      "saving current model at: ./log/dt_halfcheetah_model_24-05-16-00-24-38.pt\n"
     ]
    },
    {
     "name": "stderr",
     "output_type": "stream",
     "text": [
      " 96%|█████████▌| 192/200 [1:12:49<03:09, 23.65s/it]"
     ]
    },
    {
     "name": "stdout",
     "output_type": "stream",
     "text": [
      "============================================================\n",
      "time elapsed: 1:12:49\n",
      "num of updates: 19200\n",
      "train total loss: 0.05600\n",
      "train state loss: 0.04610\n",
      "train reward loss: 0.00991\n",
      "val total loss: 0.06906\n",
      "val state loss: 0.05085\n",
      "val reward loss: 0.01821\n",
      "saving min loss model at: ./log/dt_halfcheetah_model_24-05-16-00-24-38_best.pt\n",
      "saving current model at: ./log/dt_halfcheetah_model_24-05-16-00-24-38.pt\n"
     ]
    },
    {
     "name": "stderr",
     "output_type": "stream",
     "text": [
      " 96%|█████████▋| 193/200 [1:13:11<02:42, 23.15s/it]"
     ]
    },
    {
     "name": "stdout",
     "output_type": "stream",
     "text": [
      "============================================================\n",
      "time elapsed: 1:13:11\n",
      "num of updates: 19300\n",
      "train total loss: 0.05564\n",
      "train state loss: 0.04598\n",
      "train reward loss: 0.00966\n",
      "val total loss: 0.07429\n",
      "val state loss: 0.05517\n",
      "val reward loss: 0.01913\n",
      "saving min loss model at: ./log/dt_halfcheetah_model_24-05-16-00-24-38_best.pt\n",
      "saving current model at: ./log/dt_halfcheetah_model_24-05-16-00-24-38.pt\n"
     ]
    },
    {
     "name": "stderr",
     "output_type": "stream",
     "text": [
      " 97%|█████████▋| 194/200 [1:13:32<02:14, 22.44s/it]"
     ]
    },
    {
     "name": "stdout",
     "output_type": "stream",
     "text": [
      "============================================================\n",
      "time elapsed: 1:13:32\n",
      "num of updates: 19400\n",
      "train total loss: 0.05496\n",
      "train state loss: 0.04554\n",
      "train reward loss: 0.00942\n",
      "val total loss: 0.06843\n",
      "val state loss: 0.05024\n",
      "val reward loss: 0.01820\n",
      "saving min loss model at: ./log/dt_halfcheetah_model_24-05-16-00-24-38_best.pt\n",
      "saving current model at: ./log/dt_halfcheetah_model_24-05-16-00-24-38.pt\n"
     ]
    },
    {
     "name": "stderr",
     "output_type": "stream",
     "text": [
      " 98%|█████████▊| 195/200 [1:13:52<01:48, 21.68s/it]"
     ]
    },
    {
     "name": "stdout",
     "output_type": "stream",
     "text": [
      "============================================================\n",
      "time elapsed: 1:13:52\n",
      "num of updates: 19500\n",
      "train total loss: 0.05444\n",
      "train state loss: 0.04502\n",
      "train reward loss: 0.00942\n",
      "val total loss: 0.07400\n",
      "val state loss: 0.05493\n",
      "val reward loss: 0.01907\n",
      "saving min loss model at: ./log/dt_halfcheetah_model_24-05-16-00-24-38_best.pt\n",
      "saving current model at: ./log/dt_halfcheetah_model_24-05-16-00-24-38.pt\n"
     ]
    },
    {
     "name": "stderr",
     "output_type": "stream",
     "text": [
      " 98%|█████████▊| 196/200 [1:14:14<01:26, 21.74s/it]"
     ]
    },
    {
     "name": "stdout",
     "output_type": "stream",
     "text": [
      "============================================================\n",
      "time elapsed: 1:14:14\n",
      "num of updates: 19600\n",
      "train total loss: 0.05414\n",
      "train state loss: 0.04476\n",
      "train reward loss: 0.00938\n",
      "val total loss: 0.07191\n",
      "val state loss: 0.05266\n",
      "val reward loss: 0.01925\n",
      "saving min loss model at: ./log/dt_halfcheetah_model_24-05-16-00-24-38_best.pt\n",
      "saving current model at: ./log/dt_halfcheetah_model_24-05-16-00-24-38.pt\n"
     ]
    },
    {
     "name": "stderr",
     "output_type": "stream",
     "text": [
      " 98%|█████████▊| 197/200 [1:14:35<01:04, 21.54s/it]"
     ]
    },
    {
     "name": "stdout",
     "output_type": "stream",
     "text": [
      "============================================================\n",
      "time elapsed: 1:14:35\n",
      "num of updates: 19700\n",
      "train total loss: 0.05419\n",
      "train state loss: 0.04498\n",
      "train reward loss: 0.00920\n",
      "val total loss: 0.06916\n",
      "val state loss: 0.05252\n",
      "val reward loss: 0.01664\n",
      "saving min loss model at: ./log/dt_halfcheetah_model_24-05-16-00-24-38_best.pt\n",
      "saving current model at: ./log/dt_halfcheetah_model_24-05-16-00-24-38.pt\n"
     ]
    },
    {
     "name": "stderr",
     "output_type": "stream",
     "text": [
      " 99%|█████████▉| 198/200 [1:14:56<00:42, 21.49s/it]"
     ]
    },
    {
     "name": "stdout",
     "output_type": "stream",
     "text": [
      "============================================================\n",
      "time elapsed: 1:14:57\n",
      "num of updates: 19800\n",
      "train total loss: 0.05392\n",
      "train state loss: 0.04485\n",
      "train reward loss: 0.00907\n",
      "val total loss: 0.07282\n",
      "val state loss: 0.05393\n",
      "val reward loss: 0.01889\n",
      "saving min loss model at: ./log/dt_halfcheetah_model_24-05-16-00-24-38_best.pt\n",
      "saving current model at: ./log/dt_halfcheetah_model_24-05-16-00-24-38.pt\n"
     ]
    },
    {
     "name": "stderr",
     "output_type": "stream",
     "text": [
      "100%|█████████▉| 199/200 [1:15:18<00:21, 21.72s/it]"
     ]
    },
    {
     "name": "stdout",
     "output_type": "stream",
     "text": [
      "============================================================\n",
      "time elapsed: 1:15:19\n",
      "num of updates: 19900\n",
      "train total loss: 0.05484\n",
      "train state loss: 0.04534\n",
      "train reward loss: 0.00950\n",
      "val total loss: 0.07756\n",
      "val state loss: 0.05518\n",
      "val reward loss: 0.02238\n",
      "saving min loss model at: ./log/dt_halfcheetah_model_24-05-16-00-24-38_best.pt\n",
      "saving current model at: ./log/dt_halfcheetah_model_24-05-16-00-24-38.pt\n"
     ]
    },
    {
     "name": "stderr",
     "output_type": "stream",
     "text": [
      "100%|██████████| 200/200 [1:15:41<00:00, 22.71s/it]"
     ]
    },
    {
     "name": "stdout",
     "output_type": "stream",
     "text": [
      "============================================================\n",
      "time elapsed: 1:15:41\n",
      "num of updates: 20000\n",
      "train total loss: 0.05395\n",
      "train state loss: 0.04448\n",
      "train reward loss: 0.00947\n",
      "val total loss: 0.07160\n",
      "val state loss: 0.05235\n",
      "val reward loss: 0.01925\n",
      "saving min loss model at: ./log/dt_halfcheetah_model_24-05-16-00-24-38_best.pt\n",
      "saving current model at: ./log/dt_halfcheetah_model_24-05-16-00-24-38.pt\n",
      "============================================================\n",
      "finished training!\n",
      "============================================================\n",
      "started training at: 24-05-16-00-24-38\n",
      "finished training at: 24-05-16-01-40-19\n",
      "total training time: 1:15:41\n",
      "saved min loss model at: ./log/dt_halfcheetah_model_24-05-16-00-24-38_best.pt\n",
      "saved last updated model at: ./log/dt_halfcheetah_model_24-05-16-00-24-38.pt\n",
      "============================================================\n"
     ]
    },
    {
     "name": "stderr",
     "output_type": "stream",
     "text": [
      "\n"
     ]
    }
   ],
   "source": [
    "start_time = datetime.now().replace(microsecond=0)\n",
    "\n",
    "start_time_str = start_time.strftime(\"%y-%m-%d-%H-%M-%S\")\n",
    "\n",
    "prefix = \"dt_\" + env_name\n",
    "\n",
    "save_model_name =  prefix + \"_model_\" + start_time_str + \".pt\"\n",
    "save_model_path = os.path.join(LOG_PATH, save_model_name)\n",
    "save_best_model_path = save_model_path[:-3] + \"_best.pt\"\n",
    "\n",
    "log_csv_name = prefix + \"_log_\" + start_time_str + \".csv\"\n",
    "log_csv_path = os.path.join(LOG_PATH, log_csv_name)\n",
    "\n",
    "\n",
    "csv_writer = csv.writer(open(log_csv_path, 'a', 1))\n",
    "csv_header = ([\"duration\", \"num_updates\", \"total_loss\", \"state_loss\", \"reward_loss\", \"val_total_loss\", \"val_state_loss\", \"val_reward_loss\"])\n",
    "\n",
    "csv_writer.writerow(csv_header)\n",
    "\n",
    "\n",
    "print(\"=\" * 60)\n",
    "print(\"start time: \" + start_time_str)\n",
    "print(\"=\" * 60)\n",
    "\n",
    "print(\"device set to: \" + str(DEVICE))\n",
    "print(\"dataset path: \" + DATA_PATH)\n",
    "print(\"model save path: \" + save_model_path)\n",
    "print(\"log csv save path: \" + log_csv_path)\n",
    "\n",
    "# train\n",
    "for i_train_iter in tqdm(range(max_train_iters)):\n",
    "\n",
    "\n",
    "\tlog_state_losses, log_reward_losses, log_total_losses = [], [], []\n",
    "\tval_log_state_losses, val_log_reward_losses, val_log_total_losses = [], [], []\n",
    "\tmodel.train()\n",
    "\t\n",
    "\tfor _ in range(num_updates_per_iter):\n",
    "\t\ttry:\n",
    "\t\t\ttimesteps, states, next_states, actions, rewards, traj_mask = next(data_iter)\n",
    "\t\texcept StopIteration:\n",
    "\t\t\tdata_iter = iter(traj_data_loader)\n",
    "\t\t\ttimesteps, states, next_states, actions, rewards, traj_mask = next(data_iter)\n",
    "\n",
    "\t\ttimesteps = timesteps.to(DEVICE)\t# B x T\n",
    "\t\tstates = states.to(DEVICE)\t\t\t# B x T x state_dim\n",
    "\t\tnext_states = next_states.to(DEVICE) # B X T X state_dim\n",
    "\t\tactions = actions.to(DEVICE)\t\t# B x T x act_dim\n",
    "\t\trewards = rewards.to(DEVICE).unsqueeze(dim=-1) # B x T x 1\n",
    "\t\ttraj_mask = traj_mask.to(DEVICE)\t# B x T\n",
    "\n",
    "\t\tnext_states_target = torch.clone(next_states).detach().to(DEVICE)\n",
    "\t\trewards_target = torch.clone(rewards).detach().to(DEVICE)\n",
    "\t\n",
    "\t\tnext_state_preds, rewards_preds = model.forward(\n",
    "\t\t\t\t\t\t\t\t\t\t\t\t\t\ttimesteps=timesteps,\n",
    "\t\t\t\t\t\t\t\t\t\t\t\t\t\tstates=states,\n",
    "\t\t\t\t\t\t\t\t\t\t\t\t\t\tactions=actions,\n",
    "\t\t\t\t\t\t\t\t\t\t\t\t\t\trewards=rewards,\n",
    "\t\t\t\t\t\t\t\t\t\t\t\t\t)\n",
    "\n",
    "\t\t# only consider non padded elements\n",
    "\t\tnext_state_preds = next_state_preds.view(-1, state_dim)[traj_mask.view(-1,) > 0]\n",
    "\t\tnext_states_target = next_states_target.view(-1, state_dim)[traj_mask.view(-1,) > 0]\n",
    "\t\t\n",
    "\t\trewards_preds = rewards_preds.view(-1, 1)[traj_mask.view(-1,) > 0]\n",
    "\t\trewards_target = rewards_target.view(-1, 1)[traj_mask.view(-1,) > 0]\n",
    "\n",
    "\t\tstate_loss = F.mse_loss(next_state_preds, next_states_target, reduction='mean') * state_weight\n",
    "\t\treward_loss = F.mse_loss(rewards_preds, rewards_target, reduction='mean') * reward_weight\n",
    "\t\t\n",
    "\t\ttotal_loss = state_loss.add(reward_loss)\n",
    "\t\ttotal_loss = torch.mean(total_loss)\n",
    "\n",
    "\t\toptimizer.zero_grad()\n",
    "\t\ttotal_loss.backward()\n",
    "\t\ttorch.nn.utils.clip_grad_norm_(model.parameters(), 0.25)\n",
    "\t\toptimizer.step()\n",
    "\t\tscheduler.step()\n",
    "\t\t\n",
    "\t\t\n",
    "\t\t#save loss\n",
    "\t\tlog_state_losses.append(state_loss.detach().cpu().item())\n",
    "\t\tlog_reward_losses.append(reward_loss.detach().cpu().item())\n",
    "\t\t\n",
    "\t\tlog_total_losses.append(total_loss.detach().cpu().item())\n",
    "\t\t\n",
    "\t# validation\n",
    "\tmodel.eval()\n",
    "\tfor _ in range(num_val_iter):\n",
    "\t\ttry:\n",
    "\t\t\tval_timesteps, val_states, val_next_states, val_actions, val_rewards, val_traj_mask = next(val_data_iter)\n",
    "\t\texcept StopIteration:\n",
    "\t\t\tval_data_iter = iter(val_traj_data_loader)\n",
    "\t\t\tval_timesteps, val_states, val_next_states, val_actions, val_rewards, val_traj_mask = next(val_data_iter)\n",
    "\t\t\t\n",
    "\t\tval_timesteps = val_timesteps.to(DEVICE)\t# B x T\n",
    "\t\tval_states = val_states.to(DEVICE)\t\t\t# B x T x state_dim\n",
    "\t\tval_next_states = val_next_states.to(DEVICE) # B X T X state_dim\n",
    "\t\tval_actions = val_actions.to(DEVICE)\t\t# B x T x act_dim\n",
    "\t\tval_rewards = val_rewards.to(DEVICE).unsqueeze(dim=-1) # B x T x 1\n",
    "\t\tval_traj_mask = val_traj_mask.to(DEVICE)\t# B x T\n",
    "\t\t\t\t\n",
    "\t\tval_next_states_target = torch.clone(val_next_states).detach().to(DEVICE)\n",
    "\t\tval_rewards_target = torch.clone(val_rewards).detach().to(DEVICE)\n",
    "\t\t\n",
    "\t\tval_next_state_preds, val_rewards_preds = model.forward(\n",
    "\t\t\t\t\t\t\t\t\t\t\t\t\t\ttimesteps=val_timesteps,\n",
    "\t\t\t\t\t\t\t\t\t\t\t\t\t\tstates=val_states,\n",
    "\t\t\t\t\t\t\t\t\t\t\t\t\t\tactions=val_actions,\n",
    "\t\t\t\t\t\t\t\t\t\t\t\t\t\trewards=val_rewards,\n",
    "\t\t\t\t\t\t\t\t\t\t\t\t\t)\n",
    "\t\t\t\t\t\t\t\t\t\t\t\t\t\n",
    "\t\t# only consider non padded elements\n",
    "\t\tval_next_state_preds = val_next_state_preds.view(-1, state_dim)[traj_mask.view(-1,) > 0]\n",
    "\t\tval_next_states_target = val_next_states_target.view(-1, state_dim)[traj_mask.view(-1,) > 0]\n",
    "\t\t\n",
    "\t\tval_rewards_preds = val_rewards_preds.view(-1, 1)[traj_mask.view(-1,) > 0]\n",
    "\t\tval_rewards_target = val_rewards_target.view(-1, 1)[traj_mask.view(-1,) > 0]\n",
    "\n",
    "\t\tval_state_loss = F.mse_loss(val_next_state_preds, val_next_states_target, reduction='mean') * state_weight\n",
    "\t\tval_reward_loss = F.mse_loss(val_rewards_preds, val_rewards_target, reduction='mean') * reward_weight\n",
    "\n",
    "\t\t# try to use mae\n",
    "\t\t\n",
    "\t\tval_total_loss = val_state_loss.add(val_reward_loss)\n",
    "\t\tval_total_loss = torch.mean(val_total_loss)\n",
    "\t\t\n",
    "\t\t# save val loss\n",
    "\t\tval_log_state_losses.append(val_state_loss.detach().cpu().item())\n",
    "\t\tval_log_reward_losses.append(val_reward_loss.detach().cpu().item())\n",
    "\t\t\n",
    "\t\tval_log_total_losses.append(val_total_loss.detach().cpu().item())\n",
    "\t\n",
    "\tmean_total_log_loss = np.mean(log_total_losses)\n",
    "\tmean_state_log_loss = np.mean(log_state_losses)\n",
    "\tmean_reward_log_loss = np.mean(log_reward_losses)\n",
    "\t\n",
    "\tmean_val_total_log_loss = np.mean(val_log_total_losses)\n",
    "\tmean_val_state_log_loss = np.mean(val_log_state_losses)\n",
    "\tmean_val_reward_log_loss = np.mean(val_log_reward_losses)\n",
    "\n",
    "\ttime_elapsed = str(datetime.now().replace(microsecond=0) - start_time)\n",
    "\n",
    "\ttotal_updates += num_updates_per_iter\n",
    "\n",
    "\tlog_str = (\"=\" * 60 + '\\n' +\n",
    "\t\t\t\"time elapsed: \" + time_elapsed  + '\\n' +\n",
    "\t\t\t\"num of updates: \" + str(total_updates) + '\\n' +\n",
    "\t\t\t\"train total loss: \" + format(mean_total_log_loss, \".5f\") + '\\n' +\n",
    "\t\t\t\"train state loss: \" + format(mean_state_log_loss, \".5f\") + '\\n' +\n",
    "\t\t\t\"train reward loss: \" +  format(mean_reward_log_loss, \".5f\") + '\\n' +\n",
    "\t\t\t\"val total loss: \" + format(mean_val_total_log_loss, \".5f\") + '\\n' +\n",
    "\t\t\t\"val state loss: \" + format(mean_val_state_log_loss, \".5f\") + '\\n' +\n",
    "\t\t\t\"val reward loss: \" +  format(mean_val_reward_log_loss, \".5f\")\n",
    "\t\t\t)\n",
    "\n",
    "\tprint(log_str)\n",
    "\n",
    "\tlog_data = [time_elapsed, total_updates, mean_total_log_loss, mean_state_log_loss, mean_reward_log_loss, \\\n",
    "\t\t mean_val_total_log_loss, mean_val_state_log_loss, mean_val_reward_log_loss]\n",
    "\n",
    "\tcsv_writer.writerow(log_data)\n",
    "\t\n",
    "\t# save model\n",
    "\tif mean_val_total_log_loss <= min_total_loss:\n",
    "\t\tprint(\"saving min loss model at: \" + save_best_model_path)\n",
    "\t\ttorch.save(model.state_dict(), save_best_model_path)\n",
    "\t\tmin_total_log_loss = mean_val_total_log_loss\n",
    "\n",
    "\tprint(\"saving current model at: \" + save_model_path)\n",
    "\ttorch.save(model.state_dict(), save_model_path)\n",
    "\n",
    "\n",
    "print(\"=\" * 60)\n",
    "print(\"finished training!\")\n",
    "print(\"=\" * 60)\n",
    "end_time = datetime.now().replace(microsecond=0)\n",
    "time_elapsed = str(end_time - start_time)\n",
    "end_time_str = end_time.strftime(\"%y-%m-%d-%H-%M-%S\")\n",
    "print(\"started training at: \" + start_time_str)\n",
    "print(\"finished training at: \" + end_time_str)\n",
    "print(\"total training time: \" + time_elapsed)\n",
    "print(\"saved min loss model at: \" + save_best_model_path)\n",
    "print(\"saved last updated model at: \" + save_model_path)\n",
    "print(\"=\" * 60)"
   ]
  },
  {
   "cell_type": "code",
   "execution_count": null,
   "metadata": {},
   "outputs": [],
   "source": []
  },
  {
   "cell_type": "code",
   "execution_count": null,
   "metadata": {},
   "outputs": [],
   "source": []
  }
 ],
 "metadata": {
  "kernelspec": {
   "display_name": "Python 3.10.14 ('rl_diffusion')",
   "language": "python",
   "name": "python3"
  },
  "language_info": {
   "codemirror_mode": {
    "name": "ipython",
    "version": 3
   },
   "file_extension": ".py",
   "mimetype": "text/x-python",
   "name": "python",
   "nbconvert_exporter": "python",
   "pygments_lexer": "ipython3",
   "version": "3.10.14"
  },
  "orig_nbformat": 4,
  "vscode": {
   "interpreter": {
    "hash": "aaa54a55e816925fdb1964dae2307e16b21383867fc9aac098dfe4376e4c067b"
   }
  }
 },
 "nbformat": 4,
 "nbformat_minor": 2
}
