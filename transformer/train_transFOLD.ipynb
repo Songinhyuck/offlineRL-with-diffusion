{
 "cells": [
  {
   "cell_type": "code",
   "execution_count": 1,
   "metadata": {},
   "outputs": [
    {
     "name": "stderr",
     "output_type": "stream",
     "text": [
      "Warning: Flow failed to import. Set the environment variable D4RL_SUPPRESS_IMPORT_ERROR=1 to suppress this message.\n",
      "No module named 'flow'\n",
      "Warning: CARLA failed to import. Set the environment variable D4RL_SUPPRESS_IMPORT_ERROR=1 to suppress this message.\n",
      "No module named 'carla'\n"
     ]
    }
   ],
   "source": [
    "# import library\n",
    "\n",
    "import sys\n",
    "import os\n",
    "import d4rl\n",
    "import gym\n",
    "import numpy as np\n",
    "import collections\n",
    "import pickle\n",
    "import csv\n",
    "\n",
    "import torch\n",
    "import torch.nn as nn\n",
    "import torch.nn.functional as F\n",
    "\n",
    "from datetime import datetime\n",
    "from torch.utils.data import Dataset, DataLoader\n",
    "from tqdm import tqdm\n",
    "\n",
    "from utils import D4RLTrajectoryDataset\n",
    "from model import DecisionTransformer\n"
   ]
  },
  {
   "cell_type": "code",
   "execution_count": 2,
   "metadata": {},
   "outputs": [],
   "source": [
    "# set environment\n",
    "# sys.path.append(r'C:\\Develop\\offlineRL-with-diffusion') "
   ]
  },
  {
   "cell_type": "code",
   "execution_count": 3,
   "metadata": {},
   "outputs": [
    {
     "name": "stdout",
     "output_type": "stream",
     "text": [
      "mujoco-py check passed\n",
      "d4rl check passed\n"
     ]
    },
    {
     "name": "stderr",
     "output_type": "stream",
     "text": [
      "Warning: Flow failed to import. Set the environment variable D4RL_SUPPRESS_IMPORT_ERROR=1 to suppress this message.\n",
      "No module named 'flow'\n",
      "Warning: CARLA failed to import. Set the environment variable D4RL_SUPPRESS_IMPORT_ERROR=1 to suppress this message.\n",
      "No module named 'carla'\n",
      "pybullet build time: Apr 30 2024 12:01:25\n",
      "c:\\Users\\zkdlx\\miniconda3\\envs\\rl_diffusion\\lib\\site-packages\\gym\\spaces\\box.py:84: UserWarning: \u001b[33mWARN: Box bound precision lowered by casting to float32\u001b[0m\n",
      "  logger.warn(f\"Box bound precision lowered by casting to {self.dtype}\")\n"
     ]
    }
   ],
   "source": [
    "# test mujoco, d4rl\n",
    "\n",
    "!python ./test/mujoco_test.py"
   ]
  },
  {
   "cell_type": "code",
   "execution_count": 4,
   "metadata": {},
   "outputs": [],
   "source": [
    "# data download\n",
    "# if you downloaded, don't re-start.\n",
    "\n",
    "# !python ./data/download_d4rl_datasets.py\n"
   ]
  },
  {
   "cell_type": "code",
   "execution_count": 5,
   "metadata": {},
   "outputs": [
    {
     "name": "stderr",
     "output_type": "stream",
     "text": [
      "c:\\Users\\zkdlx\\miniconda3\\envs\\rl_diffusion\\lib\\site-packages\\gym\\envs\\registration.py:505: UserWarning: \u001b[33mWARN: The environment HalfCheetah-v2 is out of date. You should consider upgrading to version `v3` with the environment ID `HalfCheetah-v3`.\u001b[0m\n",
      "  logger.warn(\n"
     ]
    }
   ],
   "source": [
    "# parameter setting\n",
    "\n",
    "env_name = 'halfcheetah'\n",
    "dataset = 'medium'\n",
    "\n",
    "if env_name == 'hopper':\n",
    "    env = gym.make('Hopper-v2')\n",
    "    max_ep_len = 1000\n",
    "    # env_targets = [3600, 1800]  # evaluation conditioning targets\n",
    "    # scale = 1000.  # normalization for rewards/returns\n",
    "elif env_name == 'halfcheetah':\n",
    "    env = gym.make('HalfCheetah-v2')\n",
    "    max_ep_len = 1000\n",
    "    # env_targets = [12000, 6000]\n",
    "    # scale = 1000.\n",
    "elif env_name == 'walker2d':\n",
    "    env = gym.make('Walker2d-v2')\n",
    "    max_ep_len = 1000\n",
    "    # env_targets = [5000, 2500]\n",
    "    # scale = 1000.\n",
    "\n",
    "DATA_PATH = f'data/train/{env_name}-{dataset}-v2.pkl'\n",
    "VAL_DATA_PATH = f'data/val/val_{env_name}-{dataset}-v2.pkl'\n",
    "TEMP_DATA_PATH = f'data/temp/{env_name}-{dataset}-v2.pkl'\n",
    "LOG_PATH = \"./log/\"\n",
    "if torch.cuda.is_available():\n",
    "    DEVICE = torch.device('cuda:0')\n",
    "else:\n",
    "    DEVICE = torch.device('cpu')"
   ]
  },
  {
   "cell_type": "code",
   "execution_count": 6,
   "metadata": {},
   "outputs": [
    {
     "name": "stderr",
     "output_type": "stream",
     "text": [
      "c:\\Users\\zkdlx\\miniconda3\\envs\\rl_diffusion\\lib\\site-packages\\gym\\spaces\\box.py:84: UserWarning: \u001b[33mWARN: Box bound precision lowered by casting to float32\u001b[0m\n",
      "  logger.warn(f\"Box bound precision lowered by casting to {self.dtype}\")\n",
      "load datafile: 100%|██████████| 21/21 [00:02<00:00,  8.04it/s]\n"
     ]
    }
   ],
   "source": [
    "# env dataset check\n",
    "check_env = gym.make('halfcheetah-medium-v2')\n",
    "dataset = check_env.get_dataset()\n",
    "\n",
    "# print(dataset['observations'][1]) # trajectory 단위로 뽑힘.\n"
   ]
  },
  {
   "cell_type": "code",
   "execution_count": 7,
   "metadata": {},
   "outputs": [],
   "source": [
    "# print(\"overall len: \", dataset.shape)"
   ]
  },
  {
   "cell_type": "code",
   "execution_count": 8,
   "metadata": {},
   "outputs": [
    {
     "name": "stdout",
     "output_type": "stream",
     "text": [
      "state shape:  (1000000, 17)\n",
      "action shape:  (1000000, 6)\n",
      "reward shape:  (1000000,)\n",
      "N:  1000000\n",
      "train_size:  800000\n"
     ]
    }
   ],
   "source": [
    "print(\"state shape: \", dataset['observations'].shape)\n",
    "print(\"action shape: \", dataset['actions'].shape)\n",
    "print(\"reward shape: \", dataset['rewards'].shape)\n",
    "print(\"N: \", dataset['rewards'].shape[0])\n",
    "print(\"train_size: \", int(0.8 * dataset['rewards'].shape[0]))\n"
   ]
  },
  {
   "cell_type": "code",
   "execution_count": 9,
   "metadata": {},
   "outputs": [
    {
     "name": "stdout",
     "output_type": "stream",
     "text": [
      "state:  [[ 1.9831914e-02 -8.9501314e-02 -3.1969063e-03 ...  1.1365079e-01\n",
      "   6.8424918e-02 -1.3811582e-01]\n",
      " [-3.8486063e-03 -5.2394319e-02  8.3050327e-03 ...  4.5068407e+00\n",
      "  -9.2885571e+00  4.7328596e+00]\n",
      " [-5.5298433e-02 -7.7850236e-05 -2.3952831e-01 ... -7.0811687e+00\n",
      "  -1.4037068e+00  7.5524049e+00]\n",
      " ...\n",
      " [-3.1975684e-01  5.3305399e-01 -4.8704177e-01 ...  1.5455554e+00\n",
      "   2.6812897e+00  8.7905388e+00]\n",
      " [-3.2200974e-01  3.5745117e-01  1.0463273e-02 ... -6.3428599e-01\n",
      "   1.6292539e+00  9.7356015e-01]\n",
      " [-3.0673215e-01  1.9843711e-01  6.9996923e-01 ...  5.0098950e-01\n",
      "   1.5680059e+00  9.4733723e-02]] \n",
      "\n",
      "state:  [[ 4.7026437e-02 -2.1588113e-02  4.9151547e-02 ...  5.5219561e-02\n",
      "  -1.5351681e-01 -4.6239123e-02]\n",
      " [ 4.1392505e-02  5.3802542e-02 -1.5022255e-01 ...  6.1133021e-01\n",
      "  -7.4645710e+00  7.9509692e+00]\n",
      " [ 9.8547200e-04  8.8533267e-02 -4.3876743e-01 ...  8.5824745e-04\n",
      "   5.9796906e+00  4.9521341e+00]\n",
      " ...\n",
      " [-1.4081973e-01 -7.7957302e-02 -2.6429656e-01 ...  1.0316861e+00\n",
      "  -7.5645506e-01 -6.3285580e+00]\n",
      " [-6.0340445e-02 -4.2597357e-02  1.1770165e-01 ... -1.8022682e+01\n",
      "  -2.8895503e-01 -8.5740490e+00]\n",
      " [-3.9826483e-02  8.9701705e-02  4.8491257e-01 ... -1.5949978e+01\n",
      "  -4.2975497e+00  3.4759271e-01]] \n",
      "\n",
      "state:  [[ 5.0221119e-02 -2.4338657e-02 -5.4945849e-02 ... -1.4283662e-01\n",
      "  -1.2819463e-01 -1.4791407e-01]\n",
      " [ 3.4841169e-02  2.6000816e-02 -2.3993976e-01 ... -2.5026150e+00\n",
      "  -9.1679888e+00  6.2272105e+00]\n",
      " [-2.2413606e-02  5.1811527e-02 -5.4271245e-01 ... -5.9999785e+00\n",
      "  -6.6550332e-01 -2.4636595e-01]\n",
      " ...\n",
      " [-4.4023961e-02 -2.5939721e-01 -7.0705950e-02 ... -1.8107307e+01\n",
      "  -4.7313199e+00 -4.8486176e+00]\n",
      " [-1.7510138e-02 -2.1372417e-01  2.7898479e-02 ...  2.9009397e+00\n",
      "  -2.2113817e+00 -5.9028540e+00]\n",
      " [ 4.7847845e-02 -1.5627538e-01 -1.8005599e-01 ...  9.9821644e+00\n",
      "  -5.1808944e+00  1.1870988e+01]] \n",
      "\n"
     ]
    }
   ],
   "source": [
    "# data check\n",
    "# check three trajectories\n",
    "\n",
    "with open(DATA_PATH, 'rb') as f:\n",
    "    trajectories = pickle.load(f)\n",
    "n=0\n",
    "max_rewards_list = []\n",
    "for traj in trajectories:\n",
    "    # print(f\"{n+1}번째 trajectory\")\n",
    "    # print(\"traj: \", traj)\n",
    "    print(\"state: \", traj['observations'], \"\\n\")\n",
    "    # print(\"action: \", traj['actions'], \"\\n\")\n",
    "    # print(\"next_state: \", traj['next_observations'], \"\\n\")\n",
    "    # print(\"reward: \", traj['rewards'], \"\\n\")\n",
    "    # print(\"max_rewards: \", max(traj['rewards']))\n",
    "    # max_rewards_list.append(max(traj['rewards']))\n",
    "    # print(\"\")\n",
    "    n+=1\n",
    "    \n",
    "# print(max(max_rewards_list))\n",
    "\n",
    "    if n==3:\n",
    "        break"
   ]
  },
  {
   "cell_type": "code",
   "execution_count": 10,
   "metadata": {},
   "outputs": [
    {
     "name": "stdout",
     "output_type": "stream",
     "text": [
      "length:  1000000\n",
      "n of epi:  1000\n",
      "n of traj in one epi:  1000\n"
     ]
    }
   ],
   "source": [
    "# check original data shape\n",
    "with open(TEMP_DATA_PATH, 'rb') as f:\n",
    "    temp_trajectories = pickle.load(f)\n",
    "    \n",
    "print(\"length: \", len(temp_trajectories)*len(temp_trajectories[0]['observations']))\n",
    "print(\"n of epi: \", len(temp_trajectories))\n",
    "print(\"n of traj in one epi: \", len(temp_trajectories[0]['observations']))"
   ]
  },
  {
   "cell_type": "code",
   "execution_count": 11,
   "metadata": {},
   "outputs": [
    {
     "name": "stdout",
     "output_type": "stream",
     "text": [
      "(1000, 17)\n",
      "(1000, 17)\n",
      "(1000, 17)\n",
      "(1000, 17)\n",
      "(1000, 17)\n",
      "(1000, 17)\n"
     ]
    }
   ],
   "source": [
    "# check original dataset\n",
    "cnt = 0\n",
    "\n",
    "\n",
    "for ori in temp_trajectories:\n",
    "    print(ori['observations'].shape)\n",
    "    \n",
    "    if cnt >= 5:\n",
    "        break\n",
    "    \n",
    "    cnt+=1"
   ]
  },
  {
   "cell_type": "code",
   "execution_count": 12,
   "metadata": {},
   "outputs": [
    {
     "name": "stdout",
     "output_type": "stream",
     "text": [
      "state shape:  (1000000, 17)\n"
     ]
    }
   ],
   "source": [
    "states, next_states, rewards = [], [], []\n",
    "for traj in temp_trajectories:\n",
    "    # print(traj)\n",
    "    traj_len = traj['observations'].shape[0]\n",
    "    states.append(traj['observations'])\n",
    "    next_states.append(traj['next_observations'])\n",
    "    rewards.append(traj['rewards'])\n",
    "    # # calculate returns to go and rescale them\n",
    "    # traj['returns_to_go'] = discount_cumsum(traj['rewards'], 1.0) / rtg_scale\n",
    "    \n",
    "states = np.concatenate(states, axis=0)\n",
    "print(\"state shape: \", states.shape)"
   ]
  },
  {
   "cell_type": "code",
   "execution_count": 13,
   "metadata": {},
   "outputs": [
    {
     "name": "stdout",
     "output_type": "stream",
     "text": [
      "length:  800000\n",
      "n of epi:  800\n",
      "n of traj in one epi:  1000\n"
     ]
    }
   ],
   "source": [
    "# check train data shape\n",
    "with open(DATA_PATH, 'rb') as f:\n",
    "    train_trajectories = pickle.load(f)\n",
    "\n",
    "print(\"length: \", len(train_trajectories)*len(train_trajectories[0]['observations']))\n",
    "print(\"n of epi: \", len(train_trajectories))\n",
    "print(\"n of traj in one epi: \", len(train_trajectories[0]['observations']))\n",
    "# print(\"train state shape: \", train_trajectories['observations'].shape)\n",
    "# print(\"train action shape: \", train_trajectories['actions'].shape)\n",
    "# print(\"train reward shape: \", train_trajectories['rewards'].shape)\n"
   ]
  },
  {
   "cell_type": "code",
   "execution_count": 14,
   "metadata": {},
   "outputs": [
    {
     "name": "stdout",
     "output_type": "stream",
     "text": [
      "length:  200000\n",
      "n of epi:  200\n",
      "n of traj in one epi:  1000\n"
     ]
    }
   ],
   "source": [
    "# check valid data shape\n",
    "with open(VAL_DATA_PATH, 'rb') as f:\n",
    "    val_trajectories = pickle.load(f)\n",
    "\n",
    "print(\"length: \", len(val_trajectories)*len(val_trajectories[0]['observations']))\n",
    "print(\"n of epi: \", len(val_trajectories))\n",
    "print(\"n of traj in one epi: \", len(val_trajectories[0]['observations']))\n",
    "# print(\"val state shape: \", val_trajectories['observations'].shape)\n",
    "# print(\"val action shape: \", val_trajectories['actions'].shape)\n",
    "# print(\"val reward shape: \", val_trajectories['rewards'].shape)"
   ]
  },
  {
   "cell_type": "code",
   "execution_count": 15,
   "metadata": {},
   "outputs": [],
   "source": [
    "# train parameter\n",
    "batch_size = 64\n",
    "embed_dim = 128\n",
    "activation = 'relu'\n",
    "drop_out = 0.1\n",
    "k = 31 # content len\n",
    "n_blocks = 3\n",
    "n_heads = 1 # transformer head\n",
    "\n",
    "# total updates = max_train_iters x num_updates_per_iter\n",
    "max_train_iters = 400\n",
    "num_updates_per_iter = 100\n",
    "# num_val_iter = 100\n",
    "total_updates = 0\n",
    "min_total_log_loss = 1e10\n",
    "\n",
    "wt_decay = 1e-4             # weight decay\n",
    "lr = 1e-4                   # learning rate\n",
    "warmup_steps = 10000        # warmup steps for lr scheduler\n",
    "\n",
    "# weight of mse loss\n",
    "state_weight = 1\n",
    "reward_weight = 1\n",
    "\n",
    "# evaluation parameter\n",
    "# max_eval_ep_len = 1000      # max len of one evaluation episode\n",
    "# num_eval_ep = 10            # num of evaluation episodes per iteration"
   ]
  },
  {
   "cell_type": "code",
   "execution_count": 16,
   "metadata": {},
   "outputs": [
    {
     "name": "stdout",
     "output_type": "stream",
     "text": [
      "state dim:  17\n",
      "action dim:  6\n"
     ]
    }
   ],
   "source": [
    "# check dim\n",
    "\n",
    "state_dim = env.observation_space.shape[0]\n",
    "act_dim = env.action_space.shape[0]\n",
    "\n",
    "print(\"state dim: \", state_dim)\n",
    "print(\"action dim: \", act_dim)"
   ]
  },
  {
   "cell_type": "code",
   "execution_count": 17,
   "metadata": {},
   "outputs": [
    {
     "name": "stdout",
     "output_type": "stream",
     "text": [
      "timesteps shape:  torch.Size([32, 2])\n",
      "rewards shape:  torch.Size([32, 2, 1])\n",
      "states shape:  torch.Size([32, 2, 17])\n",
      "actions shape:  torch.Size([32, 2, 6])\n"
     ]
    }
   ],
   "source": [
    "# test data\n",
    "temp_dataset = D4RLTrajectoryDataset(DATA_PATH, 2)\n",
    "temp_data_loader = DataLoader(temp_dataset,\n",
    "\t\t\t\t\t\tbatch_size=32,\n",
    "\t\t\t\t\t\tshuffle=True,\n",
    "\t\t\t\t\t\tpin_memory=True,\n",
    "\t\t\t\t\t\tdrop_last=True)\n",
    "                        \n",
    "temp_data_iter = iter(temp_data_loader)\n",
    "\n",
    "timesteps, states, next_states, actions, rewards, traj_mask = next(temp_data_iter)\n",
    "\n",
    "timesteps = timesteps.to(DEVICE)\t# B x T\n",
    "states = states.to(DEVICE)\t\t\t# B x T x state_dim\n",
    "next_states = next_states.to(DEVICE) # B X T X state_dim\n",
    "actions = actions.to(DEVICE)\t\t# B x T x act_dim\n",
    "rewards = rewards.to(DEVICE).unsqueeze(dim=-1) # B x T x 1\n",
    "\n",
    "print(\"timesteps shape: \", timesteps.shape)\n",
    "print(\"rewards shape: \", rewards.shape)\n",
    "print(\"states shape: \", states.shape)\n",
    "print(\"actions shape: \", actions.shape)\n",
    "\n",
    "# print(\"state: \", states)\n",
    "# print(\"action: \", actions)\n",
    "# print(\"rewards: \", rewards)\n",
    "\n"
   ]
  },
  {
   "cell_type": "code",
   "execution_count": 18,
   "metadata": {},
   "outputs": [],
   "source": [
    "# test model\n",
    "\n",
    "temp_model = DecisionTransformer(\n",
    "\t\t\tstate_dim=state_dim,\n",
    "\t\t\tact_dim=act_dim,\n",
    "\t\t\t# reward 포함 + r0 제외\n",
    "\t\t\tn_blocks=n_blocks,\n",
    "\t\t\th_dim=16,\n",
    "\t\t\tcontext_len=2,\n",
    "\t\t\tn_heads=n_heads,\n",
    "\t\t\tdrop_p=drop_out,\n",
    "\t\t).to(DEVICE)\n",
    "\t\t\n",
    "next_state_preds, rewards_preds = temp_model.forward(\n",
    "\t\t\t\t\t\t\t\t\t\t\t\trewards=rewards,\n",
    "\t\t\t\t\t\t\t\t\t\t\t\ttimesteps=timesteps,\n",
    "\t\t\t\t\t\t\t\t\t\t\t\tstates=states,\n",
    "\t\t\t\t\t\t\t\t\t\t\t\tactions=actions,\n",
    "\t\t\t\t\t\t\t\t\t\t\t)"
   ]
  },
  {
   "cell_type": "code",
   "execution_count": 19,
   "metadata": {},
   "outputs": [
    {
     "name": "stderr",
     "output_type": "stream",
     "text": [
      "100%|██████████| 400/400 [01:34<00:00,  4.25it/s]\n"
     ]
    }
   ],
   "source": [
    "# continue train test\n",
    "test_traj_dataset = D4RLTrajectoryDataset(DATA_PATH, k)\n",
    "test_traj_data_loader = DataLoader(test_traj_dataset,\n",
    "\t\t\t\t\t\tbatch_size=batch_size,\n",
    "\t\t\t\t\t\tshuffle=True,\n",
    "\t\t\t\t\t\tpin_memory=True,\n",
    "\t\t\t\t\t\tdrop_last=True)\n",
    "                        \n",
    "test_data_iter = iter(test_traj_data_loader)\n",
    "\n",
    "\n",
    "for i_train_iter in tqdm(range(max_train_iters)):\n",
    "\t\n",
    "\tfor _ in range(num_updates_per_iter):\n",
    "\t\ttry:\n",
    "\t\t\ttimesteps, states, next_states, actions, rewards, traj_mask = next(test_data_iter)\n",
    "\t\texcept StopIteration:\n",
    "\t\t\ttest_traj_data_loader = DataLoader(test_traj_dataset,\n",
    "\t\t\t\t\t\tbatch_size=batch_size,\n",
    "\t\t\t\t\t\tshuffle=True,\n",
    "\t\t\t\t\t\tpin_memory=True,\n",
    "\t\t\t\t\t\tdrop_last=True)\n",
    "\t\t\t\t\t\t\n",
    "\t\t\ttest_data_iter = iter(test_traj_data_loader)\n",
    "\t\t\ttimesteps, states, next_states, actions, rewards, traj_mask = next(test_data_iter)"
   ]
  },
  {
   "cell_type": "code",
   "execution_count": 20,
   "metadata": {},
   "outputs": [],
   "source": [
    "# load train preprocessing(normalization, fit padding) data\n",
    "\n",
    "traj_dataset = D4RLTrajectoryDataset(DATA_PATH, k)\n",
    "traj_data_loader = DataLoader(traj_dataset,\n",
    "\t\t\t\t\t\tbatch_size=batch_size,\n",
    "\t\t\t\t\t\tshuffle=True,\n",
    "\t\t\t\t\t\tpin_memory=True,\n",
    "\t\t\t\t\t\tdrop_last=True)\n",
    "                        \n",
    "data_iter = iter(traj_data_loader)\n",
    "\n",
    "## get state stats from dataset\n",
    "state_mean, state_std = traj_dataset.get_state_stats()"
   ]
  },
  {
   "cell_type": "code",
   "execution_count": 21,
   "metadata": {},
   "outputs": [],
   "source": [
    "# load validate preprocessing(normalization, fit padding) data\n",
    "\n",
    "val_traj_dataset = D4RLTrajectoryDataset(DATA_PATH, k, val=True, val_dataset_path=VAL_DATA_PATH)\n",
    "val_traj_data_loader = DataLoader(val_traj_dataset,\n",
    "\t\t\t\t\t\tbatch_size=batch_size,\n",
    "\t\t\t\t\t\tshuffle=True,\n",
    "\t\t\t\t\t\tpin_memory=True,\n",
    "\t\t\t\t\t\tdrop_last=True)\n",
    "                        \n"
   ]
  },
  {
   "cell_type": "code",
   "execution_count": 22,
   "metadata": {},
   "outputs": [],
   "source": [
    "# define model\n",
    "\n",
    "model = DecisionTransformer(\n",
    "\t\t\tstate_dim=state_dim,\n",
    "\t\t\tact_dim=act_dim,\n",
    "\t\t\tn_blocks=n_blocks,\n",
    "\t\t\th_dim=embed_dim,\n",
    "\t\t\tcontext_len=k,\n",
    "\t\t\tn_heads=n_heads,\n",
    "\t\t\tdrop_p=drop_out,\n",
    "\t\t).to(DEVICE)\n",
    "  \n",
    "optimizer = torch.optim.AdamW(\n",
    "\t\t\t\t\tmodel.parameters(), \n",
    "\t\t\t\t\tlr=lr, \n",
    "\t\t\t\t\tweight_decay=wt_decay\n",
    "\t\t\t\t)\n",
    "\n",
    "scheduler = torch.optim.lr_scheduler.LambdaLR(\n",
    "\t\toptimizer,\n",
    "\t\tlambda steps: min((steps+1)/warmup_steps, 1)\n",
    "\t)\n",
    "\t\n"
   ]
  },
  {
   "cell_type": "code",
   "execution_count": 23,
   "metadata": {},
   "outputs": [
    {
     "name": "stdout",
     "output_type": "stream",
     "text": [
      "============================================================\n",
      "start time: 24-05-19-18-07-32\n",
      "============================================================\n",
      "device set to: cpu\n",
      "dataset path: data/train/halfcheetah-medium-v2.pkl\n",
      "model save path: ./log/dt_halfcheetah_model_400_64.pt\n",
      "log csv save path: ./log/dt_halfcheetah_log_24-05-19-18-07-32.csv\n"
     ]
    },
    {
     "name": "stderr",
     "output_type": "stream",
     "text": [
      "  0%|          | 1/400 [00:27<3:05:17, 27.86s/it]"
     ]
    },
    {
     "name": "stdout",
     "output_type": "stream",
     "text": [
      "============================================================\n",
      "time elapsed: 0:00:28\n",
      "num of updates: 100\n",
      "train total loss: 2.42268\n",
      "train state loss: 1.36661\n",
      "train reward loss: 1.05607\n",
      "val total loss: 2.56406\n",
      "val state loss: 1.42128\n",
      "val reward loss: 1.14278\n",
      "saving min loss model at: ./log/dt_halfcheetah_model_400_64_best.pt\n",
      "saving current model at: ./log/dt_halfcheetah_model_400_64.pt\n"
     ]
    },
    {
     "name": "stderr",
     "output_type": "stream",
     "text": [
      "  0%|          | 2/400 [00:54<3:00:42, 27.24s/it]"
     ]
    },
    {
     "name": "stdout",
     "output_type": "stream",
     "text": [
      "============================================================\n",
      "time elapsed: 0:00:54\n",
      "num of updates: 200\n",
      "train total loss: 2.32456\n",
      "train state loss: 1.32182\n",
      "train reward loss: 1.00274\n",
      "val total loss: 2.44359\n",
      "val state loss: 1.34692\n",
      "val reward loss: 1.09667\n",
      "saving min loss model at: ./log/dt_halfcheetah_model_400_64_best.pt\n",
      "saving current model at: ./log/dt_halfcheetah_model_400_64.pt\n"
     ]
    },
    {
     "name": "stderr",
     "output_type": "stream",
     "text": [
      "  1%|          | 3/400 [01:21<2:59:26, 27.12s/it]"
     ]
    },
    {
     "name": "stdout",
     "output_type": "stream",
     "text": [
      "============================================================\n",
      "time elapsed: 0:01:21\n",
      "num of updates: 300\n",
      "train total loss: 2.18691\n",
      "train state loss: 1.27678\n",
      "train reward loss: 0.91014\n",
      "val total loss: 2.16324\n",
      "val state loss: 1.31858\n",
      "val reward loss: 0.84466\n",
      "saving min loss model at: ./log/dt_halfcheetah_model_400_64_best.pt\n",
      "saving current model at: ./log/dt_halfcheetah_model_400_64.pt\n"
     ]
    },
    {
     "name": "stderr",
     "output_type": "stream",
     "text": [
      "  1%|          | 4/400 [01:48<2:57:41, 26.92s/it]"
     ]
    },
    {
     "name": "stdout",
     "output_type": "stream",
     "text": [
      "============================================================\n",
      "time elapsed: 0:01:48\n",
      "num of updates: 400\n",
      "train total loss: 1.97501\n",
      "train state loss: 1.19889\n",
      "train reward loss: 0.77612\n",
      "val total loss: 1.99127\n",
      "val state loss: 1.18875\n",
      "val reward loss: 0.80252\n",
      "saving min loss model at: ./log/dt_halfcheetah_model_400_64_best.pt\n",
      "saving current model at: ./log/dt_halfcheetah_model_400_64.pt\n"
     ]
    },
    {
     "name": "stderr",
     "output_type": "stream",
     "text": [
      "  1%|▏         | 5/400 [02:17<3:01:46, 27.61s/it]"
     ]
    },
    {
     "name": "stdout",
     "output_type": "stream",
     "text": [
      "============================================================\n",
      "time elapsed: 0:02:17\n",
      "num of updates: 500\n",
      "train total loss: 1.81728\n",
      "train state loss: 1.16591\n",
      "train reward loss: 0.65138\n",
      "val total loss: 1.71986\n",
      "val state loss: 1.09280\n",
      "val reward loss: 0.62707\n",
      "saving min loss model at: ./log/dt_halfcheetah_model_400_64_best.pt\n",
      "saving current model at: ./log/dt_halfcheetah_model_400_64.pt\n"
     ]
    },
    {
     "name": "stderr",
     "output_type": "stream",
     "text": [
      "  2%|▏         | 6/400 [02:54<3:23:57, 31.06s/it]"
     ]
    },
    {
     "name": "stdout",
     "output_type": "stream",
     "text": [
      "============================================================\n",
      "time elapsed: 0:02:55\n",
      "num of updates: 600\n",
      "train total loss: 1.64821\n",
      "train state loss: 1.11867\n",
      "train reward loss: 0.52953\n",
      "val total loss: 1.54799\n",
      "val state loss: 1.10220\n",
      "val reward loss: 0.44579\n",
      "saving min loss model at: ./log/dt_halfcheetah_model_400_64_best.pt\n",
      "saving current model at: ./log/dt_halfcheetah_model_400_64.pt\n"
     ]
    },
    {
     "name": "stderr",
     "output_type": "stream",
     "text": [
      "  2%|▏         | 7/400 [03:26<3:25:09, 31.32s/it]"
     ]
    },
    {
     "name": "stdout",
     "output_type": "stream",
     "text": [
      "============================================================\n",
      "time elapsed: 0:03:26\n",
      "num of updates: 700\n",
      "train total loss: 1.50106\n",
      "train state loss: 1.06689\n",
      "train reward loss: 0.43416\n",
      "val total loss: 1.48773\n",
      "val state loss: 1.08354\n",
      "val reward loss: 0.40419\n",
      "saving min loss model at: ./log/dt_halfcheetah_model_400_64_best.pt\n",
      "saving current model at: ./log/dt_halfcheetah_model_400_64.pt\n"
     ]
    },
    {
     "name": "stderr",
     "output_type": "stream",
     "text": [
      "  2%|▏         | 8/400 [03:58<3:25:14, 31.41s/it]"
     ]
    },
    {
     "name": "stdout",
     "output_type": "stream",
     "text": [
      "============================================================\n",
      "time elapsed: 0:03:58\n",
      "num of updates: 800\n",
      "train total loss: 1.42158\n",
      "train state loss: 1.03447\n",
      "train reward loss: 0.38711\n",
      "val total loss: 1.35423\n",
      "val state loss: 1.01275\n",
      "val reward loss: 0.34147\n",
      "saving min loss model at: ./log/dt_halfcheetah_model_400_64_best.pt\n",
      "saving current model at: ./log/dt_halfcheetah_model_400_64.pt\n"
     ]
    },
    {
     "name": "stderr",
     "output_type": "stream",
     "text": [
      "  2%|▏         | 9/400 [04:31<3:27:39, 31.87s/it]"
     ]
    },
    {
     "name": "stdout",
     "output_type": "stream",
     "text": [
      "============================================================\n",
      "time elapsed: 0:04:31\n",
      "num of updates: 900\n",
      "train total loss: 1.35314\n",
      "train state loss: 1.00105\n",
      "train reward loss: 0.35209\n",
      "val total loss: 1.29039\n",
      "val state loss: 0.98157\n",
      "val reward loss: 0.30882\n",
      "saving min loss model at: ./log/dt_halfcheetah_model_400_64_best.pt\n",
      "saving current model at: ./log/dt_halfcheetah_model_400_64.pt\n"
     ]
    },
    {
     "name": "stderr",
     "output_type": "stream",
     "text": [
      "  2%|▎         | 10/400 [05:01<3:24:45, 31.50s/it]"
     ]
    },
    {
     "name": "stdout",
     "output_type": "stream",
     "text": [
      "============================================================\n",
      "time elapsed: 0:05:02\n",
      "num of updates: 1000\n",
      "train total loss: 1.30901\n",
      "train state loss: 0.98494\n",
      "train reward loss: 0.32407\n",
      "val total loss: 1.24030\n",
      "val state loss: 0.94753\n",
      "val reward loss: 0.29277\n",
      "saving min loss model at: ./log/dt_halfcheetah_model_400_64_best.pt\n",
      "saving current model at: ./log/dt_halfcheetah_model_400_64.pt\n"
     ]
    },
    {
     "name": "stderr",
     "output_type": "stream",
     "text": [
      "  3%|▎         | 11/400 [05:31<3:20:28, 30.92s/it]"
     ]
    },
    {
     "name": "stdout",
     "output_type": "stream",
     "text": [
      "============================================================\n",
      "time elapsed: 0:05:31\n",
      "num of updates: 1100\n",
      "train total loss: 1.26553\n",
      "train state loss: 0.96569\n",
      "train reward loss: 0.29984\n",
      "val total loss: 1.28595\n",
      "val state loss: 0.99871\n",
      "val reward loss: 0.28723\n",
      "saving min loss model at: ./log/dt_halfcheetah_model_400_64_best.pt\n",
      "saving current model at: ./log/dt_halfcheetah_model_400_64.pt\n"
     ]
    },
    {
     "name": "stderr",
     "output_type": "stream",
     "text": [
      "  3%|▎         | 12/400 [06:04<3:23:23, 31.45s/it]"
     ]
    },
    {
     "name": "stdout",
     "output_type": "stream",
     "text": [
      "============================================================\n",
      "time elapsed: 0:06:04\n",
      "num of updates: 1200\n",
      "train total loss: 1.23147\n",
      "train state loss: 0.94976\n",
      "train reward loss: 0.28172\n",
      "val total loss: 1.24564\n",
      "val state loss: 0.97224\n",
      "val reward loss: 0.27340\n",
      "saving min loss model at: ./log/dt_halfcheetah_model_400_64_best.pt\n",
      "saving current model at: ./log/dt_halfcheetah_model_400_64.pt\n"
     ]
    },
    {
     "name": "stderr",
     "output_type": "stream",
     "text": [
      "  3%|▎         | 13/400 [06:37<3:26:33, 32.03s/it]"
     ]
    },
    {
     "name": "stdout",
     "output_type": "stream",
     "text": [
      "============================================================\n",
      "time elapsed: 0:06:37\n",
      "num of updates: 1300\n",
      "train total loss: 1.21183\n",
      "train state loss: 0.94674\n",
      "train reward loss: 0.26510\n",
      "val total loss: 1.19731\n",
      "val state loss: 0.95824\n",
      "val reward loss: 0.23907\n",
      "saving min loss model at: ./log/dt_halfcheetah_model_400_64_best.pt\n",
      "saving current model at: ./log/dt_halfcheetah_model_400_64.pt\n"
     ]
    },
    {
     "name": "stderr",
     "output_type": "stream",
     "text": [
      "  4%|▎         | 14/400 [07:10<3:28:25, 32.40s/it]"
     ]
    },
    {
     "name": "stdout",
     "output_type": "stream",
     "text": [
      "============================================================\n",
      "time elapsed: 0:07:10\n",
      "num of updates: 1400\n",
      "train total loss: 1.19872\n",
      "train state loss: 0.94622\n",
      "train reward loss: 0.25249\n",
      "val total loss: 1.14651\n",
      "val state loss: 0.92816\n",
      "val reward loss: 0.21836\n",
      "saving min loss model at: ./log/dt_halfcheetah_model_400_64_best.pt\n",
      "saving current model at: ./log/dt_halfcheetah_model_400_64.pt\n"
     ]
    },
    {
     "name": "stderr",
     "output_type": "stream",
     "text": [
      "  4%|▍         | 15/400 [07:40<3:22:48, 31.61s/it]"
     ]
    },
    {
     "name": "stdout",
     "output_type": "stream",
     "text": [
      "============================================================\n",
      "time elapsed: 0:07:40\n",
      "num of updates: 1500\n",
      "train total loss: 1.16633\n",
      "train state loss: 0.93515\n",
      "train reward loss: 0.23118\n",
      "val total loss: 1.06393\n",
      "val state loss: 0.87455\n",
      "val reward loss: 0.18938\n",
      "saving min loss model at: ./log/dt_halfcheetah_model_400_64_best.pt\n",
      "saving current model at: ./log/dt_halfcheetah_model_400_64.pt\n"
     ]
    },
    {
     "name": "stderr",
     "output_type": "stream",
     "text": [
      "  4%|▍         | 16/400 [08:09<3:17:30, 30.86s/it]"
     ]
    },
    {
     "name": "stdout",
     "output_type": "stream",
     "text": [
      "============================================================\n",
      "time elapsed: 0:08:09\n",
      "num of updates: 1600\n",
      "train total loss: 1.15432\n",
      "train state loss: 0.93363\n",
      "train reward loss: 0.22069\n",
      "val total loss: 1.13807\n",
      "val state loss: 0.93971\n",
      "val reward loss: 0.19836\n",
      "saving min loss model at: ./log/dt_halfcheetah_model_400_64_best.pt\n",
      "saving current model at: ./log/dt_halfcheetah_model_400_64.pt\n"
     ]
    },
    {
     "name": "stderr",
     "output_type": "stream",
     "text": [
      "  4%|▍         | 17/400 [08:39<3:14:59, 30.55s/it]"
     ]
    },
    {
     "name": "stdout",
     "output_type": "stream",
     "text": [
      "============================================================\n",
      "time elapsed: 0:08:39\n",
      "num of updates: 1700\n",
      "train total loss: 1.13313\n",
      "train state loss: 0.92154\n",
      "train reward loss: 0.21159\n",
      "val total loss: 1.10677\n",
      "val state loss: 0.91551\n",
      "val reward loss: 0.19126\n",
      "saving min loss model at: ./log/dt_halfcheetah_model_400_64_best.pt\n",
      "saving current model at: ./log/dt_halfcheetah_model_400_64.pt\n"
     ]
    },
    {
     "name": "stderr",
     "output_type": "stream",
     "text": [
      "  4%|▍         | 18/400 [09:10<3:15:10, 30.66s/it]"
     ]
    },
    {
     "name": "stdout",
     "output_type": "stream",
     "text": [
      "============================================================\n",
      "time elapsed: 0:09:10\n",
      "num of updates: 1800\n",
      "train total loss: 1.11729\n",
      "train state loss: 0.91589\n",
      "train reward loss: 0.20140\n",
      "val total loss: 1.06509\n",
      "val state loss: 0.87906\n",
      "val reward loss: 0.18603\n",
      "saving min loss model at: ./log/dt_halfcheetah_model_400_64_best.pt\n",
      "saving current model at: ./log/dt_halfcheetah_model_400_64.pt\n"
     ]
    },
    {
     "name": "stderr",
     "output_type": "stream",
     "text": [
      "  5%|▍         | 19/400 [09:40<3:14:04, 30.56s/it]"
     ]
    },
    {
     "name": "stdout",
     "output_type": "stream",
     "text": [
      "============================================================\n",
      "time elapsed: 0:09:40\n",
      "num of updates: 1900\n",
      "train total loss: 1.10050\n",
      "train state loss: 0.90812\n",
      "train reward loss: 0.19238\n",
      "val total loss: 1.07685\n",
      "val state loss: 0.90838\n",
      "val reward loss: 0.16847\n",
      "saving min loss model at: ./log/dt_halfcheetah_model_400_64_best.pt\n",
      "saving current model at: ./log/dt_halfcheetah_model_400_64.pt\n"
     ]
    },
    {
     "name": "stderr",
     "output_type": "stream",
     "text": [
      "  5%|▌         | 20/400 [10:11<3:13:58, 30.63s/it]"
     ]
    },
    {
     "name": "stdout",
     "output_type": "stream",
     "text": [
      "============================================================\n",
      "time elapsed: 0:10:11\n",
      "num of updates: 2000\n",
      "train total loss: 1.08657\n",
      "train state loss: 0.90472\n",
      "train reward loss: 0.18185\n",
      "val total loss: 1.06323\n",
      "val state loss: 0.89644\n",
      "val reward loss: 0.16679\n",
      "saving min loss model at: ./log/dt_halfcheetah_model_400_64_best.pt\n",
      "saving current model at: ./log/dt_halfcheetah_model_400_64.pt\n"
     ]
    },
    {
     "name": "stderr",
     "output_type": "stream",
     "text": [
      "  5%|▌         | 21/400 [10:41<3:13:11, 30.59s/it]"
     ]
    },
    {
     "name": "stdout",
     "output_type": "stream",
     "text": [
      "============================================================\n",
      "time elapsed: 0:10:42\n",
      "num of updates: 2100\n",
      "train total loss: 1.07684\n",
      "train state loss: 0.90139\n",
      "train reward loss: 0.17545\n",
      "val total loss: 1.01005\n",
      "val state loss: 0.85258\n",
      "val reward loss: 0.15747\n",
      "saving min loss model at: ./log/dt_halfcheetah_model_400_64_best.pt\n",
      "saving current model at: ./log/dt_halfcheetah_model_400_64.pt\n"
     ]
    },
    {
     "name": "stderr",
     "output_type": "stream",
     "text": [
      "  6%|▌         | 22/400 [11:14<3:16:22, 31.17s/it]"
     ]
    },
    {
     "name": "stdout",
     "output_type": "stream",
     "text": [
      "============================================================\n",
      "time elapsed: 0:11:14\n",
      "num of updates: 2200\n",
      "train total loss: 1.06181\n",
      "train state loss: 0.89062\n",
      "train reward loss: 0.17119\n",
      "val total loss: 1.02833\n",
      "val state loss: 0.87511\n",
      "val reward loss: 0.15322\n",
      "saving min loss model at: ./log/dt_halfcheetah_model_400_64_best.pt\n",
      "saving current model at: ./log/dt_halfcheetah_model_400_64.pt\n"
     ]
    },
    {
     "name": "stderr",
     "output_type": "stream",
     "text": [
      "  6%|▌         | 23/400 [11:44<3:13:34, 30.81s/it]"
     ]
    },
    {
     "name": "stdout",
     "output_type": "stream",
     "text": [
      "============================================================\n",
      "time elapsed: 0:11:44\n",
      "num of updates: 2300\n",
      "train total loss: 1.05760\n",
      "train state loss: 0.89339\n",
      "train reward loss: 0.16421\n",
      "val total loss: 0.99049\n",
      "val state loss: 0.85270\n",
      "val reward loss: 0.13778\n",
      "saving min loss model at: ./log/dt_halfcheetah_model_400_64_best.pt\n",
      "saving current model at: ./log/dt_halfcheetah_model_400_64.pt\n"
     ]
    },
    {
     "name": "stderr",
     "output_type": "stream",
     "text": [
      "  6%|▌         | 24/400 [12:13<3:10:34, 30.41s/it]"
     ]
    },
    {
     "name": "stdout",
     "output_type": "stream",
     "text": [
      "============================================================\n",
      "time elapsed: 0:12:14\n",
      "num of updates: 2400\n",
      "train total loss: 1.04049\n",
      "train state loss: 0.88258\n",
      "train reward loss: 0.15791\n",
      "val total loss: 0.99990\n",
      "val state loss: 0.85603\n",
      "val reward loss: 0.14387\n",
      "saving min loss model at: ./log/dt_halfcheetah_model_400_64_best.pt\n",
      "saving current model at: ./log/dt_halfcheetah_model_400_64.pt\n"
     ]
    },
    {
     "name": "stderr",
     "output_type": "stream",
     "text": [
      "  6%|▋         | 25/400 [12:54<3:28:47, 33.41s/it]"
     ]
    },
    {
     "name": "stdout",
     "output_type": "stream",
     "text": [
      "============================================================\n",
      "time elapsed: 0:12:54\n",
      "num of updates: 2500\n",
      "train total loss: 1.02625\n",
      "train state loss: 0.87337\n",
      "train reward loss: 0.15287\n",
      "val total loss: 0.95944\n",
      "val state loss: 0.82657\n",
      "val reward loss: 0.13288\n",
      "saving min loss model at: ./log/dt_halfcheetah_model_400_64_best.pt\n",
      "saving current model at: ./log/dt_halfcheetah_model_400_64.pt\n"
     ]
    },
    {
     "name": "stderr",
     "output_type": "stream",
     "text": [
      "  6%|▋         | 26/400 [13:50<4:11:25, 40.34s/it]"
     ]
    },
    {
     "name": "stdout",
     "output_type": "stream",
     "text": [
      "============================================================\n",
      "time elapsed: 0:13:51\n",
      "num of updates: 2600\n",
      "train total loss: 1.00530\n",
      "train state loss: 0.85922\n",
      "train reward loss: 0.14607\n",
      "val total loss: 0.95409\n",
      "val state loss: 0.82606\n",
      "val reward loss: 0.12803\n",
      "saving min loss model at: ./log/dt_halfcheetah_model_400_64_best.pt\n",
      "saving current model at: ./log/dt_halfcheetah_model_400_64.pt\n"
     ]
    },
    {
     "name": "stderr",
     "output_type": "stream",
     "text": [
      "  7%|▋         | 27/400 [14:34<4:16:29, 41.26s/it]"
     ]
    },
    {
     "name": "stdout",
     "output_type": "stream",
     "text": [
      "============================================================\n",
      "time elapsed: 0:14:34\n",
      "num of updates: 2700\n",
      "train total loss: 0.98579\n",
      "train state loss: 0.84483\n",
      "train reward loss: 0.14097\n",
      "val total loss: 0.93795\n",
      "val state loss: 0.81411\n",
      "val reward loss: 0.12383\n",
      "saving min loss model at: ./log/dt_halfcheetah_model_400_64_best.pt\n",
      "saving current model at: ./log/dt_halfcheetah_model_400_64.pt\n"
     ]
    },
    {
     "name": "stderr",
     "output_type": "stream",
     "text": [
      "  7%|▋         | 28/400 [15:09<4:04:53, 39.50s/it]"
     ]
    },
    {
     "name": "stdout",
     "output_type": "stream",
     "text": [
      "============================================================\n",
      "time elapsed: 0:15:09\n",
      "num of updates: 2800\n",
      "train total loss: 0.96134\n",
      "train state loss: 0.82565\n",
      "train reward loss: 0.13569\n",
      "val total loss: 0.93040\n",
      "val state loss: 0.80959\n",
      "val reward loss: 0.12081\n",
      "saving min loss model at: ./log/dt_halfcheetah_model_400_64_best.pt\n",
      "saving current model at: ./log/dt_halfcheetah_model_400_64.pt\n"
     ]
    },
    {
     "name": "stderr",
     "output_type": "stream",
     "text": [
      "  7%|▋         | 29/400 [15:46<3:58:36, 38.59s/it]"
     ]
    },
    {
     "name": "stdout",
     "output_type": "stream",
     "text": [
      "============================================================\n",
      "time elapsed: 0:15:46\n",
      "num of updates: 2900\n",
      "train total loss: 0.92459\n",
      "train state loss: 0.79560\n",
      "train reward loss: 0.12898\n",
      "val total loss: 0.87415\n",
      "val state loss: 0.76176\n",
      "val reward loss: 0.11239\n",
      "saving min loss model at: ./log/dt_halfcheetah_model_400_64_best.pt\n",
      "saving current model at: ./log/dt_halfcheetah_model_400_64.pt\n"
     ]
    },
    {
     "name": "stderr",
     "output_type": "stream",
     "text": [
      "  8%|▊         | 30/400 [16:25<3:59:50, 38.89s/it]"
     ]
    },
    {
     "name": "stdout",
     "output_type": "stream",
     "text": [
      "============================================================\n",
      "time elapsed: 0:16:25\n",
      "num of updates: 3000\n",
      "train total loss: 0.89285\n",
      "train state loss: 0.76885\n",
      "train reward loss: 0.12400\n",
      "val total loss: 0.82710\n",
      "val state loss: 0.71853\n",
      "val reward loss: 0.10857\n",
      "saving min loss model at: ./log/dt_halfcheetah_model_400_64_best.pt\n",
      "saving current model at: ./log/dt_halfcheetah_model_400_64.pt\n"
     ]
    },
    {
     "name": "stderr",
     "output_type": "stream",
     "text": [
      "  8%|▊         | 31/400 [17:02<3:55:17, 38.26s/it]"
     ]
    },
    {
     "name": "stdout",
     "output_type": "stream",
     "text": [
      "============================================================\n",
      "time elapsed: 0:17:02\n",
      "num of updates: 3100\n",
      "train total loss: 0.85148\n",
      "train state loss: 0.73220\n",
      "train reward loss: 0.11928\n",
      "val total loss: 0.79710\n",
      "val state loss: 0.69224\n",
      "val reward loss: 0.10485\n",
      "saving min loss model at: ./log/dt_halfcheetah_model_400_64_best.pt\n",
      "saving current model at: ./log/dt_halfcheetah_model_400_64.pt\n"
     ]
    },
    {
     "name": "stderr",
     "output_type": "stream",
     "text": [
      "  8%|▊         | 32/400 [17:38<3:51:09, 37.69s/it]"
     ]
    },
    {
     "name": "stdout",
     "output_type": "stream",
     "text": [
      "============================================================\n",
      "time elapsed: 0:17:39\n",
      "num of updates: 3200\n",
      "train total loss: 0.80966\n",
      "train state loss: 0.69483\n",
      "train reward loss: 0.11483\n",
      "val total loss: 0.74456\n",
      "val state loss: 0.65427\n",
      "val reward loss: 0.09030\n",
      "saving min loss model at: ./log/dt_halfcheetah_model_400_64_best.pt\n",
      "saving current model at: ./log/dt_halfcheetah_model_400_64.pt\n"
     ]
    },
    {
     "name": "stderr",
     "output_type": "stream",
     "text": [
      "  8%|▊         | 33/400 [18:34<4:22:56, 42.99s/it]"
     ]
    },
    {
     "name": "stdout",
     "output_type": "stream",
     "text": [
      "============================================================\n",
      "time elapsed: 0:18:34\n",
      "num of updates: 3300\n",
      "train total loss: 0.76167\n",
      "train state loss: 0.65385\n",
      "train reward loss: 0.10782\n",
      "val total loss: 0.69421\n",
      "val state loss: 0.60486\n",
      "val reward loss: 0.08935\n",
      "saving min loss model at: ./log/dt_halfcheetah_model_400_64_best.pt\n",
      "saving current model at: ./log/dt_halfcheetah_model_400_64.pt\n"
     ]
    },
    {
     "name": "stderr",
     "output_type": "stream",
     "text": [
      "  8%|▊         | 34/400 [19:12<4:13:20, 41.53s/it]"
     ]
    },
    {
     "name": "stdout",
     "output_type": "stream",
     "text": [
      "============================================================\n",
      "time elapsed: 0:19:12\n",
      "num of updates: 3400\n",
      "train total loss: 0.72156\n",
      "train state loss: 0.61882\n",
      "train reward loss: 0.10274\n",
      "val total loss: 0.66727\n",
      "val state loss: 0.58238\n",
      "val reward loss: 0.08489\n",
      "saving min loss model at: ./log/dt_halfcheetah_model_400_64_best.pt\n",
      "saving current model at: ./log/dt_halfcheetah_model_400_64.pt\n"
     ]
    },
    {
     "name": "stderr",
     "output_type": "stream",
     "text": [
      "  9%|▉         | 35/400 [19:47<4:01:38, 39.72s/it]"
     ]
    },
    {
     "name": "stdout",
     "output_type": "stream",
     "text": [
      "============================================================\n",
      "time elapsed: 0:19:48\n",
      "num of updates: 3500\n",
      "train total loss: 0.67696\n",
      "train state loss: 0.58022\n",
      "train reward loss: 0.09674\n",
      "val total loss: 0.61531\n",
      "val state loss: 0.53481\n",
      "val reward loss: 0.08050\n",
      "saving min loss model at: ./log/dt_halfcheetah_model_400_64_best.pt\n",
      "saving current model at: ./log/dt_halfcheetah_model_400_64.pt\n"
     ]
    },
    {
     "name": "stderr",
     "output_type": "stream",
     "text": [
      "  9%|▉         | 36/400 [20:28<4:02:30, 39.97s/it]"
     ]
    },
    {
     "name": "stdout",
     "output_type": "stream",
     "text": [
      "============================================================\n",
      "time elapsed: 0:20:28\n",
      "num of updates: 3600\n",
      "train total loss: 0.63169\n",
      "train state loss: 0.54087\n",
      "train reward loss: 0.09082\n",
      "val total loss: 0.54717\n",
      "val state loss: 0.47571\n",
      "val reward loss: 0.07146\n",
      "saving min loss model at: ./log/dt_halfcheetah_model_400_64_best.pt\n",
      "saving current model at: ./log/dt_halfcheetah_model_400_64.pt\n"
     ]
    },
    {
     "name": "stderr",
     "output_type": "stream",
     "text": [
      "  9%|▉         | 37/400 [21:09<4:03:35, 40.26s/it]"
     ]
    },
    {
     "name": "stdout",
     "output_type": "stream",
     "text": [
      "============================================================\n",
      "time elapsed: 0:21:09\n",
      "num of updates: 3700\n",
      "train total loss: 0.58259\n",
      "train state loss: 0.49882\n",
      "train reward loss: 0.08377\n",
      "val total loss: 0.51112\n",
      "val state loss: 0.44691\n",
      "val reward loss: 0.06421\n",
      "saving min loss model at: ./log/dt_halfcheetah_model_400_64_best.pt\n",
      "saving current model at: ./log/dt_halfcheetah_model_400_64.pt\n"
     ]
    },
    {
     "name": "stderr",
     "output_type": "stream",
     "text": [
      " 10%|▉         | 38/400 [21:49<4:02:17, 40.16s/it]"
     ]
    },
    {
     "name": "stdout",
     "output_type": "stream",
     "text": [
      "============================================================\n",
      "time elapsed: 0:21:49\n",
      "num of updates: 3800\n",
      "train total loss: 0.52745\n",
      "train state loss: 0.45114\n",
      "train reward loss: 0.07631\n",
      "val total loss: 0.45550\n",
      "val state loss: 0.39888\n",
      "val reward loss: 0.05662\n",
      "saving min loss model at: ./log/dt_halfcheetah_model_400_64_best.pt\n",
      "saving current model at: ./log/dt_halfcheetah_model_400_64.pt\n"
     ]
    },
    {
     "name": "stderr",
     "output_type": "stream",
     "text": [
      " 10%|▉         | 39/400 [22:34<4:11:22, 41.78s/it]"
     ]
    },
    {
     "name": "stdout",
     "output_type": "stream",
     "text": [
      "============================================================\n",
      "time elapsed: 0:22:35\n",
      "num of updates: 3900\n",
      "train total loss: 0.48912\n",
      "train state loss: 0.41738\n",
      "train reward loss: 0.07174\n",
      "val total loss: 0.41257\n",
      "val state loss: 0.36571\n",
      "val reward loss: 0.04686\n",
      "saving min loss model at: ./log/dt_halfcheetah_model_400_64_best.pt\n",
      "saving current model at: ./log/dt_halfcheetah_model_400_64.pt\n"
     ]
    },
    {
     "name": "stderr",
     "output_type": "stream",
     "text": [
      " 10%|█         | 40/400 [23:14<4:06:54, 41.15s/it]"
     ]
    },
    {
     "name": "stdout",
     "output_type": "stream",
     "text": [
      "============================================================\n",
      "time elapsed: 0:23:14\n",
      "num of updates: 4000\n",
      "train total loss: 0.44630\n",
      "train state loss: 0.38041\n",
      "train reward loss: 0.06589\n",
      "val total loss: 0.37631\n",
      "val state loss: 0.32834\n",
      "val reward loss: 0.04798\n",
      "saving min loss model at: ./log/dt_halfcheetah_model_400_64_best.pt\n",
      "saving current model at: ./log/dt_halfcheetah_model_400_64.pt\n"
     ]
    },
    {
     "name": "stderr",
     "output_type": "stream",
     "text": [
      " 10%|█         | 41/400 [23:59<4:13:28, 42.36s/it]"
     ]
    },
    {
     "name": "stdout",
     "output_type": "stream",
     "text": [
      "============================================================\n",
      "time elapsed: 0:23:59\n",
      "num of updates: 4100\n",
      "train total loss: 0.41162\n",
      "train state loss: 0.35081\n",
      "train reward loss: 0.06081\n",
      "val total loss: 0.33200\n",
      "val state loss: 0.29228\n",
      "val reward loss: 0.03972\n",
      "saving min loss model at: ./log/dt_halfcheetah_model_400_64_best.pt\n",
      "saving current model at: ./log/dt_halfcheetah_model_400_64.pt\n"
     ]
    },
    {
     "name": "stderr",
     "output_type": "stream",
     "text": [
      " 10%|█         | 42/400 [24:36<4:03:22, 40.79s/it]"
     ]
    },
    {
     "name": "stdout",
     "output_type": "stream",
     "text": [
      "============================================================\n",
      "time elapsed: 0:24:37\n",
      "num of updates: 4200\n",
      "train total loss: 0.38412\n",
      "train state loss: 0.32739\n",
      "train reward loss: 0.05673\n",
      "val total loss: 0.31903\n",
      "val state loss: 0.27885\n",
      "val reward loss: 0.04018\n",
      "saving min loss model at: ./log/dt_halfcheetah_model_400_64_best.pt\n",
      "saving current model at: ./log/dt_halfcheetah_model_400_64.pt\n"
     ]
    },
    {
     "name": "stderr",
     "output_type": "stream",
     "text": [
      " 11%|█         | 43/400 [25:14<3:57:53, 39.98s/it]"
     ]
    },
    {
     "name": "stdout",
     "output_type": "stream",
     "text": [
      "============================================================\n",
      "time elapsed: 0:25:15\n",
      "num of updates: 4300\n",
      "train total loss: 0.36117\n",
      "train state loss: 0.30773\n",
      "train reward loss: 0.05344\n",
      "val total loss: 0.29946\n",
      "val state loss: 0.26074\n",
      "val reward loss: 0.03873\n",
      "saving min loss model at: ./log/dt_halfcheetah_model_400_64_best.pt\n",
      "saving current model at: ./log/dt_halfcheetah_model_400_64.pt\n"
     ]
    },
    {
     "name": "stderr",
     "output_type": "stream",
     "text": [
      " 11%|█         | 44/400 [25:50<3:50:14, 38.81s/it]"
     ]
    },
    {
     "name": "stdout",
     "output_type": "stream",
     "text": [
      "============================================================\n",
      "time elapsed: 0:25:51\n",
      "num of updates: 4400\n",
      "train total loss: 0.33543\n",
      "train state loss: 0.28546\n",
      "train reward loss: 0.04997\n",
      "val total loss: 0.26832\n",
      "val state loss: 0.23702\n",
      "val reward loss: 0.03130\n",
      "saving min loss model at: ./log/dt_halfcheetah_model_400_64_best.pt\n",
      "saving current model at: ./log/dt_halfcheetah_model_400_64.pt\n"
     ]
    },
    {
     "name": "stderr",
     "output_type": "stream",
     "text": [
      " 11%|█▏        | 45/400 [26:29<3:49:43, 38.83s/it]"
     ]
    },
    {
     "name": "stdout",
     "output_type": "stream",
     "text": [
      "============================================================\n",
      "time elapsed: 0:26:30\n",
      "num of updates: 4500\n",
      "train total loss: 0.32149\n",
      "train state loss: 0.27305\n",
      "train reward loss: 0.04844\n",
      "val total loss: 0.25694\n",
      "val state loss: 0.22482\n",
      "val reward loss: 0.03211\n",
      "saving min loss model at: ./log/dt_halfcheetah_model_400_64_best.pt\n",
      "saving current model at: ./log/dt_halfcheetah_model_400_64.pt\n"
     ]
    },
    {
     "name": "stderr",
     "output_type": "stream",
     "text": [
      " 12%|█▏        | 46/400 [27:07<3:47:14, 38.52s/it]"
     ]
    },
    {
     "name": "stdout",
     "output_type": "stream",
     "text": [
      "============================================================\n",
      "time elapsed: 0:27:07\n",
      "num of updates: 4600\n",
      "train total loss: 0.30627\n",
      "train state loss: 0.25965\n",
      "train reward loss: 0.04662\n",
      "val total loss: 0.25611\n",
      "val state loss: 0.22494\n",
      "val reward loss: 0.03117\n",
      "saving min loss model at: ./log/dt_halfcheetah_model_400_64_best.pt\n",
      "saving current model at: ./log/dt_halfcheetah_model_400_64.pt\n"
     ]
    },
    {
     "name": "stderr",
     "output_type": "stream",
     "text": [
      " 12%|█▏        | 47/400 [27:40<3:36:58, 36.88s/it]"
     ]
    },
    {
     "name": "stdout",
     "output_type": "stream",
     "text": [
      "============================================================\n",
      "time elapsed: 0:27:40\n",
      "num of updates: 4700\n",
      "train total loss: 0.29318\n",
      "train state loss: 0.24915\n",
      "train reward loss: 0.04403\n",
      "val total loss: 0.23108\n",
      "val state loss: 0.20318\n",
      "val reward loss: 0.02790\n",
      "saving min loss model at: ./log/dt_halfcheetah_model_400_64_best.pt\n",
      "saving current model at: ./log/dt_halfcheetah_model_400_64.pt\n"
     ]
    },
    {
     "name": "stderr",
     "output_type": "stream",
     "text": [
      " 12%|█▏        | 48/400 [28:16<3:33:49, 36.45s/it]"
     ]
    },
    {
     "name": "stdout",
     "output_type": "stream",
     "text": [
      "============================================================\n",
      "time elapsed: 0:28:16\n",
      "num of updates: 4800\n",
      "train total loss: 0.27541\n",
      "train state loss: 0.23379\n",
      "train reward loss: 0.04162\n",
      "val total loss: 0.22271\n",
      "val state loss: 0.19734\n",
      "val reward loss: 0.02538\n",
      "saving min loss model at: ./log/dt_halfcheetah_model_400_64_best.pt\n",
      "saving current model at: ./log/dt_halfcheetah_model_400_64.pt\n"
     ]
    },
    {
     "name": "stderr",
     "output_type": "stream",
     "text": [
      " 12%|█▏        | 49/400 [28:52<3:33:20, 36.47s/it]"
     ]
    },
    {
     "name": "stdout",
     "output_type": "stream",
     "text": [
      "============================================================\n",
      "time elapsed: 0:28:52\n",
      "num of updates: 4900\n",
      "train total loss: 0.26768\n",
      "train state loss: 0.22695\n",
      "train reward loss: 0.04073\n",
      "val total loss: 0.21785\n",
      "val state loss: 0.18992\n",
      "val reward loss: 0.02793\n",
      "saving min loss model at: ./log/dt_halfcheetah_model_400_64_best.pt\n",
      "saving current model at: ./log/dt_halfcheetah_model_400_64.pt\n"
     ]
    },
    {
     "name": "stderr",
     "output_type": "stream",
     "text": [
      " 12%|█▎        | 50/400 [29:30<3:35:54, 37.01s/it]"
     ]
    },
    {
     "name": "stdout",
     "output_type": "stream",
     "text": [
      "============================================================\n",
      "time elapsed: 0:29:31\n",
      "num of updates: 5000\n",
      "train total loss: 0.25543\n",
      "train state loss: 0.21517\n",
      "train reward loss: 0.04025\n",
      "val total loss: 0.20232\n",
      "val state loss: 0.17593\n",
      "val reward loss: 0.02639\n",
      "saving min loss model at: ./log/dt_halfcheetah_model_400_64_best.pt\n",
      "saving current model at: ./log/dt_halfcheetah_model_400_64.pt\n"
     ]
    },
    {
     "name": "stderr",
     "output_type": "stream",
     "text": [
      " 13%|█▎        | 51/400 [30:05<3:31:23, 36.34s/it]"
     ]
    },
    {
     "name": "stdout",
     "output_type": "stream",
     "text": [
      "============================================================\n",
      "time elapsed: 0:30:05\n",
      "num of updates: 5100\n",
      "train total loss: 0.24426\n",
      "train state loss: 0.20581\n",
      "train reward loss: 0.03844\n",
      "val total loss: 0.18322\n",
      "val state loss: 0.15835\n",
      "val reward loss: 0.02487\n",
      "saving min loss model at: ./log/dt_halfcheetah_model_400_64_best.pt\n",
      "saving current model at: ./log/dt_halfcheetah_model_400_64.pt\n"
     ]
    },
    {
     "name": "stderr",
     "output_type": "stream",
     "text": [
      " 13%|█▎        | 52/400 [30:42<3:31:38, 36.49s/it]"
     ]
    },
    {
     "name": "stdout",
     "output_type": "stream",
     "text": [
      "============================================================\n",
      "time elapsed: 0:30:42\n",
      "num of updates: 5200\n",
      "train total loss: 0.23243\n",
      "train state loss: 0.19511\n",
      "train reward loss: 0.03732\n",
      "val total loss: 0.17166\n",
      "val state loss: 0.14740\n",
      "val reward loss: 0.02426\n",
      "saving min loss model at: ./log/dt_halfcheetah_model_400_64_best.pt\n",
      "saving current model at: ./log/dt_halfcheetah_model_400_64.pt\n"
     ]
    },
    {
     "name": "stderr",
     "output_type": "stream",
     "text": [
      " 13%|█▎        | 53/400 [31:21<3:35:33, 37.27s/it]"
     ]
    },
    {
     "name": "stdout",
     "output_type": "stream",
     "text": [
      "============================================================\n",
      "time elapsed: 0:31:21\n",
      "num of updates: 5300\n",
      "train total loss: 0.22587\n",
      "train state loss: 0.18803\n",
      "train reward loss: 0.03784\n",
      "val total loss: 0.16360\n",
      "val state loss: 0.14089\n",
      "val reward loss: 0.02271\n",
      "saving min loss model at: ./log/dt_halfcheetah_model_400_64_best.pt\n",
      "saving current model at: ./log/dt_halfcheetah_model_400_64.pt\n"
     ]
    },
    {
     "name": "stderr",
     "output_type": "stream",
     "text": [
      " 14%|█▎        | 54/400 [31:57<3:32:31, 36.85s/it]"
     ]
    },
    {
     "name": "stdout",
     "output_type": "stream",
     "text": [
      "============================================================\n",
      "time elapsed: 0:31:57\n",
      "num of updates: 5400\n",
      "train total loss: 0.21445\n",
      "train state loss: 0.17912\n",
      "train reward loss: 0.03533\n",
      "val total loss: 0.16709\n",
      "val state loss: 0.14145\n",
      "val reward loss: 0.02564\n",
      "saving min loss model at: ./log/dt_halfcheetah_model_400_64_best.pt\n",
      "saving current model at: ./log/dt_halfcheetah_model_400_64.pt\n"
     ]
    },
    {
     "name": "stderr",
     "output_type": "stream",
     "text": [
      " 14%|█▍        | 55/400 [32:32<3:28:24, 36.24s/it]"
     ]
    },
    {
     "name": "stdout",
     "output_type": "stream",
     "text": [
      "============================================================\n",
      "time elapsed: 0:32:32\n",
      "num of updates: 5500\n",
      "train total loss: 0.20262\n",
      "train state loss: 0.16850\n",
      "train reward loss: 0.03412\n",
      "val total loss: 0.14192\n",
      "val state loss: 0.12354\n",
      "val reward loss: 0.01837\n",
      "saving min loss model at: ./log/dt_halfcheetah_model_400_64_best.pt\n",
      "saving current model at: ./log/dt_halfcheetah_model_400_64.pt\n"
     ]
    },
    {
     "name": "stderr",
     "output_type": "stream",
     "text": [
      " 14%|█▍        | 56/400 [33:07<3:26:40, 36.05s/it]"
     ]
    },
    {
     "name": "stdout",
     "output_type": "stream",
     "text": [
      "============================================================\n",
      "time elapsed: 0:33:08\n",
      "num of updates: 5600\n",
      "train total loss: 0.19567\n",
      "train state loss: 0.16214\n",
      "train reward loss: 0.03353\n",
      "val total loss: 0.14113\n",
      "val state loss: 0.12123\n",
      "val reward loss: 0.01990\n",
      "saving min loss model at: ./log/dt_halfcheetah_model_400_64_best.pt\n",
      "saving current model at: ./log/dt_halfcheetah_model_400_64.pt\n"
     ]
    },
    {
     "name": "stderr",
     "output_type": "stream",
     "text": [
      " 14%|█▍        | 57/400 [33:56<3:47:28, 39.79s/it]"
     ]
    },
    {
     "name": "stdout",
     "output_type": "stream",
     "text": [
      "============================================================\n",
      "time elapsed: 0:33:56\n",
      "num of updates: 5700\n",
      "train total loss: 0.19085\n",
      "train state loss: 0.15749\n",
      "train reward loss: 0.03336\n",
      "val total loss: 0.13599\n",
      "val state loss: 0.11641\n",
      "val reward loss: 0.01958\n",
      "saving min loss model at: ./log/dt_halfcheetah_model_400_64_best.pt\n",
      "saving current model at: ./log/dt_halfcheetah_model_400_64.pt\n"
     ]
    },
    {
     "name": "stderr",
     "output_type": "stream",
     "text": [
      " 14%|█▍        | 58/400 [34:38<3:51:03, 40.54s/it]"
     ]
    },
    {
     "name": "stdout",
     "output_type": "stream",
     "text": [
      "============================================================\n",
      "time elapsed: 0:34:38\n",
      "num of updates: 5800\n",
      "train total loss: 0.17989\n",
      "train state loss: 0.14858\n",
      "train reward loss: 0.03130\n",
      "val total loss: 0.13096\n",
      "val state loss: 0.11075\n",
      "val reward loss: 0.02021\n",
      "saving min loss model at: ./log/dt_halfcheetah_model_400_64_best.pt\n",
      "saving current model at: ./log/dt_halfcheetah_model_400_64.pt\n"
     ]
    },
    {
     "name": "stderr",
     "output_type": "stream",
     "text": [
      " 15%|█▍        | 59/400 [35:20<3:52:44, 40.95s/it]"
     ]
    },
    {
     "name": "stdout",
     "output_type": "stream",
     "text": [
      "============================================================\n",
      "time elapsed: 0:35:20\n",
      "num of updates: 5900\n",
      "train total loss: 0.17855\n",
      "train state loss: 0.14696\n",
      "train reward loss: 0.03159\n",
      "val total loss: 0.13491\n",
      "val state loss: 0.11303\n",
      "val reward loss: 0.02188\n",
      "saving min loss model at: ./log/dt_halfcheetah_model_400_64_best.pt\n",
      "saving current model at: ./log/dt_halfcheetah_model_400_64.pt\n"
     ]
    },
    {
     "name": "stderr",
     "output_type": "stream",
     "text": [
      " 15%|█▌        | 60/400 [36:01<3:51:21, 40.83s/it]"
     ]
    },
    {
     "name": "stdout",
     "output_type": "stream",
     "text": [
      "============================================================\n",
      "time elapsed: 0:36:01\n",
      "num of updates: 6000\n",
      "train total loss: 0.17150\n",
      "train state loss: 0.14080\n",
      "train reward loss: 0.03070\n",
      "val total loss: 0.11642\n",
      "val state loss: 0.09926\n",
      "val reward loss: 0.01716\n",
      "saving min loss model at: ./log/dt_halfcheetah_model_400_64_best.pt\n",
      "saving current model at: ./log/dt_halfcheetah_model_400_64.pt\n"
     ]
    },
    {
     "name": "stderr",
     "output_type": "stream",
     "text": [
      " 15%|█▌        | 61/400 [36:37<3:43:08, 39.49s/it]"
     ]
    },
    {
     "name": "stdout",
     "output_type": "stream",
     "text": [
      "============================================================\n",
      "time elapsed: 0:36:37\n",
      "num of updates: 6100\n",
      "train total loss: 0.16608\n",
      "train state loss: 0.13621\n",
      "train reward loss: 0.02987\n",
      "val total loss: 0.12200\n",
      "val state loss: 0.10194\n",
      "val reward loss: 0.02006\n",
      "saving min loss model at: ./log/dt_halfcheetah_model_400_64_best.pt\n",
      "saving current model at: ./log/dt_halfcheetah_model_400_64.pt\n"
     ]
    },
    {
     "name": "stderr",
     "output_type": "stream",
     "text": [
      " 16%|█▌        | 62/400 [37:14<3:38:33, 38.80s/it]"
     ]
    },
    {
     "name": "stdout",
     "output_type": "stream",
     "text": [
      "============================================================\n",
      "time elapsed: 0:37:14\n",
      "num of updates: 6200\n",
      "train total loss: 0.15888\n",
      "train state loss: 0.13035\n",
      "train reward loss: 0.02853\n",
      "val total loss: 0.10695\n",
      "val state loss: 0.09031\n",
      "val reward loss: 0.01664\n",
      "saving min loss model at: ./log/dt_halfcheetah_model_400_64_best.pt\n",
      "saving current model at: ./log/dt_halfcheetah_model_400_64.pt\n"
     ]
    },
    {
     "name": "stderr",
     "output_type": "stream",
     "text": [
      " 16%|█▌        | 63/400 [37:55<3:40:24, 39.24s/it]"
     ]
    },
    {
     "name": "stdout",
     "output_type": "stream",
     "text": [
      "============================================================\n",
      "time elapsed: 0:37:55\n",
      "num of updates: 6300\n",
      "train total loss: 0.15521\n",
      "train state loss: 0.12699\n",
      "train reward loss: 0.02822\n",
      "val total loss: 0.10400\n",
      "val state loss: 0.08801\n",
      "val reward loss: 0.01599\n",
      "saving min loss model at: ./log/dt_halfcheetah_model_400_64_best.pt\n",
      "saving current model at: ./log/dt_halfcheetah_model_400_64.pt\n"
     ]
    },
    {
     "name": "stderr",
     "output_type": "stream",
     "text": [
      " 16%|█▌        | 64/400 [38:32<3:35:57, 38.56s/it]"
     ]
    },
    {
     "name": "stdout",
     "output_type": "stream",
     "text": [
      "============================================================\n",
      "time elapsed: 0:38:32\n",
      "num of updates: 6400\n",
      "train total loss: 0.15284\n",
      "train state loss: 0.12508\n",
      "train reward loss: 0.02776\n",
      "val total loss: 0.10974\n",
      "val state loss: 0.09300\n",
      "val reward loss: 0.01674\n",
      "saving min loss model at: ./log/dt_halfcheetah_model_400_64_best.pt\n",
      "saving current model at: ./log/dt_halfcheetah_model_400_64.pt\n"
     ]
    },
    {
     "name": "stderr",
     "output_type": "stream",
     "text": [
      " 16%|█▋        | 65/400 [39:07<3:29:33, 37.53s/it]"
     ]
    },
    {
     "name": "stdout",
     "output_type": "stream",
     "text": [
      "============================================================\n",
      "time elapsed: 0:39:07\n",
      "num of updates: 6500\n",
      "train total loss: 0.14864\n",
      "train state loss: 0.12166\n",
      "train reward loss: 0.02698\n",
      "val total loss: 0.09608\n",
      "val state loss: 0.08150\n",
      "val reward loss: 0.01458\n",
      "saving min loss model at: ./log/dt_halfcheetah_model_400_64_best.pt\n",
      "saving current model at: ./log/dt_halfcheetah_model_400_64.pt\n"
     ]
    },
    {
     "name": "stderr",
     "output_type": "stream",
     "text": [
      " 16%|█▋        | 66/400 [39:45<3:29:57, 37.72s/it]"
     ]
    },
    {
     "name": "stdout",
     "output_type": "stream",
     "text": [
      "============================================================\n",
      "time elapsed: 0:39:45\n",
      "num of updates: 6600\n",
      "train total loss: 0.14554\n",
      "train state loss: 0.11859\n",
      "train reward loss: 0.02695\n",
      "val total loss: 0.10336\n",
      "val state loss: 0.08635\n",
      "val reward loss: 0.01701\n",
      "saving min loss model at: ./log/dt_halfcheetah_model_400_64_best.pt\n",
      "saving current model at: ./log/dt_halfcheetah_model_400_64.pt\n"
     ]
    },
    {
     "name": "stderr",
     "output_type": "stream",
     "text": [
      " 17%|█▋        | 67/400 [40:28<3:38:36, 39.39s/it]"
     ]
    },
    {
     "name": "stdout",
     "output_type": "stream",
     "text": [
      "============================================================\n",
      "time elapsed: 0:40:28\n",
      "num of updates: 6700\n",
      "train total loss: 0.13951\n",
      "train state loss: 0.11383\n",
      "train reward loss: 0.02568\n",
      "val total loss: 0.10323\n",
      "val state loss: 0.08507\n",
      "val reward loss: 0.01816\n",
      "saving min loss model at: ./log/dt_halfcheetah_model_400_64_best.pt\n",
      "saving current model at: ./log/dt_halfcheetah_model_400_64.pt\n"
     ]
    },
    {
     "name": "stderr",
     "output_type": "stream",
     "text": [
      " 17%|█▋        | 68/400 [41:05<3:33:36, 38.60s/it]"
     ]
    },
    {
     "name": "stdout",
     "output_type": "stream",
     "text": [
      "============================================================\n",
      "time elapsed: 0:41:05\n",
      "num of updates: 6800\n",
      "train total loss: 0.13872\n",
      "train state loss: 0.11315\n",
      "train reward loss: 0.02557\n",
      "val total loss: 0.08880\n",
      "val state loss: 0.07491\n",
      "val reward loss: 0.01389\n",
      "saving min loss model at: ./log/dt_halfcheetah_model_400_64_best.pt\n",
      "saving current model at: ./log/dt_halfcheetah_model_400_64.pt\n"
     ]
    },
    {
     "name": "stderr",
     "output_type": "stream",
     "text": [
      " 17%|█▋        | 69/400 [41:43<3:31:38, 38.37s/it]"
     ]
    },
    {
     "name": "stdout",
     "output_type": "stream",
     "text": [
      "============================================================\n",
      "time elapsed: 0:41:43\n",
      "num of updates: 6900\n",
      "train total loss: 0.13371\n",
      "train state loss: 0.10919\n",
      "train reward loss: 0.02452\n",
      "val total loss: 0.09376\n",
      "val state loss: 0.07847\n",
      "val reward loss: 0.01529\n",
      "saving min loss model at: ./log/dt_halfcheetah_model_400_64_best.pt\n",
      "saving current model at: ./log/dt_halfcheetah_model_400_64.pt\n"
     ]
    },
    {
     "name": "stderr",
     "output_type": "stream",
     "text": [
      " 18%|█▊        | 70/400 [42:23<3:34:39, 39.03s/it]"
     ]
    },
    {
     "name": "stdout",
     "output_type": "stream",
     "text": [
      "============================================================\n",
      "time elapsed: 0:42:23\n",
      "num of updates: 7000\n",
      "train total loss: 0.13271\n",
      "train state loss: 0.10837\n",
      "train reward loss: 0.02434\n",
      "val total loss: 0.08844\n",
      "val state loss: 0.07274\n",
      "val reward loss: 0.01571\n",
      "saving min loss model at: ./log/dt_halfcheetah_model_400_64_best.pt\n",
      "saving current model at: ./log/dt_halfcheetah_model_400_64.pt\n"
     ]
    },
    {
     "name": "stderr",
     "output_type": "stream",
     "text": [
      " 18%|█▊        | 71/400 [43:06<3:40:27, 40.20s/it]"
     ]
    },
    {
     "name": "stdout",
     "output_type": "stream",
     "text": [
      "============================================================\n",
      "time elapsed: 0:43:06\n",
      "num of updates: 7100\n",
      "train total loss: 0.12860\n",
      "train state loss: 0.10492\n",
      "train reward loss: 0.02368\n",
      "val total loss: 0.08635\n",
      "val state loss: 0.07371\n",
      "val reward loss: 0.01265\n",
      "saving min loss model at: ./log/dt_halfcheetah_model_400_64_best.pt\n",
      "saving current model at: ./log/dt_halfcheetah_model_400_64.pt\n"
     ]
    },
    {
     "name": "stderr",
     "output_type": "stream",
     "text": [
      " 18%|█▊        | 72/400 [43:46<3:38:25, 39.96s/it]"
     ]
    },
    {
     "name": "stdout",
     "output_type": "stream",
     "text": [
      "============================================================\n",
      "time elapsed: 0:43:46\n",
      "num of updates: 7200\n",
      "train total loss: 0.12719\n",
      "train state loss: 0.10367\n",
      "train reward loss: 0.02352\n",
      "val total loss: 0.08332\n",
      "val state loss: 0.06989\n",
      "val reward loss: 0.01342\n",
      "saving min loss model at: ./log/dt_halfcheetah_model_400_64_best.pt\n",
      "saving current model at: ./log/dt_halfcheetah_model_400_64.pt\n"
     ]
    },
    {
     "name": "stderr",
     "output_type": "stream",
     "text": [
      " 18%|█▊        | 73/400 [44:23<3:33:14, 39.13s/it]"
     ]
    },
    {
     "name": "stdout",
     "output_type": "stream",
     "text": [
      "============================================================\n",
      "time elapsed: 0:44:23\n",
      "num of updates: 7300\n",
      "train total loss: 0.12442\n",
      "train state loss: 0.10133\n",
      "train reward loss: 0.02309\n",
      "val total loss: 0.07436\n",
      "val state loss: 0.06286\n",
      "val reward loss: 0.01149\n",
      "saving min loss model at: ./log/dt_halfcheetah_model_400_64_best.pt\n",
      "saving current model at: ./log/dt_halfcheetah_model_400_64.pt\n"
     ]
    },
    {
     "name": "stderr",
     "output_type": "stream",
     "text": [
      " 18%|█▊        | 74/400 [45:04<3:35:14, 39.62s/it]"
     ]
    },
    {
     "name": "stdout",
     "output_type": "stream",
     "text": [
      "============================================================\n",
      "time elapsed: 0:45:04\n",
      "num of updates: 7400\n",
      "train total loss: 0.12093\n",
      "train state loss: 0.09871\n",
      "train reward loss: 0.02222\n",
      "val total loss: 0.08388\n",
      "val state loss: 0.06976\n",
      "val reward loss: 0.01411\n",
      "saving min loss model at: ./log/dt_halfcheetah_model_400_64_best.pt\n",
      "saving current model at: ./log/dt_halfcheetah_model_400_64.pt\n"
     ]
    },
    {
     "name": "stderr",
     "output_type": "stream",
     "text": [
      " 19%|█▉        | 75/400 [45:42<3:33:20, 39.39s/it]"
     ]
    },
    {
     "name": "stdout",
     "output_type": "stream",
     "text": [
      "============================================================\n",
      "time elapsed: 0:45:43\n",
      "num of updates: 7500\n",
      "train total loss: 0.11887\n",
      "train state loss: 0.09711\n",
      "train reward loss: 0.02176\n",
      "val total loss: 0.07892\n",
      "val state loss: 0.06654\n",
      "val reward loss: 0.01239\n",
      "saving min loss model at: ./log/dt_halfcheetah_model_400_64_best.pt\n",
      "saving current model at: ./log/dt_halfcheetah_model_400_64.pt\n"
     ]
    },
    {
     "name": "stderr",
     "output_type": "stream",
     "text": [
      " 19%|█▉        | 76/400 [46:22<3:33:28, 39.53s/it]"
     ]
    },
    {
     "name": "stdout",
     "output_type": "stream",
     "text": [
      "============================================================\n",
      "time elapsed: 0:46:22\n",
      "num of updates: 7600\n",
      "train total loss: 0.11980\n",
      "train state loss: 0.09762\n",
      "train reward loss: 0.02219\n",
      "val total loss: 0.08164\n",
      "val state loss: 0.06772\n",
      "val reward loss: 0.01392\n",
      "saving min loss model at: ./log/dt_halfcheetah_model_400_64_best.pt\n",
      "saving current model at: ./log/dt_halfcheetah_model_400_64.pt\n"
     ]
    },
    {
     "name": "stderr",
     "output_type": "stream",
     "text": [
      " 19%|█▉        | 77/400 [47:01<3:32:18, 39.44s/it]"
     ]
    },
    {
     "name": "stdout",
     "output_type": "stream",
     "text": [
      "============================================================\n",
      "time elapsed: 0:47:02\n",
      "num of updates: 7700\n",
      "train total loss: 0.11316\n",
      "train state loss: 0.09257\n",
      "train reward loss: 0.02059\n",
      "val total loss: 0.07571\n",
      "val state loss: 0.06287\n",
      "val reward loss: 0.01284\n",
      "saving min loss model at: ./log/dt_halfcheetah_model_400_64_best.pt\n",
      "saving current model at: ./log/dt_halfcheetah_model_400_64.pt\n"
     ]
    },
    {
     "name": "stderr",
     "output_type": "stream",
     "text": [
      " 20%|█▉        | 78/400 [47:39<3:28:33, 38.86s/it]"
     ]
    },
    {
     "name": "stdout",
     "output_type": "stream",
     "text": [
      "============================================================\n",
      "time elapsed: 0:47:39\n",
      "num of updates: 7800\n",
      "train total loss: 0.11272\n",
      "train state loss: 0.09220\n",
      "train reward loss: 0.02052\n",
      "val total loss: 0.08244\n",
      "val state loss: 0.06762\n",
      "val reward loss: 0.01482\n",
      "saving min loss model at: ./log/dt_halfcheetah_model_400_64_best.pt\n",
      "saving current model at: ./log/dt_halfcheetah_model_400_64.pt\n"
     ]
    },
    {
     "name": "stderr",
     "output_type": "stream",
     "text": [
      " 20%|█▉        | 79/400 [48:19<3:29:25, 39.14s/it]"
     ]
    },
    {
     "name": "stdout",
     "output_type": "stream",
     "text": [
      "============================================================\n",
      "time elapsed: 0:48:19\n",
      "num of updates: 7900\n",
      "train total loss: 0.11155\n",
      "train state loss: 0.09110\n",
      "train reward loss: 0.02046\n",
      "val total loss: 0.06989\n",
      "val state loss: 0.05860\n",
      "val reward loss: 0.01129\n",
      "saving min loss model at: ./log/dt_halfcheetah_model_400_64_best.pt\n",
      "saving current model at: ./log/dt_halfcheetah_model_400_64.pt\n"
     ]
    },
    {
     "name": "stderr",
     "output_type": "stream",
     "text": [
      " 20%|██        | 80/400 [49:01<3:34:04, 40.14s/it]"
     ]
    },
    {
     "name": "stdout",
     "output_type": "stream",
     "text": [
      "============================================================\n",
      "time elapsed: 0:49:01\n",
      "num of updates: 8000\n",
      "train total loss: 0.10917\n",
      "train state loss: 0.08916\n",
      "train reward loss: 0.02000\n",
      "val total loss: 0.06595\n",
      "val state loss: 0.05562\n",
      "val reward loss: 0.01033\n",
      "saving min loss model at: ./log/dt_halfcheetah_model_400_64_best.pt\n",
      "saving current model at: ./log/dt_halfcheetah_model_400_64.pt\n"
     ]
    },
    {
     "name": "stderr",
     "output_type": "stream",
     "text": [
      " 20%|██        | 81/400 [49:49<3:45:06, 42.34s/it]"
     ]
    },
    {
     "name": "stdout",
     "output_type": "stream",
     "text": [
      "============================================================\n",
      "time elapsed: 0:49:49\n",
      "num of updates: 8100\n",
      "train total loss: 0.10836\n",
      "train state loss: 0.08863\n",
      "train reward loss: 0.01974\n",
      "val total loss: 0.06770\n",
      "val state loss: 0.05624\n",
      "val reward loss: 0.01146\n",
      "saving min loss model at: ./log/dt_halfcheetah_model_400_64_best.pt\n",
      "saving current model at: ./log/dt_halfcheetah_model_400_64.pt\n"
     ]
    },
    {
     "name": "stderr",
     "output_type": "stream",
     "text": [
      " 20%|██        | 82/400 [50:25<3:34:26, 40.46s/it]"
     ]
    },
    {
     "name": "stdout",
     "output_type": "stream",
     "text": [
      "============================================================\n",
      "time elapsed: 0:50:25\n",
      "num of updates: 8200\n",
      "train total loss: 0.10752\n",
      "train state loss: 0.08768\n",
      "train reward loss: 0.01984\n",
      "val total loss: 0.06636\n",
      "val state loss: 0.05607\n",
      "val reward loss: 0.01029\n",
      "saving min loss model at: ./log/dt_halfcheetah_model_400_64_best.pt\n",
      "saving current model at: ./log/dt_halfcheetah_model_400_64.pt\n"
     ]
    },
    {
     "name": "stderr",
     "output_type": "stream",
     "text": [
      " 21%|██        | 83/400 [50:59<3:24:10, 38.64s/it]"
     ]
    },
    {
     "name": "stdout",
     "output_type": "stream",
     "text": [
      "============================================================\n",
      "time elapsed: 0:50:59\n",
      "num of updates: 8300\n",
      "train total loss: 0.10586\n",
      "train state loss: 0.08652\n",
      "train reward loss: 0.01934\n",
      "val total loss: 0.06421\n",
      "val state loss: 0.05382\n",
      "val reward loss: 0.01039\n",
      "saving min loss model at: ./log/dt_halfcheetah_model_400_64_best.pt\n",
      "saving current model at: ./log/dt_halfcheetah_model_400_64.pt\n"
     ]
    },
    {
     "name": "stderr",
     "output_type": "stream",
     "text": [
      " 21%|██        | 84/400 [51:35<3:19:13, 37.83s/it]"
     ]
    },
    {
     "name": "stdout",
     "output_type": "stream",
     "text": [
      "============================================================\n",
      "time elapsed: 0:51:35\n",
      "num of updates: 8400\n",
      "train total loss: 0.10287\n",
      "train state loss: 0.08417\n",
      "train reward loss: 0.01870\n",
      "val total loss: 0.06553\n",
      "val state loss: 0.05560\n",
      "val reward loss: 0.00994\n",
      "saving min loss model at: ./log/dt_halfcheetah_model_400_64_best.pt\n",
      "saving current model at: ./log/dt_halfcheetah_model_400_64.pt\n"
     ]
    },
    {
     "name": "stderr",
     "output_type": "stream",
     "text": [
      " 21%|██▏       | 85/400 [52:11<3:15:17, 37.20s/it]"
     ]
    },
    {
     "name": "stdout",
     "output_type": "stream",
     "text": [
      "============================================================\n",
      "time elapsed: 0:52:11\n",
      "num of updates: 8500\n",
      "train total loss: 0.10179\n",
      "train state loss: 0.08333\n",
      "train reward loss: 0.01846\n",
      "val total loss: 0.06641\n",
      "val state loss: 0.05469\n",
      "val reward loss: 0.01172\n",
      "saving min loss model at: ./log/dt_halfcheetah_model_400_64_best.pt\n",
      "saving current model at: ./log/dt_halfcheetah_model_400_64.pt\n"
     ]
    },
    {
     "name": "stderr",
     "output_type": "stream",
     "text": [
      " 22%|██▏       | 86/400 [52:47<3:13:39, 37.00s/it]"
     ]
    },
    {
     "name": "stdout",
     "output_type": "stream",
     "text": [
      "============================================================\n",
      "time elapsed: 0:52:48\n",
      "num of updates: 8600\n",
      "train total loss: 0.09989\n",
      "train state loss: 0.08196\n",
      "train reward loss: 0.01792\n",
      "val total loss: 0.06292\n",
      "val state loss: 0.05328\n",
      "val reward loss: 0.00964\n",
      "saving min loss model at: ./log/dt_halfcheetah_model_400_64_best.pt\n",
      "saving current model at: ./log/dt_halfcheetah_model_400_64.pt\n"
     ]
    },
    {
     "name": "stderr",
     "output_type": "stream",
     "text": [
      " 22%|██▏       | 87/400 [53:30<3:21:08, 38.56s/it]"
     ]
    },
    {
     "name": "stdout",
     "output_type": "stream",
     "text": [
      "============================================================\n",
      "time elapsed: 0:53:30\n",
      "num of updates: 8700\n",
      "train total loss: 0.09907\n",
      "train state loss: 0.08123\n",
      "train reward loss: 0.01784\n",
      "val total loss: 0.06256\n",
      "val state loss: 0.05293\n",
      "val reward loss: 0.00963\n",
      "saving min loss model at: ./log/dt_halfcheetah_model_400_64_best.pt\n",
      "saving current model at: ./log/dt_halfcheetah_model_400_64.pt\n"
     ]
    },
    {
     "name": "stderr",
     "output_type": "stream",
     "text": [
      " 22%|██▏       | 88/400 [54:04<3:13:26, 37.20s/it]"
     ]
    },
    {
     "name": "stdout",
     "output_type": "stream",
     "text": [
      "============================================================\n",
      "time elapsed: 0:54:04\n",
      "num of updates: 8800\n",
      "train total loss: 0.09752\n",
      "train state loss: 0.08007\n",
      "train reward loss: 0.01744\n",
      "val total loss: 0.06021\n",
      "val state loss: 0.04995\n",
      "val reward loss: 0.01026\n",
      "saving min loss model at: ./log/dt_halfcheetah_model_400_64_best.pt\n",
      "saving current model at: ./log/dt_halfcheetah_model_400_64.pt\n"
     ]
    },
    {
     "name": "stderr",
     "output_type": "stream",
     "text": [
      " 22%|██▏       | 89/400 [54:39<3:10:19, 36.72s/it]"
     ]
    },
    {
     "name": "stdout",
     "output_type": "stream",
     "text": [
      "============================================================\n",
      "time elapsed: 0:54:39\n",
      "num of updates: 8900\n",
      "train total loss: 0.09600\n",
      "train state loss: 0.07890\n",
      "train reward loss: 0.01710\n",
      "val total loss: 0.06243\n",
      "val state loss: 0.05313\n",
      "val reward loss: 0.00929\n",
      "saving min loss model at: ./log/dt_halfcheetah_model_400_64_best.pt\n",
      "saving current model at: ./log/dt_halfcheetah_model_400_64.pt\n"
     ]
    },
    {
     "name": "stderr",
     "output_type": "stream",
     "text": [
      " 22%|██▎       | 90/400 [55:18<3:13:29, 37.45s/it]"
     ]
    },
    {
     "name": "stdout",
     "output_type": "stream",
     "text": [
      "============================================================\n",
      "time elapsed: 0:55:19\n",
      "num of updates: 9000\n",
      "train total loss: 0.09558\n",
      "train state loss: 0.07857\n",
      "train reward loss: 0.01700\n",
      "val total loss: 0.06237\n",
      "val state loss: 0.05159\n",
      "val reward loss: 0.01078\n",
      "saving min loss model at: ./log/dt_halfcheetah_model_400_64_best.pt\n",
      "saving current model at: ./log/dt_halfcheetah_model_400_64.pt\n"
     ]
    },
    {
     "name": "stderr",
     "output_type": "stream",
     "text": [
      " 23%|██▎       | 91/400 [55:53<3:09:15, 36.75s/it]"
     ]
    },
    {
     "name": "stdout",
     "output_type": "stream",
     "text": [
      "============================================================\n",
      "time elapsed: 0:55:54\n",
      "num of updates: 9100\n",
      "train total loss: 0.09358\n",
      "train state loss: 0.07690\n",
      "train reward loss: 0.01668\n",
      "val total loss: 0.06125\n",
      "val state loss: 0.05188\n",
      "val reward loss: 0.00936\n",
      "saving min loss model at: ./log/dt_halfcheetah_model_400_64_best.pt\n",
      "saving current model at: ./log/dt_halfcheetah_model_400_64.pt\n"
     ]
    },
    {
     "name": "stderr",
     "output_type": "stream",
     "text": [
      " 23%|██▎       | 92/400 [56:30<3:07:30, 36.53s/it]"
     ]
    },
    {
     "name": "stdout",
     "output_type": "stream",
     "text": [
      "============================================================\n",
      "time elapsed: 0:56:30\n",
      "num of updates: 9200\n",
      "train total loss: 0.09315\n",
      "train state loss: 0.07653\n",
      "train reward loss: 0.01662\n",
      "val total loss: 0.06244\n",
      "val state loss: 0.05243\n",
      "val reward loss: 0.01001\n",
      "saving min loss model at: ./log/dt_halfcheetah_model_400_64_best.pt\n",
      "saving current model at: ./log/dt_halfcheetah_model_400_64.pt\n"
     ]
    },
    {
     "name": "stderr",
     "output_type": "stream",
     "text": [
      " 23%|██▎       | 93/400 [57:05<3:06:00, 36.35s/it]"
     ]
    },
    {
     "name": "stdout",
     "output_type": "stream",
     "text": [
      "============================================================\n",
      "time elapsed: 0:57:06\n",
      "num of updates: 9300\n",
      "train total loss: 0.09177\n",
      "train state loss: 0.07554\n",
      "train reward loss: 0.01622\n",
      "val total loss: 0.05453\n",
      "val state loss: 0.04672\n",
      "val reward loss: 0.00782\n",
      "saving min loss model at: ./log/dt_halfcheetah_model_400_64_best.pt\n",
      "saving current model at: ./log/dt_halfcheetah_model_400_64.pt\n"
     ]
    },
    {
     "name": "stderr",
     "output_type": "stream",
     "text": [
      " 24%|██▎       | 94/400 [57:39<3:01:43, 35.63s/it]"
     ]
    },
    {
     "name": "stdout",
     "output_type": "stream",
     "text": [
      "============================================================\n",
      "time elapsed: 0:57:40\n",
      "num of updates: 9400\n",
      "train total loss: 0.09078\n",
      "train state loss: 0.07482\n",
      "train reward loss: 0.01596\n",
      "val total loss: 0.05772\n",
      "val state loss: 0.04861\n",
      "val reward loss: 0.00912\n",
      "saving min loss model at: ./log/dt_halfcheetah_model_400_64_best.pt\n",
      "saving current model at: ./log/dt_halfcheetah_model_400_64.pt\n"
     ]
    },
    {
     "name": "stderr",
     "output_type": "stream",
     "text": [
      " 24%|██▍       | 95/400 [58:14<2:59:47, 35.37s/it]"
     ]
    },
    {
     "name": "stdout",
     "output_type": "stream",
     "text": [
      "============================================================\n",
      "time elapsed: 0:58:14\n",
      "num of updates: 9500\n",
      "train total loss: 0.09090\n",
      "train state loss: 0.07473\n",
      "train reward loss: 0.01616\n",
      "val total loss: 0.05396\n",
      "val state loss: 0.04629\n",
      "val reward loss: 0.00767\n",
      "saving min loss model at: ./log/dt_halfcheetah_model_400_64_best.pt\n",
      "saving current model at: ./log/dt_halfcheetah_model_400_64.pt\n"
     ]
    },
    {
     "name": "stderr",
     "output_type": "stream",
     "text": [
      " 24%|██▍       | 96/400 [58:52<3:03:27, 36.21s/it]"
     ]
    },
    {
     "name": "stdout",
     "output_type": "stream",
     "text": [
      "============================================================\n",
      "time elapsed: 0:58:53\n",
      "num of updates: 9600\n",
      "train total loss: 0.08911\n",
      "train state loss: 0.07335\n",
      "train reward loss: 0.01576\n",
      "val total loss: 0.05303\n",
      "val state loss: 0.04472\n",
      "val reward loss: 0.00831\n",
      "saving min loss model at: ./log/dt_halfcheetah_model_400_64_best.pt\n",
      "saving current model at: ./log/dt_halfcheetah_model_400_64.pt\n"
     ]
    },
    {
     "name": "stderr",
     "output_type": "stream",
     "text": [
      " 24%|██▍       | 97/400 [59:28<3:02:05, 36.06s/it]"
     ]
    },
    {
     "name": "stdout",
     "output_type": "stream",
     "text": [
      "============================================================\n",
      "time elapsed: 0:59:28\n",
      "num of updates: 9700\n",
      "train total loss: 0.08725\n",
      "train state loss: 0.07208\n",
      "train reward loss: 0.01517\n",
      "val total loss: 0.05600\n",
      "val state loss: 0.04666\n",
      "val reward loss: 0.00934\n",
      "saving min loss model at: ./log/dt_halfcheetah_model_400_64_best.pt\n",
      "saving current model at: ./log/dt_halfcheetah_model_400_64.pt\n"
     ]
    },
    {
     "name": "stderr",
     "output_type": "stream",
     "text": [
      " 24%|██▍       | 98/400 [1:00:04<3:01:53, 36.14s/it]"
     ]
    },
    {
     "name": "stdout",
     "output_type": "stream",
     "text": [
      "============================================================\n",
      "time elapsed: 1:00:05\n",
      "num of updates: 9800\n",
      "train total loss: 0.08746\n",
      "train state loss: 0.07201\n",
      "train reward loss: 0.01546\n",
      "val total loss: 0.05396\n",
      "val state loss: 0.04553\n",
      "val reward loss: 0.00843\n",
      "saving min loss model at: ./log/dt_halfcheetah_model_400_64_best.pt\n",
      "saving current model at: ./log/dt_halfcheetah_model_400_64.pt\n"
     ]
    },
    {
     "name": "stderr",
     "output_type": "stream",
     "text": [
      " 25%|██▍       | 99/400 [1:00:42<3:03:04, 36.49s/it]"
     ]
    },
    {
     "name": "stdout",
     "output_type": "stream",
     "text": [
      "============================================================\n",
      "time elapsed: 1:00:42\n",
      "num of updates: 9900\n",
      "train total loss: 0.08662\n",
      "train state loss: 0.07148\n",
      "train reward loss: 0.01514\n",
      "val total loss: 0.05543\n",
      "val state loss: 0.04698\n",
      "val reward loss: 0.00844\n",
      "saving min loss model at: ./log/dt_halfcheetah_model_400_64_best.pt\n",
      "saving current model at: ./log/dt_halfcheetah_model_400_64.pt\n"
     ]
    },
    {
     "name": "stderr",
     "output_type": "stream",
     "text": [
      " 25%|██▌       | 100/400 [1:01:22<3:08:10, 37.64s/it]"
     ]
    },
    {
     "name": "stdout",
     "output_type": "stream",
     "text": [
      "============================================================\n",
      "time elapsed: 1:01:22\n",
      "num of updates: 10000\n",
      "train total loss: 0.08513\n",
      "train state loss: 0.07017\n",
      "train reward loss: 0.01496\n",
      "val total loss: 0.05150\n",
      "val state loss: 0.04392\n",
      "val reward loss: 0.00758\n",
      "saving min loss model at: ./log/dt_halfcheetah_model_400_64_best.pt\n",
      "saving current model at: ./log/dt_halfcheetah_model_400_64.pt\n"
     ]
    },
    {
     "name": "stderr",
     "output_type": "stream",
     "text": [
      " 25%|██▌       | 101/400 [1:02:04<3:14:43, 39.08s/it]"
     ]
    },
    {
     "name": "stdout",
     "output_type": "stream",
     "text": [
      "============================================================\n",
      "time elapsed: 1:02:05\n",
      "num of updates: 10100\n",
      "train total loss: 0.08297\n",
      "train state loss: 0.06866\n",
      "train reward loss: 0.01431\n",
      "val total loss: 0.05375\n",
      "val state loss: 0.04537\n",
      "val reward loss: 0.00838\n",
      "saving min loss model at: ./log/dt_halfcheetah_model_400_64_best.pt\n",
      "saving current model at: ./log/dt_halfcheetah_model_400_64.pt\n"
     ]
    },
    {
     "name": "stderr",
     "output_type": "stream",
     "text": [
      " 26%|██▌       | 102/400 [1:02:40<3:08:10, 37.89s/it]"
     ]
    },
    {
     "name": "stdout",
     "output_type": "stream",
     "text": [
      "============================================================\n",
      "time elapsed: 1:02:40\n",
      "num of updates: 10200\n",
      "train total loss: 0.08323\n",
      "train state loss: 0.06891\n",
      "train reward loss: 0.01432\n",
      "val total loss: 0.05352\n",
      "val state loss: 0.04467\n",
      "val reward loss: 0.00884\n",
      "saving min loss model at: ./log/dt_halfcheetah_model_400_64_best.pt\n",
      "saving current model at: ./log/dt_halfcheetah_model_400_64.pt\n"
     ]
    },
    {
     "name": "stderr",
     "output_type": "stream",
     "text": [
      " 26%|██▌       | 103/400 [1:03:17<3:07:33, 37.89s/it]"
     ]
    },
    {
     "name": "stdout",
     "output_type": "stream",
     "text": [
      "============================================================\n",
      "time elapsed: 1:03:18\n",
      "num of updates: 10300\n",
      "train total loss: 0.08163\n",
      "train state loss: 0.06748\n",
      "train reward loss: 0.01415\n",
      "val total loss: 0.05328\n",
      "val state loss: 0.04437\n",
      "val reward loss: 0.00891\n",
      "saving min loss model at: ./log/dt_halfcheetah_model_400_64_best.pt\n",
      "saving current model at: ./log/dt_halfcheetah_model_400_64.pt\n"
     ]
    },
    {
     "name": "stderr",
     "output_type": "stream",
     "text": [
      " 26%|██▌       | 104/400 [1:03:52<3:02:34, 37.01s/it]"
     ]
    },
    {
     "name": "stdout",
     "output_type": "stream",
     "text": [
      "============================================================\n",
      "time elapsed: 1:03:53\n",
      "num of updates: 10400\n",
      "train total loss: 0.08051\n",
      "train state loss: 0.06695\n",
      "train reward loss: 0.01356\n",
      "val total loss: 0.04984\n",
      "val state loss: 0.04242\n",
      "val reward loss: 0.00742\n",
      "saving min loss model at: ./log/dt_halfcheetah_model_400_64_best.pt\n",
      "saving current model at: ./log/dt_halfcheetah_model_400_64.pt\n"
     ]
    },
    {
     "name": "stderr",
     "output_type": "stream",
     "text": [
      " 26%|██▋       | 105/400 [1:04:25<2:56:08, 35.83s/it]"
     ]
    },
    {
     "name": "stdout",
     "output_type": "stream",
     "text": [
      "============================================================\n",
      "time elapsed: 1:04:26\n",
      "num of updates: 10500\n",
      "train total loss: 0.08061\n",
      "train state loss: 0.06686\n",
      "train reward loss: 0.01375\n",
      "val total loss: 0.04965\n",
      "val state loss: 0.04262\n",
      "val reward loss: 0.00703\n",
      "saving min loss model at: ./log/dt_halfcheetah_model_400_64_best.pt\n",
      "saving current model at: ./log/dt_halfcheetah_model_400_64.pt\n"
     ]
    },
    {
     "name": "stderr",
     "output_type": "stream",
     "text": [
      " 26%|██▋       | 106/400 [1:05:06<3:02:09, 37.18s/it]"
     ]
    },
    {
     "name": "stdout",
     "output_type": "stream",
     "text": [
      "============================================================\n",
      "time elapsed: 1:05:06\n",
      "num of updates: 10600\n",
      "train total loss: 0.08083\n",
      "train state loss: 0.06705\n",
      "train reward loss: 0.01378\n",
      "val total loss: 0.05570\n",
      "val state loss: 0.04727\n",
      "val reward loss: 0.00843\n",
      "saving min loss model at: ./log/dt_halfcheetah_model_400_64_best.pt\n",
      "saving current model at: ./log/dt_halfcheetah_model_400_64.pt\n"
     ]
    },
    {
     "name": "stderr",
     "output_type": "stream",
     "text": [
      " 27%|██▋       | 107/400 [1:05:42<3:00:36, 36.99s/it]"
     ]
    },
    {
     "name": "stdout",
     "output_type": "stream",
     "text": [
      "============================================================\n",
      "time elapsed: 1:05:43\n",
      "num of updates: 10700\n",
      "train total loss: 0.07903\n",
      "train state loss: 0.06556\n",
      "train reward loss: 0.01346\n",
      "val total loss: 0.04525\n",
      "val state loss: 0.03902\n",
      "val reward loss: 0.00623\n",
      "saving min loss model at: ./log/dt_halfcheetah_model_400_64_best.pt\n",
      "saving current model at: ./log/dt_halfcheetah_model_400_64.pt\n"
     ]
    },
    {
     "name": "stderr",
     "output_type": "stream",
     "text": [
      " 27%|██▋       | 108/400 [1:06:16<2:55:27, 36.05s/it]"
     ]
    },
    {
     "name": "stdout",
     "output_type": "stream",
     "text": [
      "============================================================\n",
      "time elapsed: 1:06:16\n",
      "num of updates: 10800\n",
      "train total loss: 0.07887\n",
      "train state loss: 0.06534\n",
      "train reward loss: 0.01353\n",
      "val total loss: 0.04855\n",
      "val state loss: 0.04037\n",
      "val reward loss: 0.00818\n",
      "saving min loss model at: ./log/dt_halfcheetah_model_400_64_best.pt\n",
      "saving current model at: ./log/dt_halfcheetah_model_400_64.pt\n"
     ]
    },
    {
     "name": "stderr",
     "output_type": "stream",
     "text": [
      " 27%|██▋       | 109/400 [1:06:53<2:55:48, 36.25s/it]"
     ]
    },
    {
     "name": "stdout",
     "output_type": "stream",
     "text": [
      "============================================================\n",
      "time elapsed: 1:06:53\n",
      "num of updates: 10900\n",
      "train total loss: 0.07742\n",
      "train state loss: 0.06424\n",
      "train reward loss: 0.01318\n",
      "val total loss: 0.04845\n",
      "val state loss: 0.04093\n",
      "val reward loss: 0.00751\n",
      "saving min loss model at: ./log/dt_halfcheetah_model_400_64_best.pt\n",
      "saving current model at: ./log/dt_halfcheetah_model_400_64.pt\n"
     ]
    },
    {
     "name": "stderr",
     "output_type": "stream",
     "text": [
      " 28%|██▊       | 110/400 [1:07:30<2:56:15, 36.47s/it]"
     ]
    },
    {
     "name": "stdout",
     "output_type": "stream",
     "text": [
      "============================================================\n",
      "time elapsed: 1:07:30\n",
      "num of updates: 11000\n",
      "train total loss: 0.07725\n",
      "train state loss: 0.06403\n",
      "train reward loss: 0.01322\n",
      "val total loss: 0.04671\n",
      "val state loss: 0.04074\n",
      "val reward loss: 0.00597\n",
      "saving min loss model at: ./log/dt_halfcheetah_model_400_64_best.pt\n",
      "saving current model at: ./log/dt_halfcheetah_model_400_64.pt\n"
     ]
    },
    {
     "name": "stderr",
     "output_type": "stream",
     "text": [
      " 28%|██▊       | 111/400 [1:08:03<2:51:03, 35.51s/it]"
     ]
    },
    {
     "name": "stdout",
     "output_type": "stream",
     "text": [
      "============================================================\n",
      "time elapsed: 1:08:03\n",
      "num of updates: 11100\n",
      "train total loss: 0.07648\n",
      "train state loss: 0.06349\n",
      "train reward loss: 0.01298\n",
      "val total loss: 0.04600\n",
      "val state loss: 0.04027\n",
      "val reward loss: 0.00572\n",
      "saving min loss model at: ./log/dt_halfcheetah_model_400_64_best.pt\n",
      "saving current model at: ./log/dt_halfcheetah_model_400_64.pt\n"
     ]
    },
    {
     "name": "stderr",
     "output_type": "stream",
     "text": [
      " 28%|██▊       | 112/400 [1:08:39<2:50:41, 35.56s/it]"
     ]
    },
    {
     "name": "stdout",
     "output_type": "stream",
     "text": [
      "============================================================\n",
      "time elapsed: 1:08:39\n",
      "num of updates: 11200\n",
      "train total loss: 0.07664\n",
      "train state loss: 0.06343\n",
      "train reward loss: 0.01321\n",
      "val total loss: 0.05020\n",
      "val state loss: 0.04244\n",
      "val reward loss: 0.00776\n",
      "saving min loss model at: ./log/dt_halfcheetah_model_400_64_best.pt\n",
      "saving current model at: ./log/dt_halfcheetah_model_400_64.pt\n"
     ]
    },
    {
     "name": "stderr",
     "output_type": "stream",
     "text": [
      " 28%|██▊       | 113/400 [1:09:16<2:51:45, 35.91s/it]"
     ]
    },
    {
     "name": "stdout",
     "output_type": "stream",
     "text": [
      "============================================================\n",
      "time elapsed: 1:09:16\n",
      "num of updates: 11300\n",
      "train total loss: 0.07545\n",
      "train state loss: 0.06270\n",
      "train reward loss: 0.01276\n",
      "val total loss: 0.04538\n",
      "val state loss: 0.03910\n",
      "val reward loss: 0.00628\n",
      "saving min loss model at: ./log/dt_halfcheetah_model_400_64_best.pt\n",
      "saving current model at: ./log/dt_halfcheetah_model_400_64.pt\n"
     ]
    },
    {
     "name": "stderr",
     "output_type": "stream",
     "text": [
      " 28%|██▊       | 114/400 [1:09:49<2:47:48, 35.20s/it]"
     ]
    },
    {
     "name": "stdout",
     "output_type": "stream",
     "text": [
      "============================================================\n",
      "time elapsed: 1:09:49\n",
      "num of updates: 11400\n",
      "train total loss: 0.07432\n",
      "train state loss: 0.06194\n",
      "train reward loss: 0.01238\n",
      "val total loss: 0.04361\n",
      "val state loss: 0.03721\n",
      "val reward loss: 0.00640\n",
      "saving min loss model at: ./log/dt_halfcheetah_model_400_64_best.pt\n",
      "saving current model at: ./log/dt_halfcheetah_model_400_64.pt\n"
     ]
    },
    {
     "name": "stderr",
     "output_type": "stream",
     "text": [
      " 29%|██▉       | 115/400 [1:10:23<2:44:56, 34.73s/it]"
     ]
    },
    {
     "name": "stdout",
     "output_type": "stream",
     "text": [
      "============================================================\n",
      "time elapsed: 1:10:23\n",
      "num of updates: 11500\n",
      "train total loss: 0.07340\n",
      "train state loss: 0.06115\n",
      "train reward loss: 0.01225\n",
      "val total loss: 0.04475\n",
      "val state loss: 0.03888\n",
      "val reward loss: 0.00588\n",
      "saving min loss model at: ./log/dt_halfcheetah_model_400_64_best.pt\n",
      "saving current model at: ./log/dt_halfcheetah_model_400_64.pt\n"
     ]
    },
    {
     "name": "stderr",
     "output_type": "stream",
     "text": [
      " 29%|██▉       | 116/400 [1:10:59<2:46:08, 35.10s/it]"
     ]
    },
    {
     "name": "stdout",
     "output_type": "stream",
     "text": [
      "============================================================\n",
      "time elapsed: 1:10:59\n",
      "num of updates: 11600\n",
      "train total loss: 0.07284\n",
      "train state loss: 0.06071\n",
      "train reward loss: 0.01213\n",
      "val total loss: 0.04496\n",
      "val state loss: 0.03854\n",
      "val reward loss: 0.00642\n",
      "saving min loss model at: ./log/dt_halfcheetah_model_400_64_best.pt\n",
      "saving current model at: ./log/dt_halfcheetah_model_400_64.pt\n"
     ]
    },
    {
     "name": "stderr",
     "output_type": "stream",
     "text": [
      " 29%|██▉       | 117/400 [1:11:35<2:47:47, 35.58s/it]"
     ]
    },
    {
     "name": "stdout",
     "output_type": "stream",
     "text": [
      "============================================================\n",
      "time elapsed: 1:11:36\n",
      "num of updates: 11700\n",
      "train total loss: 0.07399\n",
      "train state loss: 0.06148\n",
      "train reward loss: 0.01252\n",
      "val total loss: 0.04539\n",
      "val state loss: 0.03847\n",
      "val reward loss: 0.00692\n",
      "saving min loss model at: ./log/dt_halfcheetah_model_400_64_best.pt\n",
      "saving current model at: ./log/dt_halfcheetah_model_400_64.pt\n"
     ]
    },
    {
     "name": "stderr",
     "output_type": "stream",
     "text": [
      " 30%|██▉       | 118/400 [1:12:08<2:42:59, 34.68s/it]"
     ]
    },
    {
     "name": "stdout",
     "output_type": "stream",
     "text": [
      "============================================================\n",
      "time elapsed: 1:12:08\n",
      "num of updates: 11800\n",
      "train total loss: 0.07288\n",
      "train state loss: 0.06064\n",
      "train reward loss: 0.01224\n",
      "val total loss: 0.04438\n",
      "val state loss: 0.03737\n",
      "val reward loss: 0.00702\n",
      "saving min loss model at: ./log/dt_halfcheetah_model_400_64_best.pt\n",
      "saving current model at: ./log/dt_halfcheetah_model_400_64.pt\n"
     ]
    },
    {
     "name": "stderr",
     "output_type": "stream",
     "text": [
      " 30%|██▉       | 119/400 [1:12:45<2:45:11, 35.27s/it]"
     ]
    },
    {
     "name": "stdout",
     "output_type": "stream",
     "text": [
      "============================================================\n",
      "time elapsed: 1:12:45\n",
      "num of updates: 11900\n",
      "train total loss: 0.07237\n",
      "train state loss: 0.06017\n",
      "train reward loss: 0.01220\n",
      "val total loss: 0.04519\n",
      "val state loss: 0.03863\n",
      "val reward loss: 0.00656\n",
      "saving min loss model at: ./log/dt_halfcheetah_model_400_64_best.pt\n",
      "saving current model at: ./log/dt_halfcheetah_model_400_64.pt\n"
     ]
    },
    {
     "name": "stderr",
     "output_type": "stream",
     "text": [
      " 30%|███       | 120/400 [1:13:31<2:59:37, 38.49s/it]"
     ]
    },
    {
     "name": "stdout",
     "output_type": "stream",
     "text": [
      "============================================================\n",
      "time elapsed: 1:13:31\n",
      "num of updates: 12000\n",
      "train total loss: 0.07008\n",
      "train state loss: 0.05841\n",
      "train reward loss: 0.01167\n",
      "val total loss: 0.04377\n",
      "val state loss: 0.03716\n",
      "val reward loss: 0.00661\n",
      "saving min loss model at: ./log/dt_halfcheetah_model_400_64_best.pt\n",
      "saving current model at: ./log/dt_halfcheetah_model_400_64.pt\n"
     ]
    },
    {
     "name": "stderr",
     "output_type": "stream",
     "text": [
      " 30%|███       | 121/400 [1:14:09<2:58:20, 38.35s/it]"
     ]
    },
    {
     "name": "stdout",
     "output_type": "stream",
     "text": [
      "============================================================\n",
      "time elapsed: 1:14:09\n",
      "num of updates: 12100\n",
      "train total loss: 0.07045\n",
      "train state loss: 0.05878\n",
      "train reward loss: 0.01167\n",
      "val total loss: 0.04128\n",
      "val state loss: 0.03536\n",
      "val reward loss: 0.00592\n",
      "saving min loss model at: ./log/dt_halfcheetah_model_400_64_best.pt\n",
      "saving current model at: ./log/dt_halfcheetah_model_400_64.pt\n"
     ]
    },
    {
     "name": "stderr",
     "output_type": "stream",
     "text": [
      " 30%|███       | 122/400 [1:14:49<3:00:41, 39.00s/it]"
     ]
    },
    {
     "name": "stdout",
     "output_type": "stream",
     "text": [
      "============================================================\n",
      "time elapsed: 1:14:49\n",
      "num of updates: 12200\n",
      "train total loss: 0.07134\n",
      "train state loss: 0.05919\n",
      "train reward loss: 0.01215\n",
      "val total loss: 0.04309\n",
      "val state loss: 0.03721\n",
      "val reward loss: 0.00589\n",
      "saving min loss model at: ./log/dt_halfcheetah_model_400_64_best.pt\n",
      "saving current model at: ./log/dt_halfcheetah_model_400_64.pt\n"
     ]
    },
    {
     "name": "stderr",
     "output_type": "stream",
     "text": [
      " 31%|███       | 123/400 [1:15:30<3:02:26, 39.52s/it]"
     ]
    },
    {
     "name": "stdout",
     "output_type": "stream",
     "text": [
      "============================================================\n",
      "time elapsed: 1:15:30\n",
      "num of updates: 12300\n",
      "train total loss: 0.06936\n",
      "train state loss: 0.05781\n",
      "train reward loss: 0.01155\n",
      "val total loss: 0.04242\n",
      "val state loss: 0.03559\n",
      "val reward loss: 0.00683\n",
      "saving min loss model at: ./log/dt_halfcheetah_model_400_64_best.pt\n",
      "saving current model at: ./log/dt_halfcheetah_model_400_64.pt\n"
     ]
    },
    {
     "name": "stderr",
     "output_type": "stream",
     "text": [
      " 31%|███       | 124/400 [1:16:10<3:02:25, 39.66s/it]"
     ]
    },
    {
     "name": "stdout",
     "output_type": "stream",
     "text": [
      "============================================================\n",
      "time elapsed: 1:16:10\n",
      "num of updates: 12400\n",
      "train total loss: 0.06971\n",
      "train state loss: 0.05805\n",
      "train reward loss: 0.01166\n",
      "val total loss: 0.04351\n",
      "val state loss: 0.03691\n",
      "val reward loss: 0.00660\n",
      "saving min loss model at: ./log/dt_halfcheetah_model_400_64_best.pt\n",
      "saving current model at: ./log/dt_halfcheetah_model_400_64.pt\n"
     ]
    },
    {
     "name": "stderr",
     "output_type": "stream",
     "text": [
      " 31%|███▏      | 125/400 [1:16:51<3:03:19, 40.00s/it]"
     ]
    },
    {
     "name": "stdout",
     "output_type": "stream",
     "text": [
      "============================================================\n",
      "time elapsed: 1:16:51\n",
      "num of updates: 12500\n",
      "train total loss: 0.06911\n",
      "train state loss: 0.05749\n",
      "train reward loss: 0.01162\n",
      "val total loss: 0.04275\n",
      "val state loss: 0.03599\n",
      "val reward loss: 0.00676\n",
      "saving min loss model at: ./log/dt_halfcheetah_model_400_64_best.pt\n",
      "saving current model at: ./log/dt_halfcheetah_model_400_64.pt\n"
     ]
    },
    {
     "name": "stderr",
     "output_type": "stream",
     "text": [
      " 32%|███▏      | 126/400 [1:17:30<3:01:39, 39.78s/it]"
     ]
    },
    {
     "name": "stdout",
     "output_type": "stream",
     "text": [
      "============================================================\n",
      "time elapsed: 1:17:30\n",
      "num of updates: 12600\n",
      "train total loss: 0.06762\n",
      "train state loss: 0.05648\n",
      "train reward loss: 0.01113\n",
      "val total loss: 0.04140\n",
      "val state loss: 0.03480\n",
      "val reward loss: 0.00660\n",
      "saving min loss model at: ./log/dt_halfcheetah_model_400_64_best.pt\n",
      "saving current model at: ./log/dt_halfcheetah_model_400_64.pt\n"
     ]
    },
    {
     "name": "stderr",
     "output_type": "stream",
     "text": [
      " 32%|███▏      | 127/400 [1:18:11<3:02:54, 40.20s/it]"
     ]
    },
    {
     "name": "stdout",
     "output_type": "stream",
     "text": [
      "============================================================\n",
      "time elapsed: 1:18:11\n",
      "num of updates: 12700\n",
      "train total loss: 0.06869\n",
      "train state loss: 0.05728\n",
      "train reward loss: 0.01141\n",
      "val total loss: 0.04054\n",
      "val state loss: 0.03432\n",
      "val reward loss: 0.00622\n",
      "saving min loss model at: ./log/dt_halfcheetah_model_400_64_best.pt\n",
      "saving current model at: ./log/dt_halfcheetah_model_400_64.pt\n"
     ]
    },
    {
     "name": "stderr",
     "output_type": "stream",
     "text": [
      " 32%|███▏      | 128/400 [1:18:50<3:00:28, 39.81s/it]"
     ]
    },
    {
     "name": "stdout",
     "output_type": "stream",
     "text": [
      "============================================================\n",
      "time elapsed: 1:18:50\n",
      "num of updates: 12800\n",
      "train total loss: 0.06771\n",
      "train state loss: 0.05645\n",
      "train reward loss: 0.01125\n",
      "val total loss: 0.04278\n",
      "val state loss: 0.03524\n",
      "val reward loss: 0.00754\n",
      "saving min loss model at: ./log/dt_halfcheetah_model_400_64_best.pt\n",
      "saving current model at: ./log/dt_halfcheetah_model_400_64.pt\n"
     ]
    },
    {
     "name": "stderr",
     "output_type": "stream",
     "text": [
      " 32%|███▏      | 129/400 [1:19:28<2:57:41, 39.34s/it]"
     ]
    },
    {
     "name": "stdout",
     "output_type": "stream",
     "text": [
      "============================================================\n",
      "time elapsed: 1:19:28\n",
      "num of updates: 12900\n",
      "train total loss: 0.06747\n",
      "train state loss: 0.05621\n",
      "train reward loss: 0.01126\n",
      "val total loss: 0.04337\n",
      "val state loss: 0.03749\n",
      "val reward loss: 0.00588\n",
      "saving min loss model at: ./log/dt_halfcheetah_model_400_64_best.pt\n",
      "saving current model at: ./log/dt_halfcheetah_model_400_64.pt\n"
     ]
    },
    {
     "name": "stderr",
     "output_type": "stream",
     "text": [
      " 32%|███▎      | 130/400 [1:20:42<3:44:06, 49.80s/it]"
     ]
    },
    {
     "name": "stdout",
     "output_type": "stream",
     "text": [
      "============================================================\n",
      "time elapsed: 1:20:43\n",
      "num of updates: 13000\n",
      "train total loss: 0.06676\n",
      "train state loss: 0.05570\n",
      "train reward loss: 0.01106\n",
      "val total loss: 0.04001\n",
      "val state loss: 0.03324\n",
      "val reward loss: 0.00677\n",
      "saving min loss model at: ./log/dt_halfcheetah_model_400_64_best.pt\n",
      "saving current model at: ./log/dt_halfcheetah_model_400_64.pt\n"
     ]
    },
    {
     "name": "stderr",
     "output_type": "stream",
     "text": [
      " 33%|███▎      | 131/400 [1:21:29<3:38:52, 48.82s/it]"
     ]
    },
    {
     "name": "stdout",
     "output_type": "stream",
     "text": [
      "============================================================\n",
      "time elapsed: 1:21:29\n",
      "num of updates: 13100\n",
      "train total loss: 0.06659\n",
      "train state loss: 0.05555\n",
      "train reward loss: 0.01104\n",
      "val total loss: 0.04005\n",
      "val state loss: 0.03460\n",
      "val reward loss: 0.00545\n",
      "saving min loss model at: ./log/dt_halfcheetah_model_400_64_best.pt\n",
      "saving current model at: ./log/dt_halfcheetah_model_400_64.pt\n"
     ]
    },
    {
     "name": "stderr",
     "output_type": "stream",
     "text": [
      " 33%|███▎      | 132/400 [1:22:05<3:21:13, 45.05s/it]"
     ]
    },
    {
     "name": "stdout",
     "output_type": "stream",
     "text": [
      "============================================================\n",
      "time elapsed: 1:22:05\n",
      "num of updates: 13200\n",
      "train total loss: 0.06639\n",
      "train state loss: 0.05533\n",
      "train reward loss: 0.01106\n",
      "val total loss: 0.04126\n",
      "val state loss: 0.03460\n",
      "val reward loss: 0.00666\n",
      "saving min loss model at: ./log/dt_halfcheetah_model_400_64_best.pt\n",
      "saving current model at: ./log/dt_halfcheetah_model_400_64.pt\n"
     ]
    },
    {
     "name": "stderr",
     "output_type": "stream",
     "text": [
      " 33%|███▎      | 133/400 [1:22:47<3:15:42, 43.98s/it]"
     ]
    },
    {
     "name": "stdout",
     "output_type": "stream",
     "text": [
      "============================================================\n",
      "time elapsed: 1:22:47\n",
      "num of updates: 13300\n",
      "train total loss: 0.06582\n",
      "train state loss: 0.05502\n",
      "train reward loss: 0.01080\n",
      "val total loss: 0.04163\n",
      "val state loss: 0.03507\n",
      "val reward loss: 0.00656\n",
      "saving min loss model at: ./log/dt_halfcheetah_model_400_64_best.pt\n",
      "saving current model at: ./log/dt_halfcheetah_model_400_64.pt\n"
     ]
    },
    {
     "name": "stderr",
     "output_type": "stream",
     "text": [
      " 34%|███▎      | 134/400 [1:23:24<3:06:29, 42.06s/it]"
     ]
    },
    {
     "name": "stdout",
     "output_type": "stream",
     "text": [
      "============================================================\n",
      "time elapsed: 1:23:25\n",
      "num of updates: 13400\n",
      "train total loss: 0.06487\n",
      "train state loss: 0.05423\n",
      "train reward loss: 0.01064\n",
      "val total loss: 0.04266\n",
      "val state loss: 0.03471\n",
      "val reward loss: 0.00795\n",
      "saving min loss model at: ./log/dt_halfcheetah_model_400_64_best.pt\n",
      "saving current model at: ./log/dt_halfcheetah_model_400_64.pt\n"
     ]
    },
    {
     "name": "stderr",
     "output_type": "stream",
     "text": [
      " 34%|███▍      | 135/400 [1:23:58<2:55:14, 39.68s/it]"
     ]
    },
    {
     "name": "stdout",
     "output_type": "stream",
     "text": [
      "============================================================\n",
      "time elapsed: 1:23:59\n",
      "num of updates: 13500\n",
      "train total loss: 0.06500\n",
      "train state loss: 0.05421\n",
      "train reward loss: 0.01079\n",
      "val total loss: 0.03904\n",
      "val state loss: 0.03373\n",
      "val reward loss: 0.00531\n",
      "saving min loss model at: ./log/dt_halfcheetah_model_400_64_best.pt\n",
      "saving current model at: ./log/dt_halfcheetah_model_400_64.pt\n"
     ]
    },
    {
     "name": "stderr",
     "output_type": "stream",
     "text": [
      " 34%|███▍      | 136/400 [1:24:33<2:48:19, 38.26s/it]"
     ]
    },
    {
     "name": "stdout",
     "output_type": "stream",
     "text": [
      "============================================================\n",
      "time elapsed: 1:24:34\n",
      "num of updates: 13600\n",
      "train total loss: 0.06409\n",
      "train state loss: 0.05363\n",
      "train reward loss: 0.01045\n",
      "val total loss: 0.03787\n",
      "val state loss: 0.03186\n",
      "val reward loss: 0.00601\n",
      "saving min loss model at: ./log/dt_halfcheetah_model_400_64_best.pt\n",
      "saving current model at: ./log/dt_halfcheetah_model_400_64.pt\n"
     ]
    },
    {
     "name": "stderr",
     "output_type": "stream",
     "text": [
      " 34%|███▍      | 137/400 [1:25:09<2:43:48, 37.37s/it]"
     ]
    },
    {
     "name": "stdout",
     "output_type": "stream",
     "text": [
      "============================================================\n",
      "time elapsed: 1:25:09\n",
      "num of updates: 13700\n",
      "train total loss: 0.06462\n",
      "train state loss: 0.05394\n",
      "train reward loss: 0.01069\n",
      "val total loss: 0.04149\n",
      "val state loss: 0.03450\n",
      "val reward loss: 0.00699\n",
      "saving min loss model at: ./log/dt_halfcheetah_model_400_64_best.pt\n",
      "saving current model at: ./log/dt_halfcheetah_model_400_64.pt\n"
     ]
    },
    {
     "name": "stderr",
     "output_type": "stream",
     "text": [
      " 34%|███▍      | 138/400 [1:25:42<2:37:40, 36.11s/it]"
     ]
    },
    {
     "name": "stdout",
     "output_type": "stream",
     "text": [
      "============================================================\n",
      "time elapsed: 1:25:42\n",
      "num of updates: 13800\n",
      "train total loss: 0.06370\n",
      "train state loss: 0.05322\n",
      "train reward loss: 0.01048\n",
      "val total loss: 0.03694\n",
      "val state loss: 0.03188\n",
      "val reward loss: 0.00506\n",
      "saving min loss model at: ./log/dt_halfcheetah_model_400_64_best.pt\n",
      "saving current model at: ./log/dt_halfcheetah_model_400_64.pt\n"
     ]
    },
    {
     "name": "stderr",
     "output_type": "stream",
     "text": [
      " 35%|███▍      | 139/400 [1:26:18<2:36:36, 36.00s/it]"
     ]
    },
    {
     "name": "stdout",
     "output_type": "stream",
     "text": [
      "============================================================\n",
      "time elapsed: 1:26:18\n",
      "num of updates: 13900\n",
      "train total loss: 0.06284\n",
      "train state loss: 0.05260\n",
      "train reward loss: 0.01024\n",
      "val total loss: 0.04045\n",
      "val state loss: 0.03417\n",
      "val reward loss: 0.00628\n",
      "saving min loss model at: ./log/dt_halfcheetah_model_400_64_best.pt\n",
      "saving current model at: ./log/dt_halfcheetah_model_400_64.pt\n"
     ]
    },
    {
     "name": "stderr",
     "output_type": "stream",
     "text": [
      " 35%|███▌      | 140/400 [1:26:54<2:36:36, 36.14s/it]"
     ]
    },
    {
     "name": "stdout",
     "output_type": "stream",
     "text": [
      "============================================================\n",
      "time elapsed: 1:26:54\n",
      "num of updates: 14000\n",
      "train total loss: 0.06376\n",
      "train state loss: 0.05320\n",
      "train reward loss: 0.01056\n",
      "val total loss: 0.03597\n",
      "val state loss: 0.03109\n",
      "val reward loss: 0.00488\n",
      "saving min loss model at: ./log/dt_halfcheetah_model_400_64_best.pt\n",
      "saving current model at: ./log/dt_halfcheetah_model_400_64.pt\n"
     ]
    },
    {
     "name": "stderr",
     "output_type": "stream",
     "text": [
      " 35%|███▌      | 141/400 [1:27:27<2:32:12, 35.26s/it]"
     ]
    },
    {
     "name": "stdout",
     "output_type": "stream",
     "text": [
      "============================================================\n",
      "time elapsed: 1:27:27\n",
      "num of updates: 14100\n",
      "train total loss: 0.06265\n",
      "train state loss: 0.05222\n",
      "train reward loss: 0.01042\n",
      "val total loss: 0.03843\n",
      "val state loss: 0.03307\n",
      "val reward loss: 0.00535\n",
      "saving min loss model at: ./log/dt_halfcheetah_model_400_64_best.pt\n",
      "saving current model at: ./log/dt_halfcheetah_model_400_64.pt\n"
     ]
    },
    {
     "name": "stderr",
     "output_type": "stream",
     "text": [
      " 36%|███▌      | 142/400 [1:28:02<2:31:01, 35.12s/it]"
     ]
    },
    {
     "name": "stdout",
     "output_type": "stream",
     "text": [
      "============================================================\n",
      "time elapsed: 1:28:02\n",
      "num of updates: 14200\n",
      "train total loss: 0.06247\n",
      "train state loss: 0.05229\n",
      "train reward loss: 0.01018\n",
      "val total loss: 0.03617\n",
      "val state loss: 0.03124\n",
      "val reward loss: 0.00493\n",
      "saving min loss model at: ./log/dt_halfcheetah_model_400_64_best.pt\n",
      "saving current model at: ./log/dt_halfcheetah_model_400_64.pt\n"
     ]
    },
    {
     "name": "stderr",
     "output_type": "stream",
     "text": [
      " 36%|███▌      | 143/400 [1:28:37<2:30:37, 35.17s/it]"
     ]
    },
    {
     "name": "stdout",
     "output_type": "stream",
     "text": [
      "============================================================\n",
      "time elapsed: 1:28:38\n",
      "num of updates: 14300\n",
      "train total loss: 0.06161\n",
      "train state loss: 0.05154\n",
      "train reward loss: 0.01007\n",
      "val total loss: 0.03963\n",
      "val state loss: 0.03291\n",
      "val reward loss: 0.00672\n",
      "saving min loss model at: ./log/dt_halfcheetah_model_400_64_best.pt\n",
      "saving current model at: ./log/dt_halfcheetah_model_400_64.pt\n"
     ]
    },
    {
     "name": "stderr",
     "output_type": "stream",
     "text": [
      " 36%|███▌      | 144/400 [1:29:10<2:26:53, 34.43s/it]"
     ]
    },
    {
     "name": "stdout",
     "output_type": "stream",
     "text": [
      "============================================================\n",
      "time elapsed: 1:29:10\n",
      "num of updates: 14400\n",
      "train total loss: 0.06231\n",
      "train state loss: 0.05179\n",
      "train reward loss: 0.01052\n",
      "val total loss: 0.04145\n",
      "val state loss: 0.03423\n",
      "val reward loss: 0.00722\n",
      "saving min loss model at: ./log/dt_halfcheetah_model_400_64_best.pt\n",
      "saving current model at: ./log/dt_halfcheetah_model_400_64.pt\n"
     ]
    },
    {
     "name": "stderr",
     "output_type": "stream",
     "text": [
      " 36%|███▋      | 145/400 [1:29:44<2:25:58, 34.35s/it]"
     ]
    },
    {
     "name": "stdout",
     "output_type": "stream",
     "text": [
      "============================================================\n",
      "time elapsed: 1:29:44\n",
      "num of updates: 14500\n",
      "train total loss: 0.06134\n",
      "train state loss: 0.05127\n",
      "train reward loss: 0.01007\n",
      "val total loss: 0.03559\n",
      "val state loss: 0.03042\n",
      "val reward loss: 0.00517\n",
      "saving min loss model at: ./log/dt_halfcheetah_model_400_64_best.pt\n",
      "saving current model at: ./log/dt_halfcheetah_model_400_64.pt\n"
     ]
    },
    {
     "name": "stderr",
     "output_type": "stream",
     "text": [
      " 36%|███▋      | 146/400 [1:30:21<2:27:57, 34.95s/it]"
     ]
    },
    {
     "name": "stdout",
     "output_type": "stream",
     "text": [
      "============================================================\n",
      "time elapsed: 1:30:21\n",
      "num of updates: 14600\n",
      "train total loss: 0.06199\n",
      "train state loss: 0.05180\n",
      "train reward loss: 0.01018\n",
      "val total loss: 0.04142\n",
      "val state loss: 0.03426\n",
      "val reward loss: 0.00716\n",
      "saving min loss model at: ./log/dt_halfcheetah_model_400_64_best.pt\n",
      "saving current model at: ./log/dt_halfcheetah_model_400_64.pt\n"
     ]
    },
    {
     "name": "stderr",
     "output_type": "stream",
     "text": [
      " 37%|███▋      | 147/400 [1:30:53<2:24:12, 34.20s/it]"
     ]
    },
    {
     "name": "stdout",
     "output_type": "stream",
     "text": [
      "============================================================\n",
      "time elapsed: 1:30:53\n",
      "num of updates: 14700\n",
      "train total loss: 0.06041\n",
      "train state loss: 0.05057\n",
      "train reward loss: 0.00984\n",
      "val total loss: 0.03772\n",
      "val state loss: 0.03214\n",
      "val reward loss: 0.00558\n",
      "saving min loss model at: ./log/dt_halfcheetah_model_400_64_best.pt\n",
      "saving current model at: ./log/dt_halfcheetah_model_400_64.pt\n"
     ]
    },
    {
     "name": "stderr",
     "output_type": "stream",
     "text": [
      " 37%|███▋      | 148/400 [1:31:29<2:25:32, 34.65s/it]"
     ]
    },
    {
     "name": "stdout",
     "output_type": "stream",
     "text": [
      "============================================================\n",
      "time elapsed: 1:31:29\n",
      "num of updates: 14800\n",
      "train total loss: 0.05992\n",
      "train state loss: 0.05014\n",
      "train reward loss: 0.00977\n",
      "val total loss: 0.03710\n",
      "val state loss: 0.03165\n",
      "val reward loss: 0.00544\n",
      "saving min loss model at: ./log/dt_halfcheetah_model_400_64_best.pt\n",
      "saving current model at: ./log/dt_halfcheetah_model_400_64.pt\n"
     ]
    },
    {
     "name": "stderr",
     "output_type": "stream",
     "text": [
      " 37%|███▋      | 149/400 [1:32:06<2:28:01, 35.38s/it]"
     ]
    },
    {
     "name": "stdout",
     "output_type": "stream",
     "text": [
      "============================================================\n",
      "time elapsed: 1:32:06\n",
      "num of updates: 14900\n",
      "train total loss: 0.06020\n",
      "train state loss: 0.05026\n",
      "train reward loss: 0.00994\n",
      "val total loss: 0.03371\n",
      "val state loss: 0.02895\n",
      "val reward loss: 0.00475\n",
      "saving min loss model at: ./log/dt_halfcheetah_model_400_64_best.pt\n",
      "saving current model at: ./log/dt_halfcheetah_model_400_64.pt\n"
     ]
    },
    {
     "name": "stderr",
     "output_type": "stream",
     "text": [
      " 38%|███▊      | 150/400 [1:32:40<2:26:23, 35.13s/it]"
     ]
    },
    {
     "name": "stdout",
     "output_type": "stream",
     "text": [
      "============================================================\n",
      "time elapsed: 1:32:41\n",
      "num of updates: 15000\n",
      "train total loss: 0.06002\n",
      "train state loss: 0.05011\n",
      "train reward loss: 0.00991\n",
      "val total loss: 0.03816\n",
      "val state loss: 0.03223\n",
      "val reward loss: 0.00593\n",
      "saving min loss model at: ./log/dt_halfcheetah_model_400_64_best.pt\n",
      "saving current model at: ./log/dt_halfcheetah_model_400_64.pt\n"
     ]
    },
    {
     "name": "stderr",
     "output_type": "stream",
     "text": [
      " 38%|███▊      | 151/400 [1:33:14<2:23:53, 34.67s/it]"
     ]
    },
    {
     "name": "stdout",
     "output_type": "stream",
     "text": [
      "============================================================\n",
      "time elapsed: 1:33:14\n",
      "num of updates: 15100\n",
      "train total loss: 0.05872\n",
      "train state loss: 0.04914\n",
      "train reward loss: 0.00959\n",
      "val total loss: 0.03792\n",
      "val state loss: 0.03207\n",
      "val reward loss: 0.00585\n",
      "saving min loss model at: ./log/dt_halfcheetah_model_400_64_best.pt\n",
      "saving current model at: ./log/dt_halfcheetah_model_400_64.pt\n"
     ]
    },
    {
     "name": "stderr",
     "output_type": "stream",
     "text": [
      " 38%|███▊      | 152/400 [1:33:52<2:27:43, 35.74s/it]"
     ]
    },
    {
     "name": "stdout",
     "output_type": "stream",
     "text": [
      "============================================================\n",
      "time elapsed: 1:33:52\n",
      "num of updates: 15200\n",
      "train total loss: 0.05960\n",
      "train state loss: 0.04990\n",
      "train reward loss: 0.00970\n",
      "val total loss: 0.03614\n",
      "val state loss: 0.03039\n",
      "val reward loss: 0.00576\n",
      "saving min loss model at: ./log/dt_halfcheetah_model_400_64_best.pt\n",
      "saving current model at: ./log/dt_halfcheetah_model_400_64.pt\n"
     ]
    },
    {
     "name": "stderr",
     "output_type": "stream",
     "text": [
      " 38%|███▊      | 153/400 [1:34:36<2:37:36, 38.28s/it]"
     ]
    },
    {
     "name": "stdout",
     "output_type": "stream",
     "text": [
      "============================================================\n",
      "time elapsed: 1:34:37\n",
      "num of updates: 15300\n",
      "train total loss: 0.05838\n",
      "train state loss: 0.04884\n",
      "train reward loss: 0.00954\n",
      "val total loss: 0.03492\n",
      "val state loss: 0.02979\n",
      "val reward loss: 0.00512\n",
      "saving min loss model at: ./log/dt_halfcheetah_model_400_64_best.pt\n",
      "saving current model at: ./log/dt_halfcheetah_model_400_64.pt\n"
     ]
    },
    {
     "name": "stderr",
     "output_type": "stream",
     "text": [
      " 38%|███▊      | 154/400 [1:35:12<2:34:08, 37.60s/it]"
     ]
    },
    {
     "name": "stdout",
     "output_type": "stream",
     "text": [
      "============================================================\n",
      "time elapsed: 1:35:13\n",
      "num of updates: 15400\n",
      "train total loss: 0.05861\n",
      "train state loss: 0.04908\n",
      "train reward loss: 0.00953\n",
      "val total loss: 0.03702\n",
      "val state loss: 0.03030\n",
      "val reward loss: 0.00672\n",
      "saving min loss model at: ./log/dt_halfcheetah_model_400_64_best.pt\n",
      "saving current model at: ./log/dt_halfcheetah_model_400_64.pt\n"
     ]
    },
    {
     "name": "stderr",
     "output_type": "stream",
     "text": [
      " 39%|███▉      | 155/400 [1:35:46<2:28:18, 36.32s/it]"
     ]
    },
    {
     "name": "stdout",
     "output_type": "stream",
     "text": [
      "============================================================\n",
      "time elapsed: 1:35:46\n",
      "num of updates: 15500\n",
      "train total loss: 0.05830\n",
      "train state loss: 0.04878\n",
      "train reward loss: 0.00952\n",
      "val total loss: 0.03534\n",
      "val state loss: 0.02982\n",
      "val reward loss: 0.00552\n",
      "saving min loss model at: ./log/dt_halfcheetah_model_400_64_best.pt\n",
      "saving current model at: ./log/dt_halfcheetah_model_400_64.pt\n"
     ]
    },
    {
     "name": "stderr",
     "output_type": "stream",
     "text": [
      " 39%|███▉      | 156/400 [1:36:25<2:31:17, 37.20s/it]"
     ]
    },
    {
     "name": "stdout",
     "output_type": "stream",
     "text": [
      "============================================================\n",
      "time elapsed: 1:36:25\n",
      "num of updates: 15600\n",
      "train total loss: 0.05791\n",
      "train state loss: 0.04861\n",
      "train reward loss: 0.00930\n",
      "val total loss: 0.03504\n",
      "val state loss: 0.02990\n",
      "val reward loss: 0.00513\n",
      "saving min loss model at: ./log/dt_halfcheetah_model_400_64_best.pt\n",
      "saving current model at: ./log/dt_halfcheetah_model_400_64.pt\n"
     ]
    },
    {
     "name": "stderr",
     "output_type": "stream",
     "text": [
      " 39%|███▉      | 157/400 [1:37:02<2:30:25, 37.14s/it]"
     ]
    },
    {
     "name": "stdout",
     "output_type": "stream",
     "text": [
      "============================================================\n",
      "time elapsed: 1:37:02\n",
      "num of updates: 15700\n",
      "train total loss: 0.05758\n",
      "train state loss: 0.04822\n",
      "train reward loss: 0.00936\n",
      "val total loss: 0.03665\n",
      "val state loss: 0.03101\n",
      "val reward loss: 0.00564\n",
      "saving min loss model at: ./log/dt_halfcheetah_model_400_64_best.pt\n",
      "saving current model at: ./log/dt_halfcheetah_model_400_64.pt\n"
     ]
    },
    {
     "name": "stderr",
     "output_type": "stream",
     "text": [
      " 40%|███▉      | 158/400 [1:37:40<2:30:37, 37.34s/it]"
     ]
    },
    {
     "name": "stdout",
     "output_type": "stream",
     "text": [
      "============================================================\n",
      "time elapsed: 1:37:40\n",
      "num of updates: 15800\n",
      "train total loss: 0.05686\n",
      "train state loss: 0.04769\n",
      "train reward loss: 0.00917\n",
      "val total loss: 0.03670\n",
      "val state loss: 0.03102\n",
      "val reward loss: 0.00568\n",
      "saving min loss model at: ./log/dt_halfcheetah_model_400_64_best.pt\n",
      "saving current model at: ./log/dt_halfcheetah_model_400_64.pt\n"
     ]
    },
    {
     "name": "stderr",
     "output_type": "stream",
     "text": [
      " 40%|███▉      | 159/400 [1:38:20<2:33:37, 38.25s/it]"
     ]
    },
    {
     "name": "stdout",
     "output_type": "stream",
     "text": [
      "============================================================\n",
      "time elapsed: 1:38:20\n",
      "num of updates: 15900\n",
      "train total loss: 0.05724\n",
      "train state loss: 0.04787\n",
      "train reward loss: 0.00937\n",
      "val total loss: 0.03506\n",
      "val state loss: 0.02843\n",
      "val reward loss: 0.00663\n",
      "saving min loss model at: ./log/dt_halfcheetah_model_400_64_best.pt\n",
      "saving current model at: ./log/dt_halfcheetah_model_400_64.pt\n"
     ]
    },
    {
     "name": "stderr",
     "output_type": "stream",
     "text": [
      " 40%|████      | 160/400 [1:38:56<2:29:49, 37.45s/it]"
     ]
    },
    {
     "name": "stdout",
     "output_type": "stream",
     "text": [
      "============================================================\n",
      "time elapsed: 1:38:56\n",
      "num of updates: 16000\n",
      "train total loss: 0.05652\n",
      "train state loss: 0.04740\n",
      "train reward loss: 0.00912\n",
      "val total loss: 0.03514\n",
      "val state loss: 0.03014\n",
      "val reward loss: 0.00500\n",
      "saving min loss model at: ./log/dt_halfcheetah_model_400_64_best.pt\n",
      "saving current model at: ./log/dt_halfcheetah_model_400_64.pt\n"
     ]
    },
    {
     "name": "stderr",
     "output_type": "stream",
     "text": [
      " 40%|████      | 161/400 [1:39:47<2:46:01, 41.68s/it]"
     ]
    },
    {
     "name": "stdout",
     "output_type": "stream",
     "text": [
      "============================================================\n",
      "time elapsed: 1:39:48\n",
      "num of updates: 16100\n",
      "train total loss: 0.05666\n",
      "train state loss: 0.04746\n",
      "train reward loss: 0.00920\n",
      "val total loss: 0.03519\n",
      "val state loss: 0.02959\n",
      "val reward loss: 0.00560\n",
      "saving min loss model at: ./log/dt_halfcheetah_model_400_64_best.pt\n",
      "saving current model at: ./log/dt_halfcheetah_model_400_64.pt\n"
     ]
    },
    {
     "name": "stderr",
     "output_type": "stream",
     "text": [
      " 40%|████      | 162/400 [1:40:39<2:56:45, 44.56s/it]"
     ]
    },
    {
     "name": "stdout",
     "output_type": "stream",
     "text": [
      "============================================================\n",
      "time elapsed: 1:40:39\n",
      "num of updates: 16200\n",
      "train total loss: 0.05702\n",
      "train state loss: 0.04757\n",
      "train reward loss: 0.00945\n",
      "val total loss: 0.03200\n",
      "val state loss: 0.02700\n",
      "val reward loss: 0.00500\n",
      "saving min loss model at: ./log/dt_halfcheetah_model_400_64_best.pt\n",
      "saving current model at: ./log/dt_halfcheetah_model_400_64.pt\n"
     ]
    },
    {
     "name": "stderr",
     "output_type": "stream",
     "text": [
      " 41%|████      | 163/400 [1:41:15<2:46:37, 42.18s/it]"
     ]
    },
    {
     "name": "stdout",
     "output_type": "stream",
     "text": [
      "============================================================\n",
      "time elapsed: 1:41:15\n",
      "num of updates: 16300\n",
      "train total loss: 0.05641\n",
      "train state loss: 0.04722\n",
      "train reward loss: 0.00919\n",
      "val total loss: 0.03450\n",
      "val state loss: 0.02912\n",
      "val reward loss: 0.00539\n",
      "saving min loss model at: ./log/dt_halfcheetah_model_400_64_best.pt\n",
      "saving current model at: ./log/dt_halfcheetah_model_400_64.pt\n"
     ]
    },
    {
     "name": "stderr",
     "output_type": "stream",
     "text": [
      " 41%|████      | 164/400 [1:41:53<2:40:55, 40.91s/it]"
     ]
    },
    {
     "name": "stdout",
     "output_type": "stream",
     "text": [
      "============================================================\n",
      "time elapsed: 1:41:53\n",
      "num of updates: 16400\n",
      "train total loss: 0.05579\n",
      "train state loss: 0.04687\n",
      "train reward loss: 0.00893\n",
      "val total loss: 0.03418\n",
      "val state loss: 0.02924\n",
      "val reward loss: 0.00494\n",
      "saving min loss model at: ./log/dt_halfcheetah_model_400_64_best.pt\n",
      "saving current model at: ./log/dt_halfcheetah_model_400_64.pt\n"
     ]
    },
    {
     "name": "stderr",
     "output_type": "stream",
     "text": [
      " 41%|████▏     | 165/400 [1:42:29<2:34:19, 39.40s/it]"
     ]
    },
    {
     "name": "stdout",
     "output_type": "stream",
     "text": [
      "============================================================\n",
      "time elapsed: 1:42:29\n",
      "num of updates: 16500\n",
      "train total loss: 0.05535\n",
      "train state loss: 0.04636\n",
      "train reward loss: 0.00899\n",
      "val total loss: 0.03562\n",
      "val state loss: 0.03012\n",
      "val reward loss: 0.00550\n",
      "saving min loss model at: ./log/dt_halfcheetah_model_400_64_best.pt\n",
      "saving current model at: ./log/dt_halfcheetah_model_400_64.pt\n"
     ]
    },
    {
     "name": "stderr",
     "output_type": "stream",
     "text": [
      " 42%|████▏     | 166/400 [1:43:05<2:29:45, 38.40s/it]"
     ]
    },
    {
     "name": "stdout",
     "output_type": "stream",
     "text": [
      "============================================================\n",
      "time elapsed: 1:43:05\n",
      "num of updates: 16600\n",
      "train total loss: 0.05497\n",
      "train state loss: 0.04604\n",
      "train reward loss: 0.00893\n",
      "val total loss: 0.03449\n",
      "val state loss: 0.02957\n",
      "val reward loss: 0.00492\n",
      "saving min loss model at: ./log/dt_halfcheetah_model_400_64_best.pt\n",
      "saving current model at: ./log/dt_halfcheetah_model_400_64.pt\n"
     ]
    },
    {
     "name": "stderr",
     "output_type": "stream",
     "text": [
      " 42%|████▏     | 167/400 [1:43:39<2:24:20, 37.17s/it]"
     ]
    },
    {
     "name": "stdout",
     "output_type": "stream",
     "text": [
      "============================================================\n",
      "time elapsed: 1:43:40\n",
      "num of updates: 16700\n",
      "train total loss: 0.05494\n",
      "train state loss: 0.04602\n",
      "train reward loss: 0.00892\n",
      "val total loss: 0.03419\n",
      "val state loss: 0.02890\n",
      "val reward loss: 0.00529\n",
      "saving min loss model at: ./log/dt_halfcheetah_model_400_64_best.pt\n",
      "saving current model at: ./log/dt_halfcheetah_model_400_64.pt\n"
     ]
    },
    {
     "name": "stderr",
     "output_type": "stream",
     "text": [
      " 42%|████▏     | 168/400 [1:44:14<2:20:35, 36.36s/it]"
     ]
    },
    {
     "name": "stdout",
     "output_type": "stream",
     "text": [
      "============================================================\n",
      "time elapsed: 1:44:14\n",
      "num of updates: 16800\n",
      "train total loss: 0.05567\n",
      "train state loss: 0.04659\n",
      "train reward loss: 0.00908\n",
      "val total loss: 0.03398\n",
      "val state loss: 0.02904\n",
      "val reward loss: 0.00494\n",
      "saving min loss model at: ./log/dt_halfcheetah_model_400_64_best.pt\n",
      "saving current model at: ./log/dt_halfcheetah_model_400_64.pt\n"
     ]
    },
    {
     "name": "stderr",
     "output_type": "stream",
     "text": [
      " 42%|████▏     | 169/400 [1:44:50<2:19:20, 36.19s/it]"
     ]
    },
    {
     "name": "stdout",
     "output_type": "stream",
     "text": [
      "============================================================\n",
      "time elapsed: 1:44:50\n",
      "num of updates: 16900\n",
      "train total loss: 0.05467\n",
      "train state loss: 0.04568\n",
      "train reward loss: 0.00898\n",
      "val total loss: 0.03282\n",
      "val state loss: 0.02775\n",
      "val reward loss: 0.00506\n",
      "saving min loss model at: ./log/dt_halfcheetah_model_400_64_best.pt\n",
      "saving current model at: ./log/dt_halfcheetah_model_400_64.pt\n"
     ]
    },
    {
     "name": "stderr",
     "output_type": "stream",
     "text": [
      " 42%|████▎     | 170/400 [1:45:26<2:19:18, 36.34s/it]"
     ]
    },
    {
     "name": "stdout",
     "output_type": "stream",
     "text": [
      "============================================================\n",
      "time elapsed: 1:45:27\n",
      "num of updates: 17000\n",
      "train total loss: 0.05497\n",
      "train state loss: 0.04607\n",
      "train reward loss: 0.00890\n",
      "val total loss: 0.03332\n",
      "val state loss: 0.02853\n",
      "val reward loss: 0.00480\n",
      "saving min loss model at: ./log/dt_halfcheetah_model_400_64_best.pt\n",
      "saving current model at: ./log/dt_halfcheetah_model_400_64.pt\n"
     ]
    },
    {
     "name": "stderr",
     "output_type": "stream",
     "text": [
      " 43%|████▎     | 171/400 [1:46:08<2:24:21, 37.82s/it]"
     ]
    },
    {
     "name": "stdout",
     "output_type": "stream",
     "text": [
      "============================================================\n",
      "time elapsed: 1:46:08\n",
      "num of updates: 17100\n",
      "train total loss: 0.05461\n",
      "train state loss: 0.04575\n",
      "train reward loss: 0.00886\n",
      "val total loss: 0.03174\n",
      "val state loss: 0.02713\n",
      "val reward loss: 0.00462\n",
      "saving min loss model at: ./log/dt_halfcheetah_model_400_64_best.pt\n",
      "saving current model at: ./log/dt_halfcheetah_model_400_64.pt\n"
     ]
    },
    {
     "name": "stderr",
     "output_type": "stream",
     "text": [
      " 43%|████▎     | 172/400 [1:46:45<2:22:38, 37.54s/it]"
     ]
    },
    {
     "name": "stdout",
     "output_type": "stream",
     "text": [
      "============================================================\n",
      "time elapsed: 1:46:45\n",
      "num of updates: 17200\n",
      "train total loss: 0.05411\n",
      "train state loss: 0.04515\n",
      "train reward loss: 0.00896\n",
      "val total loss: 0.03166\n",
      "val state loss: 0.02742\n",
      "val reward loss: 0.00423\n",
      "saving min loss model at: ./log/dt_halfcheetah_model_400_64_best.pt\n",
      "saving current model at: ./log/dt_halfcheetah_model_400_64.pt\n"
     ]
    },
    {
     "name": "stderr",
     "output_type": "stream",
     "text": [
      " 43%|████▎     | 173/400 [1:47:23<2:23:33, 37.95s/it]"
     ]
    },
    {
     "name": "stdout",
     "output_type": "stream",
     "text": [
      "============================================================\n",
      "time elapsed: 1:47:24\n",
      "num of updates: 17300\n",
      "train total loss: 0.05369\n",
      "train state loss: 0.04494\n",
      "train reward loss: 0.00875\n",
      "val total loss: 0.03167\n",
      "val state loss: 0.02737\n",
      "val reward loss: 0.00430\n",
      "saving min loss model at: ./log/dt_halfcheetah_model_400_64_best.pt\n",
      "saving current model at: ./log/dt_halfcheetah_model_400_64.pt\n"
     ]
    },
    {
     "name": "stderr",
     "output_type": "stream",
     "text": [
      " 44%|████▎     | 174/400 [1:48:04<2:25:29, 38.63s/it]"
     ]
    },
    {
     "name": "stdout",
     "output_type": "stream",
     "text": [
      "============================================================\n",
      "time elapsed: 1:48:04\n",
      "num of updates: 17400\n",
      "train total loss: 0.05434\n",
      "train state loss: 0.04548\n",
      "train reward loss: 0.00886\n",
      "val total loss: 0.03014\n",
      "val state loss: 0.02631\n",
      "val reward loss: 0.00383\n",
      "saving min loss model at: ./log/dt_halfcheetah_model_400_64_best.pt\n",
      "saving current model at: ./log/dt_halfcheetah_model_400_64.pt\n"
     ]
    },
    {
     "name": "stderr",
     "output_type": "stream",
     "text": [
      " 44%|████▍     | 175/400 [1:48:41<2:23:32, 38.28s/it]"
     ]
    },
    {
     "name": "stdout",
     "output_type": "stream",
     "text": [
      "============================================================\n",
      "time elapsed: 1:48:41\n",
      "num of updates: 17500\n",
      "train total loss: 0.05319\n",
      "train state loss: 0.04471\n",
      "train reward loss: 0.00848\n",
      "val total loss: 0.03483\n",
      "val state loss: 0.02877\n",
      "val reward loss: 0.00606\n",
      "saving min loss model at: ./log/dt_halfcheetah_model_400_64_best.pt\n",
      "saving current model at: ./log/dt_halfcheetah_model_400_64.pt\n"
     ]
    },
    {
     "name": "stderr",
     "output_type": "stream",
     "text": [
      " 44%|████▍     | 176/400 [1:49:20<2:24:01, 38.58s/it]"
     ]
    },
    {
     "name": "stdout",
     "output_type": "stream",
     "text": [
      "============================================================\n",
      "time elapsed: 1:49:21\n",
      "num of updates: 17600\n",
      "train total loss: 0.05321\n",
      "train state loss: 0.04460\n",
      "train reward loss: 0.00861\n",
      "val total loss: 0.03035\n",
      "val state loss: 0.02638\n",
      "val reward loss: 0.00397\n",
      "saving min loss model at: ./log/dt_halfcheetah_model_400_64_best.pt\n",
      "saving current model at: ./log/dt_halfcheetah_model_400_64.pt\n"
     ]
    },
    {
     "name": "stderr",
     "output_type": "stream",
     "text": [
      " 44%|████▍     | 177/400 [1:49:59<2:22:55, 38.46s/it]"
     ]
    },
    {
     "name": "stdout",
     "output_type": "stream",
     "text": [
      "============================================================\n",
      "time elapsed: 1:49:59\n",
      "num of updates: 17700\n",
      "train total loss: 0.05354\n",
      "train state loss: 0.04482\n",
      "train reward loss: 0.00871\n",
      "val total loss: 0.03102\n",
      "val state loss: 0.02657\n",
      "val reward loss: 0.00444\n",
      "saving min loss model at: ./log/dt_halfcheetah_model_400_64_best.pt\n",
      "saving current model at: ./log/dt_halfcheetah_model_400_64.pt\n"
     ]
    },
    {
     "name": "stderr",
     "output_type": "stream",
     "text": [
      " 44%|████▍     | 178/400 [1:50:38<2:22:56, 38.63s/it]"
     ]
    },
    {
     "name": "stdout",
     "output_type": "stream",
     "text": [
      "============================================================\n",
      "time elapsed: 1:50:38\n",
      "num of updates: 17800\n",
      "train total loss: 0.05251\n",
      "train state loss: 0.04403\n",
      "train reward loss: 0.00848\n",
      "val total loss: 0.03277\n",
      "val state loss: 0.02705\n",
      "val reward loss: 0.00573\n",
      "saving min loss model at: ./log/dt_halfcheetah_model_400_64_best.pt\n",
      "saving current model at: ./log/dt_halfcheetah_model_400_64.pt\n"
     ]
    },
    {
     "name": "stderr",
     "output_type": "stream",
     "text": [
      " 45%|████▍     | 179/400 [1:51:16<2:21:41, 38.47s/it]"
     ]
    },
    {
     "name": "stdout",
     "output_type": "stream",
     "text": [
      "============================================================\n",
      "time elapsed: 1:51:16\n",
      "num of updates: 17900\n",
      "train total loss: 0.05312\n",
      "train state loss: 0.04458\n",
      "train reward loss: 0.00854\n",
      "val total loss: 0.03412\n",
      "val state loss: 0.02774\n",
      "val reward loss: 0.00638\n",
      "saving min loss model at: ./log/dt_halfcheetah_model_400_64_best.pt\n",
      "saving current model at: ./log/dt_halfcheetah_model_400_64.pt\n"
     ]
    },
    {
     "name": "stderr",
     "output_type": "stream",
     "text": [
      " 45%|████▌     | 180/400 [1:52:11<2:39:45, 43.57s/it]"
     ]
    },
    {
     "name": "stdout",
     "output_type": "stream",
     "text": [
      "============================================================\n",
      "time elapsed: 1:52:11\n",
      "num of updates: 18000\n",
      "train total loss: 0.05266\n",
      "train state loss: 0.04393\n",
      "train reward loss: 0.00873\n",
      "val total loss: 0.03175\n",
      "val state loss: 0.02668\n",
      "val reward loss: 0.00507\n",
      "saving min loss model at: ./log/dt_halfcheetah_model_400_64_best.pt\n",
      "saving current model at: ./log/dt_halfcheetah_model_400_64.pt\n"
     ]
    },
    {
     "name": "stderr",
     "output_type": "stream",
     "text": [
      " 45%|████▌     | 181/400 [1:52:50<2:34:19, 42.28s/it]"
     ]
    },
    {
     "name": "stdout",
     "output_type": "stream",
     "text": [
      "============================================================\n",
      "time elapsed: 1:52:51\n",
      "num of updates: 18100\n",
      "train total loss: 0.05219\n",
      "train state loss: 0.04382\n",
      "train reward loss: 0.00837\n",
      "val total loss: 0.03266\n",
      "val state loss: 0.02736\n",
      "val reward loss: 0.00530\n",
      "saving min loss model at: ./log/dt_halfcheetah_model_400_64_best.pt\n",
      "saving current model at: ./log/dt_halfcheetah_model_400_64.pt\n"
     ]
    },
    {
     "name": "stderr",
     "output_type": "stream",
     "text": [
      " 46%|████▌     | 182/400 [1:53:35<2:36:12, 42.99s/it]"
     ]
    },
    {
     "name": "stdout",
     "output_type": "stream",
     "text": [
      "============================================================\n",
      "time elapsed: 1:53:35\n",
      "num of updates: 18200\n",
      "train total loss: 0.05217\n",
      "train state loss: 0.04377\n",
      "train reward loss: 0.00839\n",
      "val total loss: 0.02783\n",
      "val state loss: 0.02435\n",
      "val reward loss: 0.00348\n",
      "saving min loss model at: ./log/dt_halfcheetah_model_400_64_best.pt\n",
      "saving current model at: ./log/dt_halfcheetah_model_400_64.pt\n"
     ]
    },
    {
     "name": "stderr",
     "output_type": "stream",
     "text": [
      " 46%|████▌     | 183/400 [1:54:14<2:31:00, 41.75s/it]"
     ]
    },
    {
     "name": "stdout",
     "output_type": "stream",
     "text": [
      "============================================================\n",
      "time elapsed: 1:54:14\n",
      "num of updates: 18300\n",
      "train total loss: 0.05226\n",
      "train state loss: 0.04377\n",
      "train reward loss: 0.00848\n",
      "val total loss: 0.03364\n",
      "val state loss: 0.02777\n",
      "val reward loss: 0.00587\n",
      "saving min loss model at: ./log/dt_halfcheetah_model_400_64_best.pt\n",
      "saving current model at: ./log/dt_halfcheetah_model_400_64.pt\n"
     ]
    },
    {
     "name": "stderr",
     "output_type": "stream",
     "text": [
      " 46%|████▌     | 184/400 [1:54:59<2:34:12, 42.84s/it]"
     ]
    },
    {
     "name": "stdout",
     "output_type": "stream",
     "text": [
      "============================================================\n",
      "time elapsed: 1:55:00\n",
      "num of updates: 18400\n",
      "train total loss: 0.05113\n",
      "train state loss: 0.04279\n",
      "train reward loss: 0.00834\n",
      "val total loss: 0.03047\n",
      "val state loss: 0.02546\n",
      "val reward loss: 0.00501\n",
      "saving min loss model at: ./log/dt_halfcheetah_model_400_64_best.pt\n",
      "saving current model at: ./log/dt_halfcheetah_model_400_64.pt\n"
     ]
    },
    {
     "name": "stderr",
     "output_type": "stream",
     "text": [
      " 46%|████▋     | 185/400 [1:55:38<2:29:14, 41.65s/it]"
     ]
    },
    {
     "name": "stdout",
     "output_type": "stream",
     "text": [
      "============================================================\n",
      "time elapsed: 1:55:38\n",
      "num of updates: 18500\n",
      "train total loss: 0.05120\n",
      "train state loss: 0.04298\n",
      "train reward loss: 0.00821\n",
      "val total loss: 0.03131\n",
      "val state loss: 0.02670\n",
      "val reward loss: 0.00460\n",
      "saving min loss model at: ./log/dt_halfcheetah_model_400_64_best.pt\n",
      "saving current model at: ./log/dt_halfcheetah_model_400_64.pt\n"
     ]
    },
    {
     "name": "stderr",
     "output_type": "stream",
     "text": [
      " 46%|████▋     | 186/400 [1:56:19<2:28:01, 41.50s/it]"
     ]
    },
    {
     "name": "stdout",
     "output_type": "stream",
     "text": [
      "============================================================\n",
      "time elapsed: 1:56:20\n",
      "num of updates: 18600\n",
      "train total loss: 0.05159\n",
      "train state loss: 0.04321\n",
      "train reward loss: 0.00838\n",
      "val total loss: 0.03093\n",
      "val state loss: 0.02585\n",
      "val reward loss: 0.00508\n",
      "saving min loss model at: ./log/dt_halfcheetah_model_400_64_best.pt\n",
      "saving current model at: ./log/dt_halfcheetah_model_400_64.pt\n"
     ]
    },
    {
     "name": "stderr",
     "output_type": "stream",
     "text": [
      " 47%|████▋     | 187/400 [1:57:09<2:35:43, 43.86s/it]"
     ]
    },
    {
     "name": "stdout",
     "output_type": "stream",
     "text": [
      "============================================================\n",
      "time elapsed: 1:57:09\n",
      "num of updates: 18700\n",
      "train total loss: 0.05101\n",
      "train state loss: 0.04277\n",
      "train reward loss: 0.00824\n",
      "val total loss: 0.03277\n",
      "val state loss: 0.02807\n",
      "val reward loss: 0.00470\n",
      "saving min loss model at: ./log/dt_halfcheetah_model_400_64_best.pt\n",
      "saving current model at: ./log/dt_halfcheetah_model_400_64.pt\n"
     ]
    },
    {
     "name": "stderr",
     "output_type": "stream",
     "text": [
      " 47%|████▋     | 188/400 [1:57:51<2:33:41, 43.50s/it]"
     ]
    },
    {
     "name": "stdout",
     "output_type": "stream",
     "text": [
      "============================================================\n",
      "time elapsed: 1:57:52\n",
      "num of updates: 18800\n",
      "train total loss: 0.05104\n",
      "train state loss: 0.04277\n",
      "train reward loss: 0.00828\n",
      "val total loss: 0.03147\n",
      "val state loss: 0.02628\n",
      "val reward loss: 0.00520\n",
      "saving min loss model at: ./log/dt_halfcheetah_model_400_64_best.pt\n",
      "saving current model at: ./log/dt_halfcheetah_model_400_64.pt\n"
     ]
    },
    {
     "name": "stderr",
     "output_type": "stream",
     "text": [
      " 47%|████▋     | 189/400 [1:58:29<2:26:35, 41.69s/it]"
     ]
    },
    {
     "name": "stdout",
     "output_type": "stream",
     "text": [
      "============================================================\n",
      "time elapsed: 1:58:29\n",
      "num of updates: 18900\n",
      "train total loss: 0.05064\n",
      "train state loss: 0.04245\n",
      "train reward loss: 0.00819\n",
      "val total loss: 0.02839\n",
      "val state loss: 0.02416\n",
      "val reward loss: 0.00423\n",
      "saving min loss model at: ./log/dt_halfcheetah_model_400_64_best.pt\n",
      "saving current model at: ./log/dt_halfcheetah_model_400_64.pt\n"
     ]
    },
    {
     "name": "stderr",
     "output_type": "stream",
     "text": [
      " 48%|████▊     | 190/400 [1:59:09<2:24:35, 41.31s/it]"
     ]
    },
    {
     "name": "stdout",
     "output_type": "stream",
     "text": [
      "============================================================\n",
      "time elapsed: 1:59:09\n",
      "num of updates: 19000\n",
      "train total loss: 0.05009\n",
      "train state loss: 0.04199\n",
      "train reward loss: 0.00810\n",
      "val total loss: 0.02880\n",
      "val state loss: 0.02502\n",
      "val reward loss: 0.00377\n",
      "saving min loss model at: ./log/dt_halfcheetah_model_400_64_best.pt\n",
      "saving current model at: ./log/dt_halfcheetah_model_400_64.pt\n"
     ]
    },
    {
     "name": "stderr",
     "output_type": "stream",
     "text": [
      " 48%|████▊     | 191/400 [1:59:51<2:24:35, 41.51s/it]"
     ]
    },
    {
     "name": "stdout",
     "output_type": "stream",
     "text": [
      "============================================================\n",
      "time elapsed: 1:59:51\n",
      "num of updates: 19100\n",
      "train total loss: 0.04967\n",
      "train state loss: 0.04175\n",
      "train reward loss: 0.00792\n",
      "val total loss: 0.02949\n",
      "val state loss: 0.02538\n",
      "val reward loss: 0.00411\n",
      "saving min loss model at: ./log/dt_halfcheetah_model_400_64_best.pt\n",
      "saving current model at: ./log/dt_halfcheetah_model_400_64.pt\n"
     ]
    },
    {
     "name": "stderr",
     "output_type": "stream",
     "text": [
      " 48%|████▊     | 192/400 [2:00:31<2:21:36, 40.85s/it]"
     ]
    },
    {
     "name": "stdout",
     "output_type": "stream",
     "text": [
      "============================================================\n",
      "time elapsed: 2:00:31\n",
      "num of updates: 19200\n",
      "train total loss: 0.04973\n",
      "train state loss: 0.04186\n",
      "train reward loss: 0.00787\n",
      "val total loss: 0.02890\n",
      "val state loss: 0.02499\n",
      "val reward loss: 0.00390\n",
      "saving min loss model at: ./log/dt_halfcheetah_model_400_64_best.pt\n",
      "saving current model at: ./log/dt_halfcheetah_model_400_64.pt\n"
     ]
    },
    {
     "name": "stderr",
     "output_type": "stream",
     "text": [
      " 48%|████▊     | 193/400 [2:01:09<2:18:54, 40.26s/it]"
     ]
    },
    {
     "name": "stdout",
     "output_type": "stream",
     "text": [
      "============================================================\n",
      "time elapsed: 2:01:10\n",
      "num of updates: 19300\n",
      "train total loss: 0.05009\n",
      "train state loss: 0.04200\n",
      "train reward loss: 0.00809\n",
      "val total loss: 0.03209\n",
      "val state loss: 0.02597\n",
      "val reward loss: 0.00612\n",
      "saving min loss model at: ./log/dt_halfcheetah_model_400_64_best.pt\n",
      "saving current model at: ./log/dt_halfcheetah_model_400_64.pt\n"
     ]
    },
    {
     "name": "stderr",
     "output_type": "stream",
     "text": [
      " 48%|████▊     | 194/400 [2:01:50<2:18:15, 40.27s/it]"
     ]
    },
    {
     "name": "stdout",
     "output_type": "stream",
     "text": [
      "============================================================\n",
      "time elapsed: 2:01:50\n",
      "num of updates: 19400\n",
      "train total loss: 0.04959\n",
      "train state loss: 0.04162\n",
      "train reward loss: 0.00797\n",
      "val total loss: 0.03003\n",
      "val state loss: 0.02571\n",
      "val reward loss: 0.00431\n",
      "saving min loss model at: ./log/dt_halfcheetah_model_400_64_best.pt\n",
      "saving current model at: ./log/dt_halfcheetah_model_400_64.pt\n"
     ]
    },
    {
     "name": "stderr",
     "output_type": "stream",
     "text": [
      " 49%|████▉     | 195/400 [2:02:30<2:17:08, 40.14s/it]"
     ]
    },
    {
     "name": "stdout",
     "output_type": "stream",
     "text": [
      "============================================================\n",
      "time elapsed: 2:02:30\n",
      "num of updates: 19500\n",
      "train total loss: 0.04996\n",
      "train state loss: 0.04181\n",
      "train reward loss: 0.00815\n",
      "val total loss: 0.03164\n",
      "val state loss: 0.02721\n",
      "val reward loss: 0.00442\n",
      "saving min loss model at: ./log/dt_halfcheetah_model_400_64_best.pt\n",
      "saving current model at: ./log/dt_halfcheetah_model_400_64.pt\n"
     ]
    },
    {
     "name": "stderr",
     "output_type": "stream",
     "text": [
      " 49%|████▉     | 196/400 [2:03:11<2:17:51, 40.54s/it]"
     ]
    },
    {
     "name": "stdout",
     "output_type": "stream",
     "text": [
      "============================================================\n",
      "time elapsed: 2:03:11\n",
      "num of updates: 19600\n",
      "train total loss: 0.04987\n",
      "train state loss: 0.04180\n",
      "train reward loss: 0.00808\n",
      "val total loss: 0.02791\n",
      "val state loss: 0.02352\n",
      "val reward loss: 0.00439\n",
      "saving min loss model at: ./log/dt_halfcheetah_model_400_64_best.pt\n",
      "saving current model at: ./log/dt_halfcheetah_model_400_64.pt\n"
     ]
    },
    {
     "name": "stderr",
     "output_type": "stream",
     "text": [
      " 49%|████▉     | 197/400 [2:03:50<2:15:27, 40.04s/it]"
     ]
    },
    {
     "name": "stdout",
     "output_type": "stream",
     "text": [
      "============================================================\n",
      "time elapsed: 2:03:50\n",
      "num of updates: 19700\n",
      "train total loss: 0.04898\n",
      "train state loss: 0.04113\n",
      "train reward loss: 0.00786\n",
      "val total loss: 0.02875\n",
      "val state loss: 0.02472\n",
      "val reward loss: 0.00403\n",
      "saving min loss model at: ./log/dt_halfcheetah_model_400_64_best.pt\n",
      "saving current model at: ./log/dt_halfcheetah_model_400_64.pt\n"
     ]
    },
    {
     "name": "stderr",
     "output_type": "stream",
     "text": [
      " 50%|████▉     | 198/400 [2:04:30<2:14:33, 39.97s/it]"
     ]
    },
    {
     "name": "stdout",
     "output_type": "stream",
     "text": [
      "============================================================\n",
      "time elapsed: 2:04:30\n",
      "num of updates: 19800\n",
      "train total loss: 0.04972\n",
      "train state loss: 0.04170\n",
      "train reward loss: 0.00802\n",
      "val total loss: 0.03133\n",
      "val state loss: 0.02649\n",
      "val reward loss: 0.00484\n",
      "saving min loss model at: ./log/dt_halfcheetah_model_400_64_best.pt\n",
      "saving current model at: ./log/dt_halfcheetah_model_400_64.pt\n"
     ]
    },
    {
     "name": "stderr",
     "output_type": "stream",
     "text": [
      " 50%|████▉     | 199/400 [2:05:11<2:15:16, 40.38s/it]"
     ]
    },
    {
     "name": "stdout",
     "output_type": "stream",
     "text": [
      "============================================================\n",
      "time elapsed: 2:05:11\n",
      "num of updates: 19900\n",
      "train total loss: 0.04872\n",
      "train state loss: 0.04094\n",
      "train reward loss: 0.00778\n",
      "val total loss: 0.03048\n",
      "val state loss: 0.02502\n",
      "val reward loss: 0.00545\n",
      "saving min loss model at: ./log/dt_halfcheetah_model_400_64_best.pt\n",
      "saving current model at: ./log/dt_halfcheetah_model_400_64.pt\n"
     ]
    },
    {
     "name": "stderr",
     "output_type": "stream",
     "text": [
      " 50%|█████     | 200/400 [2:05:49<2:12:23, 39.72s/it]"
     ]
    },
    {
     "name": "stdout",
     "output_type": "stream",
     "text": [
      "============================================================\n",
      "time elapsed: 2:05:49\n",
      "num of updates: 20000\n",
      "train total loss: 0.04909\n",
      "train state loss: 0.04099\n",
      "train reward loss: 0.00810\n",
      "val total loss: 0.02839\n",
      "val state loss: 0.02420\n",
      "val reward loss: 0.00419\n",
      "saving min loss model at: ./log/dt_halfcheetah_model_400_64_best.pt\n",
      "saving current model at: ./log/dt_halfcheetah_model_400_64.pt\n"
     ]
    },
    {
     "name": "stderr",
     "output_type": "stream",
     "text": [
      " 50%|█████     | 201/400 [2:06:28<2:11:05, 39.52s/it]"
     ]
    },
    {
     "name": "stdout",
     "output_type": "stream",
     "text": [
      "============================================================\n",
      "time elapsed: 2:06:29\n",
      "num of updates: 20100\n",
      "train total loss: 0.04881\n",
      "train state loss: 0.04091\n",
      "train reward loss: 0.00790\n",
      "val total loss: 0.02925\n",
      "val state loss: 0.02425\n",
      "val reward loss: 0.00500\n",
      "saving min loss model at: ./log/dt_halfcheetah_model_400_64_best.pt\n",
      "saving current model at: ./log/dt_halfcheetah_model_400_64.pt\n"
     ]
    },
    {
     "name": "stderr",
     "output_type": "stream",
     "text": [
      " 50%|█████     | 202/400 [2:07:18<2:20:31, 42.58s/it]"
     ]
    },
    {
     "name": "stdout",
     "output_type": "stream",
     "text": [
      "============================================================\n",
      "time elapsed: 2:07:18\n",
      "num of updates: 20200\n",
      "train total loss: 0.04854\n",
      "train state loss: 0.04056\n",
      "train reward loss: 0.00798\n",
      "val total loss: 0.02882\n",
      "val state loss: 0.02449\n",
      "val reward loss: 0.00433\n",
      "saving min loss model at: ./log/dt_halfcheetah_model_400_64_best.pt\n",
      "saving current model at: ./log/dt_halfcheetah_model_400_64.pt\n"
     ]
    },
    {
     "name": "stderr",
     "output_type": "stream",
     "text": [
      " 51%|█████     | 203/400 [2:08:03<2:22:29, 43.40s/it]"
     ]
    },
    {
     "name": "stdout",
     "output_type": "stream",
     "text": [
      "============================================================\n",
      "time elapsed: 2:08:04\n",
      "num of updates: 20300\n",
      "train total loss: 0.04830\n",
      "train state loss: 0.04049\n",
      "train reward loss: 0.00781\n",
      "val total loss: 0.03032\n",
      "val state loss: 0.02544\n",
      "val reward loss: 0.00488\n",
      "saving min loss model at: ./log/dt_halfcheetah_model_400_64_best.pt\n",
      "saving current model at: ./log/dt_halfcheetah_model_400_64.pt\n"
     ]
    },
    {
     "name": "stderr",
     "output_type": "stream",
     "text": [
      " 51%|█████     | 204/400 [2:08:43<2:18:00, 42.25s/it]"
     ]
    },
    {
     "name": "stdout",
     "output_type": "stream",
     "text": [
      "============================================================\n",
      "time elapsed: 2:08:43\n",
      "num of updates: 20400\n",
      "train total loss: 0.04833\n",
      "train state loss: 0.04045\n",
      "train reward loss: 0.00788\n",
      "val total loss: 0.03055\n",
      "val state loss: 0.02556\n",
      "val reward loss: 0.00499\n",
      "saving min loss model at: ./log/dt_halfcheetah_model_400_64_best.pt\n",
      "saving current model at: ./log/dt_halfcheetah_model_400_64.pt\n"
     ]
    },
    {
     "name": "stderr",
     "output_type": "stream",
     "text": [
      " 51%|█████▏    | 205/400 [2:09:23<2:15:38, 41.73s/it]"
     ]
    },
    {
     "name": "stdout",
     "output_type": "stream",
     "text": [
      "============================================================\n",
      "time elapsed: 2:09:24\n",
      "num of updates: 20500\n",
      "train total loss: 0.04835\n",
      "train state loss: 0.04057\n",
      "train reward loss: 0.00778\n",
      "val total loss: 0.02841\n",
      "val state loss: 0.02378\n",
      "val reward loss: 0.00463\n",
      "saving min loss model at: ./log/dt_halfcheetah_model_400_64_best.pt\n",
      "saving current model at: ./log/dt_halfcheetah_model_400_64.pt\n"
     ]
    },
    {
     "name": "stderr",
     "output_type": "stream",
     "text": [
      " 52%|█████▏    | 206/400 [2:10:01<2:11:23, 40.64s/it]"
     ]
    },
    {
     "name": "stdout",
     "output_type": "stream",
     "text": [
      "============================================================\n",
      "time elapsed: 2:10:02\n",
      "num of updates: 20600\n",
      "train total loss: 0.04753\n",
      "train state loss: 0.03982\n",
      "train reward loss: 0.00771\n",
      "val total loss: 0.02729\n",
      "val state loss: 0.02376\n",
      "val reward loss: 0.00353\n",
      "saving min loss model at: ./log/dt_halfcheetah_model_400_64_best.pt\n",
      "saving current model at: ./log/dt_halfcheetah_model_400_64.pt\n"
     ]
    },
    {
     "name": "stderr",
     "output_type": "stream",
     "text": [
      " 52%|█████▏    | 207/400 [2:10:43<2:11:24, 40.85s/it]"
     ]
    },
    {
     "name": "stdout",
     "output_type": "stream",
     "text": [
      "============================================================\n",
      "time elapsed: 2:10:43\n",
      "num of updates: 20700\n",
      "train total loss: 0.04705\n",
      "train state loss: 0.03955\n",
      "train reward loss: 0.00750\n",
      "val total loss: 0.03094\n",
      "val state loss: 0.02579\n",
      "val reward loss: 0.00515\n",
      "saving min loss model at: ./log/dt_halfcheetah_model_400_64_best.pt\n",
      "saving current model at: ./log/dt_halfcheetah_model_400_64.pt\n"
     ]
    },
    {
     "name": "stderr",
     "output_type": "stream",
     "text": [
      " 52%|█████▏    | 208/400 [2:11:25<2:12:15, 41.33s/it]"
     ]
    },
    {
     "name": "stdout",
     "output_type": "stream",
     "text": [
      "============================================================\n",
      "time elapsed: 2:11:26\n",
      "num of updates: 20800\n",
      "train total loss: 0.04807\n",
      "train state loss: 0.04023\n",
      "train reward loss: 0.00784\n",
      "val total loss: 0.02963\n",
      "val state loss: 0.02475\n",
      "val reward loss: 0.00489\n",
      "saving min loss model at: ./log/dt_halfcheetah_model_400_64_best.pt\n",
      "saving current model at: ./log/dt_halfcheetah_model_400_64.pt\n"
     ]
    },
    {
     "name": "stderr",
     "output_type": "stream",
     "text": [
      " 52%|█████▏    | 209/400 [2:12:03<2:08:29, 40.36s/it]"
     ]
    },
    {
     "name": "stdout",
     "output_type": "stream",
     "text": [
      "============================================================\n",
      "time elapsed: 2:12:04\n",
      "num of updates: 20900\n",
      "train total loss: 0.04696\n",
      "train state loss: 0.03935\n",
      "train reward loss: 0.00762\n",
      "val total loss: 0.03091\n",
      "val state loss: 0.02556\n",
      "val reward loss: 0.00534\n",
      "saving min loss model at: ./log/dt_halfcheetah_model_400_64_best.pt\n",
      "saving current model at: ./log/dt_halfcheetah_model_400_64.pt\n"
     ]
    },
    {
     "name": "stderr",
     "output_type": "stream",
     "text": [
      " 52%|█████▎    | 210/400 [2:12:43<2:07:02, 40.12s/it]"
     ]
    },
    {
     "name": "stdout",
     "output_type": "stream",
     "text": [
      "============================================================\n",
      "time elapsed: 2:12:43\n",
      "num of updates: 21000\n",
      "train total loss: 0.04706\n",
      "train state loss: 0.03954\n",
      "train reward loss: 0.00752\n",
      "val total loss: 0.02866\n",
      "val state loss: 0.02462\n",
      "val reward loss: 0.00404\n",
      "saving min loss model at: ./log/dt_halfcheetah_model_400_64_best.pt\n",
      "saving current model at: ./log/dt_halfcheetah_model_400_64.pt\n"
     ]
    },
    {
     "name": "stderr",
     "output_type": "stream",
     "text": [
      " 53%|█████▎    | 211/400 [2:13:26<2:08:50, 40.90s/it]"
     ]
    },
    {
     "name": "stdout",
     "output_type": "stream",
     "text": [
      "============================================================\n",
      "time elapsed: 2:13:26\n",
      "num of updates: 21100\n",
      "train total loss: 0.04717\n",
      "train state loss: 0.03955\n",
      "train reward loss: 0.00762\n",
      "val total loss: 0.03090\n",
      "val state loss: 0.02499\n",
      "val reward loss: 0.00592\n",
      "saving min loss model at: ./log/dt_halfcheetah_model_400_64_best.pt\n",
      "saving current model at: ./log/dt_halfcheetah_model_400_64.pt\n"
     ]
    },
    {
     "name": "stderr",
     "output_type": "stream",
     "text": [
      " 53%|█████▎    | 212/400 [2:14:08<2:09:52, 41.45s/it]"
     ]
    },
    {
     "name": "stdout",
     "output_type": "stream",
     "text": [
      "============================================================\n",
      "time elapsed: 2:14:09\n",
      "num of updates: 21200\n",
      "train total loss: 0.04638\n",
      "train state loss: 0.03885\n",
      "train reward loss: 0.00753\n",
      "val total loss: 0.02940\n",
      "val state loss: 0.02411\n",
      "val reward loss: 0.00530\n",
      "saving min loss model at: ./log/dt_halfcheetah_model_400_64_best.pt\n",
      "saving current model at: ./log/dt_halfcheetah_model_400_64.pt\n"
     ]
    },
    {
     "name": "stderr",
     "output_type": "stream",
     "text": [
      " 53%|█████▎    | 213/400 [2:14:51<2:09:51, 41.66s/it]"
     ]
    },
    {
     "name": "stdout",
     "output_type": "stream",
     "text": [
      "============================================================\n",
      "time elapsed: 2:14:51\n",
      "num of updates: 21300\n",
      "train total loss: 0.04681\n",
      "train state loss: 0.03922\n",
      "train reward loss: 0.00759\n",
      "val total loss: 0.02992\n",
      "val state loss: 0.02537\n",
      "val reward loss: 0.00455\n",
      "saving min loss model at: ./log/dt_halfcheetah_model_400_64_best.pt\n",
      "saving current model at: ./log/dt_halfcheetah_model_400_64.pt\n"
     ]
    },
    {
     "name": "stderr",
     "output_type": "stream",
     "text": [
      " 54%|█████▎    | 214/400 [2:15:29<2:06:29, 40.80s/it]"
     ]
    },
    {
     "name": "stdout",
     "output_type": "stream",
     "text": [
      "============================================================\n",
      "time elapsed: 2:15:30\n",
      "num of updates: 21400\n",
      "train total loss: 0.04575\n",
      "train state loss: 0.03835\n",
      "train reward loss: 0.00740\n",
      "val total loss: 0.02801\n",
      "val state loss: 0.02399\n",
      "val reward loss: 0.00402\n",
      "saving min loss model at: ./log/dt_halfcheetah_model_400_64_best.pt\n",
      "saving current model at: ./log/dt_halfcheetah_model_400_64.pt\n"
     ]
    },
    {
     "name": "stderr",
     "output_type": "stream",
     "text": [
      " 54%|█████▍    | 215/400 [2:16:08<2:03:59, 40.21s/it]"
     ]
    },
    {
     "name": "stdout",
     "output_type": "stream",
     "text": [
      "============================================================\n",
      "time elapsed: 2:16:08\n",
      "num of updates: 21500\n",
      "train total loss: 0.04582\n",
      "train state loss: 0.03844\n",
      "train reward loss: 0.00738\n",
      "val total loss: 0.02551\n",
      "val state loss: 0.02129\n",
      "val reward loss: 0.00423\n",
      "saving min loss model at: ./log/dt_halfcheetah_model_400_64_best.pt\n",
      "saving current model at: ./log/dt_halfcheetah_model_400_64.pt\n"
     ]
    },
    {
     "name": "stderr",
     "output_type": "stream",
     "text": [
      " 54%|█████▍    | 216/400 [2:16:49<2:03:29, 40.27s/it]"
     ]
    },
    {
     "name": "stdout",
     "output_type": "stream",
     "text": [
      "============================================================\n",
      "time elapsed: 2:16:49\n",
      "num of updates: 21600\n",
      "train total loss: 0.04629\n",
      "train state loss: 0.03874\n",
      "train reward loss: 0.00755\n",
      "val total loss: 0.02999\n",
      "val state loss: 0.02382\n",
      "val reward loss: 0.00617\n",
      "saving min loss model at: ./log/dt_halfcheetah_model_400_64_best.pt\n",
      "saving current model at: ./log/dt_halfcheetah_model_400_64.pt\n"
     ]
    },
    {
     "name": "stderr",
     "output_type": "stream",
     "text": [
      " 54%|█████▍    | 217/400 [2:17:25<1:59:38, 39.22s/it]"
     ]
    },
    {
     "name": "stdout",
     "output_type": "stream",
     "text": [
      "============================================================\n",
      "time elapsed: 2:17:26\n",
      "num of updates: 21700\n",
      "train total loss: 0.04641\n",
      "train state loss: 0.03890\n",
      "train reward loss: 0.00751\n",
      "val total loss: 0.02778\n",
      "val state loss: 0.02318\n",
      "val reward loss: 0.00460\n",
      "saving min loss model at: ./log/dt_halfcheetah_model_400_64_best.pt\n",
      "saving current model at: ./log/dt_halfcheetah_model_400_64.pt\n"
     ]
    },
    {
     "name": "stderr",
     "output_type": "stream",
     "text": [
      " 55%|█████▍    | 218/400 [2:18:04<1:58:12, 38.97s/it]"
     ]
    },
    {
     "name": "stdout",
     "output_type": "stream",
     "text": [
      "============================================================\n",
      "time elapsed: 2:18:04\n",
      "num of updates: 21800\n",
      "train total loss: 0.04549\n",
      "train state loss: 0.03816\n",
      "train reward loss: 0.00734\n",
      "val total loss: 0.02760\n",
      "val state loss: 0.02338\n",
      "val reward loss: 0.00422\n",
      "saving min loss model at: ./log/dt_halfcheetah_model_400_64_best.pt\n",
      "saving current model at: ./log/dt_halfcheetah_model_400_64.pt\n"
     ]
    },
    {
     "name": "stderr",
     "output_type": "stream",
     "text": [
      " 55%|█████▍    | 219/400 [2:18:44<1:59:03, 39.47s/it]"
     ]
    },
    {
     "name": "stdout",
     "output_type": "stream",
     "text": [
      "============================================================\n",
      "time elapsed: 2:18:45\n",
      "num of updates: 21900\n",
      "train total loss: 0.04662\n",
      "train state loss: 0.03904\n",
      "train reward loss: 0.00758\n",
      "val total loss: 0.02712\n",
      "val state loss: 0.02260\n",
      "val reward loss: 0.00452\n",
      "saving min loss model at: ./log/dt_halfcheetah_model_400_64_best.pt\n",
      "saving current model at: ./log/dt_halfcheetah_model_400_64.pt\n"
     ]
    },
    {
     "name": "stderr",
     "output_type": "stream",
     "text": [
      " 55%|█████▌    | 220/400 [2:19:22<1:56:23, 38.80s/it]"
     ]
    },
    {
     "name": "stdout",
     "output_type": "stream",
     "text": [
      "============================================================\n",
      "time elapsed: 2:19:22\n",
      "num of updates: 22000\n",
      "train total loss: 0.04600\n",
      "train state loss: 0.03845\n",
      "train reward loss: 0.00754\n",
      "val total loss: 0.02734\n",
      "val state loss: 0.02350\n",
      "val reward loss: 0.00384\n",
      "saving min loss model at: ./log/dt_halfcheetah_model_400_64_best.pt\n",
      "saving current model at: ./log/dt_halfcheetah_model_400_64.pt\n"
     ]
    },
    {
     "name": "stderr",
     "output_type": "stream",
     "text": [
      " 55%|█████▌    | 221/400 [2:20:00<1:55:43, 38.79s/it]"
     ]
    },
    {
     "name": "stdout",
     "output_type": "stream",
     "text": [
      "============================================================\n",
      "time elapsed: 2:20:01\n",
      "num of updates: 22100\n",
      "train total loss: 0.04605\n",
      "train state loss: 0.03854\n",
      "train reward loss: 0.00751\n",
      "val total loss: 0.02615\n",
      "val state loss: 0.02247\n",
      "val reward loss: 0.00368\n",
      "saving min loss model at: ./log/dt_halfcheetah_model_400_64_best.pt\n",
      "saving current model at: ./log/dt_halfcheetah_model_400_64.pt\n"
     ]
    },
    {
     "name": "stderr",
     "output_type": "stream",
     "text": [
      " 56%|█████▌    | 222/400 [2:20:40<1:56:08, 39.15s/it]"
     ]
    },
    {
     "name": "stdout",
     "output_type": "stream",
     "text": [
      "============================================================\n",
      "time elapsed: 2:20:41\n",
      "num of updates: 22200\n",
      "train total loss: 0.04570\n",
      "train state loss: 0.03814\n",
      "train reward loss: 0.00756\n",
      "val total loss: 0.02609\n",
      "val state loss: 0.02236\n",
      "val reward loss: 0.00372\n",
      "saving min loss model at: ./log/dt_halfcheetah_model_400_64_best.pt\n",
      "saving current model at: ./log/dt_halfcheetah_model_400_64.pt\n"
     ]
    },
    {
     "name": "stderr",
     "output_type": "stream",
     "text": [
      " 56%|█████▌    | 223/400 [2:21:19<1:54:49, 38.92s/it]"
     ]
    },
    {
     "name": "stdout",
     "output_type": "stream",
     "text": [
      "============================================================\n",
      "time elapsed: 2:21:19\n",
      "num of updates: 22300\n",
      "train total loss: 0.04546\n",
      "train state loss: 0.03812\n",
      "train reward loss: 0.00734\n",
      "val total loss: 0.02659\n",
      "val state loss: 0.02244\n",
      "val reward loss: 0.00415\n",
      "saving min loss model at: ./log/dt_halfcheetah_model_400_64_best.pt\n",
      "saving current model at: ./log/dt_halfcheetah_model_400_64.pt\n"
     ]
    },
    {
     "name": "stderr",
     "output_type": "stream",
     "text": [
      " 56%|█████▌    | 224/400 [2:22:00<1:55:57, 39.53s/it]"
     ]
    },
    {
     "name": "stdout",
     "output_type": "stream",
     "text": [
      "============================================================\n",
      "time elapsed: 2:22:00\n",
      "num of updates: 22400\n",
      "train total loss: 0.04524\n",
      "train state loss: 0.03787\n",
      "train reward loss: 0.00737\n",
      "val total loss: 0.02588\n",
      "val state loss: 0.02253\n",
      "val reward loss: 0.00335\n",
      "saving min loss model at: ./log/dt_halfcheetah_model_400_64_best.pt\n",
      "saving current model at: ./log/dt_halfcheetah_model_400_64.pt\n"
     ]
    },
    {
     "name": "stderr",
     "output_type": "stream",
     "text": [
      " 56%|█████▋    | 225/400 [2:22:36<1:52:31, 38.58s/it]"
     ]
    },
    {
     "name": "stdout",
     "output_type": "stream",
     "text": [
      "============================================================\n",
      "time elapsed: 2:22:36\n",
      "num of updates: 22500\n",
      "train total loss: 0.04496\n",
      "train state loss: 0.03758\n",
      "train reward loss: 0.00739\n",
      "val total loss: 0.02565\n",
      "val state loss: 0.02203\n",
      "val reward loss: 0.00362\n",
      "saving min loss model at: ./log/dt_halfcheetah_model_400_64_best.pt\n",
      "saving current model at: ./log/dt_halfcheetah_model_400_64.pt\n"
     ]
    },
    {
     "name": "stderr",
     "output_type": "stream",
     "text": [
      " 56%|█████▋    | 226/400 [2:23:33<2:07:52, 44.09s/it]"
     ]
    },
    {
     "name": "stdout",
     "output_type": "stream",
     "text": [
      "============================================================\n",
      "time elapsed: 2:23:33\n",
      "num of updates: 22600\n",
      "train total loss: 0.04508\n",
      "train state loss: 0.03772\n",
      "train reward loss: 0.00736\n",
      "val total loss: 0.03070\n",
      "val state loss: 0.02560\n",
      "val reward loss: 0.00511\n",
      "saving min loss model at: ./log/dt_halfcheetah_model_400_64_best.pt\n",
      "saving current model at: ./log/dt_halfcheetah_model_400_64.pt\n"
     ]
    },
    {
     "name": "stderr",
     "output_type": "stream",
     "text": [
      " 57%|█████▋    | 227/400 [2:24:14<2:04:37, 43.22s/it]"
     ]
    },
    {
     "name": "stdout",
     "output_type": "stream",
     "text": [
      "============================================================\n",
      "time elapsed: 2:24:14\n",
      "num of updates: 22700\n",
      "train total loss: 0.04508\n",
      "train state loss: 0.03771\n",
      "train reward loss: 0.00737\n",
      "val total loss: 0.02764\n",
      "val state loss: 0.02356\n",
      "val reward loss: 0.00408\n",
      "saving min loss model at: ./log/dt_halfcheetah_model_400_64_best.pt\n",
      "saving current model at: ./log/dt_halfcheetah_model_400_64.pt\n"
     ]
    },
    {
     "name": "stderr",
     "output_type": "stream",
     "text": [
      " 57%|█████▋    | 228/400 [2:24:52<1:59:34, 41.71s/it]"
     ]
    },
    {
     "name": "stdout",
     "output_type": "stream",
     "text": [
      "============================================================\n",
      "time elapsed: 2:24:53\n",
      "num of updates: 22800\n",
      "train total loss: 0.04483\n",
      "train state loss: 0.03762\n",
      "train reward loss: 0.00721\n",
      "val total loss: 0.02637\n",
      "val state loss: 0.02239\n",
      "val reward loss: 0.00398\n",
      "saving min loss model at: ./log/dt_halfcheetah_model_400_64_best.pt\n",
      "saving current model at: ./log/dt_halfcheetah_model_400_64.pt\n"
     ]
    },
    {
     "name": "stderr",
     "output_type": "stream",
     "text": [
      " 57%|█████▋    | 229/400 [2:25:40<2:04:00, 43.51s/it]"
     ]
    },
    {
     "name": "stdout",
     "output_type": "stream",
     "text": [
      "============================================================\n",
      "time elapsed: 2:25:40\n",
      "num of updates: 22900\n",
      "train total loss: 0.04495\n",
      "train state loss: 0.03758\n",
      "train reward loss: 0.00737\n",
      "val total loss: 0.02680\n",
      "val state loss: 0.02275\n",
      "val reward loss: 0.00405\n",
      "saving min loss model at: ./log/dt_halfcheetah_model_400_64_best.pt\n",
      "saving current model at: ./log/dt_halfcheetah_model_400_64.pt\n"
     ]
    },
    {
     "name": "stderr",
     "output_type": "stream",
     "text": [
      " 57%|█████▊    | 230/400 [2:26:18<1:58:53, 41.96s/it]"
     ]
    },
    {
     "name": "stdout",
     "output_type": "stream",
     "text": [
      "============================================================\n",
      "time elapsed: 2:26:19\n",
      "num of updates: 23000\n",
      "train total loss: 0.04418\n",
      "train state loss: 0.03694\n",
      "train reward loss: 0.00724\n",
      "val total loss: 0.02484\n",
      "val state loss: 0.02105\n",
      "val reward loss: 0.00379\n",
      "saving min loss model at: ./log/dt_halfcheetah_model_400_64_best.pt\n",
      "saving current model at: ./log/dt_halfcheetah_model_400_64.pt\n"
     ]
    },
    {
     "name": "stderr",
     "output_type": "stream",
     "text": [
      " 58%|█████▊    | 231/400 [2:26:56<1:54:25, 40.62s/it]"
     ]
    },
    {
     "name": "stdout",
     "output_type": "stream",
     "text": [
      "============================================================\n",
      "time elapsed: 2:26:56\n",
      "num of updates: 23100\n",
      "train total loss: 0.04402\n",
      "train state loss: 0.03691\n",
      "train reward loss: 0.00711\n",
      "val total loss: 0.02751\n",
      "val state loss: 0.02353\n",
      "val reward loss: 0.00397\n",
      "saving min loss model at: ./log/dt_halfcheetah_model_400_64_best.pt\n",
      "saving current model at: ./log/dt_halfcheetah_model_400_64.pt\n"
     ]
    },
    {
     "name": "stderr",
     "output_type": "stream",
     "text": [
      " 58%|█████▊    | 232/400 [2:27:37<1:53:49, 40.65s/it]"
     ]
    },
    {
     "name": "stdout",
     "output_type": "stream",
     "text": [
      "============================================================\n",
      "time elapsed: 2:27:37\n",
      "num of updates: 23200\n",
      "train total loss: 0.04402\n",
      "train state loss: 0.03682\n",
      "train reward loss: 0.00721\n",
      "val total loss: 0.02594\n",
      "val state loss: 0.02209\n",
      "val reward loss: 0.00386\n",
      "saving min loss model at: ./log/dt_halfcheetah_model_400_64_best.pt\n",
      "saving current model at: ./log/dt_halfcheetah_model_400_64.pt\n"
     ]
    },
    {
     "name": "stderr",
     "output_type": "stream",
     "text": [
      " 58%|█████▊    | 233/400 [2:28:13<1:49:34, 39.37s/it]"
     ]
    },
    {
     "name": "stdout",
     "output_type": "stream",
     "text": [
      "============================================================\n",
      "time elapsed: 2:28:13\n",
      "num of updates: 23300\n",
      "train total loss: 0.04449\n",
      "train state loss: 0.03724\n",
      "train reward loss: 0.00725\n",
      "val total loss: 0.02871\n",
      "val state loss: 0.02362\n",
      "val reward loss: 0.00509\n",
      "saving min loss model at: ./log/dt_halfcheetah_model_400_64_best.pt\n",
      "saving current model at: ./log/dt_halfcheetah_model_400_64.pt\n"
     ]
    },
    {
     "name": "stderr",
     "output_type": "stream",
     "text": [
      " 58%|█████▊    | 234/400 [2:28:53<1:49:10, 39.46s/it]"
     ]
    },
    {
     "name": "stdout",
     "output_type": "stream",
     "text": [
      "============================================================\n",
      "time elapsed: 2:28:53\n",
      "num of updates: 23400\n",
      "train total loss: 0.04388\n",
      "train state loss: 0.03680\n",
      "train reward loss: 0.00707\n",
      "val total loss: 0.02643\n",
      "val state loss: 0.02261\n",
      "val reward loss: 0.00382\n",
      "saving min loss model at: ./log/dt_halfcheetah_model_400_64_best.pt\n",
      "saving current model at: ./log/dt_halfcheetah_model_400_64.pt\n"
     ]
    },
    {
     "name": "stderr",
     "output_type": "stream",
     "text": [
      " 59%|█████▉    | 235/400 [2:29:33<1:48:59, 39.63s/it]"
     ]
    },
    {
     "name": "stdout",
     "output_type": "stream",
     "text": [
      "============================================================\n",
      "time elapsed: 2:29:33\n",
      "num of updates: 23500\n",
      "train total loss: 0.04392\n",
      "train state loss: 0.03678\n",
      "train reward loss: 0.00714\n",
      "val total loss: 0.02856\n",
      "val state loss: 0.02261\n",
      "val reward loss: 0.00595\n",
      "saving min loss model at: ./log/dt_halfcheetah_model_400_64_best.pt\n",
      "saving current model at: ./log/dt_halfcheetah_model_400_64.pt\n"
     ]
    },
    {
     "name": "stderr",
     "output_type": "stream",
     "text": [
      " 59%|█████▉    | 236/400 [2:30:10<1:46:30, 38.96s/it]"
     ]
    },
    {
     "name": "stdout",
     "output_type": "stream",
     "text": [
      "============================================================\n",
      "time elapsed: 2:30:10\n",
      "num of updates: 23600\n",
      "train total loss: 0.04405\n",
      "train state loss: 0.03685\n",
      "train reward loss: 0.00720\n",
      "val total loss: 0.02851\n",
      "val state loss: 0.02415\n",
      "val reward loss: 0.00436\n",
      "saving min loss model at: ./log/dt_halfcheetah_model_400_64_best.pt\n",
      "saving current model at: ./log/dt_halfcheetah_model_400_64.pt\n"
     ]
    },
    {
     "name": "stderr",
     "output_type": "stream",
     "text": [
      " 59%|█████▉    | 237/400 [2:30:51<1:47:26, 39.55s/it]"
     ]
    },
    {
     "name": "stdout",
     "output_type": "stream",
     "text": [
      "============================================================\n",
      "time elapsed: 2:30:51\n",
      "num of updates: 23700\n",
      "train total loss: 0.04357\n",
      "train state loss: 0.03638\n",
      "train reward loss: 0.00719\n",
      "val total loss: 0.02462\n",
      "val state loss: 0.02105\n",
      "val reward loss: 0.00357\n",
      "saving min loss model at: ./log/dt_halfcheetah_model_400_64_best.pt\n",
      "saving current model at: ./log/dt_halfcheetah_model_400_64.pt\n"
     ]
    },
    {
     "name": "stderr",
     "output_type": "stream",
     "text": [
      " 60%|█████▉    | 238/400 [2:31:29<1:45:27, 39.06s/it]"
     ]
    },
    {
     "name": "stdout",
     "output_type": "stream",
     "text": [
      "============================================================\n",
      "time elapsed: 2:31:29\n",
      "num of updates: 23800\n",
      "train total loss: 0.04399\n",
      "train state loss: 0.03681\n",
      "train reward loss: 0.00718\n",
      "val total loss: 0.02452\n",
      "val state loss: 0.02135\n",
      "val reward loss: 0.00317\n",
      "saving min loss model at: ./log/dt_halfcheetah_model_400_64_best.pt\n",
      "saving current model at: ./log/dt_halfcheetah_model_400_64.pt\n"
     ]
    },
    {
     "name": "stderr",
     "output_type": "stream",
     "text": [
      " 60%|█████▉    | 239/400 [2:32:09<1:45:45, 39.41s/it]"
     ]
    },
    {
     "name": "stdout",
     "output_type": "stream",
     "text": [
      "============================================================\n",
      "time elapsed: 2:32:09\n",
      "num of updates: 23900\n",
      "train total loss: 0.04311\n",
      "train state loss: 0.03602\n",
      "train reward loss: 0.00709\n",
      "val total loss: 0.02607\n",
      "val state loss: 0.02232\n",
      "val reward loss: 0.00376\n",
      "saving min loss model at: ./log/dt_halfcheetah_model_400_64_best.pt\n",
      "saving current model at: ./log/dt_halfcheetah_model_400_64.pt\n"
     ]
    },
    {
     "name": "stderr",
     "output_type": "stream",
     "text": [
      " 60%|██████    | 240/400 [2:32:48<1:44:28, 39.18s/it]"
     ]
    },
    {
     "name": "stdout",
     "output_type": "stream",
     "text": [
      "============================================================\n",
      "time elapsed: 2:32:48\n",
      "num of updates: 24000\n",
      "train total loss: 0.04347\n",
      "train state loss: 0.03634\n",
      "train reward loss: 0.00713\n",
      "val total loss: 0.03053\n",
      "val state loss: 0.02512\n",
      "val reward loss: 0.00541\n",
      "saving min loss model at: ./log/dt_halfcheetah_model_400_64_best.pt\n",
      "saving current model at: ./log/dt_halfcheetah_model_400_64.pt\n"
     ]
    },
    {
     "name": "stderr",
     "output_type": "stream",
     "text": [
      " 60%|██████    | 241/400 [2:33:28<1:44:10, 39.31s/it]"
     ]
    },
    {
     "name": "stdout",
     "output_type": "stream",
     "text": [
      "============================================================\n",
      "time elapsed: 2:33:28\n",
      "num of updates: 24100\n",
      "train total loss: 0.04256\n",
      "train state loss: 0.03562\n",
      "train reward loss: 0.00695\n",
      "val total loss: 0.02409\n",
      "val state loss: 0.02056\n",
      "val reward loss: 0.00353\n",
      "saving min loss model at: ./log/dt_halfcheetah_model_400_64_best.pt\n",
      "saving current model at: ./log/dt_halfcheetah_model_400_64.pt\n"
     ]
    },
    {
     "name": "stderr",
     "output_type": "stream",
     "text": [
      " 60%|██████    | 242/400 [2:34:12<1:47:17, 40.74s/it]"
     ]
    },
    {
     "name": "stdout",
     "output_type": "stream",
     "text": [
      "============================================================\n",
      "time elapsed: 2:34:12\n",
      "num of updates: 24200\n",
      "train total loss: 0.04311\n",
      "train state loss: 0.03606\n",
      "train reward loss: 0.00705\n",
      "val total loss: 0.02502\n",
      "val state loss: 0.02155\n",
      "val reward loss: 0.00347\n",
      "saving min loss model at: ./log/dt_halfcheetah_model_400_64_best.pt\n",
      "saving current model at: ./log/dt_halfcheetah_model_400_64.pt\n"
     ]
    },
    {
     "name": "stderr",
     "output_type": "stream",
     "text": [
      " 61%|██████    | 243/400 [2:34:54<1:47:32, 41.10s/it]"
     ]
    },
    {
     "name": "stdout",
     "output_type": "stream",
     "text": [
      "============================================================\n",
      "time elapsed: 2:34:54\n",
      "num of updates: 24300\n",
      "train total loss: 0.04302\n",
      "train state loss: 0.03598\n",
      "train reward loss: 0.00704\n",
      "val total loss: 0.02428\n",
      "val state loss: 0.02099\n",
      "val reward loss: 0.00328\n",
      "saving min loss model at: ./log/dt_halfcheetah_model_400_64_best.pt\n",
      "saving current model at: ./log/dt_halfcheetah_model_400_64.pt\n"
     ]
    },
    {
     "name": "stderr",
     "output_type": "stream",
     "text": [
      " 61%|██████    | 244/400 [2:35:38<1:49:50, 42.25s/it]"
     ]
    },
    {
     "name": "stdout",
     "output_type": "stream",
     "text": [
      "============================================================\n",
      "time elapsed: 2:35:39\n",
      "num of updates: 24400\n",
      "train total loss: 0.04289\n",
      "train state loss: 0.03591\n",
      "train reward loss: 0.00697\n",
      "val total loss: 0.02484\n",
      "val state loss: 0.02148\n",
      "val reward loss: 0.00336\n",
      "saving min loss model at: ./log/dt_halfcheetah_model_400_64_best.pt\n",
      "saving current model at: ./log/dt_halfcheetah_model_400_64.pt\n"
     ]
    },
    {
     "name": "stderr",
     "output_type": "stream",
     "text": [
      " 61%|██████▏   | 245/400 [2:36:19<1:47:51, 41.75s/it]"
     ]
    },
    {
     "name": "stdout",
     "output_type": "stream",
     "text": [
      "============================================================\n",
      "time elapsed: 2:36:19\n",
      "num of updates: 24500\n",
      "train total loss: 0.04299\n",
      "train state loss: 0.03585\n",
      "train reward loss: 0.00713\n",
      "val total loss: 0.02447\n",
      "val state loss: 0.02114\n",
      "val reward loss: 0.00333\n",
      "saving min loss model at: ./log/dt_halfcheetah_model_400_64_best.pt\n",
      "saving current model at: ./log/dt_halfcheetah_model_400_64.pt\n"
     ]
    },
    {
     "name": "stderr",
     "output_type": "stream",
     "text": [
      " 62%|██████▏   | 246/400 [2:37:01<1:46:58, 41.68s/it]"
     ]
    },
    {
     "name": "stdout",
     "output_type": "stream",
     "text": [
      "============================================================\n",
      "time elapsed: 2:37:01\n",
      "num of updates: 24600\n",
      "train total loss: 0.04232\n",
      "train state loss: 0.03543\n",
      "train reward loss: 0.00690\n",
      "val total loss: 0.02464\n",
      "val state loss: 0.02161\n",
      "val reward loss: 0.00303\n",
      "saving min loss model at: ./log/dt_halfcheetah_model_400_64_best.pt\n",
      "saving current model at: ./log/dt_halfcheetah_model_400_64.pt\n"
     ]
    },
    {
     "name": "stderr",
     "output_type": "stream",
     "text": [
      " 62%|██████▏   | 247/400 [2:37:39<1:44:05, 40.82s/it]"
     ]
    },
    {
     "name": "stdout",
     "output_type": "stream",
     "text": [
      "============================================================\n",
      "time elapsed: 2:37:40\n",
      "num of updates: 24700\n",
      "train total loss: 0.04217\n",
      "train state loss: 0.03526\n",
      "train reward loss: 0.00691\n",
      "val total loss: 0.02720\n",
      "val state loss: 0.02245\n",
      "val reward loss: 0.00474\n",
      "saving min loss model at: ./log/dt_halfcheetah_model_400_64_best.pt\n",
      "saving current model at: ./log/dt_halfcheetah_model_400_64.pt\n"
     ]
    },
    {
     "name": "stderr",
     "output_type": "stream",
     "text": [
      " 62%|██████▏   | 248/400 [2:38:21<1:43:49, 40.98s/it]"
     ]
    },
    {
     "name": "stdout",
     "output_type": "stream",
     "text": [
      "============================================================\n",
      "time elapsed: 2:38:21\n",
      "num of updates: 24800\n",
      "train total loss: 0.04244\n",
      "train state loss: 0.03553\n",
      "train reward loss: 0.00690\n",
      "val total loss: 0.02915\n",
      "val state loss: 0.02379\n",
      "val reward loss: 0.00537\n",
      "saving min loss model at: ./log/dt_halfcheetah_model_400_64_best.pt\n",
      "saving current model at: ./log/dt_halfcheetah_model_400_64.pt\n"
     ]
    },
    {
     "name": "stderr",
     "output_type": "stream",
     "text": [
      " 62%|██████▏   | 249/400 [2:39:20<1:56:50, 46.42s/it]"
     ]
    },
    {
     "name": "stdout",
     "output_type": "stream",
     "text": [
      "============================================================\n",
      "time elapsed: 2:39:20\n",
      "num of updates: 24900\n",
      "train total loss: 0.04240\n",
      "train state loss: 0.03547\n",
      "train reward loss: 0.00693\n",
      "val total loss: 0.02792\n",
      "val state loss: 0.02260\n",
      "val reward loss: 0.00533\n",
      "saving min loss model at: ./log/dt_halfcheetah_model_400_64_best.pt\n",
      "saving current model at: ./log/dt_halfcheetah_model_400_64.pt\n"
     ]
    },
    {
     "name": "stderr",
     "output_type": "stream",
     "text": [
      " 62%|██████▎   | 250/400 [2:40:00<1:51:28, 44.59s/it]"
     ]
    },
    {
     "name": "stdout",
     "output_type": "stream",
     "text": [
      "============================================================\n",
      "time elapsed: 2:40:00\n",
      "num of updates: 25000\n",
      "train total loss: 0.04240\n",
      "train state loss: 0.03543\n",
      "train reward loss: 0.00697\n",
      "val total loss: 0.02757\n",
      "val state loss: 0.02345\n",
      "val reward loss: 0.00412\n",
      "saving min loss model at: ./log/dt_halfcheetah_model_400_64_best.pt\n",
      "saving current model at: ./log/dt_halfcheetah_model_400_64.pt\n"
     ]
    },
    {
     "name": "stderr",
     "output_type": "stream",
     "text": [
      " 63%|██████▎   | 251/400 [2:40:46<1:51:22, 44.85s/it]"
     ]
    },
    {
     "name": "stdout",
     "output_type": "stream",
     "text": [
      "============================================================\n",
      "time elapsed: 2:40:46\n",
      "num of updates: 25100\n",
      "train total loss: 0.04210\n",
      "train state loss: 0.03520\n",
      "train reward loss: 0.00689\n",
      "val total loss: 0.02810\n",
      "val state loss: 0.02387\n",
      "val reward loss: 0.00423\n",
      "saving min loss model at: ./log/dt_halfcheetah_model_400_64_best.pt\n",
      "saving current model at: ./log/dt_halfcheetah_model_400_64.pt\n"
     ]
    },
    {
     "name": "stderr",
     "output_type": "stream",
     "text": [
      " 63%|██████▎   | 252/400 [2:41:27<1:47:53, 43.74s/it]"
     ]
    },
    {
     "name": "stdout",
     "output_type": "stream",
     "text": [
      "============================================================\n",
      "time elapsed: 2:41:27\n",
      "num of updates: 25200\n",
      "train total loss: 0.04185\n",
      "train state loss: 0.03497\n",
      "train reward loss: 0.00687\n",
      "val total loss: 0.02609\n",
      "val state loss: 0.02229\n",
      "val reward loss: 0.00380\n",
      "saving min loss model at: ./log/dt_halfcheetah_model_400_64_best.pt\n",
      "saving current model at: ./log/dt_halfcheetah_model_400_64.pt\n"
     ]
    },
    {
     "name": "stderr",
     "output_type": "stream",
     "text": [
      " 63%|██████▎   | 253/400 [2:42:08<1:45:24, 43.02s/it]"
     ]
    },
    {
     "name": "stdout",
     "output_type": "stream",
     "text": [
      "============================================================\n",
      "time elapsed: 2:42:08\n",
      "num of updates: 25300\n",
      "train total loss: 0.04142\n",
      "train state loss: 0.03471\n",
      "train reward loss: 0.00671\n",
      "val total loss: 0.02670\n",
      "val state loss: 0.02250\n",
      "val reward loss: 0.00419\n",
      "saving min loss model at: ./log/dt_halfcheetah_model_400_64_best.pt\n",
      "saving current model at: ./log/dt_halfcheetah_model_400_64.pt\n"
     ]
    },
    {
     "name": "stderr",
     "output_type": "stream",
     "text": [
      " 64%|██████▎   | 254/400 [2:42:54<1:47:02, 43.99s/it]"
     ]
    },
    {
     "name": "stdout",
     "output_type": "stream",
     "text": [
      "============================================================\n",
      "time elapsed: 2:42:55\n",
      "num of updates: 25400\n",
      "train total loss: 0.04117\n",
      "train state loss: 0.03451\n",
      "train reward loss: 0.00666\n",
      "val total loss: 0.02688\n",
      "val state loss: 0.02263\n",
      "val reward loss: 0.00425\n",
      "saving min loss model at: ./log/dt_halfcheetah_model_400_64_best.pt\n",
      "saving current model at: ./log/dt_halfcheetah_model_400_64.pt\n"
     ]
    },
    {
     "name": "stderr",
     "output_type": "stream",
     "text": [
      " 64%|██████▍   | 255/400 [2:43:35<1:43:43, 42.92s/it]"
     ]
    },
    {
     "name": "stdout",
     "output_type": "stream",
     "text": [
      "============================================================\n",
      "time elapsed: 2:43:35\n",
      "num of updates: 25500\n",
      "train total loss: 0.04187\n",
      "train state loss: 0.03501\n",
      "train reward loss: 0.00686\n",
      "val total loss: 0.02536\n",
      "val state loss: 0.02186\n",
      "val reward loss: 0.00350\n",
      "saving min loss model at: ./log/dt_halfcheetah_model_400_64_best.pt\n",
      "saving current model at: ./log/dt_halfcheetah_model_400_64.pt\n"
     ]
    },
    {
     "name": "stderr",
     "output_type": "stream",
     "text": [
      " 64%|██████▍   | 256/400 [2:44:13<1:39:42, 41.55s/it]"
     ]
    },
    {
     "name": "stdout",
     "output_type": "stream",
     "text": [
      "============================================================\n",
      "time elapsed: 2:44:13\n",
      "num of updates: 25600\n",
      "train total loss: 0.04129\n",
      "train state loss: 0.03465\n",
      "train reward loss: 0.00665\n",
      "val total loss: 0.02399\n",
      "val state loss: 0.02055\n",
      "val reward loss: 0.00344\n",
      "saving min loss model at: ./log/dt_halfcheetah_model_400_64_best.pt\n",
      "saving current model at: ./log/dt_halfcheetah_model_400_64.pt\n"
     ]
    },
    {
     "name": "stderr",
     "output_type": "stream",
     "text": [
      " 64%|██████▍   | 257/400 [2:44:54<1:38:17, 41.24s/it]"
     ]
    },
    {
     "name": "stdout",
     "output_type": "stream",
     "text": [
      "============================================================\n",
      "time elapsed: 2:44:54\n",
      "num of updates: 25700\n",
      "train total loss: 0.04109\n",
      "train state loss: 0.03450\n",
      "train reward loss: 0.00660\n",
      "val total loss: 0.02370\n",
      "val state loss: 0.02030\n",
      "val reward loss: 0.00340\n",
      "saving min loss model at: ./log/dt_halfcheetah_model_400_64_best.pt\n",
      "saving current model at: ./log/dt_halfcheetah_model_400_64.pt\n"
     ]
    },
    {
     "name": "stderr",
     "output_type": "stream",
     "text": [
      " 64%|██████▍   | 258/400 [2:45:31<1:35:02, 40.16s/it]"
     ]
    },
    {
     "name": "stdout",
     "output_type": "stream",
     "text": [
      "============================================================\n",
      "time elapsed: 2:45:31\n",
      "num of updates: 25800\n",
      "train total loss: 0.04162\n",
      "train state loss: 0.03488\n",
      "train reward loss: 0.00674\n",
      "val total loss: 0.02271\n",
      "val state loss: 0.01992\n",
      "val reward loss: 0.00279\n",
      "saving min loss model at: ./log/dt_halfcheetah_model_400_64_best.pt\n",
      "saving current model at: ./log/dt_halfcheetah_model_400_64.pt\n"
     ]
    },
    {
     "name": "stderr",
     "output_type": "stream",
     "text": [
      " 65%|██████▍   | 259/400 [2:46:09<1:32:41, 39.44s/it]"
     ]
    },
    {
     "name": "stdout",
     "output_type": "stream",
     "text": [
      "============================================================\n",
      "time elapsed: 2:46:09\n",
      "num of updates: 25900\n",
      "train total loss: 0.04030\n",
      "train state loss: 0.03391\n",
      "train reward loss: 0.00639\n",
      "val total loss: 0.02485\n",
      "val state loss: 0.02105\n",
      "val reward loss: 0.00379\n",
      "saving min loss model at: ./log/dt_halfcheetah_model_400_64_best.pt\n",
      "saving current model at: ./log/dt_halfcheetah_model_400_64.pt\n"
     ]
    },
    {
     "name": "stderr",
     "output_type": "stream",
     "text": [
      " 65%|██████▌   | 260/400 [2:46:51<1:33:42, 40.16s/it]"
     ]
    },
    {
     "name": "stdout",
     "output_type": "stream",
     "text": [
      "============================================================\n",
      "time elapsed: 2:46:51\n",
      "num of updates: 26000\n",
      "train total loss: 0.04190\n",
      "train state loss: 0.03503\n",
      "train reward loss: 0.00687\n",
      "val total loss: 0.02456\n",
      "val state loss: 0.02144\n",
      "val reward loss: 0.00312\n",
      "saving min loss model at: ./log/dt_halfcheetah_model_400_64_best.pt\n",
      "saving current model at: ./log/dt_halfcheetah_model_400_64.pt\n"
     ]
    },
    {
     "name": "stderr",
     "output_type": "stream",
     "text": [
      " 65%|██████▌   | 261/400 [2:47:29<1:31:52, 39.66s/it]"
     ]
    },
    {
     "name": "stdout",
     "output_type": "stream",
     "text": [
      "============================================================\n",
      "time elapsed: 2:47:30\n",
      "num of updates: 26100\n",
      "train total loss: 0.04100\n",
      "train state loss: 0.03429\n",
      "train reward loss: 0.00670\n",
      "val total loss: 0.02501\n",
      "val state loss: 0.02153\n",
      "val reward loss: 0.00347\n",
      "saving min loss model at: ./log/dt_halfcheetah_model_400_64_best.pt\n",
      "saving current model at: ./log/dt_halfcheetah_model_400_64.pt\n"
     ]
    },
    {
     "name": "stderr",
     "output_type": "stream",
     "text": [
      " 66%|██████▌   | 262/400 [2:48:10<1:31:32, 39.80s/it]"
     ]
    },
    {
     "name": "stdout",
     "output_type": "stream",
     "text": [
      "============================================================\n",
      "time elapsed: 2:48:10\n",
      "num of updates: 26200\n",
      "train total loss: 0.04107\n",
      "train state loss: 0.03436\n",
      "train reward loss: 0.00671\n",
      "val total loss: 0.02304\n",
      "val state loss: 0.01944\n",
      "val reward loss: 0.00361\n",
      "saving min loss model at: ./log/dt_halfcheetah_model_400_64_best.pt\n",
      "saving current model at: ./log/dt_halfcheetah_model_400_64.pt\n"
     ]
    },
    {
     "name": "stderr",
     "output_type": "stream",
     "text": [
      " 66%|██████▌   | 263/400 [2:48:50<1:31:10, 39.93s/it]"
     ]
    },
    {
     "name": "stdout",
     "output_type": "stream",
     "text": [
      "============================================================\n",
      "time elapsed: 2:48:50\n",
      "num of updates: 26300\n",
      "train total loss: 0.04115\n",
      "train state loss: 0.03450\n",
      "train reward loss: 0.00665\n",
      "val total loss: 0.02391\n",
      "val state loss: 0.02091\n",
      "val reward loss: 0.00300\n",
      "saving min loss model at: ./log/dt_halfcheetah_model_400_64_best.pt\n",
      "saving current model at: ./log/dt_halfcheetah_model_400_64.pt\n"
     ]
    },
    {
     "name": "stderr",
     "output_type": "stream",
     "text": [
      " 66%|██████▌   | 264/400 [2:49:30<1:30:43, 40.03s/it]"
     ]
    },
    {
     "name": "stdout",
     "output_type": "stream",
     "text": [
      "============================================================\n",
      "time elapsed: 2:49:30\n",
      "num of updates: 26400\n",
      "train total loss: 0.04056\n",
      "train state loss: 0.03394\n",
      "train reward loss: 0.00662\n",
      "val total loss: 0.02941\n",
      "val state loss: 0.02283\n",
      "val reward loss: 0.00657\n",
      "saving min loss model at: ./log/dt_halfcheetah_model_400_64_best.pt\n",
      "saving current model at: ./log/dt_halfcheetah_model_400_64.pt\n"
     ]
    },
    {
     "name": "stderr",
     "output_type": "stream",
     "text": [
      " 66%|██████▋   | 265/400 [2:50:11<1:30:27, 40.21s/it]"
     ]
    },
    {
     "name": "stdout",
     "output_type": "stream",
     "text": [
      "============================================================\n",
      "time elapsed: 2:50:11\n",
      "num of updates: 26500\n",
      "train total loss: 0.04117\n",
      "train state loss: 0.03438\n",
      "train reward loss: 0.00679\n",
      "val total loss: 0.02525\n",
      "val state loss: 0.02086\n",
      "val reward loss: 0.00439\n",
      "saving min loss model at: ./log/dt_halfcheetah_model_400_64_best.pt\n",
      "saving current model at: ./log/dt_halfcheetah_model_400_64.pt\n"
     ]
    },
    {
     "name": "stderr",
     "output_type": "stream",
     "text": [
      " 66%|██████▋   | 266/400 [2:50:48<1:27:59, 39.40s/it]"
     ]
    },
    {
     "name": "stdout",
     "output_type": "stream",
     "text": [
      "============================================================\n",
      "time elapsed: 2:50:48\n",
      "num of updates: 26600\n",
      "train total loss: 0.04042\n",
      "train state loss: 0.03384\n",
      "train reward loss: 0.00658\n",
      "val total loss: 0.02546\n",
      "val state loss: 0.02125\n",
      "val reward loss: 0.00421\n",
      "saving min loss model at: ./log/dt_halfcheetah_model_400_64_best.pt\n",
      "saving current model at: ./log/dt_halfcheetah_model_400_64.pt\n"
     ]
    },
    {
     "name": "stderr",
     "output_type": "stream",
     "text": [
      " 67%|██████▋   | 267/400 [2:51:30<1:28:49, 40.07s/it]"
     ]
    },
    {
     "name": "stdout",
     "output_type": "stream",
     "text": [
      "============================================================\n",
      "time elapsed: 2:51:30\n",
      "num of updates: 26700\n",
      "train total loss: 0.04092\n",
      "train state loss: 0.03426\n",
      "train reward loss: 0.00666\n",
      "val total loss: 0.02617\n",
      "val state loss: 0.02192\n",
      "val reward loss: 0.00425\n",
      "saving min loss model at: ./log/dt_halfcheetah_model_400_64_best.pt\n",
      "saving current model at: ./log/dt_halfcheetah_model_400_64.pt\n"
     ]
    },
    {
     "name": "stderr",
     "output_type": "stream",
     "text": [
      " 67%|██████▋   | 268/400 [2:52:18<1:33:48, 42.64s/it]"
     ]
    },
    {
     "name": "stdout",
     "output_type": "stream",
     "text": [
      "============================================================\n",
      "time elapsed: 2:52:19\n",
      "num of updates: 26800\n",
      "train total loss: 0.04003\n",
      "train state loss: 0.03351\n",
      "train reward loss: 0.00652\n",
      "val total loss: 0.02258\n",
      "val state loss: 0.01936\n",
      "val reward loss: 0.00323\n",
      "saving min loss model at: ./log/dt_halfcheetah_model_400_64_best.pt\n",
      "saving current model at: ./log/dt_halfcheetah_model_400_64.pt\n"
     ]
    },
    {
     "name": "stderr",
     "output_type": "stream",
     "text": [
      " 67%|██████▋   | 269/400 [2:53:43<2:00:52, 55.37s/it]"
     ]
    },
    {
     "name": "stdout",
     "output_type": "stream",
     "text": [
      "============================================================\n",
      "time elapsed: 2:53:44\n",
      "num of updates: 26900\n",
      "train total loss: 0.04025\n",
      "train state loss: 0.03371\n",
      "train reward loss: 0.00653\n",
      "val total loss: 0.02633\n",
      "val state loss: 0.02132\n",
      "val reward loss: 0.00501\n",
      "saving min loss model at: ./log/dt_halfcheetah_model_400_64_best.pt\n",
      "saving current model at: ./log/dt_halfcheetah_model_400_64.pt\n"
     ]
    },
    {
     "name": "stderr",
     "output_type": "stream",
     "text": [
      " 68%|██████▊   | 270/400 [2:55:20<2:26:34, 67.65s/it]"
     ]
    },
    {
     "name": "stdout",
     "output_type": "stream",
     "text": [
      "============================================================\n",
      "time elapsed: 2:55:20\n",
      "num of updates: 27000\n",
      "train total loss: 0.03971\n",
      "train state loss: 0.03337\n",
      "train reward loss: 0.00635\n",
      "val total loss: 0.02522\n",
      "val state loss: 0.02154\n",
      "val reward loss: 0.00368\n",
      "saving min loss model at: ./log/dt_halfcheetah_model_400_64_best.pt\n",
      "saving current model at: ./log/dt_halfcheetah_model_400_64.pt\n"
     ]
    },
    {
     "name": "stderr",
     "output_type": "stream",
     "text": [
      " 68%|██████▊   | 271/400 [2:56:08<2:12:53, 61.81s/it]"
     ]
    },
    {
     "name": "stdout",
     "output_type": "stream",
     "text": [
      "============================================================\n",
      "time elapsed: 2:56:08\n",
      "num of updates: 27100\n",
      "train total loss: 0.04001\n",
      "train state loss: 0.03354\n",
      "train reward loss: 0.00647\n",
      "val total loss: 0.02299\n",
      "val state loss: 0.01928\n",
      "val reward loss: 0.00371\n",
      "saving min loss model at: ./log/dt_halfcheetah_model_400_64_best.pt\n",
      "saving current model at: ./log/dt_halfcheetah_model_400_64.pt\n"
     ]
    },
    {
     "name": "stderr",
     "output_type": "stream",
     "text": [
      " 68%|██████▊   | 272/400 [2:57:01<2:06:28, 59.29s/it]"
     ]
    },
    {
     "name": "stdout",
     "output_type": "stream",
     "text": [
      "============================================================\n",
      "time elapsed: 2:57:02\n",
      "num of updates: 27200\n",
      "train total loss: 0.03993\n",
      "train state loss: 0.03344\n",
      "train reward loss: 0.00649\n",
      "val total loss: 0.02355\n",
      "val state loss: 0.02006\n",
      "val reward loss: 0.00349\n",
      "saving min loss model at: ./log/dt_halfcheetah_model_400_64_best.pt\n",
      "saving current model at: ./log/dt_halfcheetah_model_400_64.pt\n"
     ]
    },
    {
     "name": "stderr",
     "output_type": "stream",
     "text": [
      " 68%|██████▊   | 273/400 [2:58:03<2:07:05, 60.04s/it]"
     ]
    },
    {
     "name": "stdout",
     "output_type": "stream",
     "text": [
      "============================================================\n",
      "time elapsed: 2:58:03\n",
      "num of updates: 27300\n",
      "train total loss: 0.04014\n",
      "train state loss: 0.03369\n",
      "train reward loss: 0.00646\n",
      "val total loss: 0.02375\n",
      "val state loss: 0.02018\n",
      "val reward loss: 0.00358\n",
      "saving min loss model at: ./log/dt_halfcheetah_model_400_64_best.pt\n",
      "saving current model at: ./log/dt_halfcheetah_model_400_64.pt\n"
     ]
    },
    {
     "name": "stderr",
     "output_type": "stream",
     "text": [
      " 68%|██████▊   | 274/400 [2:59:05<2:06:57, 60.45s/it]"
     ]
    },
    {
     "name": "stdout",
     "output_type": "stream",
     "text": [
      "============================================================\n",
      "time elapsed: 2:59:05\n",
      "num of updates: 27400\n",
      "train total loss: 0.03992\n",
      "train state loss: 0.03341\n",
      "train reward loss: 0.00652\n",
      "val total loss: 0.02496\n",
      "val state loss: 0.02107\n",
      "val reward loss: 0.00389\n",
      "saving min loss model at: ./log/dt_halfcheetah_model_400_64_best.pt\n",
      "saving current model at: ./log/dt_halfcheetah_model_400_64.pt\n"
     ]
    },
    {
     "name": "stderr",
     "output_type": "stream",
     "text": [
      " 69%|██████▉   | 275/400 [2:59:54<1:59:13, 57.23s/it]"
     ]
    },
    {
     "name": "stdout",
     "output_type": "stream",
     "text": [
      "============================================================\n",
      "time elapsed: 2:59:55\n",
      "num of updates: 27500\n",
      "train total loss: 0.03945\n",
      "train state loss: 0.03305\n",
      "train reward loss: 0.00639\n",
      "val total loss: 0.02407\n",
      "val state loss: 0.02025\n",
      "val reward loss: 0.00381\n",
      "saving min loss model at: ./log/dt_halfcheetah_model_400_64_best.pt\n",
      "saving current model at: ./log/dt_halfcheetah_model_400_64.pt\n"
     ]
    },
    {
     "name": "stderr",
     "output_type": "stream",
     "text": [
      " 69%|██████▉   | 276/400 [3:00:48<1:55:47, 56.03s/it]"
     ]
    },
    {
     "name": "stdout",
     "output_type": "stream",
     "text": [
      "============================================================\n",
      "time elapsed: 3:00:48\n",
      "num of updates: 27600\n",
      "train total loss: 0.03969\n",
      "train state loss: 0.03324\n",
      "train reward loss: 0.00645\n",
      "val total loss: 0.02268\n",
      "val state loss: 0.01941\n",
      "val reward loss: 0.00328\n",
      "saving min loss model at: ./log/dt_halfcheetah_model_400_64_best.pt\n",
      "saving current model at: ./log/dt_halfcheetah_model_400_64.pt\n"
     ]
    },
    {
     "name": "stderr",
     "output_type": "stream",
     "text": [
      " 69%|██████▉   | 277/400 [3:01:40<1:52:32, 54.89s/it]"
     ]
    },
    {
     "name": "stdout",
     "output_type": "stream",
     "text": [
      "============================================================\n",
      "time elapsed: 3:01:40\n",
      "num of updates: 27700\n",
      "train total loss: 0.03928\n",
      "train state loss: 0.03284\n",
      "train reward loss: 0.00644\n",
      "val total loss: 0.02184\n",
      "val state loss: 0.01899\n",
      "val reward loss: 0.00285\n",
      "saving min loss model at: ./log/dt_halfcheetah_model_400_64_best.pt\n",
      "saving current model at: ./log/dt_halfcheetah_model_400_64.pt\n"
     ]
    },
    {
     "name": "stderr",
     "output_type": "stream",
     "text": [
      " 70%|██████▉   | 278/400 [3:02:25<1:45:50, 52.05s/it]"
     ]
    },
    {
     "name": "stdout",
     "output_type": "stream",
     "text": [
      "============================================================\n",
      "time elapsed: 3:02:25\n",
      "num of updates: 27800\n",
      "train total loss: 0.03901\n",
      "train state loss: 0.03271\n",
      "train reward loss: 0.00630\n",
      "val total loss: 0.02501\n",
      "val state loss: 0.02151\n",
      "val reward loss: 0.00350\n",
      "saving min loss model at: ./log/dt_halfcheetah_model_400_64_best.pt\n",
      "saving current model at: ./log/dt_halfcheetah_model_400_64.pt\n"
     ]
    },
    {
     "name": "stderr",
     "output_type": "stream",
     "text": [
      " 70%|██████▉   | 279/400 [3:03:20<1:46:43, 52.92s/it]"
     ]
    },
    {
     "name": "stdout",
     "output_type": "stream",
     "text": [
      "============================================================\n",
      "time elapsed: 3:03:20\n",
      "num of updates: 27900\n",
      "train total loss: 0.03938\n",
      "train state loss: 0.03294\n",
      "train reward loss: 0.00644\n",
      "val total loss: 0.02315\n",
      "val state loss: 0.01963\n",
      "val reward loss: 0.00352\n",
      "saving min loss model at: ./log/dt_halfcheetah_model_400_64_best.pt\n",
      "saving current model at: ./log/dt_halfcheetah_model_400_64.pt\n"
     ]
    },
    {
     "name": "stderr",
     "output_type": "stream",
     "text": [
      " 70%|███████   | 280/400 [3:04:12<1:45:05, 52.54s/it]"
     ]
    },
    {
     "name": "stdout",
     "output_type": "stream",
     "text": [
      "============================================================\n",
      "time elapsed: 3:04:12\n",
      "num of updates: 28000\n",
      "train total loss: 0.03936\n",
      "train state loss: 0.03292\n",
      "train reward loss: 0.00644\n",
      "val total loss: 0.02302\n",
      "val state loss: 0.01959\n",
      "val reward loss: 0.00343\n",
      "saving min loss model at: ./log/dt_halfcheetah_model_400_64_best.pt\n",
      "saving current model at: ./log/dt_halfcheetah_model_400_64.pt\n"
     ]
    },
    {
     "name": "stderr",
     "output_type": "stream",
     "text": [
      " 70%|███████   | 281/400 [3:05:00<1:41:55, 51.39s/it]"
     ]
    },
    {
     "name": "stdout",
     "output_type": "stream",
     "text": [
      "============================================================\n",
      "time elapsed: 3:05:01\n",
      "num of updates: 28100\n",
      "train total loss: 0.03940\n",
      "train state loss: 0.03299\n",
      "train reward loss: 0.00642\n",
      "val total loss: 0.02568\n",
      "val state loss: 0.02160\n",
      "val reward loss: 0.00408\n",
      "saving min loss model at: ./log/dt_halfcheetah_model_400_64_best.pt\n",
      "saving current model at: ./log/dt_halfcheetah_model_400_64.pt\n"
     ]
    },
    {
     "name": "stderr",
     "output_type": "stream",
     "text": [
      " 70%|███████   | 282/400 [3:05:53<1:41:34, 51.65s/it]"
     ]
    },
    {
     "name": "stdout",
     "output_type": "stream",
     "text": [
      "============================================================\n",
      "time elapsed: 3:05:53\n",
      "num of updates: 28200\n",
      "train total loss: 0.03857\n",
      "train state loss: 0.03232\n",
      "train reward loss: 0.00624\n",
      "val total loss: 0.02473\n",
      "val state loss: 0.02040\n",
      "val reward loss: 0.00433\n",
      "saving min loss model at: ./log/dt_halfcheetah_model_400_64_best.pt\n",
      "saving current model at: ./log/dt_halfcheetah_model_400_64.pt\n"
     ]
    },
    {
     "name": "stderr",
     "output_type": "stream",
     "text": [
      " 71%|███████   | 283/400 [3:06:39<1:37:26, 49.97s/it]"
     ]
    },
    {
     "name": "stdout",
     "output_type": "stream",
     "text": [
      "============================================================\n",
      "time elapsed: 3:06:39\n",
      "num of updates: 28300\n",
      "train total loss: 0.03872\n",
      "train state loss: 0.03249\n",
      "train reward loss: 0.00623\n",
      "val total loss: 0.02511\n",
      "val state loss: 0.02070\n",
      "val reward loss: 0.00441\n",
      "saving min loss model at: ./log/dt_halfcheetah_model_400_64_best.pt\n",
      "saving current model at: ./log/dt_halfcheetah_model_400_64.pt\n"
     ]
    },
    {
     "name": "stderr",
     "output_type": "stream",
     "text": [
      " 71%|███████   | 284/400 [3:07:27<1:35:51, 49.58s/it]"
     ]
    },
    {
     "name": "stdout",
     "output_type": "stream",
     "text": [
      "============================================================\n",
      "time elapsed: 3:07:28\n",
      "num of updates: 28400\n",
      "train total loss: 0.03875\n",
      "train state loss: 0.03230\n",
      "train reward loss: 0.00645\n",
      "val total loss: 0.02267\n",
      "val state loss: 0.01907\n",
      "val reward loss: 0.00361\n",
      "saving min loss model at: ./log/dt_halfcheetah_model_400_64_best.pt\n",
      "saving current model at: ./log/dt_halfcheetah_model_400_64.pt\n"
     ]
    },
    {
     "name": "stderr",
     "output_type": "stream",
     "text": [
      " 71%|███████▏  | 285/400 [3:08:21<1:37:05, 50.65s/it]"
     ]
    },
    {
     "name": "stdout",
     "output_type": "stream",
     "text": [
      "============================================================\n",
      "time elapsed: 3:08:21\n",
      "num of updates: 28500\n",
      "train total loss: 0.03834\n",
      "train state loss: 0.03214\n",
      "train reward loss: 0.00620\n",
      "val total loss: 0.02465\n",
      "val state loss: 0.02122\n",
      "val reward loss: 0.00343\n",
      "saving min loss model at: ./log/dt_halfcheetah_model_400_64_best.pt\n",
      "saving current model at: ./log/dt_halfcheetah_model_400_64.pt\n"
     ]
    },
    {
     "name": "stderr",
     "output_type": "stream",
     "text": [
      " 72%|███████▏  | 286/400 [3:09:09<1:34:43, 49.86s/it]"
     ]
    },
    {
     "name": "stdout",
     "output_type": "stream",
     "text": [
      "============================================================\n",
      "time elapsed: 3:09:09\n",
      "num of updates: 28600\n",
      "train total loss: 0.03851\n",
      "train state loss: 0.03232\n",
      "train reward loss: 0.00619\n",
      "val total loss: 0.02287\n",
      "val state loss: 0.01952\n",
      "val reward loss: 0.00335\n",
      "saving min loss model at: ./log/dt_halfcheetah_model_400_64_best.pt\n",
      "saving current model at: ./log/dt_halfcheetah_model_400_64.pt\n"
     ]
    },
    {
     "name": "stderr",
     "output_type": "stream",
     "text": [
      " 72%|███████▏  | 287/400 [3:10:01<1:35:12, 50.56s/it]"
     ]
    },
    {
     "name": "stdout",
     "output_type": "stream",
     "text": [
      "============================================================\n",
      "time elapsed: 3:10:01\n",
      "num of updates: 28700\n",
      "train total loss: 0.03839\n",
      "train state loss: 0.03215\n",
      "train reward loss: 0.00624\n",
      "val total loss: 0.02527\n",
      "val state loss: 0.02099\n",
      "val reward loss: 0.00428\n",
      "saving min loss model at: ./log/dt_halfcheetah_model_400_64_best.pt\n",
      "saving current model at: ./log/dt_halfcheetah_model_400_64.pt\n"
     ]
    },
    {
     "name": "stderr",
     "output_type": "stream",
     "text": [
      " 72%|███████▏  | 288/400 [3:11:12<1:45:48, 56.68s/it]"
     ]
    },
    {
     "name": "stdout",
     "output_type": "stream",
     "text": [
      "============================================================\n",
      "time elapsed: 3:11:12\n",
      "num of updates: 28800\n",
      "train total loss: 0.03887\n",
      "train state loss: 0.03247\n",
      "train reward loss: 0.00640\n",
      "val total loss: 0.02378\n",
      "val state loss: 0.01996\n",
      "val reward loss: 0.00382\n",
      "saving min loss model at: ./log/dt_halfcheetah_model_400_64_best.pt\n",
      "saving current model at: ./log/dt_halfcheetah_model_400_64.pt\n"
     ]
    },
    {
     "name": "stderr",
     "output_type": "stream",
     "text": [
      " 72%|███████▏  | 289/400 [3:12:02<1:41:14, 54.72s/it]"
     ]
    },
    {
     "name": "stdout",
     "output_type": "stream",
     "text": [
      "============================================================\n",
      "time elapsed: 3:12:02\n",
      "num of updates: 28900\n",
      "train total loss: 0.03815\n",
      "train state loss: 0.03206\n",
      "train reward loss: 0.00609\n",
      "val total loss: 0.02445\n",
      "val state loss: 0.02084\n",
      "val reward loss: 0.00361\n",
      "saving min loss model at: ./log/dt_halfcheetah_model_400_64_best.pt\n",
      "saving current model at: ./log/dt_halfcheetah_model_400_64.pt\n"
     ]
    },
    {
     "name": "stderr",
     "output_type": "stream",
     "text": [
      " 72%|███████▎  | 290/400 [3:12:56<1:40:10, 54.64s/it]"
     ]
    },
    {
     "name": "stdout",
     "output_type": "stream",
     "text": [
      "============================================================\n",
      "time elapsed: 3:12:57\n",
      "num of updates: 29000\n",
      "train total loss: 0.03849\n",
      "train state loss: 0.03208\n",
      "train reward loss: 0.00640\n",
      "val total loss: 0.02406\n",
      "val state loss: 0.02026\n",
      "val reward loss: 0.00380\n",
      "saving min loss model at: ./log/dt_halfcheetah_model_400_64_best.pt\n",
      "saving current model at: ./log/dt_halfcheetah_model_400_64.pt\n"
     ]
    },
    {
     "name": "stderr",
     "output_type": "stream",
     "text": [
      " 73%|███████▎  | 291/400 [3:13:59<1:43:33, 57.00s/it]"
     ]
    },
    {
     "name": "stdout",
     "output_type": "stream",
     "text": [
      "============================================================\n",
      "time elapsed: 3:13:59\n",
      "num of updates: 29100\n",
      "train total loss: 0.03807\n",
      "train state loss: 0.03189\n",
      "train reward loss: 0.00619\n",
      "val total loss: 0.02301\n",
      "val state loss: 0.01919\n",
      "val reward loss: 0.00382\n",
      "saving min loss model at: ./log/dt_halfcheetah_model_400_64_best.pt\n",
      "saving current model at: ./log/dt_halfcheetah_model_400_64.pt\n"
     ]
    },
    {
     "name": "stderr",
     "output_type": "stream",
     "text": [
      " 73%|███████▎  | 292/400 [3:14:45<1:36:55, 53.85s/it]"
     ]
    },
    {
     "name": "stdout",
     "output_type": "stream",
     "text": [
      "============================================================\n",
      "time elapsed: 3:14:46\n",
      "num of updates: 29200\n",
      "train total loss: 0.03809\n",
      "train state loss: 0.03197\n",
      "train reward loss: 0.00612\n",
      "val total loss: 0.02228\n",
      "val state loss: 0.01895\n",
      "val reward loss: 0.00333\n",
      "saving min loss model at: ./log/dt_halfcheetah_model_400_64_best.pt\n",
      "saving current model at: ./log/dt_halfcheetah_model_400_64.pt\n"
     ]
    },
    {
     "name": "stderr",
     "output_type": "stream",
     "text": [
      " 73%|███████▎  | 293/400 [3:15:34<1:33:29, 52.42s/it]"
     ]
    },
    {
     "name": "stdout",
     "output_type": "stream",
     "text": [
      "============================================================\n",
      "time elapsed: 3:15:35\n",
      "num of updates: 29300\n",
      "train total loss: 0.03867\n",
      "train state loss: 0.03216\n",
      "train reward loss: 0.00650\n",
      "val total loss: 0.02342\n",
      "val state loss: 0.01955\n",
      "val reward loss: 0.00386\n",
      "saving min loss model at: ./log/dt_halfcheetah_model_400_64_best.pt\n",
      "saving current model at: ./log/dt_halfcheetah_model_400_64.pt\n"
     ]
    },
    {
     "name": "stderr",
     "output_type": "stream",
     "text": [
      " 74%|███████▎  | 294/400 [3:16:13<1:25:16, 48.27s/it]"
     ]
    },
    {
     "name": "stdout",
     "output_type": "stream",
     "text": [
      "============================================================\n",
      "time elapsed: 3:16:13\n",
      "num of updates: 29400\n",
      "train total loss: 0.03828\n",
      "train state loss: 0.03208\n",
      "train reward loss: 0.00620\n",
      "val total loss: 0.02306\n",
      "val state loss: 0.01984\n",
      "val reward loss: 0.00322\n",
      "saving min loss model at: ./log/dt_halfcheetah_model_400_64_best.pt\n",
      "saving current model at: ./log/dt_halfcheetah_model_400_64.pt\n"
     ]
    },
    {
     "name": "stderr",
     "output_type": "stream",
     "text": [
      " 74%|███████▍  | 295/400 [3:17:04<1:26:04, 49.19s/it]"
     ]
    },
    {
     "name": "stdout",
     "output_type": "stream",
     "text": [
      "============================================================\n",
      "time elapsed: 3:17:05\n",
      "num of updates: 29500\n",
      "train total loss: 0.03725\n",
      "train state loss: 0.03123\n",
      "train reward loss: 0.00602\n",
      "val total loss: 0.02291\n",
      "val state loss: 0.01937\n",
      "val reward loss: 0.00354\n",
      "saving min loss model at: ./log/dt_halfcheetah_model_400_64_best.pt\n",
      "saving current model at: ./log/dt_halfcheetah_model_400_64.pt\n"
     ]
    },
    {
     "name": "stderr",
     "output_type": "stream",
     "text": [
      " 74%|███████▍  | 296/400 [3:17:56<1:26:35, 49.95s/it]"
     ]
    },
    {
     "name": "stdout",
     "output_type": "stream",
     "text": [
      "============================================================\n",
      "time elapsed: 3:17:56\n",
      "num of updates: 29600\n",
      "train total loss: 0.03814\n",
      "train state loss: 0.03181\n",
      "train reward loss: 0.00633\n",
      "val total loss: 0.02396\n",
      "val state loss: 0.02019\n",
      "val reward loss: 0.00376\n",
      "saving min loss model at: ./log/dt_halfcheetah_model_400_64_best.pt\n",
      "saving current model at: ./log/dt_halfcheetah_model_400_64.pt\n"
     ]
    },
    {
     "name": "stderr",
     "output_type": "stream",
     "text": [
      " 74%|███████▍  | 297/400 [3:18:44<1:24:31, 49.24s/it]"
     ]
    },
    {
     "name": "stdout",
     "output_type": "stream",
     "text": [
      "============================================================\n",
      "time elapsed: 3:18:44\n",
      "num of updates: 29700\n",
      "train total loss: 0.03805\n",
      "train state loss: 0.03171\n",
      "train reward loss: 0.00634\n",
      "val total loss: 0.02340\n",
      "val state loss: 0.01969\n",
      "val reward loss: 0.00371\n",
      "saving min loss model at: ./log/dt_halfcheetah_model_400_64_best.pt\n",
      "saving current model at: ./log/dt_halfcheetah_model_400_64.pt\n"
     ]
    }
   ],
   "source": [
    "start_time = datetime.now().replace(microsecond=0)\n",
    "\n",
    "start_time_str = start_time.strftime(\"%y-%m-%d-%H-%M-%S\")\n",
    "\n",
    "prefix = \"dt_\" + env_name\n",
    "\n",
    "save_model_name =  prefix + \"_model_\" + str(max_train_iters) + \"_\" + str(batch_size) + \".pt\"\n",
    "save_model_path = os.path.join(LOG_PATH, save_model_name)\n",
    "save_best_model_path = save_model_path[:-3] + \"_best.pt\"\n",
    "\n",
    "log_csv_name = prefix + \"_log_\" + start_time_str + \".csv\"\n",
    "log_csv_path = os.path.join(LOG_PATH, log_csv_name)\n",
    "\n",
    "\n",
    "csv_writer = csv.writer(open(log_csv_path, 'a', 1))\n",
    "csv_header = ([\"duration\", \"num_updates\", \"total_loss\", \"state_loss\", \"reward_loss\", \"val_total_loss\", \"val_state_loss\", \"val_reward_loss\"])\n",
    "\n",
    "csv_writer.writerow(csv_header)\n",
    "\n",
    "\n",
    "print(\"=\" * 60)\n",
    "print(\"start time: \" + start_time_str)\n",
    "print(\"=\" * 60)\n",
    "\n",
    "print(\"device set to: \" + str(DEVICE))\n",
    "print(\"dataset path: \" + DATA_PATH)\n",
    "print(\"model save path: \" + save_model_path)\n",
    "print(\"log csv save path: \" + log_csv_path)\n",
    "\n",
    "# train\n",
    "for i_train_iter in tqdm(range(max_train_iters)):\n",
    "\n",
    "\n",
    "\tlog_state_losses, log_reward_losses, log_total_losses = [], [], []\n",
    "\tval_log_state_losses, val_log_reward_losses, val_log_total_losses = [], [], []\n",
    "\tmodel.train()\n",
    "\t\n",
    "\tfor _ in range(num_updates_per_iter):\n",
    "\t\ttry:\n",
    "\t\t\ttimesteps, states, next_states, actions, rewards, traj_mask = next(data_iter)\n",
    "\t\texcept StopIteration:\n",
    "\t\t\ttraj_data_loader = DataLoader(traj_dataset,\n",
    "\t\t\t\t\t\tbatch_size=batch_size,\n",
    "\t\t\t\t\t\tshuffle=True,\n",
    "\t\t\t\t\t\tpin_memory=True,\n",
    "\t\t\t\t\t\tdrop_last=True)\n",
    "\t\t\tdata_iter = iter(traj_data_loader)\n",
    "\t\t\ttimesteps, states, next_states, actions, rewards, traj_mask = next(data_iter)\n",
    "\n",
    "\t\ttimesteps = timesteps.to(DEVICE)\t# B x T\n",
    "\t\tstates = states.to(DEVICE)\t\t\t# B x T x state_dim\n",
    "\t\tnext_states = next_states.to(DEVICE) # B X T X state_dim\n",
    "\t\tactions = actions.to(DEVICE)\t\t# B x T x act_dim\n",
    "\t\trewards = rewards.to(DEVICE).unsqueeze(dim=-1) # B x T x 1\n",
    "\t\ttraj_mask = traj_mask.to(DEVICE)\t# B x T\n",
    "\n",
    "\t\tnext_states_target = torch.clone(next_states).detach().to(DEVICE)\n",
    "\t\trewards_target = torch.clone(rewards).detach().to(DEVICE)\n",
    "\t\n",
    "\t\tnext_state_preds, rewards_preds = model.forward(\n",
    "\t\t\t\t\t\t\t\t\t\t\t\t\t\ttimesteps=timesteps,\n",
    "\t\t\t\t\t\t\t\t\t\t\t\t\t\tstates=states,\n",
    "\t\t\t\t\t\t\t\t\t\t\t\t\t\tactions=actions,\n",
    "\t\t\t\t\t\t\t\t\t\t\t\t\t\trewards=rewards,\n",
    "\t\t\t\t\t\t\t\t\t\t\t\t\t)\n",
    "\n",
    "\t\t# only consider non padded elements\n",
    "\t\tnext_state_preds = next_state_preds.view(-1, state_dim)[traj_mask.view(-1,) > 0]\n",
    "\t\tnext_states_target = next_states_target.view(-1, state_dim)[traj_mask.view(-1,) > 0]\n",
    "\t\t\n",
    "\t\trewards_preds = rewards_preds.view(-1, 1)[traj_mask.view(-1,) > 0]\n",
    "\t\trewards_target = rewards_target.view(-1, 1)[traj_mask.view(-1,) > 0]\n",
    "\n",
    "\t\tstate_loss = F.mse_loss(next_state_preds, next_states_target, reduction='mean') * state_weight\n",
    "\t\treward_loss = F.mse_loss(rewards_preds, rewards_target, reduction='mean') * reward_weight\n",
    "\t\t\n",
    "\t\ttotal_loss = state_loss.add(reward_loss)\n",
    "\t\ttotal_loss = torch.mean(total_loss)\n",
    "\n",
    "\t\toptimizer.zero_grad()\n",
    "\t\ttotal_loss.backward()\n",
    "\t\ttorch.nn.utils.clip_grad_norm_(model.parameters(), 0.25)\n",
    "\t\toptimizer.step()\n",
    "\t\tscheduler.step()\n",
    "\t\t\n",
    "\t\t\n",
    "\t\t#save loss\n",
    "\t\tlog_state_losses.append(state_loss.detach().cpu().item())\n",
    "\t\tlog_reward_losses.append(reward_loss.detach().cpu().item())\n",
    "\t\t\n",
    "\t\tlog_total_losses.append(total_loss.detach().cpu().item())\n",
    "\t\t\n",
    "\t# validation\n",
    "\tmodel.eval()\n",
    "\tfor val_timesteps, val_states, val_next_states, val_actions, val_rewards, val_traj_mask in val_traj_data_loader:\n",
    "\t\t\n",
    "\t\tval_timesteps = val_timesteps.to(DEVICE)\t# B x T\n",
    "\t\tval_states = val_states.to(DEVICE)\t\t\t# B x T x state_dim\n",
    "\t\tval_next_states = val_next_states.to(DEVICE) # B X T X state_dim\n",
    "\t\tval_actions = val_actions.to(DEVICE)\t\t# B x T x act_dim\n",
    "\t\tval_rewards = val_rewards.to(DEVICE).unsqueeze(dim=-1) # B x T x 1\n",
    "\t\tval_traj_mask = val_traj_mask.to(DEVICE)\t# B x T\n",
    "\t\t\t\t\n",
    "\t\tval_next_states_target = torch.clone(val_next_states).detach().to(DEVICE)\n",
    "\t\tval_rewards_target = torch.clone(val_rewards).detach().to(DEVICE)\n",
    "\t\t\n",
    "\t\tval_next_state_preds, val_rewards_preds = model.forward(\n",
    "\t\t\t\t\t\t\t\t\t\t\t\t\t\ttimesteps=val_timesteps,\n",
    "\t\t\t\t\t\t\t\t\t\t\t\t\t\tstates=val_states,\n",
    "\t\t\t\t\t\t\t\t\t\t\t\t\t\tactions=val_actions,\n",
    "\t\t\t\t\t\t\t\t\t\t\t\t\t\trewards=val_rewards,\n",
    "\t\t\t\t\t\t\t\t\t\t\t\t\t)\n",
    "\t\t\t\t\t\t\t\t\t\t\t\t\t\n",
    "\t\t# only consider non padded elements\n",
    "\t\tval_next_state_preds = val_next_state_preds.view(-1, state_dim)[traj_mask.view(-1,) > 0]\n",
    "\t\tval_next_states_target = val_next_states_target.view(-1, state_dim)[traj_mask.view(-1,) > 0]\n",
    "\t\t\n",
    "\t\tval_rewards_preds = val_rewards_preds.view(-1, 1)[traj_mask.view(-1,) > 0]\n",
    "\t\tval_rewards_target = val_rewards_target.view(-1, 1)[traj_mask.view(-1,) > 0]\n",
    "\n",
    "\t\tval_state_loss = F.mse_loss(val_next_state_preds, val_next_states_target, reduction='mean') * state_weight\n",
    "\t\tval_reward_loss = F.mse_loss(val_rewards_preds, val_rewards_target, reduction='mean') * reward_weight\n",
    "\n",
    "\t\t# todo: try to use mae\n",
    "\t\t\n",
    "\t\tval_total_loss = val_state_loss.add(val_reward_loss)\n",
    "\t\tval_total_loss = torch.mean(val_total_loss)\n",
    "\t\t\n",
    "\t\t# save val loss\n",
    "\t\tval_log_state_losses.append(val_state_loss.detach().cpu().item())\n",
    "\t\tval_log_reward_losses.append(val_reward_loss.detach().cpu().item())\n",
    "\t\t\n",
    "\t\tval_log_total_losses.append(val_total_loss.detach().cpu().item())\n",
    "\t\n",
    "\tmean_total_log_loss = np.mean(log_total_losses)\n",
    "\tmean_state_log_loss = np.mean(log_state_losses)\n",
    "\tmean_reward_log_loss = np.mean(log_reward_losses)\n",
    "\t\n",
    "\tmean_val_total_log_loss = np.mean(val_log_total_losses)\n",
    "\tmean_val_state_log_loss = np.mean(val_log_state_losses)\n",
    "\tmean_val_reward_log_loss = np.mean(val_log_reward_losses)\n",
    "\n",
    "\ttime_elapsed = str(datetime.now().replace(microsecond=0) - start_time)\n",
    "\n",
    "\ttotal_updates += num_updates_per_iter\n",
    "\n",
    "\tlog_str = (\"=\" * 60 + '\\n' +\n",
    "\t\t\t\"time elapsed: \" + time_elapsed  + '\\n' +\n",
    "\t\t\t\"num of updates: \" + str(total_updates) + '\\n' +\n",
    "\t\t\t\"train total loss: \" + format(mean_total_log_loss, \".5f\") + '\\n' +\n",
    "\t\t\t\"train state loss: \" + format(mean_state_log_loss, \".5f\") + '\\n' +\n",
    "\t\t\t\"train reward loss: \" +  format(mean_reward_log_loss, \".5f\") + '\\n' +\n",
    "\t\t\t\"val total loss: \" + format(mean_val_total_log_loss, \".5f\") + '\\n' +\n",
    "\t\t\t\"val state loss: \" + format(mean_val_state_log_loss, \".5f\") + '\\n' +\n",
    "\t\t\t\"val reward loss: \" +  format(mean_val_reward_log_loss, \".5f\")\n",
    "\t\t\t)\n",
    "\n",
    "\tprint(log_str)\n",
    "\n",
    "\tlog_data = [time_elapsed, total_updates, mean_total_log_loss, mean_state_log_loss, mean_reward_log_loss, \\\n",
    "\t\t mean_val_total_log_loss, mean_val_state_log_loss, mean_val_reward_log_loss]\n",
    "\n",
    "\tcsv_writer.writerow(log_data)\n",
    "\t\n",
    "\t# save model\n",
    "\tif mean_val_total_log_loss <= min_total_log_loss:\n",
    "\t\tprint(\"saving min loss model at: \" + save_best_model_path)\n",
    "\t\ttorch.save(model.state_dict(), save_best_model_path)\n",
    "\t\tmin_total_log_loss = mean_val_total_log_loss\n",
    "\n",
    "\tprint(\"saving current model at: \" + save_model_path)\n",
    "\ttorch.save(model.state_dict(), save_model_path)\n",
    "\n",
    "\n",
    "print(\"=\" * 60)\n",
    "print(\"finished training!\")\n",
    "print(\"=\" * 60)\n",
    "end_time = datetime.now().replace(microsecond=0)\n",
    "time_elapsed = str(end_time - start_time)\n",
    "end_time_str = end_time.strftime(\"%y-%m-%d-%H-%M-%S\")\n",
    "print(\"started training at: \" + start_time_str)\n",
    "print(\"finished training at: \" + end_time_str)\n",
    "print(\"total training time: \" + time_elapsed)\n",
    "print(\"saved min loss model at: \" + save_best_model_path)\n",
    "print(\"saved last updated model at: \" + save_model_path)\n",
    "print(\"=\" * 60)"
   ]
  },
  {
   "cell_type": "code",
   "execution_count": null,
   "metadata": {},
   "outputs": [],
   "source": []
  },
  {
   "cell_type": "code",
   "execution_count": null,
   "metadata": {},
   "outputs": [],
   "source": []
  }
 ],
 "metadata": {
  "kernelspec": {
   "display_name": "Python 3.10.14 ('rl_diffusion')",
   "language": "python",
   "name": "python3"
  },
  "language_info": {
   "codemirror_mode": {
    "name": "ipython",
    "version": 3
   },
   "file_extension": ".py",
   "mimetype": "text/x-python",
   "name": "python",
   "nbconvert_exporter": "python",
   "pygments_lexer": "ipython3",
   "version": "3.10.14"
  },
  "orig_nbformat": 4,
  "vscode": {
   "interpreter": {
    "hash": "aaa54a55e816925fdb1964dae2307e16b21383867fc9aac098dfe4376e4c067b"
   }
  }
 },
 "nbformat": 4,
 "nbformat_minor": 2
}
